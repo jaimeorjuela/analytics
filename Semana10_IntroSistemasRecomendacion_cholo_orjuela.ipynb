{
 "cells": [
  {
   "cell_type": "markdown",
   "metadata": {},
   "source": [
    "<br><h1 align=\"Center\"> <img src=\"https://serea2017.uniandes.edu.co/images/Logo.png\" height=\"60\" width=\"200\" align=\"Center\" />MIIA-4203 MODELOS AVANZADOS PARA ANÁLISIS DE DATOS II</h1>\n",
    "<h2 align=\"Center\">\n",
    "Presentado por:<br>\n",
    "Fabián Cholo Acevedo - Cód 201523509<br>\n",
    "Jaime Orjuela Viracacha - Cód 201924252<br>\n",
    "</h2>\n",
    "\n",
    "# Introducción a Sistemas de Recomendación\n",
    "\n",
    "## Actividad 10\n",
    "\n",
    "\n",
    "### Profesor: Camilo Franco (c.franco31@uniandes.edu.co)\n",
    "\n",
    "\n",
    "**Instrucciones:** Por favor escriba los nombres de los integrantes de su grupo. Esta actividad debe ser entregada a más tardar dentro de 8 días, con la respuesta para los ejercicios y preguntas en cada numeral.\n",
    "\n",
    "En este cuadernos estudiaremos una primera introducción a los sistemas de recomendación, examinando un modelo de recomendación en base a la popularidad, sin ningún grado de personalización. En futuras actividades exploraremos otros sistemas basados en contenido o en filtrado colaborativo, los cuales toman en cuenta las preferencias de los usuarios. \n",
    "\n",
    "Los sistemas de recomendación están entre las aplicaciones más populares de la ciencia de datos actualmente. El marco que ofrecen estos sistemas permite representar modelos de decisión junto con métodos estadístico/computacionales para **aprender y estimar** las preferencias de los usuarios. \n"
   ]
  },
  {
   "cell_type": "markdown",
   "metadata": {},
   "source": [
    "## Introducción\n",
    "\n",
    "En esta introducción vamos a construir un modelo simple basado en popularidad. Aprenderemos nociones que nos permitirán construir modelos más complejos de recomendación. \n",
    "\n",
    "En este cuaderno vamos a trabajar con una base de datos de películas IMDB (https://www.imdb.com/) \n",
    "\n",
    "En términos generales, los sistemas de recomendación pueden clasificarse en 3 tipos:\n",
    "\n",
    "- **Recomendadores simples:** genera recomendaciones para cada usuario según la popularidad del ítem o producto. Por ejemplo, proponer películas o un género en base a su popularidad o su crítica, donde una buena crítica aproxima una mayor probabilidad de que la película sea apreciada por una audiencia \"promedio\".\n",
    "- **Recomendadores basados en contenido:** sugiere elementos similares en función de un elemento en particular, como por ejemplo el género, la sinopsis o el reparto (actores, etc). De esta manera, si el usuario tiene unas preferencias específicas sobre un ítem/artículo en particular, también podría tener preferencia por un ítem *similar*.\n",
    "- **Recomendadores por filtrado colaborativo:** estos sistemas generan recomendaciones a partir de similitudes entre usuarios, prediciendo la calificación o preferencia de un usuario sobre un ítem, o un grupo de atributos de dicho ítem, según las calificaciones y preferencias observadas de otros usuarios. \n",
    "\n",
    "Por último se puede considerar también un cuarto tipo de recomendadores, que son los de tipo **Híbrido**. Estos hacen referencia al uso simultaneo de las distintas metodologias antes señaladas y de múltiples fuentes de información o tecnologías específicas, como pueden ser las redes sociales o fuentes de información geográfica, demográfica, etc.\n",
    "\n",
    "Para profundizar en los sistemas de recomendación se pueden consultar las siguientes fuentes:\n",
    "- Ch. Aggarwal. Recommender Systems. Springer, 2016.\n",
    "- J. Leskovec, A. Rajaraman, J. Ullman. Mining of Massive Datasets. Cambridge University Press (http://www.mmds.org/)\n"
   ]
  },
  {
   "cell_type": "markdown",
   "metadata": {},
   "source": [
    "## 1. Sistema de recomendación simple"
   ]
  },
  {
   "cell_type": "markdown",
   "metadata": {},
   "source": [
    "Los recomendadores simples generan recomendaciones basadas en su popularidad, de acuerdo con una *preferencia promedio*. \n",
    "\n",
    "La pregunta es,\n",
    "\n",
    "**¿cómo medimos la popularidad de un producto/ítem?**\n",
    "\n",
    "Una opción es la de elegir una métrica determinada para puntuar las películas, y en base a esa métrica generar un valor de preferencia por el ítem. De esta manera es posible consturir un *orden lineal* o un *ranking estricto* con las mejores películas de la base de datos IMDB.\n",
    "\n",
    "Pasos a seguir:\n",
    "- Elegir la métrica con la que se va a calificar cada película. Este punto también se puede entender como un modelo para estimar las preferencias por una película.\n",
    "- Calcular el valor de preferencia sobre cada película.\n",
    "- Ordenar las películas según su valor o puntuación y obtener una lista con las mejores k peliculas.\n",
    "\n",
    "Manos a la obra, primero carguemos el conjunto de datos como un data frame en la bilbioteca Pandas:"
   ]
  },
  {
   "cell_type": "code",
   "execution_count": 1,
   "metadata": {},
   "outputs": [
    {
     "name": "stdout",
     "output_type": "stream",
     "text": [
      "(45466, 24)\n"
     ]
    },
    {
     "data": {
      "text/plain": [
       "['adult',\n",
       " 'belongs_to_collection',\n",
       " 'budget',\n",
       " 'genres',\n",
       " 'homepage',\n",
       " 'id',\n",
       " 'imdb_id',\n",
       " 'original_language',\n",
       " 'original_title',\n",
       " 'overview',\n",
       " 'popularity',\n",
       " 'poster_path',\n",
       " 'production_companies',\n",
       " 'production_countries',\n",
       " 'release_date',\n",
       " 'revenue',\n",
       " 'runtime',\n",
       " 'spoken_languages',\n",
       " 'status',\n",
       " 'tagline',\n",
       " 'title',\n",
       " 'video',\n",
       " 'vote_average',\n",
       " 'vote_count']"
      ]
     },
     "execution_count": 1,
     "metadata": {},
     "output_type": "execute_result"
    }
   ],
   "source": [
    "# Importamos la biblioteca Pandas\n",
    "import pandas as pd\n",
    "\n",
    "# Cargamos los datos de peliculas de la base de datos IMDB\n",
    "metadata = pd.read_csv('movies_metadata.csv', low_memory=False)\n",
    "\n",
    "print(metadata.shape)\n",
    "      \n",
    "list(metadata)\n"
   ]
  },
  {
   "cell_type": "code",
   "execution_count": 2,
   "metadata": {},
   "outputs": [
    {
     "data": {
      "text/html": [
       "<div>\n",
       "<style scoped>\n",
       "    .dataframe tbody tr th:only-of-type {\n",
       "        vertical-align: middle;\n",
       "    }\n",
       "\n",
       "    .dataframe tbody tr th {\n",
       "        vertical-align: top;\n",
       "    }\n",
       "\n",
       "    .dataframe thead th {\n",
       "        text-align: right;\n",
       "    }\n",
       "</style>\n",
       "<table border=\"1\" class=\"dataframe\">\n",
       "  <thead>\n",
       "    <tr style=\"text-align: right;\">\n",
       "      <th></th>\n",
       "      <th>adult</th>\n",
       "      <th>belongs_to_collection</th>\n",
       "      <th>budget</th>\n",
       "      <th>genres</th>\n",
       "      <th>homepage</th>\n",
       "      <th>id</th>\n",
       "      <th>imdb_id</th>\n",
       "      <th>original_language</th>\n",
       "      <th>original_title</th>\n",
       "      <th>overview</th>\n",
       "      <th>...</th>\n",
       "      <th>release_date</th>\n",
       "      <th>revenue</th>\n",
       "      <th>runtime</th>\n",
       "      <th>spoken_languages</th>\n",
       "      <th>status</th>\n",
       "      <th>tagline</th>\n",
       "      <th>title</th>\n",
       "      <th>video</th>\n",
       "      <th>vote_average</th>\n",
       "      <th>vote_count</th>\n",
       "    </tr>\n",
       "  </thead>\n",
       "  <tbody>\n",
       "    <tr>\n",
       "      <th>0</th>\n",
       "      <td>False</td>\n",
       "      <td>{'id': 10194, 'name': 'Toy Story Collection', ...</td>\n",
       "      <td>30000000</td>\n",
       "      <td>[{'id': 16, 'name': 'Animation'}, {'id': 35, '...</td>\n",
       "      <td>http://toystory.disney.com/toy-story</td>\n",
       "      <td>862</td>\n",
       "      <td>tt0114709</td>\n",
       "      <td>en</td>\n",
       "      <td>Toy Story</td>\n",
       "      <td>Led by Woody, Andy's toys live happily in his ...</td>\n",
       "      <td>...</td>\n",
       "      <td>1995-10-30</td>\n",
       "      <td>373554033.0</td>\n",
       "      <td>81.0</td>\n",
       "      <td>[{'iso_639_1': 'en', 'name': 'English'}]</td>\n",
       "      <td>Released</td>\n",
       "      <td>NaN</td>\n",
       "      <td>Toy Story</td>\n",
       "      <td>False</td>\n",
       "      <td>7.7</td>\n",
       "      <td>5415.0</td>\n",
       "    </tr>\n",
       "    <tr>\n",
       "      <th>1</th>\n",
       "      <td>False</td>\n",
       "      <td>NaN</td>\n",
       "      <td>65000000</td>\n",
       "      <td>[{'id': 12, 'name': 'Adventure'}, {'id': 14, '...</td>\n",
       "      <td>NaN</td>\n",
       "      <td>8844</td>\n",
       "      <td>tt0113497</td>\n",
       "      <td>en</td>\n",
       "      <td>Jumanji</td>\n",
       "      <td>When siblings Judy and Peter discover an encha...</td>\n",
       "      <td>...</td>\n",
       "      <td>1995-12-15</td>\n",
       "      <td>262797249.0</td>\n",
       "      <td>104.0</td>\n",
       "      <td>[{'iso_639_1': 'en', 'name': 'English'}, {'iso...</td>\n",
       "      <td>Released</td>\n",
       "      <td>Roll the dice and unleash the excitement!</td>\n",
       "      <td>Jumanji</td>\n",
       "      <td>False</td>\n",
       "      <td>6.9</td>\n",
       "      <td>2413.0</td>\n",
       "    </tr>\n",
       "    <tr>\n",
       "      <th>2</th>\n",
       "      <td>False</td>\n",
       "      <td>{'id': 119050, 'name': 'Grumpy Old Men Collect...</td>\n",
       "      <td>0</td>\n",
       "      <td>[{'id': 10749, 'name': 'Romance'}, {'id': 35, ...</td>\n",
       "      <td>NaN</td>\n",
       "      <td>15602</td>\n",
       "      <td>tt0113228</td>\n",
       "      <td>en</td>\n",
       "      <td>Grumpier Old Men</td>\n",
       "      <td>A family wedding reignites the ancient feud be...</td>\n",
       "      <td>...</td>\n",
       "      <td>1995-12-22</td>\n",
       "      <td>0.0</td>\n",
       "      <td>101.0</td>\n",
       "      <td>[{'iso_639_1': 'en', 'name': 'English'}]</td>\n",
       "      <td>Released</td>\n",
       "      <td>Still Yelling. Still Fighting. Still Ready for...</td>\n",
       "      <td>Grumpier Old Men</td>\n",
       "      <td>False</td>\n",
       "      <td>6.5</td>\n",
       "      <td>92.0</td>\n",
       "    </tr>\n",
       "  </tbody>\n",
       "</table>\n",
       "<p>3 rows × 24 columns</p>\n",
       "</div>"
      ],
      "text/plain": [
       "   adult                              belongs_to_collection    budget  \\\n",
       "0  False  {'id': 10194, 'name': 'Toy Story Collection', ...  30000000   \n",
       "1  False                                                NaN  65000000   \n",
       "2  False  {'id': 119050, 'name': 'Grumpy Old Men Collect...         0   \n",
       "\n",
       "                                              genres  \\\n",
       "0  [{'id': 16, 'name': 'Animation'}, {'id': 35, '...   \n",
       "1  [{'id': 12, 'name': 'Adventure'}, {'id': 14, '...   \n",
       "2  [{'id': 10749, 'name': 'Romance'}, {'id': 35, ...   \n",
       "\n",
       "                               homepage     id    imdb_id original_language  \\\n",
       "0  http://toystory.disney.com/toy-story    862  tt0114709                en   \n",
       "1                                   NaN   8844  tt0113497                en   \n",
       "2                                   NaN  15602  tt0113228                en   \n",
       "\n",
       "     original_title                                           overview  ...  \\\n",
       "0         Toy Story  Led by Woody, Andy's toys live happily in his ...  ...   \n",
       "1           Jumanji  When siblings Judy and Peter discover an encha...  ...   \n",
       "2  Grumpier Old Men  A family wedding reignites the ancient feud be...  ...   \n",
       "\n",
       "  release_date      revenue runtime  \\\n",
       "0   1995-10-30  373554033.0    81.0   \n",
       "1   1995-12-15  262797249.0   104.0   \n",
       "2   1995-12-22          0.0   101.0   \n",
       "\n",
       "                                    spoken_languages    status  \\\n",
       "0           [{'iso_639_1': 'en', 'name': 'English'}]  Released   \n",
       "1  [{'iso_639_1': 'en', 'name': 'English'}, {'iso...  Released   \n",
       "2           [{'iso_639_1': 'en', 'name': 'English'}]  Released   \n",
       "\n",
       "                                             tagline             title  video  \\\n",
       "0                                                NaN         Toy Story  False   \n",
       "1          Roll the dice and unleash the excitement!           Jumanji  False   \n",
       "2  Still Yelling. Still Fighting. Still Ready for...  Grumpier Old Men  False   \n",
       "\n",
       "  vote_average vote_count  \n",
       "0          7.7     5415.0  \n",
       "1          6.9     2413.0  \n",
       "2          6.5       92.0  \n",
       "\n",
       "[3 rows x 24 columns]"
      ]
     },
     "execution_count": 2,
     "metadata": {},
     "output_type": "execute_result"
    }
   ],
   "source": [
    "# Así se ven los datos\n",
    "metadata.head(3)"
   ]
  },
  {
   "cell_type": "code",
   "execution_count": 3,
   "metadata": {},
   "outputs": [
    {
     "data": {
      "text/html": [
       "<div>\n",
       "<style scoped>\n",
       "    .dataframe tbody tr th:only-of-type {\n",
       "        vertical-align: middle;\n",
       "    }\n",
       "\n",
       "    .dataframe tbody tr th {\n",
       "        vertical-align: top;\n",
       "    }\n",
       "\n",
       "    .dataframe thead th {\n",
       "        text-align: right;\n",
       "    }\n",
       "</style>\n",
       "<table border=\"1\" class=\"dataframe\">\n",
       "  <thead>\n",
       "    <tr style=\"text-align: right;\">\n",
       "      <th></th>\n",
       "      <th>original_title</th>\n",
       "      <th>popularity</th>\n",
       "    </tr>\n",
       "  </thead>\n",
       "  <tbody>\n",
       "    <tr>\n",
       "      <th>1</th>\n",
       "      <td>Jumanji</td>\n",
       "      <td>17.015539</td>\n",
       "    </tr>\n",
       "    <tr>\n",
       "      <th>2</th>\n",
       "      <td>Grumpier Old Men</td>\n",
       "      <td>11.7129</td>\n",
       "    </tr>\n",
       "    <tr>\n",
       "      <th>3</th>\n",
       "      <td>Waiting to Exhale</td>\n",
       "      <td>3.859495</td>\n",
       "    </tr>\n",
       "    <tr>\n",
       "      <th>4</th>\n",
       "      <td>Father of the Bride Part II</td>\n",
       "      <td>8.387519</td>\n",
       "    </tr>\n",
       "    <tr>\n",
       "      <th>5</th>\n",
       "      <td>Heat</td>\n",
       "      <td>17.924927</td>\n",
       "    </tr>\n",
       "    <tr>\n",
       "      <th>6</th>\n",
       "      <td>Sabrina</td>\n",
       "      <td>6.677277</td>\n",
       "    </tr>\n",
       "    <tr>\n",
       "      <th>7</th>\n",
       "      <td>Tom and Huck</td>\n",
       "      <td>2.561161</td>\n",
       "    </tr>\n",
       "    <tr>\n",
       "      <th>8</th>\n",
       "      <td>Sudden Death</td>\n",
       "      <td>5.23158</td>\n",
       "    </tr>\n",
       "    <tr>\n",
       "      <th>9</th>\n",
       "      <td>GoldenEye</td>\n",
       "      <td>14.686036</td>\n",
       "    </tr>\n",
       "  </tbody>\n",
       "</table>\n",
       "</div>"
      ],
      "text/plain": [
       "                original_title popularity\n",
       "1                      Jumanji  17.015539\n",
       "2             Grumpier Old Men    11.7129\n",
       "3            Waiting to Exhale   3.859495\n",
       "4  Father of the Bride Part II   8.387519\n",
       "5                         Heat  17.924927\n",
       "6                      Sabrina   6.677277\n",
       "7                 Tom and Huck   2.561161\n",
       "8                 Sudden Death    5.23158\n",
       "9                    GoldenEye  14.686036"
      ]
     },
     "execution_count": 3,
     "metadata": {},
     "output_type": "execute_result"
    }
   ],
   "source": [
    "metadata[['original_title', 'popularity']][1:10]"
   ]
  },
  {
   "cell_type": "markdown",
   "metadata": {},
   "source": [
    "### Rating vs. Popularidad\n",
    "\n",
    "Con esta información vamos a construir un sistema que recomiende películas basados directamente en su *rating*, o **voto promedio**. Sin embargo, es cierto que hay otro atributo relevante como lo es el de su **popularidad**. Por ejemplo, si un solo usuario califica con 10 una pelicula, pero 5000 usuarios le dan en promedio un 8.3, solo en base al rating la primera película sería considerada mejor que la segunda.\n",
    "\n",
    "\n",
    "Bajo una perspectiva de *los grandes números*, la valoración o voto promedio de una película tiende a converger hacia un valor que refleje la calidad de la película a medida que el número de votos aumenta. Con poca información, o pocos votos, es más difícil estimar la calidad promedio de la película.  \n",
    "\n",
    "\n",
    "Entonces, \n",
    "\n",
    "**¿qué tipo de métrica nos sirve para evaluar apropiadamente la preferencia por una película?** \n",
    "\n",
    "Tengamos en cuenta que en base a esta métrica se tendrán mejores o peores recomendaciones!\n",
    "\n",
    "\n"
   ]
  },
  {
   "cell_type": "markdown",
   "metadata": {},
   "source": [
    "### Ejercicio 1.1\n",
    "\n",
    "Examine los datos y proponga una métrica que permita estimar la preferencia promedio por una película."
   ]
  },
  {
   "cell_type": "code",
   "execution_count": 5,
   "metadata": {},
   "outputs": [
    {
     "data": {
      "text/html": [
       "<div>\n",
       "<style scoped>\n",
       "    .dataframe tbody tr th:only-of-type {\n",
       "        vertical-align: middle;\n",
       "    }\n",
       "\n",
       "    .dataframe tbody tr th {\n",
       "        vertical-align: top;\n",
       "    }\n",
       "\n",
       "    .dataframe thead th {\n",
       "        text-align: right;\n",
       "    }\n",
       "</style>\n",
       "<table border=\"1\" class=\"dataframe\">\n",
       "  <thead>\n",
       "    <tr style=\"text-align: right;\">\n",
       "      <th></th>\n",
       "      <th>original_title</th>\n",
       "      <th>popularity</th>\n",
       "      <th>vote_average</th>\n",
       "      <th>vote_count</th>\n",
       "      <th>popularity</th>\n",
       "    </tr>\n",
       "  </thead>\n",
       "  <tbody>\n",
       "    <tr>\n",
       "      <th>1</th>\n",
       "      <td>Jumanji</td>\n",
       "      <td>17.015539</td>\n",
       "      <td>6.9</td>\n",
       "      <td>2413.0</td>\n",
       "      <td>17.015539</td>\n",
       "    </tr>\n",
       "    <tr>\n",
       "      <th>2</th>\n",
       "      <td>Grumpier Old Men</td>\n",
       "      <td>11.7129</td>\n",
       "      <td>6.5</td>\n",
       "      <td>92.0</td>\n",
       "      <td>11.7129</td>\n",
       "    </tr>\n",
       "    <tr>\n",
       "      <th>3</th>\n",
       "      <td>Waiting to Exhale</td>\n",
       "      <td>3.859495</td>\n",
       "      <td>6.1</td>\n",
       "      <td>34.0</td>\n",
       "      <td>3.859495</td>\n",
       "    </tr>\n",
       "    <tr>\n",
       "      <th>4</th>\n",
       "      <td>Father of the Bride Part II</td>\n",
       "      <td>8.387519</td>\n",
       "      <td>5.7</td>\n",
       "      <td>173.0</td>\n",
       "      <td>8.387519</td>\n",
       "    </tr>\n",
       "    <tr>\n",
       "      <th>5</th>\n",
       "      <td>Heat</td>\n",
       "      <td>17.924927</td>\n",
       "      <td>7.7</td>\n",
       "      <td>1886.0</td>\n",
       "      <td>17.924927</td>\n",
       "    </tr>\n",
       "    <tr>\n",
       "      <th>6</th>\n",
       "      <td>Sabrina</td>\n",
       "      <td>6.677277</td>\n",
       "      <td>6.2</td>\n",
       "      <td>141.0</td>\n",
       "      <td>6.677277</td>\n",
       "    </tr>\n",
       "    <tr>\n",
       "      <th>7</th>\n",
       "      <td>Tom and Huck</td>\n",
       "      <td>2.561161</td>\n",
       "      <td>5.4</td>\n",
       "      <td>45.0</td>\n",
       "      <td>2.561161</td>\n",
       "    </tr>\n",
       "    <tr>\n",
       "      <th>8</th>\n",
       "      <td>Sudden Death</td>\n",
       "      <td>5.23158</td>\n",
       "      <td>5.5</td>\n",
       "      <td>174.0</td>\n",
       "      <td>5.23158</td>\n",
       "    </tr>\n",
       "    <tr>\n",
       "      <th>9</th>\n",
       "      <td>GoldenEye</td>\n",
       "      <td>14.686036</td>\n",
       "      <td>6.6</td>\n",
       "      <td>1194.0</td>\n",
       "      <td>14.686036</td>\n",
       "    </tr>\n",
       "  </tbody>\n",
       "</table>\n",
       "</div>"
      ],
      "text/plain": [
       "                original_title popularity  vote_average  vote_count popularity\n",
       "1                      Jumanji  17.015539           6.9      2413.0  17.015539\n",
       "2             Grumpier Old Men    11.7129           6.5        92.0    11.7129\n",
       "3            Waiting to Exhale   3.859495           6.1        34.0   3.859495\n",
       "4  Father of the Bride Part II   8.387519           5.7       173.0   8.387519\n",
       "5                         Heat  17.924927           7.7      1886.0  17.924927\n",
       "6                      Sabrina   6.677277           6.2       141.0   6.677277\n",
       "7                 Tom and Huck   2.561161           5.4        45.0   2.561161\n",
       "8                 Sudden Death    5.23158           5.5       174.0    5.23158\n",
       "9                    GoldenEye  14.686036           6.6      1194.0  14.686036"
      ]
     },
     "execution_count": 5,
     "metadata": {},
     "output_type": "execute_result"
    }
   ],
   "source": [
    "metadata[['original_title', 'popularity','vote_average','vote_count','popularity']][1:10]"
   ]
  },
  {
   "cell_type": "code",
   "execution_count": 6,
   "metadata": {
    "scrolled": true
   },
   "outputs": [
    {
     "data": {
      "text/plain": [
       "count    45460.000000\n",
       "mean         5.618207\n",
       "std          1.924216\n",
       "min          0.000000\n",
       "25%          5.000000\n",
       "50%          6.000000\n",
       "75%          6.800000\n",
       "max         10.000000\n",
       "Name: vote_average, dtype: float64"
      ]
     },
     "execution_count": 6,
     "metadata": {},
     "output_type": "execute_result"
    }
   ],
   "source": [
    "metadata['vote_average'].describe()"
   ]
  },
  {
   "cell_type": "code",
   "execution_count": 7,
   "metadata": {},
   "outputs": [
    {
     "data": {
      "text/plain": [
       "count    45460.000000\n",
       "mean       109.897338\n",
       "std        491.310374\n",
       "min          0.000000\n",
       "25%          3.000000\n",
       "50%         10.000000\n",
       "75%         34.000000\n",
       "max      14075.000000\n",
       "Name: vote_count, dtype: float64"
      ]
     },
     "execution_count": 7,
     "metadata": {},
     "output_type": "execute_result"
    }
   ],
   "source": [
    "metadata['vote_count'].describe()"
   ]
  },
  {
   "cell_type": "code",
   "execution_count": 8,
   "metadata": {
    "scrolled": true
   },
   "outputs": [
    {
     "data": {
      "text/plain": [
       "count     45461\n",
       "unique    43758\n",
       "top         0.0\n",
       "freq         66\n",
       "Name: popularity, dtype: object"
      ]
     },
     "execution_count": 8,
     "metadata": {},
     "output_type": "execute_result"
    }
   ],
   "source": [
    "metadata['popularity'].describe()"
   ]
  },
  {
   "cell_type": "code",
   "execution_count": 9,
   "metadata": {},
   "outputs": [],
   "source": [
    "metadata['popularity'] = pd.to_numeric(metadata.popularity, errors='coerce')"
   ]
  },
  {
   "cell_type": "markdown",
   "metadata": {},
   "source": [
    "Teniendo en cuenta que la variable popularidad es de tipo object, se convierte en numérica para probar una regresión lineal"
   ]
  },
  {
   "cell_type": "code",
   "execution_count": 10,
   "metadata": {},
   "outputs": [
    {
     "data": {
      "text/plain": [
       "count    45460.000000\n",
       "mean         2.921478\n",
       "std          6.005414\n",
       "min          0.000000\n",
       "25%          0.385948\n",
       "50%          1.127685\n",
       "75%          3.678902\n",
       "max        547.488298\n",
       "Name: popularity, dtype: float64"
      ]
     },
     "execution_count": 10,
     "metadata": {},
     "output_type": "execute_result"
    }
   ],
   "source": [
    "metadata['popularity'].describe()"
   ]
  },
  {
   "cell_type": "code",
   "execution_count": null,
   "metadata": {},
   "outputs": [],
   "source": [
    "import numpy as np\n",
    "import seaborn as sb\n",
    "import matplotlib.pyplot as plt\n",
    "%matplotlib inline\n",
    "from mpl_toolkits.mplot3d import Axes3D\n",
    "from matplotlib import cm\n",
    "plt.rcParams['figure.figsize'] = (16, 9)\n",
    "plt.style.use('ggplot')\n",
    "from sklearn import linear_model\n",
    "from sklearn.metrics import mean_squared_error, r2_score"
   ]
  },
  {
   "cell_type": "code",
   "execution_count": 15,
   "metadata": {
    "scrolled": true
   },
   "outputs": [
    {
     "data": {
      "text/plain": [
       "<matplotlib.axes._subplots.AxesSubplot at 0x118d77c10>"
      ]
     },
     "execution_count": 15,
     "metadata": {},
     "output_type": "execute_result"
    },
    {
     "data": {
      "image/png": "[encoded data removed]",
      "text/plain": [
       "<Figure size 432x288 with 1 Axes>"
      ]
     },
     "metadata": {
      "needs_background": "light"
     },
     "output_type": "display_data"
    }
   ],
   "source": [
    "# Visualizamos rápidamente las caraterísticas de entrada\n",
    "metadata['vote_average'].hist()"
   ]
  },
  {
   "cell_type": "code",
   "execution_count": 16,
   "metadata": {
    "scrolled": true
   },
   "outputs": [
    {
     "data": {
      "text/plain": [
       "<matplotlib.axes._subplots.AxesSubplot at 0x11aebb670>"
      ]
     },
     "execution_count": 16,
     "metadata": {},
     "output_type": "execute_result"
    },
    {
     "data": {
      "image/png": "[encoded data removed]",
      "text/plain": [
       "<Figure size 432x288 with 1 Axes>"
      ]
     },
     "metadata": {
      "needs_background": "light"
     },
     "output_type": "display_data"
    }
   ],
   "source": [
    "metadata['vote_count'].hist()"
   ]
  },
  {
   "cell_type": "code",
   "execution_count": 39,
   "metadata": {},
   "outputs": [],
   "source": [
    "df = metadata[metadata['vote_count']<200.00]"
   ]
  },
  {
   "cell_type": "code",
   "execution_count": 40,
   "metadata": {},
   "outputs": [
    {
     "data": {
      "text/plain": [
       "<matplotlib.axes._subplots.AxesSubplot at 0x11d0a6490>"
      ]
     },
     "execution_count": 40,
     "metadata": {},
     "output_type": "execute_result"
    },
    {
     "data": {
      "image/png": "[encoded data removed]",
      "text/plain": [
       "<Figure size 432x288 with 1 Axes>"
      ]
     },
     "metadata": {
      "needs_background": "light"
     },
     "output_type": "display_data"
    }
   ],
   "source": [
    "df['vote_count'].hist()"
   ]
  },
  {
   "cell_type": "code",
   "execution_count": 43,
   "metadata": {},
   "outputs": [
    {
     "data": {
      "text/plain": [
       "<matplotlib.axes._subplots.AxesSubplot at 0x11da4fbe0>"
      ]
     },
     "execution_count": 43,
     "metadata": {},
     "output_type": "execute_result"
    },
    {
     "data": {
      "image/png": "[encoded data removed]",
      "text/plain": [
       "<Figure size 432x288 with 1 Axes>"
      ]
     },
     "metadata": {
      "needs_background": "light"
     },
     "output_type": "display_data"
    }
   ],
   "source": [
    "metadata['popularity'].hist()"
   ]
  },
  {
   "cell_type": "code",
   "execution_count": 45,
   "metadata": {},
   "outputs": [
    {
     "data": {
      "text/plain": [
       "<matplotlib.axes._subplots.AxesSubplot at 0x11d0e9340>"
      ]
     },
     "execution_count": 45,
     "metadata": {},
     "output_type": "execute_result"
    },
    {
     "data": {
      "image/png": "[encoded data removed]",
      "text/plain": [
       "<Figure size 432x288 with 1 Axes>"
      ]
     },
     "metadata": {
      "needs_background": "light"
     },
     "output_type": "display_data"
    }
   ],
   "source": [
    "df = metadata[metadata['popularity']<10.00]\n",
    "df['popularity'].hist()"
   ]
  },
  {
   "cell_type": "markdown",
   "metadata": {},
   "source": [
    "Se nota que la mayoría de peliculas tienen muy pocos votos (menos de 75), por lo que las variables <i>vote_average</i> y <i>vote_count</i> deben ser consideradas con precaución"
   ]
  },
  {
   "cell_type": "code",
   "execution_count": 47,
   "metadata": {},
   "outputs": [
    {
     "data": {
      "text/plain": [
       "count    45203.000000\n",
       "mean        94.128199\n",
       "std         38.407810\n",
       "min          0.000000\n",
       "25%         85.000000\n",
       "50%         95.000000\n",
       "75%        107.000000\n",
       "max       1256.000000\n",
       "Name: runtime, dtype: float64"
      ]
     },
     "execution_count": 47,
     "metadata": {},
     "output_type": "execute_result"
    }
   ],
   "source": [
    "metadata['runtime'].describe()"
   ]
  },
  {
   "cell_type": "code",
   "execution_count": 48,
   "metadata": {
    "scrolled": false
   },
   "outputs": [
    {
     "data": {
      "text/plain": [
       "<matplotlib.axes._subplots.AxesSubplot at 0x11dc4f9a0>"
      ]
     },
     "execution_count": 48,
     "metadata": {},
     "output_type": "execute_result"
    },
    {
     "data": {
      "image/png": "[encoded data removed]",
      "text/plain": [
       "<Figure size 432x288 with 1 Axes>"
      ]
     },
     "metadata": {
      "needs_background": "light"
     },
     "output_type": "display_data"
    }
   ],
   "source": [
    "metadata['runtime'].hist()"
   ]
  },
  {
   "cell_type": "code",
   "execution_count": 51,
   "metadata": {},
   "outputs": [
    {
     "data": {
      "text/plain": [
       "<matplotlib.axes._subplots.AxesSubplot at 0x11dae3820>"
      ]
     },
     "execution_count": 51,
     "metadata": {},
     "output_type": "execute_result"
    },
    {
     "data": {
      "image/png": "[encoded data removed]",
      "text/plain": [
       "<Figure size 432x288 with 1 Axes>"
      ]
     },
     "metadata": {
      "needs_background": "light"
     },
     "output_type": "display_data"
    }
   ],
   "source": [
    "df = metadata[metadata['runtime']<200.00]\n",
    "df['runtime'].hist()"
   ]
  },
  {
   "cell_type": "code",
   "execution_count": 49,
   "metadata": {
    "scrolled": true
   },
   "outputs": [
    {
     "data": {
      "text/plain": [
       "count    4.546000e+04\n",
       "mean     1.120935e+07\n",
       "std      6.433225e+07\n",
       "min      0.000000e+00\n",
       "25%      0.000000e+00\n",
       "50%      0.000000e+00\n",
       "75%      0.000000e+00\n",
       "max      2.787965e+09\n",
       "Name: revenue, dtype: float64"
      ]
     },
     "execution_count": 49,
     "metadata": {},
     "output_type": "execute_result"
    }
   ],
   "source": [
    "metadata['revenue'].describe()"
   ]
  },
  {
   "cell_type": "code",
   "execution_count": 50,
   "metadata": {
    "scrolled": true
   },
   "outputs": [
    {
     "data": {
      "text/plain": [
       "<matplotlib.axes._subplots.AxesSubplot at 0x11d88c760>"
      ]
     },
     "execution_count": 50,
     "metadata": {},
     "output_type": "execute_result"
    },
    {
     "data": {
      "image/png": "[encoded data removed]",
      "text/plain": [
       "<Figure size 432x288 with 1 Axes>"
      ]
     },
     "metadata": {
      "needs_background": "light"
     },
     "output_type": "display_data"
    }
   ],
   "source": [
    "metadata['revenue'].hist()"
   ]
  },
  {
   "cell_type": "code",
   "execution_count": 58,
   "metadata": {
    "scrolled": true
   },
   "outputs": [
    {
     "data": {
      "text/plain": [
       "<matplotlib.axes._subplots.AxesSubplot at 0x11af3d310>"
      ]
     },
     "execution_count": 58,
     "metadata": {},
     "output_type": "execute_result"
    },
    {
     "data": {
      "image/png": "[encoded data removed]",
      "text/plain": [
       "<Figure size 432x288 with 1 Axes>"
      ]
     },
     "metadata": {
      "needs_background": "light"
     },
     "output_type": "display_data"
    }
   ],
   "source": [
    "df = metadata[metadata['revenue']<1]\n",
    "df['revenue'].hist()"
   ]
  },
  {
   "cell_type": "markdown",
   "metadata": {},
   "source": [
    "Después del análisis realizado se concluye que la variable candidata para realizar una recomendación es la variable de popularida: <i>popularity</i>."
   ]
  },
  {
   "cell_type": "markdown",
   "metadata": {},
   "source": [
    "### Ponderación entre rating y popularidad\n",
    "\n",
    "Una opción puede consistir en ponderar el rating que recibe una película por su número de votos. De esta manera se pueden prevenir situaciones donde una película con un voto de 10 obtenga una mejor calificación que una película con 1000 votos con un promedio de 9.5.  \n",
    "\n",
    "De esta manera, el voto promedio ponderado $\\mu_i$, de la $i$-ésima película lo definimos como:\n",
    "\n",
    "$$\n",
    "\\mu_i  = \\left( \\frac{v_i}{v_{max}} \\right) R_i \n",
    "$$\n",
    "\n",
    "donde $v_i$ es el número de votos para la $i$-ésima película, $v_{max}$ es el máximo número de votos que recibe la película más popular, y $R$ es el rating promedio de la pelicula.\n",
    "\n",
    "\n",
    "En la base de datos tenemos los valores de $v_i$ (vote_count) y $R$ (vote_average) para cada pelicula. Además podemos agregar un filtro para que considere las películas con un minimo número de votos $v_{min}$.\n"
   ]
  },
  {
   "cell_type": "markdown",
   "metadata": {},
   "source": [
    "Nos quedamos con las columnas necesarias para calcular el rating ponderado más el link de la pagina (en caso de que esté disponible):"
   ]
  },
  {
   "cell_type": "code",
   "execution_count": 59,
   "metadata": {},
   "outputs": [
    {
     "data": {
      "text/plain": [
       "(45466, 4)"
      ]
     },
     "execution_count": 59,
     "metadata": {},
     "output_type": "execute_result"
    }
   ],
   "source": [
    "pelisR = metadata[['original_title', 'homepage', 'vote_count', 'vote_average']]\n",
    "pelisR.shape\n"
   ]
  },
  {
   "cell_type": "code",
   "execution_count": 60,
   "metadata": {},
   "outputs": [],
   "source": [
    "# Calificacion de peliculas basada en la ponderacion de su rating \n",
    "def rating_ponderado(x):\n",
    "    \"\"\"\n",
    "    Input:\n",
    "    x: datos de rating y votacion de las peliculas\n",
    "    m: minimo numero de votos\n",
    "    Output:\n",
    "    rating ponderado\n",
    "    \"\"\"\n",
    "    m = x['vote_average'].max()\n",
    "    v = x['vote_count']\n",
    "    R = x['vote_average']\n",
    "    return (v/(v+m) * R) "
   ]
  },
  {
   "cell_type": "markdown",
   "metadata": {},
   "source": [
    "Definimos una nueva respuesta 'score' y calculamos su valor con la funcion rating_ponderado().\n",
    "\n",
    "A continuación ordenamos las películas basados en el score y ofrecemos el top 15 de películas preferidas:"
   ]
  },
  {
   "cell_type": "code",
   "execution_count": 61,
   "metadata": {},
   "outputs": [
    {
     "data": {
      "text/html": [
       "<div>\n",
       "<style scoped>\n",
       "    .dataframe tbody tr th:only-of-type {\n",
       "        vertical-align: middle;\n",
       "    }\n",
       "\n",
       "    .dataframe tbody tr th {\n",
       "        vertical-align: top;\n",
       "    }\n",
       "\n",
       "    .dataframe thead th {\n",
       "        text-align: right;\n",
       "    }\n",
       "</style>\n",
       "<table border=\"1\" class=\"dataframe\">\n",
       "  <thead>\n",
       "    <tr style=\"text-align: right;\">\n",
       "      <th></th>\n",
       "      <th>original_title</th>\n",
       "      <th>homepage</th>\n",
       "      <th>vote_count</th>\n",
       "      <th>vote_average</th>\n",
       "      <th>score</th>\n",
       "    </tr>\n",
       "  </thead>\n",
       "  <tbody>\n",
       "    <tr>\n",
       "      <th>10309</th>\n",
       "      <td>Dilwale Dulhania Le Jayenge</td>\n",
       "      <td>NaN</td>\n",
       "      <td>661.0</td>\n",
       "      <td>9.1</td>\n",
       "      <td>8.964382</td>\n",
       "    </tr>\n",
       "    <tr>\n",
       "      <th>314</th>\n",
       "      <td>The Shawshank Redemption</td>\n",
       "      <td>NaN</td>\n",
       "      <td>8358.0</td>\n",
       "      <td>8.5</td>\n",
       "      <td>8.489842</td>\n",
       "    </tr>\n",
       "    <tr>\n",
       "      <th>834</th>\n",
       "      <td>The Godfather</td>\n",
       "      <td>http://www.thegodfather.com/</td>\n",
       "      <td>6024.0</td>\n",
       "      <td>8.5</td>\n",
       "      <td>8.485913</td>\n",
       "    </tr>\n",
       "    <tr>\n",
       "      <th>40251</th>\n",
       "      <td>君の名は。</td>\n",
       "      <td>https://www.funimationfilms.com/movie/yourname/</td>\n",
       "      <td>1030.0</td>\n",
       "      <td>8.5</td>\n",
       "      <td>8.418269</td>\n",
       "    </tr>\n",
       "    <tr>\n",
       "      <th>39085</th>\n",
       "      <td>Planet Earth</td>\n",
       "      <td>NaN</td>\n",
       "      <td>176.0</td>\n",
       "      <td>8.8</td>\n",
       "      <td>8.326882</td>\n",
       "    </tr>\n",
       "    <tr>\n",
       "      <th>12481</th>\n",
       "      <td>The Dark Knight</td>\n",
       "      <td>http://thedarkknight.warnerbros.com/dvdsite/</td>\n",
       "      <td>12269.0</td>\n",
       "      <td>8.3</td>\n",
       "      <td>8.293240</td>\n",
       "    </tr>\n",
       "    <tr>\n",
       "      <th>2843</th>\n",
       "      <td>Fight Club</td>\n",
       "      <td>http://www.foxmovies.com/movies/fight-club</td>\n",
       "      <td>9678.0</td>\n",
       "      <td>8.3</td>\n",
       "      <td>8.291433</td>\n",
       "    </tr>\n",
       "    <tr>\n",
       "      <th>292</th>\n",
       "      <td>Pulp Fiction</td>\n",
       "      <td>NaN</td>\n",
       "      <td>8670.0</td>\n",
       "      <td>8.3</td>\n",
       "      <td>8.290438</td>\n",
       "    </tr>\n",
       "    <tr>\n",
       "      <th>522</th>\n",
       "      <td>Schindler's List</td>\n",
       "      <td>http://www.schindlerslist.com/</td>\n",
       "      <td>4436.0</td>\n",
       "      <td>8.3</td>\n",
       "      <td>8.281332</td>\n",
       "    </tr>\n",
       "    <tr>\n",
       "      <th>23673</th>\n",
       "      <td>Whiplash</td>\n",
       "      <td>http://sonyclassics.com/whiplash/</td>\n",
       "      <td>4376.0</td>\n",
       "      <td>8.3</td>\n",
       "      <td>8.281076</td>\n",
       "    </tr>\n",
       "    <tr>\n",
       "      <th>5481</th>\n",
       "      <td>千と千尋の神隠し</td>\n",
       "      <td>http://movies.disney.com/spirited-away</td>\n",
       "      <td>3968.0</td>\n",
       "      <td>8.3</td>\n",
       "      <td>8.279135</td>\n",
       "    </tr>\n",
       "    <tr>\n",
       "      <th>2211</th>\n",
       "      <td>La vita è bella</td>\n",
       "      <td>NaN</td>\n",
       "      <td>3643.0</td>\n",
       "      <td>8.3</td>\n",
       "      <td>8.277279</td>\n",
       "    </tr>\n",
       "    <tr>\n",
       "      <th>1178</th>\n",
       "      <td>The Godfather: Part II</td>\n",
       "      <td>NaN</td>\n",
       "      <td>3418.0</td>\n",
       "      <td>8.3</td>\n",
       "      <td>8.275788</td>\n",
       "    </tr>\n",
       "    <tr>\n",
       "      <th>1152</th>\n",
       "      <td>One Flew Over the Cuckoo's Nest</td>\n",
       "      <td>NaN</td>\n",
       "      <td>3001.0</td>\n",
       "      <td>8.3</td>\n",
       "      <td>8.272434</td>\n",
       "    </tr>\n",
       "    <tr>\n",
       "      <th>1176</th>\n",
       "      <td>Psycho</td>\n",
       "      <td>NaN</td>\n",
       "      <td>2405.0</td>\n",
       "      <td>8.3</td>\n",
       "      <td>8.265631</td>\n",
       "    </tr>\n",
       "  </tbody>\n",
       "</table>\n",
       "</div>"
      ],
      "text/plain": [
       "                        original_title  \\\n",
       "10309      Dilwale Dulhania Le Jayenge   \n",
       "314           The Shawshank Redemption   \n",
       "834                      The Godfather   \n",
       "40251                            君の名は。   \n",
       "39085                     Planet Earth   \n",
       "12481                  The Dark Knight   \n",
       "2843                        Fight Club   \n",
       "292                       Pulp Fiction   \n",
       "522                   Schindler's List   \n",
       "23673                         Whiplash   \n",
       "5481                          千と千尋の神隠し   \n",
       "2211                   La vita è bella   \n",
       "1178            The Godfather: Part II   \n",
       "1152   One Flew Over the Cuckoo's Nest   \n",
       "1176                            Psycho   \n",
       "\n",
       "                                              homepage  vote_count  \\\n",
       "10309                                              NaN       661.0   \n",
       "314                                                NaN      8358.0   \n",
       "834                       http://www.thegodfather.com/      6024.0   \n",
       "40251  https://www.funimationfilms.com/movie/yourname/      1030.0   \n",
       "39085                                              NaN       176.0   \n",
       "12481     http://thedarkknight.warnerbros.com/dvdsite/     12269.0   \n",
       "2843        http://www.foxmovies.com/movies/fight-club      9678.0   \n",
       "292                                                NaN      8670.0   \n",
       "522                     http://www.schindlerslist.com/      4436.0   \n",
       "23673                http://sonyclassics.com/whiplash/      4376.0   \n",
       "5481            http://movies.disney.com/spirited-away      3968.0   \n",
       "2211                                               NaN      3643.0   \n",
       "1178                                               NaN      3418.0   \n",
       "1152                                               NaN      3001.0   \n",
       "1176                                               NaN      2405.0   \n",
       "\n",
       "       vote_average     score  \n",
       "10309           9.1  8.964382  \n",
       "314             8.5  8.489842  \n",
       "834             8.5  8.485913  \n",
       "40251           8.5  8.418269  \n",
       "39085           8.8  8.326882  \n",
       "12481           8.3  8.293240  \n",
       "2843            8.3  8.291433  \n",
       "292             8.3  8.290438  \n",
       "522             8.3  8.281332  \n",
       "23673           8.3  8.281076  \n",
       "5481            8.3  8.279135  \n",
       "2211            8.3  8.277279  \n",
       "1178            8.3  8.275788  \n",
       "1152            8.3  8.272434  \n",
       "1176            8.3  8.265631  "
      ]
     },
     "execution_count": 61,
     "metadata": {},
     "output_type": "execute_result"
    }
   ],
   "source": [
    "import warnings\n",
    "warnings.filterwarnings(\"ignore\", category=Warning)\n",
    "\n",
    "# si tiene al menos vmin votos, incluimos la pelicula\n",
    "vmin = 1\n",
    "pelisRF = pelisR.copy().loc[pelisR['vote_count'] >= vmin]\n",
    "pelisRF['score'] = rating_ponderado(pelisRF)\n",
    "\n",
    "# ordenamos las peliculas de acuerdo con el score\n",
    "pelisRF = pelisRF.sort_values('score', ascending=False)\n",
    "\n",
    "# Mostramos el top15 de las peliculas\n",
    "pelisRF[['original_title', 'homepage', 'vote_count', 'vote_average', 'score']].head(15)"
   ]
  },
  {
   "cell_type": "code",
   "execution_count": 63,
   "metadata": {
    "scrolled": true
   },
   "outputs": [
    {
     "data": {
      "text/plain": [
       "count    42561.000000\n",
       "mean         3.292475\n",
       "std          1.944585\n",
       "min          0.000000\n",
       "25%          1.615385\n",
       "50%          3.076923\n",
       "75%          4.855102\n",
       "max          8.964382\n",
       "Name: score, dtype: float64"
      ]
     },
     "execution_count": 63,
     "metadata": {},
     "output_type": "execute_result"
    }
   ],
   "source": [
    "pelisRF['score'].describe()"
   ]
  },
  {
   "cell_type": "code",
   "execution_count": 64,
   "metadata": {},
   "outputs": [
    {
     "data": {
      "text/plain": [
       "<matplotlib.axes._subplots.AxesSubplot at 0x11d0a6580>"
      ]
     },
     "execution_count": 64,
     "metadata": {},
     "output_type": "execute_result"
    },
    {
     "data": {
      "image/png": "[encoded data removed]",
      "text/plain": [
       "<Figure size 432x288 with 1 Axes>"
      ]
     },
     "metadata": {
      "needs_background": "light"
     },
     "output_type": "display_data"
    }
   ],
   "source": [
    "pelisRF['score'].hist()"
   ]
  },
  {
   "cell_type": "markdown",
   "metadata": {},
   "source": [
    "Examinemos el efecto de cambiar el mínimo numero de votos a considerar:"
   ]
  },
  {
   "cell_type": "code",
   "execution_count": 65,
   "metadata": {
    "scrolled": true
   },
   "outputs": [
    {
     "data": {
      "text/html": [
       "<div>\n",
       "<style scoped>\n",
       "    .dataframe tbody tr th:only-of-type {\n",
       "        vertical-align: middle;\n",
       "    }\n",
       "\n",
       "    .dataframe tbody tr th {\n",
       "        vertical-align: top;\n",
       "    }\n",
       "\n",
       "    .dataframe thead th {\n",
       "        text-align: right;\n",
       "    }\n",
       "</style>\n",
       "<table border=\"1\" class=\"dataframe\">\n",
       "  <thead>\n",
       "    <tr style=\"text-align: right;\">\n",
       "      <th></th>\n",
       "      <th>original_title</th>\n",
       "      <th>homepage</th>\n",
       "      <th>vote_count</th>\n",
       "      <th>vote_average</th>\n",
       "      <th>score</th>\n",
       "    </tr>\n",
       "  </thead>\n",
       "  <tbody>\n",
       "    <tr>\n",
       "      <th>314</th>\n",
       "      <td>The Shawshank Redemption</td>\n",
       "      <td>NaN</td>\n",
       "      <td>8358.0</td>\n",
       "      <td>8.5</td>\n",
       "      <td>8.491364</td>\n",
       "    </tr>\n",
       "    <tr>\n",
       "      <th>834</th>\n",
       "      <td>The Godfather</td>\n",
       "      <td>http://www.thegodfather.com/</td>\n",
       "      <td>6024.0</td>\n",
       "      <td>8.5</td>\n",
       "      <td>8.488023</td>\n",
       "    </tr>\n",
       "    <tr>\n",
       "      <th>40251</th>\n",
       "      <td>君の名は。</td>\n",
       "      <td>https://www.funimationfilms.com/movie/yourname/</td>\n",
       "      <td>1030.0</td>\n",
       "      <td>8.5</td>\n",
       "      <td>8.430429</td>\n",
       "    </tr>\n",
       "    <tr>\n",
       "      <th>12481</th>\n",
       "      <td>The Dark Knight</td>\n",
       "      <td>http://thedarkknight.warnerbros.com/dvdsite/</td>\n",
       "      <td>12269.0</td>\n",
       "      <td>8.3</td>\n",
       "      <td>8.294254</td>\n",
       "    </tr>\n",
       "    <tr>\n",
       "      <th>2843</th>\n",
       "      <td>Fight Club</td>\n",
       "      <td>http://www.foxmovies.com/movies/fight-club</td>\n",
       "      <td>9678.0</td>\n",
       "      <td>8.3</td>\n",
       "      <td>8.292717</td>\n",
       "    </tr>\n",
       "    <tr>\n",
       "      <th>292</th>\n",
       "      <td>Pulp Fiction</td>\n",
       "      <td>NaN</td>\n",
       "      <td>8670.0</td>\n",
       "      <td>8.3</td>\n",
       "      <td>8.291871</td>\n",
       "    </tr>\n",
       "    <tr>\n",
       "      <th>522</th>\n",
       "      <td>Schindler's List</td>\n",
       "      <td>http://www.schindlerslist.com/</td>\n",
       "      <td>4436.0</td>\n",
       "      <td>8.3</td>\n",
       "      <td>8.284126</td>\n",
       "    </tr>\n",
       "    <tr>\n",
       "      <th>23673</th>\n",
       "      <td>Whiplash</td>\n",
       "      <td>http://sonyclassics.com/whiplash/</td>\n",
       "      <td>4376.0</td>\n",
       "      <td>8.3</td>\n",
       "      <td>8.283909</td>\n",
       "    </tr>\n",
       "    <tr>\n",
       "      <th>5481</th>\n",
       "      <td>千と千尋の神隠し</td>\n",
       "      <td>http://movies.disney.com/spirited-away</td>\n",
       "      <td>3968.0</td>\n",
       "      <td>8.3</td>\n",
       "      <td>8.282258</td>\n",
       "    </tr>\n",
       "    <tr>\n",
       "      <th>2211</th>\n",
       "      <td>La vita è bella</td>\n",
       "      <td>NaN</td>\n",
       "      <td>3643.0</td>\n",
       "      <td>8.3</td>\n",
       "      <td>8.280679</td>\n",
       "    </tr>\n",
       "    <tr>\n",
       "      <th>1178</th>\n",
       "      <td>The Godfather: Part II</td>\n",
       "      <td>NaN</td>\n",
       "      <td>3418.0</td>\n",
       "      <td>8.3</td>\n",
       "      <td>8.279410</td>\n",
       "    </tr>\n",
       "    <tr>\n",
       "      <th>1152</th>\n",
       "      <td>One Flew Over the Cuckoo's Nest</td>\n",
       "      <td>NaN</td>\n",
       "      <td>3001.0</td>\n",
       "      <td>8.3</td>\n",
       "      <td>8.276558</td>\n",
       "    </tr>\n",
       "    <tr>\n",
       "      <th>1176</th>\n",
       "      <td>Psycho</td>\n",
       "      <td>NaN</td>\n",
       "      <td>2405.0</td>\n",
       "      <td>8.3</td>\n",
       "      <td>8.270769</td>\n",
       "    </tr>\n",
       "    <tr>\n",
       "      <th>1184</th>\n",
       "      <td>Once Upon a Time in America</td>\n",
       "      <td>NaN</td>\n",
       "      <td>1104.0</td>\n",
       "      <td>8.3</td>\n",
       "      <td>8.236584</td>\n",
       "    </tr>\n",
       "    <tr>\n",
       "      <th>351</th>\n",
       "      <td>Forrest Gump</td>\n",
       "      <td>NaN</td>\n",
       "      <td>8147.0</td>\n",
       "      <td>8.2</td>\n",
       "      <td>8.191454</td>\n",
       "    </tr>\n",
       "  </tbody>\n",
       "</table>\n",
       "</div>"
      ],
      "text/plain": [
       "                        original_title  \\\n",
       "314           The Shawshank Redemption   \n",
       "834                      The Godfather   \n",
       "40251                            君の名は。   \n",
       "12481                  The Dark Knight   \n",
       "2843                        Fight Club   \n",
       "292                       Pulp Fiction   \n",
       "522                   Schindler's List   \n",
       "23673                         Whiplash   \n",
       "5481                          千と千尋の神隠し   \n",
       "2211                   La vita è bella   \n",
       "1178            The Godfather: Part II   \n",
       "1152   One Flew Over the Cuckoo's Nest   \n",
       "1176                            Psycho   \n",
       "1184       Once Upon a Time in America   \n",
       "351                       Forrest Gump   \n",
       "\n",
       "                                              homepage  vote_count  \\\n",
       "314                                                NaN      8358.0   \n",
       "834                       http://www.thegodfather.com/      6024.0   \n",
       "40251  https://www.funimationfilms.com/movie/yourname/      1030.0   \n",
       "12481     http://thedarkknight.warnerbros.com/dvdsite/     12269.0   \n",
       "2843        http://www.foxmovies.com/movies/fight-club      9678.0   \n",
       "292                                                NaN      8670.0   \n",
       "522                     http://www.schindlerslist.com/      4436.0   \n",
       "23673                http://sonyclassics.com/whiplash/      4376.0   \n",
       "5481            http://movies.disney.com/spirited-away      3968.0   \n",
       "2211                                               NaN      3643.0   \n",
       "1178                                               NaN      3418.0   \n",
       "1152                                               NaN      3001.0   \n",
       "1176                                               NaN      2405.0   \n",
       "1184                                               NaN      1104.0   \n",
       "351                                                NaN      8147.0   \n",
       "\n",
       "       vote_average     score  \n",
       "314             8.5  8.491364  \n",
       "834             8.5  8.488023  \n",
       "40251           8.5  8.430429  \n",
       "12481           8.3  8.294254  \n",
       "2843            8.3  8.292717  \n",
       "292             8.3  8.291871  \n",
       "522             8.3  8.284126  \n",
       "23673           8.3  8.283909  \n",
       "5481            8.3  8.282258  \n",
       "2211            8.3  8.280679  \n",
       "1178            8.3  8.279410  \n",
       "1152            8.3  8.276558  \n",
       "1176            8.3  8.270769  \n",
       "1184            8.3  8.236584  \n",
       "351             8.2  8.191454  "
      ]
     },
     "execution_count": 65,
     "metadata": {},
     "output_type": "execute_result"
    }
   ],
   "source": [
    "# si tiene al menos mil votos incluimos la pelicula\n",
    "vmin = 1000\n",
    "pelisRF = pelisR.copy().loc[pelisR['vote_count'] >= vmin]\n",
    "pelisRF['score'] = rating_ponderado(pelisRF)\n",
    "\n",
    "# ordenamos las peliculas de acuerdo con el score\n",
    "pelisRF = pelisRF.sort_values('score', ascending=False)\n",
    "\n",
    "# Mostramos el top15 de las peliculas\n",
    "pelisRF[['original_title', 'homepage', 'vote_count', 'vote_average', 'score']].head(15)"
   ]
  },
  {
   "cell_type": "code",
   "execution_count": 66,
   "metadata": {
    "scrolled": true
   },
   "outputs": [
    {
     "data": {
      "text/plain": [
       "(1121, 5)"
      ]
     },
     "execution_count": 66,
     "metadata": {},
     "output_type": "execute_result"
    }
   ],
   "source": [
    "pelisRF.shape"
   ]
  },
  {
   "cell_type": "markdown",
   "metadata": {},
   "source": [
    "<p style=\"color:brown\">Con el restrictor de incluir sólo las películas que tuvieran más de 100 votos, Se incluyeron 1121 peliculas de 45466, es decir tan solo el 2,5% de los datos!!!</p>"
   ]
  },
  {
   "cell_type": "markdown",
   "metadata": {},
   "source": [
    "Veamos en qué consiste esa pelicula en japonés:"
   ]
  },
  {
   "cell_type": "code",
   "execution_count": 67,
   "metadata": {},
   "outputs": [
    {
     "data": {
      "text/plain": [
       "True"
      ]
     },
     "execution_count": 67,
     "metadata": {},
     "output_type": "execute_result"
    }
   ],
   "source": [
    "import webbrowser\n",
    "webbrowser.open(pelisRF['homepage'][40251]) "
   ]
  },
  {
   "cell_type": "markdown",
   "metadata": {},
   "source": [
    "<a href=\"https://es.wikipedia.org/wiki/Kimi_no_Na_wa\">Tomado de wikipedia</a>\n",
    "\n",
    "Kimi no Na wa. (君の名は。 lit. Tu nombre?) es una película de animación japonesa estrenada en 2016; escrita y dirigida por Makoto Shinkai, animada por CoMix Wave Films y distribuida por Tōhō.2​ La película está inspirada en la novela del mismo nombre escrita por Shinkai que fue publicada el 18 de junio de 2016.3​4​ Masayoshi Tanaka fue el diseñador de personajes y la banda japonesa Radwimps compuso la música de la película. Se estrenó en la convención Anime Expo 2016 en Los Ángeles el 3 de julio de 2016 y más tarde se estrenó en Japón el 26 de agosto del mismo año.5​6​7​ En la Anime Expo 2016 también se anunció que la película había sido licenciada por Funimation.8​ Su estreno europeo fue durante el Festival Internacional de Cine de San Sebastián, el día 22 de septiembre de 2016.9​10​ Selecta Visión adquirió los derechos para distribuirla en España a partir de enero de 2017. Por su parte, KEM Media adquirió los derechos de distribución para Latinoamérica desde agosto del mismo año.\n",
    "\n",
    "Los protagonistas, Taki y Mitsuha, son dos completos desconocidos, y a pesar de eso están destinados a conocerse. Durante el sueño, ambos adolescentes intercambian sus cuerpos, con resultados impredecibles en la vida de ambos.11​ Mitsuha es una joven de pueblo que anhela la emoción de la vida de la ciudad. Un día, sueña con un chico tal y como desea, al mismo tiempo que el chico en cuestión, Taki, de la gran ciudad, sueña a su vez con Mitsuha, una encantadora chica del campo. Taki y Mitsuha descubren un día que durante el sueño sus cuerpos se intercambian, y comienzan a comunicarse por medio de notas. A medida que consiguen superar un reto tras otro, se va creando entre los dos un vínculo muy especial. La inconveniencia sucede cuando ambos, tras saber su conexión especial por lazos temporales (que suceden por medio de los sueños), descubren un enorme deseo de querer conocer al otro."
   ]
  },
  {
   "cell_type": "markdown",
   "metadata": {},
   "source": [
    "### Ejercicio 1.2\n",
    "\n",
    "Examine cómo varían los resultados si tomamos directamente la variable de popularidad."
   ]
  },
  {
   "cell_type": "code",
   "execution_count": 76,
   "metadata": {
    "scrolled": true
   },
   "outputs": [
    {
     "data": {
      "text/html": [
       "<div>\n",
       "<style scoped>\n",
       "    .dataframe tbody tr th:only-of-type {\n",
       "        vertical-align: middle;\n",
       "    }\n",
       "\n",
       "    .dataframe tbody tr th {\n",
       "        vertical-align: top;\n",
       "    }\n",
       "\n",
       "    .dataframe thead th {\n",
       "        text-align: right;\n",
       "    }\n",
       "</style>\n",
       "<table border=\"1\" class=\"dataframe\">\n",
       "  <thead>\n",
       "    <tr style=\"text-align: right;\">\n",
       "      <th></th>\n",
       "      <th>original_title</th>\n",
       "      <th>popularity</th>\n",
       "    </tr>\n",
       "  </thead>\n",
       "  <tbody>\n",
       "    <tr>\n",
       "      <th>30700</th>\n",
       "      <td>Minions</td>\n",
       "      <td>547.488298</td>\n",
       "    </tr>\n",
       "    <tr>\n",
       "      <th>33356</th>\n",
       "      <td>Wonder Woman</td>\n",
       "      <td>294.337037</td>\n",
       "    </tr>\n",
       "    <tr>\n",
       "      <th>42222</th>\n",
       "      <td>Beauty and the Beast</td>\n",
       "      <td>287.253654</td>\n",
       "    </tr>\n",
       "    <tr>\n",
       "      <th>43644</th>\n",
       "      <td>Baby Driver</td>\n",
       "      <td>228.032744</td>\n",
       "    </tr>\n",
       "    <tr>\n",
       "      <th>24455</th>\n",
       "      <td>Big Hero 6</td>\n",
       "      <td>213.849907</td>\n",
       "    </tr>\n",
       "    <tr>\n",
       "      <th>26564</th>\n",
       "      <td>Deadpool</td>\n",
       "      <td>187.860492</td>\n",
       "    </tr>\n",
       "    <tr>\n",
       "      <th>26566</th>\n",
       "      <td>Guardians of the Galaxy Vol. 2</td>\n",
       "      <td>185.330992</td>\n",
       "    </tr>\n",
       "    <tr>\n",
       "      <th>14551</th>\n",
       "      <td>Avatar</td>\n",
       "      <td>185.070892</td>\n",
       "    </tr>\n",
       "    <tr>\n",
       "      <th>24351</th>\n",
       "      <td>John Wick</td>\n",
       "      <td>183.870374</td>\n",
       "    </tr>\n",
       "    <tr>\n",
       "      <th>23675</th>\n",
       "      <td>Gone Girl</td>\n",
       "      <td>154.801009</td>\n",
       "    </tr>\n",
       "    <tr>\n",
       "      <th>24873</th>\n",
       "      <td>The Hunger Games: Mockingjay - Part 1</td>\n",
       "      <td>147.098006</td>\n",
       "    </tr>\n",
       "    <tr>\n",
       "      <th>44274</th>\n",
       "      <td>War for the Planet of the Apes</td>\n",
       "      <td>146.161786</td>\n",
       "    </tr>\n",
       "    <tr>\n",
       "      <th>26567</th>\n",
       "      <td>Captain America: Civil War</td>\n",
       "      <td>145.882135</td>\n",
       "    </tr>\n",
       "    <tr>\n",
       "      <th>292</th>\n",
       "      <td>Pulp Fiction</td>\n",
       "      <td>140.950236</td>\n",
       "    </tr>\n",
       "    <tr>\n",
       "      <th>26560</th>\n",
       "      <td>Pirates of the Caribbean: Dead Men Tell No Tales</td>\n",
       "      <td>133.827820</td>\n",
       "    </tr>\n",
       "    <tr>\n",
       "      <th>12481</th>\n",
       "      <td>The Dark Knight</td>\n",
       "      <td>123.167259</td>\n",
       "    </tr>\n",
       "    <tr>\n",
       "      <th>536</th>\n",
       "      <td>Blade Runner</td>\n",
       "      <td>96.272374</td>\n",
       "    </tr>\n",
       "    <tr>\n",
       "      <th>17818</th>\n",
       "      <td>The Avengers</td>\n",
       "      <td>89.887648</td>\n",
       "    </tr>\n",
       "    <tr>\n",
       "      <th>43286</th>\n",
       "      <td>Captain Underpants: The First Epic Movie</td>\n",
       "      <td>88.561239</td>\n",
       "    </tr>\n",
       "    <tr>\n",
       "      <th>33361</th>\n",
       "      <td>The Circle</td>\n",
       "      <td>88.439243</td>\n",
       "    </tr>\n",
       "  </tbody>\n",
       "</table>\n",
       "</div>"
      ],
      "text/plain": [
       "                                         original_title  popularity\n",
       "30700                                           Minions  547.488298\n",
       "33356                                      Wonder Woman  294.337037\n",
       "42222                              Beauty and the Beast  287.253654\n",
       "43644                                       Baby Driver  228.032744\n",
       "24455                                        Big Hero 6  213.849907\n",
       "26564                                          Deadpool  187.860492\n",
       "26566                    Guardians of the Galaxy Vol. 2  185.330992\n",
       "14551                                            Avatar  185.070892\n",
       "24351                                         John Wick  183.870374\n",
       "23675                                         Gone Girl  154.801009\n",
       "24873             The Hunger Games: Mockingjay - Part 1  147.098006\n",
       "44274                    War for the Planet of the Apes  146.161786\n",
       "26567                        Captain America: Civil War  145.882135\n",
       "292                                        Pulp Fiction  140.950236\n",
       "26560  Pirates of the Caribbean: Dead Men Tell No Tales  133.827820\n",
       "12481                                   The Dark Knight  123.167259\n",
       "536                                        Blade Runner   96.272374\n",
       "17818                                      The Avengers   89.887648\n",
       "43286          Captain Underpants: The First Epic Movie   88.561239\n",
       "33361                                        The Circle   88.439243"
      ]
     },
     "execution_count": 76,
     "metadata": {},
     "output_type": "execute_result"
    }
   ],
   "source": [
    "metadata.sort_values(by=['popularity'], ascending=False)[['original_title','popularity']].head(20)\n"
   ]
  },
  {
   "cell_type": "markdown",
   "metadata": {},
   "source": [
    "Se nota que según la popularidad, en el TOP 10 se encuentran películas infantiles"
   ]
  },
  {
   "cell_type": "markdown",
   "metadata": {},
   "source": [
    "### Recomendación de peliculas mas populares por genero"
   ]
  },
  {
   "cell_type": "code",
   "execution_count": 77,
   "metadata": {},
   "outputs": [
    {
     "data": {
      "text/html": [
       "<div>\n",
       "<style scoped>\n",
       "    .dataframe tbody tr th:only-of-type {\n",
       "        vertical-align: middle;\n",
       "    }\n",
       "\n",
       "    .dataframe tbody tr th {\n",
       "        vertical-align: top;\n",
       "    }\n",
       "\n",
       "    .dataframe thead th {\n",
       "        text-align: right;\n",
       "    }\n",
       "</style>\n",
       "<table border=\"1\" class=\"dataframe\">\n",
       "  <thead>\n",
       "    <tr style=\"text-align: right;\">\n",
       "      <th></th>\n",
       "      <th>adult</th>\n",
       "      <th>belongs_to_collection</th>\n",
       "      <th>budget</th>\n",
       "      <th>genres</th>\n",
       "      <th>homepage</th>\n",
       "      <th>id</th>\n",
       "      <th>imdb_id</th>\n",
       "      <th>original_language</th>\n",
       "      <th>original_title</th>\n",
       "      <th>overview</th>\n",
       "      <th>...</th>\n",
       "      <th>revenue</th>\n",
       "      <th>runtime</th>\n",
       "      <th>spoken_languages</th>\n",
       "      <th>status</th>\n",
       "      <th>tagline</th>\n",
       "      <th>title</th>\n",
       "      <th>video</th>\n",
       "      <th>vote_average</th>\n",
       "      <th>vote_count</th>\n",
       "      <th>year</th>\n",
       "    </tr>\n",
       "  </thead>\n",
       "  <tbody>\n",
       "    <tr>\n",
       "      <th>0</th>\n",
       "      <td>False</td>\n",
       "      <td>{'id': 10194, 'name': 'Toy Story Collection', ...</td>\n",
       "      <td>30000000</td>\n",
       "      <td>[Animation, Comedy, Family]</td>\n",
       "      <td>http://toystory.disney.com/toy-story</td>\n",
       "      <td>862</td>\n",
       "      <td>tt0114709</td>\n",
       "      <td>en</td>\n",
       "      <td>Toy Story</td>\n",
       "      <td>Led by Woody, Andy's toys live happily in his ...</td>\n",
       "      <td>...</td>\n",
       "      <td>373554033.0</td>\n",
       "      <td>81.0</td>\n",
       "      <td>[{'iso_639_1': 'en', 'name': 'English'}]</td>\n",
       "      <td>Released</td>\n",
       "      <td>NaN</td>\n",
       "      <td>Toy Story</td>\n",
       "      <td>False</td>\n",
       "      <td>7.7</td>\n",
       "      <td>5415.0</td>\n",
       "      <td>1995</td>\n",
       "    </tr>\n",
       "    <tr>\n",
       "      <th>1</th>\n",
       "      <td>False</td>\n",
       "      <td>NaN</td>\n",
       "      <td>65000000</td>\n",
       "      <td>[Adventure, Fantasy, Family]</td>\n",
       "      <td>NaN</td>\n",
       "      <td>8844</td>\n",
       "      <td>tt0113497</td>\n",
       "      <td>en</td>\n",
       "      <td>Jumanji</td>\n",
       "      <td>When siblings Judy and Peter discover an encha...</td>\n",
       "      <td>...</td>\n",
       "      <td>262797249.0</td>\n",
       "      <td>104.0</td>\n",
       "      <td>[{'iso_639_1': 'en', 'name': 'English'}, {'iso...</td>\n",
       "      <td>Released</td>\n",
       "      <td>Roll the dice and unleash the excitement!</td>\n",
       "      <td>Jumanji</td>\n",
       "      <td>False</td>\n",
       "      <td>6.9</td>\n",
       "      <td>2413.0</td>\n",
       "      <td>1995</td>\n",
       "    </tr>\n",
       "    <tr>\n",
       "      <th>2</th>\n",
       "      <td>False</td>\n",
       "      <td>{'id': 119050, 'name': 'Grumpy Old Men Collect...</td>\n",
       "      <td>0</td>\n",
       "      <td>[Romance, Comedy]</td>\n",
       "      <td>NaN</td>\n",
       "      <td>15602</td>\n",
       "      <td>tt0113228</td>\n",
       "      <td>en</td>\n",
       "      <td>Grumpier Old Men</td>\n",
       "      <td>A family wedding reignites the ancient feud be...</td>\n",
       "      <td>...</td>\n",
       "      <td>0.0</td>\n",
       "      <td>101.0</td>\n",
       "      <td>[{'iso_639_1': 'en', 'name': 'English'}]</td>\n",
       "      <td>Released</td>\n",
       "      <td>Still Yelling. Still Fighting. Still Ready for...</td>\n",
       "      <td>Grumpier Old Men</td>\n",
       "      <td>False</td>\n",
       "      <td>6.5</td>\n",
       "      <td>92.0</td>\n",
       "      <td>1995</td>\n",
       "    </tr>\n",
       "  </tbody>\n",
       "</table>\n",
       "<p>3 rows × 25 columns</p>\n",
       "</div>"
      ],
      "text/plain": [
       "   adult                              belongs_to_collection    budget  \\\n",
       "0  False  {'id': 10194, 'name': 'Toy Story Collection', ...  30000000   \n",
       "1  False                                                NaN  65000000   \n",
       "2  False  {'id': 119050, 'name': 'Grumpy Old Men Collect...         0   \n",
       "\n",
       "                         genres                              homepage     id  \\\n",
       "0   [Animation, Comedy, Family]  http://toystory.disney.com/toy-story    862   \n",
       "1  [Adventure, Fantasy, Family]                                   NaN   8844   \n",
       "2             [Romance, Comedy]                                   NaN  15602   \n",
       "\n",
       "     imdb_id original_language    original_title  \\\n",
       "0  tt0114709                en         Toy Story   \n",
       "1  tt0113497                en           Jumanji   \n",
       "2  tt0113228                en  Grumpier Old Men   \n",
       "\n",
       "                                            overview  ...      revenue  \\\n",
       "0  Led by Woody, Andy's toys live happily in his ...  ...  373554033.0   \n",
       "1  When siblings Judy and Peter discover an encha...  ...  262797249.0   \n",
       "2  A family wedding reignites the ancient feud be...  ...          0.0   \n",
       "\n",
       "  runtime                                   spoken_languages    status  \\\n",
       "0    81.0           [{'iso_639_1': 'en', 'name': 'English'}]  Released   \n",
       "1   104.0  [{'iso_639_1': 'en', 'name': 'English'}, {'iso...  Released   \n",
       "2   101.0           [{'iso_639_1': 'en', 'name': 'English'}]  Released   \n",
       "\n",
       "                                             tagline             title  video  \\\n",
       "0                                                NaN         Toy Story  False   \n",
       "1          Roll the dice and unleash the excitement!           Jumanji  False   \n",
       "2  Still Yelling. Still Fighting. Still Ready for...  Grumpier Old Men  False   \n",
       "\n",
       "  vote_average vote_count  year  \n",
       "0          7.7     5415.0  1995  \n",
       "1          6.9     2413.0  1995  \n",
       "2          6.5       92.0  1995  \n",
       "\n",
       "[3 rows x 25 columns]"
      ]
     },
     "execution_count": 77,
     "metadata": {},
     "output_type": "execute_result"
    }
   ],
   "source": [
    "import numpy as np\n",
    "from ast import literal_eval\n",
    "\n",
    "# trabajamos la informacion por generos\n",
    "metadata['genres'] = metadata['genres'].fillna('[]').apply(literal_eval).apply(lambda x: [i['name'] for i in x] if isinstance(x, list) else [])\n",
    "\n",
    "# añadimos la variable del año\n",
    "metadata['year'] = pd.to_datetime(metadata['release_date'], errors='coerce').apply(lambda x: str(x).split('-')[0] if x != np.nan else np.nan)\n",
    "\n",
    "metadata.head(3)"
   ]
  },
  {
   "cell_type": "markdown",
   "metadata": {},
   "source": [
    "Primero nos quedamos con todos los generos:"
   ]
  },
  {
   "cell_type": "code",
   "execution_count": 78,
   "metadata": {},
   "outputs": [
    {
     "data": {
      "text/html": [
       "<div>\n",
       "<style scoped>\n",
       "    .dataframe tbody tr th:only-of-type {\n",
       "        vertical-align: middle;\n",
       "    }\n",
       "\n",
       "    .dataframe tbody tr th {\n",
       "        vertical-align: top;\n",
       "    }\n",
       "\n",
       "    .dataframe thead th {\n",
       "        text-align: right;\n",
       "    }\n",
       "</style>\n",
       "<table border=\"1\" class=\"dataframe\">\n",
       "  <thead>\n",
       "    <tr style=\"text-align: right;\">\n",
       "      <th></th>\n",
       "      <th>adult</th>\n",
       "      <th>belongs_to_collection</th>\n",
       "      <th>budget</th>\n",
       "      <th>homepage</th>\n",
       "      <th>id</th>\n",
       "      <th>imdb_id</th>\n",
       "      <th>original_language</th>\n",
       "      <th>original_title</th>\n",
       "      <th>overview</th>\n",
       "      <th>popularity</th>\n",
       "      <th>...</th>\n",
       "      <th>runtime</th>\n",
       "      <th>spoken_languages</th>\n",
       "      <th>status</th>\n",
       "      <th>tagline</th>\n",
       "      <th>title</th>\n",
       "      <th>video</th>\n",
       "      <th>vote_average</th>\n",
       "      <th>vote_count</th>\n",
       "      <th>year</th>\n",
       "      <th>genre</th>\n",
       "    </tr>\n",
       "  </thead>\n",
       "  <tbody>\n",
       "    <tr>\n",
       "      <th>0</th>\n",
       "      <td>False</td>\n",
       "      <td>{'id': 10194, 'name': 'Toy Story Collection', ...</td>\n",
       "      <td>30000000</td>\n",
       "      <td>http://toystory.disney.com/toy-story</td>\n",
       "      <td>862</td>\n",
       "      <td>tt0114709</td>\n",
       "      <td>en</td>\n",
       "      <td>Toy Story</td>\n",
       "      <td>Led by Woody, Andy's toys live happily in his ...</td>\n",
       "      <td>21.946943</td>\n",
       "      <td>...</td>\n",
       "      <td>81.0</td>\n",
       "      <td>[{'iso_639_1': 'en', 'name': 'English'}]</td>\n",
       "      <td>Released</td>\n",
       "      <td>NaN</td>\n",
       "      <td>Toy Story</td>\n",
       "      <td>False</td>\n",
       "      <td>7.7</td>\n",
       "      <td>5415.0</td>\n",
       "      <td>1995</td>\n",
       "      <td>Animation</td>\n",
       "    </tr>\n",
       "    <tr>\n",
       "      <th>0</th>\n",
       "      <td>False</td>\n",
       "      <td>{'id': 10194, 'name': 'Toy Story Collection', ...</td>\n",
       "      <td>30000000</td>\n",
       "      <td>http://toystory.disney.com/toy-story</td>\n",
       "      <td>862</td>\n",
       "      <td>tt0114709</td>\n",
       "      <td>en</td>\n",
       "      <td>Toy Story</td>\n",
       "      <td>Led by Woody, Andy's toys live happily in his ...</td>\n",
       "      <td>21.946943</td>\n",
       "      <td>...</td>\n",
       "      <td>81.0</td>\n",
       "      <td>[{'iso_639_1': 'en', 'name': 'English'}]</td>\n",
       "      <td>Released</td>\n",
       "      <td>NaN</td>\n",
       "      <td>Toy Story</td>\n",
       "      <td>False</td>\n",
       "      <td>7.7</td>\n",
       "      <td>5415.0</td>\n",
       "      <td>1995</td>\n",
       "      <td>Comedy</td>\n",
       "    </tr>\n",
       "    <tr>\n",
       "      <th>0</th>\n",
       "      <td>False</td>\n",
       "      <td>{'id': 10194, 'name': 'Toy Story Collection', ...</td>\n",
       "      <td>30000000</td>\n",
       "      <td>http://toystory.disney.com/toy-story</td>\n",
       "      <td>862</td>\n",
       "      <td>tt0114709</td>\n",
       "      <td>en</td>\n",
       "      <td>Toy Story</td>\n",
       "      <td>Led by Woody, Andy's toys live happily in his ...</td>\n",
       "      <td>21.946943</td>\n",
       "      <td>...</td>\n",
       "      <td>81.0</td>\n",
       "      <td>[{'iso_639_1': 'en', 'name': 'English'}]</td>\n",
       "      <td>Released</td>\n",
       "      <td>NaN</td>\n",
       "      <td>Toy Story</td>\n",
       "      <td>False</td>\n",
       "      <td>7.7</td>\n",
       "      <td>5415.0</td>\n",
       "      <td>1995</td>\n",
       "      <td>Family</td>\n",
       "    </tr>\n",
       "  </tbody>\n",
       "</table>\n",
       "<p>3 rows × 25 columns</p>\n",
       "</div>"
      ],
      "text/plain": [
       "   adult                              belongs_to_collection    budget  \\\n",
       "0  False  {'id': 10194, 'name': 'Toy Story Collection', ...  30000000   \n",
       "0  False  {'id': 10194, 'name': 'Toy Story Collection', ...  30000000   \n",
       "0  False  {'id': 10194, 'name': 'Toy Story Collection', ...  30000000   \n",
       "\n",
       "                               homepage   id    imdb_id original_language  \\\n",
       "0  http://toystory.disney.com/toy-story  862  tt0114709                en   \n",
       "0  http://toystory.disney.com/toy-story  862  tt0114709                en   \n",
       "0  http://toystory.disney.com/toy-story  862  tt0114709                en   \n",
       "\n",
       "  original_title                                           overview  \\\n",
       "0      Toy Story  Led by Woody, Andy's toys live happily in his ...   \n",
       "0      Toy Story  Led by Woody, Andy's toys live happily in his ...   \n",
       "0      Toy Story  Led by Woody, Andy's toys live happily in his ...   \n",
       "\n",
       "   popularity  ... runtime                          spoken_languages  \\\n",
       "0   21.946943  ...    81.0  [{'iso_639_1': 'en', 'name': 'English'}]   \n",
       "0   21.946943  ...    81.0  [{'iso_639_1': 'en', 'name': 'English'}]   \n",
       "0   21.946943  ...    81.0  [{'iso_639_1': 'en', 'name': 'English'}]   \n",
       "\n",
       "     status tagline      title  video vote_average vote_count  year      genre  \n",
       "0  Released     NaN  Toy Story  False          7.7     5415.0  1995  Animation  \n",
       "0  Released     NaN  Toy Story  False          7.7     5415.0  1995     Comedy  \n",
       "0  Released     NaN  Toy Story  False          7.7     5415.0  1995     Family  \n",
       "\n",
       "[3 rows x 25 columns]"
      ]
     },
     "execution_count": 78,
     "metadata": {},
     "output_type": "execute_result"
    }
   ],
   "source": [
    "generos = metadata.apply(lambda x: pd.Series(x['genres']),axis=1).stack().reset_index(level=1, drop=True)\n",
    "generos.name = 'genre'\n",
    "gen_md = metadata.drop('genres', axis=1).join(generos)\n",
    "\n",
    "gen_md.head(3)"
   ]
  },
  {
   "cell_type": "markdown",
   "metadata": {},
   "source": [
    "Construimos una funcion para un género particular y que tome en cuenta peliculas con un número vmin de votos:"
   ]
  },
  {
   "cell_type": "code",
   "execution_count": 79,
   "metadata": {},
   "outputs": [],
   "source": [
    "def rec_gen(genero, vmin):\n",
    "    df = gen_md[gen_md['genre'] == genero]\n",
    "    v = df[df['vote_count'].notnull()]['vote_count'].astype('int')\n",
    "    R = df[df['vote_average'].notnull()]['vote_average'].astype('int')\n",
    "    m = df['vote_average'].max()\n",
    "    \n",
    "    pelisG = df[(df['vote_count'] >= vmin) & (df['vote_count'].notnull()) & (df['vote_average'].notnull())][['title', 'year', 'vote_count', 'vote_average', 'popularity', 'overview', 'homepage']]\n",
    "    pelisG['vote_count'] = pelisG['vote_count'].astype('int')\n",
    "    pelisG['vote_average'] = pelisG['vote_average'].astype('int')\n",
    "    \n",
    "    pelisG['wr'] = v/m * R\n",
    "    pelisG = pelisG.sort_values('wr', ascending=False).head(250)\n",
    "    \n",
    "    return pelisG\n",
    "\n"
   ]
  },
  {
   "cell_type": "markdown",
   "metadata": {},
   "source": [
    "Veamos el Top-15 de recomendaciones en Ciencia Ficción:"
   ]
  },
  {
   "cell_type": "code",
   "execution_count": 80,
   "metadata": {},
   "outputs": [
    {
     "data": {
      "text/html": [
       "<div>\n",
       "<style scoped>\n",
       "    .dataframe tbody tr th:only-of-type {\n",
       "        vertical-align: middle;\n",
       "    }\n",
       "\n",
       "    .dataframe tbody tr th {\n",
       "        vertical-align: top;\n",
       "    }\n",
       "\n",
       "    .dataframe thead th {\n",
       "        text-align: right;\n",
       "    }\n",
       "</style>\n",
       "<table border=\"1\" class=\"dataframe\">\n",
       "  <thead>\n",
       "    <tr style=\"text-align: right;\">\n",
       "      <th></th>\n",
       "      <th>title</th>\n",
       "      <th>year</th>\n",
       "      <th>vote_count</th>\n",
       "      <th>vote_average</th>\n",
       "      <th>popularity</th>\n",
       "      <th>overview</th>\n",
       "      <th>homepage</th>\n",
       "      <th>wr</th>\n",
       "    </tr>\n",
       "  </thead>\n",
       "  <tbody>\n",
       "    <tr>\n",
       "      <th>15480</th>\n",
       "      <td>Inception</td>\n",
       "      <td>2010</td>\n",
       "      <td>14075</td>\n",
       "      <td>8</td>\n",
       "      <td>29.108149</td>\n",
       "      <td>Cobb, a skilled thief who commits corporate es...</td>\n",
       "      <td>http://inceptionmovie.warnerbros.com/</td>\n",
       "      <td>11260.0</td>\n",
       "    </tr>\n",
       "    <tr>\n",
       "      <th>22879</th>\n",
       "      <td>Interstellar</td>\n",
       "      <td>2014</td>\n",
       "      <td>11187</td>\n",
       "      <td>8</td>\n",
       "      <td>32.213481</td>\n",
       "      <td>Interstellar chronicles the adventures of a gr...</td>\n",
       "      <td>http://www.interstellarmovie.net/</td>\n",
       "      <td>8949.6</td>\n",
       "    </tr>\n",
       "    <tr>\n",
       "      <th>14551</th>\n",
       "      <td>Avatar</td>\n",
       "      <td>2009</td>\n",
       "      <td>12114</td>\n",
       "      <td>7</td>\n",
       "      <td>185.070892</td>\n",
       "      <td>In the 22nd century, a paraplegic Marine is di...</td>\n",
       "      <td>http://www.avatarmovie.com/</td>\n",
       "      <td>8479.8</td>\n",
       "    </tr>\n",
       "    <tr>\n",
       "      <th>17818</th>\n",
       "      <td>The Avengers</td>\n",
       "      <td>2012</td>\n",
       "      <td>12000</td>\n",
       "      <td>7</td>\n",
       "      <td>89.887648</td>\n",
       "      <td>When an unexpected enemy emerges and threatens...</td>\n",
       "      <td>http://marvel.com/avengers_movie/</td>\n",
       "      <td>8400.0</td>\n",
       "    </tr>\n",
       "    <tr>\n",
       "      <th>23753</th>\n",
       "      <td>Guardians of the Galaxy</td>\n",
       "      <td>2014</td>\n",
       "      <td>10014</td>\n",
       "      <td>7</td>\n",
       "      <td>53.291601</td>\n",
       "      <td>Light years from Earth, 26 years after being a...</td>\n",
       "      <td>http://marvel.com/guardians</td>\n",
       "      <td>7009.8</td>\n",
       "    </tr>\n",
       "    <tr>\n",
       "      <th>26553</th>\n",
       "      <td>Mad Max: Fury Road</td>\n",
       "      <td>2015</td>\n",
       "      <td>9629</td>\n",
       "      <td>7</td>\n",
       "      <td>29.361780</td>\n",
       "      <td>An apocalyptic story set in the furthest reach...</td>\n",
       "      <td>http://www.madmaxmovie.com/</td>\n",
       "      <td>6740.3</td>\n",
       "    </tr>\n",
       "    <tr>\n",
       "      <th>2458</th>\n",
       "      <td>The Matrix</td>\n",
       "      <td>1999</td>\n",
       "      <td>9079</td>\n",
       "      <td>7</td>\n",
       "      <td>33.366332</td>\n",
       "      <td>Set in the 22nd century, The Matrix tells the ...</td>\n",
       "      <td>http://www.warnerbros.com/matrix</td>\n",
       "      <td>6355.3</td>\n",
       "    </tr>\n",
       "    <tr>\n",
       "      <th>12588</th>\n",
       "      <td>Iron Man</td>\n",
       "      <td>2008</td>\n",
       "      <td>8951</td>\n",
       "      <td>7</td>\n",
       "      <td>22.073099</td>\n",
       "      <td>After being held captive in an Afghan cave, bi...</td>\n",
       "      <td>http://www.ironmanmovie.com/</td>\n",
       "      <td>6265.7</td>\n",
       "    </tr>\n",
       "    <tr>\n",
       "      <th>18244</th>\n",
       "      <td>The Hunger Games</td>\n",
       "      <td>2012</td>\n",
       "      <td>9634</td>\n",
       "      <td>6</td>\n",
       "      <td>20.031667</td>\n",
       "      <td>Every year in the ruins of what was once North...</td>\n",
       "      <td>http://www.thehungergames.movie/</td>\n",
       "      <td>5780.4</td>\n",
       "    </tr>\n",
       "    <tr>\n",
       "      <th>26555</th>\n",
       "      <td>Star Wars: The Force Awakens</td>\n",
       "      <td>2015</td>\n",
       "      <td>7993</td>\n",
       "      <td>7</td>\n",
       "      <td>31.626013</td>\n",
       "      <td>Thirty years after defeating the Galactic Empi...</td>\n",
       "      <td>http://www.starwars.com/films/star-wars-episod...</td>\n",
       "      <td>5595.1</td>\n",
       "    </tr>\n",
       "    <tr>\n",
       "      <th>256</th>\n",
       "      <td>Star Wars</td>\n",
       "      <td>1977</td>\n",
       "      <td>6778</td>\n",
       "      <td>8</td>\n",
       "      <td>42.149697</td>\n",
       "      <td>Princess Leia is captured and held hostage by ...</td>\n",
       "      <td>http://www.starwars.com/films/star-wars-episod...</td>\n",
       "      <td>5422.4</td>\n",
       "    </tr>\n",
       "    <tr>\n",
       "      <th>20830</th>\n",
       "      <td>Iron Man 3</td>\n",
       "      <td>2013</td>\n",
       "      <td>8951</td>\n",
       "      <td>6</td>\n",
       "      <td>23.721243</td>\n",
       "      <td>When Tony Stark's world is torn apart by a for...</td>\n",
       "      <td>http://marvel.com/ironman3</td>\n",
       "      <td>5370.6</td>\n",
       "    </tr>\n",
       "    <tr>\n",
       "      <th>25084</th>\n",
       "      <td>Jurassic World</td>\n",
       "      <td>2015</td>\n",
       "      <td>8842</td>\n",
       "      <td>6</td>\n",
       "      <td>32.790475</td>\n",
       "      <td>Twenty-two years after the events of Jurassic ...</td>\n",
       "      <td>http://www.jurassicworld.com/</td>\n",
       "      <td>5305.2</td>\n",
       "    </tr>\n",
       "    <tr>\n",
       "      <th>26567</th>\n",
       "      <td>Captain America: Civil War</td>\n",
       "      <td>2016</td>\n",
       "      <td>7462</td>\n",
       "      <td>7</td>\n",
       "      <td>145.882135</td>\n",
       "      <td>Following the events of Age of Ultron, the col...</td>\n",
       "      <td>http://marvel.com/captainamericapremiere</td>\n",
       "      <td>5223.4</td>\n",
       "    </tr>\n",
       "    <tr>\n",
       "      <th>30051</th>\n",
       "      <td>The Martian</td>\n",
       "      <td>2015</td>\n",
       "      <td>7442</td>\n",
       "      <td>7</td>\n",
       "      <td>25.629930</td>\n",
       "      <td>During a manned mission to Mars, Astronaut Mar...</td>\n",
       "      <td>http://www.foxmovies.com/movies/the-martian</td>\n",
       "      <td>5209.4</td>\n",
       "    </tr>\n",
       "  </tbody>\n",
       "</table>\n",
       "</div>"
      ],
      "text/plain": [
       "                              title  year  vote_count  vote_average  \\\n",
       "15480                     Inception  2010       14075             8   \n",
       "22879                  Interstellar  2014       11187             8   \n",
       "14551                        Avatar  2009       12114             7   \n",
       "17818                  The Avengers  2012       12000             7   \n",
       "23753       Guardians of the Galaxy  2014       10014             7   \n",
       "26553            Mad Max: Fury Road  2015        9629             7   \n",
       "2458                     The Matrix  1999        9079             7   \n",
       "12588                      Iron Man  2008        8951             7   \n",
       "18244              The Hunger Games  2012        9634             6   \n",
       "26555  Star Wars: The Force Awakens  2015        7993             7   \n",
       "256                       Star Wars  1977        6778             8   \n",
       "20830                    Iron Man 3  2013        8951             6   \n",
       "25084                Jurassic World  2015        8842             6   \n",
       "26567    Captain America: Civil War  2016        7462             7   \n",
       "30051                   The Martian  2015        7442             7   \n",
       "\n",
       "       popularity                                           overview  \\\n",
       "15480   29.108149  Cobb, a skilled thief who commits corporate es...   \n",
       "22879   32.213481  Interstellar chronicles the adventures of a gr...   \n",
       "14551  185.070892  In the 22nd century, a paraplegic Marine is di...   \n",
       "17818   89.887648  When an unexpected enemy emerges and threatens...   \n",
       "23753   53.291601  Light years from Earth, 26 years after being a...   \n",
       "26553   29.361780  An apocalyptic story set in the furthest reach...   \n",
       "2458    33.366332  Set in the 22nd century, The Matrix tells the ...   \n",
       "12588   22.073099  After being held captive in an Afghan cave, bi...   \n",
       "18244   20.031667  Every year in the ruins of what was once North...   \n",
       "26555   31.626013  Thirty years after defeating the Galactic Empi...   \n",
       "256     42.149697  Princess Leia is captured and held hostage by ...   \n",
       "20830   23.721243  When Tony Stark's world is torn apart by a for...   \n",
       "25084   32.790475  Twenty-two years after the events of Jurassic ...   \n",
       "26567  145.882135  Following the events of Age of Ultron, the col...   \n",
       "30051   25.629930  During a manned mission to Mars, Astronaut Mar...   \n",
       "\n",
       "                                                homepage       wr  \n",
       "15480              http://inceptionmovie.warnerbros.com/  11260.0  \n",
       "22879                  http://www.interstellarmovie.net/   8949.6  \n",
       "14551                        http://www.avatarmovie.com/   8479.8  \n",
       "17818                  http://marvel.com/avengers_movie/   8400.0  \n",
       "23753                        http://marvel.com/guardians   7009.8  \n",
       "26553                        http://www.madmaxmovie.com/   6740.3  \n",
       "2458                    http://www.warnerbros.com/matrix   6355.3  \n",
       "12588                       http://www.ironmanmovie.com/   6265.7  \n",
       "18244                   http://www.thehungergames.movie/   5780.4  \n",
       "26555  http://www.starwars.com/films/star-wars-episod...   5595.1  \n",
       "256    http://www.starwars.com/films/star-wars-episod...   5422.4  \n",
       "20830                         http://marvel.com/ironman3   5370.6  \n",
       "25084                      http://www.jurassicworld.com/   5305.2  \n",
       "26567           http://marvel.com/captainamericapremiere   5223.4  \n",
       "30051        http://www.foxmovies.com/movies/the-martian   5209.4  "
      ]
     },
     "execution_count": 80,
     "metadata": {},
     "output_type": "execute_result"
    }
   ],
   "source": [
    "k = 15\n",
    "scifi = rec_gen('Science Fiction', 1000)\n",
    "scifi.head(15)"
   ]
  },
  {
   "cell_type": "markdown",
   "metadata": {},
   "source": [
    "Inception e Interstellar aparecen en las dos primeras posiciones. Personalmente me gusta más Interstellar (si quieres ver un agujero negro, esta película es lo mejor que podrás conseguir), pero reconozco que Inception tiene mucho nivel. Podemos seguir refinando este tipo de recomendaciones prestando atención a los distintos atributos que tenemos disponibles sobre las películas. \n"
   ]
  },
  {
   "cell_type": "markdown",
   "metadata": {},
   "source": [
    "### Ejercicio 1.3\n",
    "\n",
    "Elija el género de su interés y aplique la métrica propuesta en el Ejercicio 1.1"
   ]
  },
  {
   "cell_type": "code",
   "execution_count": 101,
   "metadata": {},
   "outputs": [],
   "source": [
    "def rec_gen1(genero, vmin):\n",
    "    df = gen_md[gen_md['genre'] == genero]\n",
    "    \n",
    "    pelisG = df[(df['vote_count'] >= vmin) & (df['vote_count'].notnull()) & (df['vote_average'].notnull())][['title', 'year', 'vote_count', 'vote_average', 'popularity', 'overview', 'homepage','revenue']]\n",
    "    pelisG = pelisG.sort_values('popularity', ascending=False).head(20)\n",
    "    \n",
    "    return pelisG"
   ]
  },
  {
   "cell_type": "code",
   "execution_count": 102,
   "metadata": {},
   "outputs": [
    {
     "data": {
      "text/html": [
       "<div>\n",
       "<style scoped>\n",
       "    .dataframe tbody tr th:only-of-type {\n",
       "        vertical-align: middle;\n",
       "    }\n",
       "\n",
       "    .dataframe tbody tr th {\n",
       "        vertical-align: top;\n",
       "    }\n",
       "\n",
       "    .dataframe thead th {\n",
       "        text-align: right;\n",
       "    }\n",
       "</style>\n",
       "<table border=\"1\" class=\"dataframe\">\n",
       "  <thead>\n",
       "    <tr style=\"text-align: right;\">\n",
       "      <th></th>\n",
       "      <th>title</th>\n",
       "      <th>year</th>\n",
       "      <th>vote_count</th>\n",
       "      <th>vote_average</th>\n",
       "      <th>popularity</th>\n",
       "      <th>overview</th>\n",
       "      <th>homepage</th>\n",
       "      <th>revenue</th>\n",
       "    </tr>\n",
       "  </thead>\n",
       "  <tbody>\n",
       "    <tr>\n",
       "      <th>23675</th>\n",
       "      <td>Gone Girl</td>\n",
       "      <td>2014</td>\n",
       "      <td>6023.0</td>\n",
       "      <td>7.9</td>\n",
       "      <td>154.801009</td>\n",
       "      <td>With his wife's disappearance having become th...</td>\n",
       "      <td>http://www.gonegirlmovie.com/</td>\n",
       "      <td>3.693304e+08</td>\n",
       "    </tr>\n",
       "    <tr>\n",
       "      <th>44274</th>\n",
       "      <td>War for the Planet of the Apes</td>\n",
       "      <td>2017</td>\n",
       "      <td>1675.0</td>\n",
       "      <td>6.7</td>\n",
       "      <td>146.161786</td>\n",
       "      <td>Caesar and his apes are forced into a deadly c...</td>\n",
       "      <td>http://www.foxmovies.com/movies/war-for-the-pl...</td>\n",
       "      <td>3.699080e+08</td>\n",
       "    </tr>\n",
       "    <tr>\n",
       "      <th>12481</th>\n",
       "      <td>The Dark Knight</td>\n",
       "      <td>2008</td>\n",
       "      <td>12269.0</td>\n",
       "      <td>8.3</td>\n",
       "      <td>123.167259</td>\n",
       "      <td>Batman raises the stakes in his war on crime. ...</td>\n",
       "      <td>http://thedarkknight.warnerbros.com/dvdsite/</td>\n",
       "      <td>1.004558e+09</td>\n",
       "    </tr>\n",
       "    <tr>\n",
       "      <th>536</th>\n",
       "      <td>Blade Runner</td>\n",
       "      <td>1982</td>\n",
       "      <td>3833.0</td>\n",
       "      <td>7.9</td>\n",
       "      <td>96.272374</td>\n",
       "      <td>In the smog-choked dystopian Los Angeles of 20...</td>\n",
       "      <td>http://www.warnerbros.com/blade-runner</td>\n",
       "      <td>3.313962e+07</td>\n",
       "    </tr>\n",
       "    <tr>\n",
       "      <th>33361</th>\n",
       "      <td>The Circle</td>\n",
       "      <td>2017</td>\n",
       "      <td>1015.0</td>\n",
       "      <td>5.4</td>\n",
       "      <td>88.439243</td>\n",
       "      <td>A young tech worker takes a job at a greedy In...</td>\n",
       "      <td>http://wearethecircle.com/</td>\n",
       "      <td>2.049784e+07</td>\n",
       "    </tr>\n",
       "    <tr>\n",
       "      <th>23692</th>\n",
       "      <td>Dawn of the Planet of the Apes</td>\n",
       "      <td>2014</td>\n",
       "      <td>4511.0</td>\n",
       "      <td>7.3</td>\n",
       "      <td>75.385211</td>\n",
       "      <td>A group of scientists in San Francisco struggl...</td>\n",
       "      <td>http://www.dawnofapes.com/</td>\n",
       "      <td>7.106446e+08</td>\n",
       "    </tr>\n",
       "    <tr>\n",
       "      <th>23673</th>\n",
       "      <td>Whiplash</td>\n",
       "      <td>2014</td>\n",
       "      <td>4376.0</td>\n",
       "      <td>8.3</td>\n",
       "      <td>64.299990</td>\n",
       "      <td>Under the direction of a ruthless instructor, ...</td>\n",
       "      <td>http://sonyclassics.com/whiplash/</td>\n",
       "      <td>1.309200e+07</td>\n",
       "    </tr>\n",
       "    <tr>\n",
       "      <th>2843</th>\n",
       "      <td>Fight Club</td>\n",
       "      <td>1999</td>\n",
       "      <td>9678.0</td>\n",
       "      <td>8.3</td>\n",
       "      <td>63.869599</td>\n",
       "      <td>A ticking-time-bomb insomniac and a slippery s...</td>\n",
       "      <td>http://www.foxmovies.com/movies/fight-club</td>\n",
       "      <td>1.008538e+08</td>\n",
       "    </tr>\n",
       "    <tr>\n",
       "      <th>42170</th>\n",
       "      <td>Logan</td>\n",
       "      <td>2017</td>\n",
       "      <td>6310.0</td>\n",
       "      <td>7.6</td>\n",
       "      <td>54.581997</td>\n",
       "      <td>In the near future, a weary Logan cares for an...</td>\n",
       "      <td>http://www.foxmovies.com/movies/logan</td>\n",
       "      <td>6.168018e+08</td>\n",
       "    </tr>\n",
       "    <tr>\n",
       "      <th>314</th>\n",
       "      <td>The Shawshank Redemption</td>\n",
       "      <td>1994</td>\n",
       "      <td>8358.0</td>\n",
       "      <td>8.5</td>\n",
       "      <td>51.645403</td>\n",
       "      <td>Framed in the 1940s for the double murder of h...</td>\n",
       "      <td>NaN</td>\n",
       "      <td>2.834147e+07</td>\n",
       "    </tr>\n",
       "    <tr>\n",
       "      <th>351</th>\n",
       "      <td>Forrest Gump</td>\n",
       "      <td>1994</td>\n",
       "      <td>8147.0</td>\n",
       "      <td>8.2</td>\n",
       "      <td>48.307194</td>\n",
       "      <td>A man with a low IQ has accomplished great thi...</td>\n",
       "      <td>NaN</td>\n",
       "      <td>6.779454e+08</td>\n",
       "    </tr>\n",
       "    <tr>\n",
       "      <th>42214</th>\n",
       "      <td>King Arthur: Legend of the Sword</td>\n",
       "      <td>2017</td>\n",
       "      <td>1506.0</td>\n",
       "      <td>6.5</td>\n",
       "      <td>44.251369</td>\n",
       "      <td>When the child Arthur’s father is murdered, Vo...</td>\n",
       "      <td>http://kingarthurmovie.com</td>\n",
       "      <td>1.461751e+08</td>\n",
       "    </tr>\n",
       "    <tr>\n",
       "      <th>522</th>\n",
       "      <td>Schindler's List</td>\n",
       "      <td>1993</td>\n",
       "      <td>4436.0</td>\n",
       "      <td>8.3</td>\n",
       "      <td>41.725123</td>\n",
       "      <td>The true story of how businessman Oskar Schind...</td>\n",
       "      <td>http://www.schindlerslist.com/</td>\n",
       "      <td>3.213656e+08</td>\n",
       "    </tr>\n",
       "    <tr>\n",
       "      <th>17588</th>\n",
       "      <td>Rise of the Planet of the Apes</td>\n",
       "      <td>2011</td>\n",
       "      <td>4452.0</td>\n",
       "      <td>7.0</td>\n",
       "      <td>41.613762</td>\n",
       "      <td>Scientist Will Rodman is determined to find a ...</td>\n",
       "      <td>http://www.apeswillrise.com/</td>\n",
       "      <td>4.828602e+08</td>\n",
       "    </tr>\n",
       "    <tr>\n",
       "      <th>834</th>\n",
       "      <td>The Godfather</td>\n",
       "      <td>1972</td>\n",
       "      <td>6024.0</td>\n",
       "      <td>8.5</td>\n",
       "      <td>41.109264</td>\n",
       "      <td>Spanning the years 1945 to 1955, a chronicle o...</td>\n",
       "      <td>http://www.thegodfather.com/</td>\n",
       "      <td>2.450664e+08</td>\n",
       "    </tr>\n",
       "    <tr>\n",
       "      <th>2211</th>\n",
       "      <td>Life Is Beautiful</td>\n",
       "      <td>1997</td>\n",
       "      <td>3643.0</td>\n",
       "      <td>8.3</td>\n",
       "      <td>39.394970</td>\n",
       "      <td>A touching story of an Italian book seller of ...</td>\n",
       "      <td>NaN</td>\n",
       "      <td>2.294000e+08</td>\n",
       "    </tr>\n",
       "    <tr>\n",
       "      <th>1176</th>\n",
       "      <td>Psycho</td>\n",
       "      <td>1960</td>\n",
       "      <td>2405.0</td>\n",
       "      <td>8.3</td>\n",
       "      <td>36.826309</td>\n",
       "      <td>When larcenous real estate clerk Marion Crane ...</td>\n",
       "      <td>NaN</td>\n",
       "      <td>3.200000e+07</td>\n",
       "    </tr>\n",
       "    <tr>\n",
       "      <th>24366</th>\n",
       "      <td>Fury</td>\n",
       "      <td>2014</td>\n",
       "      <td>4028.0</td>\n",
       "      <td>7.4</td>\n",
       "      <td>36.713807</td>\n",
       "      <td>Last months of World War II in April 1945. As ...</td>\n",
       "      <td>NaN</td>\n",
       "      <td>2.118179e+08</td>\n",
       "    </tr>\n",
       "    <tr>\n",
       "      <th>1178</th>\n",
       "      <td>The Godfather: Part II</td>\n",
       "      <td>1974</td>\n",
       "      <td>3418.0</td>\n",
       "      <td>8.3</td>\n",
       "      <td>36.629307</td>\n",
       "      <td>In the continuing saga of the Corleone crime f...</td>\n",
       "      <td>NaN</td>\n",
       "      <td>4.754284e+07</td>\n",
       "    </tr>\n",
       "    <tr>\n",
       "      <th>40025</th>\n",
       "      <td>Miss Peregrine's Home for Peculiar Children</td>\n",
       "      <td>2016</td>\n",
       "      <td>3213.0</td>\n",
       "      <td>6.5</td>\n",
       "      <td>36.262655</td>\n",
       "      <td>A teenager finds himself transported to an isl...</td>\n",
       "      <td>http://www.foxmovies.com/movies/miss-peregrine...</td>\n",
       "      <td>2.964857e+08</td>\n",
       "    </tr>\n",
       "  </tbody>\n",
       "</table>\n",
       "</div>"
      ],
      "text/plain": [
       "                                             title  year  vote_count  \\\n",
       "23675                                    Gone Girl  2014      6023.0   \n",
       "44274               War for the Planet of the Apes  2017      1675.0   \n",
       "12481                              The Dark Knight  2008     12269.0   \n",
       "536                                   Blade Runner  1982      3833.0   \n",
       "33361                                   The Circle  2017      1015.0   \n",
       "23692               Dawn of the Planet of the Apes  2014      4511.0   \n",
       "23673                                     Whiplash  2014      4376.0   \n",
       "2843                                    Fight Club  1999      9678.0   \n",
       "42170                                        Logan  2017      6310.0   \n",
       "314                       The Shawshank Redemption  1994      8358.0   \n",
       "351                                   Forrest Gump  1994      8147.0   \n",
       "42214             King Arthur: Legend of the Sword  2017      1506.0   \n",
       "522                               Schindler's List  1993      4436.0   \n",
       "17588               Rise of the Planet of the Apes  2011      4452.0   \n",
       "834                                  The Godfather  1972      6024.0   \n",
       "2211                             Life Is Beautiful  1997      3643.0   \n",
       "1176                                        Psycho  1960      2405.0   \n",
       "24366                                         Fury  2014      4028.0   \n",
       "1178                        The Godfather: Part II  1974      3418.0   \n",
       "40025  Miss Peregrine's Home for Peculiar Children  2016      3213.0   \n",
       "\n",
       "       vote_average  popularity  \\\n",
       "23675           7.9  154.801009   \n",
       "44274           6.7  146.161786   \n",
       "12481           8.3  123.167259   \n",
       "536             7.9   96.272374   \n",
       "33361           5.4   88.439243   \n",
       "23692           7.3   75.385211   \n",
       "23673           8.3   64.299990   \n",
       "2843            8.3   63.869599   \n",
       "42170           7.6   54.581997   \n",
       "314             8.5   51.645403   \n",
       "351             8.2   48.307194   \n",
       "42214           6.5   44.251369   \n",
       "522             8.3   41.725123   \n",
       "17588           7.0   41.613762   \n",
       "834             8.5   41.109264   \n",
       "2211            8.3   39.394970   \n",
       "1176            8.3   36.826309   \n",
       "24366           7.4   36.713807   \n",
       "1178            8.3   36.629307   \n",
       "40025           6.5   36.262655   \n",
       "\n",
       "                                                overview  \\\n",
       "23675  With his wife's disappearance having become th...   \n",
       "44274  Caesar and his apes are forced into a deadly c...   \n",
       "12481  Batman raises the stakes in his war on crime. ...   \n",
       "536    In the smog-choked dystopian Los Angeles of 20...   \n",
       "33361  A young tech worker takes a job at a greedy In...   \n",
       "23692  A group of scientists in San Francisco struggl...   \n",
       "23673  Under the direction of a ruthless instructor, ...   \n",
       "2843   A ticking-time-bomb insomniac and a slippery s...   \n",
       "42170  In the near future, a weary Logan cares for an...   \n",
       "314    Framed in the 1940s for the double murder of h...   \n",
       "351    A man with a low IQ has accomplished great thi...   \n",
       "42214  When the child Arthur’s father is murdered, Vo...   \n",
       "522    The true story of how businessman Oskar Schind...   \n",
       "17588  Scientist Will Rodman is determined to find a ...   \n",
       "834    Spanning the years 1945 to 1955, a chronicle o...   \n",
       "2211   A touching story of an Italian book seller of ...   \n",
       "1176   When larcenous real estate clerk Marion Crane ...   \n",
       "24366  Last months of World War II in April 1945. As ...   \n",
       "1178   In the continuing saga of the Corleone crime f...   \n",
       "40025  A teenager finds himself transported to an isl...   \n",
       "\n",
       "                                                homepage       revenue  \n",
       "23675                      http://www.gonegirlmovie.com/  3.693304e+08  \n",
       "44274  http://www.foxmovies.com/movies/war-for-the-pl...  3.699080e+08  \n",
       "12481       http://thedarkknight.warnerbros.com/dvdsite/  1.004558e+09  \n",
       "536               http://www.warnerbros.com/blade-runner  3.313962e+07  \n",
       "33361                         http://wearethecircle.com/  2.049784e+07  \n",
       "23692                         http://www.dawnofapes.com/  7.106446e+08  \n",
       "23673                  http://sonyclassics.com/whiplash/  1.309200e+07  \n",
       "2843          http://www.foxmovies.com/movies/fight-club  1.008538e+08  \n",
       "42170              http://www.foxmovies.com/movies/logan  6.168018e+08  \n",
       "314                                                  NaN  2.834147e+07  \n",
       "351                                                  NaN  6.779454e+08  \n",
       "42214                         http://kingarthurmovie.com  1.461751e+08  \n",
       "522                       http://www.schindlerslist.com/  3.213656e+08  \n",
       "17588                       http://www.apeswillrise.com/  4.828602e+08  \n",
       "834                         http://www.thegodfather.com/  2.450664e+08  \n",
       "2211                                                 NaN  2.294000e+08  \n",
       "1176                                                 NaN  3.200000e+07  \n",
       "24366                                                NaN  2.118179e+08  \n",
       "1178                                                 NaN  4.754284e+07  \n",
       "40025  http://www.foxmovies.com/movies/miss-peregrine...  2.964857e+08  "
      ]
     },
     "execution_count": 102,
     "metadata": {},
     "output_type": "execute_result"
    }
   ],
   "source": [
    "rec_gen1('Drama', 1000)"
   ]
  },
  {
   "cell_type": "markdown",
   "metadata": {},
   "source": [
    "En efecto la Película <i>Perdida</i>, es una película de drama excelente.  Aunque quedan por fuera un montón de excelentes películas <strong>no comerciales</strong> que en nuestro concepto superan las elegidas por IMDB."
   ]
  },
  {
   "cell_type": "code",
   "execution_count": 105,
   "metadata": {
    "scrolled": true
   },
   "outputs": [
    {
     "data": {
      "text/html": [
       "<div>\n",
       "<style scoped>\n",
       "    .dataframe tbody tr th:only-of-type {\n",
       "        vertical-align: middle;\n",
       "    }\n",
       "\n",
       "    .dataframe tbody tr th {\n",
       "        vertical-align: top;\n",
       "    }\n",
       "\n",
       "    .dataframe thead th {\n",
       "        text-align: right;\n",
       "    }\n",
       "</style>\n",
       "<table border=\"1\" class=\"dataframe\">\n",
       "  <thead>\n",
       "    <tr style=\"text-align: right;\">\n",
       "      <th></th>\n",
       "      <th>title</th>\n",
       "      <th>year</th>\n",
       "      <th>vote_count</th>\n",
       "      <th>vote_average</th>\n",
       "      <th>popularity</th>\n",
       "      <th>overview</th>\n",
       "      <th>homepage</th>\n",
       "      <th>wr</th>\n",
       "    </tr>\n",
       "  </thead>\n",
       "  <tbody>\n",
       "    <tr>\n",
       "      <th>12481</th>\n",
       "      <td>The Dark Knight</td>\n",
       "      <td>2008</td>\n",
       "      <td>12269</td>\n",
       "      <td>8</td>\n",
       "      <td>123.167259</td>\n",
       "      <td>Batman raises the stakes in his war on crime. ...</td>\n",
       "      <td>http://thedarkknight.warnerbros.com/dvdsite/</td>\n",
       "      <td>9815.2</td>\n",
       "    </tr>\n",
       "    <tr>\n",
       "      <th>22879</th>\n",
       "      <td>Interstellar</td>\n",
       "      <td>2014</td>\n",
       "      <td>11187</td>\n",
       "      <td>8</td>\n",
       "      <td>32.213481</td>\n",
       "      <td>Interstellar chronicles the adventures of a gr...</td>\n",
       "      <td>http://www.interstellarmovie.net/</td>\n",
       "      <td>8949.6</td>\n",
       "    </tr>\n",
       "    <tr>\n",
       "      <th>2843</th>\n",
       "      <td>Fight Club</td>\n",
       "      <td>1999</td>\n",
       "      <td>9678</td>\n",
       "      <td>8</td>\n",
       "      <td>63.869599</td>\n",
       "      <td>A ticking-time-bomb insomniac and a slippery s...</td>\n",
       "      <td>http://www.foxmovies.com/movies/fight-club</td>\n",
       "      <td>7742.4</td>\n",
       "    </tr>\n",
       "    <tr>\n",
       "      <th>20051</th>\n",
       "      <td>Django Unchained</td>\n",
       "      <td>2012</td>\n",
       "      <td>10297</td>\n",
       "      <td>7</td>\n",
       "      <td>19.785025</td>\n",
       "      <td>With the help of a German bounty hunter, a fre...</td>\n",
       "      <td>http://unchainedmovie.com/</td>\n",
       "      <td>7207.9</td>\n",
       "    </tr>\n",
       "    <tr>\n",
       "      <th>314</th>\n",
       "      <td>The Shawshank Redemption</td>\n",
       "      <td>1994</td>\n",
       "      <td>8358</td>\n",
       "      <td>8</td>\n",
       "      <td>51.645403</td>\n",
       "      <td>Framed in the 1940s for the double murder of h...</td>\n",
       "      <td>NaN</td>\n",
       "      <td>6686.4</td>\n",
       "    </tr>\n",
       "    <tr>\n",
       "      <th>...</th>\n",
       "      <td>...</td>\n",
       "      <td>...</td>\n",
       "      <td>...</td>\n",
       "      <td>...</td>\n",
       "      <td>...</td>\n",
       "      <td>...</td>\n",
       "      <td>...</td>\n",
       "      <td>...</td>\n",
       "    </tr>\n",
       "    <tr>\n",
       "      <th>896</th>\n",
       "      <td>Citizen Kane</td>\n",
       "      <td>1941</td>\n",
       "      <td>1244</td>\n",
       "      <td>8</td>\n",
       "      <td>15.811921</td>\n",
       "      <td>Newspaper magnate, Charles Foster Kane is take...</td>\n",
       "      <td>NaN</td>\n",
       "      <td>995.2</td>\n",
       "    </tr>\n",
       "    <tr>\n",
       "      <th>23962</th>\n",
       "      <td>If I Stay</td>\n",
       "      <td>2014</td>\n",
       "      <td>1415</td>\n",
       "      <td>7</td>\n",
       "      <td>9.659244</td>\n",
       "      <td>Based on Gayle Forman's novel of the same name...</td>\n",
       "      <td>NaN</td>\n",
       "      <td>990.5</td>\n",
       "    </tr>\n",
       "    <tr>\n",
       "      <th>1567</th>\n",
       "      <td>The Devil's Advocate</td>\n",
       "      <td>1997</td>\n",
       "      <td>1414</td>\n",
       "      <td>7</td>\n",
       "      <td>10.920124</td>\n",
       "      <td>A hotshot lawyer gets more than he bargained f...</td>\n",
       "      <td>NaN</td>\n",
       "      <td>989.8</td>\n",
       "    </tr>\n",
       "    <tr>\n",
       "      <th>12368</th>\n",
       "      <td>In Bruges</td>\n",
       "      <td>2008</td>\n",
       "      <td>1414</td>\n",
       "      <td>7</td>\n",
       "      <td>9.895652</td>\n",
       "      <td>Ray and Ken, two hit men, are in Bruges, Belgi...</td>\n",
       "      <td>http://www.filminfocus.com/film/in_bruges</td>\n",
       "      <td>989.8</td>\n",
       "    </tr>\n",
       "    <tr>\n",
       "      <th>21438</th>\n",
       "      <td>The Mortal Instruments: City of Bones</td>\n",
       "      <td>2013</td>\n",
       "      <td>1649</td>\n",
       "      <td>6</td>\n",
       "      <td>14.336187</td>\n",
       "      <td>In New York City, Clary Fray, a seemingly ordi...</td>\n",
       "      <td>http://www.themortalinstrumentsmovie.com/</td>\n",
       "      <td>989.4</td>\n",
       "    </tr>\n",
       "  </tbody>\n",
       "</table>\n",
       "<p>250 rows × 8 columns</p>\n",
       "</div>"
      ],
      "text/plain": [
       "                                       title  year  vote_count  vote_average  \\\n",
       "12481                        The Dark Knight  2008       12269             8   \n",
       "22879                           Interstellar  2014       11187             8   \n",
       "2843                              Fight Club  1999        9678             8   \n",
       "20051                       Django Unchained  2012       10297             7   \n",
       "314                 The Shawshank Redemption  1994        8358             8   \n",
       "...                                      ...   ...         ...           ...   \n",
       "896                             Citizen Kane  1941        1244             8   \n",
       "23962                              If I Stay  2014        1415             7   \n",
       "1567                    The Devil's Advocate  1997        1414             7   \n",
       "12368                              In Bruges  2008        1414             7   \n",
       "21438  The Mortal Instruments: City of Bones  2013        1649             6   \n",
       "\n",
       "       popularity                                           overview  \\\n",
       "12481  123.167259  Batman raises the stakes in his war on crime. ...   \n",
       "22879   32.213481  Interstellar chronicles the adventures of a gr...   \n",
       "2843    63.869599  A ticking-time-bomb insomniac and a slippery s...   \n",
       "20051   19.785025  With the help of a German bounty hunter, a fre...   \n",
       "314     51.645403  Framed in the 1940s for the double murder of h...   \n",
       "...           ...                                                ...   \n",
       "896     15.811921  Newspaper magnate, Charles Foster Kane is take...   \n",
       "23962    9.659244  Based on Gayle Forman's novel of the same name...   \n",
       "1567    10.920124  A hotshot lawyer gets more than he bargained f...   \n",
       "12368    9.895652  Ray and Ken, two hit men, are in Bruges, Belgi...   \n",
       "21438   14.336187  In New York City, Clary Fray, a seemingly ordi...   \n",
       "\n",
       "                                           homepage      wr  \n",
       "12481  http://thedarkknight.warnerbros.com/dvdsite/  9815.2  \n",
       "22879             http://www.interstellarmovie.net/  8949.6  \n",
       "2843     http://www.foxmovies.com/movies/fight-club  7742.4  \n",
       "20051                    http://unchainedmovie.com/  7207.9  \n",
       "314                                             NaN  6686.4  \n",
       "...                                             ...     ...  \n",
       "896                                             NaN   995.2  \n",
       "23962                                           NaN   990.5  \n",
       "1567                                            NaN   989.8  \n",
       "12368     http://www.filminfocus.com/film/in_bruges   989.8  \n",
       "21438     http://www.themortalinstrumentsmovie.com/   989.4  \n",
       "\n",
       "[250 rows x 8 columns]"
      ]
     },
     "execution_count": 105,
     "metadata": {},
     "output_type": "execute_result"
    }
   ],
   "source": [
    "rec_gen('Drama', 1000)"
   ]
  },
  {
   "cell_type": "markdown",
   "metadata": {},
   "source": [
    "Utilizando la métrica inicial, definitivamente en nuestro concepto NO eligiriamos ninguna de las propuestas en el top 10, si a caso Citizen Kain y The Devil's Advocate."
   ]
  }
 ],
 "metadata": {
  "coursera": {
   "course_slug": "neural-networks-deep-learning",
   "graded_item_id": "TSPse",
   "launcher_item_id": "24mxX"
  },
  "kernelspec": {
   "display_name": "Python 3",
   "language": "python",
   "name": "python3"
  },
  "language_info": {
   "codemirror_mode": {
    "name": "ipython",
    "version": 3
   },
   "file_extension": ".py",
   "mimetype": "text/x-python",
   "name": "python",
   "nbconvert_exporter": "python",
   "pygments_lexer": "ipython3",
   "version": "3.8.2"
  }
 },
 "nbformat": 4,
 "nbformat_minor": 2
}
