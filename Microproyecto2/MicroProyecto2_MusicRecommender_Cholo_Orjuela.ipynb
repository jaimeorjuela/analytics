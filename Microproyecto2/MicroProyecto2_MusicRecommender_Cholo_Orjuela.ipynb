{
 "cells": [
  {
   "cell_type": "markdown",
   "metadata": {},
   "source": [
    "<br><h2 align=\"Center\"> <img src=\"https://serea2017.uniandes.edu.co/images/Logo.png\" height=\"60\" width=\"200\" align=\"Center\" />MIIA-4203 MODELOS AVANZADOS PARA ANÁLISIS DE DATOS II</h2>\n",
    "<h2 align=\"Center\">\n",
    "Presentado por:<br>\n",
    "Fabián Cholo Acevedo - Cód 201523509<br>\n",
    "Jaime Orjuela Viracacha - Cód 201924252<br>\n",
    "</h2>\n",
    "\n",
    "# Micro-Proyecto 2\n",
    "\n",
    "### Profesor: Camilo Franco (c.franco31@uniandes.edu.co)\n",
    "\n",
    "A continuación escriba los nombres de los integrantes del grupo.\n",
    "\n",
    "Nombres:\n",
    "\n",
    "\n",
    "### Introducción\n",
    "Una aplicación de música quiere actualizar su aplicación online para que genere recomendaciones a sus usuarios de nuevos artistas para escuchar. El sistema de recomendación debe tomar en cuenta las preferencias de cada usuario, con el fin de ofrecer recomendaciones automáticas y personalizadas.\n",
    "\n",
    "La base de datos que va a trabajar se ha tomado de http://ocelma.net/MusicRecommendationDataset/lastfm-360K.html\n",
    "\n",
    "\n",
    "### Enunciado 1\n",
    "Por ello se le pide a usted, en calidad de consultor externo, desarrollar un algoritmo de recomendación de artistas para cada usuario. Implemente el algoritmo a partir del conjunto de datos: \"lastfm-dataset-360K/usersha1-profile.tsv\" y evalúe su desempeño con respecto a la métrica apropiada.\n",
    "\n",
    "### Enunciado 2\n",
    "Una vez a desarrollado su primer sistema de recomendación, intente mejorarlo con respecto a la métrica de su elección, considerando además la información que encuentra en \"lastfm-dataset-360K/usersha1-artmbid-artname-plays.tsv\", donde encuentra información de tipo socio-demográfico por usuario."
   ]
  },
  {
   "cell_type": "markdown",
   "metadata": {},
   "source": [
    "## **1. Analisis de Datos**"
   ]
  },
  {
   "cell_type": "code",
   "execution_count": 1,
   "metadata": {},
   "outputs": [],
   "source": [
    "import pandas as pd\n",
    "import seaborn as sns\n",
    "import numpy as np\n",
    "from sklearn.model_selection import train_test_split\n",
    "import matplotlib.pyplot as plt\n"
   ]
  },
  {
   "cell_type": "markdown",
   "metadata": {},
   "source": [
    "Se importa el archivo de datos y se encuentra que de los 17.559.530 registros, algunos de ellos tienen información por fuera del formato establecido en el archivo README de la fuente, se realiza entonces una limpieza desde shell script (linea de comandos de la terminal) de los datos quedando con 17.328.427"
   ]
  },
  {
   "cell_type": "markdown",
   "metadata": {},
   "source": [
    "`\n",
    "$awk -F\\t 'NF==4 && $2~/\\-/ && length($1)==40' usersha1-artmbid-artname-plays.tsv > users_artist_played.tsv\n",
    "`"
   ]
  },
  {
   "cell_type": "markdown",
   "metadata": {},
   "source": [
    "Se encontró adicionalmente que muchos de los artistas era muy poco escuchados y generaban exceso de datos, por lo que se decidió agrupar por artist_id y seleccionar aquellos que tuvieran más de 300 reproducciones.  Esa información quedó cargada en el archivo plano `tabla4.csv` que tiene 13.866.515 registros."
   ]
  },
  {
   "cell_type": "code",
   "execution_count": 2,
   "metadata": {},
   "outputs": [],
   "source": [
    "# leemos el archivo con columnas user/artist/plays\n",
    "data = pd.read_csv(\"tabla4.csv\", sep='\\|', engine='python', skiprows=0,\n",
    "                    usecols=[0, 1, 2, 3], \n",
    "                    names=['user', 'artist_id', 'artist', 'plays'])\n",
    "\n",
    "# map each artist and user to a unique numeric value\n",
    "data['user'] = data['user'].astype(\"category\")\n",
    "data['artist'] = data['artist'].astype(\"category\")\n",
    "data['artist_id'] = data['artist_id'].astype(\"category\")\n",
    "data['plays'] = data['plays'].astype(\"int32\")"
   ]
  },
  {
   "cell_type": "code",
   "execution_count": 3,
   "metadata": {
    "scrolled": true
   },
   "outputs": [
    {
     "data": {
      "text/plain": [
       "(13866515, 4)"
      ]
     },
     "execution_count": 3,
     "metadata": {},
     "output_type": "execute_result"
    }
   ],
   "source": [
    "data.shape"
   ]
  },
  {
   "cell_type": "code",
   "execution_count": 4,
   "metadata": {},
   "outputs": [
    {
     "name": "stdout",
     "output_type": "stream",
     "text": [
      "user         359116\n",
      "artist_id      7429\n",
      "dtype: int64\n"
     ]
    }
   ],
   "source": [
    "print(data[['user', 'artist_id']].nunique())"
   ]
  },
  {
   "cell_type": "code",
   "execution_count": 5,
   "metadata": {},
   "outputs": [
    {
     "data": {
      "text/plain": [
       "<matplotlib.axes._subplots.AxesSubplot at 0x12b76b160>"
      ]
     },
     "execution_count": 5,
     "metadata": {},
     "output_type": "execute_result"
    },
    {
     "data": {
      "image/png": "[encoded data removed]",
      "text/plain": [
       "<Figure size 432x288 with 1 Axes>"
      ]
     },
     "metadata": {
      "needs_background": "light"
     },
     "output_type": "display_data"
    }
   ],
   "source": [
    "sns.distplot(data['plays'])"
   ]
  },
  {
   "cell_type": "code",
   "execution_count": 6,
   "metadata": {
    "scrolled": true
   },
   "outputs": [
    {
     "data": {
      "text/html": [
       "<div>\n",
       "<style scoped>\n",
       "    .dataframe tbody tr th:only-of-type {\n",
       "        vertical-align: middle;\n",
       "    }\n",
       "\n",
       "    .dataframe tbody tr th {\n",
       "        vertical-align: top;\n",
       "    }\n",
       "\n",
       "    .dataframe thead th {\n",
       "        text-align: right;\n",
       "    }\n",
       "</style>\n",
       "<table border=\"1\" class=\"dataframe\">\n",
       "  <thead>\n",
       "    <tr style=\"text-align: right;\">\n",
       "      <th></th>\n",
       "      <th>plays</th>\n",
       "    </tr>\n",
       "  </thead>\n",
       "  <tbody>\n",
       "    <tr>\n",
       "      <th>count</th>\n",
       "      <td>1.386652e+07</td>\n",
       "    </tr>\n",
       "    <tr>\n",
       "      <th>mean</th>\n",
       "      <td>2.302858e+02</td>\n",
       "    </tr>\n",
       "    <tr>\n",
       "      <th>std</th>\n",
       "      <td>6.574876e+02</td>\n",
       "    </tr>\n",
       "    <tr>\n",
       "      <th>min</th>\n",
       "      <td>0.000000e+00</td>\n",
       "    </tr>\n",
       "    <tr>\n",
       "      <th>25%</th>\n",
       "      <td>3.900000e+01</td>\n",
       "    </tr>\n",
       "    <tr>\n",
       "      <th>50%</th>\n",
       "      <td>1.020000e+02</td>\n",
       "    </tr>\n",
       "    <tr>\n",
       "      <th>75%</th>\n",
       "      <td>2.390000e+02</td>\n",
       "    </tr>\n",
       "    <tr>\n",
       "      <th>max</th>\n",
       "      <td>4.191570e+05</td>\n",
       "    </tr>\n",
       "  </tbody>\n",
       "</table>\n",
       "</div>"
      ],
      "text/plain": [
       "              plays\n",
       "count  1.386652e+07\n",
       "mean   2.302858e+02\n",
       "std    6.574876e+02\n",
       "min    0.000000e+00\n",
       "25%    3.900000e+01\n",
       "50%    1.020000e+02\n",
       "75%    2.390000e+02\n",
       "max    4.191570e+05"
      ]
     },
     "execution_count": 6,
     "metadata": {},
     "output_type": "execute_result"
    }
   ],
   "source": [
    "data.describe()"
   ]
  },
  {
   "cell_type": "markdown",
   "metadata": {},
   "source": [
    "Considerando que se encuentran valores extremos, para evitar el sesgo debido a esos datos se quitan las colas extremas del 1% arriba y del 10% abajo."
   ]
  },
  {
   "cell_type": "code",
   "execution_count": 7,
   "metadata": {},
   "outputs": [],
   "source": [
    "# Considerando que se encuentran valores extremos, para evitar el sesgo debido a esos datos\n",
    "# se quitan las colas extremas del 10% arriba y del 1% abajo.\n",
    "q1 = data['plays'].quantile(0.1)\n",
    "q99 = data['plays'].quantile(0.99)\n",
    "\n",
    "# Filtro por Quantil\n",
    "data_q = data[(data.plays>=q1) & (data.plays<=q99)].copy()"
   ]
  },
  {
   "cell_type": "code",
   "execution_count": 9,
   "metadata": {},
   "outputs": [
    {
     "data": {
      "text/plain": [
       "<matplotlib.axes._subplots.AxesSubplot at 0x124836460>"
      ]
     },
     "execution_count": 9,
     "metadata": {},
     "output_type": "execute_result"
    },
    {
     "data": {
      "image/png": "[encoded data removed]",
      "text/plain": [
       "<Figure size 432x288 with 1 Axes>"
      ]
     },
     "metadata": {
      "needs_background": "light"
     },
     "output_type": "display_data"
    }
   ],
   "source": [
    "sns.distplot(data_q['plays'])"
   ]
  },
  {
   "cell_type": "code",
   "execution_count": 21,
   "metadata": {
    "scrolled": true
   },
   "outputs": [
    {
     "name": "stdout",
     "output_type": "stream",
     "text": [
      "user         350978\n",
      "artist_id      7428\n",
      "dtype: int64\n"
     ]
    }
   ],
   "source": [
    "# Calculate the number of unique values\n",
    "print(data_q[['user', 'artist_id']].nunique())"
   ]
  },
  {
   "cell_type": "markdown",
   "metadata": {},
   "source": [
    "Hay 350.978 usuarios y 7.428 artistas (id de artista), pero teniendo en cuenta el volumen de los datos y las limitaciones existentes de máquina, se extrae una porción (10%) para los análisis, quedando con 1.236.271"
   ]
  },
  {
   "cell_type": "code",
   "execution_count": 11,
   "metadata": {},
   "outputs": [],
   "source": [
    "data_train, data_test= train_test_split(data_q, test_size=0.1, random_state=4)"
   ]
  },
  {
   "cell_type": "code",
   "execution_count": 13,
   "metadata": {
    "scrolled": false
   },
   "outputs": [
    {
     "data": {
      "text/plain": [
       "(1236271, 4)"
      ]
     },
     "execution_count": 13,
     "metadata": {},
     "output_type": "execute_result"
    }
   ],
   "source": [
    "data_test.shape"
   ]
  },
  {
   "cell_type": "code",
   "execution_count": 14,
   "metadata": {
    "scrolled": true
   },
   "outputs": [
    {
     "data": {
      "text/plain": [
       "<matplotlib.axes._subplots.AxesSubplot at 0x12a04ea60>"
      ]
     },
     "execution_count": 14,
     "metadata": {},
     "output_type": "execute_result"
    },
    {
     "data": {
      "image/png": "[encoded data removed]",
      "text/plain": [
       "<Figure size 432x288 with 1 Axes>"
      ]
     },
     "metadata": {
      "needs_background": "light"
     },
     "output_type": "display_data"
    }
   ],
   "source": [
    "# Calculate the number of unique values\n",
    "sns.distplot(data_test['plays'])"
   ]
  },
  {
   "cell_type": "markdown",
   "metadata": {},
   "source": [
    "Se ve que el conjunto de datos resultante conserva la distribución del conjunto inicial."
   ]
  },
  {
   "cell_type": "code",
   "execution_count": 22,
   "metadata": {},
   "outputs": [
    {
     "name": "stdout",
     "output_type": "stream",
     "text": [
      "user         322851\n",
      "artist_id      7428\n",
      "dtype: int64\n"
     ]
    }
   ],
   "source": [
    "print(data_test[['user', 'artist_id']].nunique())"
   ]
  },
  {
   "cell_type": "markdown",
   "metadata": {},
   "source": [
    "Finalmente se consideran en el análisis 322.851 usuarios y 7.428 artistas."
   ]
  },
  {
   "cell_type": "markdown",
   "metadata": {},
   "source": [
    "# Metodología propuesta\n",
    "\n",
    "Entre las estrategias más usadas para crear sistemas de recomendación se encuentran (tomado de: <a href=\"https://www.aprendemachinelearning.com/sistemas-de-recomendacion/\">https://www.aprendemachinelearning.com/sistemas-de-recomendacion/</a>):\n",
    "\n",
    "<ul>\n",
    "    <li><strong>Por popularidad:</strong> Aconseja por la “popularidad” de los productos. Por ejemplo, “los más vendidos” globalmente, se ofrecerán a todos los usuarios por igual sin aprovechar la personalización. Es fácil de implementar y en algunos casos es efectiva.</li>\n",
    "    <li><strong>Basado en el contenido:</strong> A partir de productos visitados por el usuario, se intenta “adivinar” qué busca el usuario y ofrecer mercancías similares.</li>\n",
    "    <li><strong>Filtrado colaborativo:</strong> Es el más novedoso, pues utiliza la información de “masas” para identificar perfiles similares y aprender de los datos para recomendar productos de manera individual.</li>\n",
    "</ul>\n",
    "\n",
    "Teniendo en cuenta los datos disponibles en la base de datos del caso de análisis, se tiene acceso únicamente a información implícita, es decir que no se posee información de realimentación directa de los usuarios (si les gustó o no cada artista) sino la cantidad de reproducciones que cada usuario hizo para cada artista, se asume entonces que si un usuario escuchó con mayor frecuencia a un artista implica que ese artista es de su preferencia.\n",
    "\n",
    "## Recomendación por popularidad\n",
    "\n",
    "Inicialmente se realizaron las recomendaciones buscando la pareja más popular para cada artista. Se emparejó entonces cada artista con los demás escuchados por la misma persona y luego se contaron cuántas veces esa pareja estaba en el conjunto de datos. Se creó así una tabla de referencia que permitió determinar para cada artista su pareja más popular, partiendo del supuesto que si a una persona le gusta un artista, lo más probable es que también le guste su pareja más popular."
   ]
  },
  {
   "cell_type": "code",
   "execution_count": 17,
   "metadata": {},
   "outputs": [],
   "source": [
    "from itertools import permutations\n",
    "\n",
    "# Se crea la función que encuentra las parejas para cada artista\n",
    "def find_artist_pairs(x):\n",
    "    \n",
    "    pairs = pd.DataFrame(list(permutations(x.values, 2)),\n",
    "                       columns=['artist_a', 'artist_b'])\n",
    "    return pairs"
   ]
  },
  {
   "cell_type": "code",
   "execution_count": 18,
   "metadata": {},
   "outputs": [
    {
     "name": "stdout",
     "output_type": "stream",
     "text": [
      "                  artist_a          artist_b\n",
      "0         walls of jericho         rasputina\n",
      "1                rasputina  walls of jericho\n",
      "2        animal collective           nujabes\n",
      "3        animal collective       the strokes\n",
      "4        animal collective   the microphones\n",
      "...                    ...               ...\n",
      "4851035              epica       lamb of god\n",
      "4851036        iron maiden             epica\n",
      "4851037        iron maiden       lamb of god\n",
      "4851038        lamb of god             epica\n",
      "4851039        lamb of god       iron maiden\n",
      "\n",
      "[4851040 rows x 2 columns]\n"
     ]
    }
   ],
   "source": [
    "# Crea un data set con las combinaciones para cada artista \n",
    "artist_combinations = data_test.groupby('user')['artist'].apply(\n",
    "  find_artist_pairs).reset_index(drop=True)\n",
    "\n",
    "print(artist_combinations)"
   ]
  },
  {
   "cell_type": "markdown",
   "metadata": {},
   "source": [
    "Se evidencia que aún con el 10% de los datos (1.548.282), el numero de combinaciones resultantes es de 4.851.040; por lo que realizar este proceso para todo el conjunto de datos (13.866.515) requeriría unas capacidades computacionales muy altas que no poseemos.  No obstante, buscando alternativas de desarrollo, se intentó realizar este emparejamiento en una Base de Datos MySQL, creando índices en el campo de usuario y artista, y realizando análisis segmentados mediante cursores, es decir que se accedía primero a la información del índice y luego se cargaba un buffer en memoria RAM sólo con la porción de la tabla que se requería, lo que funcionó a nivel de máquina pues no se bloqueó, sin embargo al consultar la información del QUERY EXPLAIN PLAN, había tantas iteraciones que implicaba un tiempo de procesamiento de muchas horas, por lo que también claudicamos en ese intento.  \n",
    "\n",
    "Teniendo en cuenta lo anterior, continuamos el análisis en python con el conjunto de datos de prueba `data_test`, para lo cual se realizó un conteo por `artista_a` y por `artista_b`, para determinar de entre las parejas encontradas para el `artista_a`, cual era \n",
    "la más popular para los oyentes."
   ]
  },
  {
   "cell_type": "code",
   "execution_count": 23,
   "metadata": {},
   "outputs": [
    {
     "name": "stdout",
     "output_type": "stream",
     "text": [
      "                   artist_a             artist_b  size\n",
      "0                       !!!  \"weird al\" yankovic     1\n",
      "1                       !!!                  +/-     1\n",
      "2                       !!!             13 & god     1\n",
      "3                       !!!          2 many dj's     2\n",
      "4                       !!!   30 seconds to mars     1\n",
      "...                     ...                  ...   ...\n",
      "2649498  �������� ���������         guns n roses     1\n",
      "2649499  �������� ���������                 ko?n     1\n",
      "2649500  �������� ���������       massive attack     1\n",
      "2649501  �������� ���������              rainbow     1\n",
      "2649502  �������� ���������                unkle     1\n",
      "\n",
      "[2649503 rows x 3 columns]\n"
     ]
    }
   ],
   "source": [
    "# se cuenta la cantidad de veces que aparece en todo el conjunto cada pareja\n",
    "combination_counts = artist_combinations.groupby(['artist_a', 'artist_b']).size()\n",
    "\n",
    "# Convierte los resultados a un data frame y restaura el índice\n",
    "combination_counts_df = combination_counts.to_frame(name='size').reset_index()\n",
    "print(combination_counts_df)"
   ]
  },
  {
   "cell_type": "markdown",
   "metadata": {},
   "source": [
    "Se llevó a un archivo plano, para facilitar la extracción de la pareja más popular en MySQL. <strong>NOTA:</strong> los artistas registrados en la base de datos con caracteres orientales, aparecen con signos de interrogación."
   ]
  },
  {
   "cell_type": "code",
   "execution_count": null,
   "metadata": {},
   "outputs": [],
   "source": [
    "combination_counts_df.to_csv('combinations_counts.csv', index = False)"
   ]
  },
  {
   "cell_type": "markdown",
   "metadata": {},
   "source": [
    "<p font-family: \"Courier New\">\n",
    "\n",
    "    CREATE PROCEDURE insert_recommendations_lookup()\n",
    "    \n",
    "    DECLARE v_artist_id VARCHAR(90);\n",
    "    DECLARE v_cuenta INT;\n",
    "    DECLARE v_finished BOOLEAN DEFAULT FALSE;\n",
    "    DECLARE  c CURSOR FOR SELECT artist_ida, cuenta FROM artistas;\n",
    "    DECLARE CONTINUE HANDLER FOR NOT FOUND SET v_finished = TRUE;\n",
    "    \n",
    "    OPEN c;\n",
    "    bucle: LOOP\n",
    "\t\tFETCH c INTO v_artist_id, v_cuenta;\n",
    "        IF v_finished THEN\n",
    "\t\t\tleave bucle;\n",
    "\t\tEND IF;\n",
    "\t\t\n",
    "        INSERT INTO recommendations_lookup\n",
    "        SELECT * \n",
    "        FROM parejas_artistas \n",
    "\t\tWHERE artist_ida = v_artist_id\n",
    "\t\t\tAND cuenta = v_cuenta\n",
    "\t\tLIMIT 1;\n",
    " \n",
    "    END LOOP bucle;\n",
    "    CLOSE c;\n",
    "    \n",
    "</p>"
   ]
  },
  {
   "cell_type": "markdown",
   "metadata": {},
   "source": [
    "Se obtuvo entonces el archivo `recommendations_lookup.csv` el cual contiene para cada artista, un nuevo recomendado basado en el historial de reproducciones."
   ]
  },
  {
   "cell_type": "code",
   "execution_count": 19,
   "metadata": {},
   "outputs": [],
   "source": [
    "recommendations_lookup = pd.read_csv('recommendations_lookup1.csv', sep='\\;', engine='python')"
   ]
  },
  {
   "cell_type": "code",
   "execution_count": 20,
   "metadata": {
    "scrolled": false
   },
   "outputs": [
    {
     "data": {
      "text/html": [
       "<div>\n",
       "<style scoped>\n",
       "    .dataframe tbody tr th:only-of-type {\n",
       "        vertical-align: middle;\n",
       "    }\n",
       "\n",
       "    .dataframe tbody tr th {\n",
       "        vertical-align: top;\n",
       "    }\n",
       "\n",
       "    .dataframe thead th {\n",
       "        text-align: right;\n",
       "    }\n",
       "</style>\n",
       "<table border=\"1\" class=\"dataframe\">\n",
       "  <thead>\n",
       "    <tr style=\"text-align: right;\">\n",
       "      <th></th>\n",
       "      <th>artist_ida</th>\n",
       "      <th>artist_idb</th>\n",
       "      <th>cuenta</th>\n",
       "    </tr>\n",
       "  </thead>\n",
       "  <tbody>\n",
       "    <tr>\n",
       "      <th>0</th>\n",
       "      <td>_algol_</td>\n",
       "      <td>abnocto</td>\n",
       "      <td>1</td>\n",
       "    </tr>\n",
       "    <tr>\n",
       "      <th>1</th>\n",
       "      <td>_soundtrack</td>\n",
       "      <td>\"andrew bird\"</td>\n",
       "      <td>1</td>\n",
       "    </tr>\n",
       "    <tr>\n",
       "      <th>2</th>\n",
       "      <td>\"- m -\"</td>\n",
       "      <td>air</td>\n",
       "      <td>1</td>\n",
       "    </tr>\n",
       "    <tr>\n",
       "      <th>3</th>\n",
       "      <td>\"-123 min.\"</td>\n",
       "      <td>queen</td>\n",
       "      <td>2</td>\n",
       "    </tr>\n",
       "    <tr>\n",
       "      <th>4</th>\n",
       "      <td>-elettronoir-</td>\n",
       "      <td>\"antony and the johnsons\"</td>\n",
       "      <td>1</td>\n",
       "    </tr>\n",
       "    <tr>\n",
       "      <th>...</th>\n",
       "      <td>...</td>\n",
       "      <td>...</td>\n",
       "      <td>...</td>\n",
       "    </tr>\n",
       "    <tr>\n",
       "      <th>78981</th>\n",
       "      <td>黒石ひとみ</td>\n",
       "      <td>news</td>\n",
       "      <td>1</td>\n",
       "    </tr>\n",
       "    <tr>\n",
       "      <th>78982</th>\n",
       "      <td>黒薔薇保存会</td>\n",
       "      <td>akb48</td>\n",
       "      <td>1</td>\n",
       "    </tr>\n",
       "    <tr>\n",
       "      <th>78983</th>\n",
       "      <td>鼓太蝋</td>\n",
       "      <td>arm</td>\n",
       "      <td>1</td>\n",
       "    </tr>\n",
       "    <tr>\n",
       "      <th>78984</th>\n",
       "      <td>齊豫</td>\n",
       "      <td>\"eric clapton\"</td>\n",
       "      <td>1</td>\n",
       "    </tr>\n",
       "    <tr>\n",
       "      <th>78985</th>\n",
       "      <td>齐豫</td>\n",
       "      <td>[unknown]</td>\n",
       "      <td>1</td>\n",
       "    </tr>\n",
       "  </tbody>\n",
       "</table>\n",
       "<p>78986 rows × 3 columns</p>\n",
       "</div>"
      ],
      "text/plain": [
       "          artist_ida                 artist_idb  cuenta\n",
       "0            _algol_                    abnocto       1\n",
       "1        _soundtrack              \"andrew bird\"       1\n",
       "2            \"- m -\"                        air       1\n",
       "3        \"-123 min.\"                      queen       2\n",
       "4      -elettronoir-  \"antony and the johnsons\"       1\n",
       "...              ...                        ...     ...\n",
       "78981          黒石ひとみ                       news       1\n",
       "78982         黒薔薇保存会                      akb48       1\n",
       "78983            鼓太蝋                        arm       1\n",
       "78984             齊豫             \"eric clapton\"       1\n",
       "78985             齐豫                  [unknown]       1\n",
       "\n",
       "[78986 rows x 3 columns]"
      ]
     },
     "execution_count": 20,
     "metadata": {},
     "output_type": "execute_result"
    }
   ],
   "source": [
    "recommendations_lookup"
   ]
  },
  {
   "cell_type": "markdown",
   "metadata": {},
   "source": [
    "De los 7.429 artistas analizados, se obtuvieron 78.986 recomendaciones.  Para este método no usamos una métrica de bondad de ajuste, ya que corresponde al método de popularidad."
   ]
  },
  {
   "cell_type": "markdown",
   "metadata": {},
   "source": [
    "## Filtrado Colaborativo\n",
    "\n",
    "### **Contruccion de Matrices**"
   ]
  },
  {
   "cell_type": "markdown",
   "metadata": {},
   "source": [
    "Para el desarrollo del filtrado Colaborativo, en lugar de tomar una muestra del conjunto total, se eligió como criterio de reducción el atributo de país, y se escogió a Colombia para aplicar este método después de probar con diferentes tamaños de muestra y de encontrar que no eran adecuados para este método dado que no se contaba con el nivel de detalle requerido. "
   ]
  },
  {
   "cell_type": "code",
   "execution_count": 24,
   "metadata": {
    "scrolled": false
   },
   "outputs": [],
   "source": [
    "data_train, data_test = train_test_split(data_q, test_size=0.05, random_state=42)"
   ]
  },
  {
   "cell_type": "code",
   "execution_count": 25,
   "metadata": {},
   "outputs": [],
   "source": [
    "# leemos el archivo con columnas user/artist/plays\n",
    "data = pd.read_csv(\"join_colombia1.psv\", sep='\\|', engine='python', skiprows=1,\n",
    "                    names=['user', 'artist_id', 'plays','gender','age','country','signup'])\n",
    "\n",
    "# map each artist and user to a unique numeric value\n",
    "data['user'] = data['user'].astype(\"category\")\n",
    "data['artist_id'] = data['artist_id'].astype(\"category\")\n",
    "data['gender'] = data['gender'].astype(\"category\")\n",
    "data['plays'] = data['plays'].astype(\"int32\")\n",
    "data['age'] = data['age'].astype(\"int32\")"
   ]
  },
  {
   "cell_type": "code",
   "execution_count": 26,
   "metadata": {},
   "outputs": [
    {
     "data": {
      "text/plain": [
       "(71230, 7)"
      ]
     },
     "execution_count": 26,
     "metadata": {},
     "output_type": "execute_result"
    }
   ],
   "source": [
    "data.shape"
   ]
  },
  {
   "cell_type": "code",
   "execution_count": 27,
   "metadata": {
    "scrolled": false
   },
   "outputs": [
    {
     "name": "stdout",
     "output_type": "stream",
     "text": [
      "user         1849\n",
      "artist_id    5556\n",
      "dtype: int64\n"
     ]
    }
   ],
   "source": [
    "print(data[['user', 'artist_id']].nunique())"
   ]
  },
  {
   "cell_type": "markdown",
   "metadata": {},
   "source": [
    "De los 71.230 registros para colombia, hay 1849 usuarios y 5556 artistas, en este punto identificamos que el gran número de artistas dificulta construir una recomendación adecuada dada la diversidad de información."
   ]
  },
  {
   "cell_type": "code",
   "execution_count": 28,
   "metadata": {
    "scrolled": true
   },
   "outputs": [
    {
     "data": {
      "text/html": [
       "<div>\n",
       "<style scoped>\n",
       "    .dataframe tbody tr th:only-of-type {\n",
       "        vertical-align: middle;\n",
       "    }\n",
       "\n",
       "    .dataframe tbody tr th {\n",
       "        vertical-align: top;\n",
       "    }\n",
       "\n",
       "    .dataframe thead th {\n",
       "        text-align: right;\n",
       "    }\n",
       "</style>\n",
       "<table border=\"1\" class=\"dataframe\">\n",
       "  <thead>\n",
       "    <tr style=\"text-align: right;\">\n",
       "      <th>artist_id</th>\n",
       "      <th>00034ede-a1f1-4219-be39-02f36853373e</th>\n",
       "      <th>000b1990-4dd8-4835-abcd-bb6038c13ac7</th>\n",
       "      <th>000fc734-b7e1-4a01-92d1-f544261b43f5</th>\n",
       "      <th>000fecd9-ae03-49bc-9a08-636dde5d405d</th>\n",
       "      <th>0019749d-ee29-4a5f-ab17-6bfa11deb969</th>\n",
       "      <th>0031bc7a-1b6f-4620-99db-5202405b0749</th>\n",
       "      <th>00370693-7679-46c1-8ddd-63e1d082c459</th>\n",
       "      <th>00376321-ce0f-4bd7-a98f-fcabdbf06ea7</th>\n",
       "      <th>0039c7ae-e1a7-4a7d-9b49-0cbc716821a6</th>\n",
       "      <th>004e5eed-e267-46ea-b504-54526f1f377d</th>\n",
       "      <th>...</th>\n",
       "      <th>ffb390b8-8df4-4b72-97d1-7b2fc008a452</th>\n",
       "      <th>ffba0d4b-a2bd-46d1-98e0-bf7d08ae8744</th>\n",
       "      <th>ffbfc446-f717-4c63-9103-587defe6cf8a</th>\n",
       "      <th>ffce4003-a756-46c0-b062-2e942de13d37</th>\n",
       "      <th>ffd3ac37-4d0a-42a1-a41e-e160cf60dca5</th>\n",
       "      <th>ffdf7f27-a12c-40fe-8ae3-050b46fc2f79</th>\n",
       "      <th>ffe02aed-ef7e-4736-a186-c2f1dd55ce8d</th>\n",
       "      <th>ffe16bba-4d84-409b-8f22-5242c60b930f</th>\n",
       "      <th>ffe53025-23f7-4c80-ac9d-442a3275d4a6</th>\n",
       "      <th>ffe9ec08-6b6b-4993-9394-e280b429dbfd</th>\n",
       "    </tr>\n",
       "    <tr>\n",
       "      <th>user</th>\n",
       "      <th></th>\n",
       "      <th></th>\n",
       "      <th></th>\n",
       "      <th></th>\n",
       "      <th></th>\n",
       "      <th></th>\n",
       "      <th></th>\n",
       "      <th></th>\n",
       "      <th></th>\n",
       "      <th></th>\n",
       "      <th></th>\n",
       "      <th></th>\n",
       "      <th></th>\n",
       "      <th></th>\n",
       "      <th></th>\n",
       "      <th></th>\n",
       "      <th></th>\n",
       "      <th></th>\n",
       "      <th></th>\n",
       "      <th></th>\n",
       "      <th></th>\n",
       "    </tr>\n",
       "  </thead>\n",
       "  <tbody>\n",
       "    <tr>\n",
       "      <th>00924eef9c4f03910db826ed8f314f69c1820471</th>\n",
       "      <td>0.0</td>\n",
       "      <td>0.0</td>\n",
       "      <td>0.0</td>\n",
       "      <td>0.0</td>\n",
       "      <td>0.0</td>\n",
       "      <td>0.0</td>\n",
       "      <td>0.0</td>\n",
       "      <td>0.0</td>\n",
       "      <td>0.0</td>\n",
       "      <td>220.0</td>\n",
       "      <td>...</td>\n",
       "      <td>0.0</td>\n",
       "      <td>0.0</td>\n",
       "      <td>0.0</td>\n",
       "      <td>0.0</td>\n",
       "      <td>0.0</td>\n",
       "      <td>0.0</td>\n",
       "      <td>0.0</td>\n",
       "      <td>0.0</td>\n",
       "      <td>0.0</td>\n",
       "      <td>0.0</td>\n",
       "    </tr>\n",
       "    <tr>\n",
       "      <th>00b5066cacdebe242a200fb4df30203eaac57ce7</th>\n",
       "      <td>0.0</td>\n",
       "      <td>0.0</td>\n",
       "      <td>0.0</td>\n",
       "      <td>0.0</td>\n",
       "      <td>0.0</td>\n",
       "      <td>0.0</td>\n",
       "      <td>0.0</td>\n",
       "      <td>0.0</td>\n",
       "      <td>0.0</td>\n",
       "      <td>0.0</td>\n",
       "      <td>...</td>\n",
       "      <td>0.0</td>\n",
       "      <td>0.0</td>\n",
       "      <td>0.0</td>\n",
       "      <td>0.0</td>\n",
       "      <td>0.0</td>\n",
       "      <td>0.0</td>\n",
       "      <td>0.0</td>\n",
       "      <td>0.0</td>\n",
       "      <td>0.0</td>\n",
       "      <td>0.0</td>\n",
       "    </tr>\n",
       "    <tr>\n",
       "      <th>00b5c063374ca2de9111b4bc95ea349db3c551b7</th>\n",
       "      <td>0.0</td>\n",
       "      <td>0.0</td>\n",
       "      <td>0.0</td>\n",
       "      <td>0.0</td>\n",
       "      <td>0.0</td>\n",
       "      <td>0.0</td>\n",
       "      <td>0.0</td>\n",
       "      <td>0.0</td>\n",
       "      <td>0.0</td>\n",
       "      <td>0.0</td>\n",
       "      <td>...</td>\n",
       "      <td>0.0</td>\n",
       "      <td>0.0</td>\n",
       "      <td>0.0</td>\n",
       "      <td>0.0</td>\n",
       "      <td>0.0</td>\n",
       "      <td>0.0</td>\n",
       "      <td>0.0</td>\n",
       "      <td>0.0</td>\n",
       "      <td>0.0</td>\n",
       "      <td>0.0</td>\n",
       "    </tr>\n",
       "  </tbody>\n",
       "</table>\n",
       "<p>3 rows × 5556 columns</p>\n",
       "</div>"
      ],
      "text/plain": [
       "artist_id                                 00034ede-a1f1-4219-be39-02f36853373e  \\\n",
       "user                                                                             \n",
       "00924eef9c4f03910db826ed8f314f69c1820471                                   0.0   \n",
       "00b5066cacdebe242a200fb4df30203eaac57ce7                                   0.0   \n",
       "00b5c063374ca2de9111b4bc95ea349db3c551b7                                   0.0   \n",
       "\n",
       "artist_id                                 000b1990-4dd8-4835-abcd-bb6038c13ac7  \\\n",
       "user                                                                             \n",
       "00924eef9c4f03910db826ed8f314f69c1820471                                   0.0   \n",
       "00b5066cacdebe242a200fb4df30203eaac57ce7                                   0.0   \n",
       "00b5c063374ca2de9111b4bc95ea349db3c551b7                                   0.0   \n",
       "\n",
       "artist_id                                 000fc734-b7e1-4a01-92d1-f544261b43f5  \\\n",
       "user                                                                             \n",
       "00924eef9c4f03910db826ed8f314f69c1820471                                   0.0   \n",
       "00b5066cacdebe242a200fb4df30203eaac57ce7                                   0.0   \n",
       "00b5c063374ca2de9111b4bc95ea349db3c551b7                                   0.0   \n",
       "\n",
       "artist_id                                 000fecd9-ae03-49bc-9a08-636dde5d405d  \\\n",
       "user                                                                             \n",
       "00924eef9c4f03910db826ed8f314f69c1820471                                   0.0   \n",
       "00b5066cacdebe242a200fb4df30203eaac57ce7                                   0.0   \n",
       "00b5c063374ca2de9111b4bc95ea349db3c551b7                                   0.0   \n",
       "\n",
       "artist_id                                 0019749d-ee29-4a5f-ab17-6bfa11deb969  \\\n",
       "user                                                                             \n",
       "00924eef9c4f03910db826ed8f314f69c1820471                                   0.0   \n",
       "00b5066cacdebe242a200fb4df30203eaac57ce7                                   0.0   \n",
       "00b5c063374ca2de9111b4bc95ea349db3c551b7                                   0.0   \n",
       "\n",
       "artist_id                                 0031bc7a-1b6f-4620-99db-5202405b0749  \\\n",
       "user                                                                             \n",
       "00924eef9c4f03910db826ed8f314f69c1820471                                   0.0   \n",
       "00b5066cacdebe242a200fb4df30203eaac57ce7                                   0.0   \n",
       "00b5c063374ca2de9111b4bc95ea349db3c551b7                                   0.0   \n",
       "\n",
       "artist_id                                 00370693-7679-46c1-8ddd-63e1d082c459  \\\n",
       "user                                                                             \n",
       "00924eef9c4f03910db826ed8f314f69c1820471                                   0.0   \n",
       "00b5066cacdebe242a200fb4df30203eaac57ce7                                   0.0   \n",
       "00b5c063374ca2de9111b4bc95ea349db3c551b7                                   0.0   \n",
       "\n",
       "artist_id                                 00376321-ce0f-4bd7-a98f-fcabdbf06ea7  \\\n",
       "user                                                                             \n",
       "00924eef9c4f03910db826ed8f314f69c1820471                                   0.0   \n",
       "00b5066cacdebe242a200fb4df30203eaac57ce7                                   0.0   \n",
       "00b5c063374ca2de9111b4bc95ea349db3c551b7                                   0.0   \n",
       "\n",
       "artist_id                                 0039c7ae-e1a7-4a7d-9b49-0cbc716821a6  \\\n",
       "user                                                                             \n",
       "00924eef9c4f03910db826ed8f314f69c1820471                                   0.0   \n",
       "00b5066cacdebe242a200fb4df30203eaac57ce7                                   0.0   \n",
       "00b5c063374ca2de9111b4bc95ea349db3c551b7                                   0.0   \n",
       "\n",
       "artist_id                                 004e5eed-e267-46ea-b504-54526f1f377d  \\\n",
       "user                                                                             \n",
       "00924eef9c4f03910db826ed8f314f69c1820471                                 220.0   \n",
       "00b5066cacdebe242a200fb4df30203eaac57ce7                                   0.0   \n",
       "00b5c063374ca2de9111b4bc95ea349db3c551b7                                   0.0   \n",
       "\n",
       "artist_id                                 ...  \\\n",
       "user                                      ...   \n",
       "00924eef9c4f03910db826ed8f314f69c1820471  ...   \n",
       "00b5066cacdebe242a200fb4df30203eaac57ce7  ...   \n",
       "00b5c063374ca2de9111b4bc95ea349db3c551b7  ...   \n",
       "\n",
       "artist_id                                 ffb390b8-8df4-4b72-97d1-7b2fc008a452  \\\n",
       "user                                                                             \n",
       "00924eef9c4f03910db826ed8f314f69c1820471                                   0.0   \n",
       "00b5066cacdebe242a200fb4df30203eaac57ce7                                   0.0   \n",
       "00b5c063374ca2de9111b4bc95ea349db3c551b7                                   0.0   \n",
       "\n",
       "artist_id                                 ffba0d4b-a2bd-46d1-98e0-bf7d08ae8744  \\\n",
       "user                                                                             \n",
       "00924eef9c4f03910db826ed8f314f69c1820471                                   0.0   \n",
       "00b5066cacdebe242a200fb4df30203eaac57ce7                                   0.0   \n",
       "00b5c063374ca2de9111b4bc95ea349db3c551b7                                   0.0   \n",
       "\n",
       "artist_id                                 ffbfc446-f717-4c63-9103-587defe6cf8a  \\\n",
       "user                                                                             \n",
       "00924eef9c4f03910db826ed8f314f69c1820471                                   0.0   \n",
       "00b5066cacdebe242a200fb4df30203eaac57ce7                                   0.0   \n",
       "00b5c063374ca2de9111b4bc95ea349db3c551b7                                   0.0   \n",
       "\n",
       "artist_id                                 ffce4003-a756-46c0-b062-2e942de13d37  \\\n",
       "user                                                                             \n",
       "00924eef9c4f03910db826ed8f314f69c1820471                                   0.0   \n",
       "00b5066cacdebe242a200fb4df30203eaac57ce7                                   0.0   \n",
       "00b5c063374ca2de9111b4bc95ea349db3c551b7                                   0.0   \n",
       "\n",
       "artist_id                                 ffd3ac37-4d0a-42a1-a41e-e160cf60dca5  \\\n",
       "user                                                                             \n",
       "00924eef9c4f03910db826ed8f314f69c1820471                                   0.0   \n",
       "00b5066cacdebe242a200fb4df30203eaac57ce7                                   0.0   \n",
       "00b5c063374ca2de9111b4bc95ea349db3c551b7                                   0.0   \n",
       "\n",
       "artist_id                                 ffdf7f27-a12c-40fe-8ae3-050b46fc2f79  \\\n",
       "user                                                                             \n",
       "00924eef9c4f03910db826ed8f314f69c1820471                                   0.0   \n",
       "00b5066cacdebe242a200fb4df30203eaac57ce7                                   0.0   \n",
       "00b5c063374ca2de9111b4bc95ea349db3c551b7                                   0.0   \n",
       "\n",
       "artist_id                                 ffe02aed-ef7e-4736-a186-c2f1dd55ce8d  \\\n",
       "user                                                                             \n",
       "00924eef9c4f03910db826ed8f314f69c1820471                                   0.0   \n",
       "00b5066cacdebe242a200fb4df30203eaac57ce7                                   0.0   \n",
       "00b5c063374ca2de9111b4bc95ea349db3c551b7                                   0.0   \n",
       "\n",
       "artist_id                                 ffe16bba-4d84-409b-8f22-5242c60b930f  \\\n",
       "user                                                                             \n",
       "00924eef9c4f03910db826ed8f314f69c1820471                                   0.0   \n",
       "00b5066cacdebe242a200fb4df30203eaac57ce7                                   0.0   \n",
       "00b5c063374ca2de9111b4bc95ea349db3c551b7                                   0.0   \n",
       "\n",
       "artist_id                                 ffe53025-23f7-4c80-ac9d-442a3275d4a6  \\\n",
       "user                                                                             \n",
       "00924eef9c4f03910db826ed8f314f69c1820471                                   0.0   \n",
       "00b5066cacdebe242a200fb4df30203eaac57ce7                                   0.0   \n",
       "00b5c063374ca2de9111b4bc95ea349db3c551b7                                   0.0   \n",
       "\n",
       "artist_id                                 ffe9ec08-6b6b-4993-9394-e280b429dbfd  \n",
       "user                                                                            \n",
       "00924eef9c4f03910db826ed8f314f69c1820471                                   0.0  \n",
       "00b5066cacdebe242a200fb4df30203eaac57ce7                                   0.0  \n",
       "00b5c063374ca2de9111b4bc95ea349db3c551b7                                   0.0  \n",
       "\n",
       "[3 rows x 5556 columns]"
      ]
     },
     "execution_count": 28,
     "metadata": {},
     "output_type": "execute_result"
    }
   ],
   "source": [
    "# Transform the table\n",
    "user_ratings_table = data.pivot(index='user', columns='artist_id', values='plays').fillna(0)\n",
    "# Inspect the transformed table\n",
    "user_ratings_table.head(3)"
   ]
  },
  {
   "cell_type": "code",
   "execution_count": 29,
   "metadata": {
    "scrolled": true
   },
   "outputs": [
    {
     "data": {
      "text/plain": [
       "(1849, 5556)"
      ]
     },
     "execution_count": 29,
     "metadata": {},
     "output_type": "execute_result"
    }
   ],
   "source": [
    "user_ratings_table.shape"
   ]
  },
  {
   "cell_type": "markdown",
   "metadata": {},
   "source": [
    "### **Sparcity**\n",
    "\n",
    "Veamos el porcentaje de sparcity que tenemos:\n",
    "\n",
    "Teniendo en cuenta la alta dispersión de los datos, se usa la siguiente métrica para determinarsi el filtrado colaborativo es el más adecuado para recomendar, aún cuando pocos usuarios han valorado los mismos productos:"
   ]
  },
  {
   "cell_type": "code",
   "execution_count": 30,
   "metadata": {},
   "outputs": [
    {
     "name": "stdout",
     "output_type": "stream",
     "text": [
      "Sparsity: 0.69%\n"
     ]
    }
   ],
   "source": [
    "#“ceros” que rellenar (predecir)…\n",
    "ratings = user_ratings_table.values\n",
    "sparsity = float(len(ratings.nonzero()[0]))\n",
    "sparsity /= (ratings.shape[0] * ratings.shape[1])\n",
    "sparsity *= 100\n",
    "print('Sparsity: {:4.2f}%'.format(sparsity))"
   ]
  },
  {
   "cell_type": "markdown",
   "metadata": {},
   "source": [
    "**Train y Test set**\n",
    "\n",
    "Separamos en train y test para -más adelante- poder medir la calidad de nuestras recomendaciones."
   ]
  },
  {
   "cell_type": "code",
   "execution_count": 31,
   "metadata": {},
   "outputs": [
    {
     "name": "stdout",
     "output_type": "stream",
     "text": [
      "(1479, 5556)\n",
      "(370, 5556)\n"
     ]
    }
   ],
   "source": [
    "ratings_train, ratings_test = train_test_split(user_ratings_table, test_size = 0.2, random_state=42)\n",
    "print(ratings_train.shape)\n",
    "print(ratings_test.shape)"
   ]
  },
  {
   "cell_type": "markdown",
   "metadata": {},
   "source": [
    "**Matriz de Similitud: Distancias por Coseno**\n",
    "\n",
    "Ahora calculamos en una nueva matriz la similitud entre usuarios."
   ]
  },
  {
   "cell_type": "code",
   "execution_count": 32,
   "metadata": {},
   "outputs": [
    {
     "name": "stdout",
     "output_type": "stream",
     "text": [
      "(1849, 1849)\n"
     ]
    }
   ],
   "source": [
    "import sklearn\n",
    "from sklearn.metrics.pairwise import cosine_similarity\n",
    "sim_matrix = 1 - sklearn.metrics.pairwise.cosine_distances(user_ratings_table)\n",
    "print(sim_matrix.shape)"
   ]
  },
  {
   "cell_type": "code",
   "execution_count": 36,
   "metadata": {},
   "outputs": [
    {
     "data": {
      "image/png": "[encoded data removed]",
      "text/plain": [
       "<Figure size 1440x360 with 2 Axes>"
      ]
     },
     "metadata": {
      "needs_background": "light"
     },
     "output_type": "display_data"
    }
   ],
   "source": [
    "plt.imshow(sim_matrix);\n",
    "plt.colorbar()\n",
    "plt.show()\n",
    "\n",
    "#Cuanto más cercano a 1, mayor similitud entre esos usuarios, en este caso no se evidencia similitud. "
   ]
  },
  {
   "cell_type": "markdown",
   "metadata": {},
   "source": [
    "### **Predicciones**"
   ]
  },
  {
   "cell_type": "code",
   "execution_count": 34,
   "metadata": {},
   "outputs": [],
   "source": [
    "#separar las filas y columnas de train y test\n",
    "sim_matrix_train = sim_matrix[0:1479,0:1479]\n",
    "sim_matrix_test = sim_matrix[1479:1849,1479:1849]\n",
    "\n",
    "users_predictions = sim_matrix_train.dot(ratings_train) / np.array([np.abs(sim_matrix_train).sum(axis=1)]).T"
   ]
  },
  {
   "cell_type": "code",
   "execution_count": 40,
   "metadata": {
    "scrolled": true
   },
   "outputs": [
    {
     "data": {
      "image/png": "[encoded data removed]",
      "text/plain": [
       "<Figure size 720x360 with 2 Axes>"
      ]
     },
     "metadata": {
      "needs_background": "light"
     },
     "output_type": "display_data"
    }
   ],
   "source": [
    "#Graficar la solucion\n",
    "# plt.rcParams['figure.figsize'] = (10.0, 5.0)\n",
    "plt.imshow(users_predictions);\n",
    "plt.colorbar()\n",
    "plt.show()"
   ]
  },
  {
   "cell_type": "markdown",
   "metadata": {},
   "source": [
    "Al graficar la solución para el conjunto de datos escogido, se identifica que no se obtienen predicciones dada la alta dispersión del conjunto de datos analizado. Lo cual nos impidió calcular la métrica de desempeño escogida en este caso RMSE."
   ]
  },
  {
   "cell_type": "code",
   "execution_count": 37,
   "metadata": {},
   "outputs": [],
   "source": [
    "def get_mse(preds, actuals):\n",
    "    if preds.shape[1] != actuals.shape[1]:\n",
    "        actuals = actuals.T\n",
    "    preds = preds[actuals.nonzero()].flatten()\n",
    "    actuals = actuals[actuals.nonzero()].flatten()\n",
    "    return mean_squared_error(preds, actuals)"
   ]
  },
  {
   "cell_type": "code",
   "execution_count": null,
   "metadata": {},
   "outputs": [],
   "source": [
    "users_predictions"
   ]
  },
  {
   "cell_type": "code",
   "execution_count": null,
   "metadata": {},
   "outputs": [],
   "source": [
    "users_predictions_test"
   ]
  },
  {
   "cell_type": "code",
   "execution_count": null,
   "metadata": {},
   "outputs": [],
   "source": [
    "get_mse(users_predictions_test, ratings_test)\n",
    "\n",
    "\n",
    "# Realizo las predicciones para el test set\n",
    "users_predictions_test = sim_matrix.dot(ratings) / np.array([np.abs(sim_matrix).sum(axis=1)]).T\n",
    "users_predictions_test = users_predictions_test[1479:1849,:]\n",
    "\n",
    "get_mse(users_predictions_test, ratings_test)"
   ]
  },
  {
   "cell_type": "markdown",
   "metadata": {},
   "source": [
    "Objetivo General:\n",
    "\n",
    "Una aplicación de música quiere actualizar su aplicación online para generar recomendaciones a sus usuarios de nuevos artistas para escuchar.\n",
    "\n",
    "como consultores externos se analiza la informacion recibida y se decide implementar la solucion usando motores de recomedación.\n",
    "\n",
    "Especificos:\n",
    "\n",
    "Desarrollar un algoritmo de recomendación de artistas para cada usuario y evaluar su desempeño. \n",
    "\n",
    "Para llevar a cabo este requerimiento, se implmento el metodo de Popularidad, mediante el cual se recomienda a los usuarios “los artistas más escuchados” globalmente, bajo esta premisa se calculan las parejas más populares y se ofrecen a todos los usuarios por igual sin tener en cuenta la informacion demografica. \n",
    "\n",
    "Mejorar el algoritmo considerando la información de tipo socio-demográfico por usuario\n",
    " \n",
    "Para llevar a cabo este requerimiento, se implementó el método de filtrado colaborativo, el cual utiliza la información para identificar perfiles similares y aprender de los datos para recomendar artistas de manera individual. En la primera fase se usó toda la información disponible, pero la capacidad de cómputo requerida impidio procesar la informacion, y se plantearon las siguientes estrategias: segmentar por muestreo o por pais, escogiendo a Colombia por afinidad y conocimiento de los datos y realizar una muestra aleatoria a nivel global la cual dada su heterogenidad no permitio correr los algoritmos. \n",
    "\n",
    "Teniendo en cuenta el gran volumen de los datos, se puede buscar otras herramientas computacionales diversas diferentes as python, como lo son el shell script de Linux o MacOS, Bases de datos entre otros.\n",
    "\n"
   ]
  }
 ],
 "metadata": {
  "kernelspec": {
   "display_name": "Python 3",
   "language": "python",
   "name": "python3"
  },
  "language_info": {
   "codemirror_mode": {
    "name": "ipython",
    "version": 3
   },
   "file_extension": ".py",
   "mimetype": "text/x-python",
   "name": "python",
   "nbconvert_exporter": "python",
   "pygments_lexer": "ipython3",
   "version": "3.8.2"
  }
 },
 "nbformat": 4,
 "nbformat_minor": 4
}
