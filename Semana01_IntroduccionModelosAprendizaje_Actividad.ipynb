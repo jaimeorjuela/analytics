{
 "cells": [
  {
   "cell_type": "markdown",
   "metadata": {},
   "source": [
    "<br><h1> <img src=\"https://serea2017.uniandes.edu.co/images/Logo.png\" height=\"60\" width=\"200\" align=\"Center\" /><br>\n",
    "\n",
    "\n",
    "## MIIA-4203 MODELOS AVANZADOS PARA ANÁLISIS DE DATOS II\n",
    "    -  Wilson Felipe Gonzalez - Cód 200924943\n",
    "    -  Jaime Orjuela Viracacha - Cód 201924252\n",
    "    -  Juan Sebastián Rincón - Cód 201214767\n",
    "\n",
    "\n",
    "# Introducción al aprendizaje computacional\n",
    "\n",
    "## Actividad 1\n",
    "\n",
    "### Profesor: Camilo Franco (c.franco31@uniandes.edu.co)\n",
    "\n",
    "\n",
    "\n",
    "En esta actividad vamos a estudiar una primera aproximación a los modelos de aprendizaje computacional, utilizando como base un problema de clasifiación y el modelo de clasificación logístico.\n"
   ]
  },
  {
   "cell_type": "markdown",
   "metadata": {},
   "source": [
    "## Actividad en grupos\n",
    "### Nombres:\n",
    "\n",
    "**Instrucciones:** Por favor escriba los nombres de los integrantes de su grupo. Esta actividad debe ser entregada a más tardar dentro de 8 días, con la respuesta para los ejercicios y preguntas en cada numeral.\n",
    "\n"
   ]
  },
  {
   "cell_type": "markdown",
   "metadata": {},
   "source": [
    "## 1. Aprendizaje computacional\n",
    "\n",
    "El aprendizaje computacional o **Machine Learning** (ML), utiliza algoritmos con parámetros libres que se puedan ajustar de manera automática, con el objetivo de mejorar el desempeño de los modelos a partir de la información disponible.\n",
    "\n",
    "El aprendizaje computacional se circunscribe en el campo de la Inteligencia Computacional, o lo que se conoce como Inteligencia Artificial, mediante la búsqueda de patrones a partir de los *Datos*. Entonces, los algoritmos desarrollados dentro del Machine Learning (ML a partir de ahora) se pueden entender como los bloques fundacionales que permiten aprender computacionalmente a partir de los datos. De esta manera, generalizando los datos en lugar de solo almacenarlos y devolver busquedas específicas, como en los sistemas relacionales de bases de datos.\n",
    "\n",
    "\n",
    "### Tipos de aprendizaje\n",
    "\n",
    "Los tipos de problemas sobre los que se trabaja en ML se pueden entender como de tipo **supervisado**, **no supervisado**, y **semi-supervisado**. \n",
    "\n",
    "**Aprendizaje supervisado**\n",
    "\n",
    "El aprendizaje supervisado se refiere a modelos, o conjuntos de algoritmos, que aproximan o estiman una función $f(x)$ que representa la relación entre la variable dependiente $Y$ (etiqueta o valor objetivo) y el conjunto de variables independientes $X$. Por ello a los algoritmos de tipo supervisado se les asocia usualmente con modelos predictivos, donde dado un conjunto de datos $X$, se puede predecir un nuevo valor de la variable dependiente $Y$. \n",
    "\n",
    "De acuerdo con el tipo de valores en $Y$, se pueden definir dos tipos principales de problemas y algoritmos para analizar los datos:\n",
    "\n",
    "- Problemas de clasificación\n",
    "\n",
    "Siempre que la variable $Y$ se refiera a un grupo de categorías (valores sin ningún orden en particular), como por ejemplo bueno/malo, pequeño/grande, la tarea de predecir $Y$ puede ser considerada como un problema de clasificación. En este sentido, las variables de salida se conocen como etiquetas o categorías.\n",
    "\n",
    "- Problemas de regresión\n",
    "\n",
    "Un problema de regresión consiste en estimar y/o predecir una variable dependiente (o valor objetivo) $Y$ con valores continuos. Por ejemplo, predecir el precio de una vivienda, de acciones, alimentos, etc. \n",
    "\n",
    "**Aprendizaje no-supervisado**\n",
    "    \n",
    "El aprendizaje no-supervisado considera problemas donde la variable dependiente $Y$, o las etiquetas para el conjunto de datos, no está disponible. Es decir, cuando $Y$ no está contenida en el conjunto de datos. Entonces, en lugar de estimar o predecir una variable, un algoritmo no-supervisado utiliza técnicas sobre el conjunto de datos de entrada $X$ para detectar patrones, encontrar reglas, o resumir y agrupar los datos. Usualmente, los algoritmos no-supervisados son utilizados para el análisis descriptivo y la modelación, donde se necesita una primera aproximación a los datos, desarrollar una intuición y extraer nuevo conocmiento que es desconocido para el analista y/o experto. \n",
    "\n",
    "En el aprendizaje no-supervisado, se tienen dos tareas principales, la reducción de dimensionalidad y el análisis de clustering.\n",
    "\n",
    "- Reducción de dimensionalidad \n",
    "\n",
    "La reducción de dimensionalidad busca encontrar la estructura subyacente de los datos, reduciendo la cantidad de información disponible en el conjunto de datos $X$. Por ejemlo, es muy conocido el análisis de componentes principales. \n",
    "\n",
    "- Clustering \n",
    "\n",
    "El análisis de clustering consiste en agrupar un conjunto de datos $X$ de manera que cada grupo contenga observaciones más similares entre sí que con las observaciones de otros grupos. Estos grupos son denominados *clusters*. Es una técnica bastante común para la exploración de los datos y su análisis. \n",
    "\n",
    "\n",
    "#### Otros tipos de aprendizaje\n",
    "\n",
    "Más allá de estos dos tipos de aprendizaje presentados anteriormente, existen otros tipos que son bastante útiles dependiendo de la naturaleza del problema. Por ejemplo, el **aprendizaje semi-supervisado** (https://medium.com/inside-machine-learning/placeholder-3557ebb3d470) o el **aprendizaje por refuerzo** (https://medium.com/machine-learning-for-humans/reinforcement-learning-6eacf258b265) "
   ]
  },
  {
   "cell_type": "markdown",
   "metadata": {},
   "source": [
    "## 2. Problema de clasificación: riesgo de default\n",
    "\n",
    "### 2.1 Datos\n",
    "\n",
    "Como hemos visto, una tarea muy usual dentro del ML es la de la clasificación. Pero antes, vamos a importar las bibliotecas que vamos a usar en este cuaderno."
   ]
  },
  {
   "cell_type": "code",
   "execution_count": 1,
   "metadata": {},
   "outputs": [],
   "source": [
    "# Algunos paquetes iniciales que vamos a utilizar\n",
    "import pandas as pd\n",
    "import numpy as np \n",
    "import matplotlib\n",
    "import matplotlib.pyplot as plt"
   ]
  },
  {
   "cell_type": "markdown",
   "metadata": {},
   "source": [
    "https://archive.ics.uci.edu/ml/datasets/statlog+(german+credit+data)"
   ]
  },
  {
   "cell_type": "code",
   "execution_count": 2,
   "metadata": {},
   "outputs": [],
   "source": [
    "data = pd.read_csv(\"germancredit.csv\")"
   ]
  },
  {
   "cell_type": "code",
   "execution_count": 3,
   "metadata": {},
   "outputs": [
    {
     "data": {
      "text/html": [
       "<div>\n",
       "<style scoped>\n",
       "    .dataframe tbody tr th:only-of-type {\n",
       "        vertical-align: middle;\n",
       "    }\n",
       "\n",
       "    .dataframe tbody tr th {\n",
       "        vertical-align: top;\n",
       "    }\n",
       "\n",
       "    .dataframe thead th {\n",
       "        text-align: right;\n",
       "    }\n",
       "</style>\n",
       "<table border=\"1\" class=\"dataframe\">\n",
       "  <thead>\n",
       "    <tr style=\"text-align: right;\">\n",
       "      <th></th>\n",
       "      <th>Default</th>\n",
       "      <th>checkingstatus1</th>\n",
       "      <th>duration</th>\n",
       "      <th>history</th>\n",
       "      <th>purpose</th>\n",
       "      <th>amount</th>\n",
       "      <th>savings</th>\n",
       "      <th>employ</th>\n",
       "      <th>installment</th>\n",
       "      <th>status</th>\n",
       "      <th>...</th>\n",
       "      <th>residence</th>\n",
       "      <th>property</th>\n",
       "      <th>age</th>\n",
       "      <th>otherplans</th>\n",
       "      <th>housing</th>\n",
       "      <th>cards</th>\n",
       "      <th>job</th>\n",
       "      <th>liable</th>\n",
       "      <th>tele</th>\n",
       "      <th>foreign</th>\n",
       "    </tr>\n",
       "  </thead>\n",
       "  <tbody>\n",
       "    <tr>\n",
       "      <th>0</th>\n",
       "      <td>0</td>\n",
       "      <td>A11</td>\n",
       "      <td>6</td>\n",
       "      <td>A34</td>\n",
       "      <td>A43</td>\n",
       "      <td>1169</td>\n",
       "      <td>A65</td>\n",
       "      <td>A75</td>\n",
       "      <td>4</td>\n",
       "      <td>A93</td>\n",
       "      <td>...</td>\n",
       "      <td>4</td>\n",
       "      <td>A121</td>\n",
       "      <td>67</td>\n",
       "      <td>A143</td>\n",
       "      <td>A152</td>\n",
       "      <td>2</td>\n",
       "      <td>A173</td>\n",
       "      <td>1</td>\n",
       "      <td>A192</td>\n",
       "      <td>A201</td>\n",
       "    </tr>\n",
       "    <tr>\n",
       "      <th>1</th>\n",
       "      <td>1</td>\n",
       "      <td>A12</td>\n",
       "      <td>48</td>\n",
       "      <td>A32</td>\n",
       "      <td>A43</td>\n",
       "      <td>5951</td>\n",
       "      <td>A61</td>\n",
       "      <td>A73</td>\n",
       "      <td>2</td>\n",
       "      <td>A92</td>\n",
       "      <td>...</td>\n",
       "      <td>2</td>\n",
       "      <td>A121</td>\n",
       "      <td>22</td>\n",
       "      <td>A143</td>\n",
       "      <td>A152</td>\n",
       "      <td>1</td>\n",
       "      <td>A173</td>\n",
       "      <td>1</td>\n",
       "      <td>A191</td>\n",
       "      <td>A201</td>\n",
       "    </tr>\n",
       "    <tr>\n",
       "      <th>2</th>\n",
       "      <td>0</td>\n",
       "      <td>A14</td>\n",
       "      <td>12</td>\n",
       "      <td>A34</td>\n",
       "      <td>A46</td>\n",
       "      <td>2096</td>\n",
       "      <td>A61</td>\n",
       "      <td>A74</td>\n",
       "      <td>2</td>\n",
       "      <td>A93</td>\n",
       "      <td>...</td>\n",
       "      <td>3</td>\n",
       "      <td>A121</td>\n",
       "      <td>49</td>\n",
       "      <td>A143</td>\n",
       "      <td>A152</td>\n",
       "      <td>1</td>\n",
       "      <td>A172</td>\n",
       "      <td>2</td>\n",
       "      <td>A191</td>\n",
       "      <td>A201</td>\n",
       "    </tr>\n",
       "    <tr>\n",
       "      <th>3</th>\n",
       "      <td>0</td>\n",
       "      <td>A11</td>\n",
       "      <td>42</td>\n",
       "      <td>A32</td>\n",
       "      <td>A42</td>\n",
       "      <td>7882</td>\n",
       "      <td>A61</td>\n",
       "      <td>A74</td>\n",
       "      <td>2</td>\n",
       "      <td>A93</td>\n",
       "      <td>...</td>\n",
       "      <td>4</td>\n",
       "      <td>A122</td>\n",
       "      <td>45</td>\n",
       "      <td>A143</td>\n",
       "      <td>A153</td>\n",
       "      <td>1</td>\n",
       "      <td>A173</td>\n",
       "      <td>2</td>\n",
       "      <td>A191</td>\n",
       "      <td>A201</td>\n",
       "    </tr>\n",
       "    <tr>\n",
       "      <th>4</th>\n",
       "      <td>1</td>\n",
       "      <td>A11</td>\n",
       "      <td>24</td>\n",
       "      <td>A33</td>\n",
       "      <td>A40</td>\n",
       "      <td>4870</td>\n",
       "      <td>A61</td>\n",
       "      <td>A73</td>\n",
       "      <td>3</td>\n",
       "      <td>A93</td>\n",
       "      <td>...</td>\n",
       "      <td>4</td>\n",
       "      <td>A124</td>\n",
       "      <td>53</td>\n",
       "      <td>A143</td>\n",
       "      <td>A153</td>\n",
       "      <td>2</td>\n",
       "      <td>A173</td>\n",
       "      <td>2</td>\n",
       "      <td>A191</td>\n",
       "      <td>A201</td>\n",
       "    </tr>\n",
       "  </tbody>\n",
       "</table>\n",
       "<p>5 rows × 21 columns</p>\n",
       "</div>"
      ],
      "text/plain": [
       "   Default checkingstatus1  duration history purpose  amount savings employ  \\\n",
       "0        0             A11         6     A34     A43    1169     A65    A75   \n",
       "1        1             A12        48     A32     A43    5951     A61    A73   \n",
       "2        0             A14        12     A34     A46    2096     A61    A74   \n",
       "3        0             A11        42     A32     A42    7882     A61    A74   \n",
       "4        1             A11        24     A33     A40    4870     A61    A73   \n",
       "\n",
       "   installment status  ... residence  property age  otherplans housing cards  \\\n",
       "0            4    A93  ...         4      A121  67        A143    A152     2   \n",
       "1            2    A92  ...         2      A121  22        A143    A152     1   \n",
       "2            2    A93  ...         3      A121  49        A143    A152     1   \n",
       "3            2    A93  ...         4      A122  45        A143    A153     1   \n",
       "4            3    A93  ...         4      A124  53        A143    A153     2   \n",
       "\n",
       "    job liable  tele foreign  \n",
       "0  A173      1  A192    A201  \n",
       "1  A173      1  A191    A201  \n",
       "2  A172      2  A191    A201  \n",
       "3  A173      2  A191    A201  \n",
       "4  A173      2  A191    A201  \n",
       "\n",
       "[5 rows x 21 columns]"
      ]
     },
     "execution_count": 3,
     "metadata": {},
     "output_type": "execute_result"
    }
   ],
   "source": [
    "data.head()"
   ]
  },
  {
   "cell_type": "code",
   "execution_count": 4,
   "metadata": {},
   "outputs": [
    {
     "data": {
      "text/plain": [
       "Default             int64\n",
       "checkingstatus1    object\n",
       "duration            int64\n",
       "history            object\n",
       "purpose            object\n",
       "amount              int64\n",
       "savings            object\n",
       "employ             object\n",
       "installment         int64\n",
       "status             object\n",
       "others             object\n",
       "residence           int64\n",
       "property           object\n",
       "age                 int64\n",
       "otherplans         object\n",
       "housing            object\n",
       "cards               int64\n",
       "job                object\n",
       "liable              int64\n",
       "tele               object\n",
       "foreign            object\n",
       "dtype: object"
      ]
     },
     "execution_count": 4,
     "metadata": {},
     "output_type": "execute_result"
    }
   ],
   "source": [
    "data.dtypes"
   ]
  },
  {
   "cell_type": "code",
   "execution_count": 5,
   "metadata": {},
   "outputs": [
    {
     "data": {
      "text/plain": [
       "0    700\n",
       "1    300\n",
       "Name: Default, dtype: int64"
      ]
     },
     "execution_count": 5,
     "metadata": {},
     "output_type": "execute_result"
    }
   ],
   "source": [
    "data.Default.value_counts()"
   ]
  },
  {
   "cell_type": "markdown",
   "metadata": {},
   "source": [
    "La clase positiva (default=1) tiene menos casos.  Además, es 5 veces más costoso clasificar a un usuario como bueno (Defualt=0) cuando es malo (Default=1), que clasificarlo como malo cuando es bueno."
   ]
  },
  {
   "cell_type": "code",
   "execution_count": 6,
   "metadata": {},
   "outputs": [
    {
     "data": {
      "text/plain": [
       "A201    963\n",
       "A202     37\n",
       "Name: foreign, dtype: int64"
      ]
     },
     "execution_count": 6,
     "metadata": {},
     "output_type": "execute_result"
    }
   ],
   "source": [
    "data.foreign.value_counts()"
   ]
  },
  {
   "cell_type": "markdown",
   "metadata": {},
   "source": [
    "Vemos que la mayoría de clientes de la base de datos son extranjeros."
   ]
  },
  {
   "cell_type": "markdown",
   "metadata": {},
   "source": [
    "## 2.2 Codificacion de variables categoricas"
   ]
  },
  {
   "cell_type": "code",
   "execution_count": 7,
   "metadata": {},
   "outputs": [
    {
     "name": "stdout",
     "output_type": "stream",
     "text": [
      "   Default  duration  amount  installment  residence  age  cards  liable  \\\n",
      "0        0         6    1169            4          4   67      2       1   \n",
      "1        1        48    5951            2          2   22      1       1   \n",
      "2        0        12    2096            2          3   49      1       2   \n",
      "3        0        42    7882            2          4   45      1       2   \n",
      "4        1        24    4870            3          4   53      2       2   \n",
      "\n",
      "   checkingstatus1_A11  checkingstatus1_A12  ...  housing_A152  housing_A153  \\\n",
      "0                    1                    0  ...             1             0   \n",
      "1                    0                    1  ...             1             0   \n",
      "2                    0                    0  ...             1             0   \n",
      "3                    1                    0  ...             0             1   \n",
      "4                    1                    0  ...             0             1   \n",
      "\n",
      "   job_A171  job_A172  job_A173  job_A174  tele_A191  tele_A192  foreign_A201  \\\n",
      "0         0         0         1         0          0          1             1   \n",
      "1         0         0         1         0          1          0             1   \n",
      "2         0         1         0         0          1          0             1   \n",
      "3         0         0         1         0          1          0             1   \n",
      "4         0         0         1         0          1          0             1   \n",
      "\n",
      "   foreign_A202  \n",
      "0             0  \n",
      "1             0  \n",
      "2             0  \n",
      "3             0  \n",
      "4             0  \n",
      "\n",
      "[5 rows x 62 columns]\n"
     ]
    }
   ],
   "source": [
    "credit_1 = data.copy()\n",
    "credit_1 = pd.get_dummies(credit_1, columns=['checkingstatus1','history','purpose','savings',\n",
    "                                   'employ','status','others','property','otherplans','housing','job','tele', \n",
    "                                   'foreign'], prefix = ['checkingstatus1','history','purpose','savings',\n",
    "                                   'employ','status','others','property','otherplans','housing','job','tele', \n",
    "                                   'foreign'])\n",
    "\n",
    "print(credit_1.head())"
   ]
  },
  {
   "cell_type": "code",
   "execution_count": 8,
   "metadata": {},
   "outputs": [
    {
     "data": {
      "text/plain": [
       "(1000, 61)"
      ]
     },
     "execution_count": 8,
     "metadata": {},
     "output_type": "execute_result"
    }
   ],
   "source": [
    "X = credit_1.iloc[:, 1:62]#[['duration','amount','installment','residence','age','cards','liable']]\n",
    "Y = credit_1.iloc[:, 0]\n",
    "X.shape"
   ]
  },
  {
   "cell_type": "markdown",
   "metadata": {},
   "source": [
    "### 3. Regresión logística\n",
    "\n",
    "Podemos estudiar un problema de clasificación desde una perspectiva probabilística, examinando una situación donde la variable respuesta ($Y_i$) consiste de dos categorías ($\\{0,1\\}$). La *regresión logística* estima la probabilidad de que una observación pertenezca a una de las dos categorías.\n",
    "\n",
    "Entonces se modela la función de probabilidad $p(Y_i=1)$ de tal manera que tome un valor entre 0 y 1. La función de regresión logística consiste en la función *sigmoide* ($\\sigma(\\cdot)$) $$ p(Y_i)=p(Y_i=1)=\\frac{e^{\\beta_0 + \\beta_1X_{1} + ... + \\beta_k X_{k}}}{1+e^{\\beta_0 + \\beta_1X_{1} + ... + \\beta_k X_{k}}}=\\frac{e^{Z_i}}{1+e^{Z_i}}=\\sigma(Z_i)$$\n",
    "donde se tiene que \n",
    "$$log\\frac{p(Y_i)}{1-p(Y_i)}=\\beta_0 + \\beta_1X_{1} + ... + \\beta_k X_{k}.  $$\n",
    "\n",
    "\n",
    "Por lo tanto, manteniendo todo lo demás constante, se puede estimar el cambio que una unidad extra en $X_1$ tiene sobre  el chance (o el *log-odds*) $log\\frac{p(Y_i)}{1-p(Y_i)}$. Esta estimación está dada por $\\hat \\beta_1$. \n",
    "\n",
    "\n",
    "Los coeficientes del modelo se pueden estimar por el método de máxima verosimilitud, buscando iterativamente estimadores que maximicen la función de verosimilitud: $$ F_{\\mathbf{\\beta}}=\\prod_{i:Y_i=1} p(Y_i)\\prod_{i':Y_{i'}=0}(1-p(Y_{i'})). $$\n",
    "\n",
    "\n",
    "Finalmente, la extensión del modelo logístico para múltiples clases o categorías ($C$) se hace calculando la probabilidad de una categoría ($C_i$) frente al resto y utilizando lo que se conoce como una función *softmax*: \n",
    "$$ \\sigma (Z_i )={\\frac {e^{Z_{i}}}{\\sum _{j=1}^{|C|}e^{Z_{j}}}}{\\text{ para }}i=1,\\dotsc ,|C|$$\n",
    "\n",
    "\n",
    "Miremos un ejemplo con nuestros datos sobre el comportamiento de los clientes del banco. Primero descargamos los paquetes que vamos a utilizar:"
   ]
  },
  {
   "cell_type": "code",
   "execution_count": 9,
   "metadata": {},
   "outputs": [],
   "source": [
    "from sklearn.linear_model import LogisticRegression\n",
    "from sklearn import model_selection"
   ]
  },
  {
   "cell_type": "markdown",
   "metadata": {},
   "source": [
    "Por defecto, la funcion `LogisticRegression()` encuentra una solución mediante el algoritmo de Broyden–Fletcher–Goldfarb–Shanno (BFGS):  https://en.wikipedia.org/wiki/Broyden%E2%80%93Fletcher%E2%80%93Goldfarb%E2%80%93Shanno_algorithm"
   ]
  },
  {
   "cell_type": "code",
   "execution_count": 10,
   "metadata": {},
   "outputs": [
    {
     "name": "stdout",
     "output_type": "stream",
     "text": [
      "[[ 3.51004423e-02  7.64961767e-05  2.77681223e-01 -5.66643515e-02\n",
      "  -3.01056242e-02 -1.72919720e-01 -9.42337002e-02  6.93109276e-01\n",
      "   2.29672401e-01 -6.66385574e-02 -1.01492322e+00  1.78949355e-01\n",
      "   1.99766093e-01 -4.01505516e-02 -1.91994373e-02 -4.78145564e-01\n",
      "   3.73612069e-01 -3.20306574e-01 -3.69960312e-03 -3.10240289e-02\n",
      "  -3.44920577e-01  8.90986004e-03  3.86404324e-02  1.30351979e-01\n",
      "  -2.38907209e-02  1.35470589e-02  4.20945851e-01  1.25922472e-02\n",
      "  -9.82987087e-02 -1.22113716e-01 -3.71905779e-01  6.20186705e-02\n",
      "   1.73878712e-01 -5.06141111e-02 -3.19098204e-01 -2.49651723e-02\n",
      "   9.21019118e-02  1.26523311e-01 -3.11919101e-01 -6.54862267e-02\n",
      "  -9.79439087e-02  6.79628311e-02 -1.28799027e-01 -2.84363759e-01\n",
      "  -1.29113528e-02 -9.53368034e-02  2.33831811e-01  2.00736865e-01\n",
      "   5.98066073e-02 -4.19323577e-01  1.27937420e-01 -4.10722685e-01\n",
      "   1.24005160e-01  4.37342990e-03 -6.74375206e-03 -1.67899315e-01\n",
      "   1.14895326e-02  5.37714330e-02 -2.12551538e-01 -4.13068353e-02\n",
      "  -1.17473269e-01]]\n"
     ]
    },
    {
     "name": "stderr",
     "output_type": "stream",
     "text": [
      "/Users/jaimorjv/Library/Python/3.8/lib/python/site-packages/sklearn/linear_model/_logistic.py:938: ConvergenceWarning: lbfgs failed to converge (status=1):\n",
      "STOP: TOTAL NO. of ITERATIONS REACHED LIMIT.\n",
      "\n",
      "Increase the number of iterations (max_iter) or scale the data as shown in:\n",
      "    https://scikit-learn.org/stable/modules/preprocessing.html\n",
      "Please also refer to the documentation for alternative solver options:\n",
      "    https://scikit-learn.org/stable/modules/linear_model.html#logistic-regression\n",
      "  n_iter_i = _check_optimize_result(\n"
     ]
    }
   ],
   "source": [
    "log = LogisticRegression(penalty='none', max_iter=100) \n",
    "log.fit(X, Y)\n",
    "y_pred_log = log.predict(X)\n",
    "log_coef = log.coef_\n",
    "print(log_coef)"
   ]
  },
  {
   "cell_type": "code",
   "execution_count": 11,
   "metadata": {},
   "outputs": [
    {
     "data": {
      "text/plain": [
       "array([100], dtype=int32)"
      ]
     },
     "execution_count": 11,
     "metadata": {},
     "output_type": "execute_result"
    }
   ],
   "source": [
    "log.n_iter_"
   ]
  },
  {
   "cell_type": "markdown",
   "metadata": {},
   "source": [
    "### Ejercicio 3.1\n",
    "\n",
    "Ajuste las opciones de la funcion `LogisticRegression`para conseguir que la solucion converja. Puede examinar la documentación de Python: https://scikit-learn.org/stable/modules/linear_model.html#logistic-regression"
   ]
  },
  {
   "cell_type": "code",
   "execution_count": 12,
   "metadata": {},
   "outputs": [
    {
     "name": "stdout",
     "output_type": "stream",
     "text": [
      "[[ 3.51004423e-02  7.64961767e-05  2.77681223e-01 -5.66643515e-02\n",
      "  -3.01056242e-02 -1.72919720e-01 -9.42337002e-02  6.93109276e-01\n",
      "   2.29672401e-01 -6.66385574e-02 -1.01492322e+00  1.78949355e-01\n",
      "   1.99766093e-01 -4.01505516e-02 -1.91994373e-02 -4.78145564e-01\n",
      "   3.73612069e-01 -3.20306574e-01 -3.69960312e-03 -3.10240289e-02\n",
      "  -3.44920577e-01  8.90986004e-03  3.86404324e-02  1.30351979e-01\n",
      "  -2.38907209e-02  1.35470589e-02  4.20945851e-01  1.25922472e-02\n",
      "  -9.82987087e-02 -1.22113716e-01 -3.71905779e-01  6.20186705e-02\n",
      "   1.73878712e-01 -5.06141111e-02 -3.19098204e-01 -2.49651723e-02\n",
      "   9.21019118e-02  1.26523311e-01 -3.11919101e-01 -6.54862267e-02\n",
      "  -9.79439087e-02  6.79628311e-02 -1.28799027e-01 -2.84363759e-01\n",
      "  -1.29113528e-02 -9.53368034e-02  2.33831811e-01  2.00736865e-01\n",
      "   5.98066073e-02 -4.19323577e-01  1.27937420e-01 -4.10722685e-01\n",
      "   1.24005160e-01  4.37342990e-03 -6.74375206e-03 -1.67899315e-01\n",
      "   1.14895326e-02  5.37714330e-02 -2.12551538e-01 -4.13068353e-02\n",
      "  -1.17473269e-01]]\n"
     ]
    }
   ],
   "source": [
    "log1= LogisticRegression(penalty='none', max_iter=1000) \n",
    "log1.fit(X, Y)\n",
    "y_pred_log1 = log1.predict(X)\n",
    "log_coef1 = log.coef_\n",
    "print(log_coef1)"
   ]
  },
  {
   "cell_type": "code",
   "execution_count": 13,
   "metadata": {},
   "outputs": [
    {
     "data": {
      "text/plain": [
       "array([185], dtype=int32)"
      ]
     },
     "execution_count": 13,
     "metadata": {},
     "output_type": "execute_result"
    }
   ],
   "source": [
    "log1.n_iter_"
   ]
  },
  {
   "cell_type": "markdown",
   "metadata": {},
   "source": [
    "## Pregunta 3.2 \n",
    "\n",
    "Cuántas iteraciones necesitó?"
   ]
  },
  {
   "cell_type": "markdown",
   "metadata": {},
   "source": [
    "Se necesitaron como minimo 634 iteraciones pra que la solución convergiera, sin embargo, el ejercicio inicialmente se ejecutó con 1.000 iteraciones"
   ]
  },
  {
   "cell_type": "markdown",
   "metadata": {},
   "source": [
    "## 4. Construccion de modelos predictivos\n",
    "\n",
    "Partimos los datos de manera aleatoria en un conjunto de entrenamiento y otro de prueba. De esta manera, estimamos los coeficientes sobre los datos de entrenamiento, y ese mismo modelo lo probamos sobre los datos de prueba con el fin de controlar que el modelo esté generalizando bien y no se sobreajuste a los datos.\n",
    "\n",
    "A continuación ejecutamos el codigo para obtener una partición con el 40% de los datos en el conjunto de prueba. Nótese que por defecto la funcion `train_test_split` sigue una partición estratificada, es decir, mantiene la distribución inicial de las clases en ambos conjuntos de entrenamiento y prueba:"
   ]
  },
  {
   "cell_type": "code",
   "execution_count": 14,
   "metadata": {},
   "outputs": [
    {
     "name": "stdout",
     "output_type": "stream",
     "text": [
      "Tamaño de CE, CP:  (600,) (400,)\n",
      "Observaciones de la clase positiva en entrenamiento: 182 y en prueba: 118\n"
     ]
    }
   ],
   "source": [
    "X_train, X_test, y_train, y_test = model_selection.train_test_split(X, Y, test_size=0.4, random_state=42)\n",
    "print(\"Tamaño de CE, CP: \", y_train.shape, y_test.shape)\n",
    "print(\"Observaciones de la clase positiva en entrenamiento: \" +str(sum(y_train)) +\" y en prueba: \" +str(sum(y_test)))"
   ]
  },
  {
   "cell_type": "markdown",
   "metadata": {},
   "source": [
    "Lo podemos verificar:"
   ]
  },
  {
   "cell_type": "code",
   "execution_count": 15,
   "metadata": {},
   "outputs": [
    {
     "name": "stdout",
     "output_type": "stream",
     "text": [
      "Tamaño de CE, CP:  (600,) (400,)\n",
      "Observaciones de la clase positiva en entrenamiento: 180 y en prueba: 120\n"
     ]
    }
   ],
   "source": [
    "X_train, X_test, y_train, y_test = model_selection.train_test_split(X, Y, test_size=0.4, random_state=42, stratify=Y)\n",
    "print(\"Tamaño de CE, CP: \", y_train.shape, y_test.shape)\n",
    "print(\"Observaciones de la clase positiva en entrenamiento: \" +str(sum(y_train)) +\" y en prueba: \" +str(sum(y_test)))"
   ]
  },
  {
   "cell_type": "markdown",
   "metadata": {},
   "source": [
    "A continuación ajustamos el modelo logístico y lo probamos:"
   ]
  },
  {
   "cell_type": "code",
   "execution_count": 16,
   "metadata": {},
   "outputs": [],
   "source": [
    "logT = LogisticRegression(penalty='none', max_iter=1500)\n",
    "logT.fit(X_train, y_train)\n",
    "y_tr = logT.predict(X_train)\n",
    "y_pred = logT.predict(X_test)"
   ]
  },
  {
   "cell_type": "markdown",
   "metadata": {},
   "source": [
    "Con menos datos para entrenar probablemente el algoritmo necesite más iteraciones:"
   ]
  },
  {
   "cell_type": "code",
   "execution_count": 17,
   "metadata": {},
   "outputs": [
    {
     "data": {
      "text/plain": [
       "array([1, 0, 1, 0, 0, 0, 0, 0, 0, 1, 0, 0, 0, 0, 0, 0, 0, 1, 0, 0, 0, 0,\n",
       "       0, 0, 0, 0, 0, 0, 1, 0, 0, 0, 1, 0, 0, 0, 0, 0, 0, 0, 0, 1, 0, 0,\n",
       "       0, 0, 0, 0, 0, 0, 0, 0, 1, 0, 0, 0, 0, 0, 0, 0, 0, 0, 1, 0, 0, 0,\n",
       "       0, 0, 1, 1, 1, 0, 0, 0, 0, 0, 0, 1, 0, 0, 0, 0, 0, 1, 0, 0, 0, 0,\n",
       "       0, 0, 1, 1, 0, 0, 0, 1, 0, 0, 0, 0, 0, 0, 0, 1, 1, 0, 0, 0, 0, 0,\n",
       "       1, 0, 1, 1, 0, 0, 0, 0, 1, 0, 0, 0, 0, 0, 0, 0, 1, 0, 0, 0, 1, 1,\n",
       "       1, 0, 0, 0, 0, 0, 0, 1, 1, 1, 1, 0, 0, 1, 1, 0, 0, 0, 0, 1, 0, 0,\n",
       "       0, 0, 0, 1, 0, 0, 0, 0, 1, 0, 0, 0, 1, 0, 0, 0, 1, 0, 0, 0, 0, 0,\n",
       "       0, 0, 0, 0, 0, 0, 0, 0, 0, 0, 0, 0, 0, 0, 0, 0, 0, 1, 0, 1, 0, 0,\n",
       "       1, 0, 1, 0, 1, 0, 0, 0, 1, 0, 1, 0, 0, 0, 1, 0, 0, 0, 0, 0, 0, 0,\n",
       "       0, 0, 1, 0, 0, 0, 0, 0, 0, 0, 1, 0, 0, 1, 0, 0, 0, 1, 0, 0, 0, 1,\n",
       "       1, 0, 1, 0, 0, 0, 0, 0, 0, 1, 0, 0, 0, 0, 0, 0, 0, 0, 0, 1, 0, 0,\n",
       "       0, 0, 0, 0, 0, 0, 0, 0, 0, 0, 1, 1, 1, 1, 0, 1, 0, 0, 1, 0, 0, 1,\n",
       "       0, 1, 0, 0, 0, 0, 0, 1, 0, 0, 0, 1, 0, 0, 0, 0, 0, 1, 1, 0, 0, 0,\n",
       "       1, 0, 0, 0, 0, 0, 0, 0, 0, 0, 0, 0, 0, 0, 1, 0, 0, 1, 0, 1, 0, 1,\n",
       "       0, 0, 1, 0, 1, 0, 0, 1, 0, 0, 0, 1, 0, 1, 0, 0, 0, 1, 0, 0, 1, 0,\n",
       "       1, 0, 1, 0, 0, 0, 0, 0, 1, 0, 0, 0, 1, 1, 1, 0, 1, 0, 1, 0, 0, 1,\n",
       "       0, 0, 0, 0, 0, 1, 1, 1, 0, 1, 0, 0, 0, 0, 0, 0, 0, 1, 0, 0, 1, 0,\n",
       "       1, 0, 1, 0])"
      ]
     },
     "execution_count": 17,
     "metadata": {},
     "output_type": "execute_result"
    }
   ],
   "source": [
    "y_pred"
   ]
  },
  {
   "cell_type": "code",
   "execution_count": 18,
   "metadata": {},
   "outputs": [
    {
     "data": {
      "text/plain": [
       "array([302], dtype=int32)"
      ]
     },
     "execution_count": 18,
     "metadata": {},
     "output_type": "execute_result"
    }
   ],
   "source": [
    "logT.n_iter_"
   ]
  },
  {
   "cell_type": "markdown",
   "metadata": {},
   "source": [
    "Examinemos los coeficientes del modelo y su desviación con respecto a la estimación anterior (que utilizaba todos los datos de la muestra)."
   ]
  },
  {
   "cell_type": "code",
   "execution_count": 19,
   "metadata": {
    "scrolled": true
   },
   "outputs": [
    {
     "name": "stdout",
     "output_type": "stream",
     "text": [
      "[[ 2.28025924e-02  7.43142657e-05  2.48343991e-01  5.37988776e-02\n",
      "  -9.71587785e-03  8.40149973e-02  2.92547950e-02  5.39858355e-01\n",
      "   1.38802299e-01 -2.22147754e-01 -9.07963387e-01  3.05024737e-01\n",
      "   2.56685255e-01 -1.10923067e-01  1.03351645e-01 -1.00558905e+00\n",
      "   1.96886931e-01 -6.78358740e-01 -2.15019666e-01 -2.97585248e-01\n",
      "  -2.80125394e-01 -2.89491292e-02  1.23018719e-01  5.72141934e-01\n",
      "  -1.90039218e-03  1.58440501e-01  5.29089557e-01  1.71049552e-01\n",
      "  -2.10591232e-01 -5.81114163e-01 -3.59884200e-01  4.06764176e-01\n",
      "   1.38139272e-01 -2.28549389e-02 -9.08910677e-01 -6.45883184e-02\n",
      "   2.39688662e-01 -1.03717369e-01 -4.89900988e-01 -9.75207913e-02\n",
      "  -1.73506111e-01  1.82132737e-01 -4.60077112e-01 -4.25087671e-01\n",
      "  -4.00584675e-02 -8.99634728e-02  1.03659125e-01  1.35735680e-01\n",
      "   1.08784859e-01 -6.95971025e-01  3.70932993e-01 -4.50289366e-01\n",
      "  -3.72094112e-01 -1.53441002e-02 -7.94698387e-02 -9.77936533e-02\n",
      "  -2.58842894e-01 -9.42100558e-02 -3.57240430e-01  1.82110105e-01\n",
      "  -6.33560591e-01]]\n"
     ]
    }
   ],
   "source": [
    "logT_coef = logT.coef_\n",
    "print(logT_coef)"
   ]
  },
  {
   "cell_type": "code",
   "execution_count": 20,
   "metadata": {},
   "outputs": [
    {
     "name": "stdout",
     "output_type": "stream",
     "text": [
      "[[ 1.22978499e-02  2.18191102e-06  2.93372320e-02 -1.10463229e-01\n",
      "  -2.03897464e-02 -2.56934718e-01 -1.23488495e-01  1.53250921e-01\n",
      "   9.08701018e-02  1.55509196e-01 -1.06959837e-01 -1.26075381e-01\n",
      "  -5.69191615e-02  7.07725156e-02 -1.22551082e-01  5.27443490e-01\n",
      "   1.76725138e-01  3.58052166e-01  2.11320063e-01  2.66561219e-01\n",
      "  -6.47951829e-02  3.78589892e-02 -8.43782861e-02 -4.41789954e-01\n",
      "  -2.19903287e-02 -1.44893442e-01 -1.08143706e-01 -1.58457305e-01\n",
      "   1.12292524e-01  4.59000447e-01 -1.20215788e-02 -3.44745506e-01\n",
      "   3.57394406e-02 -2.77591722e-02  5.89812472e-01  3.96231461e-02\n",
      "  -1.47586750e-01  2.30240680e-01  1.77981887e-01  3.20345645e-02\n",
      "   7.55622021e-02 -1.14169906e-01  3.31278085e-01  1.40723911e-01\n",
      "   2.71471147e-02 -5.37333052e-03  1.30172686e-01  6.50011853e-02\n",
      "  -4.89782513e-02  2.76647447e-01 -2.42995573e-01  3.95666816e-02\n",
      "   4.96099272e-01  1.97175301e-02  7.27260867e-02 -7.01056619e-02\n",
      "   2.70332426e-01  1.47981489e-01  1.44688892e-01 -2.23416940e-01\n",
      "   5.16087322e-01]]\n"
     ]
    }
   ],
   "source": [
    "primer_modelo = log_coef-logT_coef\n",
    "print(primer_modelo)"
   ]
  },
  {
   "cell_type": "markdown",
   "metadata": {},
   "source": [
    "### Ejercicio 4.1\n",
    "\n",
    "Implemente un proceso de validación cruzada cambiando la semilla de las particiones de train (CE) y test (CP). Estime la varianza de los estimadores y concluya si su *mejor* modelo es estable entre distintas particiones."
   ]
  },
  {
   "cell_type": "code",
   "execution_count": 21,
   "metadata": {},
   "outputs": [],
   "source": [
    "from sklearn.model_selection import cross_val_score"
   ]
  },
  {
   "cell_type": "code",
   "execution_count": 22,
   "metadata": {},
   "outputs": [
    {
     "name": "stderr",
     "output_type": "stream",
     "text": [
      "/Users/jaimorjv/Library/Python/3.8/lib/python/site-packages/sklearn/linear_model/_logistic.py:938: ConvergenceWarning: lbfgs failed to converge (status=1):\n",
      "STOP: TOTAL NO. of ITERATIONS REACHED LIMIT.\n",
      "\n",
      "Increase the number of iterations (max_iter) or scale the data as shown in:\n",
      "    https://scikit-learn.org/stable/modules/preprocessing.html\n",
      "Please also refer to the documentation for alternative solver options:\n",
      "    https://scikit-learn.org/stable/modules/linear_model.html#logistic-regression\n",
      "  n_iter_i = _check_optimize_result(\n"
     ]
    }
   ],
   "source": [
    "for x in range(20, 100):\n",
    "\n",
    "    X_train, X_test, y_train, y_test = model_selection.train_test_split(X, Y, test_size=0.4, random_state=x)   \n",
    "    logT = LogisticRegression(penalty='none', max_iter=1500)\n",
    "    logT.fit(X_train, y_train)\n",
    "    y_tr = logT.predict(X_train)\n",
    "    y_pred = logT.predict(X_test)\n",
    "\n",
    "    logT_coef = logT.coef_\n",
    "    \n",
    "    if x==20:\n",
    "        diferencias = pd.DataFrame(log_coef1-logT_coef)\n",
    "    else:\n",
    "        z = pd.DataFrame(log_coef1-logT_coef) \n",
    "        diferencias = diferencias.append(z, ignore_index=True)\n"
   ]
  },
  {
   "cell_type": "code",
   "execution_count": 23,
   "metadata": {},
   "outputs": [
    {
     "data": {
      "text/html": [
       "<div>\n",
       "<style scoped>\n",
       "    .dataframe tbody tr th:only-of-type {\n",
       "        vertical-align: middle;\n",
       "    }\n",
       "\n",
       "    .dataframe tbody tr th {\n",
       "        vertical-align: top;\n",
       "    }\n",
       "\n",
       "    .dataframe thead th {\n",
       "        text-align: right;\n",
       "    }\n",
       "</style>\n",
       "<table border=\"1\" class=\"dataframe\">\n",
       "  <thead>\n",
       "    <tr style=\"text-align: right;\">\n",
       "      <th></th>\n",
       "      <th>0</th>\n",
       "      <th>1</th>\n",
       "      <th>2</th>\n",
       "      <th>3</th>\n",
       "      <th>4</th>\n",
       "      <th>5</th>\n",
       "      <th>6</th>\n",
       "      <th>7</th>\n",
       "      <th>8</th>\n",
       "      <th>9</th>\n",
       "      <th>...</th>\n",
       "      <th>51</th>\n",
       "      <th>52</th>\n",
       "      <th>53</th>\n",
       "      <th>54</th>\n",
       "      <th>55</th>\n",
       "      <th>56</th>\n",
       "      <th>57</th>\n",
       "      <th>58</th>\n",
       "      <th>59</th>\n",
       "      <th>60</th>\n",
       "    </tr>\n",
       "  </thead>\n",
       "  <tbody>\n",
       "    <tr>\n",
       "      <th>0</th>\n",
       "      <td>0.012844</td>\n",
       "      <td>-0.000119</td>\n",
       "      <td>-0.074878</td>\n",
       "      <td>-0.241278</td>\n",
       "      <td>-0.009749</td>\n",
       "      <td>-0.377686</td>\n",
       "      <td>-0.406196</td>\n",
       "      <td>0.316637</td>\n",
       "      <td>0.116318</td>\n",
       "      <td>0.207901</td>\n",
       "      <td>...</td>\n",
       "      <td>0.185716</td>\n",
       "      <td>0.558892</td>\n",
       "      <td>-0.026615</td>\n",
       "      <td>0.642778</td>\n",
       "      <td>-0.130511</td>\n",
       "      <td>0.104155</td>\n",
       "      <td>0.275569</td>\n",
       "      <td>0.314237</td>\n",
       "      <td>-0.160567</td>\n",
       "      <td>0.750373</td>\n",
       "    </tr>\n",
       "    <tr>\n",
       "      <th>1</th>\n",
       "      <td>0.007647</td>\n",
       "      <td>-0.000088</td>\n",
       "      <td>-0.007792</td>\n",
       "      <td>0.007546</td>\n",
       "      <td>-0.014335</td>\n",
       "      <td>-0.455151</td>\n",
       "      <td>-0.203438</td>\n",
       "      <td>0.052245</td>\n",
       "      <td>-0.004899</td>\n",
       "      <td>0.314487</td>\n",
       "      <td>...</td>\n",
       "      <td>0.049715</td>\n",
       "      <td>0.626561</td>\n",
       "      <td>0.378838</td>\n",
       "      <td>-0.147871</td>\n",
       "      <td>-0.119472</td>\n",
       "      <td>0.410428</td>\n",
       "      <td>0.376439</td>\n",
       "      <td>0.145484</td>\n",
       "      <td>-0.289249</td>\n",
       "      <td>0.811172</td>\n",
       "    </tr>\n",
       "    <tr>\n",
       "      <th>2</th>\n",
       "      <td>0.004030</td>\n",
       "      <td>-0.000093</td>\n",
       "      <td>-0.053686</td>\n",
       "      <td>0.034683</td>\n",
       "      <td>-0.010922</td>\n",
       "      <td>-0.427273</td>\n",
       "      <td>-0.392800</td>\n",
       "      <td>-0.208185</td>\n",
       "      <td>-0.076507</td>\n",
       "      <td>0.867199</td>\n",
       "      <td>...</td>\n",
       "      <td>-0.123603</td>\n",
       "      <td>0.543914</td>\n",
       "      <td>0.304404</td>\n",
       "      <td>-0.324678</td>\n",
       "      <td>-0.085208</td>\n",
       "      <td>0.520363</td>\n",
       "      <td>0.280666</td>\n",
       "      <td>0.134215</td>\n",
       "      <td>-0.179530</td>\n",
       "      <td>0.594412</td>\n",
       "    </tr>\n",
       "    <tr>\n",
       "      <th>3</th>\n",
       "      <td>0.008652</td>\n",
       "      <td>-0.000016</td>\n",
       "      <td>0.049164</td>\n",
       "      <td>-0.024035</td>\n",
       "      <td>-0.019808</td>\n",
       "      <td>-0.189328</td>\n",
       "      <td>-0.035970</td>\n",
       "      <td>0.063903</td>\n",
       "      <td>-0.044992</td>\n",
       "      <td>-0.053119</td>\n",
       "      <td>...</td>\n",
       "      <td>-0.041291</td>\n",
       "      <td>0.015861</td>\n",
       "      <td>0.099886</td>\n",
       "      <td>0.128893</td>\n",
       "      <td>-0.154635</td>\n",
       "      <td>0.088394</td>\n",
       "      <td>-0.048499</td>\n",
       "      <td>0.211036</td>\n",
       "      <td>-0.115656</td>\n",
       "      <td>0.278193</td>\n",
       "    </tr>\n",
       "    <tr>\n",
       "      <th>4</th>\n",
       "      <td>-0.005516</td>\n",
       "      <td>0.000001</td>\n",
       "      <td>-0.032082</td>\n",
       "      <td>-0.057670</td>\n",
       "      <td>-0.030092</td>\n",
       "      <td>-0.361485</td>\n",
       "      <td>-0.608564</td>\n",
       "      <td>-0.011416</td>\n",
       "      <td>0.450721</td>\n",
       "      <td>0.193646</td>\n",
       "      <td>...</td>\n",
       "      <td>0.253748</td>\n",
       "      <td>0.213434</td>\n",
       "      <td>0.647967</td>\n",
       "      <td>-0.074582</td>\n",
       "      <td>0.229713</td>\n",
       "      <td>-0.105386</td>\n",
       "      <td>0.454508</td>\n",
       "      <td>0.243203</td>\n",
       "      <td>-0.419334</td>\n",
       "      <td>1.117046</td>\n",
       "    </tr>\n",
       "    <tr>\n",
       "      <th>...</th>\n",
       "      <td>...</td>\n",
       "      <td>...</td>\n",
       "      <td>...</td>\n",
       "      <td>...</td>\n",
       "      <td>...</td>\n",
       "      <td>...</td>\n",
       "      <td>...</td>\n",
       "      <td>...</td>\n",
       "      <td>...</td>\n",
       "      <td>...</td>\n",
       "      <td>...</td>\n",
       "      <td>...</td>\n",
       "      <td>...</td>\n",
       "      <td>...</td>\n",
       "      <td>...</td>\n",
       "      <td>...</td>\n",
       "      <td>...</td>\n",
       "      <td>...</td>\n",
       "      <td>...</td>\n",
       "      <td>...</td>\n",
       "      <td>...</td>\n",
       "    </tr>\n",
       "    <tr>\n",
       "      <th>75</th>\n",
       "      <td>0.010120</td>\n",
       "      <td>-0.000044</td>\n",
       "      <td>-0.060812</td>\n",
       "      <td>-0.131062</td>\n",
       "      <td>-0.029323</td>\n",
       "      <td>-0.293905</td>\n",
       "      <td>-0.146673</td>\n",
       "      <td>-0.046610</td>\n",
       "      <td>-0.246147</td>\n",
       "      <td>0.992732</td>\n",
       "      <td>...</td>\n",
       "      <td>0.099657</td>\n",
       "      <td>0.492470</td>\n",
       "      <td>0.408508</td>\n",
       "      <td>0.392587</td>\n",
       "      <td>-0.118467</td>\n",
       "      <td>-0.049985</td>\n",
       "      <td>0.355204</td>\n",
       "      <td>0.277439</td>\n",
       "      <td>-0.051516</td>\n",
       "      <td>0.684160</td>\n",
       "    </tr>\n",
       "    <tr>\n",
       "      <th>76</th>\n",
       "      <td>0.007310</td>\n",
       "      <td>-0.000010</td>\n",
       "      <td>-0.030015</td>\n",
       "      <td>0.043880</td>\n",
       "      <td>-0.015982</td>\n",
       "      <td>-0.149731</td>\n",
       "      <td>-0.110215</td>\n",
       "      <td>-0.005937</td>\n",
       "      <td>-0.104272</td>\n",
       "      <td>0.211872</td>\n",
       "      <td>...</td>\n",
       "      <td>0.000962</td>\n",
       "      <td>0.264808</td>\n",
       "      <td>0.183663</td>\n",
       "      <td>0.152958</td>\n",
       "      <td>-0.090389</td>\n",
       "      <td>-0.012826</td>\n",
       "      <td>0.203333</td>\n",
       "      <td>0.030073</td>\n",
       "      <td>0.068131</td>\n",
       "      <td>0.165275</td>\n",
       "    </tr>\n",
       "    <tr>\n",
       "      <th>77</th>\n",
       "      <td>0.018490</td>\n",
       "      <td>-0.000064</td>\n",
       "      <td>-0.029303</td>\n",
       "      <td>-0.022477</td>\n",
       "      <td>-0.011876</td>\n",
       "      <td>-0.373258</td>\n",
       "      <td>-0.373045</td>\n",
       "      <td>-0.109278</td>\n",
       "      <td>0.008325</td>\n",
       "      <td>0.608548</td>\n",
       "      <td>...</td>\n",
       "      <td>-0.046250</td>\n",
       "      <td>0.558902</td>\n",
       "      <td>0.088745</td>\n",
       "      <td>0.285399</td>\n",
       "      <td>-0.061769</td>\n",
       "      <td>0.259552</td>\n",
       "      <td>0.238685</td>\n",
       "      <td>0.333242</td>\n",
       "      <td>-0.379395</td>\n",
       "      <td>0.951322</td>\n",
       "    </tr>\n",
       "    <tr>\n",
       "      <th>78</th>\n",
       "      <td>0.000987</td>\n",
       "      <td>0.000028</td>\n",
       "      <td>-0.054026</td>\n",
       "      <td>-0.023825</td>\n",
       "      <td>-0.000368</td>\n",
       "      <td>-0.655352</td>\n",
       "      <td>0.259855</td>\n",
       "      <td>0.124904</td>\n",
       "      <td>-0.047088</td>\n",
       "      <td>0.111016</td>\n",
       "      <td>...</td>\n",
       "      <td>-0.108171</td>\n",
       "      <td>0.400044</td>\n",
       "      <td>0.585942</td>\n",
       "      <td>-0.058970</td>\n",
       "      <td>0.004782</td>\n",
       "      <td>-0.025992</td>\n",
       "      <td>0.279726</td>\n",
       "      <td>0.226037</td>\n",
       "      <td>-0.809178</td>\n",
       "      <td>1.314940</td>\n",
       "    </tr>\n",
       "    <tr>\n",
       "      <th>79</th>\n",
       "      <td>0.008752</td>\n",
       "      <td>-0.000100</td>\n",
       "      <td>-0.062788</td>\n",
       "      <td>-0.174212</td>\n",
       "      <td>-0.014151</td>\n",
       "      <td>-0.450960</td>\n",
       "      <td>-0.408639</td>\n",
       "      <td>0.165826</td>\n",
       "      <td>0.038989</td>\n",
       "      <td>0.490159</td>\n",
       "      <td>...</td>\n",
       "      <td>0.151857</td>\n",
       "      <td>0.544786</td>\n",
       "      <td>0.053411</td>\n",
       "      <td>0.493194</td>\n",
       "      <td>0.066317</td>\n",
       "      <td>0.047296</td>\n",
       "      <td>0.158511</td>\n",
       "      <td>0.501707</td>\n",
       "      <td>-0.105452</td>\n",
       "      <td>0.765669</td>\n",
       "    </tr>\n",
       "  </tbody>\n",
       "</table>\n",
       "<p>80 rows × 61 columns</p>\n",
       "</div>"
      ],
      "text/plain": [
       "          0         1         2         3         4         5         6   \\\n",
       "0   0.012844 -0.000119 -0.074878 -0.241278 -0.009749 -0.377686 -0.406196   \n",
       "1   0.007647 -0.000088 -0.007792  0.007546 -0.014335 -0.455151 -0.203438   \n",
       "2   0.004030 -0.000093 -0.053686  0.034683 -0.010922 -0.427273 -0.392800   \n",
       "3   0.008652 -0.000016  0.049164 -0.024035 -0.019808 -0.189328 -0.035970   \n",
       "4  -0.005516  0.000001 -0.032082 -0.057670 -0.030092 -0.361485 -0.608564   \n",
       "..       ...       ...       ...       ...       ...       ...       ...   \n",
       "75  0.010120 -0.000044 -0.060812 -0.131062 -0.029323 -0.293905 -0.146673   \n",
       "76  0.007310 -0.000010 -0.030015  0.043880 -0.015982 -0.149731 -0.110215   \n",
       "77  0.018490 -0.000064 -0.029303 -0.022477 -0.011876 -0.373258 -0.373045   \n",
       "78  0.000987  0.000028 -0.054026 -0.023825 -0.000368 -0.655352  0.259855   \n",
       "79  0.008752 -0.000100 -0.062788 -0.174212 -0.014151 -0.450960 -0.408639   \n",
       "\n",
       "          7         8         9   ...        51        52        53        54  \\\n",
       "0   0.316637  0.116318  0.207901  ...  0.185716  0.558892 -0.026615  0.642778   \n",
       "1   0.052245 -0.004899  0.314487  ...  0.049715  0.626561  0.378838 -0.147871   \n",
       "2  -0.208185 -0.076507  0.867199  ... -0.123603  0.543914  0.304404 -0.324678   \n",
       "3   0.063903 -0.044992 -0.053119  ... -0.041291  0.015861  0.099886  0.128893   \n",
       "4  -0.011416  0.450721  0.193646  ...  0.253748  0.213434  0.647967 -0.074582   \n",
       "..       ...       ...       ...  ...       ...       ...       ...       ...   \n",
       "75 -0.046610 -0.246147  0.992732  ...  0.099657  0.492470  0.408508  0.392587   \n",
       "76 -0.005937 -0.104272  0.211872  ...  0.000962  0.264808  0.183663  0.152958   \n",
       "77 -0.109278  0.008325  0.608548  ... -0.046250  0.558902  0.088745  0.285399   \n",
       "78  0.124904 -0.047088  0.111016  ... -0.108171  0.400044  0.585942 -0.058970   \n",
       "79  0.165826  0.038989  0.490159  ...  0.151857  0.544786  0.053411  0.493194   \n",
       "\n",
       "          55        56        57        58        59        60  \n",
       "0  -0.130511  0.104155  0.275569  0.314237 -0.160567  0.750373  \n",
       "1  -0.119472  0.410428  0.376439  0.145484 -0.289249  0.811172  \n",
       "2  -0.085208  0.520363  0.280666  0.134215 -0.179530  0.594412  \n",
       "3  -0.154635  0.088394 -0.048499  0.211036 -0.115656  0.278193  \n",
       "4   0.229713 -0.105386  0.454508  0.243203 -0.419334  1.117046  \n",
       "..       ...       ...       ...       ...       ...       ...  \n",
       "75 -0.118467 -0.049985  0.355204  0.277439 -0.051516  0.684160  \n",
       "76 -0.090389 -0.012826  0.203333  0.030073  0.068131  0.165275  \n",
       "77 -0.061769  0.259552  0.238685  0.333242 -0.379395  0.951322  \n",
       "78  0.004782 -0.025992  0.279726  0.226037 -0.809178  1.314940  \n",
       "79  0.066317  0.047296  0.158511  0.501707 -0.105452  0.765669  \n",
       "\n",
       "[80 rows x 61 columns]"
      ]
     },
     "execution_count": 23,
     "metadata": {},
     "output_type": "execute_result"
    }
   ],
   "source": [
    "diferencias"
   ]
  },
  {
   "cell_type": "code",
   "execution_count": 29,
   "metadata": {},
   "outputs": [
    {
     "name": "stdout",
     "output_type": "stream",
     "text": [
      "               0\n",
      "0   9.276848e-05\n",
      "1   1.744370e-09\n",
      "2   6.026224e-03\n",
      "3   8.426394e-03\n",
      "4   1.053861e-04\n",
      "..           ...\n",
      "56  5.496564e-02\n",
      "57  1.428724e-02\n",
      "58  2.052351e-02\n",
      "59  3.500120e-02\n",
      "60  9.108330e-02\n",
      "\n",
      "[61 rows x 1 columns]\n"
     ]
    }
   ],
   "source": [
    "varianzas=pd.DataFrame(diferencias.var())\n",
    "print(varianzas)"
   ]
  },
  {
   "cell_type": "code",
   "execution_count": 30,
   "metadata": {},
   "outputs": [],
   "source": [
    "primer_modelo = pd.DataFrame(primer_modelo)"
   ]
  },
  {
   "cell_type": "code",
   "execution_count": 31,
   "metadata": {},
   "outputs": [],
   "source": [
    "varianzas['primer_modelo'] = primer_modelo.max()"
   ]
  },
  {
   "cell_type": "code",
   "execution_count": 32,
   "metadata": {},
   "outputs": [
    {
     "data": {
      "text/html": [
       "<div>\n",
       "<style scoped>\n",
       "    .dataframe tbody tr th:only-of-type {\n",
       "        vertical-align: middle;\n",
       "    }\n",
       "\n",
       "    .dataframe tbody tr th {\n",
       "        vertical-align: top;\n",
       "    }\n",
       "\n",
       "    .dataframe thead th {\n",
       "        text-align: right;\n",
       "    }\n",
       "</style>\n",
       "<table border=\"1\" class=\"dataframe\">\n",
       "  <thead>\n",
       "    <tr style=\"text-align: right;\">\n",
       "      <th></th>\n",
       "      <th>0</th>\n",
       "      <th>primer_modelo</th>\n",
       "    </tr>\n",
       "  </thead>\n",
       "  <tbody>\n",
       "    <tr>\n",
       "      <th>0</th>\n",
       "      <td>9.276848e-05</td>\n",
       "      <td>0.012298</td>\n",
       "    </tr>\n",
       "    <tr>\n",
       "      <th>1</th>\n",
       "      <td>1.744370e-09</td>\n",
       "      <td>0.000002</td>\n",
       "    </tr>\n",
       "    <tr>\n",
       "      <th>2</th>\n",
       "      <td>6.026224e-03</td>\n",
       "      <td>0.029337</td>\n",
       "    </tr>\n",
       "    <tr>\n",
       "      <th>3</th>\n",
       "      <td>8.426394e-03</td>\n",
       "      <td>-0.110463</td>\n",
       "    </tr>\n",
       "    <tr>\n",
       "      <th>4</th>\n",
       "      <td>1.053861e-04</td>\n",
       "      <td>-0.020390</td>\n",
       "    </tr>\n",
       "    <tr>\n",
       "      <th>...</th>\n",
       "      <td>...</td>\n",
       "      <td>...</td>\n",
       "    </tr>\n",
       "    <tr>\n",
       "      <th>56</th>\n",
       "      <td>5.496564e-02</td>\n",
       "      <td>0.270332</td>\n",
       "    </tr>\n",
       "    <tr>\n",
       "      <th>57</th>\n",
       "      <td>1.428724e-02</td>\n",
       "      <td>0.147981</td>\n",
       "    </tr>\n",
       "    <tr>\n",
       "      <th>58</th>\n",
       "      <td>2.052351e-02</td>\n",
       "      <td>0.144689</td>\n",
       "    </tr>\n",
       "    <tr>\n",
       "      <th>59</th>\n",
       "      <td>3.500120e-02</td>\n",
       "      <td>-0.223417</td>\n",
       "    </tr>\n",
       "    <tr>\n",
       "      <th>60</th>\n",
       "      <td>9.108330e-02</td>\n",
       "      <td>0.516087</td>\n",
       "    </tr>\n",
       "  </tbody>\n",
       "</table>\n",
       "<p>61 rows × 2 columns</p>\n",
       "</div>"
      ],
      "text/plain": [
       "               0  primer_modelo\n",
       "0   9.276848e-05       0.012298\n",
       "1   1.744370e-09       0.000002\n",
       "2   6.026224e-03       0.029337\n",
       "3   8.426394e-03      -0.110463\n",
       "4   1.053861e-04      -0.020390\n",
       "..           ...            ...\n",
       "56  5.496564e-02       0.270332\n",
       "57  1.428724e-02       0.147981\n",
       "58  2.052351e-02       0.144689\n",
       "59  3.500120e-02      -0.223417\n",
       "60  9.108330e-02       0.516087\n",
       "\n",
       "[61 rows x 2 columns]"
      ]
     },
     "execution_count": 32,
     "metadata": {},
     "output_type": "execute_result"
    }
   ],
   "source": [
    "varianzas"
   ]
  },
  {
   "cell_type": "markdown",
   "metadata": {},
   "source": [
    "Es posible visualizar que el modelo por cross validation mejoro, por lo cual es una mejor aproximación."
   ]
  },
  {
   "cell_type": "markdown",
   "metadata": {},
   "source": [
    "## 5. Evaluacion de los modelos\n",
    "Hasta ahora hemos estimado los parámetros del modelo logístico. Pero no hemos examinado si la solución es satisfactoria. A continuación examinemos el desempeño de los modelos a partir de su matriz de confusión: "
   ]
  },
  {
   "cell_type": "code",
   "execution_count": 33,
   "metadata": {},
   "outputs": [
    {
     "name": "stdout",
     "output_type": "stream",
     "text": [
      "[[242  45]\n",
      " [ 59  54]]\n"
     ]
    }
   ],
   "source": [
    "from sklearn.metrics import confusion_matrix\n",
    "\n",
    "# Calculamos la matriz de confusión para la prediccion\n",
    "cm_log = confusion_matrix(y_test, y_pred)\n",
    "np.set_printoptions(precision=2)\n",
    "print(cm_log)"
   ]
  },
  {
   "cell_type": "markdown",
   "metadata": {},
   "source": [
    "Podemos mejorar esta visualización, añadiendo etiquetas para lo que es predicción y lo que es observado en la muestra:"
   ]
  },
  {
   "cell_type": "code",
   "execution_count": 34,
   "metadata": {},
   "outputs": [],
   "source": [
    "def plot_confusion_matrix(cm, title='Matriz de confusión', cmap=plt.cm.Blues):\n",
    "    plt.imshow(cm, interpolation='nearest', cmap=cmap)\n",
    "    plt.title(title)\n",
    "    plt.colorbar()\n",
    "    tick_marks = np.arange(2)\n",
    "    plt.xticks(tick_marks, labels, rotation=45)\n",
    "    plt.yticks(tick_marks, labels)\n",
    "    plt.tight_layout()\n",
    "    plt.ylabel('Etiqueta verdadera')\n",
    "    plt.xlabel('Etiqueta estimada')"
   ]
  },
  {
   "cell_type": "code",
   "execution_count": 35,
   "metadata": {},
   "outputs": [
    {
     "data": {
      "image/png": "[encoded data removed]",
      "text/plain": [
       "<Figure size 432x288 with 2 Axes>"
      ]
     },
     "metadata": {
      "needs_background": "light"
     },
     "output_type": "display_data"
    }
   ],
   "source": [
    "labels=['Bueno (Default=0)' ,'Malo (Default=1)']\n",
    "\n",
    "plt.figure()\n",
    "plot_confusion_matrix(cm_log)"
   ]
  },
  {
   "cell_type": "markdown",
   "metadata": {},
   "source": [
    "Podemos resumir estos resultados, por ejemplo mediante la métrica de *exactitud* o *accuracy*, la cual mide la proporción de aciertos sobre el total de casos.\n",
    "\n",
    "Para entrenamiento:"
   ]
  },
  {
   "cell_type": "code",
   "execution_count": 36,
   "metadata": {},
   "outputs": [
    {
     "data": {
      "text/plain": [
       "0.8166666666666667"
      ]
     },
     "execution_count": 36,
     "metadata": {},
     "output_type": "execute_result"
    }
   ],
   "source": [
    "float((y_tr == y_train).mean())"
   ]
  },
  {
   "cell_type": "markdown",
   "metadata": {},
   "source": [
    "Para predicción:"
   ]
  },
  {
   "cell_type": "code",
   "execution_count": 37,
   "metadata": {},
   "outputs": [
    {
     "data": {
      "text/plain": [
       "0.74"
      ]
     },
     "execution_count": 37,
     "metadata": {},
     "output_type": "execute_result"
    }
   ],
   "source": [
    "float((y_pred == y_test).mean())"
   ]
  },
  {
   "cell_type": "markdown",
   "metadata": {},
   "source": [
    "### Ejercicio 5.1\n",
    "\n",
    "Calcule una métrica de desempeño que tome en cuenta el coste de errar, donde el coste de predecir que un mal cliente es bueno es 5 veces más alto que el de confundir un buen cliente con uno malo."
   ]
  },
  {
   "cell_type": "markdown",
   "metadata": {},
   "source": [
    "Para desarrollar la métrica, se plante como supuesto adicional que clasificar correctmente un cliente sube el valor en la misma proporción que lo que lo baja confundir un buen cliente con uno malo"
   ]
  },
  {
   "cell_type": "code",
   "execution_count": 38,
   "metadata": {},
   "outputs": [
    {
     "data": {
      "text/plain": [
       "4.955"
      ]
     },
     "execution_count": 38,
     "metadata": {},
     "output_type": "execute_result"
    }
   ],
   "source": [
    "5+(242/400)+(63/400)-(5*57/400)-(38/400)"
   ]
  },
  {
   "cell_type": "markdown",
   "metadata": {},
   "source": [
    "La métrica va de un rango de 6 a 0, dónde 6 nos dirá que todos los valores fueron correctamente clasificados y 0 cuando todos los valores fueron clasificados de la forma con mayor penalización.  Se incluye la ponderación mencionada anteriormente para los falsos positivos y falsos negativos bajo una proporcion 5:1"
   ]
  },
  {
   "cell_type": "markdown",
   "metadata": {},
   "source": [
    "### Justicia algorítmica\n",
    "\n",
    "Veamos cómo se comporta el modelo de acuerdo con el origen (extranjero o local) del cliente. Por ejemplo, fijémonos en el balance inicial de los datos de la muestra:"
   ]
  },
  {
   "cell_type": "code",
   "execution_count": 39,
   "metadata": {},
   "outputs": [],
   "source": [
    "credit_2 = credit_1.copy()\n",
    "credit_3 = credit_2.loc[credit_2['foreign_A201'] == 1]\n",
    "X3 = credit_3.iloc[:, 1:62]\n",
    "Y3 = credit_3.iloc[:, 0]\n",
    "\n",
    "credit_4 = credit_2.loc[credit_2['foreign_A201'] == 0]\n",
    "X4 = credit_4.iloc[:, 1:62]\n",
    "Y4 = credit_4.iloc[:, 0]"
   ]
  },
  {
   "cell_type": "code",
   "execution_count": 40,
   "metadata": {},
   "outputs": [
    {
     "name": "stdout",
     "output_type": "stream",
     "text": [
      "El numero de clientes extranjeros de la muestra: 963 y los locales: 37\n"
     ]
    }
   ],
   "source": [
    "print(\"El numero de clientes extranjeros de la muestra: \" +str(X3.shape[0]) +\" y los locales: \" +str(X4.shape[0]))"
   ]
  },
  {
   "cell_type": "markdown",
   "metadata": {},
   "source": [
    "## Pregunta 5.2\n",
    "\n",
    "De los clientes locales cuantos han tenido Default?"
   ]
  },
  {
   "cell_type": "code",
   "execution_count": 41,
   "metadata": {},
   "outputs": [
    {
     "data": {
      "text/plain": [
       "0    False\n",
       "1    False\n",
       "2    False\n",
       "3    False\n",
       "4    False\n",
       "Name: foreign, dtype: bool"
      ]
     },
     "execution_count": 41,
     "metadata": {},
     "output_type": "execute_result"
    }
   ],
   "source": [
    "nacionales = data['foreign']== 'A202'\n",
    "nacionales.head()"
   ]
  },
  {
   "cell_type": "code",
   "execution_count": 42,
   "metadata": {},
   "outputs": [
    {
     "data": {
      "text/html": [
       "<div>\n",
       "<style scoped>\n",
       "    .dataframe tbody tr th:only-of-type {\n",
       "        vertical-align: middle;\n",
       "    }\n",
       "\n",
       "    .dataframe tbody tr th {\n",
       "        vertical-align: top;\n",
       "    }\n",
       "\n",
       "    .dataframe thead th {\n",
       "        text-align: right;\n",
       "    }\n",
       "</style>\n",
       "<table border=\"1\" class=\"dataframe\">\n",
       "  <thead>\n",
       "    <tr style=\"text-align: right;\">\n",
       "      <th></th>\n",
       "      <th>Default</th>\n",
       "      <th>checkingstatus1</th>\n",
       "      <th>duration</th>\n",
       "      <th>history</th>\n",
       "      <th>purpose</th>\n",
       "      <th>amount</th>\n",
       "      <th>savings</th>\n",
       "      <th>employ</th>\n",
       "      <th>installment</th>\n",
       "      <th>status</th>\n",
       "      <th>...</th>\n",
       "      <th>residence</th>\n",
       "      <th>property</th>\n",
       "      <th>age</th>\n",
       "      <th>otherplans</th>\n",
       "      <th>housing</th>\n",
       "      <th>cards</th>\n",
       "      <th>job</th>\n",
       "      <th>liable</th>\n",
       "      <th>tele</th>\n",
       "      <th>foreign</th>\n",
       "    </tr>\n",
       "  </thead>\n",
       "  <tbody>\n",
       "    <tr>\n",
       "      <th>22</th>\n",
       "      <td>0</td>\n",
       "      <td>A11</td>\n",
       "      <td>10</td>\n",
       "      <td>A34</td>\n",
       "      <td>A40</td>\n",
       "      <td>2241</td>\n",
       "      <td>A61</td>\n",
       "      <td>A72</td>\n",
       "      <td>1</td>\n",
       "      <td>A93</td>\n",
       "      <td>...</td>\n",
       "      <td>3</td>\n",
       "      <td>A121</td>\n",
       "      <td>48</td>\n",
       "      <td>A143</td>\n",
       "      <td>A151</td>\n",
       "      <td>2</td>\n",
       "      <td>A172</td>\n",
       "      <td>2</td>\n",
       "      <td>A191</td>\n",
       "      <td>A202</td>\n",
       "    </tr>\n",
       "    <tr>\n",
       "      <th>24</th>\n",
       "      <td>0</td>\n",
       "      <td>A14</td>\n",
       "      <td>10</td>\n",
       "      <td>A34</td>\n",
       "      <td>A42</td>\n",
       "      <td>2069</td>\n",
       "      <td>A65</td>\n",
       "      <td>A73</td>\n",
       "      <td>2</td>\n",
       "      <td>A94</td>\n",
       "      <td>...</td>\n",
       "      <td>1</td>\n",
       "      <td>A123</td>\n",
       "      <td>26</td>\n",
       "      <td>A143</td>\n",
       "      <td>A152</td>\n",
       "      <td>2</td>\n",
       "      <td>A173</td>\n",
       "      <td>1</td>\n",
       "      <td>A191</td>\n",
       "      <td>A202</td>\n",
       "    </tr>\n",
       "    <tr>\n",
       "      <th>108</th>\n",
       "      <td>0</td>\n",
       "      <td>A11</td>\n",
       "      <td>24</td>\n",
       "      <td>A32</td>\n",
       "      <td>A42</td>\n",
       "      <td>7721</td>\n",
       "      <td>A65</td>\n",
       "      <td>A72</td>\n",
       "      <td>1</td>\n",
       "      <td>A92</td>\n",
       "      <td>...</td>\n",
       "      <td>2</td>\n",
       "      <td>A122</td>\n",
       "      <td>30</td>\n",
       "      <td>A143</td>\n",
       "      <td>A152</td>\n",
       "      <td>1</td>\n",
       "      <td>A173</td>\n",
       "      <td>1</td>\n",
       "      <td>A192</td>\n",
       "      <td>A202</td>\n",
       "    </tr>\n",
       "    <tr>\n",
       "      <th>117</th>\n",
       "      <td>0</td>\n",
       "      <td>A11</td>\n",
       "      <td>10</td>\n",
       "      <td>A34</td>\n",
       "      <td>A42</td>\n",
       "      <td>2132</td>\n",
       "      <td>A65</td>\n",
       "      <td>A72</td>\n",
       "      <td>2</td>\n",
       "      <td>A92</td>\n",
       "      <td>...</td>\n",
       "      <td>3</td>\n",
       "      <td>A121</td>\n",
       "      <td>27</td>\n",
       "      <td>A143</td>\n",
       "      <td>A151</td>\n",
       "      <td>2</td>\n",
       "      <td>A173</td>\n",
       "      <td>1</td>\n",
       "      <td>A191</td>\n",
       "      <td>A202</td>\n",
       "    </tr>\n",
       "    <tr>\n",
       "      <th>140</th>\n",
       "      <td>0</td>\n",
       "      <td>A13</td>\n",
       "      <td>6</td>\n",
       "      <td>A32</td>\n",
       "      <td>A40</td>\n",
       "      <td>709</td>\n",
       "      <td>A64</td>\n",
       "      <td>A72</td>\n",
       "      <td>2</td>\n",
       "      <td>A94</td>\n",
       "      <td>...</td>\n",
       "      <td>2</td>\n",
       "      <td>A121</td>\n",
       "      <td>27</td>\n",
       "      <td>A143</td>\n",
       "      <td>A152</td>\n",
       "      <td>1</td>\n",
       "      <td>A171</td>\n",
       "      <td>1</td>\n",
       "      <td>A191</td>\n",
       "      <td>A202</td>\n",
       "    </tr>\n",
       "  </tbody>\n",
       "</table>\n",
       "<p>5 rows × 21 columns</p>\n",
       "</div>"
      ],
      "text/plain": [
       "     Default checkingstatus1  duration history purpose  amount savings employ  \\\n",
       "22         0             A11        10     A34     A40    2241     A61    A72   \n",
       "24         0             A14        10     A34     A42    2069     A65    A73   \n",
       "108        0             A11        24     A32     A42    7721     A65    A72   \n",
       "117        0             A11        10     A34     A42    2132     A65    A72   \n",
       "140        0             A13         6     A32     A40     709     A64    A72   \n",
       "\n",
       "     installment status  ... residence  property age  otherplans housing  \\\n",
       "22             1    A93  ...         3      A121  48        A143    A151   \n",
       "24             2    A94  ...         1      A123  26        A143    A152   \n",
       "108            1    A92  ...         2      A122  30        A143    A152   \n",
       "117            2    A92  ...         3      A121  27        A143    A151   \n",
       "140            2    A94  ...         2      A121  27        A143    A152   \n",
       "\n",
       "    cards   job liable  tele foreign  \n",
       "22      2  A172      2  A191    A202  \n",
       "24      2  A173      1  A191    A202  \n",
       "108     1  A173      1  A192    A202  \n",
       "117     2  A173      1  A191    A202  \n",
       "140     1  A171      1  A191    A202  \n",
       "\n",
       "[5 rows x 21 columns]"
      ]
     },
     "execution_count": 42,
     "metadata": {},
     "output_type": "execute_result"
    }
   ],
   "source": [
    "n = data[nacionales]\n",
    "n.head()"
   ]
  },
  {
   "cell_type": "code",
   "execution_count": 43,
   "metadata": {},
   "outputs": [
    {
     "data": {
      "text/plain": [
       "0    33\n",
       "1     4\n",
       "Name: Default, dtype: int64"
      ]
     },
     "execution_count": 43,
     "metadata": {},
     "output_type": "execute_result"
    }
   ],
   "source": [
    "n.Default.value_counts()"
   ]
  },
  {
   "cell_type": "markdown",
   "metadata": {},
   "source": [
    "Es posible concluir que de los 37 nacionales, 4 personas hn tenido Default."
   ]
  },
  {
   "cell_type": "markdown",
   "metadata": {},
   "source": [
    "Vemos que ya hay un sesgo en los datos de entrenamiento. Por lo tanto, podemos esperar que esto se vea reflejado en nuestro modelo:"
   ]
  },
  {
   "cell_type": "code",
   "execution_count": 44,
   "metadata": {},
   "outputs": [],
   "source": [
    "y_pred_f = logT.predict(X3)\n",
    "y_pred_l = logT.predict(X4)"
   ]
  },
  {
   "cell_type": "markdown",
   "metadata": {},
   "source": [
    "Veamos otra manera de visualizar la matriz de confusion:"
   ]
  },
  {
   "cell_type": "code",
   "execution_count": 45,
   "metadata": {},
   "outputs": [
    {
     "name": "stdout",
     "output_type": "stream",
     "text": [
      "Extranjeros:\n"
     ]
    },
    {
     "data": {
      "image/png": "[encoded data removed]",
      "text/plain": [
       "<Figure size 432x288 with 2 Axes>"
      ]
     },
     "metadata": {
      "needs_background": "light"
     },
     "output_type": "display_data"
    },
    {
     "name": "stdout",
     "output_type": "stream",
     "text": [
      "Locales:\n"
     ]
    },
    {
     "data": {
      "image/png": "[encoded data removed]",
      "text/plain": [
       "<Figure size 432x288 with 2 Axes>"
      ]
     },
     "metadata": {
      "needs_background": "light"
     },
     "output_type": "display_data"
    }
   ],
   "source": [
    "from sklearn.metrics import plot_confusion_matrix\n",
    "\n",
    "print(\"Extranjeros:\")\n",
    "plot_confusion_matrix(logT, X3, Y3, normalize='all')  \n",
    "plt.show() \n",
    "\n",
    "print(\"Locales:\")\n",
    "plot_confusion_matrix(logT, X4, Y4, normalize='all')  \n",
    "plt.show()"
   ]
  },
  {
   "cell_type": "markdown",
   "metadata": {},
   "source": [
    "Y las métricas de exactitud:"
   ]
  },
  {
   "cell_type": "code",
   "execution_count": 46,
   "metadata": {},
   "outputs": [
    {
     "name": "stdout",
     "output_type": "stream",
     "text": [
      "La exactitud para el usuario extranjero: 0.7808930425752856\n",
      "La exactitud para el usuario local: 0.918918918918919\n"
     ]
    }
   ],
   "source": [
    "print(\"La exactitud para el usuario extranjero:\", float((y_pred_f == Y3).mean()))\n",
    "print(\"La exactitud para el usuario local:\", float((y_pred_l == Y4).mean()))"
   ]
  },
  {
   "cell_type": "markdown",
   "metadata": {},
   "source": [
    "### Ejercicio 5.3\n",
    "\n",
    "Proponga una modelo de clasificación que detecte clientes con un alto riesgo de Default, teniendo en cuenta el costo de clasificar a un cliente erroneamente  junto con la \"equidad algoritmica\"."
   ]
  },
  {
   "cell_type": "code",
   "execution_count": 48,
   "metadata": {},
   "outputs": [],
   "source": [
    "from fairml import  audit_model"
   ]
  },
  {
   "cell_type": "markdown",
   "metadata": {},
   "source": [
    "Se realiza la regresión logística utilizando penalización L1 (Penalización Ridge) y un coeficiente de 0,01"
   ]
  },
  {
   "cell_type": "code",
   "execution_count": 49,
   "metadata": {},
   "outputs": [
    {
     "data": {
      "text/plain": [
       "LogisticRegression(C=0.01, class_weight=None, dual=False, fit_intercept=True,\n",
       "                   intercept_scaling=1, l1_ratio=None, max_iter=100,\n",
       "                   multi_class='auto', n_jobs=None, penalty='l2',\n",
       "                   random_state=None, solver='lbfgs', tol=0.0001, verbose=0,\n",
       "                   warm_start=False)"
      ]
     },
     "execution_count": 49,
     "metadata": {},
     "output_type": "execute_result"
    }
   ],
   "source": [
    "clf = LogisticRegression(penalty='l2', C=0.01)\n",
    "clf.fit(X, Y)"
   ]
  },
  {
   "cell_type": "code",
   "execution_count": 50,
   "metadata": {},
   "outputs": [
    {
     "name": "stdout",
     "output_type": "stream",
     "text": [
      "Feature: duration,\t Importance: 0.175\n",
      "Feature: amount,\t Importance: 0.175\n",
      "Feature: installment,\t Importance: 0.297\n",
      "Feature: residence,\t Importance: -0.322\n",
      "Feature: age,\t Importance: -0.359\n",
      "Feature: cards,\t Importance: -0.341\n",
      "Feature: liable,\t Importance: -0.319\n",
      "Feature: checkingstatus1_A11,\t Importance: 0.066\n",
      "Feature: checkingstatus1_A12,\t Importance: 0.068\n",
      "Feature: checkingstatus1_A13,\t Importance: -0.031\n",
      "Feature: checkingstatus1_A14,\t Importance: -0.143\n",
      "Feature: history_A30,\t Importance: 0.005\n",
      "Feature: history_A31,\t Importance: 0.009\n",
      "Feature: history_A32,\t Importance: -0.161\n",
      "Feature: history_A33,\t Importance: -0.027\n",
      "Feature: history_A34,\t Importance: -0.102\n",
      "Feature: purpose_A40,\t Importance: 0.084\n",
      "Feature: purpose_A41,\t Importance: -0.037\n",
      "Feature: purpose_A410,\t Importance: 0.002\n",
      "Feature: purpose_A42,\t Importance: -0.056\n",
      "Feature: purpose_A43,\t Importance: -0.085\n",
      "Feature: purpose_A44,\t Importance: 0.005\n",
      "Feature: purpose_A45,\t Importance: 0.008\n",
      "Feature: purpose_A46,\t Importance: 0.015\n",
      "Feature: purpose_A48,\t Importance: -0.003\n",
      "Feature: purpose_A49,\t Importance: 0.028\n",
      "Feature: savings_A61,\t Importance: 0.191\n",
      "Feature: savings_A62,\t Importance: 0.026\n",
      "Feature: savings_A63,\t Importance: -0.025\n",
      "Feature: savings_A64,\t Importance: -0.016\n",
      "Feature: savings_A65,\t Importance: -0.065\n",
      "Feature: employ_A71,\t Importance: 0.021\n",
      "Feature: employ_A72,\t Importance: 0.039\n",
      "Feature: employ_A73,\t Importance: -0.111\n",
      "Feature: employ_A74,\t Importance: -0.054\n",
      "Feature: employ_A75,\t Importance: -0.082\n",
      "Feature: status_A91,\t Importance: 0.015\n",
      "Feature: status_A92,\t Importance: 0.096\n",
      "Feature: status_A93,\t Importance: -0.152\n",
      "Feature: status_A94,\t Importance: -0.031\n",
      "Feature: others_A101,\t Importance: -0.317\n",
      "Feature: others_A102,\t Importance: 0.008\n",
      "Feature: others_A103,\t Importance: -0.018\n",
      "Feature: property_A121,\t Importance: -0.125\n",
      "Feature: property_A122,\t Importance: 0.079\n",
      "Feature: property_A123,\t Importance: -0.098\n",
      "Feature: property_A124,\t Importance: 0.032\n",
      "Feature: otherplans_A141,\t Importance: 0.037\n",
      "Feature: otherplans_A142,\t Importance: 0.017\n",
      "Feature: otherplans_A143,\t Importance: -0.286\n",
      "Feature: housing_A151,\t Importance: 0.044\n",
      "Feature: housing_A152,\t Importance: -0.209\n",
      "Feature: housing_A153,\t Importance: 0.024\n",
      "Feature: job_A171,\t Importance: 0.007\n",
      "Feature: job_A172,\t Importance: 0.075\n",
      "Feature: job_A173,\t Importance: -0.169\n",
      "Feature: job_A174,\t Importance: 0.037\n",
      "Feature: tele_A191,\t Importance: 0.209\n",
      "Feature: tele_A192,\t Importance: -0.124\n",
      "Feature: foreign_A201,\t Importance: -0.319\n",
      "Feature: foreign_A202,\t Importance: -0.009\n"
     ]
    }
   ],
   "source": [
    "total, _ = audit_model(clf.predict, X)\n",
    "print(total)"
   ]
  },
  {
   "cell_type": "code",
   "execution_count": 59,
   "metadata": {},
   "outputs": [
    {
     "data": {
      "image/png": "[encoded data removed]",
      "text/plain": [
       "<Figure size 288x288 with 1 Axes>"
      ]
     },
     "execution_count": 59,
     "metadata": {},
     "output_type": "execute_result"
    },
    {
     "data": {
      "image/png": "[encoded data removed]",
      "text/plain": [
       "<Figure size 288x288 with 1 Axes>"
      ]
     },
     "metadata": {},
     "output_type": "display_data"
    }
   ],
   "source": [
    "from fairml import plot_dependencies\n",
    "\n",
    "plot_dependencies(\n",
    "    total.median(),\n",
    "    reverse_values=False,\n",
    "    title=\"FairML feature dependence\"\n",
    ")"
   ]
  },
  {
   "cell_type": "markdown",
   "metadata": {},
   "source": [
    "Se reescala la variable \"Default\" de 0:1 a 1:100 con el fin de dar mayor peso a los clientes con mala calificación (Default = 1)."
   ]
  },
  {
   "cell_type": "code",
   "execution_count": 106,
   "metadata": {},
   "outputs": [
    {
     "data": {
      "text/plain": [
       "LogisticRegression(C=1.0, class_weight=[{0: 1, 1: 100}], dual=False,\n",
       "                   fit_intercept=True, intercept_scaling=1, l1_ratio=None,\n",
       "                   max_iter=1500, multi_class='auto', n_jobs=None, penalty='l2',\n",
       "                   random_state=None, solver='lbfgs', tol=0.0001, verbose=0,\n",
       "                   warm_start=False)"
      ]
     },
     "execution_count": 106,
     "metadata": {},
     "output_type": "execute_result"
    }
   ],
   "source": [
    "clf = LogisticRegression( max_iter = 1500 ,  class_weight =[{0:1, 1: 100}]  )\n",
    "\n",
    "clf.fit(X, Y)"
   ]
  },
  {
   "cell_type": "markdown",
   "metadata": {},
   "source": [
    "X3: Registros correspondientes a clientes extranjeros\n",
    "X4: Registros correspondientes a clientes nacionales"
   ]
  },
  {
   "cell_type": "code",
   "execution_count": 107,
   "metadata": {},
   "outputs": [
    {
     "name": "stdout",
     "output_type": "stream",
     "text": [
      "La exactitud para el usuario extranjero: 0.7829698857736241\n",
      "La exactitud para el usuario local: 0.918918918918919\n"
     ]
    }
   ],
   "source": [
    "y_pred_f = clf.predict(X3)\n",
    "y_pred_l = clf.predict(X4)\n",
    "print(\"La exactitud para el usuario extranjero:\", float((y_pred_f == Y3).mean()))\n",
    "print(\"La exactitud para el usuario local:\", float((y_pred_l == Y4).mean()))"
   ]
  },
  {
   "cell_type": "code",
   "execution_count": 113,
   "metadata": {},
   "outputs": [],
   "source": [
    "from fairlearn.metrics import group_summary\n",
    "from fairlearn.reductions import ExponentiatedGradient, DemographicParity, EqualizedOdds"
   ]
  },
  {
   "cell_type": "code",
   "execution_count": 114,
   "metadata": {},
   "outputs": [
    {
     "data": {
      "text/plain": [
       "LogisticRegression(C=1.0, class_weight=[{0: 1, 1: 5}], dual=False,\n",
       "                   fit_intercept=True, intercept_scaling=1, l1_ratio=None,\n",
       "                   max_iter=1500, multi_class='auto', n_jobs=None, penalty='l2',\n",
       "                   random_state=None, solver='lbfgs', tol=0.0001, verbose=0,\n",
       "                   warm_start=False)"
      ]
     },
     "execution_count": 114,
     "metadata": {},
     "output_type": "execute_result"
    }
   ],
   "source": [
    "clf = LogisticRegression( max_iter  = 1500,  class_weight =[{0:1, 1: 5}])\n",
    "clf.fit(X, Y)"
   ]
  },
  {
   "cell_type": "markdown",
   "metadata": {},
   "source": [
    "Consultando el paper sugerido https://arxiv.org/abs/2001.09784 , se encuentra que el algoritmo de equidad algoritmica que más se ajusta al caso de evaluación del perfil de cliente bancario es el de \"Equalized Odds\", dado que compara los falsos positivos con los verdaderos positivos.  Se adiciona entonces una restricción de tipo \"EqualizedOdds()\"\n"
   ]
  },
  {
   "cell_type": "code",
   "execution_count": 115,
   "metadata": {},
   "outputs": [],
   "source": [
    "fair = X.foreign_A201\n",
    "constraint = EqualizedOdds()\n",
    "classifier = LogisticRegression( max_iter  = 1500,  class_weight =[{0:1, 1: 5}])\n",
    "mitigator = ExponentiatedGradient(classifier, constraint)\n",
    "mitigator.fit(X, Y, sensitive_features= fair)\n",
    "y_pred_mitigated = mitigator.predict(X)"
   ]
  },
  {
   "cell_type": "code",
   "execution_count": 116,
   "metadata": {},
   "outputs": [
    {
     "name": "stdout",
     "output_type": "stream",
     "text": [
      "[[0.62 0.07]\n",
      " [0.15 0.16]]\n",
      "[[0.78 0.11]\n",
      " [0.08 0.03]]\n"
     ]
    }
   ],
   "source": [
    "cm_log3 = confusion_matrix(Y3, mitigator.predict(X3) , normalize = \"all\")\n",
    "cm_log4 = confusion_matrix(Y4, mitigator.predict(X4), normalize = \"all\" )\n",
    "\n",
    "print(cm_log3)\n",
    "print(cm_log4)"
   ]
  },
  {
   "cell_type": "code",
   "execution_count": 117,
   "metadata": {},
   "outputs": [
    {
     "name": "stdout",
     "output_type": "stream",
     "text": [
      "La exactitud para el usuario extranjero: 0.7902388369678089\n",
      "La exactitud para el usuario local: 0.8378378378378378\n"
     ]
    }
   ],
   "source": [
    "y_pred_f = mitigator.predict(X3)\n",
    "y_pred_l = mitigator.predict(X4)\n",
    "print(\"La exactitud para el usuario extranjero:\", float((y_pred_f == Y3).mean()))\n",
    "print(\"La exactitud para el usuario local:\", float((y_pred_l == Y4).mean()))"
   ]
  },
  {
   "cell_type": "markdown",
   "metadata": {},
   "source": [
    "### Lecturas avanzadas\n",
    "\n",
    "Para ler más sobre la ética algoritmica puede ver: Pessach, D., Shmueli, E. (2020) Algorithmic fairness. https://arxiv.org/abs/2001.09784 "
   ]
  }
 ],
 "metadata": {
  "kernelspec": {
   "display_name": "Python 3",
   "language": "python",
   "name": "python3"
  },
  "language_info": {
   "codemirror_mode": {
    "name": "ipython",
    "version": 3
   },
   "file_extension": ".py",
   "mimetype": "text/x-python",
   "name": "python",
   "nbconvert_exporter": "python",
   "pygments_lexer": "ipython3",
   "version": "3.8.2"
  }
 },
 "nbformat": 4,
 "nbformat_minor": 2
}
