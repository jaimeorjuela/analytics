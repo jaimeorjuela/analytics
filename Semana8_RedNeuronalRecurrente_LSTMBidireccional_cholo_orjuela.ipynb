{
 "cells": [
  {
   "cell_type": "markdown",
   "metadata": {},
   "source": [
    "<br><h1 align=\"Center\"> <img src=\"https://serea2017.uniandes.edu.co/images/Logo.png\" height=\"60\" width=\"200\" align=\"Center\" />MIIA-4203 MODELOS AVANZADOS PARA ANÁLISIS DE DATOS II</h1>\n",
    "<h2 align=\"Center\">\n",
    "Presentado por:<br>\n",
    "Fabián Cholo Acevedo - Cód 201523509<br>\n",
    "Jaime Orjuela Viracacha - Cód 201924252<br>\n",
    "</h2>\n",
    "\n",
    "# Red neuronal recurrente: LSTM bidireccional\n",
    "\n",
    "## Actividad 8\n",
    "\n",
    "### Profesor: Camilo Franco (c.franco31@uniandes.edu.co)\n",
    "\n",
    "## Actividad en grupos\n",
    "### Nombres:\n",
    "\n",
    "**Instrucciones:** Por favor escriba los nombres de los integrantes de su grupo. Esta actividad debe ser entregada a más tardar dentro de 8 días, con la respuesta para los ejercicios y preguntas en cada numeral.\n",
    "\n",
    "En este cuaderno vamos a implementar una red recurrente bi-direccional para la prediccion del sentimiento asociado con un comentario linguistico. Los comentarios con los que vamos a trabajar corresponden con opiniones sobre peliculas (https://ai.stanford.edu/~amaas/data/sentiment/)\n",
    "\n",
    "Finalmente tenemos un ejercicio donde podremos explorar distintos modelos de redes recurrentes (https://en.wikipedia.org/wiki/Recurrent_neural_network)\n",
    "\n",
    "Primero importemos las bibliotecas y paquetes que vamos a utilizar:"
   ]
  },
  {
   "cell_type": "code",
   "execution_count": 13,
   "metadata": {},
   "outputs": [],
   "source": [
    "import numpy as np\n",
    "import keras\n",
    "from keras import layers\n",
    "from keras.models import load_model, Sequential\n",
    "\n",
    "import h5py\n",
    "import matplotlib.pyplot as plt\n",
    "from prettytable import PrettyTable\n",
    "\n",
    "from sklearn.model_selection import train_test_split\n",
    "from sklearn.metrics import confusion_matrix \n",
    "\n",
    "import warnings\n",
    "warnings.filterwarnings(\"ignore\", category=FutureWarning)\n",
    "\n",
    "import ssl\n",
    "ssl._create_default_https_context = ssl._create_unverified_context"
   ]
  },
  {
   "cell_type": "markdown",
   "metadata": {},
   "source": [
    "También definimos algunos parámetros para nuestra implementación, uno donde definimos el número máximo de términos a considerar (de todo nuestro vocabulario) y otro donde definimos la longitud máxima para un comentario:"
   ]
  },
  {
   "cell_type": "code",
   "execution_count": 14,
   "metadata": {},
   "outputs": [],
   "source": [
    "max_features = 20000  # Considera las 20000 palabras más populares\n",
    "maxlen = 200  # Considera las primeras 200 palabras de cada comentario"
   ]
  },
  {
   "cell_type": "markdown",
   "metadata": {},
   "source": [
    "Importemos los datos:"
   ]
  },
  {
   "cell_type": "code",
   "execution_count": 15,
   "metadata": {},
   "outputs": [
    {
     "name": "stdout",
     "output_type": "stream",
     "text": [
      "Downloading data from https://storage.googleapis.com/tensorflow/tf-keras-datasets/imdb.npz\n",
      "17465344/17464789 [==============================] - 9s 1us/step\n",
      "25000 secuencias de entrenamiento\n",
      "25000 secuencias de validación\n"
     ]
    }
   ],
   "source": [
    "(x_train, y_train), (x_val, y_val) = keras.datasets.imdb.load_data(\n",
    "    num_words=max_features)\n",
    "\n",
    "print(len(x_train), \"secuencias de entrenamiento\")\n",
    "print(len(x_val), \"secuencias de validación\")\n",
    "\n",
    "x_train = keras.preprocessing.sequence.pad_sequences(x_train, maxlen=maxlen)\n",
    "x_val = keras.preprocessing.sequence.pad_sequences(x_val, maxlen=maxlen)"
   ]
  },
  {
   "cell_type": "markdown",
   "metadata": {},
   "source": [
    "**Salida esperada:**\n",
    "\n",
    "25000 secuencias de entrenamiento\n",
    "\n",
    "25000 secuencias de validación"
   ]
  },
  {
   "cell_type": "markdown",
   "metadata": {},
   "source": [
    "Veamos en qué consiste la priemra observación de entrenamiento:"
   ]
  },
  {
   "cell_type": "code",
   "execution_count": 16,
   "metadata": {},
   "outputs": [
    {
     "data": {
      "text/plain": [
       "array([    5,    25,   100,    43,   838,   112,    50,   670,     2,\n",
       "           9,    35,   480,   284,     5,   150,     4,   172,   112,\n",
       "         167,     2,   336,   385,    39,     4,   172,  4536,  1111,\n",
       "          17,   546,    38,    13,   447,     4,   192,    50,    16,\n",
       "           6,   147,  2025,    19,    14,    22,     4,  1920,  4613,\n",
       "         469,     4,    22,    71,    87,    12,    16,    43,   530,\n",
       "          38,    76,    15,    13,  1247,     4,    22,    17,   515,\n",
       "          17,    12,    16,   626,    18, 19193,     5,    62,   386,\n",
       "          12,     8,   316,     8,   106,     5,     4,  2223,  5244,\n",
       "          16,   480,    66,  3785,    33,     4,   130,    12,    16,\n",
       "          38,   619,     5,    25,   124,    51,    36,   135,    48,\n",
       "          25,  1415,    33,     6,    22,    12,   215,    28,    77,\n",
       "          52,     5,    14,   407,    16,    82, 10311,     8,     4,\n",
       "         107,   117,  5952,    15,   256,     4,     2,     7,  3766,\n",
       "           5,   723,    36,    71,    43,   530,   476,    26,   400,\n",
       "         317,    46,     7,     4, 12118,  1029,    13,   104,    88,\n",
       "           4,   381,    15,   297,    98,    32,  2071,    56,    26,\n",
       "         141,     6,   194,  7486,    18,     4,   226,    22,    21,\n",
       "         134,   476,    26,   480,     5,   144,    30,  5535,    18,\n",
       "          51,    36,    28,   224,    92,    25,   104,     4,   226,\n",
       "          65,    16,    38,  1334,    88,    12,    16,   283,     5,\n",
       "          16,  4472,   113,   103,    32,    15,    16,  5345,    19,\n",
       "         178,    32], dtype=int32)"
      ]
     },
     "execution_count": 16,
     "metadata": {},
     "output_type": "execute_result"
    }
   ],
   "source": [
    "x_train[0]"
   ]
  },
  {
   "cell_type": "markdown",
   "metadata": {},
   "source": [
    "Podemos reconstruir cada comentario de acuerdo con el índice de cada término:"
   ]
  },
  {
   "cell_type": "code",
   "execution_count": 17,
   "metadata": {},
   "outputs": [
    {
     "name": "stdout",
     "output_type": "stream",
     "text": [
      "Downloading data from https://storage.googleapis.com/tensorflow/tf-keras-datasets/imdb_word_index.json\n",
      "1646592/1641221 [==============================] - 1s 0us/step\n"
     ]
    }
   ],
   "source": [
    "L = keras.datasets.imdb.get_word_index(path=\"imdb_word_index.json\")\n",
    "\n",
    "L = {k:(v+3) for k,v in L.items()}\n",
    "L[\"<PAD>\"] = 0\n",
    "L[\"<START>\"] = 1\n",
    "L[\"<UNK>\"] = 2\n",
    "L[\"<UNUSED>\"] = 3\n",
    "\n",
    "L_palabra = {value:key for key,value in L.items()}"
   ]
  },
  {
   "cell_type": "markdown",
   "metadata": {},
   "source": [
    "Veamos el primer comentario de entrenamiento que es positivo:"
   ]
  },
  {
   "cell_type": "code",
   "execution_count": 18,
   "metadata": {},
   "outputs": [
    {
     "name": "stdout",
     "output_type": "stream",
     "text": [
      "El comentario:  and you could just imagine being there robert <UNK> is an amazing actor and now the same being director <UNK> father came from the same scottish island as myself so i loved the fact there was a real connection with this film the witty remarks throughout the film were great it was just brilliant so much that i bought the film as soon as it was released for retail and would recommend it to everyone to watch and the fly fishing was amazing really cried at the end it was so sad and you know what they say if you cry at a film it must have been good and this definitely was also congratulations to the two little boy's that played the <UNK> of norman and paul they were just brilliant children are often left out of the praising list i think because the stars that play them all grown up are such a big profile for the whole film but these children are amazing and should be praised for what they have done don't you think the whole story was so lovely because it was true and was someone's life after all that was shared with us all\n",
      "Tiene un sentimiento asociado:  1\n"
     ]
    }
   ],
   "source": [
    "print(\"El comentario: \", ' '.join(L_palabra[id] for id in x_train[0] ))\n",
    "print(\"Tiene un sentimiento asociado: \", y_train[0])"
   ]
  },
  {
   "cell_type": "markdown",
   "metadata": {},
   "source": [
    "O un comentario negativo:"
   ]
  },
  {
   "cell_type": "code",
   "execution_count": 19,
   "metadata": {},
   "outputs": [
    {
     "name": "stdout",
     "output_type": "stream",
     "text": [
      "El comentario:  <PAD> <PAD> <PAD> <PAD> <PAD> <PAD> <PAD> <PAD> <PAD> <PAD> <PAD> <START> big hair big boobs bad music and a giant safety pin these are the words to best describe this terrible movie i love cheesy horror movies and i've seen hundreds but this had got to be on of the worst ever made the plot is paper thin and ridiculous the acting is an abomination the script is completely laughable the best is the end showdown with the cop and how he worked out who the killer is it's just so damn terribly written the clothes are sickening and funny in equal measures the hair is big lots of boobs bounce men wear those cut tee shirts that show off their <UNK> sickening that men actually wore them and the music is just <UNK> trash that plays over and over again in almost every scene there is trashy music boobs and <UNK> taking away bodies and the gym still doesn't close for <UNK> all joking aside this is a truly bad film whose only charm is to look back on the disaster that was the 80's and have a good old laugh at how bad everything was back then\n",
      "Tiene un sentimiento asociado:  0\n"
     ]
    }
   ],
   "source": [
    "print(\"El comentario: \", ' '.join(L_palabra[id] for id in x_train[1] ))\n",
    "print(\"Tiene un sentimiento asociado: \", y_train[1])"
   ]
  },
  {
   "cell_type": "markdown",
   "metadata": {},
   "source": [
    "## 1. Red recurrente bi-direccional"
   ]
  },
  {
   "cell_type": "markdown",
   "metadata": {},
   "source": [
    "A continuación definimos la arquitectura de la red:"
   ]
  },
  {
   "cell_type": "code",
   "execution_count": 21,
   "metadata": {},
   "outputs": [
    {
     "name": "stdout",
     "output_type": "stream",
     "text": [
      "Model: \"model_1\"\n",
      "_________________________________________________________________\n",
      "Layer (type)                 Output Shape              Param #   \n",
      "=================================================================\n",
      "input_2 (InputLayer)         [(None, None)]            0         \n",
      "_________________________________________________________________\n",
      "embedding_1 (Embedding)      (None, None, 128)         2560000   \n",
      "_________________________________________________________________\n",
      "bidirectional_2 (Bidirection (None, None, 128)         98816     \n",
      "_________________________________________________________________\n",
      "bidirectional_3 (Bidirection (None, 128)               98816     \n",
      "_________________________________________________________________\n",
      "dense_1 (Dense)              (None, 1)                 129       \n",
      "=================================================================\n",
      "Total params: 2,757,761\n",
      "Trainable params: 2,757,761\n",
      "Non-trainable params: 0\n",
      "_________________________________________________________________\n"
     ]
    }
   ],
   "source": [
    "# Input con secuencias de enteros con longitud variable\n",
    "inputs = keras.Input(shape=(None,), dtype=\"int32\")\n",
    "\n",
    "# Conseguimos la representación vectorial (embedding) de cada entero en un vector 128-dimensional\n",
    "x = layers.Embedding(max_features, 128)(inputs)\n",
    "\n",
    "# Añadimos 2 unidades LSTM bidireccionales\n",
    "x = layers.Bidirectional(layers.LSTM(64, return_sequences=True))(x)\n",
    "x = layers.Bidirectional(layers.LSTM(64))(x)\n",
    "\n",
    "# Añadimos un clasificador binario en la salida\n",
    "outputs = layers.Dense(1, activation=\"sigmoid\")(x)\n",
    "\n",
    "# Gaurdamos la arquitectura del modelo\n",
    "model1 = keras.Model(inputs, outputs)\n",
    "model1.summary()"
   ]
  },
  {
   "cell_type": "code",
   "execution_count": 22,
   "metadata": {},
   "outputs": [
    {
     "name": "stdout",
     "output_type": "stream",
     "text": [
      "Epoch 1/3\n",
      "391/391 [==============================] - 104s 265ms/step - loss: 0.4285 - accuracy: 0.7999 - val_loss: 0.3481 - val_accuracy: 0.8606\n",
      "Epoch 2/3\n",
      "391/391 [==============================] - 104s 267ms/step - loss: 0.2113 - accuracy: 0.9231 - val_loss: 0.4421 - val_accuracy: 0.7963\n",
      "Epoch 3/3\n",
      "391/391 [==============================] - 104s 265ms/step - loss: 0.1363 - accuracy: 0.9534 - val_loss: 0.4503 - val_accuracy: 0.8386\n",
      "Desempeño (exactitud): accu_v1=0.8385599851608276 , accu_v2=0.8299999833106995\n",
      "Epoch 1/3\n",
      "391/391 [==============================] - 114s 291ms/step - loss: 0.2288 - accuracy: 0.9186 - val_loss: 0.2123 - val_accuracy: 0.9217\n",
      "Epoch 2/3\n",
      "391/391 [==============================] - 110s 281ms/step - loss: 0.1271 - accuracy: 0.9574 - val_loss: 0.2880 - val_accuracy: 0.8975\n",
      "Epoch 3/3\n",
      "391/391 [==============================] - 105s 269ms/step - loss: 0.0838 - accuracy: 0.9725 - val_loss: 0.3496 - val_accuracy: 0.9045\n",
      "Desempeño (exactitud): accu_v1=0.90447998046875 , accu_v2=0.8446400165557861\n",
      "Epoch 1/3\n",
      "391/391 [==============================] - 123s 315ms/step - loss: 0.1660 - accuracy: 0.9432 - val_loss: 0.1572 - val_accuracy: 0.9444\n",
      "Epoch 2/3\n",
      "391/391 [==============================] - 126s 321ms/step - loss: 0.0714 - accuracy: 0.9787 - val_loss: 0.1935 - val_accuracy: 0.9343\n",
      "Epoch 3/3\n",
      "391/391 [==============================] - 121s 310ms/step - loss: 0.0476 - accuracy: 0.9858 - val_loss: 0.2163 - val_accuracy: 0.9310\n",
      "Desempeño (exactitud): accu_v1=0.9309599995613098 , accu_v2=0.8407599925994873\n",
      "+--------+--------+--------+\n",
      "| Exac_E | Exac_V | Exac_P |\n",
      "+--------+--------+--------+\n",
      "| 0.9716 | 0.8386 |  0.83  |\n",
      "| 0.9894 | 0.9045 | 0.8446 |\n",
      "| 0.9942 | 0.931  | 0.8408 |\n",
      "+--------+--------+--------+\n"
     ]
    }
   ],
   "source": [
    "# Inicializamos la tabla donde guardamos los resultados\n",
    "x = PrettyTable([\"Exac_E\", \"Exac_V\", \"Exac_P\"])\n",
    "\n",
    "# Definimos el número máximo de iteraciones (épocas de la red)\n",
    "epocas=3\n",
    "\n",
    "# Definimos los parametros del Adam\n",
    "adam = keras.optimizers.Adam(lr=0.001, beta_1=0.9, beta_2=0.999)\n",
    "\n",
    "# Inicializamos el error \n",
    "err_p = 999\n",
    "\n",
    "for i in range(0,3,1):\n",
    "    r = i^3\n",
    "    CE_x, CV_x, CE_y, CV_y = train_test_split(x_train, y_train, test_size = 0.5, random_state = r)\n",
    "          \n",
    "    # Definimos el método de optimización con respecto a su funcion de perdida (además guardamos la exactitud para cada iteracion)\n",
    "    model = keras.Model(inputs, outputs)\n",
    "    model.compile(loss='binary_crossentropy', optimizer=adam, metrics=['accuracy'])\n",
    "    \n",
    "    # Ajustamos el modelo\n",
    "    history=model.fit(x=CE_x, y=CE_y, epochs=epocas, validation_data=(CV_x, CV_y), verbose=1, shuffle=False)\n",
    "      \n",
    "    # Calculamos las metricas\n",
    "    train_metrics = model.evaluate(x=CE_x, y=CE_y, verbose=0)\n",
    "    valid_metrics = model.evaluate(x=CV_x, y=CV_y, verbose=0)\n",
    "    test_metrics = model.evaluate(x=x_val, y=y_val, verbose=0)\n",
    "    \n",
    "    # Guardamos las métricas de desempeño\n",
    "    accu_e = train_metrics[1]\n",
    "    loss_e = train_metrics[0]\n",
    "    accu_v = valid_metrics[1]\n",
    "    loss_v = valid_metrics[0]\n",
    "    accu_p = test_metrics[1]\n",
    "    loss_p = test_metrics[0]\n",
    "    \n",
    "    if (loss_p < err_p):\n",
    "        pathr =('BRNN_part='+str(r)+'.h5')\n",
    "        model.save(pathr) \n",
    "        err_p = loss_p\n",
    "    \n",
    "    # Imprimimos el desempeño para cada repetición\n",
    "    print('Desempeño (exactitud): accu_v1='+str(accu_v) +' , accu_v2='+str(accu_p))\n",
    "    \n",
    "    x.add_row([np.round(accu_e,4), np.round(accu_v,4), np.round(accu_p,4)])\n",
    "\n",
    "print(x)\n"
   ]
  },
  {
   "cell_type": "code",
   "execution_count": 23,
   "metadata": {},
   "outputs": [
    {
     "data": {
      "image/png": "[encoded data removed]",
      "text/plain": [
       "<Figure size 432x288 with 1 Axes>"
      ]
     },
     "metadata": {
      "needs_background": "light"
     },
     "output_type": "display_data"
    },
    {
     "data": {
      "image/png": "[encoded data removed]",
      "text/plain": [
       "<Figure size 432x288 with 1 Axes>"
      ]
     },
     "metadata": {
      "needs_background": "light"
     },
     "output_type": "display_data"
    }
   ],
   "source": [
    "plt.figure(1)\n",
    "plt.plot(history.history['accuracy'])  \n",
    "plt.plot(history.history['val_accuracy'])  \n",
    "plt.title('Exactitud')  \n",
    "plt.ylabel('Acc')  \n",
    "plt.xlabel('Epoca')  \n",
    "plt.legend(['Entreno', 'Validacion'], loc='lower right')\n",
    "plt.show()\n",
    "\n",
    "plt.figure(1) \n",
    "plt.plot(history.history['loss'])  \n",
    "plt.plot(history.history['val_loss'])  \n",
    "plt.title('Pérdida')  \n",
    "plt.ylabel('Pérdida')  \n",
    "plt.xlabel('Epoca')  \n",
    "plt.legend(['Entreno', 'Validación'], loc='upper right')  \n",
    "plt.show()"
   ]
  },
  {
   "cell_type": "markdown",
   "metadata": {},
   "source": [
    "Recuperamos el mejor modelo:"
   ]
  },
  {
   "cell_type": "code",
   "execution_count": 24,
   "metadata": {},
   "outputs": [
    {
     "name": "stdout",
     "output_type": "stream",
     "text": [
      "Model: \"model_2\"\n",
      "_________________________________________________________________\n",
      "Layer (type)                 Output Shape              Param #   \n",
      "=================================================================\n",
      "input_2 (InputLayer)         [(None, None)]            0         \n",
      "_________________________________________________________________\n",
      "embedding_1 (Embedding)      (None, None, 128)         2560000   \n",
      "_________________________________________________________________\n",
      "bidirectional_2 (Bidirection (None, None, 128)         98816     \n",
      "_________________________________________________________________\n",
      "bidirectional_3 (Bidirection (None, 128)               98816     \n",
      "_________________________________________________________________\n",
      "dense_1 (Dense)              (None, 1)                 129       \n",
      "=================================================================\n",
      "Total params: 2,757,761\n",
      "Trainable params: 2,757,761\n",
      "Non-trainable params: 0\n",
      "_________________________________________________________________\n"
     ]
    }
   ],
   "source": [
    "# B-RNN LSTM\n",
    "model_brnn = load_model('BRNN_part=3.h5')\n",
    "\n",
    "model_brnn.summary()"
   ]
  },
  {
   "cell_type": "markdown",
   "metadata": {},
   "source": [
    "Replicamos los resultados obtenidos anteriormente:"
   ]
  },
  {
   "cell_type": "code",
   "execution_count": 25,
   "metadata": {},
   "outputs": [
    {
     "name": "stdout",
     "output_type": "stream",
     "text": [
      "[[10706  1794]\n",
      " [  579 11921]]\n",
      "Exactitud:  0.9050800204277039\n"
     ]
    }
   ],
   "source": [
    "Y_predt = model_brnn.predict(x_train)\n",
    "Y_predst = (Y_predt > 0.5)\n",
    "\n",
    "print(confusion_matrix(y_train, Y_predst))\n",
    "print(\"Exactitud: \", model_brnn.evaluate(x=x_train, y=y_train, verbose=0)[1])"
   ]
  },
  {
   "cell_type": "markdown",
   "metadata": {},
   "source": [
    "Reportamos el desempeño del modelo con los datos de prueba (fuera de la muestra):"
   ]
  },
  {
   "cell_type": "code",
   "execution_count": 26,
   "metadata": {},
   "outputs": [
    {
     "name": "stdout",
     "output_type": "stream",
     "text": [
      "[[ 9469  3031]\n",
      " [ 1219 11281]]\n",
      "Exactitud:  0.8299999833106995\n"
     ]
    }
   ],
   "source": [
    "Y_predv = model_brnn.predict(x_val)\n",
    "Y_predsv = (Y_predv > 0.5)\n",
    "\n",
    "print(confusion_matrix(y_val, Y_predsv))\n",
    "print(\"Exactitud: \", model_brnn.evaluate(x=x_val, y=y_val, verbose=0)[1])"
   ]
  },
  {
   "cell_type": "markdown",
   "metadata": {},
   "source": [
    "## Ejercicio 1.1\n",
    "\n",
    "Desarrolle un modelo de red neuronal recurrente uni-direccional para comparar los resultados obtenidos con esta red recurrente bi-direccional.\n",
    "\n",
    "Puede explorar una red recurrente simple, LSTM ó GRU, o cualquier otro tipo de red que desee explorar que contenga al menos una capa de tipo recurrente (ver por ejemplo: https://keras.io/api/layers/#recurrent-layers).\n",
    "\n",
    "Compare los resultados sobre los datos de prueba y analice el desempeño de su modelo."
   ]
  },
  {
   "cell_type": "markdown",
   "metadata": {},
   "source": [
    "# Redes Neuronales Recurrentes \n",
    "\n",
    "tomado de: <a href=\"https://www.diegocalvo.es/red-neuronal-recurrente/\">Redes Neuronales Recurrente – RNN</a>\n",
    "\n",
    "Una red neuronal recurrente no tiene una estructura de capas definida, sino que permiten conexiones arbitrarias entre las neuronas, incluso pudiendo crear ciclos, con esto se consigue crear la temporalidad, permitiendo que la red tenga memoria.\n",
    "Las redes neuronales recurrentes son muy potentes para todo lo que tiene que ver con el análisis secuencias, como puede ser el análisis de textos, sonido o video.\n",
    "<img src=\"https://www.diegocalvo.es/wp-content/uploads/2017/07/red-neuronal-recurrente.png\" alt=\"Redes Neuronales Recurrentes RNN\" width=\"500\" height=\"600\">\n",
    "\n",
    "\n",
    "# Redes LSTM\n",
    "\n",
    "Las redes LSTM (Long Short Term Memory) están compuestas por unidades LSTM y son un tipo especial de red neuronal recurrente descritas en 1997 por Hochreiter & Schmidhuber.\n",
    "Las redes neuronales recurrentes convencionales presentan problemas en su entrenamiento debido a que los gradientes retropropagados tienden a crecer enormemente o a desvanecerse con el tiempo debido a que el gradiente depende no solo del error presente sino también los errores pasados. La acumulación de errores provoca dificultades para memorizar dependencias a largo plazo.\n",
    "Estos problemas son solventados por las redes LSTM, para ello incorporan una serie de pasos para decidir que información va a ser almacenada y cual borrada.\n",
    "\n",
    "<img src=\"https://www.diegocalvo.es/wp-content/uploads/2018/12/Red-LSTM.png\" alt=\"Red LSTM\">\n",
    "\n",
    "La unidad de memoria LSTM contiene tres puertas que controlan el modo en que la información fluye dentro o fuera de la unidad.\n",
    "\n",
    "<ul>\n",
    "    <li><strong>Puerta de entrada</strong> ($x$) controla cuando la información nueva puede entrar en la memoria.</li>\n",
    "    <li><strong>Puerta del olvido</strong> ($h$) controla cuando se olvida una parte de la información, lo que permite a la celda discriminar entre datos importantes y superfluos, dejando así sitio para nuevos datos.</li>\n",
    "    <li><strong>Puerta de salida</strong> ($x_{t+1}$) controla cuando se utiliza en el resultado de los recuerdos almacenados en la celda.</li>\n",
    "</ul>\n",
    "La celda dispone de un mecanismo de optimización de las ponderaciones basado en el error de salida de la red resultante, que controla cada puerta. Este mecanismo se suele implementar con el algoritmo de capacitación, BPTT (<strong>B</strong>ack<strong>P</strong>ropagation <strong>T</strong>hrough <strong>T</strong>ime).\n",
    "Finalmente destacar las redes LSTM se utilizan para compresión de textos de lenguajes naturales, reconocimiento de escritura a mano, reconocimiento de voz, reconocimiento de gestos, captura de imágenes.\n",
    "\n",
    "# Redes GRU\n",
    "Las redes GRU (Gated recurrent unit) están compuestas por unidades GRU y son un tipo especial de red neuronal recurrente descritas en 2014 por Kyunghyun Cho et al.\n",
    "\n",
    "<img src=\"https://www.diegocalvo.es/wp-content/uploads/2018/12/Red-GRU.png\" alt=\"Red GRU\">\n",
    "\n",
    "La unidad de memoria GRU contiene dos puertas que controlan el modo en que la información fluye dentro o fuera de la unidad: Puerta de actualización y una puerta de reajuste. \n",
    "\n",
    "<ul>\n",
    "    <li><strong>La puerta de actualización</strong> indica cuánto del contenido de las celdas anteriores hay que mantener.</li>\n",
    "    <li><strong>Puerta de reajuste</strong> define cómo incorporar la nueva entrada con los contenidos anteriores de la celda.</li>\n",
    "</ul>\n",
    "\n",
    "Nota: Se puede modelar una red neuronal recurrente estándar simplemente estableciendo la puerta de reajuste a 1 y la puerta de actualización a 0.\n",
    "\n",
    "\n",
    "Las redes GRU son más simple que las LSTM, debido a que:\n",
    "\n",
    "<ul>\n",
    "    <li>Tienen menos parámetros.</li>\n",
    "    <li>Carecen de puerta de salida.</li>\n",
    "    <li>Capacitar más rápidamente.</li>\n",
    "    <li>Más eficiente en su ejecución.</li>\n",
    "</ul>\n"
   ]
  },
  {
   "cell_type": "code",
   "execution_count": 39,
   "metadata": {},
   "outputs": [
    {
     "name": "stdout",
     "output_type": "stream",
     "text": [
      "Model: \"model_17\"\n",
      "_________________________________________________________________\n",
      "Layer (type)                 Output Shape              Param #   \n",
      "=================================================================\n",
      "input_16 (InputLayer)        [(None, None)]            0         \n",
      "_________________________________________________________________\n",
      "embedding_15 (Embedding)     (None, None, 128)         2560000   \n",
      "_________________________________________________________________\n",
      "lstm_30 (LSTM)               (None, None, 64)          49408     \n",
      "_________________________________________________________________\n",
      "lstm_31 (LSTM)               (None, 64)                33024     \n",
      "_________________________________________________________________\n",
      "dense_15 (Dense)             (None, 1)                 65        \n",
      "=================================================================\n",
      "Total params: 2,642,497\n",
      "Trainable params: 2,642,497\n",
      "Non-trainable params: 0\n",
      "_________________________________________________________________\n"
     ]
    }
   ],
   "source": [
    "# Input con secuencias de enteros con longitud variable\n",
    "inputs_lstm = keras.Input(shape=(None,), dtype=\"int32\")\n",
    "\n",
    "# Conseguimos la representación vectorial (embedding) de cada entero en un vector 128-dimensional\n",
    "x_lstm = layers.Embedding(max_features, 128)(inputs_lstm)\n",
    "\n",
    "# Añadimos 2 unidades LSTM Unidireccionales\n",
    "x_lstm = layers.LSTM(64, return_sequences=True)(x_lstm)\n",
    "x_lstm = layers.LSTM(64)(x_lstm)\n",
    "\n",
    "# Añadimos un clasificador binario en la salida\n",
    "outputs_lstm = layers.Dense(1, activation=\"sigmoid\")(x_lstm)\n",
    "\n",
    "# Arquitectura del modelo\n",
    "model_lstm = keras.Model(inputs_lstm, outputs_lstm)\n",
    "model_lstm.summary()"
   ]
  },
  {
   "cell_type": "code",
   "execution_count": 41,
   "metadata": {},
   "outputs": [
    {
     "name": "stdout",
     "output_type": "stream",
     "text": [
      "Epoch 1/3\n",
      "391/391 [==============================] - 90s 231ms/step - loss: 0.2302 - accuracy: 0.9128 - val_loss: 0.3388 - val_accuracy: 0.8599\n",
      "Epoch 2/3\n",
      "391/391 [==============================] - 89s 228ms/step - loss: 0.1284 - accuracy: 0.9542 - val_loss: 0.3689 - val_accuracy: 0.8497\n",
      "Epoch 3/3\n",
      "391/391 [==============================] - 97s 249ms/step - loss: 0.1091 - accuracy: 0.9620 - val_loss: 0.5180 - val_accuracy: 0.8516\n",
      "Desempeño (exactitud): accu_v1=0.8515999913215637 , accu_v2=0.8386399745941162\n",
      "Epoch 1/3\n",
      "391/391 [==============================] - 123s 314ms/step - loss: 0.2428 - accuracy: 0.9091 - val_loss: 0.2183 - val_accuracy: 0.9209\n",
      "Epoch 2/3\n",
      "391/391 [==============================] - 111s 284ms/step - loss: 0.1220 - accuracy: 0.9593 - val_loss: 0.2628 - val_accuracy: 0.9022\n",
      "Epoch 3/3\n",
      "391/391 [==============================] - 113s 289ms/step - loss: 0.0698 - accuracy: 0.9784 - val_loss: 0.3547 - val_accuracy: 0.8992\n",
      "Desempeño (exactitud): accu_v1=0.8992000222206116 , accu_v2=0.8335599899291992\n",
      "Epoch 1/3\n",
      "391/391 [==============================] - 114s 291ms/step - loss: 0.2971 - accuracy: 0.8796 - val_loss: 0.2156 - val_accuracy: 0.9171\n",
      "Epoch 2/3\n",
      "391/391 [==============================] - 106s 272ms/step - loss: 0.1221 - accuracy: 0.9588 - val_loss: 0.1820 - val_accuracy: 0.9364\n",
      "Epoch 3/3\n",
      "391/391 [==============================] - 99s 253ms/step - loss: 0.0547 - accuracy: 0.9837 - val_loss: 0.2613 - val_accuracy: 0.9127\n",
      "Desempeño (exactitud): accu_v1=0.9127200245857239 , accu_v2=0.8185999989509583\n",
      "+--------+--------+--------+\n",
      "| Exac_E | Exac_V | Exac_P |\n",
      "+--------+--------+--------+\n",
      "| 0.9854 | 0.8516 | 0.8386 |\n",
      "| 0.9874 | 0.8992 | 0.8336 |\n",
      "| 0.984  | 0.9127 | 0.8186 |\n",
      "+--------+--------+--------+\n"
     ]
    }
   ],
   "source": [
    "# Inicializamos la tabla donde guardamos los resultados\n",
    "x = PrettyTable([\"Exac_E\", \"Exac_V\", \"Exac_P\"])\n",
    "# Definimos el número máximo de iteraciones (épocas de la red)\n",
    "epocas=3\n",
    "# Definimos los parametros del Adam\n",
    "adam = keras.optimizers.Adam(lr=0.001, beta_1=0.9, beta_2=0.999)\n",
    "# Inicializamos el error \n",
    "err_p = 999\n",
    "for i in range(0,3,1):\n",
    "    r = i^3\n",
    "    CE_x, CV_x, CE_y, CV_y = train_test_split(x_train, y_train, test_size = 0.5, random_state = r)\n",
    "    # Definimos el método de optimización con respecto a su funcion de perdida (además guardamos la exactitud para cada iteracion)\n",
    "    model_lstm = keras.Model(inputs_lstm, outputs_lstm)\n",
    "    model_lstm.compile(loss='binary_crossentropy', optimizer=adam, metrics=['accuracy'])\n",
    "    # Ajustamos el modelo\n",
    "    history_lstm=model_lstm.fit(x=CE_x, y=CE_y, epochs=epocas, validation_data=(CV_x, CV_y), verbose=1, shuffle=False)\n",
    "    # Calculamos las metricas\n",
    "    train_metrics = model_lstm.evaluate(x=CE_x, y=CE_y, verbose=0)\n",
    "    valid_metrics = model_lstm.evaluate(x=CV_x, y=CV_y, verbose=0)\n",
    "    test_metrics = model_lstm.evaluate(x=x_val, y=y_val, verbose=0)\n",
    "    # Guardamos las métricas de desempeño\n",
    "    accu_e = train_metrics[1]\n",
    "    loss_e = train_metrics[0]\n",
    "    accu_v = valid_metrics[1]\n",
    "    loss_v = valid_metrics[0]\n",
    "    accu_p = test_metrics[1]\n",
    "    loss_p = test_metrics[0]\n",
    "    if (loss_p < err_p):\n",
    "        pathr = ('LSTM_Unidireccional='+str(r)+'.h5')\n",
    "        model.save(pathr) \n",
    "        err_p = loss_p\n",
    "    # Imprimimos el desempeño para cada repetición\n",
    "    print('Desempeño (exactitud): accu_v1='+str(accu_v) +' , accu_v2='+str(accu_p))\n",
    "    x.add_row([np.round(accu_e,4), np.round(accu_v,4), np.round(accu_p,4)])\n",
    "print(x)"
   ]
  },
  {
   "cell_type": "code",
   "execution_count": 42,
   "metadata": {},
   "outputs": [
    {
     "data": {
      "image/png": "[encoded data removed]",
      "text/plain": [
       "<Figure size 432x288 with 1 Axes>"
      ]
     },
     "metadata": {
      "needs_background": "light"
     },
     "output_type": "display_data"
    },
    {
     "data": {
      "image/png": "[encoded data removed]",
      "text/plain": [
       "<Figure size 432x288 with 1 Axes>"
      ]
     },
     "metadata": {
      "needs_background": "light"
     },
     "output_type": "display_data"
    }
   ],
   "source": [
    "plt.figure(1)\n",
    "plt.plot(history_lstm.history['accuracy'])  \n",
    "plt.plot(history_lstm.history['val_accuracy'])  \n",
    "plt.title('Exactitud')  \n",
    "plt.ylabel('Acc')  \n",
    "plt.xlabel('Epoca')  \n",
    "plt.legend(['Entreno', 'Validacion'], loc='lower right')\n",
    "plt.show()\n",
    "\n",
    "plt.figure(1) \n",
    "plt.plot(history_lstm.history['loss'])  \n",
    "plt.plot(history_lstm.history['val_loss'])  \n",
    "plt.title('Pérdida')  \n",
    "plt.ylabel('Pérdida')  \n",
    "plt.xlabel('Epoca')  \n",
    "plt.legend(['Entreno', 'Validación'], loc='upper right')  \n",
    "plt.show()"
   ]
  },
  {
   "cell_type": "code",
   "execution_count": 43,
   "metadata": {},
   "outputs": [
    {
     "name": "stdout",
     "output_type": "stream",
     "text": [
      "Model: \"model_22\"\n",
      "_________________________________________________________________\n",
      "Layer (type)                 Output Shape              Param #   \n",
      "=================================================================\n",
      "input_17 (InputLayer)        [(None, None)]            0         \n",
      "_________________________________________________________________\n",
      "embedding_16 (Embedding)     (None, None, 128)         2560000   \n",
      "_________________________________________________________________\n",
      "gru (GRU)                    (None, None, 64)          37248     \n",
      "_________________________________________________________________\n",
      "gru_1 (GRU)                  (None, 64)                24960     \n",
      "_________________________________________________________________\n",
      "dense_16 (Dense)             (None, 1)                 65        \n",
      "=================================================================\n",
      "Total params: 2,622,273\n",
      "Trainable params: 2,622,273\n",
      "Non-trainable params: 0\n",
      "_________________________________________________________________\n"
     ]
    }
   ],
   "source": [
    "# Input con secuencias de enteros con longitud variable\n",
    "inputs_gru = keras.Input(shape=(None,), dtype=\"int32\")\n",
    "\n",
    "# Conseguimos la representación vectorial (embedding) de cada entero en un vector 128-dimensional\n",
    "x_gru = layers.Embedding(max_features, 128)(inputs_gru)\n",
    "\n",
    "# Añadimos 2 unidades de GRU Unidireccionales\n",
    "x_gru = layers.GRU(64, return_sequences=True)(x_gru)\n",
    "x_gru = layers.GRU(64)(x_gru)\n",
    "\n",
    "# Añadimos un clasificador binario en la salida\n",
    "outputs_gru = layers.Dense(1, activation=\"sigmoid\")(x_gru)\n",
    "\n",
    "# Arquitectura del modelo\n",
    "model_gru = keras.Model(inputs_gru, outputs_gru)\n",
    "model_gru.summary()"
   ]
  },
  {
   "cell_type": "code",
   "execution_count": 44,
   "metadata": {},
   "outputs": [
    {
     "name": "stdout",
     "output_type": "stream",
     "text": [
      "Epoch 1/3\n",
      "391/391 [==============================] - 85s 217ms/step - loss: 0.4877 - accuracy: 0.7532 - val_loss: 0.3572 - val_accuracy: 0.8496\n",
      "Epoch 2/3\n",
      "391/391 [==============================] - 88s 224ms/step - loss: 0.2403 - accuracy: 0.9062 - val_loss: 0.3881 - val_accuracy: 0.8489\n",
      "Epoch 3/3\n",
      "391/391 [==============================] - 88s 226ms/step - loss: 0.1336 - accuracy: 0.9533 - val_loss: 0.4624 - val_accuracy: 0.8254\n",
      "Desempeño (exactitud): accu_v1=0.825439989566803 , accu_v2=0.8209999799728394\n",
      "Epoch 1/3\n",
      "391/391 [==============================] - 102s 260ms/step - loss: 0.2235 - accuracy: 0.9184 - val_loss: 0.2101 - val_accuracy: 0.9226\n",
      "Epoch 2/3\n",
      "391/391 [==============================] - 95s 243ms/step - loss: 0.0944 - accuracy: 0.9692 - val_loss: 0.2579 - val_accuracy: 0.9106\n",
      "Epoch 3/3\n",
      "391/391 [==============================] - 94s 239ms/step - loss: 0.0464 - accuracy: 0.9858 - val_loss: 0.3655 - val_accuracy: 0.9155\n",
      "Desempeño (exactitud): accu_v1=0.9155200123786926 , accu_v2=0.8568000197410583\n",
      "Epoch 1/3\n",
      "391/391 [==============================] - 85s 217ms/step - loss: 0.1594 - accuracy: 0.9442 - val_loss: 0.1416 - val_accuracy: 0.9526\n",
      "Epoch 2/3\n",
      "391/391 [==============================] - 70s 178ms/step - loss: 0.0491 - accuracy: 0.9868 - val_loss: 0.1642 - val_accuracy: 0.9463\n",
      "Epoch 3/3\n",
      "391/391 [==============================] - 69s 176ms/step - loss: 0.0196 - accuracy: 0.9954 - val_loss: 0.1983 - val_accuracy: 0.9453\n",
      "Desempeño (exactitud): accu_v1=0.9452800154685974 , accu_v2=0.8569999933242798\n",
      "+--------+--------+--------+\n",
      "| Exac_E | Exac_V | Exac_P |\n",
      "+--------+--------+--------+\n",
      "| 0.9765 | 0.8254 | 0.821  |\n",
      "| 0.996  | 0.9155 | 0.8568 |\n",
      "| 0.999  | 0.9453 | 0.857  |\n",
      "+--------+--------+--------+\n"
     ]
    }
   ],
   "source": [
    "# Inicializamos la tabla donde guardamos los resultados\n",
    "x = PrettyTable([\"Exac_E\", \"Exac_V\", \"Exac_P\"])\n",
    "# Definimos el número máximo de iteraciones (épocas de la red)\n",
    "epocas=3\n",
    "# Definimos los parametros del Adam\n",
    "adam = keras.optimizers.Adam(lr=0.001, beta_1=0.9, beta_2=0.999)\n",
    "# Inicializamos el error \n",
    "err_p = 999\n",
    "for i in range(0,3,1):\n",
    "    r = i^3\n",
    "    CE_x, CV_x, CE_y, CV_y = train_test_split(x_train, y_train, test_size = 0.5, random_state = r)\n",
    "    # Definimos el método de optimización con respecto a su funcion de perdida (además guardamos la exactitud para cada iteracion)\n",
    "    model_gru = keras.Model(inputs_gru, outputs_gru)\n",
    "    model_gru.compile(loss='binary_crossentropy', optimizer=adam, metrics=['accuracy'])\n",
    "    # Ajustamos el modelo\n",
    "    history_gru=model_gru.fit(x=CE_x, y=CE_y, epochs=epocas, validation_data=(CV_x, CV_y), verbose=1, shuffle=False)\n",
    "    # Calculamos las metricas\n",
    "    train_metrics = model_gru.evaluate(x=CE_x, y=CE_y, verbose=0)\n",
    "    valid_metrics = model_gru.evaluate(x=CV_x, y=CV_y, verbose=0)\n",
    "    test_metrics = model_gru.evaluate(x=x_val, y=y_val, verbose=0)\n",
    "    # Guardamos las métricas de desempeño\n",
    "    accu_e = train_metrics[1]\n",
    "    loss_e = train_metrics[0]\n",
    "    accu_v = valid_metrics[1]\n",
    "    loss_v = valid_metrics[0]\n",
    "    accu_p = test_metrics[1]\n",
    "    loss_p = test_metrics[0]\n",
    "    if (loss_p < err_p):\n",
    "        pathr = ('GRU_Unidireccional='+str(r)+'.h5')\n",
    "        model.save(pathr) \n",
    "        err_p = loss_p\n",
    "    # Imprimimos el desempeño para cada repetición\n",
    "    print('Desempeño (exactitud): accu_v1='+str(accu_v) +' , accu_v2='+str(accu_p))\n",
    "    x.add_row([np.round(accu_e,4), np.round(accu_v,4), np.round(accu_p,4)])\n",
    "print(x)"
   ]
  },
  {
   "cell_type": "code",
   "execution_count": 45,
   "metadata": {},
   "outputs": [
    {
     "data": {
      "image/png": "[encoded data removed]",
      "text/plain": [
       "<Figure size 432x288 with 1 Axes>"
      ]
     },
     "metadata": {
      "needs_background": "light"
     },
     "output_type": "display_data"
    },
    {
     "data": {
      "image/png": "[encoded data removed]",
      "text/plain": [
       "<Figure size 432x288 with 1 Axes>"
      ]
     },
     "metadata": {
      "needs_background": "light"
     },
     "output_type": "display_data"
    }
   ],
   "source": [
    "plt.figure(1)\n",
    "plt.plot(history_gru.history['accuracy'])  \n",
    "plt.plot(history_gru.history['val_accuracy'])  \n",
    "plt.title('Exactitud')  \n",
    "plt.ylabel('Acc')  \n",
    "plt.xlabel('Epoca')  \n",
    "plt.legend(['Entreno', 'Validacion'], loc='lower right')\n",
    "plt.show()\n",
    "\n",
    "plt.figure(1) \n",
    "plt.plot(history_gru.history['loss'])  \n",
    "plt.plot(history_gru.history['val_loss'])  \n",
    "plt.title('Pérdida')  \n",
    "plt.ylabel('Pérdida')  \n",
    "plt.xlabel('Epoca')  \n",
    "plt.legend(['Entreno', 'Validación'], loc='upper right')  \n",
    "plt.show()"
   ]
  },
  {
   "cell_type": "markdown",
   "metadata": {},
   "source": [
    "# Conclusión:\n",
    "\n",
    "\n",
    "## Resultados LSTM inicial (bidireccional)\n",
    "`\n",
    "+--------+--------+--------+\n",
    "| Exac_E | Exac_V | Exac_P |\n",
    "+--------+--------+--------+\n",
    "| 0.9716 | 0.8386 |  0.83  |\n",
    "| 0.9894 | 0.9045 | 0.8446 |\n",
    "| 0.9942 | 0.931  | 0.8408 |\n",
    "+--------+--------+--------+\n",
    "`\n",
    "\n",
    "## Resultados LSTM (unidireccional)\n",
    "`\n",
    "+--------+--------+--------+\n",
    "| Exac_E | Exac_V | Exac_P |\n",
    "+--------+--------+--------+\n",
    "| 0.9854 | 0.8516 | 0.8386 |\n",
    "| 0.9874 | 0.8992 | 0.8336 |\n",
    "| 0.984  | 0.9127 | 0.8186 |\n",
    "+--------+--------+--------+\n",
    "`\n",
    "\n",
    "## Resultados GRU (unidireccional)\n",
    "`\n",
    "+--------+--------+--------+\n",
    "| Exac_E | Exac_V | Exac_P |\n",
    "+--------+--------+--------+\n",
    "| 0.9765 | 0.8254 | 0.821  |\n",
    "| 0.996  | 0.9155 | 0.8568 |\n",
    "| 0.999  | 0.9453 | 0.857  |\n",
    "+--------+--------+--------+\n",
    "`\n",
    "\n",
    "Comparando los modelos ejecutados y para el conjunto de datos analizado, con la red GRU con `random_state = 2` se obtienen mejores resultados."
   ]
  },
  {
   "cell_type": "markdown",
   "metadata": {},
   "source": [
    "## Ejercicio 1.2\n",
    "\n",
    "Desarrolle otro modelo de red neuronal (de libre elección) para mejorar los resultados obtenidos con el mejor modelo obtenido hasta ahora.\n",
    "\n",
    "Puede explorar una red recurrente simple, LSTM, GRU, o cualquier otro tipo de red (CNN, CNN-LSTM, ...)\n",
    "\n",
    "Compare los resultados sobre los datos de prueba y analice el desempeño de su modelo. Concluya y proponga estrategias para seguir mejorando los resultados."
   ]
  },
  {
   "cell_type": "markdown",
   "metadata": {},
   "source": [
    "R/ Teniendo en cuenta los resultados obtenidos en el anterior punto, se implementará una red Bidirección de tipo GRU para comparar el desempeño de estos modelos."
   ]
  },
  {
   "cell_type": "code",
   "execution_count": 47,
   "metadata": {},
   "outputs": [
    {
     "name": "stdout",
     "output_type": "stream",
     "text": [
      "Model: \"model_26\"\n",
      "_________________________________________________________________\n",
      "Layer (type)                 Output Shape              Param #   \n",
      "=================================================================\n",
      "input_19 (InputLayer)        [(None, None)]            0         \n",
      "_________________________________________________________________\n",
      "embedding_18 (Embedding)     (None, None, 128)         2560000   \n",
      "_________________________________________________________________\n",
      "bidirectional_8 (Bidirection (None, None, 128)         74496     \n",
      "_________________________________________________________________\n",
      "bidirectional_9 (Bidirection (None, 128)               74496     \n",
      "_________________________________________________________________\n",
      "dense_18 (Dense)             (None, 1)                 129       \n",
      "=================================================================\n",
      "Total params: 2,709,121\n",
      "Trainable params: 2,709,121\n",
      "Non-trainable params: 0\n",
      "_________________________________________________________________\n"
     ]
    }
   ],
   "source": [
    "# Input con secuencias de enteros con longitud variable\n",
    "inputs_grub = keras.Input(shape=(None,), dtype=\"int32\")\n",
    "\n",
    "# Conseguimos la representación vectorial (embedding) de cada entero en un vector 128-dimensional\n",
    "x_grub = layers.Embedding(max_features, 128)(inputs_grub)\n",
    "# Añadimos 2 unidades de GRU Bidireccionales\n",
    "x_grub = layers.Bidirectional(layers.GRU(64, return_sequences=True))(x_grub)\n",
    "x_grub = layers.Bidirectional(layers.GRU(64))(x_grub)\n",
    "# Añadimos un clasificador binario en la salida\n",
    "outputs_grub = layers.Dense(1, activation=\"sigmoid\")(x_grub)\n",
    "# Gaurdamos la arquitectura del modelo\n",
    "model_grub = keras.Model(inputs_grub, outputs_grub)\n",
    "model_grub.summary()"
   ]
  },
  {
   "cell_type": "code",
   "execution_count": 49,
   "metadata": {},
   "outputs": [
    {
     "name": "stdout",
     "output_type": "stream",
     "text": [
      "Epoch 1/3\n",
      "391/391 [==============================] - 144s 368ms/step - loss: 0.4702 - accuracy: 0.7607 - val_loss: 0.3450 - val_accuracy: 0.8562\n",
      "Epoch 2/3\n",
      "391/391 [==============================] - 140s 359ms/step - loss: 0.2329 - accuracy: 0.9094 - val_loss: 0.3542 - val_accuracy: 0.8659\n",
      "Epoch 3/3\n",
      "391/391 [==============================] - 129s 331ms/step - loss: 0.1279 - accuracy: 0.9568 - val_loss: 0.5132 - val_accuracy: 0.8266\n",
      "Desempeño (exactitud): accu_v1=0.8265600204467773 , accu_v2=0.8185200095176697\n",
      "Epoch 1/3\n",
      "391/391 [==============================] - 114s 290ms/step - loss: 0.2092 - accuracy: 0.9214 - val_loss: 0.1964 - val_accuracy: 0.9283\n",
      "Epoch 2/3\n",
      "391/391 [==============================] - 113s 289ms/step - loss: 0.0652 - accuracy: 0.9800 - val_loss: 0.3363 - val_accuracy: 0.9155\n",
      "Epoch 3/3\n",
      "391/391 [==============================] - 109s 278ms/step - loss: 0.0299 - accuracy: 0.9910 - val_loss: 0.3504 - val_accuracy: 0.9129\n",
      "Desempeño (exactitud): accu_v1=0.912880003452301 , accu_v2=0.8561599850654602\n",
      "Epoch 1/3\n",
      "391/391 [==============================] - 120s 307ms/step - loss: 0.1445 - accuracy: 0.9525 - val_loss: 0.1362 - val_accuracy: 0.9550\n",
      "Epoch 2/3\n",
      "391/391 [==============================] - 117s 300ms/step - loss: 0.0282 - accuracy: 0.9930 - val_loss: 0.1612 - val_accuracy: 0.9523\n",
      "Epoch 3/3\n",
      "391/391 [==============================] - 118s 302ms/step - loss: 0.0083 - accuracy: 0.9975 - val_loss: 0.2497 - val_accuracy: 0.9409\n",
      "Desempeño (exactitud): accu_v1=0.9408800005912781 , accu_v2=0.8565199971199036\n",
      "+--------+--------+--------+\n",
      "| Exac_E | Exac_V | Exac_P |\n",
      "+--------+--------+--------+\n",
      "|  0.97  | 0.8266 | 0.8185 |\n",
      "| 0.9945 | 0.9129 | 0.8562 |\n",
      "| 0.9982 | 0.9409 | 0.8565 |\n",
      "+--------+--------+--------+\n"
     ]
    }
   ],
   "source": [
    "# Inicializamos la tabla donde guardamos los resultados\n",
    "x = PrettyTable([\"Exac_E\", \"Exac_V\", \"Exac_P\"])\n",
    "# Definimos el número máximo de iteraciones (épocas de la red)\n",
    "epocas=3\n",
    "# Definimos los parametros del Adam\n",
    "adam = keras.optimizers.Adam(lr=0.001, beta_1=0.9, beta_2=0.999)\n",
    "# Inicializamos el error \n",
    "err_p = 999\n",
    "for i in range(0,3,1):\n",
    "    r = i^3\n",
    "    CE_x, CV_x, CE_y, CV_y = train_test_split(x_train, y_train, test_size = 0.5, random_state = r)\n",
    "    # Definimos el método de optimización con respecto a su funcion de perdida (además guardamos la exactitud para cada iteracion)\n",
    "    model_grub = keras.Model(inputs_grub, outputs_grub)\n",
    "    model_grub.compile(loss='binary_crossentropy', optimizer=adam, metrics=['accuracy'])\n",
    "    # Ajustamos el modelo\n",
    "    history_grub=model_grub.fit(x=CE_x, y=CE_y, epochs=epocas, validation_data=(CV_x, CV_y), verbose=1, shuffle=False)\n",
    "    # Calculamos las metricas\n",
    "    train_metrics = model_grub.evaluate(x=CE_x, y=CE_y, verbose=0)\n",
    "    valid_metrics = model_grub.evaluate(x=CV_x, y=CV_y, verbose=0)\n",
    "    test_metrics = model_grub.evaluate(x=x_val, y=y_val, verbose=0)\n",
    "    # Guardamos las métricas de desempeño\n",
    "    accu_e = train_metrics[1]\n",
    "    loss_e = train_metrics[0]\n",
    "    accu_v = valid_metrics[1]\n",
    "    loss_v = valid_metrics[0]\n",
    "    accu_p = test_metrics[1]\n",
    "    loss_p = test_metrics[0]\n",
    "    if (loss_p < err_p):\n",
    "        pathr = ('GRU_Bidireccional='+str(r)+'.h5')\n",
    "        model.save(pathr) \n",
    "        err_p = loss_p\n",
    "    # Imprimimos el desempeño para cada repetición\n",
    "    print('Desempeño (exactitud): accu_v1='+str(accu_v) +' , accu_v2='+str(accu_p))\n",
    "    x.add_row([np.round(accu_e,4), np.round(accu_v,4), np.round(accu_p,4)])\n",
    "print(x)"
   ]
  },
  {
   "cell_type": "markdown",
   "metadata": {},
   "source": [
    "\n",
    "## Resultados GRU (unidireccional)\n",
    "`\n",
    "+--------+--------+--------+\n",
    "| Exac_E | Exac_V | Exac_P |\n",
    "+--------+--------+--------+\n",
    "| 0.9765 | 0.8254 | 0.821  |\n",
    "| 0.996  | 0.9155 | 0.8568 |\n",
    "| 0.999  | 0.9453 | 0.857  |\n",
    "+--------+--------+--------+\n",
    "`\n",
    "\n",
    "## Resultados GRU (bidireccional)\n",
    "`\n",
    "+--------+--------+--------+\n",
    "| Exac_E | Exac_V | Exac_P |\n",
    "+--------+--------+--------+\n",
    "|  0.97  | 0.8266 | 0.8185 |\n",
    "| 0.9945 | 0.9129 | 0.8562 |\n",
    "| 0.9982 | 0.9409 | 0.8565 |\n",
    "+--------+--------+--------+\n",
    "`\n",
    "\n",
    "De acuerdo a los modelos evaluados, se concluye que las redes GRU presentan un mejor rendimiento para el conjunto de datos analizado. Sin embargo, aunque no se detectan diferencias significativas en desempeño entre el modelo GRU unidireccional y el bidireccional, el tiempo de ejecución de la red bidireccional SI es significativamente mayor, por lo que se concluye que para el conjunto de datos analizado, la red GRU unidireccional es la mejor alternativa."
   ]
  }
 ],
 "metadata": {
  "coursera": {
   "course_slug": "neural-networks-deep-learning",
   "graded_item_id": "wRuwL",
   "launcher_item_id": "NI888"
  },
  "kernelspec": {
   "display_name": "Python 3",
   "language": "python",
   "name": "python3"
  },
  "language_info": {
   "codemirror_mode": {
    "name": "ipython",
    "version": 3
   },
   "file_extension": ".py",
   "mimetype": "text/x-python",
   "name": "python",
   "nbconvert_exporter": "python",
   "pygments_lexer": "ipython3",
   "version": "3.8.2"
  }
 },
 "nbformat": 4,
 "nbformat_minor": 2
}
