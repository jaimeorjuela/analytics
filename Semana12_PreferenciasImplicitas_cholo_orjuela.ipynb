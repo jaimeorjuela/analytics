{
 "cells": [
  {
   "cell_type": "markdown",
   "metadata": {},
   "source": [
    "<br><h1 align=\"Center\"> <img src=\"https://serea2017.uniandes.edu.co/images/Logo.png\" height=\"60\" width=\"200\" align=\"Center\" />MIIA-4203 MODELOS AVANZADOS PARA ANÁLISIS DE DATOS II</h1>\n",
    "<h2 align=\"Center\">\n",
    "Presentado por:<br>\n",
    "Fabián Cholo Acevedo - Cód 201523509<br>\n",
    "Jaime Orjuela Viracacha - Cód 201924252<br>\n",
    "</h2>\n",
    "\n",
    "# Sistemas de Recomendación de filtrado colaborativo con preferencias implícitas\n",
    "\n",
    "## Actividad 12\n",
    "\n",
    "\n",
    "### Profesor: Camilo Franco (c.franco31@uniandes.edu.co)\n",
    "\n",
    "\n",
    "En este cuaderno vamos a estudiar los sistemas de recomendación de filtrado colaborativo con preferencias implícitas. Vamos a centrarnos en un método incluido en la biblioteca de Spark, conocido como *Mínimos Cuadrados Alternantes* (ALS). \n",
    "\n"
   ]
  },
  {
   "cell_type": "markdown",
   "metadata": {},
   "source": [
    "## 1. Introducción\n",
    "\n",
    "Los sistemas de recomendación se han convertido en parte importante de la industria, potenciando el volumen de ventas a partir de recomendaciones personalizadas. Estos sistemas tienen la prioridad de facilitar la toma de decisiones de los usuarios.  Por ejemplo,  si se tienen muchas opciones de donde elegir, se puede esperar que la elección de un solo producto sea más compleja que si se tienen unas pocas opciones. De esta manera, si se ofrecen los productos adecuados, las ventas pueden incrementar de manera significativa.Bien implementados, los sistemas de recomendación pueden brindar ventajas competitivas importantes para las compañías.\n",
    "\n",
    "\n",
    "Los sistemas de recomendación los podemos ver como motores diseñados para ayudar a los usuarios a encontrar los artículos que les gustan, pero también los podemos pensar como sistemas de información inteligentes que tienen como objetivo ayudar a los usuarios a manejar el problema de la sobrecarga de información. En este sentido, lo que distingue a los sistemas de recomendación de los motores de búsqueda es que aplican el aprendizaje automático de una manera personalizada. Por lo tanto, los sistemas de recomendación permiten construir modelos para satisfacer las preferencias de los usuarios, y encontrar los artículos o servicios necesarios para obtener un mejor sustento y bienestar individual y social.\n",
    "\n"
   ]
  },
  {
   "cell_type": "markdown",
   "metadata": {},
   "source": [
    "Veamos algunos ejemplos de sistemas de recomendación en la industria:\n",
    "\n",
    "- Métodos basados en contenido: el punto más importante para este tipo de sistemas es la extracción de patrones. Por ejemplo, la compañía Pandora, que ofrece musica online por *streaming*, extrajo patrones (*features*) de un conjunto de canciones como parte de Proyecto del Genoma Musical. De esta forma, las canciones se respresentaron por un vector de aproximadamente 450 atributos. Una vez se cuenta con este conjunto de patrones, el problema de recomendación se puede estudiar como uno de clasificación binaria. Entonces se construyen modelos que estimen la probabilidad de que a un usuario le guste una canción específica basado en el conjunto de entrenamiento de su historial de canciones, y se recominedan las K canciones que obtengan una mayor probabilidad. Bajo esta aproximación a los sistemas de recomendación por contenido, es crucial la construcción de un buen conjunto de patrones para su aplicación adecuada y exitosa.\n",
    "\n",
    "\n",
    "- Filtrado colaborativo: Bajo la perspectiva del filtrado colaborativo, se busca caracterizar la relación entre usuarios e items sin requerir información específica de los usuarios e items, sino solamente utilizando un valor de preferencia *explícito* o *implícito*, expresando la interacción entre usuario e items. \n",
    "\n",
    "Un **rating explícito** consiste en un valor numérico, categórico o un *like*, mientras que un **rating implícito** consiste en un *índice* de preferencia, como un *click*, una vista o una compra. Un ejemplo bastante conocido es el de la recomendación de películas como en Netflix. Es común contar con ratings valorados en una escala numérica, donde es fácil ver si el usuario a disfrutado o no de la película. Sin embargo, muchas veces los usuarios no proveen ratings para todas las películas, reduciendo la cantidad de datos disponibles para construir las recomendaciones. Netflix al menos puede identificar si un usuario vió una película, sin saber si le gustó o no, simplemente que la vió. Este último es un rating implícito, y suele ser más común que un rating explícito. De esta manera, es factible que al centrarse en ratings implícitos, la información disponible sea mayor (aunque menos expresiva). \n",
    "\n",
    "- Métodos híbridos de filtrado colaborativo e información demográfica: Una red social como Facebook o Linkedin cuenta con bastante información demográfica de los usuarios. Con base en estos datos se pueden identificar usuarios similares a partir de sus características en común. De manera similar al método basado en contenido, se puede construir un vector de patrones para cada usuario y se generan los modelos para predecir la probabilidad de preferir ciertos items.\n",
    "\n",
    "\n",
    "Para una introducción más amplia a los sistemas de recomendación, pueden estudiar estos videos online: \n",
    "1. https://www.youtube.com/watch?v=bLhq63ygoU8&feature=emb_logo\n",
    "\n",
    "2. https://www.youtube.com/watch?v=mRToFXlNBpQ"
   ]
  },
  {
   "cell_type": "markdown",
   "metadata": {},
   "source": [
    "## 2. Filtrado colaborativo y preferencias implíctas\n",
    "\n",
    "Para esta actividad vamos a utilizar el método de mínimos cuadrados alternantes (ALS). Esta técnica busca descomponer una matriz de preferencias $R_{m\\times n}$, con $m$ usuarios y $n$ items, en dos matrices más pequeñas: la matriz de usuarios con sus vectores de patrones latentes $U_{m\\times k}$ y la respectiva matriz de items $V_{k\\times n}$. Se debe tener en cuenta que la matriz $R_{m\\times n}$ tiene muchos datos faltantes (una matriz *sparse*), pues muchos usuarios interactuan con unos pocos items.\n",
    "\n",
    "Entonces, la multiplicación de las matrices $U$ y $V$ permite aproximar la matriz original, y de manera sencilla (pues contaríamos con dos matrices *densas* que incluyen $k$ factores/patrones latentes) podemos construir e interpretar las preferencias estimadas de cada usuario por cada item.\n",
    "\n",
    "Para estimar $U$ y $V$, resulta conveniente utilizar el método de los ALS. De este modo, se resuelve un vector de patrones a la vez, alternando primero para la matriz de usuarios y luego para la matriz de items, y se puede ejecutar de manera paralela (siguiendo la filosofía de Spark). Por ejemplo, inicializando aleatoriamente $U$, fijándola, y resolviendo para $V$, y luego volver y resolver para $U$ utilizando la solución previa para $V$, y repetir hasta converger. \n",
    "\n",
    "Como resultado, el producto punto entre $U$ y $V$ permite estimar $\\hat R$, para todos los pares usuario-item, así no haya habido interacción previa entre los pares. Esta metdología fue presentada en el paper: \n",
    "\n",
    "*Hu, Y., Koren, Y., Volinsky, Ch. (2008) Collaborative filtering for implicit feedback datasets. Proceedings 2008 Eighth IEEE International Conference on Data Mining, Washington, USA, 3022-3026.*\n",
    "\n",
    "Veamos a continuación la implementación del método con un conjunto de datos con preferencias implícitas."
   ]
  },
  {
   "cell_type": "markdown",
   "metadata": {},
   "source": [
    "## 2.1 Procesamiento de datos\n",
    "\n",
    "Vamos a utilizar el archivo de datos *Online Retail* (del repositorio de Machine Learning UCI), el cual contiene todas las compras para una compañía de venta al por menor en el Reino Unido durante ocho meses.\n",
    "\n",
    "Primero carguemos algunas bibliotecas que van a ser útiles para el pre-procesamiento de los datos: "
   ]
  },
  {
   "cell_type": "code",
   "execution_count": 1,
   "metadata": {},
   "outputs": [],
   "source": [
    "import pandas as pd\n",
    "import scipy.sparse as sparse\n",
    "import numpy as np\n",
    "from scipy.sparse.linalg import spsolve\n",
    "\n",
    "import random\n",
    "import datetime\n"
   ]
  },
  {
   "cell_type": "markdown",
   "metadata": {},
   "source": [
    "Carguemos los datos del archivo .xls:"
   ]
  },
  {
   "cell_type": "code",
   "execution_count": 2,
   "metadata": {
    "scrolled": true
   },
   "outputs": [],
   "source": [
    "website_url = 'http://archive.ics.uci.edu/ml/machine-learning-databases/00352/Online%20Retail.xlsx'\n",
    "\n",
    "try:\n",
    "    retail_data = pd.read_excel(website_url) # No debería tardar mucho\n",
    "except (http.client.IncompleteRead) as e:\n",
    "    retail_data = e.partial"
   ]
  },
  {
   "cell_type": "markdown",
   "metadata": {},
   "source": [
    "Debemos tomar todas las transacciones para cada usuario y preparar los datos para la implementación del ALS. Para ello necesitamos un ID unico por usuario/fila, y un ID unico por item/columna. Los valores de la matriz deben consistir en el número de compras de cada usuario por cada item. "
   ]
  },
  {
   "cell_type": "code",
   "execution_count": 3,
   "metadata": {},
   "outputs": [
    {
     "data": {
      "text/html": [
       "<div>\n",
       "<style scoped>\n",
       "    .dataframe tbody tr th:only-of-type {\n",
       "        vertical-align: middle;\n",
       "    }\n",
       "\n",
       "    .dataframe tbody tr th {\n",
       "        vertical-align: top;\n",
       "    }\n",
       "\n",
       "    .dataframe thead th {\n",
       "        text-align: right;\n",
       "    }\n",
       "</style>\n",
       "<table border=\"1\" class=\"dataframe\">\n",
       "  <thead>\n",
       "    <tr style=\"text-align: right;\">\n",
       "      <th></th>\n",
       "      <th>InvoiceNo</th>\n",
       "      <th>StockCode</th>\n",
       "      <th>Description</th>\n",
       "      <th>Quantity</th>\n",
       "      <th>InvoiceDate</th>\n",
       "      <th>UnitPrice</th>\n",
       "      <th>CustomerID</th>\n",
       "      <th>Country</th>\n",
       "    </tr>\n",
       "  </thead>\n",
       "  <tbody>\n",
       "    <tr>\n",
       "      <th>0</th>\n",
       "      <td>536365</td>\n",
       "      <td>85123A</td>\n",
       "      <td>WHITE HANGING HEART T-LIGHT HOLDER</td>\n",
       "      <td>6</td>\n",
       "      <td>2010-12-01 08:26:00</td>\n",
       "      <td>2.55</td>\n",
       "      <td>17850.0</td>\n",
       "      <td>United Kingdom</td>\n",
       "    </tr>\n",
       "    <tr>\n",
       "      <th>1</th>\n",
       "      <td>536365</td>\n",
       "      <td>71053</td>\n",
       "      <td>WHITE METAL LANTERN</td>\n",
       "      <td>6</td>\n",
       "      <td>2010-12-01 08:26:00</td>\n",
       "      <td>3.39</td>\n",
       "      <td>17850.0</td>\n",
       "      <td>United Kingdom</td>\n",
       "    </tr>\n",
       "    <tr>\n",
       "      <th>2</th>\n",
       "      <td>536365</td>\n",
       "      <td>84406B</td>\n",
       "      <td>CREAM CUPID HEARTS COAT HANGER</td>\n",
       "      <td>8</td>\n",
       "      <td>2010-12-01 08:26:00</td>\n",
       "      <td>2.75</td>\n",
       "      <td>17850.0</td>\n",
       "      <td>United Kingdom</td>\n",
       "    </tr>\n",
       "    <tr>\n",
       "      <th>3</th>\n",
       "      <td>536365</td>\n",
       "      <td>84029G</td>\n",
       "      <td>KNITTED UNION FLAG HOT WATER BOTTLE</td>\n",
       "      <td>6</td>\n",
       "      <td>2010-12-01 08:26:00</td>\n",
       "      <td>3.39</td>\n",
       "      <td>17850.0</td>\n",
       "      <td>United Kingdom</td>\n",
       "    </tr>\n",
       "    <tr>\n",
       "      <th>4</th>\n",
       "      <td>536365</td>\n",
       "      <td>84029E</td>\n",
       "      <td>RED WOOLLY HOTTIE WHITE HEART.</td>\n",
       "      <td>6</td>\n",
       "      <td>2010-12-01 08:26:00</td>\n",
       "      <td>3.39</td>\n",
       "      <td>17850.0</td>\n",
       "      <td>United Kingdom</td>\n",
       "    </tr>\n",
       "  </tbody>\n",
       "</table>\n",
       "</div>"
      ],
      "text/plain": [
       "  InvoiceNo StockCode                          Description  Quantity  \\\n",
       "0    536365    85123A   WHITE HANGING HEART T-LIGHT HOLDER         6   \n",
       "1    536365     71053                  WHITE METAL LANTERN         6   \n",
       "2    536365    84406B       CREAM CUPID HEARTS COAT HANGER         8   \n",
       "3    536365    84029G  KNITTED UNION FLAG HOT WATER BOTTLE         6   \n",
       "4    536365    84029E       RED WOOLLY HOTTIE WHITE HEART.         6   \n",
       "\n",
       "          InvoiceDate  UnitPrice  CustomerID         Country  \n",
       "0 2010-12-01 08:26:00       2.55     17850.0  United Kingdom  \n",
       "1 2010-12-01 08:26:00       3.39     17850.0  United Kingdom  \n",
       "2 2010-12-01 08:26:00       2.75     17850.0  United Kingdom  \n",
       "3 2010-12-01 08:26:00       3.39     17850.0  United Kingdom  \n",
       "4 2010-12-01 08:26:00       3.39     17850.0  United Kingdom  "
      ]
     },
     "execution_count": 3,
     "metadata": {},
     "output_type": "execute_result"
    }
   ],
   "source": [
    "retail_data.head()"
   ]
  },
  {
   "cell_type": "markdown",
   "metadata": {},
   "source": [
    "El conjunto de datos incluye un numero identificativo para cada compra, junto con el codigo de stock *StockCode* que nos sirve como ID del tiem. Además contamos con su descripción, el número de ventas, la fecha de la venta, el precio, el ID del usuario, y el pais de origen del usuario.\n"
   ]
  },
  {
   "cell_type": "code",
   "execution_count": 4,
   "metadata": {},
   "outputs": [
    {
     "name": "stdout",
     "output_type": "stream",
     "text": [
      "<class 'pandas.core.frame.DataFrame'>\n",
      "RangeIndex: 541909 entries, 0 to 541908\n",
      "Data columns (total 8 columns):\n",
      " #   Column       Non-Null Count   Dtype         \n",
      "---  ------       --------------   -----         \n",
      " 0   InvoiceNo    541909 non-null  object        \n",
      " 1   StockCode    541909 non-null  object        \n",
      " 2   Description  540455 non-null  object        \n",
      " 3   Quantity     541909 non-null  int64         \n",
      " 4   InvoiceDate  541909 non-null  datetime64[ns]\n",
      " 5   UnitPrice    541909 non-null  float64       \n",
      " 6   CustomerID   406829 non-null  float64       \n",
      " 7   Country      541909 non-null  object        \n",
      "dtypes: datetime64[ns](1), float64(2), int64(1), object(4)\n",
      "memory usage: 33.1+ MB\n"
     ]
    }
   ],
   "source": [
    "retail_data.info()"
   ]
  },
  {
   "cell_type": "markdown",
   "metadata": {},
   "source": [
    "En el resumen de los datos se puede ver que la mayoría de columnas cuentan con información, pero el ID del usuario falta en bastantes filas. Estas observaciones faltantes hacen inservibles las observaciones para nuestros porpósitos (necesitamos el ID del usuario). \n"
   ]
  },
  {
   "cell_type": "code",
   "execution_count": 5,
   "metadata": {},
   "outputs": [],
   "source": [
    "retail = retail_data.loc[pd.isnull(retail_data.CustomerID) == False]"
   ]
  },
  {
   "cell_type": "code",
   "execution_count": 6,
   "metadata": {},
   "outputs": [
    {
     "name": "stdout",
     "output_type": "stream",
     "text": [
      "<class 'pandas.core.frame.DataFrame'>\n",
      "Int64Index: 406829 entries, 0 to 541908\n",
      "Data columns (total 8 columns):\n",
      " #   Column       Non-Null Count   Dtype         \n",
      "---  ------       --------------   -----         \n",
      " 0   InvoiceNo    406829 non-null  object        \n",
      " 1   StockCode    406829 non-null  object        \n",
      " 2   Description  406829 non-null  object        \n",
      " 3   Quantity     406829 non-null  int64         \n",
      " 4   InvoiceDate  406829 non-null  datetime64[ns]\n",
      " 5   UnitPrice    406829 non-null  float64       \n",
      " 6   CustomerID   406829 non-null  float64       \n",
      " 7   Country      406829 non-null  object        \n",
      "dtypes: datetime64[ns](1), float64(2), int64(1), object(4)\n",
      "memory usage: 27.9+ MB\n"
     ]
    }
   ],
   "source": [
    "retail.info()"
   ]
  },
  {
   "cell_type": "markdown",
   "metadata": {},
   "source": [
    "Una vez limpiamos la base de datos de observaciones faltantes, podemos relacionar todas las compras con su cliente/usuario. \n",
    "\n",
    "Antes de proceder con la matriz de ratings, construyamos una tabla donde podamos encontrar cada ID de item junto con su descripción. "
   ]
  },
  {
   "cell_type": "code",
   "execution_count": 7,
   "metadata": {},
   "outputs": [],
   "source": [
    "items_T = retail[['StockCode', 'Description']].drop_duplicates() # pares item/descripcion\n",
    "items_T['StockCode'] = items_T.StockCode.astype(str) # caracteres"
   ]
  },
  {
   "cell_type": "code",
   "execution_count": 8,
   "metadata": {},
   "outputs": [
    {
     "data": {
      "text/html": [
       "<div>\n",
       "<style scoped>\n",
       "    .dataframe tbody tr th:only-of-type {\n",
       "        vertical-align: middle;\n",
       "    }\n",
       "\n",
       "    .dataframe tbody tr th {\n",
       "        vertical-align: top;\n",
       "    }\n",
       "\n",
       "    .dataframe thead th {\n",
       "        text-align: right;\n",
       "    }\n",
       "</style>\n",
       "<table border=\"1\" class=\"dataframe\">\n",
       "  <thead>\n",
       "    <tr style=\"text-align: right;\">\n",
       "      <th></th>\n",
       "      <th>StockCode</th>\n",
       "      <th>Description</th>\n",
       "    </tr>\n",
       "  </thead>\n",
       "  <tbody>\n",
       "    <tr>\n",
       "      <th>0</th>\n",
       "      <td>85123A</td>\n",
       "      <td>WHITE HANGING HEART T-LIGHT HOLDER</td>\n",
       "    </tr>\n",
       "    <tr>\n",
       "      <th>1</th>\n",
       "      <td>71053</td>\n",
       "      <td>WHITE METAL LANTERN</td>\n",
       "    </tr>\n",
       "    <tr>\n",
       "      <th>2</th>\n",
       "      <td>84406B</td>\n",
       "      <td>CREAM CUPID HEARTS COAT HANGER</td>\n",
       "    </tr>\n",
       "    <tr>\n",
       "      <th>3</th>\n",
       "      <td>84029G</td>\n",
       "      <td>KNITTED UNION FLAG HOT WATER BOTTLE</td>\n",
       "    </tr>\n",
       "    <tr>\n",
       "      <th>4</th>\n",
       "      <td>84029E</td>\n",
       "      <td>RED WOOLLY HOTTIE WHITE HEART.</td>\n",
       "    </tr>\n",
       "  </tbody>\n",
       "</table>\n",
       "</div>"
      ],
      "text/plain": [
       "  StockCode                          Description\n",
       "0    85123A   WHITE HANGING HEART T-LIGHT HOLDER\n",
       "1     71053                  WHITE METAL LANTERN\n",
       "2    84406B       CREAM CUPID HEARTS COAT HANGER\n",
       "3    84029G  KNITTED UNION FLAG HOT WATER BOTTLE\n",
       "4    84029E       RED WOOLLY HOTTIE WHITE HEART."
      ]
     },
     "execution_count": 8,
     "metadata": {},
     "output_type": "execute_result"
    }
   ],
   "source": [
    "items_T.head()"
   ]
  },
  {
   "cell_type": "code",
   "execution_count": 9,
   "metadata": {},
   "outputs": [
    {
     "name": "stdout",
     "output_type": "stream",
     "text": [
      "<class 'pandas.core.frame.DataFrame'>\n",
      "Int64Index: 3916 entries, 0 to 540421\n",
      "Data columns (total 2 columns):\n",
      " #   Column       Non-Null Count  Dtype \n",
      "---  ------       --------------  ----- \n",
      " 0   StockCode    3916 non-null   object\n",
      " 1   Description  3916 non-null   object\n",
      "dtypes: object(2)\n",
      "memory usage: 91.8+ KB\n"
     ]
    }
   ],
   "source": [
    "items_T.info()"
   ]
  },
  {
   "cell_type": "code",
   "execution_count": 10,
   "metadata": {},
   "outputs": [
    {
     "data": {
      "text/html": [
       "<div>\n",
       "<style scoped>\n",
       "    .dataframe tbody tr th:only-of-type {\n",
       "        vertical-align: middle;\n",
       "    }\n",
       "\n",
       "    .dataframe tbody tr th {\n",
       "        vertical-align: top;\n",
       "    }\n",
       "\n",
       "    .dataframe thead th {\n",
       "        text-align: right;\n",
       "    }\n",
       "</style>\n",
       "<table border=\"1\" class=\"dataframe\">\n",
       "  <thead>\n",
       "    <tr style=\"text-align: right;\">\n",
       "      <th></th>\n",
       "      <th>StockCode</th>\n",
       "      <th>Description</th>\n",
       "    </tr>\n",
       "  </thead>\n",
       "  <tbody>\n",
       "    <tr>\n",
       "      <th>21342</th>\n",
       "      <td>16008</td>\n",
       "      <td>SMALL FOLDING SCISSOR(POINTED EDGE)</td>\n",
       "    </tr>\n",
       "  </tbody>\n",
       "</table>\n",
       "</div>"
      ],
      "text/plain": [
       "      StockCode                          Description\n",
       "21342     16008  SMALL FOLDING SCISSOR(POINTED EDGE)"
      ]
     },
     "execution_count": 10,
     "metadata": {},
     "output_type": "execute_result"
    }
   ],
   "source": [
    "items_T[items_T.StockCode=='16008']"
   ]
  },
  {
   "cell_type": "markdown",
   "metadata": {},
   "source": [
    "Ahora procesar la base de datos para:\n",
    "\n",
    "- Agrupar las ventas por codigo de stock e ID del item\n",
    "- Incluir clientes con un total de compras no negativo, y cambiar las sumas que den cero por uno, lo cual puede suceder si un producto es devuelto. Esto lo hacemos para incluir información sobre cualquier tipo de interacción usuario-item. \n",
    "- Construir nuestra matriz de datos tipo *sparse*, que haga uso óptimo de memoria (guarda solamente la ubicación y los valores de los items cuando hay interacción)\n"
   ]
  },
  {
   "cell_type": "code",
   "execution_count": 11,
   "metadata": {},
   "outputs": [
    {
     "name": "stderr",
     "output_type": "stream",
     "text": [
      "<ipython-input-11-64251c422703>:2: SettingWithCopyWarning: \n",
      "A value is trying to be set on a copy of a slice from a DataFrame.\n",
      "Try using .loc[row_indexer,col_indexer] = value instead\n",
      "\n",
      "See the caveats in the documentation: https://pandas.pydata.org/pandas-docs/stable/user_guide/indexing.html#returning-a-view-versus-a-copy\n",
      "  retail['CustomerID'] = retail.CustomerID.astype(int)\n",
      "/Users/jaimorjv/Library/Python/3.8/lib/python/site-packages/pandas/core/indexing.py:671: SettingWithCopyWarning: \n",
      "A value is trying to be set on a copy of a slice from a DataFrame\n",
      "\n",
      "See the caveats in the documentation: https://pandas.pydata.org/pandas-docs/stable/user_guide/indexing.html#returning-a-view-versus-a-copy\n",
      "  self._setitem_with_indexer(indexer, value)\n"
     ]
    }
   ],
   "source": [
    "# Toma el ID de usuario como Entero y selecciona variables relevantes\n",
    "retail['CustomerID'] = retail.CustomerID.astype(int) \n",
    "retail = retail[['StockCode', 'Quantity', 'CustomerID']] \n",
    "\n",
    "# Agrupamos e indicamos si hubo interacción\n",
    "g_retail = retail.groupby(['CustomerID', 'StockCode']).sum().reset_index() \n",
    "g_retail.Quantity.loc[g_retail.Quantity == 0] = 1 \n",
    "\n",
    "# Nos quedamos con usuarios con compras positivas\n",
    "g_ventas = g_retail.query('Quantity > 0') "
   ]
  },
  {
   "cell_type": "markdown",
   "metadata": {},
   "source": [
    "Obtenemos las ventas agrupadas:"
   ]
  },
  {
   "cell_type": "code",
   "execution_count": 12,
   "metadata": {},
   "outputs": [
    {
     "data": {
      "text/html": [
       "<div>\n",
       "<style scoped>\n",
       "    .dataframe tbody tr th:only-of-type {\n",
       "        vertical-align: middle;\n",
       "    }\n",
       "\n",
       "    .dataframe tbody tr th {\n",
       "        vertical-align: top;\n",
       "    }\n",
       "\n",
       "    .dataframe thead th {\n",
       "        text-align: right;\n",
       "    }\n",
       "</style>\n",
       "<table border=\"1\" class=\"dataframe\">\n",
       "  <thead>\n",
       "    <tr style=\"text-align: right;\">\n",
       "      <th></th>\n",
       "      <th>CustomerID</th>\n",
       "      <th>StockCode</th>\n",
       "      <th>Quantity</th>\n",
       "    </tr>\n",
       "  </thead>\n",
       "  <tbody>\n",
       "    <tr>\n",
       "      <th>0</th>\n",
       "      <td>12346</td>\n",
       "      <td>23166</td>\n",
       "      <td>1</td>\n",
       "    </tr>\n",
       "    <tr>\n",
       "      <th>1</th>\n",
       "      <td>12347</td>\n",
       "      <td>16008</td>\n",
       "      <td>24</td>\n",
       "    </tr>\n",
       "    <tr>\n",
       "      <th>2</th>\n",
       "      <td>12347</td>\n",
       "      <td>17021</td>\n",
       "      <td>36</td>\n",
       "    </tr>\n",
       "    <tr>\n",
       "      <th>3</th>\n",
       "      <td>12347</td>\n",
       "      <td>20665</td>\n",
       "      <td>6</td>\n",
       "    </tr>\n",
       "    <tr>\n",
       "      <th>4</th>\n",
       "      <td>12347</td>\n",
       "      <td>20719</td>\n",
       "      <td>40</td>\n",
       "    </tr>\n",
       "  </tbody>\n",
       "</table>\n",
       "</div>"
      ],
      "text/plain": [
       "   CustomerID StockCode  Quantity\n",
       "0       12346     23166         1\n",
       "1       12347     16008        24\n",
       "2       12347     17021        36\n",
       "3       12347     20665         6\n",
       "4       12347     20719        40"
      ]
     },
     "execution_count": 12,
     "metadata": {},
     "output_type": "execute_result"
    }
   ],
   "source": [
    "g_ventas.head()"
   ]
  },
  {
   "cell_type": "code",
   "execution_count": 13,
   "metadata": {},
   "outputs": [
    {
     "name": "stdout",
     "output_type": "stream",
     "text": [
      "<class 'pandas.core.frame.DataFrame'>\n",
      "Int64Index: 266723 entries, 0 to 267614\n",
      "Data columns (total 3 columns):\n",
      " #   Column      Non-Null Count   Dtype \n",
      "---  ------      --------------   ----- \n",
      " 0   CustomerID  266723 non-null  int64 \n",
      " 1   StockCode   266723 non-null  object\n",
      " 2   Quantity    266723 non-null  int64 \n",
      "dtypes: int64(2), object(1)\n",
      "memory usage: 8.1+ MB\n"
     ]
    }
   ],
   "source": [
    "g_ventas.info()"
   ]
  },
  {
   "cell_type": "markdown",
   "metadata": {},
   "source": [
    "Ahora, en lugar de representar un rating explícito, podemos tomar el número de items adquiridos como una *proxy* de la **confianza** sobre la intensidad de la interacción usuario-item. Es decir, entre más unidades del item se adquieren por parte de un usuario, mayor será el peso para el rating en nuestra matriz de preferencias. \n",
    "\n",
    "A continuación creamos la matriz de tipo *sparse*:"
   ]
  },
  {
   "cell_type": "code",
   "execution_count": 16,
   "metadata": {},
   "outputs": [],
   "source": [
    "usuarios = list(np.sort(g_ventas.CustomerID.unique())) \n",
    "items = list(g_ventas.StockCode.unique()) \n",
    "confianza = list(g_ventas.Quantity) \n",
    "\n",
    "# Construimos la matriz\n",
    "filas = g_ventas.CustomerID.astype(pd.api.types.CategoricalDtype(categories=usuarios)).cat.codes \n",
    "cols = g_ventas.StockCode.astype(pd.api.types.CategoricalDtype(categories=items)).cat.codes \n",
    "prefs_sparse = sparse.csr_matrix((confianza, (filas, cols)), shape=(len(usuarios), len(items)))\n"
   ]
  },
  {
   "cell_type": "markdown",
   "metadata": {},
   "source": [
    "Revisemos la matriz que hemos declarado:"
   ]
  },
  {
   "cell_type": "code",
   "execution_count": 17,
   "metadata": {},
   "outputs": [
    {
     "data": {
      "text/plain": [
       "<4338x3664 sparse matrix of type '<class 'numpy.longlong'>'\n",
       "\twith 266723 stored elements in Compressed Sparse Row format>"
      ]
     },
     "execution_count": 17,
     "metadata": {},
     "output_type": "execute_result"
    }
   ],
   "source": [
    "prefs_sparse"
   ]
  },
  {
   "cell_type": "markdown",
   "metadata": {},
   "source": [
    "La matriz tiene 4338 usuarios y 3664 items. De todas las posibles interacciones, se tienen 266723 con alguna compra. \n",
    "\n",
    "Esto es:"
   ]
  },
  {
   "cell_type": "code",
   "execution_count": 18,
   "metadata": {},
   "outputs": [
    {
     "name": "stdout",
     "output_type": "stream",
     "text": [
      "15894432\n"
     ]
    }
   ],
   "source": [
    "# Interacciones posibles\n",
    "mat_dim = prefs_sparse.shape[0]*prefs_sparse.shape[1] \n",
    "print (mat_dim)"
   ]
  },
  {
   "cell_type": "code",
   "execution_count": 19,
   "metadata": {},
   "outputs": [
    {
     "name": "stdout",
     "output_type": "stream",
     "text": [
      "266723\n"
     ]
    }
   ],
   "source": [
    "# Numero de interacciones con data\n",
    "num_ventas = len(prefs_sparse.nonzero()[0]) \n",
    "print (num_ventas)"
   ]
  },
  {
   "cell_type": "code",
   "execution_count": 20,
   "metadata": {},
   "outputs": [
    {
     "data": {
      "text/plain": [
       "98.32190920694744"
      ]
     },
     "execution_count": 20,
     "metadata": {},
     "output_type": "execute_result"
    }
   ],
   "source": [
    "# Porcentaje de informacion a estimar\n",
    "sparsity = 100*(1 - (num_ventas/mat_dim))\n",
    "sparsity"
   ]
  },
  {
   "cell_type": "code",
   "execution_count": 21,
   "metadata": {},
   "outputs": [
    {
     "data": {
      "text/plain": [
       "1.6780907930525608"
      ]
     },
     "execution_count": 21,
     "metadata": {},
     "output_type": "execute_result"
    }
   ],
   "source": [
    "# Porcentaje información disponible\n",
    "info=(num_ventas/mat_dim)*100\n",
    "info"
   ]
  },
  {
   "cell_type": "markdown",
   "metadata": {},
   "source": [
    "El 98.3% de la matriz de interacciones es nula o *sparse*. \n",
    "\n",
    "Con el fin de aplicar los algoritmos de filtrado colaborativo, el porcentaje no debería superar un 99.5% aprox. "
   ]
  },
  {
   "cell_type": "markdown",
   "metadata": {},
   "source": [
    "## 2.2 Experimentos de aprendizaje \n",
    "### Entrenamiento/Prueba vs. Validacion cruzada\n",
    "\n",
    "Normalmente para problemas de aprendizaje computacional supervisado, debemos probar si el modelo que entrenamos generaliza de buena manera la muestra de datos utilizada, esto es, si predice de buena manera observaciones nuevas que no pertenecen a la muestra inicial. Esto se suele hacer creando un conjunto de prueba completamente distinto al conjunto de entrenamiento, tomando una muestra aleatoria del conjunto total de observaciones (en nuestro caso una muestra aleatoria de usuarios) y separandola del conjunto de entrenamiento. \n",
    "\n",
    "Ahora, bajo el método de filtrado colaborativo esto no funciona del todo porque necesitamos de todas las interacciones usuario-item para encontrar una factorización apropiada de la  matriz de preferencias. Una mejor alternativa consiste en *esconder* aleatoriamente cierta proporción de interacciones del modelo durante la fase de entrenamiento. Luego, se revisa en la fase de validación cuántos items de los que fueron recomendados en verdad terminaron siendo comprados por los usuarios. El desempeño del modelo se puede evaluar a partir de la tasa de aciertos del modelo en validación. De todos modos, también podríamos tomar un punto del tiempo para separar el entrenamiento de la predicción y evaluar el error en predicción. \n",
    "\n",
    "En este caso, tenemos un periodo de tiempo corto y es poco probable que los productos que se hayan adquirido una vez vuelvan a ser aduqiridos en tan poco tiempo. Entonces, el conjunto de entrenamiento va a consistir en los datos originales pero omitiendo un porcentaje aleatorio de interacciones, *enmascaradas* como cero. De esta manera se asume para cada iteracción que esos items enmasacardos no han sido adquiridos por el usuario, y probamos si el algoritmo le recomendaría esos productos. En consecuencia, si se puede observar que los usuarios terminaron comprando esos productos recomendados, se puede concluir que el sistema hace bien su trabajo.\n",
    "\n",
    "También podemos verificar que nuestro sistema mejore una recomendación basada en la popularidad media, como un modelo de referencia (*Baseline*).\n",
    "\n",
    "\n",
    "A continuación ejecutamos nuestro propio codigo para el ALS. Primero escribimos una función para enmascarar los datos de validación."
   ]
  },
  {
   "cell_type": "code",
   "execution_count": 22,
   "metadata": {},
   "outputs": [],
   "source": [
    "def entrena(ratings, pct_val = 0.2):\n",
    "    '''\n",
    "    Input: Matriz de ratings\n",
    "    Output: matriz de entrenamiento CE y de validacion CV, y user_inds\n",
    "    \n",
    "    Esta función toma la matriz orginal y enmascara un porcentaje de ratings pata la validacion\n",
    "    El conjunto de validacion (CV) va a tener todos los ratings originales, mientras que el de entrenamiento (CE)\n",
    "    reemplaza el porcentaje señalado con ceros\n",
    "    \n",
    "    pct_val: porcentaje de iteraciones a enmascarar\n",
    "    user_inds: lista de usuarios aleatoriamente elegidos y enmascarados en CE.\n",
    "    '''\n",
    "    \n",
    "    random.seed(0) # Semilla aeatoria\n",
    "    \n",
    "    CV = ratings.copy() \n",
    "    CV[CV != 0] = 1 # CV como una matriz binaria\n",
    "    \n",
    "    CE = ratings.copy() \n",
    "    non0_inds = CE.nonzero() # Indices donde hay interaccion\n",
    "    non0_pares = list(zip(non0_inds[0], non0_inds[1])) # lista de indices usuario-item con interaccion\n",
    "    \n",
    "    num_muestra = int(np.ceil(pct_val*len(non0_pares))) \n",
    "    muestra = random.sample(non0_pares, num_muestra) # sub-muestreo sin reemplazo\n",
    "    \n",
    "    user_inds = [index[0] for index in muestra] # indices de usuario\n",
    "    item_inds = [index[1] for index in muestra] # inidices de items\n",
    "    \n",
    "    CE[user_inds, item_inds] = 0 # Asigna 0 sobre las observaciones elegidas\n",
    "    CE.eliminate_zeros() # Elimina los ceros en el arreglo sparce\n",
    "    return CE, CV, list(set(user_inds)) \n"
   ]
  },
  {
   "cell_type": "markdown",
   "metadata": {},
   "source": [
    "Con la funcion anterior tenemos nuestro conjunto de entrenamiento, un conjunto de validacion  binario (compra/no compra) y una lista de los usuarios dejados por fuera del entrenamiento para validacion. Entonces, si enmascaramos el 20% de los usuarios, evaluaremos el desempeño del modelo sobre estos usuarios."
   ]
  },
  {
   "cell_type": "code",
   "execution_count": 23,
   "metadata": {},
   "outputs": [],
   "source": [
    "CE, CV, users_V = entrena(prefs_sparse, pct_val = 0.2)"
   ]
  },
  {
   "cell_type": "markdown",
   "metadata": {},
   "source": [
    "## 2.3 Método de Mínimos Cuadrados Alternantes (ALS)\n",
    "Ahora podemos implementar el ALS sobre nuestros ratings implícitos (siguiendo el paper de  Hu et al. 2008).\n",
    "\n",
    "En primera instancia, debemos transformar la matriz de preferencias en una matriz de confianza:\n",
    "\n",
    "$$\n",
    "C_{ui}=1+\\alpha r_{ui}\n",
    "$$\n",
    "\n",
    "donde $C_{ui}$ representa la confianza del usuario $u$ sobre el item $i$ y $\\alpha$ representa un factor de incremento lineal con respecto al rating del usuario.\n",
    "\n",
    "\n",
    "Enfocándonos en el modelo de factores ($f$) latentes, le asignamos a cada usuario un vector $x_u \\in \\mathbb{R}^f$ y a cada item un vector $y_i\\in \\mathbb{R}^f$, donde la prediccion corresponde con el producto interno $$ \\hat p_{ui} = x^T_u y_i. $$\n",
    "Recordemos que esta predicción es binaria.\n",
    "\n",
    "En este caso vamos a incorporar el parámetro de confianza sobre la minimización de la función obejtivo:\n",
    "$$\n",
    "\\min_{x,y} \\sum_{u,i} c_{ui}(p_{ui} - x^T_u y_i)^2 + \\lambda\\bigl( \\sum_u ||x_u||^2 + \\sum_i ||y_i ||^2 \\bigr) \\tag{1}\n",
    "$$\n",
    "\n",
    "La clave para resolver este problema mediante ALS consiste en que al fijar los factores de usuario o los de item, la función de coste se vuelve cuadrática. Al diferenciar $(1)$ podemos minimizar la función para los usuarios:\n",
    "$$\n",
    "x_u=(Y^TC_uY+\\lambda I)^{−1}Y^TC_up(u)\n",
    "$$\n",
    "y de manera similar para los items,\n",
    "$$\n",
    "y_i=(X^TC_iX+\\lambda I)^{−1}X^TC_yp(i)\n",
    "$$\n"
   ]
  },
  {
   "cell_type": "code",
   "execution_count": 24,
   "metadata": {},
   "outputs": [],
   "source": [
    "def implicit_con_ALS(CE, lambda_val = 0.1, alpha = 40, itera = 10, factores = 20, semilla = 0):\n",
    "    '''\n",
    "    Input:\n",
    "    CE: conjunto de entrenamiento con m usuarios y n items. Matriz sparse csr\n",
    "    lambda_val: parametro de regularizacion ALS. \n",
    "    alpha: Parametro de confianza para el rating implicito \n",
    "    itera: numero de iteraciones para el ALS. Un  mayor numero permite una mejor convergencia\n",
    "    factores: el numero de factores latentes. Incrementar su numero aumenta el riesgo de sobre-ajuste \n",
    "    semilla: semilla aleatoria para reproducibilidad\n",
    "    Output:\n",
    "    El vector de factores o patrones para usuarios y para items.\n",
    "    '''\n",
    "    \n",
    "    # declaramos la matriz de confianza\n",
    "    \n",
    "    conf = (alpha*CE) \n",
    "    \n",
    "    num_user = conf.shape[0]\n",
    "    num_item = conf.shape[1] \n",
    "    \n",
    "    # Incializacion aleatoria de los vectores de usuario e item\n",
    "    random = np.random.RandomState(semilla)\n",
    "    X = sparse.csr_matrix(random.normal(size = (num_user, factores))) \n",
    "    Y = sparse.csr_matrix(random.normal(size = (num_item, factores))) \n",
    "    \n",
    "    X_eye = sparse.eye(num_user)\n",
    "    Y_eye = sparse.eye(num_item)\n",
    "    lambda_eye = lambda_val * sparse.eye(factores) # termino de regularizacion lambda*I. \n",
    "    \n",
    "    # Bucle ALS\n",
    "   \n",
    "    for iter_step in range(itera): # Itera alternando entre X e Y\n",
    "        # Calculamos yTy, xTx al principio de cada iteracion para optimizar el coste computacional\n",
    "        yTy = Y.T.dot(Y)\n",
    "        xTx = X.T.dot(X)\n",
    "        # Fijamos Y\n",
    "        for u in range(num_user):\n",
    "            conf_samp = conf[u,:].toarray() # convierte a un vector denso la fila del usuario (de la matriz de confianza)\n",
    "            pref = conf_samp.copy() \n",
    "            pref[pref != 0] = 1 # Vector de preferencia binario\n",
    "            CuI = sparse.diags(conf_samp, [0]) # Término Cu-I \n",
    "            yTCuIY = Y.T.dot(CuI).dot(Y) # Termino yT(Cu-I)Y  \n",
    "            yTCupu = Y.T.dot(CuI + Y_eye).dot(pref.T) # Término yTCuPu\n",
    "            X[u] = spsolve(yTy + yTCuIY + lambda_eye, yTCupu) \n",
    "            # Resuelve para Xu = ((yTy + yT(Cu-I)Y + lambda*I)^-1)yTCuPu, Ecuacion 4 del paper \n",
    "        \n",
    "        # Fijamos X\n",
    "        for i in range(num_item):\n",
    "            conf_samp = conf[:,i].T.toarray() # Se transpone y se convierte a matriz densa\n",
    "            pref = conf_samp.copy()\n",
    "            pref[pref != 0] = 1 # Crea la matriz binaria\n",
    "            CiI = sparse.diags(conf_samp, [0]) # Calcula el termino Cu-I \n",
    "            xTCiIX = X.T.dot(CiI).dot(X) # Se calcula el termino xT(Cu-I)X \n",
    "            xTCiPi = X.T.dot(CiI + X_eye).dot(pref.T) # Se calcula el temrino xTCiPi \n",
    "            Y[i] = spsolve(xTx + xTCiIX + lambda_eye, xTCiPi) \n",
    "            # Resuelve para Yi = ((xTx + xT(Cu-I)X) + lambda*I)^-1)xTCiPi\n",
    "    \n",
    "    return X, Y.T \n"
   ]
  },
  {
   "cell_type": "markdown",
   "metadata": {},
   "source": [
    "Intentemos diez iteraciones para verificar que el codigo funciona, tomando 20 factores latentes junto con un coefiencte de confianza de 15 y una regularización de 0.1. "
   ]
  },
  {
   "cell_type": "code",
   "execution_count": 25,
   "metadata": {},
   "outputs": [
    {
     "name": "stdout",
     "output_type": "stream",
     "text": [
      "\n",
      "Inicia nuestro ALS:  2020-11-15 12:21:19.509093\n",
      "Tiempo en completarse las 10 iteraciones:  0:04:24.727550\n"
     ]
    }
   ],
   "source": [
    "tiempo0 = datetime.datetime.now()\n",
    "print('\\nInicia nuestro ALS: ', tiempo0)\n",
    "\n",
    "user_vecs, item_vecs = implicit_con_ALS(CE, lambda_val = 0.1, alpha = 15, itera = 10, factores = 20)\n",
    "\n",
    "print('Tiempo en completarse las 10 iteraciones: ', datetime.datetime.now()-tiempo0)"
   ]
  },
  {
   "cell_type": "markdown",
   "metadata": {},
   "source": [
    "Podemos ver los ratings para un usuario dado tomando el producto punto entre los vectores de usuario e item (U y V):  "
   ]
  },
  {
   "cell_type": "code",
   "execution_count": 26,
   "metadata": {},
   "outputs": [
    {
     "data": {
      "text/plain": [
       "array([ 0.12088319,  0.02528647,  0.01163801,  0.01294093, -0.02575397])"
      ]
     },
     "execution_count": 26,
     "metadata": {},
     "output_type": "execute_result"
    }
   ],
   "source": [
    "user_vecs[0,:].dot(item_vecs).toarray()[0,:5]"
   ]
  },
  {
   "cell_type": "code",
   "execution_count": 27,
   "metadata": {},
   "outputs": [
    {
     "data": {
      "text/plain": [
       "array([ 0.12088319,  0.02528647,  0.01163801, ...,  0.        ,\n",
       "       -0.00832481,  0.00133633])"
      ]
     },
     "execution_count": 27,
     "metadata": {},
     "output_type": "execute_result"
    }
   ],
   "source": [
    "user_vecs[0,:].dot(item_vecs).toarray()[0,:]"
   ]
  },
  {
   "cell_type": "markdown",
   "metadata": {},
   "source": [
    "Estos son los valores de preferencia estimados para el primer usuario sobre los primeros 5 items, de un total de 3664 en stock. \n",
    "\n",
    "### Pregunta\n",
    "Cuál es el item con una mayor preferencia sobre todo el stock de productos?\n"
   ]
  },
  {
   "cell_type": "code",
   "execution_count": 28,
   "metadata": {},
   "outputs": [],
   "source": [
    "interx = user_vecs.dot(item_vecs).toarray()"
   ]
  },
  {
   "cell_type": "code",
   "execution_count": 29,
   "metadata": {},
   "outputs": [],
   "source": [
    "#Calcula el promedio para los 3.664 productos\n",
    "promedio_producto = interx.mean(axis=0)"
   ]
  },
  {
   "cell_type": "code",
   "execution_count": 30,
   "metadata": {},
   "outputs": [
    {
     "data": {
      "text/plain": [
       "array([0.39121465, 0.21428615, 0.1536048 , ..., 0.        , 0.01193986,\n",
       "       0.00397448])"
      ]
     },
     "execution_count": 30,
     "metadata": {},
     "output_type": "execute_result"
    }
   ],
   "source": [
    "promedio_producto"
   ]
  },
  {
   "cell_type": "code",
   "execution_count": 32,
   "metadata": {},
   "outputs": [],
   "source": [
    "#posición producto preferido\n",
    "producto_preferido = np.argmax(promedio_producto)"
   ]
  },
  {
   "cell_type": "code",
   "execution_count": 33,
   "metadata": {
    "scrolled": true
   },
   "outputs": [
    {
     "data": {
      "text/plain": [
       "0.6696016333458504"
      ]
     },
     "execution_count": 33,
     "metadata": {},
     "output_type": "execute_result"
    }
   ],
   "source": [
    "#Valor preferencia del producto preferido\n",
    "promedio_producto[producto_preferido]"
   ]
  },
  {
   "cell_type": "code",
   "execution_count": 34,
   "metadata": {},
   "outputs": [
    {
     "data": {
      "text/html": [
       "<div>\n",
       "<style scoped>\n",
       "    .dataframe tbody tr th:only-of-type {\n",
       "        vertical-align: middle;\n",
       "    }\n",
       "\n",
       "    .dataframe tbody tr th {\n",
       "        vertical-align: top;\n",
       "    }\n",
       "\n",
       "    .dataframe thead th {\n",
       "        text-align: right;\n",
       "    }\n",
       "</style>\n",
       "<table border=\"1\" class=\"dataframe\">\n",
       "  <thead>\n",
       "    <tr style=\"text-align: right;\">\n",
       "      <th></th>\n",
       "      <th>StockCode</th>\n",
       "      <th>Description</th>\n",
       "    </tr>\n",
       "  </thead>\n",
       "  <tbody>\n",
       "    <tr>\n",
       "      <th>192</th>\n",
       "      <td>22969</td>\n",
       "      <td>HOMEMADE JAM SCENTED CANDLES</td>\n",
       "    </tr>\n",
       "  </tbody>\n",
       "</table>\n",
       "</div>"
      ],
      "text/plain": [
       "    StockCode                   Description\n",
       "192     22969  HOMEMADE JAM SCENTED CANDLES"
      ]
     },
     "execution_count": 34,
     "metadata": {},
     "output_type": "execute_result"
    }
   ],
   "source": [
    "# Producto preferido\n",
    "items_T[items_T['StockCode']==str(items[producto_preferido])]"
   ]
  },
  {
   "cell_type": "markdown",
   "metadata": {},
   "source": [
    "\n",
    "#### Producto preferido\n",
    "\n",
    "El producto preferido es \"HOMEMADE JAM SCENTED CANDLES\" con un rating de 0.669"
   ]
  },
  {
   "cell_type": "markdown",
   "metadata": {},
   "source": [
    "## 3. Implicit: Implementacion óptima del ALS\n",
    "\n",
    "Hasta ahora no hemos indagando en la convergencia del modelo, lo cual puede tomar más tiempo, y por eso mismo, es recomendable hacer uso de un código optimizado. \n",
    "\n",
    "Hasta el momento hacemos uso de bastantes bucles y no tomamos ventaja del hecho de que el algoritmo es paralelizable, pues cada iteración se puede realizar sobre los vectores de item o de usuario de manera independiente. Para ello podemos hacer uso de la versión de ALS para Python (utilizando Cython) que paraleliza el codigo entre distintos procesadores. Antes tenemos que instalar la bilbioteca `implicit`. \n",
    "\n",
    "Para mayores detalles, puede investigar: https://pypi.org/project/implicit/"
   ]
  },
  {
   "cell_type": "markdown",
   "metadata": {},
   "source": [
    "Para instalarlo desde el prompt de Anaconda (https://anaconda.org/conda-forge/implicit):\n",
    "\n",
    "`conda install -c conda-forge implicit` \n",
    "\n",
    "También debemos chequear que la version de `scipy` sea 0.16 o posterior."
   ]
  },
  {
   "cell_type": "code",
   "execution_count": 35,
   "metadata": {},
   "outputs": [
    {
     "data": {
      "text/plain": [
       "'1.4.1'"
      ]
     },
     "execution_count": 35,
     "metadata": {},
     "output_type": "execute_result"
    }
   ],
   "source": [
    "import scipy\n",
    "scipy.__version__"
   ]
  },
  {
   "cell_type": "code",
   "execution_count": 36,
   "metadata": {},
   "outputs": [],
   "source": [
    "import implicit"
   ]
  },
  {
   "cell_type": "markdown",
   "metadata": {},
   "source": [
    "En esta versión no se hace uso explícito del parametro $\\alpha$ que utilizamos para ponderar la confianza de los ratings. Este paso lo debemos hacer nosotros antes de introudcir el input. También necesitamos declarar el tipo de la matriz como *double* para ejecutar la función de ALS."
   ]
  },
  {
   "cell_type": "code",
   "execution_count": 37,
   "metadata": {},
   "outputs": [
    {
     "name": "stderr",
     "output_type": "stream",
     "text": [
      "This method is deprecated. Please use the AlternatingLeastSquares class instead\n",
      "WARNING:root:OpenBLAS detected. Its highly recommend to set the environment variable 'export OPENBLAS_NUM_THREADS=1' to disable its internal multithreading\n"
     ]
    },
    {
     "data": {
      "application/vnd.jupyter.widget-view+json": {
       "model_id": "5e3074110b374aa1b86a819cb9b8c566",
       "version_major": 2,
       "version_minor": 0
      },
      "text/plain": [
       "HBox(children=(HTML(value=''), FloatProgress(value=0.0, max=50.0), HTML(value='')))"
      ]
     },
     "metadata": {},
     "output_type": "display_data"
    },
    {
     "name": "stdout",
     "output_type": "stream",
     "text": [
      "\n"
     ]
    }
   ],
   "source": [
    "alpha = 15\n",
    "user_vecs, item_vecs = implicit.alternating_least_squares((CE*alpha).astype('double'), \n",
    "                                                          factors=20, \n",
    "                                                          regularization = 0.1, \n",
    "                                                          iterations = 50)\n"
   ]
  },
  {
   "cell_type": "markdown",
   "metadata": {},
   "source": [
    "Con esta implementación de `implicit` conseguimos unas mejores predicciones tras utilizar un mayor número de iteraciones y conseguir una mejor convergencia del modelo. Pero ahora veamos cómo medimos el desempeño del modelo.\n",
    "\n",
    "\n",
    "## 4. Evaluación del sistema de recomendación\n",
    "\n",
    "Recordemos que nuestro conjunto de entrenamiento había dejado por fuera el 20% de las observaciones con ventas. Ahora vamos a evaluar el desempeño del modelo sobre este 20%. Específicamente debemos contrastar si las recomendaciones obtenidas por nuestro sistema cazan con los items que los usuarios terminaron comprando. \n",
    "\n",
    "Una métrica muy usual es el Area bajo la Curva ROC (Receiver Operating Characteristic), o AUC. Una mayor area significa que los items recomendados en las posiciones altas de la lista de recomendación terminan siendo comprados por los usuarios. En esta parte implementaremos el AUC para evaluar la calidad del ranking de nuestras recomendaciones.\n",
    "\n",
    "El AUC se consigue al graficar la tasa de verdaderos positivos (TPR) contra la tasa de falsos positivos (FPR) para todos los umbrales de decisión, dadas por:\n",
    "\\begin{equation}\n",
    "\\label{tpr}\n",
    "TPR=\\frac{TP}{TP+FN}  \n",
    "\\end{equation}\t  \n",
    "\\begin{equation}\n",
    "\\label{fpr}\n",
    "FPR=\\frac{FP}{FP+TN}  \n",
    "\\end{equation}\n",
    "\n",
    "\n",
    "Para ello implementamos una función que calcule el AUC para cualquier usuario que tenga al menos un item en el conjunto de validación. Como benchmark de comparación tomamos el AUC que se hubiera obtenido si se recomendaran los items más populares. Con este fin, utilizamos la biblioteca Scikit-learn para calcular las tasas TPR y FPR."
   ]
  },
  {
   "cell_type": "code",
   "execution_count": 38,
   "metadata": {},
   "outputs": [],
   "source": [
    "from sklearn import metrics"
   ]
  },
  {
   "cell_type": "code",
   "execution_count": 39,
   "metadata": {},
   "outputs": [],
   "source": [
    "def auc_score(preds, prueba):\n",
    "    '''\n",
    "    Esta funcion obtiene el AUC. \n",
    "    Input:\n",
    "    parameters:\n",
    "    preds: las predicciones del sistema\n",
    "    prueba: las ventas verdaderas\n",
    "    Output:\n",
    "    AUC\n",
    "    '''\n",
    "    \n",
    "    fpr, tpr, umbrales = metrics.roc_curve(prueba, preds)\n",
    "    return metrics.auc(fpr, tpr)   "
   ]
  },
  {
   "cell_type": "code",
   "execution_count": 40,
   "metadata": {},
   "outputs": [
    {
     "data": {
      "text/plain": [
       "array([0., 0., 0., 0., 0., 0., 0., 0., 0., 0., 0., 0., 0., 0., 0., 0., 0.,\n",
       "       0., 0., 0., 0., 0., 0., 0., 0., 0., 0., 0., 0., 0., 0., 0., 0., 0.,\n",
       "       0., 0., 0., 0., 0., 0., 0., 0., 0., 0., 0., 0., 0., 0., 0., 0., 0.,\n",
       "       0., 0., 0., 0., 0., 0., 0., 0., 0., 0., 0., 0., 0., 0., 0., 0., 1.,\n",
       "       1., 1., 1., 1., 1., 1., 1., 1., 1., 1., 1.])"
      ]
     },
     "execution_count": 40,
     "metadata": {},
     "output_type": "execute_result"
    }
   ],
   "source": [
    "np.concatenate((np.zeros(67),np.ones(12)))"
   ]
  },
  {
   "cell_type": "code",
   "execution_count": 41,
   "metadata": {},
   "outputs": [
    {
     "data": {
      "text/plain": [
       "0.74"
      ]
     },
     "execution_count": 41,
     "metadata": {},
     "output_type": "execute_result"
    }
   ],
   "source": [
    "prueba=np.concatenate((np.zeros(54),np.ones(25)))\n",
    "preds=np.concatenate((np.zeros(67),np.ones(12)))\n",
    "fpr, tpr, umbrales = metrics.roc_curve(prueba, preds)\n",
    "metrics.auc(fpr, tpr)"
   ]
  },
  {
   "cell_type": "markdown",
   "metadata": {},
   "source": [
    "Ahora utilizamos esta función para calcular el AUC para cada usuario en el conjunto de validación (que coinciden con las observaciones enmascaradas del conjunto de entrenamiento). También calculamos el AUC para los items más populares."
   ]
  },
  {
   "cell_type": "code",
   "execution_count": 42,
   "metadata": {},
   "outputs": [],
   "source": [
    "def AUC_val(CE, users_V, preds, CV):\n",
    "    '''\n",
    "    Esta funcion calcula el AUC medio por usuario para todo usuario en el conjunto de validacion\n",
    "    Input:\n",
    "    CE: Conjunto de entrenamiento con un porcentaje de las interacciones originales enamscaradas\n",
    "    preds: la matriz con las predicciones de los ratings para cada par usuario-item (lista\n",
    "    con vectores de usuario y vectores de items)\n",
    "    users_V: indices de los usuarios de validacion\n",
    "    CV: conjunto de validacion \n",
    "    Output:\n",
    "    AUC medio del CV para las interacciones usuario-item y para los items más populares\n",
    "    '''\n",
    "    \n",
    "    # Inicializamos la lista para guardar el AUC de validacion \n",
    "    rec_auc = [] \n",
    "    # y el AUC para la recomendación por popularidad\n",
    "    pop_auc = [] \n",
    "    \n",
    "    # Tomamos la suma de interacciones por item para encontrar lo más popular\n",
    "    pop_items = np.array(CV.sum(axis = 0)).reshape(-1) \n",
    "    item_vecs = preds[1]\n",
    "    \n",
    "    for user in users_V: \n",
    "        user_i = CE[user,:].toarray().reshape(-1) # usuario de validacion\n",
    "        user_val = np.where(user_i == 0) # \n",
    "        \n",
    "        # Toma la prediccion para el usuario-item\n",
    "        user_vec = preds[0][user,:]\n",
    "        pred = user_vec.dot(item_vecs).toarray()[0,user_val].reshape(-1)\n",
    "        \n",
    "        # Selecciona los ratings estimados para el usuario \n",
    "        actual = CV[user,:].toarray()[0,user_val].reshape(-1) \n",
    "        \n",
    "        # Toma los pares con interacciones binarias de los datos originales\n",
    "        pop = pop_items[user_val] # Popularidad del item\n",
    "        rec_auc.append(auc_score(pred, actual)) # Calcula y guarda el AUC para el ususario\n",
    "        pop_auc.append(auc_score(pop, actual)) # Calcula el AUC por popularidad\n",
    "\n",
    "    \n",
    "    return float('%.3f'%np.mean(rec_auc)), float('%.3f'%np.mean(pop_auc))  \n",
    "   # Devuelve el AUC medio para validacion y por popularidad\n"
   ]
  },
  {
   "cell_type": "markdown",
   "metadata": {},
   "source": [
    "Ahora podemos usar la funcion para evaluar el desempeño de nuestro sistema. Para ello, debemos tomar la salida de nuestra funcion ALS y pasarla a formato de csr_matrix, y trasponer los vectores de items. "
   ]
  },
  {
   "cell_type": "code",
   "execution_count": 43,
   "metadata": {},
   "outputs": [
    {
     "data": {
      "text/plain": [
       "(0.869, 0.814)"
      ]
     },
     "execution_count": 43,
     "metadata": {},
     "output_type": "execute_result"
    }
   ],
   "source": [
    "AUC_val(CE, users_V, [sparse.csr_matrix(user_vecs), sparse.csr_matrix(item_vecs.T)], CV)\n"
   ]
  },
  {
   "cell_type": "code",
   "execution_count": 47,
   "metadata": {},
   "outputs": [
    {
     "name": "stdout",
     "output_type": "stream",
     "text": [
      "2020-11-15 12:50:30.251171\n"
     ]
    }
   ],
   "source": [
    "print(datetime.datetime.now())"
   ]
  },
  {
   "cell_type": "markdown",
   "metadata": {},
   "source": [
    "Podemos ver que nuestro sistema de recomendación es al menos mejor que la recomendación basada en popularidad, con un AUC de 0.87 frente a uno de 0.814. \n",
    "\n",
    "### Ejercicio práctico\n",
    "Revise su algoritmo e intente optimizar los hiper-parámetros para mejorar el valor del AUC. Puede intentar implementar validación cruzada además de la prueba para controlar el riesgo de sobre-ajuste.\n"
   ]
  },
  {
   "cell_type": "code",
   "execution_count": 64,
   "metadata": {},
   "outputs": [
    {
     "name": "stderr",
     "output_type": "stream",
     "text": [
      "WARNING:implicit:This method is deprecated. Please use the AlternatingLeastSquares class instead\n"
     ]
    },
    {
     "name": "stdout",
     "output_type": "stream",
     "text": [
      "2020-11-15 14:50:07.576023\n"
     ]
    },
    {
     "data": {
      "application/vnd.jupyter.widget-view+json": {
       "model_id": "c936c673e4444b0d99aada008144e955",
       "version_major": 2,
       "version_minor": 0
      },
      "text/plain": [
       "HBox(children=(HTML(value=''), FloatProgress(value=0.0, max=50.0), HTML(value='')))"
      ]
     },
     "metadata": {},
     "output_type": "display_data"
    },
    {
     "name": "stdout",
     "output_type": "stream",
     "text": [
      "\n"
     ]
    },
    {
     "name": "stderr",
     "output_type": "stream",
     "text": [
      "WARNING:implicit:This method is deprecated. Please use the AlternatingLeastSquares class instead\n"
     ]
    },
    {
     "name": "stdout",
     "output_type": "stream",
     "text": [
      "Factor=10 - Alfa= 5 - Regularizacion=0.025 - iteracion = 10 - Evaluacion = (0.872, 0.814)\n",
      "2020-11-15 14:50:24.715615\n",
      "2020-11-15 14:50:24.715720\n"
     ]
    },
    {
     "data": {
      "application/vnd.jupyter.widget-view+json": {
       "model_id": "1d2a4fa807dd4678905b0f8b0e7456ea",
       "version_major": 2,
       "version_minor": 0
      },
      "text/plain": [
       "HBox(children=(HTML(value=''), FloatProgress(value=0.0, max=50.0), HTML(value='')))"
      ]
     },
     "metadata": {},
     "output_type": "display_data"
    },
    {
     "name": "stdout",
     "output_type": "stream",
     "text": [
      "\n"
     ]
    },
    {
     "name": "stderr",
     "output_type": "stream",
     "text": [
      "WARNING:implicit:This method is deprecated. Please use the AlternatingLeastSquares class instead\n"
     ]
    },
    {
     "name": "stdout",
     "output_type": "stream",
     "text": [
      "Factor=10 - Alfa= 5 - Regularizacion=0.025 - iteracion = 25 - Evaluacion = (0.872, 0.814)\n",
      "2020-11-15 14:50:42.091137\n",
      "2020-11-15 14:50:42.091243\n"
     ]
    },
    {
     "data": {
      "application/vnd.jupyter.widget-view+json": {
       "model_id": "e8ef0a82855f46a082c7c101cc0eab0e",
       "version_major": 2,
       "version_minor": 0
      },
      "text/plain": [
       "HBox(children=(HTML(value=''), FloatProgress(value=0.0, max=50.0), HTML(value='')))"
      ]
     },
     "metadata": {},
     "output_type": "display_data"
    },
    {
     "name": "stdout",
     "output_type": "stream",
     "text": [
      "\n"
     ]
    },
    {
     "name": "stderr",
     "output_type": "stream",
     "text": [
      "WARNING:implicit:This method is deprecated. Please use the AlternatingLeastSquares class instead\n"
     ]
    },
    {
     "name": "stdout",
     "output_type": "stream",
     "text": [
      "Factor=10 - Alfa= 5 - Regularizacion=0.025 - iteracion = 50 - Evaluacion = (0.871, 0.814)\n",
      "2020-11-15 14:50:59.117397\n",
      "2020-11-15 14:50:59.117503\n"
     ]
    },
    {
     "data": {
      "application/vnd.jupyter.widget-view+json": {
       "model_id": "6ed84ef6dbeb494b8b09d3be55cdf243",
       "version_major": 2,
       "version_minor": 0
      },
      "text/plain": [
       "HBox(children=(HTML(value=''), FloatProgress(value=0.0, max=50.0), HTML(value='')))"
      ]
     },
     "metadata": {},
     "output_type": "display_data"
    },
    {
     "name": "stdout",
     "output_type": "stream",
     "text": [
      "\n"
     ]
    },
    {
     "name": "stderr",
     "output_type": "stream",
     "text": [
      "WARNING:implicit:This method is deprecated. Please use the AlternatingLeastSquares class instead\n"
     ]
    },
    {
     "name": "stdout",
     "output_type": "stream",
     "text": [
      "Factor=10 - Alfa= 5 - Regularizacion=0.025 - iteracion = 100 - Evaluacion = (0.871, 0.814)\n",
      "2020-11-15 14:51:16.066141\n",
      "2020-11-15 14:51:16.066248\n"
     ]
    },
    {
     "data": {
      "application/vnd.jupyter.widget-view+json": {
       "model_id": "baf2be681a7a4bfba5fdda9252c39b24",
       "version_major": 2,
       "version_minor": 0
      },
      "text/plain": [
       "HBox(children=(HTML(value=''), FloatProgress(value=0.0, max=50.0), HTML(value='')))"
      ]
     },
     "metadata": {},
     "output_type": "display_data"
    },
    {
     "name": "stdout",
     "output_type": "stream",
     "text": [
      "\n"
     ]
    },
    {
     "name": "stderr",
     "output_type": "stream",
     "text": [
      "WARNING:implicit:This method is deprecated. Please use the AlternatingLeastSquares class instead\n"
     ]
    },
    {
     "name": "stdout",
     "output_type": "stream",
     "text": [
      "Factor=10 - Alfa= 5 - Regularizacion=0.025 - iteracion = 200 - Evaluacion = (0.871, 0.814)\n",
      "2020-11-15 14:51:34.532649\n",
      "2020-11-15 14:51:34.532753\n"
     ]
    },
    {
     "data": {
      "application/vnd.jupyter.widget-view+json": {
       "model_id": "7d41a1c09cf4420bb4ef2d15613af52c",
       "version_major": 2,
       "version_minor": 0
      },
      "text/plain": [
       "HBox(children=(HTML(value=''), FloatProgress(value=0.0, max=50.0), HTML(value='')))"
      ]
     },
     "metadata": {},
     "output_type": "display_data"
    },
    {
     "name": "stdout",
     "output_type": "stream",
     "text": [
      "\n"
     ]
    },
    {
     "name": "stderr",
     "output_type": "stream",
     "text": [
      "WARNING:implicit:This method is deprecated. Please use the AlternatingLeastSquares class instead\n"
     ]
    },
    {
     "name": "stdout",
     "output_type": "stream",
     "text": [
      "Factor=10 - Alfa= 5 - Regularizacion=0.05 - iteracion = 10 - Evaluacion = (0.871, 0.814)\n",
      "2020-11-15 14:51:52.154195\n",
      "2020-11-15 14:51:52.154325\n"
     ]
    },
    {
     "data": {
      "application/vnd.jupyter.widget-view+json": {
       "model_id": "8f66b9b323984ef39454af7c8df4598f",
       "version_major": 2,
       "version_minor": 0
      },
      "text/plain": [
       "HBox(children=(HTML(value=''), FloatProgress(value=0.0, max=50.0), HTML(value='')))"
      ]
     },
     "metadata": {},
     "output_type": "display_data"
    },
    {
     "name": "stdout",
     "output_type": "stream",
     "text": [
      "\n"
     ]
    },
    {
     "name": "stderr",
     "output_type": "stream",
     "text": [
      "WARNING:implicit:This method is deprecated. Please use the AlternatingLeastSquares class instead\n"
     ]
    },
    {
     "name": "stdout",
     "output_type": "stream",
     "text": [
      "Factor=10 - Alfa= 5 - Regularizacion=0.05 - iteracion = 25 - Evaluacion = (0.87, 0.814)\n",
      "2020-11-15 14:52:09.863152\n",
      "2020-11-15 14:52:09.863252\n"
     ]
    },
    {
     "data": {
      "application/vnd.jupyter.widget-view+json": {
       "model_id": "f2ef6231608840ec9f265f2c5541855a",
       "version_major": 2,
       "version_minor": 0
      },
      "text/plain": [
       "HBox(children=(HTML(value=''), FloatProgress(value=0.0, max=50.0), HTML(value='')))"
      ]
     },
     "metadata": {},
     "output_type": "display_data"
    },
    {
     "name": "stdout",
     "output_type": "stream",
     "text": [
      "\n"
     ]
    },
    {
     "name": "stderr",
     "output_type": "stream",
     "text": [
      "WARNING:implicit:This method is deprecated. Please use the AlternatingLeastSquares class instead\n"
     ]
    },
    {
     "name": "stdout",
     "output_type": "stream",
     "text": [
      "Factor=10 - Alfa= 5 - Regularizacion=0.05 - iteracion = 50 - Evaluacion = (0.87, 0.814)\n",
      "2020-11-15 14:52:27.588594\n",
      "2020-11-15 14:52:27.588695\n"
     ]
    },
    {
     "data": {
      "application/vnd.jupyter.widget-view+json": {
       "model_id": "aaa1f9726f404bbe9e89163c007d6efc",
       "version_major": 2,
       "version_minor": 0
      },
      "text/plain": [
       "HBox(children=(HTML(value=''), FloatProgress(value=0.0, max=50.0), HTML(value='')))"
      ]
     },
     "metadata": {},
     "output_type": "display_data"
    },
    {
     "name": "stdout",
     "output_type": "stream",
     "text": [
      "\n"
     ]
    },
    {
     "name": "stderr",
     "output_type": "stream",
     "text": [
      "WARNING:implicit:This method is deprecated. Please use the AlternatingLeastSquares class instead\n"
     ]
    },
    {
     "name": "stdout",
     "output_type": "stream",
     "text": [
      "Factor=10 - Alfa= 5 - Regularizacion=0.05 - iteracion = 100 - Evaluacion = (0.87, 0.814)\n",
      "2020-11-15 14:52:45.257192\n",
      "2020-11-15 14:52:45.258448\n"
     ]
    },
    {
     "data": {
      "application/vnd.jupyter.widget-view+json": {
       "model_id": "31bc051cc8a945e0b726e5bbb443dfa9",
       "version_major": 2,
       "version_minor": 0
      },
      "text/plain": [
       "HBox(children=(HTML(value=''), FloatProgress(value=0.0, max=50.0), HTML(value='')))"
      ]
     },
     "metadata": {},
     "output_type": "display_data"
    },
    {
     "name": "stdout",
     "output_type": "stream",
     "text": [
      "\n"
     ]
    },
    {
     "name": "stderr",
     "output_type": "stream",
     "text": [
      "WARNING:implicit:This method is deprecated. Please use the AlternatingLeastSquares class instead\n"
     ]
    },
    {
     "name": "stdout",
     "output_type": "stream",
     "text": [
      "Factor=10 - Alfa= 5 - Regularizacion=0.05 - iteracion = 200 - Evaluacion = (0.87, 0.814)\n",
      "2020-11-15 14:53:03.317319\n",
      "2020-11-15 14:53:03.317483\n"
     ]
    },
    {
     "data": {
      "application/vnd.jupyter.widget-view+json": {
       "model_id": "4e28fa2d2fc54c63afd954e1e57e9b00",
       "version_major": 2,
       "version_minor": 0
      },
      "text/plain": [
       "HBox(children=(HTML(value=''), FloatProgress(value=0.0, max=50.0), HTML(value='')))"
      ]
     },
     "metadata": {},
     "output_type": "display_data"
    },
    {
     "name": "stdout",
     "output_type": "stream",
     "text": [
      "\n"
     ]
    },
    {
     "name": "stderr",
     "output_type": "stream",
     "text": [
      "WARNING:implicit:This method is deprecated. Please use the AlternatingLeastSquares class instead\n"
     ]
    },
    {
     "name": "stdout",
     "output_type": "stream",
     "text": [
      "Factor=10 - Alfa= 5 - Regularizacion=0.1 - iteracion = 10 - Evaluacion = (0.871, 0.814)\n",
      "2020-11-15 14:53:21.361006\n",
      "2020-11-15 14:53:21.361128\n"
     ]
    },
    {
     "data": {
      "application/vnd.jupyter.widget-view+json": {
       "model_id": "9ed13f86e6e94a2fa950280191ad3134",
       "version_major": 2,
       "version_minor": 0
      },
      "text/plain": [
       "HBox(children=(HTML(value=''), FloatProgress(value=0.0, max=50.0), HTML(value='')))"
      ]
     },
     "metadata": {},
     "output_type": "display_data"
    },
    {
     "name": "stdout",
     "output_type": "stream",
     "text": [
      "\n"
     ]
    },
    {
     "name": "stderr",
     "output_type": "stream",
     "text": [
      "WARNING:implicit:This method is deprecated. Please use the AlternatingLeastSquares class instead\n"
     ]
    },
    {
     "name": "stdout",
     "output_type": "stream",
     "text": [
      "Factor=10 - Alfa= 5 - Regularizacion=0.1 - iteracion = 25 - Evaluacion = (0.871, 0.814)\n",
      "2020-11-15 14:53:39.099407\n",
      "2020-11-15 14:53:39.099581\n"
     ]
    },
    {
     "data": {
      "application/vnd.jupyter.widget-view+json": {
       "model_id": "9ac5258686de4b94ae94fe76cb35cb47",
       "version_major": 2,
       "version_minor": 0
      },
      "text/plain": [
       "HBox(children=(HTML(value=''), FloatProgress(value=0.0, max=50.0), HTML(value='')))"
      ]
     },
     "metadata": {},
     "output_type": "display_data"
    },
    {
     "name": "stdout",
     "output_type": "stream",
     "text": [
      "\n"
     ]
    },
    {
     "name": "stderr",
     "output_type": "stream",
     "text": [
      "WARNING:implicit:This method is deprecated. Please use the AlternatingLeastSquares class instead\n"
     ]
    },
    {
     "name": "stdout",
     "output_type": "stream",
     "text": [
      "Factor=10 - Alfa= 5 - Regularizacion=0.1 - iteracion = 50 - Evaluacion = (0.871, 0.814)\n",
      "2020-11-15 14:53:55.799914\n",
      "2020-11-15 14:53:55.800020\n"
     ]
    },
    {
     "data": {
      "application/vnd.jupyter.widget-view+json": {
       "model_id": "26ad8fc75a9d4df4bc1bd51fd283f056",
       "version_major": 2,
       "version_minor": 0
      },
      "text/plain": [
       "HBox(children=(HTML(value=''), FloatProgress(value=0.0, max=50.0), HTML(value='')))"
      ]
     },
     "metadata": {},
     "output_type": "display_data"
    },
    {
     "name": "stdout",
     "output_type": "stream",
     "text": [
      "\n"
     ]
    },
    {
     "name": "stderr",
     "output_type": "stream",
     "text": [
      "WARNING:implicit:This method is deprecated. Please use the AlternatingLeastSquares class instead\n"
     ]
    },
    {
     "name": "stdout",
     "output_type": "stream",
     "text": [
      "Factor=10 - Alfa= 5 - Regularizacion=0.1 - iteracion = 100 - Evaluacion = (0.871, 0.814)\n",
      "2020-11-15 14:54:12.300456\n",
      "2020-11-15 14:54:12.300564\n"
     ]
    },
    {
     "data": {
      "application/vnd.jupyter.widget-view+json": {
       "model_id": "4d3c32b3e745457bb89eff137ab5be82",
       "version_major": 2,
       "version_minor": 0
      },
      "text/plain": [
       "HBox(children=(HTML(value=''), FloatProgress(value=0.0, max=50.0), HTML(value='')))"
      ]
     },
     "metadata": {},
     "output_type": "display_data"
    },
    {
     "name": "stdout",
     "output_type": "stream",
     "text": [
      "\n"
     ]
    },
    {
     "name": "stderr",
     "output_type": "stream",
     "text": [
      "WARNING:implicit:This method is deprecated. Please use the AlternatingLeastSquares class instead\n"
     ]
    },
    {
     "name": "stdout",
     "output_type": "stream",
     "text": [
      "Factor=10 - Alfa= 5 - Regularizacion=0.1 - iteracion = 200 - Evaluacion = (0.87, 0.814)\n",
      "2020-11-15 14:54:29.351803\n",
      "2020-11-15 14:54:29.351906\n"
     ]
    },
    {
     "data": {
      "application/vnd.jupyter.widget-view+json": {
       "model_id": "e57ff6eb88054b119f17e8756ec59f40",
       "version_major": 2,
       "version_minor": 0
      },
      "text/plain": [
       "HBox(children=(HTML(value=''), FloatProgress(value=0.0, max=50.0), HTML(value='')))"
      ]
     },
     "metadata": {},
     "output_type": "display_data"
    },
    {
     "name": "stdout",
     "output_type": "stream",
     "text": [
      "\n"
     ]
    },
    {
     "name": "stderr",
     "output_type": "stream",
     "text": [
      "WARNING:implicit:This method is deprecated. Please use the AlternatingLeastSquares class instead\n"
     ]
    },
    {
     "name": "stdout",
     "output_type": "stream",
     "text": [
      "Factor=10 - Alfa= 5 - Regularizacion=0.2 - iteracion = 10 - Evaluacion = (0.871, 0.814)\n",
      "2020-11-15 14:54:46.778327\n",
      "2020-11-15 14:54:46.778427\n"
     ]
    },
    {
     "data": {
      "application/vnd.jupyter.widget-view+json": {
       "model_id": "049a1bde3c0947ac9fb9297f909219ab",
       "version_major": 2,
       "version_minor": 0
      },
      "text/plain": [
       "HBox(children=(HTML(value=''), FloatProgress(value=0.0, max=50.0), HTML(value='')))"
      ]
     },
     "metadata": {},
     "output_type": "display_data"
    },
    {
     "name": "stdout",
     "output_type": "stream",
     "text": [
      "\n"
     ]
    },
    {
     "name": "stderr",
     "output_type": "stream",
     "text": [
      "WARNING:implicit:This method is deprecated. Please use the AlternatingLeastSquares class instead\n"
     ]
    },
    {
     "name": "stdout",
     "output_type": "stream",
     "text": [
      "Factor=10 - Alfa= 5 - Regularizacion=0.2 - iteracion = 25 - Evaluacion = (0.87, 0.814)\n",
      "2020-11-15 14:55:04.020917\n",
      "2020-11-15 14:55:04.021021\n"
     ]
    },
    {
     "data": {
      "application/vnd.jupyter.widget-view+json": {
       "model_id": "3b76a4422f3b43e2910725ef96ffa77f",
       "version_major": 2,
       "version_minor": 0
      },
      "text/plain": [
       "HBox(children=(HTML(value=''), FloatProgress(value=0.0, max=50.0), HTML(value='')))"
      ]
     },
     "metadata": {},
     "output_type": "display_data"
    },
    {
     "name": "stdout",
     "output_type": "stream",
     "text": [
      "\n"
     ]
    },
    {
     "name": "stderr",
     "output_type": "stream",
     "text": [
      "WARNING:implicit:This method is deprecated. Please use the AlternatingLeastSquares class instead\n"
     ]
    },
    {
     "name": "stdout",
     "output_type": "stream",
     "text": [
      "Factor=10 - Alfa= 5 - Regularizacion=0.2 - iteracion = 50 - Evaluacion = (0.87, 0.814)\n",
      "2020-11-15 14:55:22.363370\n",
      "2020-11-15 14:55:22.363474\n"
     ]
    },
    {
     "data": {
      "application/vnd.jupyter.widget-view+json": {
       "model_id": "57e89d9cc80b4273aca9a01f7dcc7951",
       "version_major": 2,
       "version_minor": 0
      },
      "text/plain": [
       "HBox(children=(HTML(value=''), FloatProgress(value=0.0, max=50.0), HTML(value='')))"
      ]
     },
     "metadata": {},
     "output_type": "display_data"
    },
    {
     "name": "stdout",
     "output_type": "stream",
     "text": [
      "\n"
     ]
    },
    {
     "name": "stderr",
     "output_type": "stream",
     "text": [
      "WARNING:implicit:This method is deprecated. Please use the AlternatingLeastSquares class instead\n"
     ]
    },
    {
     "name": "stdout",
     "output_type": "stream",
     "text": [
      "Factor=10 - Alfa= 5 - Regularizacion=0.2 - iteracion = 100 - Evaluacion = (0.869, 0.814)\n",
      "2020-11-15 14:55:40.971165\n",
      "2020-11-15 14:55:40.971263\n"
     ]
    },
    {
     "data": {
      "application/vnd.jupyter.widget-view+json": {
       "model_id": "9c3b2b18a21c41898a37d6773571ec92",
       "version_major": 2,
       "version_minor": 0
      },
      "text/plain": [
       "HBox(children=(HTML(value=''), FloatProgress(value=0.0, max=50.0), HTML(value='')))"
      ]
     },
     "metadata": {},
     "output_type": "display_data"
    },
    {
     "name": "stdout",
     "output_type": "stream",
     "text": [
      "\n"
     ]
    },
    {
     "name": "stderr",
     "output_type": "stream",
     "text": [
      "WARNING:implicit:This method is deprecated. Please use the AlternatingLeastSquares class instead\n"
     ]
    },
    {
     "name": "stdout",
     "output_type": "stream",
     "text": [
      "Factor=10 - Alfa= 5 - Regularizacion=0.2 - iteracion = 200 - Evaluacion = (0.87, 0.814)\n",
      "2020-11-15 14:55:58.365262\n",
      "2020-11-15 14:55:58.365357\n"
     ]
    },
    {
     "data": {
      "application/vnd.jupyter.widget-view+json": {
       "model_id": "9a8c2e0da34948a38e8fb524553dd3f4",
       "version_major": 2,
       "version_minor": 0
      },
      "text/plain": [
       "HBox(children=(HTML(value=''), FloatProgress(value=0.0, max=50.0), HTML(value='')))"
      ]
     },
     "metadata": {},
     "output_type": "display_data"
    },
    {
     "name": "stdout",
     "output_type": "stream",
     "text": [
      "\n"
     ]
    },
    {
     "name": "stderr",
     "output_type": "stream",
     "text": [
      "WARNING:implicit:This method is deprecated. Please use the AlternatingLeastSquares class instead\n"
     ]
    },
    {
     "name": "stdout",
     "output_type": "stream",
     "text": [
      "Factor=10 - Alfa= 5 - Regularizacion=0.4 - iteracion = 10 - Evaluacion = (0.871, 0.814)\n",
      "2020-11-15 14:56:15.211771\n",
      "2020-11-15 14:56:15.211865\n"
     ]
    },
    {
     "data": {
      "application/vnd.jupyter.widget-view+json": {
       "model_id": "8540c43e04614ca1b124aff0c7117cbf",
       "version_major": 2,
       "version_minor": 0
      },
      "text/plain": [
       "HBox(children=(HTML(value=''), FloatProgress(value=0.0, max=50.0), HTML(value='')))"
      ]
     },
     "metadata": {},
     "output_type": "display_data"
    },
    {
     "name": "stdout",
     "output_type": "stream",
     "text": [
      "\n"
     ]
    },
    {
     "name": "stderr",
     "output_type": "stream",
     "text": [
      "WARNING:implicit:This method is deprecated. Please use the AlternatingLeastSquares class instead\n"
     ]
    },
    {
     "name": "stdout",
     "output_type": "stream",
     "text": [
      "Factor=10 - Alfa= 5 - Regularizacion=0.4 - iteracion = 25 - Evaluacion = (0.87, 0.814)\n",
      "2020-11-15 14:56:32.202565\n",
      "2020-11-15 14:56:32.202686\n"
     ]
    },
    {
     "data": {
      "application/vnd.jupyter.widget-view+json": {
       "model_id": "a038e3e24d434304adcc5e0b468e351b",
       "version_major": 2,
       "version_minor": 0
      },
      "text/plain": [
       "HBox(children=(HTML(value=''), FloatProgress(value=0.0, max=50.0), HTML(value='')))"
      ]
     },
     "metadata": {},
     "output_type": "display_data"
    },
    {
     "name": "stdout",
     "output_type": "stream",
     "text": [
      "\n"
     ]
    },
    {
     "name": "stderr",
     "output_type": "stream",
     "text": [
      "WARNING:implicit:This method is deprecated. Please use the AlternatingLeastSquares class instead\n"
     ]
    },
    {
     "name": "stdout",
     "output_type": "stream",
     "text": [
      "Factor=10 - Alfa= 5 - Regularizacion=0.4 - iteracion = 50 - Evaluacion = (0.87, 0.814)\n",
      "2020-11-15 14:56:49.240360\n",
      "2020-11-15 14:56:49.240461\n"
     ]
    },
    {
     "data": {
      "application/vnd.jupyter.widget-view+json": {
       "model_id": "4d9f2c8fedf34ee185d0150f728b1e88",
       "version_major": 2,
       "version_minor": 0
      },
      "text/plain": [
       "HBox(children=(HTML(value=''), FloatProgress(value=0.0, max=50.0), HTML(value='')))"
      ]
     },
     "metadata": {},
     "output_type": "display_data"
    },
    {
     "name": "stdout",
     "output_type": "stream",
     "text": [
      "\n"
     ]
    },
    {
     "name": "stderr",
     "output_type": "stream",
     "text": [
      "WARNING:implicit:This method is deprecated. Please use the AlternatingLeastSquares class instead\n"
     ]
    },
    {
     "name": "stdout",
     "output_type": "stream",
     "text": [
      "Factor=10 - Alfa= 5 - Regularizacion=0.4 - iteracion = 100 - Evaluacion = (0.872, 0.814)\n",
      "2020-11-15 14:57:06.224855\n",
      "2020-11-15 14:57:06.224953\n"
     ]
    },
    {
     "data": {
      "application/vnd.jupyter.widget-view+json": {
       "model_id": "950d0fed744746a9ad36c81bd2b56bc7",
       "version_major": 2,
       "version_minor": 0
      },
      "text/plain": [
       "HBox(children=(HTML(value=''), FloatProgress(value=0.0, max=50.0), HTML(value='')))"
      ]
     },
     "metadata": {},
     "output_type": "display_data"
    },
    {
     "name": "stdout",
     "output_type": "stream",
     "text": [
      "\n"
     ]
    },
    {
     "name": "stderr",
     "output_type": "stream",
     "text": [
      "WARNING:implicit:This method is deprecated. Please use the AlternatingLeastSquares class instead\n"
     ]
    },
    {
     "name": "stdout",
     "output_type": "stream",
     "text": [
      "Factor=10 - Alfa= 5 - Regularizacion=0.4 - iteracion = 200 - Evaluacion = (0.869, 0.814)\n",
      "2020-11-15 14:57:23.159882\n",
      "2020-11-15 14:57:23.159986\n"
     ]
    },
    {
     "data": {
      "application/vnd.jupyter.widget-view+json": {
       "model_id": "ef445f9b5a9044e98c096c3bb0c0a22f",
       "version_major": 2,
       "version_minor": 0
      },
      "text/plain": [
       "HBox(children=(HTML(value=''), FloatProgress(value=0.0, max=50.0), HTML(value='')))"
      ]
     },
     "metadata": {},
     "output_type": "display_data"
    },
    {
     "name": "stdout",
     "output_type": "stream",
     "text": [
      "\n"
     ]
    },
    {
     "name": "stderr",
     "output_type": "stream",
     "text": [
      "WARNING:implicit:This method is deprecated. Please use the AlternatingLeastSquares class instead\n"
     ]
    },
    {
     "name": "stdout",
     "output_type": "stream",
     "text": [
      "Factor=10 - Alfa= 10 - Regularizacion=0.025 - iteracion = 10 - Evaluacion = (0.87, 0.814)\n",
      "2020-11-15 14:57:40.062976\n",
      "2020-11-15 14:57:40.063082\n"
     ]
    },
    {
     "data": {
      "application/vnd.jupyter.widget-view+json": {
       "model_id": "9eabffd993a441c6ab19cc3b7e8b14cf",
       "version_major": 2,
       "version_minor": 0
      },
      "text/plain": [
       "HBox(children=(HTML(value=''), FloatProgress(value=0.0, max=50.0), HTML(value='')))"
      ]
     },
     "metadata": {},
     "output_type": "display_data"
    },
    {
     "name": "stdout",
     "output_type": "stream",
     "text": [
      "\n"
     ]
    },
    {
     "name": "stderr",
     "output_type": "stream",
     "text": [
      "WARNING:implicit:This method is deprecated. Please use the AlternatingLeastSquares class instead\n"
     ]
    },
    {
     "name": "stdout",
     "output_type": "stream",
     "text": [
      "Factor=10 - Alfa= 10 - Regularizacion=0.025 - iteracion = 25 - Evaluacion = (0.871, 0.814)\n",
      "2020-11-15 14:57:57.341358\n",
      "2020-11-15 14:57:57.341489\n"
     ]
    },
    {
     "data": {
      "application/vnd.jupyter.widget-view+json": {
       "model_id": "a243031717a843d4bdfb5e4b1c91be1c",
       "version_major": 2,
       "version_minor": 0
      },
      "text/plain": [
       "HBox(children=(HTML(value=''), FloatProgress(value=0.0, max=50.0), HTML(value='')))"
      ]
     },
     "metadata": {},
     "output_type": "display_data"
    },
    {
     "name": "stdout",
     "output_type": "stream",
     "text": [
      "\n"
     ]
    },
    {
     "name": "stderr",
     "output_type": "stream",
     "text": [
      "WARNING:implicit:This method is deprecated. Please use the AlternatingLeastSquares class instead\n"
     ]
    },
    {
     "name": "stdout",
     "output_type": "stream",
     "text": [
      "Factor=10 - Alfa= 10 - Regularizacion=0.025 - iteracion = 50 - Evaluacion = (0.872, 0.814)\n",
      "2020-11-15 14:58:15.620221\n",
      "2020-11-15 14:58:15.620317\n"
     ]
    },
    {
     "data": {
      "application/vnd.jupyter.widget-view+json": {
       "model_id": "994ec9b768ee4bca93dd06e5db05cca3",
       "version_major": 2,
       "version_minor": 0
      },
      "text/plain": [
       "HBox(children=(HTML(value=''), FloatProgress(value=0.0, max=50.0), HTML(value='')))"
      ]
     },
     "metadata": {},
     "output_type": "display_data"
    },
    {
     "name": "stdout",
     "output_type": "stream",
     "text": [
      "\n"
     ]
    },
    {
     "name": "stderr",
     "output_type": "stream",
     "text": [
      "WARNING:implicit:This method is deprecated. Please use the AlternatingLeastSquares class instead\n"
     ]
    },
    {
     "name": "stdout",
     "output_type": "stream",
     "text": [
      "Factor=10 - Alfa= 10 - Regularizacion=0.025 - iteracion = 100 - Evaluacion = (0.872, 0.814)\n",
      "2020-11-15 14:58:32.968307\n",
      "2020-11-15 14:58:32.968457\n"
     ]
    },
    {
     "data": {
      "application/vnd.jupyter.widget-view+json": {
       "model_id": "74426685b16143b8bd56c3687e2aa80a",
       "version_major": 2,
       "version_minor": 0
      },
      "text/plain": [
       "HBox(children=(HTML(value=''), FloatProgress(value=0.0, max=50.0), HTML(value='')))"
      ]
     },
     "metadata": {},
     "output_type": "display_data"
    },
    {
     "name": "stdout",
     "output_type": "stream",
     "text": [
      "\n"
     ]
    },
    {
     "name": "stderr",
     "output_type": "stream",
     "text": [
      "WARNING:implicit:This method is deprecated. Please use the AlternatingLeastSquares class instead\n"
     ]
    },
    {
     "name": "stdout",
     "output_type": "stream",
     "text": [
      "Factor=10 - Alfa= 10 - Regularizacion=0.025 - iteracion = 200 - Evaluacion = (0.871, 0.814)\n",
      "2020-11-15 14:58:50.486197\n",
      "2020-11-15 14:58:50.486336\n"
     ]
    },
    {
     "data": {
      "application/vnd.jupyter.widget-view+json": {
       "model_id": "1f813771d9d142a4b8cb142d748ae000",
       "version_major": 2,
       "version_minor": 0
      },
      "text/plain": [
       "HBox(children=(HTML(value=''), FloatProgress(value=0.0, max=50.0), HTML(value='')))"
      ]
     },
     "metadata": {},
     "output_type": "display_data"
    },
    {
     "name": "stdout",
     "output_type": "stream",
     "text": [
      "\n"
     ]
    },
    {
     "name": "stderr",
     "output_type": "stream",
     "text": [
      "WARNING:implicit:This method is deprecated. Please use the AlternatingLeastSquares class instead\n"
     ]
    },
    {
     "name": "stdout",
     "output_type": "stream",
     "text": [
      "Factor=10 - Alfa= 10 - Regularizacion=0.05 - iteracion = 10 - Evaluacion = (0.87, 0.814)\n",
      "2020-11-15 14:59:07.925127\n",
      "2020-11-15 14:59:07.925217\n"
     ]
    },
    {
     "data": {
      "application/vnd.jupyter.widget-view+json": {
       "model_id": "c3a757e9e62d430aa5a36565a8f1bc0c",
       "version_major": 2,
       "version_minor": 0
      },
      "text/plain": [
       "HBox(children=(HTML(value=''), FloatProgress(value=0.0, max=50.0), HTML(value='')))"
      ]
     },
     "metadata": {},
     "output_type": "display_data"
    },
    {
     "name": "stdout",
     "output_type": "stream",
     "text": [
      "\n"
     ]
    },
    {
     "name": "stderr",
     "output_type": "stream",
     "text": [
      "WARNING:implicit:This method is deprecated. Please use the AlternatingLeastSquares class instead\n"
     ]
    },
    {
     "name": "stdout",
     "output_type": "stream",
     "text": [
      "Factor=10 - Alfa= 10 - Regularizacion=0.05 - iteracion = 25 - Evaluacion = (0.87, 0.814)\n",
      "2020-11-15 14:59:25.008193\n",
      "2020-11-15 14:59:25.008420\n"
     ]
    },
    {
     "data": {
      "application/vnd.jupyter.widget-view+json": {
       "model_id": "e06579192d4147809475338f7f87298a",
       "version_major": 2,
       "version_minor": 0
      },
      "text/plain": [
       "HBox(children=(HTML(value=''), FloatProgress(value=0.0, max=50.0), HTML(value='')))"
      ]
     },
     "metadata": {},
     "output_type": "display_data"
    },
    {
     "name": "stdout",
     "output_type": "stream",
     "text": [
      "\n"
     ]
    },
    {
     "name": "stderr",
     "output_type": "stream",
     "text": [
      "WARNING:implicit:This method is deprecated. Please use the AlternatingLeastSquares class instead\n"
     ]
    },
    {
     "name": "stdout",
     "output_type": "stream",
     "text": [
      "Factor=10 - Alfa= 10 - Regularizacion=0.05 - iteracion = 50 - Evaluacion = (0.87, 0.814)\n",
      "2020-11-15 14:59:42.297740\n",
      "2020-11-15 14:59:42.297864\n"
     ]
    },
    {
     "data": {
      "application/vnd.jupyter.widget-view+json": {
       "model_id": "61750147254a4a1686e6704bcda675d3",
       "version_major": 2,
       "version_minor": 0
      },
      "text/plain": [
       "HBox(children=(HTML(value=''), FloatProgress(value=0.0, max=50.0), HTML(value='')))"
      ]
     },
     "metadata": {},
     "output_type": "display_data"
    },
    {
     "name": "stdout",
     "output_type": "stream",
     "text": [
      "\n"
     ]
    },
    {
     "name": "stderr",
     "output_type": "stream",
     "text": [
      "WARNING:implicit:This method is deprecated. Please use the AlternatingLeastSquares class instead\n"
     ]
    },
    {
     "name": "stdout",
     "output_type": "stream",
     "text": [
      "Factor=10 - Alfa= 10 - Regularizacion=0.05 - iteracion = 100 - Evaluacion = (0.87, 0.814)\n",
      "2020-11-15 14:59:59.466015\n",
      "2020-11-15 14:59:59.466112\n"
     ]
    },
    {
     "data": {
      "application/vnd.jupyter.widget-view+json": {
       "model_id": "d9d852f0e6444d4eac2c9ae86bf1e341",
       "version_major": 2,
       "version_minor": 0
      },
      "text/plain": [
       "HBox(children=(HTML(value=''), FloatProgress(value=0.0, max=50.0), HTML(value='')))"
      ]
     },
     "metadata": {},
     "output_type": "display_data"
    },
    {
     "name": "stdout",
     "output_type": "stream",
     "text": [
      "\n"
     ]
    },
    {
     "name": "stderr",
     "output_type": "stream",
     "text": [
      "WARNING:implicit:This method is deprecated. Please use the AlternatingLeastSquares class instead\n"
     ]
    },
    {
     "name": "stdout",
     "output_type": "stream",
     "text": [
      "Factor=10 - Alfa= 10 - Regularizacion=0.05 - iteracion = 200 - Evaluacion = (0.87, 0.814)\n",
      "2020-11-15 15:00:16.907640\n",
      "2020-11-15 15:00:16.907855\n"
     ]
    },
    {
     "data": {
      "application/vnd.jupyter.widget-view+json": {
       "model_id": "917751d3aa8a4d36af5952c5c6d1ca2a",
       "version_major": 2,
       "version_minor": 0
      },
      "text/plain": [
       "HBox(children=(HTML(value=''), FloatProgress(value=0.0, max=50.0), HTML(value='')))"
      ]
     },
     "metadata": {},
     "output_type": "display_data"
    },
    {
     "name": "stdout",
     "output_type": "stream",
     "text": [
      "\n"
     ]
    },
    {
     "name": "stderr",
     "output_type": "stream",
     "text": [
      "WARNING:implicit:This method is deprecated. Please use the AlternatingLeastSquares class instead\n"
     ]
    },
    {
     "name": "stdout",
     "output_type": "stream",
     "text": [
      "Factor=10 - Alfa= 10 - Regularizacion=0.1 - iteracion = 10 - Evaluacion = (0.87, 0.814)\n",
      "2020-11-15 15:00:33.930678\n",
      "2020-11-15 15:00:33.930780\n"
     ]
    },
    {
     "data": {
      "application/vnd.jupyter.widget-view+json": {
       "model_id": "adbdf262dddf4be58434349f5b7176a9",
       "version_major": 2,
       "version_minor": 0
      },
      "text/plain": [
       "HBox(children=(HTML(value=''), FloatProgress(value=0.0, max=50.0), HTML(value='')))"
      ]
     },
     "metadata": {},
     "output_type": "display_data"
    },
    {
     "name": "stdout",
     "output_type": "stream",
     "text": [
      "\n"
     ]
    },
    {
     "name": "stderr",
     "output_type": "stream",
     "text": [
      "WARNING:implicit:This method is deprecated. Please use the AlternatingLeastSquares class instead\n"
     ]
    },
    {
     "name": "stdout",
     "output_type": "stream",
     "text": [
      "Factor=10 - Alfa= 10 - Regularizacion=0.1 - iteracion = 25 - Evaluacion = (0.871, 0.814)\n",
      "2020-11-15 15:00:51.021045\n",
      "2020-11-15 15:00:51.021136\n"
     ]
    },
    {
     "data": {
      "application/vnd.jupyter.widget-view+json": {
       "model_id": "a77face27c1c40c2a7fce989610ee76a",
       "version_major": 2,
       "version_minor": 0
      },
      "text/plain": [
       "HBox(children=(HTML(value=''), FloatProgress(value=0.0, max=50.0), HTML(value='')))"
      ]
     },
     "metadata": {},
     "output_type": "display_data"
    },
    {
     "name": "stdout",
     "output_type": "stream",
     "text": [
      "\n"
     ]
    },
    {
     "name": "stderr",
     "output_type": "stream",
     "text": [
      "WARNING:implicit:This method is deprecated. Please use the AlternatingLeastSquares class instead\n"
     ]
    },
    {
     "name": "stdout",
     "output_type": "stream",
     "text": [
      "Factor=10 - Alfa= 10 - Regularizacion=0.1 - iteracion = 50 - Evaluacion = (0.871, 0.814)\n",
      "2020-11-15 15:01:07.937847\n",
      "2020-11-15 15:01:07.937950\n"
     ]
    },
    {
     "data": {
      "application/vnd.jupyter.widget-view+json": {
       "model_id": "aaa94cf9ac364f0a8ff4646f99861ede",
       "version_major": 2,
       "version_minor": 0
      },
      "text/plain": [
       "HBox(children=(HTML(value=''), FloatProgress(value=0.0, max=50.0), HTML(value='')))"
      ]
     },
     "metadata": {},
     "output_type": "display_data"
    },
    {
     "name": "stdout",
     "output_type": "stream",
     "text": [
      "\n"
     ]
    },
    {
     "name": "stderr",
     "output_type": "stream",
     "text": [
      "WARNING:implicit:This method is deprecated. Please use the AlternatingLeastSquares class instead\n"
     ]
    },
    {
     "name": "stdout",
     "output_type": "stream",
     "text": [
      "Factor=10 - Alfa= 10 - Regularizacion=0.1 - iteracion = 100 - Evaluacion = (0.87, 0.814)\n",
      "2020-11-15 15:01:24.931713\n",
      "2020-11-15 15:01:24.931818\n"
     ]
    },
    {
     "data": {
      "application/vnd.jupyter.widget-view+json": {
       "model_id": "d9ff8e9ac8f6436fbe90584e0608e8c4",
       "version_major": 2,
       "version_minor": 0
      },
      "text/plain": [
       "HBox(children=(HTML(value=''), FloatProgress(value=0.0, max=50.0), HTML(value='')))"
      ]
     },
     "metadata": {},
     "output_type": "display_data"
    },
    {
     "name": "stdout",
     "output_type": "stream",
     "text": [
      "\n"
     ]
    },
    {
     "name": "stderr",
     "output_type": "stream",
     "text": [
      "WARNING:implicit:This method is deprecated. Please use the AlternatingLeastSquares class instead\n"
     ]
    },
    {
     "name": "stdout",
     "output_type": "stream",
     "text": [
      "Factor=10 - Alfa= 10 - Regularizacion=0.1 - iteracion = 200 - Evaluacion = (0.87, 0.814)\n",
      "2020-11-15 15:01:42.249295\n",
      "2020-11-15 15:01:42.249391\n"
     ]
    },
    {
     "data": {
      "application/vnd.jupyter.widget-view+json": {
       "model_id": "e81add1e801448a09aa1230caba4aaa8",
       "version_major": 2,
       "version_minor": 0
      },
      "text/plain": [
       "HBox(children=(HTML(value=''), FloatProgress(value=0.0, max=50.0), HTML(value='')))"
      ]
     },
     "metadata": {},
     "output_type": "display_data"
    },
    {
     "name": "stdout",
     "output_type": "stream",
     "text": [
      "\n"
     ]
    },
    {
     "name": "stderr",
     "output_type": "stream",
     "text": [
      "WARNING:implicit:This method is deprecated. Please use the AlternatingLeastSquares class instead\n"
     ]
    },
    {
     "name": "stdout",
     "output_type": "stream",
     "text": [
      "Factor=10 - Alfa= 10 - Regularizacion=0.2 - iteracion = 10 - Evaluacion = (0.87, 0.814)\n",
      "2020-11-15 15:01:59.564100\n",
      "2020-11-15 15:01:59.564209\n"
     ]
    },
    {
     "data": {
      "application/vnd.jupyter.widget-view+json": {
       "model_id": "e3445a6b2de0406582b5e9649f13d814",
       "version_major": 2,
       "version_minor": 0
      },
      "text/plain": [
       "HBox(children=(HTML(value=''), FloatProgress(value=0.0, max=50.0), HTML(value='')))"
      ]
     },
     "metadata": {},
     "output_type": "display_data"
    },
    {
     "name": "stdout",
     "output_type": "stream",
     "text": [
      "\n"
     ]
    },
    {
     "name": "stderr",
     "output_type": "stream",
     "text": [
      "WARNING:implicit:This method is deprecated. Please use the AlternatingLeastSquares class instead\n"
     ]
    },
    {
     "name": "stdout",
     "output_type": "stream",
     "text": [
      "Factor=10 - Alfa= 10 - Regularizacion=0.2 - iteracion = 25 - Evaluacion = (0.87, 0.814)\n",
      "2020-11-15 15:02:16.298473\n",
      "2020-11-15 15:02:16.298580\n"
     ]
    },
    {
     "data": {
      "application/vnd.jupyter.widget-view+json": {
       "model_id": "6e5d37b65e094270ba3823442be20bc4",
       "version_major": 2,
       "version_minor": 0
      },
      "text/plain": [
       "HBox(children=(HTML(value=''), FloatProgress(value=0.0, max=50.0), HTML(value='')))"
      ]
     },
     "metadata": {},
     "output_type": "display_data"
    },
    {
     "name": "stdout",
     "output_type": "stream",
     "text": [
      "\n"
     ]
    },
    {
     "name": "stderr",
     "output_type": "stream",
     "text": [
      "WARNING:implicit:This method is deprecated. Please use the AlternatingLeastSquares class instead\n"
     ]
    },
    {
     "name": "stdout",
     "output_type": "stream",
     "text": [
      "Factor=10 - Alfa= 10 - Regularizacion=0.2 - iteracion = 50 - Evaluacion = (0.871, 0.814)\n",
      "2020-11-15 15:02:33.636072\n",
      "2020-11-15 15:02:33.636185\n"
     ]
    },
    {
     "data": {
      "application/vnd.jupyter.widget-view+json": {
       "model_id": "45ef311375cf48559755d8c985504ee2",
       "version_major": 2,
       "version_minor": 0
      },
      "text/plain": [
       "HBox(children=(HTML(value=''), FloatProgress(value=0.0, max=50.0), HTML(value='')))"
      ]
     },
     "metadata": {},
     "output_type": "display_data"
    },
    {
     "name": "stdout",
     "output_type": "stream",
     "text": [
      "\n"
     ]
    },
    {
     "name": "stderr",
     "output_type": "stream",
     "text": [
      "WARNING:implicit:This method is deprecated. Please use the AlternatingLeastSquares class instead\n"
     ]
    },
    {
     "name": "stdout",
     "output_type": "stream",
     "text": [
      "Factor=10 - Alfa= 10 - Regularizacion=0.2 - iteracion = 100 - Evaluacion = (0.87, 0.814)\n",
      "2020-11-15 15:02:51.222269\n",
      "2020-11-15 15:02:51.222365\n"
     ]
    },
    {
     "data": {
      "application/vnd.jupyter.widget-view+json": {
       "model_id": "dab5db4c3ddd4f4f8332381c52309994",
       "version_major": 2,
       "version_minor": 0
      },
      "text/plain": [
       "HBox(children=(HTML(value=''), FloatProgress(value=0.0, max=50.0), HTML(value='')))"
      ]
     },
     "metadata": {},
     "output_type": "display_data"
    },
    {
     "name": "stdout",
     "output_type": "stream",
     "text": [
      "\n"
     ]
    },
    {
     "name": "stderr",
     "output_type": "stream",
     "text": [
      "WARNING:implicit:This method is deprecated. Please use the AlternatingLeastSquares class instead\n"
     ]
    },
    {
     "name": "stdout",
     "output_type": "stream",
     "text": [
      "Factor=10 - Alfa= 10 - Regularizacion=0.2 - iteracion = 200 - Evaluacion = (0.871, 0.814)\n",
      "2020-11-15 15:03:08.698096\n",
      "2020-11-15 15:03:08.698190\n"
     ]
    },
    {
     "data": {
      "application/vnd.jupyter.widget-view+json": {
       "model_id": "2506176ccc994e22a15273a00a20b941",
       "version_major": 2,
       "version_minor": 0
      },
      "text/plain": [
       "HBox(children=(HTML(value=''), FloatProgress(value=0.0, max=50.0), HTML(value='')))"
      ]
     },
     "metadata": {},
     "output_type": "display_data"
    },
    {
     "name": "stdout",
     "output_type": "stream",
     "text": [
      "\n"
     ]
    },
    {
     "name": "stderr",
     "output_type": "stream",
     "text": [
      "WARNING:implicit:This method is deprecated. Please use the AlternatingLeastSquares class instead\n"
     ]
    },
    {
     "name": "stdout",
     "output_type": "stream",
     "text": [
      "Factor=10 - Alfa= 10 - Regularizacion=0.4 - iteracion = 10 - Evaluacion = (0.871, 0.814)\n",
      "2020-11-15 15:03:25.989031\n",
      "2020-11-15 15:03:25.989129\n"
     ]
    },
    {
     "data": {
      "application/vnd.jupyter.widget-view+json": {
       "model_id": "fa74773108324666b7ff0d0da4fde5c4",
       "version_major": 2,
       "version_minor": 0
      },
      "text/plain": [
       "HBox(children=(HTML(value=''), FloatProgress(value=0.0, max=50.0), HTML(value='')))"
      ]
     },
     "metadata": {},
     "output_type": "display_data"
    },
    {
     "name": "stdout",
     "output_type": "stream",
     "text": [
      "\n"
     ]
    },
    {
     "name": "stderr",
     "output_type": "stream",
     "text": [
      "WARNING:implicit:This method is deprecated. Please use the AlternatingLeastSquares class instead\n"
     ]
    },
    {
     "name": "stdout",
     "output_type": "stream",
     "text": [
      "Factor=10 - Alfa= 10 - Regularizacion=0.4 - iteracion = 25 - Evaluacion = (0.871, 0.814)\n",
      "2020-11-15 15:03:45.449068\n",
      "2020-11-15 15:03:45.449207\n"
     ]
    },
    {
     "data": {
      "application/vnd.jupyter.widget-view+json": {
       "model_id": "4ded6bd087c34e73a9fb6508d4085ddb",
       "version_major": 2,
       "version_minor": 0
      },
      "text/plain": [
       "HBox(children=(HTML(value=''), FloatProgress(value=0.0, max=50.0), HTML(value='')))"
      ]
     },
     "metadata": {},
     "output_type": "display_data"
    },
    {
     "name": "stdout",
     "output_type": "stream",
     "text": [
      "\n"
     ]
    },
    {
     "name": "stderr",
     "output_type": "stream",
     "text": [
      "WARNING:implicit:This method is deprecated. Please use the AlternatingLeastSquares class instead\n"
     ]
    },
    {
     "name": "stdout",
     "output_type": "stream",
     "text": [
      "Factor=10 - Alfa= 10 - Regularizacion=0.4 - iteracion = 50 - Evaluacion = (0.871, 0.814)\n",
      "2020-11-15 15:04:03.953881\n",
      "2020-11-15 15:04:03.953988\n"
     ]
    },
    {
     "data": {
      "application/vnd.jupyter.widget-view+json": {
       "model_id": "bc5f0a1f04f046469eb4f389f3e47c00",
       "version_major": 2,
       "version_minor": 0
      },
      "text/plain": [
       "HBox(children=(HTML(value=''), FloatProgress(value=0.0, max=50.0), HTML(value='')))"
      ]
     },
     "metadata": {},
     "output_type": "display_data"
    },
    {
     "name": "stdout",
     "output_type": "stream",
     "text": [
      "\n"
     ]
    },
    {
     "name": "stderr",
     "output_type": "stream",
     "text": [
      "WARNING:implicit:This method is deprecated. Please use the AlternatingLeastSquares class instead\n"
     ]
    },
    {
     "name": "stdout",
     "output_type": "stream",
     "text": [
      "Factor=10 - Alfa= 10 - Regularizacion=0.4 - iteracion = 100 - Evaluacion = (0.87, 0.814)\n",
      "2020-11-15 15:04:21.879286\n",
      "2020-11-15 15:04:21.879391\n"
     ]
    },
    {
     "data": {
      "application/vnd.jupyter.widget-view+json": {
       "model_id": "049cd42c86db46809707a8cdd980a674",
       "version_major": 2,
       "version_minor": 0
      },
      "text/plain": [
       "HBox(children=(HTML(value=''), FloatProgress(value=0.0, max=50.0), HTML(value='')))"
      ]
     },
     "metadata": {},
     "output_type": "display_data"
    },
    {
     "name": "stdout",
     "output_type": "stream",
     "text": [
      "\n"
     ]
    },
    {
     "name": "stderr",
     "output_type": "stream",
     "text": [
      "WARNING:implicit:This method is deprecated. Please use the AlternatingLeastSquares class instead\n"
     ]
    },
    {
     "name": "stdout",
     "output_type": "stream",
     "text": [
      "Factor=10 - Alfa= 10 - Regularizacion=0.4 - iteracion = 200 - Evaluacion = (0.87, 0.814)\n",
      "2020-11-15 15:04:39.199608\n",
      "2020-11-15 15:04:39.199714\n"
     ]
    },
    {
     "data": {
      "application/vnd.jupyter.widget-view+json": {
       "model_id": "632377d0762246188d1e84fbd90395fe",
       "version_major": 2,
       "version_minor": 0
      },
      "text/plain": [
       "HBox(children=(HTML(value=''), FloatProgress(value=0.0, max=50.0), HTML(value='')))"
      ]
     },
     "metadata": {},
     "output_type": "display_data"
    },
    {
     "name": "stdout",
     "output_type": "stream",
     "text": [
      "\n"
     ]
    },
    {
     "name": "stderr",
     "output_type": "stream",
     "text": [
      "WARNING:implicit:This method is deprecated. Please use the AlternatingLeastSquares class instead\n"
     ]
    },
    {
     "name": "stdout",
     "output_type": "stream",
     "text": [
      "Factor=10 - Alfa= 15 - Regularizacion=0.025 - iteracion = 10 - Evaluacion = (0.872, 0.814)\n",
      "2020-11-15 15:04:58.141120\n",
      "2020-11-15 15:04:58.141216\n"
     ]
    },
    {
     "data": {
      "application/vnd.jupyter.widget-view+json": {
       "model_id": "b141a8963f4847559b9d1cc335ebb689",
       "version_major": 2,
       "version_minor": 0
      },
      "text/plain": [
       "HBox(children=(HTML(value=''), FloatProgress(value=0.0, max=50.0), HTML(value='')))"
      ]
     },
     "metadata": {},
     "output_type": "display_data"
    },
    {
     "name": "stdout",
     "output_type": "stream",
     "text": [
      "\n"
     ]
    },
    {
     "name": "stderr",
     "output_type": "stream",
     "text": [
      "WARNING:implicit:This method is deprecated. Please use the AlternatingLeastSquares class instead\n"
     ]
    },
    {
     "name": "stdout",
     "output_type": "stream",
     "text": [
      "Factor=10 - Alfa= 15 - Regularizacion=0.025 - iteracion = 25 - Evaluacion = (0.869, 0.814)\n",
      "2020-11-15 15:05:16.411764\n",
      "2020-11-15 15:05:16.411957\n"
     ]
    },
    {
     "data": {
      "application/vnd.jupyter.widget-view+json": {
       "model_id": "8681152b5cdc4e7c88e98088ee3bf085",
       "version_major": 2,
       "version_minor": 0
      },
      "text/plain": [
       "HBox(children=(HTML(value=''), FloatProgress(value=0.0, max=50.0), HTML(value='')))"
      ]
     },
     "metadata": {},
     "output_type": "display_data"
    },
    {
     "name": "stdout",
     "output_type": "stream",
     "text": [
      "\n"
     ]
    },
    {
     "name": "stderr",
     "output_type": "stream",
     "text": [
      "WARNING:implicit:This method is deprecated. Please use the AlternatingLeastSquares class instead\n"
     ]
    },
    {
     "name": "stdout",
     "output_type": "stream",
     "text": [
      "Factor=10 - Alfa= 15 - Regularizacion=0.025 - iteracion = 50 - Evaluacion = (0.87, 0.814)\n",
      "2020-11-15 15:05:34.803565\n",
      "2020-11-15 15:05:34.803671\n"
     ]
    },
    {
     "data": {
      "application/vnd.jupyter.widget-view+json": {
       "model_id": "2da0c09696f8494eba4144413a4148dc",
       "version_major": 2,
       "version_minor": 0
      },
      "text/plain": [
       "HBox(children=(HTML(value=''), FloatProgress(value=0.0, max=50.0), HTML(value='')))"
      ]
     },
     "metadata": {},
     "output_type": "display_data"
    },
    {
     "name": "stdout",
     "output_type": "stream",
     "text": [
      "\n"
     ]
    },
    {
     "name": "stderr",
     "output_type": "stream",
     "text": [
      "WARNING:implicit:This method is deprecated. Please use the AlternatingLeastSquares class instead\n"
     ]
    },
    {
     "name": "stdout",
     "output_type": "stream",
     "text": [
      "Factor=10 - Alfa= 15 - Regularizacion=0.025 - iteracion = 100 - Evaluacion = (0.87, 0.814)\n",
      "2020-11-15 15:05:52.963262\n",
      "2020-11-15 15:05:52.963364\n"
     ]
    },
    {
     "data": {
      "application/vnd.jupyter.widget-view+json": {
       "model_id": "559ab35422fc401e9c9065df08b40554",
       "version_major": 2,
       "version_minor": 0
      },
      "text/plain": [
       "HBox(children=(HTML(value=''), FloatProgress(value=0.0, max=50.0), HTML(value='')))"
      ]
     },
     "metadata": {},
     "output_type": "display_data"
    },
    {
     "name": "stdout",
     "output_type": "stream",
     "text": [
      "\n"
     ]
    },
    {
     "name": "stderr",
     "output_type": "stream",
     "text": [
      "WARNING:implicit:This method is deprecated. Please use the AlternatingLeastSquares class instead\n"
     ]
    },
    {
     "name": "stdout",
     "output_type": "stream",
     "text": [
      "Factor=10 - Alfa= 15 - Regularizacion=0.025 - iteracion = 200 - Evaluacion = (0.871, 0.814)\n",
      "2020-11-15 15:06:09.787056\n",
      "2020-11-15 15:06:09.787177\n"
     ]
    },
    {
     "data": {
      "application/vnd.jupyter.widget-view+json": {
       "model_id": "70702a7ae14647f4a083089f4f63c4b9",
       "version_major": 2,
       "version_minor": 0
      },
      "text/plain": [
       "HBox(children=(HTML(value=''), FloatProgress(value=0.0, max=50.0), HTML(value='')))"
      ]
     },
     "metadata": {},
     "output_type": "display_data"
    },
    {
     "name": "stdout",
     "output_type": "stream",
     "text": [
      "\n"
     ]
    },
    {
     "name": "stderr",
     "output_type": "stream",
     "text": [
      "WARNING:implicit:This method is deprecated. Please use the AlternatingLeastSquares class instead\n"
     ]
    },
    {
     "name": "stdout",
     "output_type": "stream",
     "text": [
      "Factor=10 - Alfa= 15 - Regularizacion=0.05 - iteracion = 10 - Evaluacion = (0.87, 0.814)\n",
      "2020-11-15 15:06:26.570031\n",
      "2020-11-15 15:06:26.570139\n"
     ]
    },
    {
     "data": {
      "application/vnd.jupyter.widget-view+json": {
       "model_id": "7b1fdceadd824152a843c8879543ebe0",
       "version_major": 2,
       "version_minor": 0
      },
      "text/plain": [
       "HBox(children=(HTML(value=''), FloatProgress(value=0.0, max=50.0), HTML(value='')))"
      ]
     },
     "metadata": {},
     "output_type": "display_data"
    },
    {
     "name": "stdout",
     "output_type": "stream",
     "text": [
      "\n"
     ]
    },
    {
     "name": "stderr",
     "output_type": "stream",
     "text": [
      "WARNING:implicit:This method is deprecated. Please use the AlternatingLeastSquares class instead\n"
     ]
    },
    {
     "name": "stdout",
     "output_type": "stream",
     "text": [
      "Factor=10 - Alfa= 15 - Regularizacion=0.05 - iteracion = 25 - Evaluacion = (0.871, 0.814)\n",
      "2020-11-15 15:06:43.320509\n",
      "2020-11-15 15:06:43.320604\n"
     ]
    },
    {
     "data": {
      "application/vnd.jupyter.widget-view+json": {
       "model_id": "7f9a33bb92e3466eb08e46727d31817c",
       "version_major": 2,
       "version_minor": 0
      },
      "text/plain": [
       "HBox(children=(HTML(value=''), FloatProgress(value=0.0, max=50.0), HTML(value='')))"
      ]
     },
     "metadata": {},
     "output_type": "display_data"
    },
    {
     "name": "stdout",
     "output_type": "stream",
     "text": [
      "\n"
     ]
    },
    {
     "name": "stderr",
     "output_type": "stream",
     "text": [
      "WARNING:implicit:This method is deprecated. Please use the AlternatingLeastSquares class instead\n"
     ]
    },
    {
     "name": "stdout",
     "output_type": "stream",
     "text": [
      "Factor=10 - Alfa= 15 - Regularizacion=0.05 - iteracion = 50 - Evaluacion = (0.871, 0.814)\n",
      "2020-11-15 15:07:00.908930\n",
      "2020-11-15 15:07:00.909413\n"
     ]
    },
    {
     "data": {
      "application/vnd.jupyter.widget-view+json": {
       "model_id": "f0f01f0556c64abe9a4ae43e5845986b",
       "version_major": 2,
       "version_minor": 0
      },
      "text/plain": [
       "HBox(children=(HTML(value=''), FloatProgress(value=0.0, max=50.0), HTML(value='')))"
      ]
     },
     "metadata": {},
     "output_type": "display_data"
    },
    {
     "name": "stdout",
     "output_type": "stream",
     "text": [
      "\n"
     ]
    },
    {
     "name": "stderr",
     "output_type": "stream",
     "text": [
      "WARNING:implicit:This method is deprecated. Please use the AlternatingLeastSquares class instead\n"
     ]
    },
    {
     "name": "stdout",
     "output_type": "stream",
     "text": [
      "Factor=10 - Alfa= 15 - Regularizacion=0.05 - iteracion = 100 - Evaluacion = (0.871, 0.814)\n",
      "2020-11-15 15:07:19.868652\n",
      "2020-11-15 15:07:19.868803\n"
     ]
    },
    {
     "data": {
      "application/vnd.jupyter.widget-view+json": {
       "model_id": "7929afb36b6242e6bba4671ca35a5c3a",
       "version_major": 2,
       "version_minor": 0
      },
      "text/plain": [
       "HBox(children=(HTML(value=''), FloatProgress(value=0.0, max=50.0), HTML(value='')))"
      ]
     },
     "metadata": {},
     "output_type": "display_data"
    },
    {
     "name": "stdout",
     "output_type": "stream",
     "text": [
      "\n"
     ]
    },
    {
     "name": "stderr",
     "output_type": "stream",
     "text": [
      "WARNING:implicit:This method is deprecated. Please use the AlternatingLeastSquares class instead\n"
     ]
    },
    {
     "name": "stdout",
     "output_type": "stream",
     "text": [
      "Factor=10 - Alfa= 15 - Regularizacion=0.05 - iteracion = 200 - Evaluacion = (0.872, 0.814)\n",
      "2020-11-15 15:07:36.602936\n",
      "2020-11-15 15:07:36.603086\n"
     ]
    },
    {
     "data": {
      "application/vnd.jupyter.widget-view+json": {
       "model_id": "d4db658a9b9747b998de69b3b628d0e9",
       "version_major": 2,
       "version_minor": 0
      },
      "text/plain": [
       "HBox(children=(HTML(value=''), FloatProgress(value=0.0, max=50.0), HTML(value='')))"
      ]
     },
     "metadata": {},
     "output_type": "display_data"
    },
    {
     "name": "stdout",
     "output_type": "stream",
     "text": [
      "\n"
     ]
    },
    {
     "name": "stderr",
     "output_type": "stream",
     "text": [
      "WARNING:implicit:This method is deprecated. Please use the AlternatingLeastSquares class instead\n"
     ]
    },
    {
     "name": "stdout",
     "output_type": "stream",
     "text": [
      "Factor=10 - Alfa= 15 - Regularizacion=0.1 - iteracion = 10 - Evaluacion = (0.87, 0.814)\n",
      "2020-11-15 15:07:53.743764\n",
      "2020-11-15 15:07:53.743868\n"
     ]
    },
    {
     "data": {
      "application/vnd.jupyter.widget-view+json": {
       "model_id": "5a0e07d7ac154b53a82817fac7a36982",
       "version_major": 2,
       "version_minor": 0
      },
      "text/plain": [
       "HBox(children=(HTML(value=''), FloatProgress(value=0.0, max=50.0), HTML(value='')))"
      ]
     },
     "metadata": {},
     "output_type": "display_data"
    },
    {
     "name": "stdout",
     "output_type": "stream",
     "text": [
      "\n"
     ]
    },
    {
     "name": "stderr",
     "output_type": "stream",
     "text": [
      "WARNING:implicit:This method is deprecated. Please use the AlternatingLeastSquares class instead\n"
     ]
    },
    {
     "name": "stdout",
     "output_type": "stream",
     "text": [
      "Factor=10 - Alfa= 15 - Regularizacion=0.1 - iteracion = 25 - Evaluacion = (0.871, 0.814)\n",
      "2020-11-15 15:08:10.939626\n",
      "2020-11-15 15:08:10.939732\n"
     ]
    },
    {
     "data": {
      "application/vnd.jupyter.widget-view+json": {
       "model_id": "2d69c9807726474785738fd8785af217",
       "version_major": 2,
       "version_minor": 0
      },
      "text/plain": [
       "HBox(children=(HTML(value=''), FloatProgress(value=0.0, max=50.0), HTML(value='')))"
      ]
     },
     "metadata": {},
     "output_type": "display_data"
    },
    {
     "name": "stdout",
     "output_type": "stream",
     "text": [
      "\n"
     ]
    },
    {
     "name": "stderr",
     "output_type": "stream",
     "text": [
      "WARNING:implicit:This method is deprecated. Please use the AlternatingLeastSquares class instead\n"
     ]
    },
    {
     "name": "stdout",
     "output_type": "stream",
     "text": [
      "Factor=10 - Alfa= 15 - Regularizacion=0.1 - iteracion = 50 - Evaluacion = (0.871, 0.814)\n",
      "2020-11-15 15:08:28.097152\n",
      "2020-11-15 15:08:28.097257\n"
     ]
    },
    {
     "data": {
      "application/vnd.jupyter.widget-view+json": {
       "model_id": "8ed33b2b636b49918e650ded02de475e",
       "version_major": 2,
       "version_minor": 0
      },
      "text/plain": [
       "HBox(children=(HTML(value=''), FloatProgress(value=0.0, max=50.0), HTML(value='')))"
      ]
     },
     "metadata": {},
     "output_type": "display_data"
    },
    {
     "name": "stdout",
     "output_type": "stream",
     "text": [
      "\n"
     ]
    },
    {
     "name": "stderr",
     "output_type": "stream",
     "text": [
      "WARNING:implicit:This method is deprecated. Please use the AlternatingLeastSquares class instead\n"
     ]
    },
    {
     "name": "stdout",
     "output_type": "stream",
     "text": [
      "Factor=10 - Alfa= 15 - Regularizacion=0.1 - iteracion = 100 - Evaluacion = (0.871, 0.814)\n",
      "2020-11-15 15:08:44.787133\n",
      "2020-11-15 15:08:44.787245\n"
     ]
    },
    {
     "data": {
      "application/vnd.jupyter.widget-view+json": {
       "model_id": "684b87b3f7284bbc8e0ba3c5aa28f19d",
       "version_major": 2,
       "version_minor": 0
      },
      "text/plain": [
       "HBox(children=(HTML(value=''), FloatProgress(value=0.0, max=50.0), HTML(value='')))"
      ]
     },
     "metadata": {},
     "output_type": "display_data"
    },
    {
     "name": "stdout",
     "output_type": "stream",
     "text": [
      "\n"
     ]
    },
    {
     "name": "stderr",
     "output_type": "stream",
     "text": [
      "WARNING:implicit:This method is deprecated. Please use the AlternatingLeastSquares class instead\n"
     ]
    },
    {
     "name": "stdout",
     "output_type": "stream",
     "text": [
      "Factor=10 - Alfa= 15 - Regularizacion=0.1 - iteracion = 200 - Evaluacion = (0.87, 0.814)\n",
      "2020-11-15 15:09:01.261159\n",
      "2020-11-15 15:09:01.261264\n"
     ]
    },
    {
     "data": {
      "application/vnd.jupyter.widget-view+json": {
       "model_id": "8c1cf3cbaa5342d9bfa0f3cd6b32609f",
       "version_major": 2,
       "version_minor": 0
      },
      "text/plain": [
       "HBox(children=(HTML(value=''), FloatProgress(value=0.0, max=50.0), HTML(value='')))"
      ]
     },
     "metadata": {},
     "output_type": "display_data"
    },
    {
     "name": "stdout",
     "output_type": "stream",
     "text": [
      "\n"
     ]
    },
    {
     "name": "stderr",
     "output_type": "stream",
     "text": [
      "WARNING:implicit:This method is deprecated. Please use the AlternatingLeastSquares class instead\n"
     ]
    },
    {
     "name": "stdout",
     "output_type": "stream",
     "text": [
      "Factor=10 - Alfa= 15 - Regularizacion=0.2 - iteracion = 10 - Evaluacion = (0.87, 0.814)\n",
      "2020-11-15 15:09:17.769190\n",
      "2020-11-15 15:09:17.769572\n"
     ]
    },
    {
     "data": {
      "application/vnd.jupyter.widget-view+json": {
       "model_id": "0b1aa7562cb34bda8d70e5228b3cea1e",
       "version_major": 2,
       "version_minor": 0
      },
      "text/plain": [
       "HBox(children=(HTML(value=''), FloatProgress(value=0.0, max=50.0), HTML(value='')))"
      ]
     },
     "metadata": {},
     "output_type": "display_data"
    },
    {
     "name": "stdout",
     "output_type": "stream",
     "text": [
      "\n"
     ]
    },
    {
     "name": "stderr",
     "output_type": "stream",
     "text": [
      "WARNING:implicit:This method is deprecated. Please use the AlternatingLeastSquares class instead\n"
     ]
    },
    {
     "name": "stdout",
     "output_type": "stream",
     "text": [
      "Factor=10 - Alfa= 15 - Regularizacion=0.2 - iteracion = 25 - Evaluacion = (0.87, 0.814)\n",
      "2020-11-15 15:09:34.408439\n",
      "2020-11-15 15:09:34.408555\n"
     ]
    },
    {
     "data": {
      "application/vnd.jupyter.widget-view+json": {
       "model_id": "302dc4847f7248e3889528222caa018e",
       "version_major": 2,
       "version_minor": 0
      },
      "text/plain": [
       "HBox(children=(HTML(value=''), FloatProgress(value=0.0, max=50.0), HTML(value='')))"
      ]
     },
     "metadata": {},
     "output_type": "display_data"
    },
    {
     "name": "stdout",
     "output_type": "stream",
     "text": [
      "\n"
     ]
    },
    {
     "name": "stderr",
     "output_type": "stream",
     "text": [
      "WARNING:implicit:This method is deprecated. Please use the AlternatingLeastSquares class instead\n"
     ]
    },
    {
     "name": "stdout",
     "output_type": "stream",
     "text": [
      "Factor=10 - Alfa= 15 - Regularizacion=0.2 - iteracion = 50 - Evaluacion = (0.87, 0.814)\n",
      "2020-11-15 15:09:50.914877\n",
      "2020-11-15 15:09:50.914983\n"
     ]
    },
    {
     "data": {
      "application/vnd.jupyter.widget-view+json": {
       "model_id": "2ae90fc025ed4858837d8c97b1334185",
       "version_major": 2,
       "version_minor": 0
      },
      "text/plain": [
       "HBox(children=(HTML(value=''), FloatProgress(value=0.0, max=50.0), HTML(value='')))"
      ]
     },
     "metadata": {},
     "output_type": "display_data"
    },
    {
     "name": "stdout",
     "output_type": "stream",
     "text": [
      "\n"
     ]
    },
    {
     "name": "stderr",
     "output_type": "stream",
     "text": [
      "WARNING:implicit:This method is deprecated. Please use the AlternatingLeastSquares class instead\n"
     ]
    },
    {
     "name": "stdout",
     "output_type": "stream",
     "text": [
      "Factor=10 - Alfa= 15 - Regularizacion=0.2 - iteracion = 100 - Evaluacion = (0.871, 0.814)\n",
      "2020-11-15 15:10:07.428295\n",
      "2020-11-15 15:10:07.428405\n"
     ]
    },
    {
     "data": {
      "application/vnd.jupyter.widget-view+json": {
       "model_id": "5ad5eedc7a0540d6a818be58c9cc3e3f",
       "version_major": 2,
       "version_minor": 0
      },
      "text/plain": [
       "HBox(children=(HTML(value=''), FloatProgress(value=0.0, max=50.0), HTML(value='')))"
      ]
     },
     "metadata": {},
     "output_type": "display_data"
    },
    {
     "name": "stdout",
     "output_type": "stream",
     "text": [
      "\n"
     ]
    },
    {
     "name": "stderr",
     "output_type": "stream",
     "text": [
      "WARNING:implicit:This method is deprecated. Please use the AlternatingLeastSquares class instead\n"
     ]
    },
    {
     "name": "stdout",
     "output_type": "stream",
     "text": [
      "Factor=10 - Alfa= 15 - Regularizacion=0.2 - iteracion = 200 - Evaluacion = (0.871, 0.814)\n",
      "2020-11-15 15:10:23.988518\n",
      "2020-11-15 15:10:23.988696\n"
     ]
    },
    {
     "data": {
      "application/vnd.jupyter.widget-view+json": {
       "model_id": "e8bfe71503274d01a71b50405f32fc37",
       "version_major": 2,
       "version_minor": 0
      },
      "text/plain": [
       "HBox(children=(HTML(value=''), FloatProgress(value=0.0, max=50.0), HTML(value='')))"
      ]
     },
     "metadata": {},
     "output_type": "display_data"
    },
    {
     "name": "stdout",
     "output_type": "stream",
     "text": [
      "\n"
     ]
    },
    {
     "name": "stderr",
     "output_type": "stream",
     "text": [
      "WARNING:implicit:This method is deprecated. Please use the AlternatingLeastSquares class instead\n"
     ]
    },
    {
     "name": "stdout",
     "output_type": "stream",
     "text": [
      "Factor=10 - Alfa= 15 - Regularizacion=0.4 - iteracion = 10 - Evaluacion = (0.871, 0.814)\n",
      "2020-11-15 15:10:41.348908\n",
      "2020-11-15 15:10:41.349014\n"
     ]
    },
    {
     "data": {
      "application/vnd.jupyter.widget-view+json": {
       "model_id": "d9ae9f1ad0ae46e3b87a2f0b81467fc1",
       "version_major": 2,
       "version_minor": 0
      },
      "text/plain": [
       "HBox(children=(HTML(value=''), FloatProgress(value=0.0, max=50.0), HTML(value='')))"
      ]
     },
     "metadata": {},
     "output_type": "display_data"
    },
    {
     "name": "stdout",
     "output_type": "stream",
     "text": [
      "\n"
     ]
    },
    {
     "name": "stderr",
     "output_type": "stream",
     "text": [
      "WARNING:implicit:This method is deprecated. Please use the AlternatingLeastSquares class instead\n"
     ]
    },
    {
     "name": "stdout",
     "output_type": "stream",
     "text": [
      "Factor=10 - Alfa= 15 - Regularizacion=0.4 - iteracion = 25 - Evaluacion = (0.871, 0.814)\n",
      "2020-11-15 15:10:58.804227\n",
      "2020-11-15 15:10:58.804381\n"
     ]
    },
    {
     "data": {
      "application/vnd.jupyter.widget-view+json": {
       "model_id": "d68554fe53d3405e9565029dc08fba09",
       "version_major": 2,
       "version_minor": 0
      },
      "text/plain": [
       "HBox(children=(HTML(value=''), FloatProgress(value=0.0, max=50.0), HTML(value='')))"
      ]
     },
     "metadata": {},
     "output_type": "display_data"
    },
    {
     "name": "stdout",
     "output_type": "stream",
     "text": [
      "\n"
     ]
    },
    {
     "name": "stderr",
     "output_type": "stream",
     "text": [
      "WARNING:implicit:This method is deprecated. Please use the AlternatingLeastSquares class instead\n"
     ]
    },
    {
     "name": "stdout",
     "output_type": "stream",
     "text": [
      "Factor=10 - Alfa= 15 - Regularizacion=0.4 - iteracion = 50 - Evaluacion = (0.871, 0.814)\n",
      "2020-11-15 15:11:15.487677\n",
      "2020-11-15 15:11:15.487781\n"
     ]
    },
    {
     "data": {
      "application/vnd.jupyter.widget-view+json": {
       "model_id": "f0c7712778d440f1b61f758c2ab74f2f",
       "version_major": 2,
       "version_minor": 0
      },
      "text/plain": [
       "HBox(children=(HTML(value=''), FloatProgress(value=0.0, max=50.0), HTML(value='')))"
      ]
     },
     "metadata": {},
     "output_type": "display_data"
    },
    {
     "name": "stdout",
     "output_type": "stream",
     "text": [
      "\n"
     ]
    },
    {
     "name": "stderr",
     "output_type": "stream",
     "text": [
      "WARNING:implicit:This method is deprecated. Please use the AlternatingLeastSquares class instead\n"
     ]
    },
    {
     "name": "stdout",
     "output_type": "stream",
     "text": [
      "Factor=10 - Alfa= 15 - Regularizacion=0.4 - iteracion = 100 - Evaluacion = (0.871, 0.814)\n",
      "2020-11-15 15:11:34.238760\n",
      "2020-11-15 15:11:34.238864\n"
     ]
    },
    {
     "data": {
      "application/vnd.jupyter.widget-view+json": {
       "model_id": "1d63263887cd4cbd9b031fe6680fd6b6",
       "version_major": 2,
       "version_minor": 0
      },
      "text/plain": [
       "HBox(children=(HTML(value=''), FloatProgress(value=0.0, max=50.0), HTML(value='')))"
      ]
     },
     "metadata": {},
     "output_type": "display_data"
    },
    {
     "name": "stdout",
     "output_type": "stream",
     "text": [
      "\n"
     ]
    },
    {
     "name": "stderr",
     "output_type": "stream",
     "text": [
      "WARNING:implicit:This method is deprecated. Please use the AlternatingLeastSquares class instead\n"
     ]
    },
    {
     "name": "stdout",
     "output_type": "stream",
     "text": [
      "Factor=10 - Alfa= 15 - Regularizacion=0.4 - iteracion = 200 - Evaluacion = (0.869, 0.814)\n",
      "2020-11-15 15:11:54.004085\n",
      "2020-11-15 15:11:54.004242\n"
     ]
    },
    {
     "data": {
      "application/vnd.jupyter.widget-view+json": {
       "model_id": "33864594c57843529a26c7ad5b895028",
       "version_major": 2,
       "version_minor": 0
      },
      "text/plain": [
       "HBox(children=(HTML(value=''), FloatProgress(value=0.0, max=50.0), HTML(value='')))"
      ]
     },
     "metadata": {},
     "output_type": "display_data"
    },
    {
     "name": "stdout",
     "output_type": "stream",
     "text": [
      "\n"
     ]
    },
    {
     "name": "stderr",
     "output_type": "stream",
     "text": [
      "WARNING:implicit:This method is deprecated. Please use the AlternatingLeastSquares class instead\n"
     ]
    },
    {
     "name": "stdout",
     "output_type": "stream",
     "text": [
      "Factor=10 - Alfa= 30 - Regularizacion=0.025 - iteracion = 10 - Evaluacion = (0.871, 0.814)\n",
      "2020-11-15 15:12:11.548493\n",
      "2020-11-15 15:12:11.548587\n"
     ]
    },
    {
     "data": {
      "application/vnd.jupyter.widget-view+json": {
       "model_id": "8882656d463b48ec9dfde1fc879719a3",
       "version_major": 2,
       "version_minor": 0
      },
      "text/plain": [
       "HBox(children=(HTML(value=''), FloatProgress(value=0.0, max=50.0), HTML(value='')))"
      ]
     },
     "metadata": {},
     "output_type": "display_data"
    },
    {
     "name": "stdout",
     "output_type": "stream",
     "text": [
      "\n"
     ]
    },
    {
     "name": "stderr",
     "output_type": "stream",
     "text": [
      "WARNING:implicit:This method is deprecated. Please use the AlternatingLeastSquares class instead\n"
     ]
    },
    {
     "name": "stdout",
     "output_type": "stream",
     "text": [
      "Factor=10 - Alfa= 30 - Regularizacion=0.025 - iteracion = 25 - Evaluacion = (0.87, 0.814)\n",
      "2020-11-15 15:12:29.154533\n",
      "2020-11-15 15:12:29.154658\n"
     ]
    },
    {
     "data": {
      "application/vnd.jupyter.widget-view+json": {
       "model_id": "d02f7dd80e0a49f79afe058059426627",
       "version_major": 2,
       "version_minor": 0
      },
      "text/plain": [
       "HBox(children=(HTML(value=''), FloatProgress(value=0.0, max=50.0), HTML(value='')))"
      ]
     },
     "metadata": {},
     "output_type": "display_data"
    },
    {
     "name": "stdout",
     "output_type": "stream",
     "text": [
      "\n"
     ]
    },
    {
     "name": "stderr",
     "output_type": "stream",
     "text": [
      "WARNING:implicit:This method is deprecated. Please use the AlternatingLeastSquares class instead\n"
     ]
    },
    {
     "name": "stdout",
     "output_type": "stream",
     "text": [
      "Factor=10 - Alfa= 30 - Regularizacion=0.025 - iteracion = 50 - Evaluacion = (0.871, 0.814)\n",
      "2020-11-15 15:12:47.268649\n",
      "2020-11-15 15:12:47.268749\n"
     ]
    },
    {
     "data": {
      "application/vnd.jupyter.widget-view+json": {
       "model_id": "f3b8fd5e7a1647cc943da671d5641e86",
       "version_major": 2,
       "version_minor": 0
      },
      "text/plain": [
       "HBox(children=(HTML(value=''), FloatProgress(value=0.0, max=50.0), HTML(value='')))"
      ]
     },
     "metadata": {},
     "output_type": "display_data"
    },
    {
     "name": "stdout",
     "output_type": "stream",
     "text": [
      "\n"
     ]
    },
    {
     "name": "stderr",
     "output_type": "stream",
     "text": [
      "WARNING:implicit:This method is deprecated. Please use the AlternatingLeastSquares class instead\n"
     ]
    },
    {
     "name": "stdout",
     "output_type": "stream",
     "text": [
      "Factor=10 - Alfa= 30 - Regularizacion=0.025 - iteracion = 100 - Evaluacion = (0.87, 0.814)\n",
      "2020-11-15 15:13:06.136393\n",
      "2020-11-15 15:13:06.136862\n"
     ]
    },
    {
     "data": {
      "application/vnd.jupyter.widget-view+json": {
       "model_id": "c443f9aceb2347b19f71f8dbf7f8744e",
       "version_major": 2,
       "version_minor": 0
      },
      "text/plain": [
       "HBox(children=(HTML(value=''), FloatProgress(value=0.0, max=50.0), HTML(value='')))"
      ]
     },
     "metadata": {},
     "output_type": "display_data"
    },
    {
     "name": "stdout",
     "output_type": "stream",
     "text": [
      "\n"
     ]
    },
    {
     "name": "stderr",
     "output_type": "stream",
     "text": [
      "WARNING:implicit:This method is deprecated. Please use the AlternatingLeastSquares class instead\n"
     ]
    },
    {
     "name": "stdout",
     "output_type": "stream",
     "text": [
      "Factor=10 - Alfa= 30 - Regularizacion=0.025 - iteracion = 200 - Evaluacion = (0.87, 0.814)\n",
      "2020-11-15 15:13:25.116177\n",
      "2020-11-15 15:13:25.116415\n"
     ]
    },
    {
     "data": {
      "application/vnd.jupyter.widget-view+json": {
       "model_id": "be26af7730804fa4ba9ac32ff006ae97",
       "version_major": 2,
       "version_minor": 0
      },
      "text/plain": [
       "HBox(children=(HTML(value=''), FloatProgress(value=0.0, max=50.0), HTML(value='')))"
      ]
     },
     "metadata": {},
     "output_type": "display_data"
    },
    {
     "name": "stdout",
     "output_type": "stream",
     "text": [
      "\n"
     ]
    },
    {
     "name": "stderr",
     "output_type": "stream",
     "text": [
      "WARNING:implicit:This method is deprecated. Please use the AlternatingLeastSquares class instead\n"
     ]
    },
    {
     "name": "stdout",
     "output_type": "stream",
     "text": [
      "Factor=10 - Alfa= 30 - Regularizacion=0.05 - iteracion = 10 - Evaluacion = (0.871, 0.814)\n",
      "2020-11-15 15:13:43.465335\n",
      "2020-11-15 15:13:43.465437\n"
     ]
    },
    {
     "data": {
      "application/vnd.jupyter.widget-view+json": {
       "model_id": "1d314e0ea51d4188b288de08bcafafc8",
       "version_major": 2,
       "version_minor": 0
      },
      "text/plain": [
       "HBox(children=(HTML(value=''), FloatProgress(value=0.0, max=50.0), HTML(value='')))"
      ]
     },
     "metadata": {},
     "output_type": "display_data"
    },
    {
     "name": "stdout",
     "output_type": "stream",
     "text": [
      "\n"
     ]
    },
    {
     "name": "stderr",
     "output_type": "stream",
     "text": [
      "WARNING:implicit:This method is deprecated. Please use the AlternatingLeastSquares class instead\n"
     ]
    },
    {
     "name": "stdout",
     "output_type": "stream",
     "text": [
      "Factor=10 - Alfa= 30 - Regularizacion=0.05 - iteracion = 25 - Evaluacion = (0.871, 0.814)\n",
      "2020-11-15 15:14:00.973166\n",
      "2020-11-15 15:14:00.973265\n"
     ]
    },
    {
     "data": {
      "application/vnd.jupyter.widget-view+json": {
       "model_id": "641da195fbc443eab5eb5321f5c01cc6",
       "version_major": 2,
       "version_minor": 0
      },
      "text/plain": [
       "HBox(children=(HTML(value=''), FloatProgress(value=0.0, max=50.0), HTML(value='')))"
      ]
     },
     "metadata": {},
     "output_type": "display_data"
    },
    {
     "name": "stdout",
     "output_type": "stream",
     "text": [
      "\n"
     ]
    },
    {
     "name": "stderr",
     "output_type": "stream",
     "text": [
      "WARNING:implicit:This method is deprecated. Please use the AlternatingLeastSquares class instead\n"
     ]
    },
    {
     "name": "stdout",
     "output_type": "stream",
     "text": [
      "Factor=10 - Alfa= 30 - Regularizacion=0.05 - iteracion = 50 - Evaluacion = (0.871, 0.814)\n",
      "2020-11-15 15:14:18.562028\n",
      "2020-11-15 15:14:18.562133\n"
     ]
    },
    {
     "data": {
      "application/vnd.jupyter.widget-view+json": {
       "model_id": "2b2dbfbd1eba48a9adcd916613c331a6",
       "version_major": 2,
       "version_minor": 0
      },
      "text/plain": [
       "HBox(children=(HTML(value=''), FloatProgress(value=0.0, max=50.0), HTML(value='')))"
      ]
     },
     "metadata": {},
     "output_type": "display_data"
    },
    {
     "name": "stdout",
     "output_type": "stream",
     "text": [
      "\n"
     ]
    },
    {
     "name": "stderr",
     "output_type": "stream",
     "text": [
      "WARNING:implicit:This method is deprecated. Please use the AlternatingLeastSquares class instead\n"
     ]
    },
    {
     "name": "stdout",
     "output_type": "stream",
     "text": [
      "Factor=10 - Alfa= 30 - Regularizacion=0.05 - iteracion = 100 - Evaluacion = (0.87, 0.814)\n",
      "2020-11-15 15:14:38.079274\n",
      "2020-11-15 15:14:38.079444\n"
     ]
    },
    {
     "data": {
      "application/vnd.jupyter.widget-view+json": {
       "model_id": "523ece2fba484ce6b07e1ecfc7afb60c",
       "version_major": 2,
       "version_minor": 0
      },
      "text/plain": [
       "HBox(children=(HTML(value=''), FloatProgress(value=0.0, max=50.0), HTML(value='')))"
      ]
     },
     "metadata": {},
     "output_type": "display_data"
    },
    {
     "name": "stdout",
     "output_type": "stream",
     "text": [
      "\n"
     ]
    },
    {
     "name": "stderr",
     "output_type": "stream",
     "text": [
      "WARNING:implicit:This method is deprecated. Please use the AlternatingLeastSquares class instead\n"
     ]
    },
    {
     "name": "stdout",
     "output_type": "stream",
     "text": [
      "Factor=10 - Alfa= 30 - Regularizacion=0.05 - iteracion = 200 - Evaluacion = (0.87, 0.814)\n",
      "2020-11-15 15:14:58.783274\n",
      "2020-11-15 15:14:58.783377\n"
     ]
    },
    {
     "data": {
      "application/vnd.jupyter.widget-view+json": {
       "model_id": "1b21fc871cd74ec183443b75218eb42d",
       "version_major": 2,
       "version_minor": 0
      },
      "text/plain": [
       "HBox(children=(HTML(value=''), FloatProgress(value=0.0, max=50.0), HTML(value='')))"
      ]
     },
     "metadata": {},
     "output_type": "display_data"
    },
    {
     "name": "stdout",
     "output_type": "stream",
     "text": [
      "\n"
     ]
    },
    {
     "name": "stderr",
     "output_type": "stream",
     "text": [
      "WARNING:implicit:This method is deprecated. Please use the AlternatingLeastSquares class instead\n"
     ]
    },
    {
     "name": "stdout",
     "output_type": "stream",
     "text": [
      "Factor=10 - Alfa= 30 - Regularizacion=0.1 - iteracion = 10 - Evaluacion = (0.87, 0.814)\n",
      "2020-11-15 15:15:16.085747\n",
      "2020-11-15 15:15:16.085853\n"
     ]
    },
    {
     "data": {
      "application/vnd.jupyter.widget-view+json": {
       "model_id": "5b0afd628af64951bb7615481fed1295",
       "version_major": 2,
       "version_minor": 0
      },
      "text/plain": [
       "HBox(children=(HTML(value=''), FloatProgress(value=0.0, max=50.0), HTML(value='')))"
      ]
     },
     "metadata": {},
     "output_type": "display_data"
    },
    {
     "name": "stdout",
     "output_type": "stream",
     "text": [
      "\n"
     ]
    },
    {
     "name": "stderr",
     "output_type": "stream",
     "text": [
      "WARNING:implicit:This method is deprecated. Please use the AlternatingLeastSquares class instead\n"
     ]
    },
    {
     "name": "stdout",
     "output_type": "stream",
     "text": [
      "Factor=10 - Alfa= 30 - Regularizacion=0.1 - iteracion = 25 - Evaluacion = (0.872, 0.814)\n",
      "2020-11-15 15:15:33.605144\n",
      "2020-11-15 15:15:33.605354\n"
     ]
    },
    {
     "data": {
      "application/vnd.jupyter.widget-view+json": {
       "model_id": "751b83f1d58c4b6db0e6970c09a521e1",
       "version_major": 2,
       "version_minor": 0
      },
      "text/plain": [
       "HBox(children=(HTML(value=''), FloatProgress(value=0.0, max=50.0), HTML(value='')))"
      ]
     },
     "metadata": {},
     "output_type": "display_data"
    },
    {
     "name": "stdout",
     "output_type": "stream",
     "text": [
      "\n"
     ]
    },
    {
     "name": "stderr",
     "output_type": "stream",
     "text": [
      "WARNING:implicit:This method is deprecated. Please use the AlternatingLeastSquares class instead\n"
     ]
    },
    {
     "name": "stdout",
     "output_type": "stream",
     "text": [
      "Factor=10 - Alfa= 30 - Regularizacion=0.1 - iteracion = 50 - Evaluacion = (0.87, 0.814)\n",
      "2020-11-15 15:15:51.048574\n",
      "2020-11-15 15:15:51.048730\n"
     ]
    },
    {
     "data": {
      "application/vnd.jupyter.widget-view+json": {
       "model_id": "3a2d71fafc214acfb4547da93965d79f",
       "version_major": 2,
       "version_minor": 0
      },
      "text/plain": [
       "HBox(children=(HTML(value=''), FloatProgress(value=0.0, max=50.0), HTML(value='')))"
      ]
     },
     "metadata": {},
     "output_type": "display_data"
    },
    {
     "name": "stdout",
     "output_type": "stream",
     "text": [
      "\n"
     ]
    },
    {
     "name": "stderr",
     "output_type": "stream",
     "text": [
      "WARNING:implicit:This method is deprecated. Please use the AlternatingLeastSquares class instead\n"
     ]
    },
    {
     "name": "stdout",
     "output_type": "stream",
     "text": [
      "Factor=10 - Alfa= 30 - Regularizacion=0.1 - iteracion = 100 - Evaluacion = (0.871, 0.814)\n",
      "2020-11-15 15:16:07.620860\n",
      "2020-11-15 15:16:07.621027\n"
     ]
    },
    {
     "data": {
      "application/vnd.jupyter.widget-view+json": {
       "model_id": "f938061e776c406cabadb44aeed936b0",
       "version_major": 2,
       "version_minor": 0
      },
      "text/plain": [
       "HBox(children=(HTML(value=''), FloatProgress(value=0.0, max=50.0), HTML(value='')))"
      ]
     },
     "metadata": {},
     "output_type": "display_data"
    },
    {
     "name": "stdout",
     "output_type": "stream",
     "text": [
      "\n"
     ]
    },
    {
     "name": "stderr",
     "output_type": "stream",
     "text": [
      "WARNING:implicit:This method is deprecated. Please use the AlternatingLeastSquares class instead\n"
     ]
    },
    {
     "name": "stdout",
     "output_type": "stream",
     "text": [
      "Factor=10 - Alfa= 30 - Regularizacion=0.1 - iteracion = 200 - Evaluacion = (0.871, 0.814)\n",
      "2020-11-15 15:16:24.164745\n",
      "2020-11-15 15:16:24.164853\n"
     ]
    },
    {
     "data": {
      "application/vnd.jupyter.widget-view+json": {
       "model_id": "3c54858ddac14acd9fe035f7c5235ee5",
       "version_major": 2,
       "version_minor": 0
      },
      "text/plain": [
       "HBox(children=(HTML(value=''), FloatProgress(value=0.0, max=50.0), HTML(value='')))"
      ]
     },
     "metadata": {},
     "output_type": "display_data"
    },
    {
     "name": "stdout",
     "output_type": "stream",
     "text": [
      "\n"
     ]
    },
    {
     "name": "stderr",
     "output_type": "stream",
     "text": [
      "WARNING:implicit:This method is deprecated. Please use the AlternatingLeastSquares class instead\n"
     ]
    },
    {
     "name": "stdout",
     "output_type": "stream",
     "text": [
      "Factor=10 - Alfa= 30 - Regularizacion=0.2 - iteracion = 10 - Evaluacion = (0.87, 0.814)\n",
      "2020-11-15 15:16:40.799426\n",
      "2020-11-15 15:16:40.799635\n"
     ]
    },
    {
     "data": {
      "application/vnd.jupyter.widget-view+json": {
       "model_id": "22c0b107bfea4aa58ba35fd75243f370",
       "version_major": 2,
       "version_minor": 0
      },
      "text/plain": [
       "HBox(children=(HTML(value=''), FloatProgress(value=0.0, max=50.0), HTML(value='')))"
      ]
     },
     "metadata": {},
     "output_type": "display_data"
    },
    {
     "name": "stdout",
     "output_type": "stream",
     "text": [
      "\n"
     ]
    },
    {
     "name": "stderr",
     "output_type": "stream",
     "text": [
      "WARNING:implicit:This method is deprecated. Please use the AlternatingLeastSquares class instead\n"
     ]
    },
    {
     "name": "stdout",
     "output_type": "stream",
     "text": [
      "Factor=10 - Alfa= 30 - Regularizacion=0.2 - iteracion = 25 - Evaluacion = (0.871, 0.814)\n",
      "2020-11-15 15:16:57.689956\n",
      "2020-11-15 15:16:57.690061\n"
     ]
    },
    {
     "data": {
      "application/vnd.jupyter.widget-view+json": {
       "model_id": "0474d1fa43774b879d609306770bbac7",
       "version_major": 2,
       "version_minor": 0
      },
      "text/plain": [
       "HBox(children=(HTML(value=''), FloatProgress(value=0.0, max=50.0), HTML(value='')))"
      ]
     },
     "metadata": {},
     "output_type": "display_data"
    },
    {
     "name": "stdout",
     "output_type": "stream",
     "text": [
      "\n"
     ]
    },
    {
     "name": "stderr",
     "output_type": "stream",
     "text": [
      "WARNING:implicit:This method is deprecated. Please use the AlternatingLeastSquares class instead\n"
     ]
    },
    {
     "name": "stdout",
     "output_type": "stream",
     "text": [
      "Factor=10 - Alfa= 30 - Regularizacion=0.2 - iteracion = 50 - Evaluacion = (0.871, 0.814)\n",
      "2020-11-15 15:17:14.253564\n",
      "2020-11-15 15:17:14.253672\n"
     ]
    },
    {
     "data": {
      "application/vnd.jupyter.widget-view+json": {
       "model_id": "8e4e25f542454589959e0c7e8b239c54",
       "version_major": 2,
       "version_minor": 0
      },
      "text/plain": [
       "HBox(children=(HTML(value=''), FloatProgress(value=0.0, max=50.0), HTML(value='')))"
      ]
     },
     "metadata": {},
     "output_type": "display_data"
    },
    {
     "name": "stdout",
     "output_type": "stream",
     "text": [
      "\n"
     ]
    },
    {
     "name": "stderr",
     "output_type": "stream",
     "text": [
      "WARNING:implicit:This method is deprecated. Please use the AlternatingLeastSquares class instead\n"
     ]
    },
    {
     "name": "stdout",
     "output_type": "stream",
     "text": [
      "Factor=10 - Alfa= 30 - Regularizacion=0.2 - iteracion = 100 - Evaluacion = (0.87, 0.814)\n",
      "2020-11-15 15:17:30.903163\n",
      "2020-11-15 15:17:30.903265\n"
     ]
    },
    {
     "data": {
      "application/vnd.jupyter.widget-view+json": {
       "model_id": "bfb25e91a44348f58a8d579cd3541d06",
       "version_major": 2,
       "version_minor": 0
      },
      "text/plain": [
       "HBox(children=(HTML(value=''), FloatProgress(value=0.0, max=50.0), HTML(value='')))"
      ]
     },
     "metadata": {},
     "output_type": "display_data"
    },
    {
     "name": "stdout",
     "output_type": "stream",
     "text": [
      "\n"
     ]
    },
    {
     "name": "stderr",
     "output_type": "stream",
     "text": [
      "WARNING:implicit:This method is deprecated. Please use the AlternatingLeastSquares class instead\n"
     ]
    },
    {
     "name": "stdout",
     "output_type": "stream",
     "text": [
      "Factor=10 - Alfa= 30 - Regularizacion=0.2 - iteracion = 200 - Evaluacion = (0.87, 0.814)\n",
      "2020-11-15 15:17:48.289136\n",
      "2020-11-15 15:17:48.289372\n"
     ]
    },
    {
     "data": {
      "application/vnd.jupyter.widget-view+json": {
       "model_id": "3bd720fa01e2416da2a88ae40cce667b",
       "version_major": 2,
       "version_minor": 0
      },
      "text/plain": [
       "HBox(children=(HTML(value=''), FloatProgress(value=0.0, max=50.0), HTML(value='')))"
      ]
     },
     "metadata": {},
     "output_type": "display_data"
    },
    {
     "name": "stdout",
     "output_type": "stream",
     "text": [
      "\n"
     ]
    },
    {
     "name": "stderr",
     "output_type": "stream",
     "text": [
      "WARNING:implicit:This method is deprecated. Please use the AlternatingLeastSquares class instead\n"
     ]
    },
    {
     "name": "stdout",
     "output_type": "stream",
     "text": [
      "Factor=10 - Alfa= 30 - Regularizacion=0.4 - iteracion = 10 - Evaluacion = (0.871, 0.814)\n",
      "2020-11-15 15:18:05.944989\n",
      "2020-11-15 15:18:05.945093\n"
     ]
    },
    {
     "data": {
      "application/vnd.jupyter.widget-view+json": {
       "model_id": "c3e3e752ae7e46b5933d2bcf6ce0d5a4",
       "version_major": 2,
       "version_minor": 0
      },
      "text/plain": [
       "HBox(children=(HTML(value=''), FloatProgress(value=0.0, max=50.0), HTML(value='')))"
      ]
     },
     "metadata": {},
     "output_type": "display_data"
    },
    {
     "name": "stdout",
     "output_type": "stream",
     "text": [
      "\n"
     ]
    },
    {
     "name": "stderr",
     "output_type": "stream",
     "text": [
      "WARNING:implicit:This method is deprecated. Please use the AlternatingLeastSquares class instead\n"
     ]
    },
    {
     "name": "stdout",
     "output_type": "stream",
     "text": [
      "Factor=10 - Alfa= 30 - Regularizacion=0.4 - iteracion = 25 - Evaluacion = (0.871, 0.814)\n",
      "2020-11-15 15:18:23.859844\n",
      "2020-11-15 15:18:23.859986\n"
     ]
    },
    {
     "data": {
      "application/vnd.jupyter.widget-view+json": {
       "model_id": "c6267530748e4ebaa8b61b6e18995aff",
       "version_major": 2,
       "version_minor": 0
      },
      "text/plain": [
       "HBox(children=(HTML(value=''), FloatProgress(value=0.0, max=50.0), HTML(value='')))"
      ]
     },
     "metadata": {},
     "output_type": "display_data"
    },
    {
     "name": "stdout",
     "output_type": "stream",
     "text": [
      "\n"
     ]
    },
    {
     "name": "stderr",
     "output_type": "stream",
     "text": [
      "WARNING:implicit:This method is deprecated. Please use the AlternatingLeastSquares class instead\n"
     ]
    },
    {
     "name": "stdout",
     "output_type": "stream",
     "text": [
      "Factor=10 - Alfa= 30 - Regularizacion=0.4 - iteracion = 50 - Evaluacion = (0.871, 0.814)\n",
      "2020-11-15 15:18:40.668319\n",
      "2020-11-15 15:18:40.668421\n"
     ]
    },
    {
     "data": {
      "application/vnd.jupyter.widget-view+json": {
       "model_id": "459b68896ae24532ac542df094230eb6",
       "version_major": 2,
       "version_minor": 0
      },
      "text/plain": [
       "HBox(children=(HTML(value=''), FloatProgress(value=0.0, max=50.0), HTML(value='')))"
      ]
     },
     "metadata": {},
     "output_type": "display_data"
    },
    {
     "name": "stdout",
     "output_type": "stream",
     "text": [
      "\n"
     ]
    },
    {
     "name": "stderr",
     "output_type": "stream",
     "text": [
      "WARNING:implicit:This method is deprecated. Please use the AlternatingLeastSquares class instead\n"
     ]
    },
    {
     "name": "stdout",
     "output_type": "stream",
     "text": [
      "Factor=10 - Alfa= 30 - Regularizacion=0.4 - iteracion = 100 - Evaluacion = (0.871, 0.814)\n",
      "2020-11-15 15:18:57.726315\n",
      "2020-11-15 15:18:57.726451\n"
     ]
    },
    {
     "data": {
      "application/vnd.jupyter.widget-view+json": {
       "model_id": "b5a30fb817284581b6080f5f22e58355",
       "version_major": 2,
       "version_minor": 0
      },
      "text/plain": [
       "HBox(children=(HTML(value=''), FloatProgress(value=0.0, max=50.0), HTML(value='')))"
      ]
     },
     "metadata": {},
     "output_type": "display_data"
    },
    {
     "name": "stdout",
     "output_type": "stream",
     "text": [
      "\n"
     ]
    },
    {
     "name": "stderr",
     "output_type": "stream",
     "text": [
      "WARNING:implicit:This method is deprecated. Please use the AlternatingLeastSquares class instead\n"
     ]
    },
    {
     "name": "stdout",
     "output_type": "stream",
     "text": [
      "Factor=10 - Alfa= 30 - Regularizacion=0.4 - iteracion = 200 - Evaluacion = (0.872, 0.814)\n",
      "2020-11-15 15:19:14.543060\n",
      "2020-11-15 15:19:14.543167\n"
     ]
    },
    {
     "data": {
      "application/vnd.jupyter.widget-view+json": {
       "model_id": "aca33f29548d497987e5f88d56bc7a28",
       "version_major": 2,
       "version_minor": 0
      },
      "text/plain": [
       "HBox(children=(HTML(value=''), FloatProgress(value=0.0, max=50.0), HTML(value='')))"
      ]
     },
     "metadata": {},
     "output_type": "display_data"
    },
    {
     "name": "stdout",
     "output_type": "stream",
     "text": [
      "\n"
     ]
    },
    {
     "name": "stderr",
     "output_type": "stream",
     "text": [
      "WARNING:implicit:This method is deprecated. Please use the AlternatingLeastSquares class instead\n"
     ]
    },
    {
     "name": "stdout",
     "output_type": "stream",
     "text": [
      "Factor=10 - Alfa= 35 - Regularizacion=0.025 - iteracion = 10 - Evaluacion = (0.871, 0.814)\n",
      "2020-11-15 15:19:32.117894\n",
      "2020-11-15 15:19:32.118068\n"
     ]
    },
    {
     "data": {
      "application/vnd.jupyter.widget-view+json": {
       "model_id": "5ed45fb18c6543ff8da20a4ca726e811",
       "version_major": 2,
       "version_minor": 0
      },
      "text/plain": [
       "HBox(children=(HTML(value=''), FloatProgress(value=0.0, max=50.0), HTML(value='')))"
      ]
     },
     "metadata": {},
     "output_type": "display_data"
    },
    {
     "name": "stdout",
     "output_type": "stream",
     "text": [
      "\n"
     ]
    },
    {
     "name": "stderr",
     "output_type": "stream",
     "text": [
      "WARNING:implicit:This method is deprecated. Please use the AlternatingLeastSquares class instead\n"
     ]
    },
    {
     "name": "stdout",
     "output_type": "stream",
     "text": [
      "Factor=10 - Alfa= 35 - Regularizacion=0.025 - iteracion = 25 - Evaluacion = (0.872, 0.814)\n",
      "2020-11-15 15:19:50.408272\n",
      "2020-11-15 15:19:50.408365\n"
     ]
    },
    {
     "data": {
      "application/vnd.jupyter.widget-view+json": {
       "model_id": "c8ba3d73bc894a908a6206612fe4dcb4",
       "version_major": 2,
       "version_minor": 0
      },
      "text/plain": [
       "HBox(children=(HTML(value=''), FloatProgress(value=0.0, max=50.0), HTML(value='')))"
      ]
     },
     "metadata": {},
     "output_type": "display_data"
    },
    {
     "name": "stdout",
     "output_type": "stream",
     "text": [
      "\n"
     ]
    },
    {
     "name": "stderr",
     "output_type": "stream",
     "text": [
      "WARNING:implicit:This method is deprecated. Please use the AlternatingLeastSquares class instead\n"
     ]
    },
    {
     "name": "stdout",
     "output_type": "stream",
     "text": [
      "Factor=10 - Alfa= 35 - Regularizacion=0.025 - iteracion = 50 - Evaluacion = (0.87, 0.814)\n",
      "2020-11-15 15:20:08.840382\n",
      "2020-11-15 15:20:08.840645\n"
     ]
    },
    {
     "data": {
      "application/vnd.jupyter.widget-view+json": {
       "model_id": "e9ad8c130ed340b9b0bfe70b001fb03d",
       "version_major": 2,
       "version_minor": 0
      },
      "text/plain": [
       "HBox(children=(HTML(value=''), FloatProgress(value=0.0, max=50.0), HTML(value='')))"
      ]
     },
     "metadata": {},
     "output_type": "display_data"
    },
    {
     "name": "stdout",
     "output_type": "stream",
     "text": [
      "\n"
     ]
    },
    {
     "name": "stderr",
     "output_type": "stream",
     "text": [
      "WARNING:implicit:This method is deprecated. Please use the AlternatingLeastSquares class instead\n"
     ]
    },
    {
     "name": "stdout",
     "output_type": "stream",
     "text": [
      "Factor=10 - Alfa= 35 - Regularizacion=0.025 - iteracion = 100 - Evaluacion = (0.87, 0.814)\n",
      "2020-11-15 15:20:25.769168\n",
      "2020-11-15 15:20:25.769274\n"
     ]
    },
    {
     "data": {
      "application/vnd.jupyter.widget-view+json": {
       "model_id": "1cb96db713b342149ca13cad45527fbc",
       "version_major": 2,
       "version_minor": 0
      },
      "text/plain": [
       "HBox(children=(HTML(value=''), FloatProgress(value=0.0, max=50.0), HTML(value='')))"
      ]
     },
     "metadata": {},
     "output_type": "display_data"
    },
    {
     "name": "stdout",
     "output_type": "stream",
     "text": [
      "\n"
     ]
    },
    {
     "name": "stderr",
     "output_type": "stream",
     "text": [
      "WARNING:implicit:This method is deprecated. Please use the AlternatingLeastSquares class instead\n"
     ]
    },
    {
     "name": "stdout",
     "output_type": "stream",
     "text": [
      "Factor=10 - Alfa= 35 - Regularizacion=0.025 - iteracion = 200 - Evaluacion = (0.871, 0.814)\n",
      "2020-11-15 15:20:45.629600\n",
      "2020-11-15 15:20:45.629720\n"
     ]
    },
    {
     "data": {
      "application/vnd.jupyter.widget-view+json": {
       "model_id": "a1ead0a0740c4eefb37a067386dc73fe",
       "version_major": 2,
       "version_minor": 0
      },
      "text/plain": [
       "HBox(children=(HTML(value=''), FloatProgress(value=0.0, max=50.0), HTML(value='')))"
      ]
     },
     "metadata": {},
     "output_type": "display_data"
    },
    {
     "name": "stdout",
     "output_type": "stream",
     "text": [
      "\n"
     ]
    },
    {
     "name": "stderr",
     "output_type": "stream",
     "text": [
      "WARNING:implicit:This method is deprecated. Please use the AlternatingLeastSquares class instead\n"
     ]
    },
    {
     "name": "stdout",
     "output_type": "stream",
     "text": [
      "Factor=10 - Alfa= 35 - Regularizacion=0.05 - iteracion = 10 - Evaluacion = (0.871, 0.814)\n",
      "2020-11-15 15:21:03.036909\n",
      "2020-11-15 15:21:03.037017\n"
     ]
    },
    {
     "data": {
      "application/vnd.jupyter.widget-view+json": {
       "model_id": "7a2e0094514a416c81a7e08abb66e0c6",
       "version_major": 2,
       "version_minor": 0
      },
      "text/plain": [
       "HBox(children=(HTML(value=''), FloatProgress(value=0.0, max=50.0), HTML(value='')))"
      ]
     },
     "metadata": {},
     "output_type": "display_data"
    },
    {
     "name": "stdout",
     "output_type": "stream",
     "text": [
      "\n"
     ]
    },
    {
     "name": "stderr",
     "output_type": "stream",
     "text": [
      "WARNING:implicit:This method is deprecated. Please use the AlternatingLeastSquares class instead\n"
     ]
    },
    {
     "name": "stdout",
     "output_type": "stream",
     "text": [
      "Factor=10 - Alfa= 35 - Regularizacion=0.05 - iteracion = 25 - Evaluacion = (0.87, 0.814)\n",
      "2020-11-15 15:21:19.732319\n",
      "2020-11-15 15:21:19.732427\n"
     ]
    },
    {
     "data": {
      "application/vnd.jupyter.widget-view+json": {
       "model_id": "2c5a19562363499bb94192cfb1301c2e",
       "version_major": 2,
       "version_minor": 0
      },
      "text/plain": [
       "HBox(children=(HTML(value=''), FloatProgress(value=0.0, max=50.0), HTML(value='')))"
      ]
     },
     "metadata": {},
     "output_type": "display_data"
    },
    {
     "name": "stdout",
     "output_type": "stream",
     "text": [
      "\n"
     ]
    },
    {
     "name": "stderr",
     "output_type": "stream",
     "text": [
      "WARNING:implicit:This method is deprecated. Please use the AlternatingLeastSquares class instead\n"
     ]
    },
    {
     "name": "stdout",
     "output_type": "stream",
     "text": [
      "Factor=10 - Alfa= 35 - Regularizacion=0.05 - iteracion = 50 - Evaluacion = (0.869, 0.814)\n",
      "2020-11-15 15:21:36.495923\n",
      "2020-11-15 15:21:36.496036\n"
     ]
    },
    {
     "data": {
      "application/vnd.jupyter.widget-view+json": {
       "model_id": "ecc881416b244432acbf58842d77eb2e",
       "version_major": 2,
       "version_minor": 0
      },
      "text/plain": [
       "HBox(children=(HTML(value=''), FloatProgress(value=0.0, max=50.0), HTML(value='')))"
      ]
     },
     "metadata": {},
     "output_type": "display_data"
    },
    {
     "name": "stdout",
     "output_type": "stream",
     "text": [
      "\n"
     ]
    },
    {
     "name": "stderr",
     "output_type": "stream",
     "text": [
      "WARNING:implicit:This method is deprecated. Please use the AlternatingLeastSquares class instead\n"
     ]
    },
    {
     "name": "stdout",
     "output_type": "stream",
     "text": [
      "Factor=10 - Alfa= 35 - Regularizacion=0.05 - iteracion = 100 - Evaluacion = (0.87, 0.814)\n",
      "2020-11-15 15:21:54.447500\n",
      "2020-11-15 15:21:54.447720\n"
     ]
    },
    {
     "data": {
      "application/vnd.jupyter.widget-view+json": {
       "model_id": "46009b459bd7454dbd6eabf59b75dd64",
       "version_major": 2,
       "version_minor": 0
      },
      "text/plain": [
       "HBox(children=(HTML(value=''), FloatProgress(value=0.0, max=50.0), HTML(value='')))"
      ]
     },
     "metadata": {},
     "output_type": "display_data"
    },
    {
     "name": "stdout",
     "output_type": "stream",
     "text": [
      "\n"
     ]
    },
    {
     "name": "stderr",
     "output_type": "stream",
     "text": [
      "WARNING:implicit:This method is deprecated. Please use the AlternatingLeastSquares class instead\n"
     ]
    },
    {
     "name": "stdout",
     "output_type": "stream",
     "text": [
      "Factor=10 - Alfa= 35 - Regularizacion=0.05 - iteracion = 200 - Evaluacion = (0.87, 0.814)\n",
      "2020-11-15 15:22:12.619300\n",
      "2020-11-15 15:22:12.619433\n"
     ]
    },
    {
     "data": {
      "application/vnd.jupyter.widget-view+json": {
       "model_id": "2239bb3dd5614d23bb7a721dbef521d6",
       "version_major": 2,
       "version_minor": 0
      },
      "text/plain": [
       "HBox(children=(HTML(value=''), FloatProgress(value=0.0, max=50.0), HTML(value='')))"
      ]
     },
     "metadata": {},
     "output_type": "display_data"
    },
    {
     "name": "stdout",
     "output_type": "stream",
     "text": [
      "\n"
     ]
    },
    {
     "name": "stderr",
     "output_type": "stream",
     "text": [
      "WARNING:implicit:This method is deprecated. Please use the AlternatingLeastSquares class instead\n"
     ]
    },
    {
     "name": "stdout",
     "output_type": "stream",
     "text": [
      "Factor=10 - Alfa= 35 - Regularizacion=0.1 - iteracion = 10 - Evaluacion = (0.87, 0.814)\n",
      "2020-11-15 15:22:29.114048\n",
      "2020-11-15 15:22:29.114150\n"
     ]
    },
    {
     "data": {
      "application/vnd.jupyter.widget-view+json": {
       "model_id": "5dc4ce8c2e0f4857ac92beafa6fb7fd6",
       "version_major": 2,
       "version_minor": 0
      },
      "text/plain": [
       "HBox(children=(HTML(value=''), FloatProgress(value=0.0, max=50.0), HTML(value='')))"
      ]
     },
     "metadata": {},
     "output_type": "display_data"
    },
    {
     "name": "stdout",
     "output_type": "stream",
     "text": [
      "\n"
     ]
    },
    {
     "name": "stderr",
     "output_type": "stream",
     "text": [
      "WARNING:implicit:This method is deprecated. Please use the AlternatingLeastSquares class instead\n"
     ]
    },
    {
     "name": "stdout",
     "output_type": "stream",
     "text": [
      "Factor=10 - Alfa= 35 - Regularizacion=0.1 - iteracion = 25 - Evaluacion = (0.871, 0.814)\n",
      "2020-11-15 15:22:46.089076\n",
      "2020-11-15 15:22:46.089179\n"
     ]
    },
    {
     "data": {
      "application/vnd.jupyter.widget-view+json": {
       "model_id": "dd2fcc312ea74281a81828df196e2f06",
       "version_major": 2,
       "version_minor": 0
      },
      "text/plain": [
       "HBox(children=(HTML(value=''), FloatProgress(value=0.0, max=50.0), HTML(value='')))"
      ]
     },
     "metadata": {},
     "output_type": "display_data"
    },
    {
     "name": "stdout",
     "output_type": "stream",
     "text": [
      "\n"
     ]
    },
    {
     "name": "stderr",
     "output_type": "stream",
     "text": [
      "WARNING:implicit:This method is deprecated. Please use the AlternatingLeastSquares class instead\n"
     ]
    },
    {
     "name": "stdout",
     "output_type": "stream",
     "text": [
      "Factor=10 - Alfa= 35 - Regularizacion=0.1 - iteracion = 50 - Evaluacion = (0.87, 0.814)\n",
      "2020-11-15 15:23:03.735488\n",
      "2020-11-15 15:23:03.735600\n"
     ]
    },
    {
     "data": {
      "application/vnd.jupyter.widget-view+json": {
       "model_id": "c0adafd84d814abf9f402c61977b956a",
       "version_major": 2,
       "version_minor": 0
      },
      "text/plain": [
       "HBox(children=(HTML(value=''), FloatProgress(value=0.0, max=50.0), HTML(value='')))"
      ]
     },
     "metadata": {},
     "output_type": "display_data"
    },
    {
     "name": "stdout",
     "output_type": "stream",
     "text": [
      "\n"
     ]
    },
    {
     "name": "stderr",
     "output_type": "stream",
     "text": [
      "WARNING:implicit:This method is deprecated. Please use the AlternatingLeastSquares class instead\n"
     ]
    },
    {
     "name": "stdout",
     "output_type": "stream",
     "text": [
      "Factor=10 - Alfa= 35 - Regularizacion=0.1 - iteracion = 100 - Evaluacion = (0.871, 0.814)\n",
      "2020-11-15 15:23:21.347425\n",
      "2020-11-15 15:23:21.347528\n"
     ]
    },
    {
     "data": {
      "application/vnd.jupyter.widget-view+json": {
       "model_id": "1f1903f546414a789adaefb56af402c4",
       "version_major": 2,
       "version_minor": 0
      },
      "text/plain": [
       "HBox(children=(HTML(value=''), FloatProgress(value=0.0, max=50.0), HTML(value='')))"
      ]
     },
     "metadata": {},
     "output_type": "display_data"
    },
    {
     "name": "stdout",
     "output_type": "stream",
     "text": [
      "\n"
     ]
    },
    {
     "name": "stderr",
     "output_type": "stream",
     "text": [
      "WARNING:implicit:This method is deprecated. Please use the AlternatingLeastSquares class instead\n"
     ]
    },
    {
     "name": "stdout",
     "output_type": "stream",
     "text": [
      "Factor=10 - Alfa= 35 - Regularizacion=0.1 - iteracion = 200 - Evaluacion = (0.87, 0.814)\n",
      "2020-11-15 15:23:38.304634\n",
      "2020-11-15 15:23:38.304739\n"
     ]
    },
    {
     "data": {
      "application/vnd.jupyter.widget-view+json": {
       "model_id": "3f209a6ef3b341318b60b162f0d9871e",
       "version_major": 2,
       "version_minor": 0
      },
      "text/plain": [
       "HBox(children=(HTML(value=''), FloatProgress(value=0.0, max=50.0), HTML(value='')))"
      ]
     },
     "metadata": {},
     "output_type": "display_data"
    },
    {
     "name": "stdout",
     "output_type": "stream",
     "text": [
      "\n"
     ]
    },
    {
     "name": "stderr",
     "output_type": "stream",
     "text": [
      "WARNING:implicit:This method is deprecated. Please use the AlternatingLeastSquares class instead\n"
     ]
    },
    {
     "name": "stdout",
     "output_type": "stream",
     "text": [
      "Factor=10 - Alfa= 35 - Regularizacion=0.2 - iteracion = 10 - Evaluacion = (0.869, 0.814)\n",
      "2020-11-15 15:23:56.003593\n",
      "2020-11-15 15:23:56.003715\n"
     ]
    },
    {
     "data": {
      "application/vnd.jupyter.widget-view+json": {
       "model_id": "a90191897e384c84aa27b1e033d1101c",
       "version_major": 2,
       "version_minor": 0
      },
      "text/plain": [
       "HBox(children=(HTML(value=''), FloatProgress(value=0.0, max=50.0), HTML(value='')))"
      ]
     },
     "metadata": {},
     "output_type": "display_data"
    },
    {
     "name": "stdout",
     "output_type": "stream",
     "text": [
      "\n"
     ]
    },
    {
     "name": "stderr",
     "output_type": "stream",
     "text": [
      "WARNING:implicit:This method is deprecated. Please use the AlternatingLeastSquares class instead\n"
     ]
    },
    {
     "name": "stdout",
     "output_type": "stream",
     "text": [
      "Factor=10 - Alfa= 35 - Regularizacion=0.2 - iteracion = 25 - Evaluacion = (0.87, 0.814)\n",
      "2020-11-15 15:24:15.317163\n",
      "2020-11-15 15:24:15.317271\n"
     ]
    },
    {
     "data": {
      "application/vnd.jupyter.widget-view+json": {
       "model_id": "a4c071e0b70342e09e8244c606a4959d",
       "version_major": 2,
       "version_minor": 0
      },
      "text/plain": [
       "HBox(children=(HTML(value=''), FloatProgress(value=0.0, max=50.0), HTML(value='')))"
      ]
     },
     "metadata": {},
     "output_type": "display_data"
    },
    {
     "name": "stdout",
     "output_type": "stream",
     "text": [
      "\n"
     ]
    },
    {
     "name": "stderr",
     "output_type": "stream",
     "text": [
      "WARNING:implicit:This method is deprecated. Please use the AlternatingLeastSquares class instead\n"
     ]
    },
    {
     "name": "stdout",
     "output_type": "stream",
     "text": [
      "Factor=10 - Alfa= 35 - Regularizacion=0.2 - iteracion = 50 - Evaluacion = (0.87, 0.814)\n",
      "2020-11-15 15:24:34.061992\n",
      "2020-11-15 15:24:34.062109\n"
     ]
    },
    {
     "data": {
      "application/vnd.jupyter.widget-view+json": {
       "model_id": "67a05335190646439c02a70c6cb5d1b7",
       "version_major": 2,
       "version_minor": 0
      },
      "text/plain": [
       "HBox(children=(HTML(value=''), FloatProgress(value=0.0, max=50.0), HTML(value='')))"
      ]
     },
     "metadata": {},
     "output_type": "display_data"
    },
    {
     "name": "stdout",
     "output_type": "stream",
     "text": [
      "\n"
     ]
    },
    {
     "name": "stderr",
     "output_type": "stream",
     "text": [
      "WARNING:implicit:This method is deprecated. Please use the AlternatingLeastSquares class instead\n"
     ]
    },
    {
     "name": "stdout",
     "output_type": "stream",
     "text": [
      "Factor=10 - Alfa= 35 - Regularizacion=0.2 - iteracion = 100 - Evaluacion = (0.871, 0.814)\n",
      "2020-11-15 15:24:51.545341\n",
      "2020-11-15 15:24:51.545545\n"
     ]
    },
    {
     "data": {
      "application/vnd.jupyter.widget-view+json": {
       "model_id": "8235b2c5aef940e6a4179aa54afa992d",
       "version_major": 2,
       "version_minor": 0
      },
      "text/plain": [
       "HBox(children=(HTML(value=''), FloatProgress(value=0.0, max=50.0), HTML(value='')))"
      ]
     },
     "metadata": {},
     "output_type": "display_data"
    },
    {
     "name": "stdout",
     "output_type": "stream",
     "text": [
      "\n"
     ]
    },
    {
     "name": "stderr",
     "output_type": "stream",
     "text": [
      "WARNING:implicit:This method is deprecated. Please use the AlternatingLeastSquares class instead\n"
     ]
    },
    {
     "name": "stdout",
     "output_type": "stream",
     "text": [
      "Factor=10 - Alfa= 35 - Regularizacion=0.2 - iteracion = 200 - Evaluacion = (0.87, 0.814)\n",
      "2020-11-15 15:25:09.472098\n",
      "2020-11-15 15:25:09.472204\n"
     ]
    },
    {
     "data": {
      "application/vnd.jupyter.widget-view+json": {
       "model_id": "76ff98822d4d4c5a825cc3c775ab63c4",
       "version_major": 2,
       "version_minor": 0
      },
      "text/plain": [
       "HBox(children=(HTML(value=''), FloatProgress(value=0.0, max=50.0), HTML(value='')))"
      ]
     },
     "metadata": {},
     "output_type": "display_data"
    },
    {
     "name": "stdout",
     "output_type": "stream",
     "text": [
      "\n"
     ]
    },
    {
     "name": "stderr",
     "output_type": "stream",
     "text": [
      "WARNING:implicit:This method is deprecated. Please use the AlternatingLeastSquares class instead\n"
     ]
    },
    {
     "name": "stdout",
     "output_type": "stream",
     "text": [
      "Factor=10 - Alfa= 35 - Regularizacion=0.4 - iteracion = 10 - Evaluacion = (0.87, 0.814)\n",
      "2020-11-15 15:25:28.298363\n",
      "2020-11-15 15:25:28.298475\n"
     ]
    },
    {
     "data": {
      "application/vnd.jupyter.widget-view+json": {
       "model_id": "1e9fe97f4fba4c719b5e5286240adea6",
       "version_major": 2,
       "version_minor": 0
      },
      "text/plain": [
       "HBox(children=(HTML(value=''), FloatProgress(value=0.0, max=50.0), HTML(value='')))"
      ]
     },
     "metadata": {},
     "output_type": "display_data"
    },
    {
     "name": "stdout",
     "output_type": "stream",
     "text": [
      "\n"
     ]
    },
    {
     "name": "stderr",
     "output_type": "stream",
     "text": [
      "WARNING:implicit:This method is deprecated. Please use the AlternatingLeastSquares class instead\n"
     ]
    },
    {
     "name": "stdout",
     "output_type": "stream",
     "text": [
      "Factor=10 - Alfa= 35 - Regularizacion=0.4 - iteracion = 25 - Evaluacion = (0.871, 0.814)\n",
      "2020-11-15 15:25:46.394020\n",
      "2020-11-15 15:25:46.394170\n"
     ]
    },
    {
     "data": {
      "application/vnd.jupyter.widget-view+json": {
       "model_id": "2f8c86e13b294e3ab5a3f4f0030b1797",
       "version_major": 2,
       "version_minor": 0
      },
      "text/plain": [
       "HBox(children=(HTML(value=''), FloatProgress(value=0.0, max=50.0), HTML(value='')))"
      ]
     },
     "metadata": {},
     "output_type": "display_data"
    },
    {
     "name": "stdout",
     "output_type": "stream",
     "text": [
      "\n"
     ]
    },
    {
     "name": "stderr",
     "output_type": "stream",
     "text": [
      "WARNING:implicit:This method is deprecated. Please use the AlternatingLeastSquares class instead\n"
     ]
    },
    {
     "name": "stdout",
     "output_type": "stream",
     "text": [
      "Factor=10 - Alfa= 35 - Regularizacion=0.4 - iteracion = 50 - Evaluacion = (0.87, 0.814)\n",
      "2020-11-15 15:26:04.160607\n",
      "2020-11-15 15:26:04.160752\n"
     ]
    },
    {
     "data": {
      "application/vnd.jupyter.widget-view+json": {
       "model_id": "2c56494d8b6743baa957a4dad2e43f90",
       "version_major": 2,
       "version_minor": 0
      },
      "text/plain": [
       "HBox(children=(HTML(value=''), FloatProgress(value=0.0, max=50.0), HTML(value='')))"
      ]
     },
     "metadata": {},
     "output_type": "display_data"
    },
    {
     "name": "stdout",
     "output_type": "stream",
     "text": [
      "\n"
     ]
    },
    {
     "name": "stderr",
     "output_type": "stream",
     "text": [
      "WARNING:implicit:This method is deprecated. Please use the AlternatingLeastSquares class instead\n"
     ]
    },
    {
     "name": "stdout",
     "output_type": "stream",
     "text": [
      "Factor=10 - Alfa= 35 - Regularizacion=0.4 - iteracion = 100 - Evaluacion = (0.87, 0.814)\n",
      "2020-11-15 15:26:21.430154\n",
      "2020-11-15 15:26:21.430354\n"
     ]
    },
    {
     "data": {
      "application/vnd.jupyter.widget-view+json": {
       "model_id": "6235f6b0ca354f9fb092092ba209afdb",
       "version_major": 2,
       "version_minor": 0
      },
      "text/plain": [
       "HBox(children=(HTML(value=''), FloatProgress(value=0.0, max=50.0), HTML(value='')))"
      ]
     },
     "metadata": {},
     "output_type": "display_data"
    },
    {
     "name": "stdout",
     "output_type": "stream",
     "text": [
      "\n"
     ]
    },
    {
     "name": "stderr",
     "output_type": "stream",
     "text": [
      "WARNING:implicit:This method is deprecated. Please use the AlternatingLeastSquares class instead\n"
     ]
    },
    {
     "name": "stdout",
     "output_type": "stream",
     "text": [
      "Factor=10 - Alfa= 35 - Regularizacion=0.4 - iteracion = 200 - Evaluacion = (0.871, 0.814)\n",
      "2020-11-15 15:26:38.760565\n",
      "2020-11-15 15:26:38.760730\n"
     ]
    },
    {
     "data": {
      "application/vnd.jupyter.widget-view+json": {
       "model_id": "a9b68b22e6124ef3b0685ffaa6f45455",
       "version_major": 2,
       "version_minor": 0
      },
      "text/plain": [
       "HBox(children=(HTML(value=''), FloatProgress(value=0.0, max=50.0), HTML(value='')))"
      ]
     },
     "metadata": {},
     "output_type": "display_data"
    },
    {
     "name": "stdout",
     "output_type": "stream",
     "text": [
      "\n"
     ]
    },
    {
     "name": "stderr",
     "output_type": "stream",
     "text": [
      "WARNING:implicit:This method is deprecated. Please use the AlternatingLeastSquares class instead\n"
     ]
    },
    {
     "name": "stdout",
     "output_type": "stream",
     "text": [
      "Factor=20 - Alfa= 5 - Regularizacion=0.025 - iteracion = 10 - Evaluacion = (0.871, 0.814)\n",
      "2020-11-15 15:26:56.128113\n",
      "2020-11-15 15:26:56.128211\n"
     ]
    },
    {
     "data": {
      "application/vnd.jupyter.widget-view+json": {
       "model_id": "b6b7e8d0116740b4a6a2988c5386c1f2",
       "version_major": 2,
       "version_minor": 0
      },
      "text/plain": [
       "HBox(children=(HTML(value=''), FloatProgress(value=0.0, max=50.0), HTML(value='')))"
      ]
     },
     "metadata": {},
     "output_type": "display_data"
    },
    {
     "name": "stdout",
     "output_type": "stream",
     "text": [
      "\n"
     ]
    },
    {
     "name": "stderr",
     "output_type": "stream",
     "text": [
      "WARNING:implicit:This method is deprecated. Please use the AlternatingLeastSquares class instead\n"
     ]
    },
    {
     "name": "stdout",
     "output_type": "stream",
     "text": [
      "Factor=20 - Alfa= 5 - Regularizacion=0.025 - iteracion = 25 - Evaluacion = (0.871, 0.814)\n",
      "2020-11-15 15:27:17.457775\n",
      "2020-11-15 15:27:17.457916\n"
     ]
    },
    {
     "data": {
      "application/vnd.jupyter.widget-view+json": {
       "model_id": "81c9b8b65fe64e9390f88778d298aa8f",
       "version_major": 2,
       "version_minor": 0
      },
      "text/plain": [
       "HBox(children=(HTML(value=''), FloatProgress(value=0.0, max=50.0), HTML(value='')))"
      ]
     },
     "metadata": {},
     "output_type": "display_data"
    },
    {
     "name": "stdout",
     "output_type": "stream",
     "text": [
      "\n"
     ]
    },
    {
     "name": "stderr",
     "output_type": "stream",
     "text": [
      "WARNING:implicit:This method is deprecated. Please use the AlternatingLeastSquares class instead\n"
     ]
    },
    {
     "name": "stdout",
     "output_type": "stream",
     "text": [
      "Factor=20 - Alfa= 5 - Regularizacion=0.025 - iteracion = 50 - Evaluacion = (0.87, 0.814)\n",
      "2020-11-15 15:27:36.768988\n",
      "2020-11-15 15:27:36.769089\n"
     ]
    },
    {
     "data": {
      "application/vnd.jupyter.widget-view+json": {
       "model_id": "5244a814814a4eea8b7a553ebb68203e",
       "version_major": 2,
       "version_minor": 0
      },
      "text/plain": [
       "HBox(children=(HTML(value=''), FloatProgress(value=0.0, max=50.0), HTML(value='')))"
      ]
     },
     "metadata": {},
     "output_type": "display_data"
    },
    {
     "name": "stdout",
     "output_type": "stream",
     "text": [
      "\n"
     ]
    },
    {
     "name": "stderr",
     "output_type": "stream",
     "text": [
      "WARNING:implicit:This method is deprecated. Please use the AlternatingLeastSquares class instead\n"
     ]
    },
    {
     "name": "stdout",
     "output_type": "stream",
     "text": [
      "Factor=20 - Alfa= 5 - Regularizacion=0.025 - iteracion = 100 - Evaluacion = (0.871, 0.814)\n",
      "2020-11-15 15:27:55.314710\n",
      "2020-11-15 15:27:55.314807\n"
     ]
    },
    {
     "data": {
      "application/vnd.jupyter.widget-view+json": {
       "model_id": "cb240993e82843f8b9c159d3857db45b",
       "version_major": 2,
       "version_minor": 0
      },
      "text/plain": [
       "HBox(children=(HTML(value=''), FloatProgress(value=0.0, max=50.0), HTML(value='')))"
      ]
     },
     "metadata": {},
     "output_type": "display_data"
    },
    {
     "name": "stdout",
     "output_type": "stream",
     "text": [
      "\n"
     ]
    },
    {
     "name": "stderr",
     "output_type": "stream",
     "text": [
      "WARNING:implicit:This method is deprecated. Please use the AlternatingLeastSquares class instead\n"
     ]
    },
    {
     "name": "stdout",
     "output_type": "stream",
     "text": [
      "Factor=20 - Alfa= 5 - Regularizacion=0.025 - iteracion = 200 - Evaluacion = (0.87, 0.814)\n",
      "2020-11-15 15:28:14.470415\n",
      "2020-11-15 15:28:14.471118\n"
     ]
    },
    {
     "data": {
      "application/vnd.jupyter.widget-view+json": {
       "model_id": "5e319bf991234bb4bff9de1f49ad6267",
       "version_major": 2,
       "version_minor": 0
      },
      "text/plain": [
       "HBox(children=(HTML(value=''), FloatProgress(value=0.0, max=50.0), HTML(value='')))"
      ]
     },
     "metadata": {},
     "output_type": "display_data"
    },
    {
     "name": "stdout",
     "output_type": "stream",
     "text": [
      "\n"
     ]
    },
    {
     "name": "stderr",
     "output_type": "stream",
     "text": [
      "WARNING:implicit:This method is deprecated. Please use the AlternatingLeastSquares class instead\n"
     ]
    },
    {
     "name": "stdout",
     "output_type": "stream",
     "text": [
      "Factor=20 - Alfa= 5 - Regularizacion=0.05 - iteracion = 10 - Evaluacion = (0.871, 0.814)\n",
      "2020-11-15 15:28:32.073737\n",
      "2020-11-15 15:28:32.073841\n"
     ]
    },
    {
     "data": {
      "application/vnd.jupyter.widget-view+json": {
       "model_id": "add3e0acbcf24bf39debeb8c5c350cd3",
       "version_major": 2,
       "version_minor": 0
      },
      "text/plain": [
       "HBox(children=(HTML(value=''), FloatProgress(value=0.0, max=50.0), HTML(value='')))"
      ]
     },
     "metadata": {},
     "output_type": "display_data"
    },
    {
     "name": "stdout",
     "output_type": "stream",
     "text": [
      "\n"
     ]
    },
    {
     "name": "stderr",
     "output_type": "stream",
     "text": [
      "WARNING:implicit:This method is deprecated. Please use the AlternatingLeastSquares class instead\n"
     ]
    },
    {
     "name": "stdout",
     "output_type": "stream",
     "text": [
      "Factor=20 - Alfa= 5 - Regularizacion=0.05 - iteracion = 25 - Evaluacion = (0.871, 0.814)\n",
      "2020-11-15 15:28:50.423452\n",
      "2020-11-15 15:28:50.423576\n"
     ]
    },
    {
     "data": {
      "application/vnd.jupyter.widget-view+json": {
       "model_id": "aece38f45437423880db45898ed12b75",
       "version_major": 2,
       "version_minor": 0
      },
      "text/plain": [
       "HBox(children=(HTML(value=''), FloatProgress(value=0.0, max=50.0), HTML(value='')))"
      ]
     },
     "metadata": {},
     "output_type": "display_data"
    },
    {
     "name": "stdout",
     "output_type": "stream",
     "text": [
      "\n"
     ]
    },
    {
     "name": "stderr",
     "output_type": "stream",
     "text": [
      "WARNING:implicit:This method is deprecated. Please use the AlternatingLeastSquares class instead\n"
     ]
    },
    {
     "name": "stdout",
     "output_type": "stream",
     "text": [
      "Factor=20 - Alfa= 5 - Regularizacion=0.05 - iteracion = 50 - Evaluacion = (0.87, 0.814)\n",
      "2020-11-15 15:29:10.174518\n",
      "2020-11-15 15:29:10.174630\n"
     ]
    },
    {
     "data": {
      "application/vnd.jupyter.widget-view+json": {
       "model_id": "eb5ee64227c94de38f58bcda7f53b0bd",
       "version_major": 2,
       "version_minor": 0
      },
      "text/plain": [
       "HBox(children=(HTML(value=''), FloatProgress(value=0.0, max=50.0), HTML(value='')))"
      ]
     },
     "metadata": {},
     "output_type": "display_data"
    },
    {
     "name": "stdout",
     "output_type": "stream",
     "text": [
      "\n"
     ]
    },
    {
     "name": "stderr",
     "output_type": "stream",
     "text": [
      "WARNING:implicit:This method is deprecated. Please use the AlternatingLeastSquares class instead\n"
     ]
    },
    {
     "name": "stdout",
     "output_type": "stream",
     "text": [
      "Factor=20 - Alfa= 5 - Regularizacion=0.05 - iteracion = 100 - Evaluacion = (0.872, 0.814)\n",
      "2020-11-15 15:29:29.111867\n",
      "2020-11-15 15:29:29.112003\n"
     ]
    },
    {
     "data": {
      "application/vnd.jupyter.widget-view+json": {
       "model_id": "f181c2997c77429ba4244f383cdfcd01",
       "version_major": 2,
       "version_minor": 0
      },
      "text/plain": [
       "HBox(children=(HTML(value=''), FloatProgress(value=0.0, max=50.0), HTML(value='')))"
      ]
     },
     "metadata": {},
     "output_type": "display_data"
    },
    {
     "name": "stdout",
     "output_type": "stream",
     "text": [
      "\n"
     ]
    },
    {
     "name": "stderr",
     "output_type": "stream",
     "text": [
      "WARNING:implicit:This method is deprecated. Please use the AlternatingLeastSquares class instead\n"
     ]
    },
    {
     "name": "stdout",
     "output_type": "stream",
     "text": [
      "Factor=20 - Alfa= 5 - Regularizacion=0.05 - iteracion = 200 - Evaluacion = (0.871, 0.814)\n",
      "2020-11-15 15:29:48.247098\n",
      "2020-11-15 15:29:48.247199\n"
     ]
    },
    {
     "data": {
      "application/vnd.jupyter.widget-view+json": {
       "model_id": "8e87cada80144cee9a665c566da372b5",
       "version_major": 2,
       "version_minor": 0
      },
      "text/plain": [
       "HBox(children=(HTML(value=''), FloatProgress(value=0.0, max=50.0), HTML(value='')))"
      ]
     },
     "metadata": {},
     "output_type": "display_data"
    },
    {
     "name": "stdout",
     "output_type": "stream",
     "text": [
      "\n"
     ]
    },
    {
     "name": "stderr",
     "output_type": "stream",
     "text": [
      "WARNING:implicit:This method is deprecated. Please use the AlternatingLeastSquares class instead\n"
     ]
    },
    {
     "name": "stdout",
     "output_type": "stream",
     "text": [
      "Factor=20 - Alfa= 5 - Regularizacion=0.1 - iteracion = 10 - Evaluacion = (0.87, 0.814)\n",
      "2020-11-15 15:30:06.182593\n",
      "2020-11-15 15:30:06.182711\n"
     ]
    },
    {
     "data": {
      "application/vnd.jupyter.widget-view+json": {
       "model_id": "e30a34cae0dd48c9974792e78f13cf72",
       "version_major": 2,
       "version_minor": 0
      },
      "text/plain": [
       "HBox(children=(HTML(value=''), FloatProgress(value=0.0, max=50.0), HTML(value='')))"
      ]
     },
     "metadata": {},
     "output_type": "display_data"
    },
    {
     "name": "stdout",
     "output_type": "stream",
     "text": [
      "\n"
     ]
    },
    {
     "name": "stderr",
     "output_type": "stream",
     "text": [
      "WARNING:implicit:This method is deprecated. Please use the AlternatingLeastSquares class instead\n"
     ]
    },
    {
     "name": "stdout",
     "output_type": "stream",
     "text": [
      "Factor=20 - Alfa= 5 - Regularizacion=0.1 - iteracion = 25 - Evaluacion = (0.871, 0.814)\n",
      "2020-11-15 15:30:23.715802\n",
      "2020-11-15 15:30:23.715913\n"
     ]
    },
    {
     "data": {
      "application/vnd.jupyter.widget-view+json": {
       "model_id": "f229410fc7ce43eaa514ba6ef10a36d1",
       "version_major": 2,
       "version_minor": 0
      },
      "text/plain": [
       "HBox(children=(HTML(value=''), FloatProgress(value=0.0, max=50.0), HTML(value='')))"
      ]
     },
     "metadata": {},
     "output_type": "display_data"
    },
    {
     "name": "stdout",
     "output_type": "stream",
     "text": [
      "\n"
     ]
    },
    {
     "name": "stderr",
     "output_type": "stream",
     "text": [
      "WARNING:implicit:This method is deprecated. Please use the AlternatingLeastSquares class instead\n"
     ]
    },
    {
     "name": "stdout",
     "output_type": "stream",
     "text": [
      "Factor=20 - Alfa= 5 - Regularizacion=0.1 - iteracion = 50 - Evaluacion = (0.87, 0.814)\n",
      "2020-11-15 15:30:40.933030\n",
      "2020-11-15 15:30:40.933143\n"
     ]
    },
    {
     "data": {
      "application/vnd.jupyter.widget-view+json": {
       "model_id": "a9d4fc3b1439477ead93354ae5cc7a8a",
       "version_major": 2,
       "version_minor": 0
      },
      "text/plain": [
       "HBox(children=(HTML(value=''), FloatProgress(value=0.0, max=50.0), HTML(value='')))"
      ]
     },
     "metadata": {},
     "output_type": "display_data"
    },
    {
     "name": "stdout",
     "output_type": "stream",
     "text": [
      "\n"
     ]
    },
    {
     "name": "stderr",
     "output_type": "stream",
     "text": [
      "WARNING:implicit:This method is deprecated. Please use the AlternatingLeastSquares class instead\n"
     ]
    },
    {
     "name": "stdout",
     "output_type": "stream",
     "text": [
      "Factor=20 - Alfa= 5 - Regularizacion=0.1 - iteracion = 100 - Evaluacion = (0.871, 0.814)\n",
      "2020-11-15 15:30:58.815287\n",
      "2020-11-15 15:30:58.815387\n"
     ]
    },
    {
     "data": {
      "application/vnd.jupyter.widget-view+json": {
       "model_id": "17d510d7a32d4d61829077f8c58e7518",
       "version_major": 2,
       "version_minor": 0
      },
      "text/plain": [
       "HBox(children=(HTML(value=''), FloatProgress(value=0.0, max=50.0), HTML(value='')))"
      ]
     },
     "metadata": {},
     "output_type": "display_data"
    },
    {
     "name": "stdout",
     "output_type": "stream",
     "text": [
      "\n"
     ]
    },
    {
     "name": "stderr",
     "output_type": "stream",
     "text": [
      "WARNING:implicit:This method is deprecated. Please use the AlternatingLeastSquares class instead\n"
     ]
    },
    {
     "name": "stdout",
     "output_type": "stream",
     "text": [
      "Factor=20 - Alfa= 5 - Regularizacion=0.1 - iteracion = 200 - Evaluacion = (0.871, 0.814)\n",
      "2020-11-15 15:31:17.552501\n",
      "2020-11-15 15:31:17.552622\n"
     ]
    },
    {
     "data": {
      "application/vnd.jupyter.widget-view+json": {
       "model_id": "02c5e21f4573405891f83275c0731174",
       "version_major": 2,
       "version_minor": 0
      },
      "text/plain": [
       "HBox(children=(HTML(value=''), FloatProgress(value=0.0, max=50.0), HTML(value='')))"
      ]
     },
     "metadata": {},
     "output_type": "display_data"
    },
    {
     "name": "stdout",
     "output_type": "stream",
     "text": [
      "\n"
     ]
    },
    {
     "name": "stderr",
     "output_type": "stream",
     "text": [
      "WARNING:implicit:This method is deprecated. Please use the AlternatingLeastSquares class instead\n"
     ]
    },
    {
     "name": "stdout",
     "output_type": "stream",
     "text": [
      "Factor=20 - Alfa= 5 - Regularizacion=0.2 - iteracion = 10 - Evaluacion = (0.871, 0.814)\n",
      "2020-11-15 15:31:36.265096\n",
      "2020-11-15 15:31:36.265207\n"
     ]
    },
    {
     "data": {
      "application/vnd.jupyter.widget-view+json": {
       "model_id": "46ea9eb1d385487c8476faa3dd1618d8",
       "version_major": 2,
       "version_minor": 0
      },
      "text/plain": [
       "HBox(children=(HTML(value=''), FloatProgress(value=0.0, max=50.0), HTML(value='')))"
      ]
     },
     "metadata": {},
     "output_type": "display_data"
    },
    {
     "name": "stdout",
     "output_type": "stream",
     "text": [
      "\n"
     ]
    },
    {
     "name": "stderr",
     "output_type": "stream",
     "text": [
      "WARNING:implicit:This method is deprecated. Please use the AlternatingLeastSquares class instead\n"
     ]
    },
    {
     "name": "stdout",
     "output_type": "stream",
     "text": [
      "Factor=20 - Alfa= 5 - Regularizacion=0.2 - iteracion = 25 - Evaluacion = (0.871, 0.814)\n",
      "2020-11-15 15:31:56.765053\n",
      "2020-11-15 15:31:56.765147\n"
     ]
    },
    {
     "data": {
      "application/vnd.jupyter.widget-view+json": {
       "model_id": "cceb4b6debff44edba139e1114105861",
       "version_major": 2,
       "version_minor": 0
      },
      "text/plain": [
       "HBox(children=(HTML(value=''), FloatProgress(value=0.0, max=50.0), HTML(value='')))"
      ]
     },
     "metadata": {},
     "output_type": "display_data"
    },
    {
     "name": "stdout",
     "output_type": "stream",
     "text": [
      "\n"
     ]
    },
    {
     "name": "stderr",
     "output_type": "stream",
     "text": [
      "WARNING:implicit:This method is deprecated. Please use the AlternatingLeastSquares class instead\n"
     ]
    },
    {
     "name": "stdout",
     "output_type": "stream",
     "text": [
      "Factor=20 - Alfa= 5 - Regularizacion=0.2 - iteracion = 50 - Evaluacion = (0.871, 0.814)\n",
      "2020-11-15 15:32:15.231274\n",
      "2020-11-15 15:32:15.231378\n"
     ]
    },
    {
     "data": {
      "application/vnd.jupyter.widget-view+json": {
       "model_id": "b622993f865a4ab489701ba475fd8323",
       "version_major": 2,
       "version_minor": 0
      },
      "text/plain": [
       "HBox(children=(HTML(value=''), FloatProgress(value=0.0, max=50.0), HTML(value='')))"
      ]
     },
     "metadata": {},
     "output_type": "display_data"
    },
    {
     "name": "stdout",
     "output_type": "stream",
     "text": [
      "\n"
     ]
    },
    {
     "name": "stderr",
     "output_type": "stream",
     "text": [
      "WARNING:implicit:This method is deprecated. Please use the AlternatingLeastSquares class instead\n"
     ]
    },
    {
     "name": "stdout",
     "output_type": "stream",
     "text": [
      "Factor=20 - Alfa= 5 - Regularizacion=0.2 - iteracion = 100 - Evaluacion = (0.871, 0.814)\n",
      "2020-11-15 15:32:34.781224\n",
      "2020-11-15 15:32:34.781447\n"
     ]
    },
    {
     "data": {
      "application/vnd.jupyter.widget-view+json": {
       "model_id": "a4dc1c3086a14a0994a518ed5deeb7ad",
       "version_major": 2,
       "version_minor": 0
      },
      "text/plain": [
       "HBox(children=(HTML(value=''), FloatProgress(value=0.0, max=50.0), HTML(value='')))"
      ]
     },
     "metadata": {},
     "output_type": "display_data"
    },
    {
     "name": "stdout",
     "output_type": "stream",
     "text": [
      "\n"
     ]
    },
    {
     "name": "stderr",
     "output_type": "stream",
     "text": [
      "WARNING:implicit:This method is deprecated. Please use the AlternatingLeastSquares class instead\n"
     ]
    },
    {
     "name": "stdout",
     "output_type": "stream",
     "text": [
      "Factor=20 - Alfa= 5 - Regularizacion=0.2 - iteracion = 200 - Evaluacion = (0.871, 0.814)\n",
      "2020-11-15 15:32:53.895528\n",
      "2020-11-15 15:32:53.895793\n"
     ]
    },
    {
     "data": {
      "application/vnd.jupyter.widget-view+json": {
       "model_id": "d24d0dc863ac4d8e87d52230b7b4ece6",
       "version_major": 2,
       "version_minor": 0
      },
      "text/plain": [
       "HBox(children=(HTML(value=''), FloatProgress(value=0.0, max=50.0), HTML(value='')))"
      ]
     },
     "metadata": {},
     "output_type": "display_data"
    },
    {
     "name": "stdout",
     "output_type": "stream",
     "text": [
      "\n"
     ]
    },
    {
     "name": "stderr",
     "output_type": "stream",
     "text": [
      "WARNING:implicit:This method is deprecated. Please use the AlternatingLeastSquares class instead\n"
     ]
    },
    {
     "name": "stdout",
     "output_type": "stream",
     "text": [
      "Factor=20 - Alfa= 5 - Regularizacion=0.4 - iteracion = 10 - Evaluacion = (0.871, 0.814)\n",
      "2020-11-15 15:33:13.026376\n",
      "2020-11-15 15:33:13.026504\n"
     ]
    },
    {
     "data": {
      "application/vnd.jupyter.widget-view+json": {
       "model_id": "78b04fe28e9a467ba4102e6c1266c249",
       "version_major": 2,
       "version_minor": 0
      },
      "text/plain": [
       "HBox(children=(HTML(value=''), FloatProgress(value=0.0, max=50.0), HTML(value='')))"
      ]
     },
     "metadata": {},
     "output_type": "display_data"
    },
    {
     "name": "stdout",
     "output_type": "stream",
     "text": [
      "\n"
     ]
    },
    {
     "name": "stderr",
     "output_type": "stream",
     "text": [
      "WARNING:implicit:This method is deprecated. Please use the AlternatingLeastSquares class instead\n"
     ]
    },
    {
     "name": "stdout",
     "output_type": "stream",
     "text": [
      "Factor=20 - Alfa= 5 - Regularizacion=0.4 - iteracion = 25 - Evaluacion = (0.871, 0.814)\n",
      "2020-11-15 15:33:30.373059\n",
      "2020-11-15 15:33:30.373166\n"
     ]
    },
    {
     "data": {
      "application/vnd.jupyter.widget-view+json": {
       "model_id": "34c76c0204cd4e038185738714bfbd0e",
       "version_major": 2,
       "version_minor": 0
      },
      "text/plain": [
       "HBox(children=(HTML(value=''), FloatProgress(value=0.0, max=50.0), HTML(value='')))"
      ]
     },
     "metadata": {},
     "output_type": "display_data"
    },
    {
     "name": "stdout",
     "output_type": "stream",
     "text": [
      "\n"
     ]
    },
    {
     "name": "stderr",
     "output_type": "stream",
     "text": [
      "WARNING:implicit:This method is deprecated. Please use the AlternatingLeastSquares class instead\n"
     ]
    },
    {
     "name": "stdout",
     "output_type": "stream",
     "text": [
      "Factor=20 - Alfa= 5 - Regularizacion=0.4 - iteracion = 50 - Evaluacion = (0.869, 0.814)\n",
      "2020-11-15 15:33:47.886052\n",
      "2020-11-15 15:33:47.886158\n"
     ]
    },
    {
     "data": {
      "application/vnd.jupyter.widget-view+json": {
       "model_id": "2b15adb84e5a49108ded1ea1037a6b1b",
       "version_major": 2,
       "version_minor": 0
      },
      "text/plain": [
       "HBox(children=(HTML(value=''), FloatProgress(value=0.0, max=50.0), HTML(value='')))"
      ]
     },
     "metadata": {},
     "output_type": "display_data"
    },
    {
     "name": "stdout",
     "output_type": "stream",
     "text": [
      "\n"
     ]
    },
    {
     "name": "stderr",
     "output_type": "stream",
     "text": [
      "WARNING:implicit:This method is deprecated. Please use the AlternatingLeastSquares class instead\n"
     ]
    },
    {
     "name": "stdout",
     "output_type": "stream",
     "text": [
      "Factor=20 - Alfa= 5 - Regularizacion=0.4 - iteracion = 100 - Evaluacion = (0.869, 0.814)\n",
      "2020-11-15 15:34:05.206196\n",
      "2020-11-15 15:34:05.206307\n"
     ]
    },
    {
     "data": {
      "application/vnd.jupyter.widget-view+json": {
       "model_id": "d025d4705b1f416fb22657617ac43c38",
       "version_major": 2,
       "version_minor": 0
      },
      "text/plain": [
       "HBox(children=(HTML(value=''), FloatProgress(value=0.0, max=50.0), HTML(value='')))"
      ]
     },
     "metadata": {},
     "output_type": "display_data"
    },
    {
     "name": "stdout",
     "output_type": "stream",
     "text": [
      "\n"
     ]
    },
    {
     "name": "stderr",
     "output_type": "stream",
     "text": [
      "WARNING:implicit:This method is deprecated. Please use the AlternatingLeastSquares class instead\n"
     ]
    },
    {
     "name": "stdout",
     "output_type": "stream",
     "text": [
      "Factor=20 - Alfa= 5 - Regularizacion=0.4 - iteracion = 200 - Evaluacion = (0.871, 0.814)\n",
      "2020-11-15 15:34:23.387035\n",
      "2020-11-15 15:34:23.387201\n"
     ]
    },
    {
     "data": {
      "application/vnd.jupyter.widget-view+json": {
       "model_id": "1e63203bceba48568854533f5db968b0",
       "version_major": 2,
       "version_minor": 0
      },
      "text/plain": [
       "HBox(children=(HTML(value=''), FloatProgress(value=0.0, max=50.0), HTML(value='')))"
      ]
     },
     "metadata": {},
     "output_type": "display_data"
    },
    {
     "name": "stdout",
     "output_type": "stream",
     "text": [
      "\n"
     ]
    },
    {
     "name": "stderr",
     "output_type": "stream",
     "text": [
      "WARNING:implicit:This method is deprecated. Please use the AlternatingLeastSquares class instead\n"
     ]
    },
    {
     "name": "stdout",
     "output_type": "stream",
     "text": [
      "Factor=20 - Alfa= 10 - Regularizacion=0.025 - iteracion = 10 - Evaluacion = (0.871, 0.814)\n",
      "2020-11-15 15:34:41.115121\n",
      "2020-11-15 15:34:41.115261\n"
     ]
    },
    {
     "data": {
      "application/vnd.jupyter.widget-view+json": {
       "model_id": "52e517372ef24613bda98b6df77560e2",
       "version_major": 2,
       "version_minor": 0
      },
      "text/plain": [
       "HBox(children=(HTML(value=''), FloatProgress(value=0.0, max=50.0), HTML(value='')))"
      ]
     },
     "metadata": {},
     "output_type": "display_data"
    },
    {
     "name": "stdout",
     "output_type": "stream",
     "text": [
      "\n"
     ]
    },
    {
     "name": "stderr",
     "output_type": "stream",
     "text": [
      "WARNING:implicit:This method is deprecated. Please use the AlternatingLeastSquares class instead\n"
     ]
    },
    {
     "name": "stdout",
     "output_type": "stream",
     "text": [
      "Factor=20 - Alfa= 10 - Regularizacion=0.025 - iteracion = 25 - Evaluacion = (0.872, 0.814)\n",
      "2020-11-15 15:34:58.630588\n",
      "2020-11-15 15:34:58.630736\n"
     ]
    },
    {
     "data": {
      "application/vnd.jupyter.widget-view+json": {
       "model_id": "85441f41ef054631a87ed492c5516013",
       "version_major": 2,
       "version_minor": 0
      },
      "text/plain": [
       "HBox(children=(HTML(value=''), FloatProgress(value=0.0, max=50.0), HTML(value='')))"
      ]
     },
     "metadata": {},
     "output_type": "display_data"
    },
    {
     "name": "stdout",
     "output_type": "stream",
     "text": [
      "\n"
     ]
    },
    {
     "name": "stderr",
     "output_type": "stream",
     "text": [
      "WARNING:implicit:This method is deprecated. Please use the AlternatingLeastSquares class instead\n"
     ]
    },
    {
     "name": "stdout",
     "output_type": "stream",
     "text": [
      "Factor=20 - Alfa= 10 - Regularizacion=0.025 - iteracion = 50 - Evaluacion = (0.871, 0.814)\n",
      "2020-11-15 15:35:16.177524\n",
      "2020-11-15 15:35:16.177632\n"
     ]
    },
    {
     "data": {
      "application/vnd.jupyter.widget-view+json": {
       "model_id": "d77708d69e9042228d086ccd7e4a5a82",
       "version_major": 2,
       "version_minor": 0
      },
      "text/plain": [
       "HBox(children=(HTML(value=''), FloatProgress(value=0.0, max=50.0), HTML(value='')))"
      ]
     },
     "metadata": {},
     "output_type": "display_data"
    },
    {
     "name": "stdout",
     "output_type": "stream",
     "text": [
      "\n"
     ]
    },
    {
     "name": "stderr",
     "output_type": "stream",
     "text": [
      "WARNING:implicit:This method is deprecated. Please use the AlternatingLeastSquares class instead\n"
     ]
    },
    {
     "name": "stdout",
     "output_type": "stream",
     "text": [
      "Factor=20 - Alfa= 10 - Regularizacion=0.025 - iteracion = 100 - Evaluacion = (0.872, 0.814)\n",
      "2020-11-15 15:35:32.758393\n",
      "2020-11-15 15:35:32.758500\n"
     ]
    },
    {
     "data": {
      "application/vnd.jupyter.widget-view+json": {
       "model_id": "6cf5b21a990d4778a62e65250ce27099",
       "version_major": 2,
       "version_minor": 0
      },
      "text/plain": [
       "HBox(children=(HTML(value=''), FloatProgress(value=0.0, max=50.0), HTML(value='')))"
      ]
     },
     "metadata": {},
     "output_type": "display_data"
    },
    {
     "name": "stdout",
     "output_type": "stream",
     "text": [
      "\n"
     ]
    },
    {
     "name": "stderr",
     "output_type": "stream",
     "text": [
      "WARNING:implicit:This method is deprecated. Please use the AlternatingLeastSquares class instead\n"
     ]
    },
    {
     "name": "stdout",
     "output_type": "stream",
     "text": [
      "Factor=20 - Alfa= 10 - Regularizacion=0.025 - iteracion = 200 - Evaluacion = (0.871, 0.814)\n",
      "2020-11-15 15:35:49.266718\n",
      "2020-11-15 15:35:49.266827\n"
     ]
    },
    {
     "data": {
      "application/vnd.jupyter.widget-view+json": {
       "model_id": "1caed35fc5364932898f4db28ffdfd5c",
       "version_major": 2,
       "version_minor": 0
      },
      "text/plain": [
       "HBox(children=(HTML(value=''), FloatProgress(value=0.0, max=50.0), HTML(value='')))"
      ]
     },
     "metadata": {},
     "output_type": "display_data"
    },
    {
     "name": "stdout",
     "output_type": "stream",
     "text": [
      "\n"
     ]
    },
    {
     "name": "stderr",
     "output_type": "stream",
     "text": [
      "WARNING:implicit:This method is deprecated. Please use the AlternatingLeastSquares class instead\n"
     ]
    },
    {
     "name": "stdout",
     "output_type": "stream",
     "text": [
      "Factor=20 - Alfa= 10 - Regularizacion=0.05 - iteracion = 10 - Evaluacion = (0.871, 0.814)\n",
      "2020-11-15 15:36:05.932444\n",
      "2020-11-15 15:36:05.932548\n"
     ]
    },
    {
     "data": {
      "application/vnd.jupyter.widget-view+json": {
       "model_id": "9fc70e570b944611b0bf8512b7a0d8ac",
       "version_major": 2,
       "version_minor": 0
      },
      "text/plain": [
       "HBox(children=(HTML(value=''), FloatProgress(value=0.0, max=50.0), HTML(value='')))"
      ]
     },
     "metadata": {},
     "output_type": "display_data"
    },
    {
     "name": "stdout",
     "output_type": "stream",
     "text": [
      "\n"
     ]
    },
    {
     "name": "stderr",
     "output_type": "stream",
     "text": [
      "WARNING:implicit:This method is deprecated. Please use the AlternatingLeastSquares class instead\n"
     ]
    },
    {
     "name": "stdout",
     "output_type": "stream",
     "text": [
      "Factor=20 - Alfa= 10 - Regularizacion=0.05 - iteracion = 25 - Evaluacion = (0.87, 0.814)\n",
      "2020-11-15 15:36:22.468883\n",
      "2020-11-15 15:36:22.468986\n"
     ]
    },
    {
     "data": {
      "application/vnd.jupyter.widget-view+json": {
       "model_id": "8237a003795c48f886fc517dd0b2d013",
       "version_major": 2,
       "version_minor": 0
      },
      "text/plain": [
       "HBox(children=(HTML(value=''), FloatProgress(value=0.0, max=50.0), HTML(value='')))"
      ]
     },
     "metadata": {},
     "output_type": "display_data"
    },
    {
     "name": "stdout",
     "output_type": "stream",
     "text": [
      "\n"
     ]
    },
    {
     "name": "stderr",
     "output_type": "stream",
     "text": [
      "WARNING:implicit:This method is deprecated. Please use the AlternatingLeastSquares class instead\n"
     ]
    },
    {
     "name": "stdout",
     "output_type": "stream",
     "text": [
      "Factor=20 - Alfa= 10 - Regularizacion=0.05 - iteracion = 50 - Evaluacion = (0.87, 0.814)\n",
      "2020-11-15 15:36:39.050835\n",
      "2020-11-15 15:36:39.050938\n"
     ]
    },
    {
     "data": {
      "application/vnd.jupyter.widget-view+json": {
       "model_id": "c4fa5109b11743c3a091a774588b7d60",
       "version_major": 2,
       "version_minor": 0
      },
      "text/plain": [
       "HBox(children=(HTML(value=''), FloatProgress(value=0.0, max=50.0), HTML(value='')))"
      ]
     },
     "metadata": {},
     "output_type": "display_data"
    },
    {
     "name": "stdout",
     "output_type": "stream",
     "text": [
      "\n"
     ]
    },
    {
     "name": "stderr",
     "output_type": "stream",
     "text": [
      "WARNING:implicit:This method is deprecated. Please use the AlternatingLeastSquares class instead\n"
     ]
    },
    {
     "name": "stdout",
     "output_type": "stream",
     "text": [
      "Factor=20 - Alfa= 10 - Regularizacion=0.05 - iteracion = 100 - Evaluacion = (0.871, 0.814)\n",
      "2020-11-15 15:36:55.777101\n",
      "2020-11-15 15:36:55.777199\n"
     ]
    },
    {
     "data": {
      "application/vnd.jupyter.widget-view+json": {
       "model_id": "e04155d04bb34eada092783883a7b1b5",
       "version_major": 2,
       "version_minor": 0
      },
      "text/plain": [
       "HBox(children=(HTML(value=''), FloatProgress(value=0.0, max=50.0), HTML(value='')))"
      ]
     },
     "metadata": {},
     "output_type": "display_data"
    },
    {
     "name": "stdout",
     "output_type": "stream",
     "text": [
      "\n"
     ]
    },
    {
     "name": "stderr",
     "output_type": "stream",
     "text": [
      "WARNING:implicit:This method is deprecated. Please use the AlternatingLeastSquares class instead\n"
     ]
    },
    {
     "name": "stdout",
     "output_type": "stream",
     "text": [
      "Factor=20 - Alfa= 10 - Regularizacion=0.05 - iteracion = 200 - Evaluacion = (0.871, 0.814)\n",
      "2020-11-15 15:37:13.022816\n",
      "2020-11-15 15:37:13.022941\n"
     ]
    },
    {
     "data": {
      "application/vnd.jupyter.widget-view+json": {
       "model_id": "200e68d58ef6457daf8c604ad4f3cff4",
       "version_major": 2,
       "version_minor": 0
      },
      "text/plain": [
       "HBox(children=(HTML(value=''), FloatProgress(value=0.0, max=50.0), HTML(value='')))"
      ]
     },
     "metadata": {},
     "output_type": "display_data"
    },
    {
     "name": "stdout",
     "output_type": "stream",
     "text": [
      "\n"
     ]
    },
    {
     "name": "stderr",
     "output_type": "stream",
     "text": [
      "WARNING:implicit:This method is deprecated. Please use the AlternatingLeastSquares class instead\n"
     ]
    },
    {
     "name": "stdout",
     "output_type": "stream",
     "text": [
      "Factor=20 - Alfa= 10 - Regularizacion=0.1 - iteracion = 10 - Evaluacion = (0.87, 0.814)\n",
      "2020-11-15 15:37:30.384497\n",
      "2020-11-15 15:37:30.384588\n"
     ]
    },
    {
     "data": {
      "application/vnd.jupyter.widget-view+json": {
       "model_id": "3df16e26ea1543b6bb4a3e148ddf86c8",
       "version_major": 2,
       "version_minor": 0
      },
      "text/plain": [
       "HBox(children=(HTML(value=''), FloatProgress(value=0.0, max=50.0), HTML(value='')))"
      ]
     },
     "metadata": {},
     "output_type": "display_data"
    },
    {
     "name": "stdout",
     "output_type": "stream",
     "text": [
      "\n"
     ]
    },
    {
     "name": "stderr",
     "output_type": "stream",
     "text": [
      "WARNING:implicit:This method is deprecated. Please use the AlternatingLeastSquares class instead\n"
     ]
    },
    {
     "name": "stdout",
     "output_type": "stream",
     "text": [
      "Factor=20 - Alfa= 10 - Regularizacion=0.1 - iteracion = 25 - Evaluacion = (0.871, 0.814)\n",
      "2020-11-15 15:37:47.599100\n",
      "2020-11-15 15:37:47.599194\n"
     ]
    },
    {
     "data": {
      "application/vnd.jupyter.widget-view+json": {
       "model_id": "0aabac63680241f98ed8553a8c055c00",
       "version_major": 2,
       "version_minor": 0
      },
      "text/plain": [
       "HBox(children=(HTML(value=''), FloatProgress(value=0.0, max=50.0), HTML(value='')))"
      ]
     },
     "metadata": {},
     "output_type": "display_data"
    },
    {
     "name": "stdout",
     "output_type": "stream",
     "text": [
      "\n"
     ]
    },
    {
     "name": "stderr",
     "output_type": "stream",
     "text": [
      "WARNING:implicit:This method is deprecated. Please use the AlternatingLeastSquares class instead\n"
     ]
    },
    {
     "name": "stdout",
     "output_type": "stream",
     "text": [
      "Factor=20 - Alfa= 10 - Regularizacion=0.1 - iteracion = 50 - Evaluacion = (0.87, 0.814)\n",
      "2020-11-15 15:38:04.987065\n",
      "2020-11-15 15:38:04.987159\n"
     ]
    },
    {
     "data": {
      "application/vnd.jupyter.widget-view+json": {
       "model_id": "5c6146816f3e4d548549a7676dcc0d28",
       "version_major": 2,
       "version_minor": 0
      },
      "text/plain": [
       "HBox(children=(HTML(value=''), FloatProgress(value=0.0, max=50.0), HTML(value='')))"
      ]
     },
     "metadata": {},
     "output_type": "display_data"
    },
    {
     "name": "stdout",
     "output_type": "stream",
     "text": [
      "\n"
     ]
    },
    {
     "name": "stderr",
     "output_type": "stream",
     "text": [
      "WARNING:implicit:This method is deprecated. Please use the AlternatingLeastSquares class instead\n"
     ]
    },
    {
     "name": "stdout",
     "output_type": "stream",
     "text": [
      "Factor=20 - Alfa= 10 - Regularizacion=0.1 - iteracion = 100 - Evaluacion = (0.869, 0.814)\n",
      "2020-11-15 15:38:22.801165\n",
      "2020-11-15 15:38:22.801332\n"
     ]
    },
    {
     "data": {
      "application/vnd.jupyter.widget-view+json": {
       "model_id": "e0bc11d3d6d041a1a03206da5bc1e2d2",
       "version_major": 2,
       "version_minor": 0
      },
      "text/plain": [
       "HBox(children=(HTML(value=''), FloatProgress(value=0.0, max=50.0), HTML(value='')))"
      ]
     },
     "metadata": {},
     "output_type": "display_data"
    },
    {
     "name": "stdout",
     "output_type": "stream",
     "text": [
      "\n"
     ]
    },
    {
     "name": "stderr",
     "output_type": "stream",
     "text": [
      "WARNING:implicit:This method is deprecated. Please use the AlternatingLeastSquares class instead\n"
     ]
    },
    {
     "name": "stdout",
     "output_type": "stream",
     "text": [
      "Factor=20 - Alfa= 10 - Regularizacion=0.1 - iteracion = 200 - Evaluacion = (0.871, 0.814)\n",
      "2020-11-15 15:38:39.918120\n",
      "2020-11-15 15:38:39.918237\n"
     ]
    },
    {
     "data": {
      "application/vnd.jupyter.widget-view+json": {
       "model_id": "0e20ebe9ce564be2ad68e0c474401c9f",
       "version_major": 2,
       "version_minor": 0
      },
      "text/plain": [
       "HBox(children=(HTML(value=''), FloatProgress(value=0.0, max=50.0), HTML(value='')))"
      ]
     },
     "metadata": {},
     "output_type": "display_data"
    },
    {
     "name": "stdout",
     "output_type": "stream",
     "text": [
      "\n"
     ]
    },
    {
     "name": "stderr",
     "output_type": "stream",
     "text": [
      "WARNING:implicit:This method is deprecated. Please use the AlternatingLeastSquares class instead\n"
     ]
    },
    {
     "name": "stdout",
     "output_type": "stream",
     "text": [
      "Factor=20 - Alfa= 10 - Regularizacion=0.2 - iteracion = 10 - Evaluacion = (0.87, 0.814)\n",
      "2020-11-15 15:38:56.933265\n",
      "2020-11-15 15:38:56.933364\n"
     ]
    },
    {
     "data": {
      "application/vnd.jupyter.widget-view+json": {
       "model_id": "f55fe2836d234bc8a269f38ca01fcbac",
       "version_major": 2,
       "version_minor": 0
      },
      "text/plain": [
       "HBox(children=(HTML(value=''), FloatProgress(value=0.0, max=50.0), HTML(value='')))"
      ]
     },
     "metadata": {},
     "output_type": "display_data"
    },
    {
     "name": "stdout",
     "output_type": "stream",
     "text": [
      "\n"
     ]
    },
    {
     "name": "stderr",
     "output_type": "stream",
     "text": [
      "WARNING:implicit:This method is deprecated. Please use the AlternatingLeastSquares class instead\n"
     ]
    },
    {
     "name": "stdout",
     "output_type": "stream",
     "text": [
      "Factor=20 - Alfa= 10 - Regularizacion=0.2 - iteracion = 25 - Evaluacion = (0.871, 0.814)\n",
      "2020-11-15 15:39:14.867037\n",
      "2020-11-15 15:39:14.867131\n"
     ]
    },
    {
     "data": {
      "application/vnd.jupyter.widget-view+json": {
       "model_id": "38102f6edaeb406eab3da8670f90ee87",
       "version_major": 2,
       "version_minor": 0
      },
      "text/plain": [
       "HBox(children=(HTML(value=''), FloatProgress(value=0.0, max=50.0), HTML(value='')))"
      ]
     },
     "metadata": {},
     "output_type": "display_data"
    },
    {
     "name": "stdout",
     "output_type": "stream",
     "text": [
      "\n"
     ]
    },
    {
     "name": "stderr",
     "output_type": "stream",
     "text": [
      "WARNING:implicit:This method is deprecated. Please use the AlternatingLeastSquares class instead\n"
     ]
    },
    {
     "name": "stdout",
     "output_type": "stream",
     "text": [
      "Factor=20 - Alfa= 10 - Regularizacion=0.2 - iteracion = 50 - Evaluacion = (0.87, 0.814)\n",
      "2020-11-15 15:39:32.858872\n",
      "2020-11-15 15:39:32.859030\n"
     ]
    },
    {
     "data": {
      "application/vnd.jupyter.widget-view+json": {
       "model_id": "f148b51dbeb94bbf93d9363125930446",
       "version_major": 2,
       "version_minor": 0
      },
      "text/plain": [
       "HBox(children=(HTML(value=''), FloatProgress(value=0.0, max=50.0), HTML(value='')))"
      ]
     },
     "metadata": {},
     "output_type": "display_data"
    },
    {
     "name": "stdout",
     "output_type": "stream",
     "text": [
      "\n"
     ]
    },
    {
     "name": "stderr",
     "output_type": "stream",
     "text": [
      "WARNING:implicit:This method is deprecated. Please use the AlternatingLeastSquares class instead\n"
     ]
    },
    {
     "name": "stdout",
     "output_type": "stream",
     "text": [
      "Factor=20 - Alfa= 10 - Regularizacion=0.2 - iteracion = 100 - Evaluacion = (0.871, 0.814)\n",
      "2020-11-15 15:39:50.664227\n",
      "2020-11-15 15:39:50.664319\n"
     ]
    },
    {
     "data": {
      "application/vnd.jupyter.widget-view+json": {
       "model_id": "d8c35ff8753843fa99c8dc77681a3761",
       "version_major": 2,
       "version_minor": 0
      },
      "text/plain": [
       "HBox(children=(HTML(value=''), FloatProgress(value=0.0, max=50.0), HTML(value='')))"
      ]
     },
     "metadata": {},
     "output_type": "display_data"
    },
    {
     "name": "stdout",
     "output_type": "stream",
     "text": [
      "\n"
     ]
    },
    {
     "name": "stderr",
     "output_type": "stream",
     "text": [
      "WARNING:implicit:This method is deprecated. Please use the AlternatingLeastSquares class instead\n"
     ]
    },
    {
     "name": "stdout",
     "output_type": "stream",
     "text": [
      "Factor=20 - Alfa= 10 - Regularizacion=0.2 - iteracion = 200 - Evaluacion = (0.87, 0.814)\n",
      "2020-11-15 15:40:07.818701\n",
      "2020-11-15 15:40:07.818809\n"
     ]
    },
    {
     "data": {
      "application/vnd.jupyter.widget-view+json": {
       "model_id": "3c99519e94284c3a9d643c98c83f89df",
       "version_major": 2,
       "version_minor": 0
      },
      "text/plain": [
       "HBox(children=(HTML(value=''), FloatProgress(value=0.0, max=50.0), HTML(value='')))"
      ]
     },
     "metadata": {},
     "output_type": "display_data"
    },
    {
     "name": "stdout",
     "output_type": "stream",
     "text": [
      "\n"
     ]
    },
    {
     "name": "stderr",
     "output_type": "stream",
     "text": [
      "WARNING:implicit:This method is deprecated. Please use the AlternatingLeastSquares class instead\n"
     ]
    },
    {
     "name": "stdout",
     "output_type": "stream",
     "text": [
      "Factor=20 - Alfa= 10 - Regularizacion=0.4 - iteracion = 10 - Evaluacion = (0.87, 0.814)\n",
      "2020-11-15 15:40:25.816342\n",
      "2020-11-15 15:40:25.816514\n"
     ]
    },
    {
     "data": {
      "application/vnd.jupyter.widget-view+json": {
       "model_id": "de1db7a1cb4a4d7e91962e20d39e4c17",
       "version_major": 2,
       "version_minor": 0
      },
      "text/plain": [
       "HBox(children=(HTML(value=''), FloatProgress(value=0.0, max=50.0), HTML(value='')))"
      ]
     },
     "metadata": {},
     "output_type": "display_data"
    },
    {
     "name": "stdout",
     "output_type": "stream",
     "text": [
      "\n"
     ]
    },
    {
     "name": "stderr",
     "output_type": "stream",
     "text": [
      "WARNING:implicit:This method is deprecated. Please use the AlternatingLeastSquares class instead\n"
     ]
    },
    {
     "name": "stdout",
     "output_type": "stream",
     "text": [
      "Factor=20 - Alfa= 10 - Regularizacion=0.4 - iteracion = 25 - Evaluacion = (0.87, 0.814)\n",
      "2020-11-15 15:40:43.657444\n",
      "2020-11-15 15:40:43.657554\n"
     ]
    },
    {
     "data": {
      "application/vnd.jupyter.widget-view+json": {
       "model_id": "4cadc05d53054726b07e2ee57a6f01e6",
       "version_major": 2,
       "version_minor": 0
      },
      "text/plain": [
       "HBox(children=(HTML(value=''), FloatProgress(value=0.0, max=50.0), HTML(value='')))"
      ]
     },
     "metadata": {},
     "output_type": "display_data"
    },
    {
     "name": "stdout",
     "output_type": "stream",
     "text": [
      "\n"
     ]
    },
    {
     "name": "stderr",
     "output_type": "stream",
     "text": [
      "WARNING:implicit:This method is deprecated. Please use the AlternatingLeastSquares class instead\n"
     ]
    },
    {
     "name": "stdout",
     "output_type": "stream",
     "text": [
      "Factor=20 - Alfa= 10 - Regularizacion=0.4 - iteracion = 50 - Evaluacion = (0.871, 0.814)\n",
      "2020-11-15 15:41:01.066479\n",
      "2020-11-15 15:41:01.066592\n"
     ]
    },
    {
     "data": {
      "application/vnd.jupyter.widget-view+json": {
       "model_id": "bda069ee586a4ff3b5e73e6dd1e4b108",
       "version_major": 2,
       "version_minor": 0
      },
      "text/plain": [
       "HBox(children=(HTML(value=''), FloatProgress(value=0.0, max=50.0), HTML(value='')))"
      ]
     },
     "metadata": {},
     "output_type": "display_data"
    },
    {
     "name": "stdout",
     "output_type": "stream",
     "text": [
      "\n"
     ]
    },
    {
     "name": "stderr",
     "output_type": "stream",
     "text": [
      "WARNING:implicit:This method is deprecated. Please use the AlternatingLeastSquares class instead\n"
     ]
    },
    {
     "name": "stdout",
     "output_type": "stream",
     "text": [
      "Factor=20 - Alfa= 10 - Regularizacion=0.4 - iteracion = 100 - Evaluacion = (0.869, 0.814)\n",
      "2020-11-15 15:41:18.316445\n",
      "2020-11-15 15:41:18.316561\n"
     ]
    },
    {
     "data": {
      "application/vnd.jupyter.widget-view+json": {
       "model_id": "68bcef071f914fef8a77ccf02b89144a",
       "version_major": 2,
       "version_minor": 0
      },
      "text/plain": [
       "HBox(children=(HTML(value=''), FloatProgress(value=0.0, max=50.0), HTML(value='')))"
      ]
     },
     "metadata": {},
     "output_type": "display_data"
    },
    {
     "name": "stdout",
     "output_type": "stream",
     "text": [
      "\n"
     ]
    },
    {
     "name": "stderr",
     "output_type": "stream",
     "text": [
      "WARNING:implicit:This method is deprecated. Please use the AlternatingLeastSquares class instead\n"
     ]
    },
    {
     "name": "stdout",
     "output_type": "stream",
     "text": [
      "Factor=20 - Alfa= 10 - Regularizacion=0.4 - iteracion = 200 - Evaluacion = (0.871, 0.814)\n",
      "2020-11-15 15:41:35.558548\n",
      "2020-11-15 15:41:35.558651\n"
     ]
    },
    {
     "data": {
      "application/vnd.jupyter.widget-view+json": {
       "model_id": "a307d8a274a2476da8c046892ea063ea",
       "version_major": 2,
       "version_minor": 0
      },
      "text/plain": [
       "HBox(children=(HTML(value=''), FloatProgress(value=0.0, max=50.0), HTML(value='')))"
      ]
     },
     "metadata": {},
     "output_type": "display_data"
    },
    {
     "name": "stdout",
     "output_type": "stream",
     "text": [
      "\n"
     ]
    },
    {
     "name": "stderr",
     "output_type": "stream",
     "text": [
      "WARNING:implicit:This method is deprecated. Please use the AlternatingLeastSquares class instead\n"
     ]
    },
    {
     "name": "stdout",
     "output_type": "stream",
     "text": [
      "Factor=20 - Alfa= 15 - Regularizacion=0.025 - iteracion = 10 - Evaluacion = (0.871, 0.814)\n",
      "2020-11-15 15:41:54.218140\n",
      "2020-11-15 15:41:54.218255\n"
     ]
    },
    {
     "data": {
      "application/vnd.jupyter.widget-view+json": {
       "model_id": "e56ff7a403454ca2aa08f42259eefd86",
       "version_major": 2,
       "version_minor": 0
      },
      "text/plain": [
       "HBox(children=(HTML(value=''), FloatProgress(value=0.0, max=50.0), HTML(value='')))"
      ]
     },
     "metadata": {},
     "output_type": "display_data"
    },
    {
     "name": "stdout",
     "output_type": "stream",
     "text": [
      "\n"
     ]
    },
    {
     "name": "stderr",
     "output_type": "stream",
     "text": [
      "WARNING:implicit:This method is deprecated. Please use the AlternatingLeastSquares class instead\n"
     ]
    },
    {
     "name": "stdout",
     "output_type": "stream",
     "text": [
      "Factor=20 - Alfa= 15 - Regularizacion=0.025 - iteracion = 25 - Evaluacion = (0.871, 0.814)\n",
      "2020-11-15 15:42:10.772776\n",
      "2020-11-15 15:42:10.772879\n"
     ]
    },
    {
     "data": {
      "application/vnd.jupyter.widget-view+json": {
       "model_id": "e5c8014fd33141439003a57d64e19f79",
       "version_major": 2,
       "version_minor": 0
      },
      "text/plain": [
       "HBox(children=(HTML(value=''), FloatProgress(value=0.0, max=50.0), HTML(value='')))"
      ]
     },
     "metadata": {},
     "output_type": "display_data"
    },
    {
     "name": "stdout",
     "output_type": "stream",
     "text": [
      "\n"
     ]
    },
    {
     "name": "stderr",
     "output_type": "stream",
     "text": [
      "WARNING:implicit:This method is deprecated. Please use the AlternatingLeastSquares class instead\n"
     ]
    },
    {
     "name": "stdout",
     "output_type": "stream",
     "text": [
      "Factor=20 - Alfa= 15 - Regularizacion=0.025 - iteracion = 50 - Evaluacion = (0.87, 0.814)\n",
      "2020-11-15 15:42:27.166745\n",
      "2020-11-15 15:42:27.166854\n"
     ]
    },
    {
     "data": {
      "application/vnd.jupyter.widget-view+json": {
       "model_id": "dfecf0f95a3a42a286bfa133982cede0",
       "version_major": 2,
       "version_minor": 0
      },
      "text/plain": [
       "HBox(children=(HTML(value=''), FloatProgress(value=0.0, max=50.0), HTML(value='')))"
      ]
     },
     "metadata": {},
     "output_type": "display_data"
    },
    {
     "name": "stdout",
     "output_type": "stream",
     "text": [
      "\n"
     ]
    },
    {
     "name": "stderr",
     "output_type": "stream",
     "text": [
      "WARNING:implicit:This method is deprecated. Please use the AlternatingLeastSquares class instead\n"
     ]
    },
    {
     "name": "stdout",
     "output_type": "stream",
     "text": [
      "Factor=20 - Alfa= 15 - Regularizacion=0.025 - iteracion = 100 - Evaluacion = (0.871, 0.814)\n",
      "2020-11-15 15:42:43.659419\n",
      "2020-11-15 15:42:43.659528\n"
     ]
    },
    {
     "data": {
      "application/vnd.jupyter.widget-view+json": {
       "model_id": "58d74244250544b7b7b8d65a735bffd0",
       "version_major": 2,
       "version_minor": 0
      },
      "text/plain": [
       "HBox(children=(HTML(value=''), FloatProgress(value=0.0, max=50.0), HTML(value='')))"
      ]
     },
     "metadata": {},
     "output_type": "display_data"
    },
    {
     "name": "stdout",
     "output_type": "stream",
     "text": [
      "\n"
     ]
    },
    {
     "name": "stderr",
     "output_type": "stream",
     "text": [
      "WARNING:implicit:This method is deprecated. Please use the AlternatingLeastSquares class instead\n"
     ]
    },
    {
     "name": "stdout",
     "output_type": "stream",
     "text": [
      "Factor=20 - Alfa= 15 - Regularizacion=0.025 - iteracion = 200 - Evaluacion = (0.871, 0.814)\n",
      "2020-11-15 15:43:00.830224\n",
      "2020-11-15 15:43:00.830358\n"
     ]
    },
    {
     "data": {
      "application/vnd.jupyter.widget-view+json": {
       "model_id": "f9ab51c321bd494ab66770726cb0bf36",
       "version_major": 2,
       "version_minor": 0
      },
      "text/plain": [
       "HBox(children=(HTML(value=''), FloatProgress(value=0.0, max=50.0), HTML(value='')))"
      ]
     },
     "metadata": {},
     "output_type": "display_data"
    },
    {
     "name": "stdout",
     "output_type": "stream",
     "text": [
      "\n"
     ]
    },
    {
     "name": "stderr",
     "output_type": "stream",
     "text": [
      "WARNING:implicit:This method is deprecated. Please use the AlternatingLeastSquares class instead\n"
     ]
    },
    {
     "name": "stdout",
     "output_type": "stream",
     "text": [
      "Factor=20 - Alfa= 15 - Regularizacion=0.05 - iteracion = 10 - Evaluacion = (0.87, 0.814)\n",
      "2020-11-15 15:43:18.667973\n",
      "2020-11-15 15:43:18.668100\n"
     ]
    },
    {
     "data": {
      "application/vnd.jupyter.widget-view+json": {
       "model_id": "db7e2c693e114ce2988cfc7034763b8c",
       "version_major": 2,
       "version_minor": 0
      },
      "text/plain": [
       "HBox(children=(HTML(value=''), FloatProgress(value=0.0, max=50.0), HTML(value='')))"
      ]
     },
     "metadata": {},
     "output_type": "display_data"
    },
    {
     "name": "stdout",
     "output_type": "stream",
     "text": [
      "\n"
     ]
    },
    {
     "name": "stderr",
     "output_type": "stream",
     "text": [
      "WARNING:implicit:This method is deprecated. Please use the AlternatingLeastSquares class instead\n"
     ]
    },
    {
     "name": "stdout",
     "output_type": "stream",
     "text": [
      "Factor=20 - Alfa= 15 - Regularizacion=0.05 - iteracion = 25 - Evaluacion = (0.872, 0.814)\n",
      "2020-11-15 15:43:35.885131\n",
      "2020-11-15 15:43:35.885235\n"
     ]
    },
    {
     "data": {
      "application/vnd.jupyter.widget-view+json": {
       "model_id": "5165e733695e43f0b818d713ca1e6600",
       "version_major": 2,
       "version_minor": 0
      },
      "text/plain": [
       "HBox(children=(HTML(value=''), FloatProgress(value=0.0, max=50.0), HTML(value='')))"
      ]
     },
     "metadata": {},
     "output_type": "display_data"
    },
    {
     "name": "stdout",
     "output_type": "stream",
     "text": [
      "\n"
     ]
    },
    {
     "name": "stderr",
     "output_type": "stream",
     "text": [
      "WARNING:implicit:This method is deprecated. Please use the AlternatingLeastSquares class instead\n"
     ]
    },
    {
     "name": "stdout",
     "output_type": "stream",
     "text": [
      "Factor=20 - Alfa= 15 - Regularizacion=0.05 - iteracion = 50 - Evaluacion = (0.871, 0.814)\n",
      "2020-11-15 15:43:52.413374\n",
      "2020-11-15 15:43:52.413480\n"
     ]
    },
    {
     "data": {
      "application/vnd.jupyter.widget-view+json": {
       "model_id": "6b68087f50f844bd9b3d801c0b2fdb38",
       "version_major": 2,
       "version_minor": 0
      },
      "text/plain": [
       "HBox(children=(HTML(value=''), FloatProgress(value=0.0, max=50.0), HTML(value='')))"
      ]
     },
     "metadata": {},
     "output_type": "display_data"
    },
    {
     "name": "stdout",
     "output_type": "stream",
     "text": [
      "\n"
     ]
    },
    {
     "name": "stderr",
     "output_type": "stream",
     "text": [
      "WARNING:implicit:This method is deprecated. Please use the AlternatingLeastSquares class instead\n"
     ]
    },
    {
     "name": "stdout",
     "output_type": "stream",
     "text": [
      "Factor=20 - Alfa= 15 - Regularizacion=0.05 - iteracion = 100 - Evaluacion = (0.871, 0.814)\n",
      "2020-11-15 15:44:09.371043\n",
      "2020-11-15 15:44:09.371146\n"
     ]
    },
    {
     "data": {
      "application/vnd.jupyter.widget-view+json": {
       "model_id": "9a4c472048fa42a88d03b8b931401809",
       "version_major": 2,
       "version_minor": 0
      },
      "text/plain": [
       "HBox(children=(HTML(value=''), FloatProgress(value=0.0, max=50.0), HTML(value='')))"
      ]
     },
     "metadata": {},
     "output_type": "display_data"
    },
    {
     "name": "stdout",
     "output_type": "stream",
     "text": [
      "\n"
     ]
    },
    {
     "name": "stderr",
     "output_type": "stream",
     "text": [
      "WARNING:implicit:This method is deprecated. Please use the AlternatingLeastSquares class instead\n"
     ]
    },
    {
     "name": "stdout",
     "output_type": "stream",
     "text": [
      "Factor=20 - Alfa= 15 - Regularizacion=0.05 - iteracion = 200 - Evaluacion = (0.87, 0.814)\n",
      "2020-11-15 15:44:26.302076\n",
      "2020-11-15 15:44:26.302230\n"
     ]
    },
    {
     "data": {
      "application/vnd.jupyter.widget-view+json": {
       "model_id": "24981a753e5f4c0598592d206e73ce04",
       "version_major": 2,
       "version_minor": 0
      },
      "text/plain": [
       "HBox(children=(HTML(value=''), FloatProgress(value=0.0, max=50.0), HTML(value='')))"
      ]
     },
     "metadata": {},
     "output_type": "display_data"
    },
    {
     "name": "stdout",
     "output_type": "stream",
     "text": [
      "\n"
     ]
    },
    {
     "name": "stderr",
     "output_type": "stream",
     "text": [
      "WARNING:implicit:This method is deprecated. Please use the AlternatingLeastSquares class instead\n"
     ]
    },
    {
     "name": "stdout",
     "output_type": "stream",
     "text": [
      "Factor=20 - Alfa= 15 - Regularizacion=0.1 - iteracion = 10 - Evaluacion = (0.87, 0.814)\n",
      "2020-11-15 15:44:44.084116\n",
      "2020-11-15 15:44:44.084205\n"
     ]
    },
    {
     "data": {
      "application/vnd.jupyter.widget-view+json": {
       "model_id": "3324b2eebb344adb880951ab461f430a",
       "version_major": 2,
       "version_minor": 0
      },
      "text/plain": [
       "HBox(children=(HTML(value=''), FloatProgress(value=0.0, max=50.0), HTML(value='')))"
      ]
     },
     "metadata": {},
     "output_type": "display_data"
    },
    {
     "name": "stdout",
     "output_type": "stream",
     "text": [
      "\n"
     ]
    },
    {
     "name": "stderr",
     "output_type": "stream",
     "text": [
      "WARNING:implicit:This method is deprecated. Please use the AlternatingLeastSquares class instead\n"
     ]
    },
    {
     "name": "stdout",
     "output_type": "stream",
     "text": [
      "Factor=20 - Alfa= 15 - Regularizacion=0.1 - iteracion = 25 - Evaluacion = (0.871, 0.814)\n",
      "2020-11-15 15:45:01.239640\n",
      "2020-11-15 15:45:01.239854\n"
     ]
    },
    {
     "data": {
      "application/vnd.jupyter.widget-view+json": {
       "model_id": "af0c7cf427774dc5bb16796eb5ad53b9",
       "version_major": 2,
       "version_minor": 0
      },
      "text/plain": [
       "HBox(children=(HTML(value=''), FloatProgress(value=0.0, max=50.0), HTML(value='')))"
      ]
     },
     "metadata": {},
     "output_type": "display_data"
    },
    {
     "name": "stdout",
     "output_type": "stream",
     "text": [
      "\n"
     ]
    },
    {
     "name": "stderr",
     "output_type": "stream",
     "text": [
      "WARNING:implicit:This method is deprecated. Please use the AlternatingLeastSquares class instead\n"
     ]
    },
    {
     "name": "stdout",
     "output_type": "stream",
     "text": [
      "Factor=20 - Alfa= 15 - Regularizacion=0.1 - iteracion = 50 - Evaluacion = (0.87, 0.814)\n",
      "2020-11-15 15:45:18.879138\n",
      "2020-11-15 15:45:18.879264\n"
     ]
    },
    {
     "data": {
      "application/vnd.jupyter.widget-view+json": {
       "model_id": "88c44f4949c048b8932a8c66270a7869",
       "version_major": 2,
       "version_minor": 0
      },
      "text/plain": [
       "HBox(children=(HTML(value=''), FloatProgress(value=0.0, max=50.0), HTML(value='')))"
      ]
     },
     "metadata": {},
     "output_type": "display_data"
    },
    {
     "name": "stdout",
     "output_type": "stream",
     "text": [
      "\n"
     ]
    },
    {
     "name": "stderr",
     "output_type": "stream",
     "text": [
      "WARNING:implicit:This method is deprecated. Please use the AlternatingLeastSquares class instead\n"
     ]
    },
    {
     "name": "stdout",
     "output_type": "stream",
     "text": [
      "Factor=20 - Alfa= 15 - Regularizacion=0.1 - iteracion = 100 - Evaluacion = (0.871, 0.814)\n",
      "2020-11-15 15:45:37.121393\n",
      "2020-11-15 15:45:37.121493\n"
     ]
    },
    {
     "data": {
      "application/vnd.jupyter.widget-view+json": {
       "model_id": "6c2a6e1389f246518f80a654245cbf9e",
       "version_major": 2,
       "version_minor": 0
      },
      "text/plain": [
       "HBox(children=(HTML(value=''), FloatProgress(value=0.0, max=50.0), HTML(value='')))"
      ]
     },
     "metadata": {},
     "output_type": "display_data"
    },
    {
     "name": "stdout",
     "output_type": "stream",
     "text": [
      "\n"
     ]
    },
    {
     "name": "stderr",
     "output_type": "stream",
     "text": [
      "WARNING:implicit:This method is deprecated. Please use the AlternatingLeastSquares class instead\n"
     ]
    },
    {
     "name": "stdout",
     "output_type": "stream",
     "text": [
      "Factor=20 - Alfa= 15 - Regularizacion=0.1 - iteracion = 200 - Evaluacion = (0.871, 0.814)\n",
      "2020-11-15 15:45:54.946084\n",
      "2020-11-15 15:45:54.946200\n"
     ]
    },
    {
     "data": {
      "application/vnd.jupyter.widget-view+json": {
       "model_id": "83ac202d9d4b446596c50bc51f7f09da",
       "version_major": 2,
       "version_minor": 0
      },
      "text/plain": [
       "HBox(children=(HTML(value=''), FloatProgress(value=0.0, max=50.0), HTML(value='')))"
      ]
     },
     "metadata": {},
     "output_type": "display_data"
    },
    {
     "name": "stdout",
     "output_type": "stream",
     "text": [
      "\n"
     ]
    },
    {
     "name": "stderr",
     "output_type": "stream",
     "text": [
      "WARNING:implicit:This method is deprecated. Please use the AlternatingLeastSquares class instead\n"
     ]
    },
    {
     "name": "stdout",
     "output_type": "stream",
     "text": [
      "Factor=20 - Alfa= 15 - Regularizacion=0.2 - iteracion = 10 - Evaluacion = (0.87, 0.814)\n",
      "2020-11-15 15:46:12.507573\n",
      "2020-11-15 15:46:12.507726\n"
     ]
    },
    {
     "data": {
      "application/vnd.jupyter.widget-view+json": {
       "model_id": "dfc259b6ce3d44859e20253021824d0f",
       "version_major": 2,
       "version_minor": 0
      },
      "text/plain": [
       "HBox(children=(HTML(value=''), FloatProgress(value=0.0, max=50.0), HTML(value='')))"
      ]
     },
     "metadata": {},
     "output_type": "display_data"
    },
    {
     "name": "stdout",
     "output_type": "stream",
     "text": [
      "\n"
     ]
    },
    {
     "name": "stderr",
     "output_type": "stream",
     "text": [
      "WARNING:implicit:This method is deprecated. Please use the AlternatingLeastSquares class instead\n"
     ]
    },
    {
     "name": "stdout",
     "output_type": "stream",
     "text": [
      "Factor=20 - Alfa= 15 - Regularizacion=0.2 - iteracion = 25 - Evaluacion = (0.871, 0.814)\n",
      "2020-11-15 15:46:29.699451\n",
      "2020-11-15 15:46:29.699552\n"
     ]
    },
    {
     "data": {
      "application/vnd.jupyter.widget-view+json": {
       "model_id": "b4d73def79f349849a6f60c8b495ea56",
       "version_major": 2,
       "version_minor": 0
      },
      "text/plain": [
       "HBox(children=(HTML(value=''), FloatProgress(value=0.0, max=50.0), HTML(value='')))"
      ]
     },
     "metadata": {},
     "output_type": "display_data"
    },
    {
     "name": "stdout",
     "output_type": "stream",
     "text": [
      "\n"
     ]
    },
    {
     "name": "stderr",
     "output_type": "stream",
     "text": [
      "WARNING:implicit:This method is deprecated. Please use the AlternatingLeastSquares class instead\n"
     ]
    },
    {
     "name": "stdout",
     "output_type": "stream",
     "text": [
      "Factor=20 - Alfa= 15 - Regularizacion=0.2 - iteracion = 50 - Evaluacion = (0.871, 0.814)\n",
      "2020-11-15 15:46:46.245493\n",
      "2020-11-15 15:46:46.245609\n"
     ]
    },
    {
     "data": {
      "application/vnd.jupyter.widget-view+json": {
       "model_id": "cb297c00d1514a83aed20573cd619baa",
       "version_major": 2,
       "version_minor": 0
      },
      "text/plain": [
       "HBox(children=(HTML(value=''), FloatProgress(value=0.0, max=50.0), HTML(value='')))"
      ]
     },
     "metadata": {},
     "output_type": "display_data"
    },
    {
     "name": "stdout",
     "output_type": "stream",
     "text": [
      "\n"
     ]
    },
    {
     "name": "stderr",
     "output_type": "stream",
     "text": [
      "WARNING:implicit:This method is deprecated. Please use the AlternatingLeastSquares class instead\n"
     ]
    },
    {
     "name": "stdout",
     "output_type": "stream",
     "text": [
      "Factor=20 - Alfa= 15 - Regularizacion=0.2 - iteracion = 100 - Evaluacion = (0.87, 0.814)\n",
      "2020-11-15 15:47:02.729555\n",
      "2020-11-15 15:47:02.729659\n"
     ]
    },
    {
     "data": {
      "application/vnd.jupyter.widget-view+json": {
       "model_id": "5a57d048b0044f42a2dcc62cacdf762b",
       "version_major": 2,
       "version_minor": 0
      },
      "text/plain": [
       "HBox(children=(HTML(value=''), FloatProgress(value=0.0, max=50.0), HTML(value='')))"
      ]
     },
     "metadata": {},
     "output_type": "display_data"
    },
    {
     "name": "stdout",
     "output_type": "stream",
     "text": [
      "\n"
     ]
    },
    {
     "name": "stderr",
     "output_type": "stream",
     "text": [
      "WARNING:implicit:This method is deprecated. Please use the AlternatingLeastSquares class instead\n"
     ]
    },
    {
     "name": "stdout",
     "output_type": "stream",
     "text": [
      "Factor=20 - Alfa= 15 - Regularizacion=0.2 - iteracion = 200 - Evaluacion = (0.871, 0.814)\n",
      "2020-11-15 15:47:19.305676\n",
      "2020-11-15 15:47:19.305783\n"
     ]
    },
    {
     "data": {
      "application/vnd.jupyter.widget-view+json": {
       "model_id": "a6a12419941b45c3a9b5828395886af1",
       "version_major": 2,
       "version_minor": 0
      },
      "text/plain": [
       "HBox(children=(HTML(value=''), FloatProgress(value=0.0, max=50.0), HTML(value='')))"
      ]
     },
     "metadata": {},
     "output_type": "display_data"
    },
    {
     "name": "stdout",
     "output_type": "stream",
     "text": [
      "\n"
     ]
    },
    {
     "name": "stderr",
     "output_type": "stream",
     "text": [
      "WARNING:implicit:This method is deprecated. Please use the AlternatingLeastSquares class instead\n"
     ]
    },
    {
     "name": "stdout",
     "output_type": "stream",
     "text": [
      "Factor=20 - Alfa= 15 - Regularizacion=0.4 - iteracion = 10 - Evaluacion = (0.871, 0.814)\n",
      "2020-11-15 15:47:35.726434\n",
      "2020-11-15 15:47:35.726540\n"
     ]
    },
    {
     "data": {
      "application/vnd.jupyter.widget-view+json": {
       "model_id": "2e90cfeb00f34594b9493d8075ba3b34",
       "version_major": 2,
       "version_minor": 0
      },
      "text/plain": [
       "HBox(children=(HTML(value=''), FloatProgress(value=0.0, max=50.0), HTML(value='')))"
      ]
     },
     "metadata": {},
     "output_type": "display_data"
    },
    {
     "name": "stdout",
     "output_type": "stream",
     "text": [
      "\n"
     ]
    },
    {
     "name": "stderr",
     "output_type": "stream",
     "text": [
      "WARNING:implicit:This method is deprecated. Please use the AlternatingLeastSquares class instead\n"
     ]
    },
    {
     "name": "stdout",
     "output_type": "stream",
     "text": [
      "Factor=20 - Alfa= 15 - Regularizacion=0.4 - iteracion = 25 - Evaluacion = (0.87, 0.814)\n",
      "2020-11-15 15:47:52.343293\n",
      "2020-11-15 15:47:52.343472\n"
     ]
    },
    {
     "data": {
      "application/vnd.jupyter.widget-view+json": {
       "model_id": "82d283f458004369b8936b749ede2b85",
       "version_major": 2,
       "version_minor": 0
      },
      "text/plain": [
       "HBox(children=(HTML(value=''), FloatProgress(value=0.0, max=50.0), HTML(value='')))"
      ]
     },
     "metadata": {},
     "output_type": "display_data"
    },
    {
     "name": "stdout",
     "output_type": "stream",
     "text": [
      "\n"
     ]
    },
    {
     "name": "stderr",
     "output_type": "stream",
     "text": [
      "WARNING:implicit:This method is deprecated. Please use the AlternatingLeastSquares class instead\n"
     ]
    },
    {
     "name": "stdout",
     "output_type": "stream",
     "text": [
      "Factor=20 - Alfa= 15 - Regularizacion=0.4 - iteracion = 50 - Evaluacion = (0.871, 0.814)\n",
      "2020-11-15 15:48:08.546819\n",
      "2020-11-15 15:48:08.546923\n"
     ]
    },
    {
     "data": {
      "application/vnd.jupyter.widget-view+json": {
       "model_id": "942afc9b578f467fb27a6198b993d858",
       "version_major": 2,
       "version_minor": 0
      },
      "text/plain": [
       "HBox(children=(HTML(value=''), FloatProgress(value=0.0, max=50.0), HTML(value='')))"
      ]
     },
     "metadata": {},
     "output_type": "display_data"
    },
    {
     "name": "stdout",
     "output_type": "stream",
     "text": [
      "\n"
     ]
    },
    {
     "name": "stderr",
     "output_type": "stream",
     "text": [
      "WARNING:implicit:This method is deprecated. Please use the AlternatingLeastSquares class instead\n"
     ]
    },
    {
     "name": "stdout",
     "output_type": "stream",
     "text": [
      "Factor=20 - Alfa= 15 - Regularizacion=0.4 - iteracion = 100 - Evaluacion = (0.871, 0.814)\n",
      "2020-11-15 15:48:24.790612\n",
      "2020-11-15 15:48:24.790717\n"
     ]
    },
    {
     "data": {
      "application/vnd.jupyter.widget-view+json": {
       "model_id": "00df7c23bf944b09aa8520f02c8b1f90",
       "version_major": 2,
       "version_minor": 0
      },
      "text/plain": [
       "HBox(children=(HTML(value=''), FloatProgress(value=0.0, max=50.0), HTML(value='')))"
      ]
     },
     "metadata": {},
     "output_type": "display_data"
    },
    {
     "name": "stdout",
     "output_type": "stream",
     "text": [
      "\n"
     ]
    },
    {
     "name": "stderr",
     "output_type": "stream",
     "text": [
      "WARNING:implicit:This method is deprecated. Please use the AlternatingLeastSquares class instead\n"
     ]
    },
    {
     "name": "stdout",
     "output_type": "stream",
     "text": [
      "Factor=20 - Alfa= 15 - Regularizacion=0.4 - iteracion = 200 - Evaluacion = (0.87, 0.814)\n",
      "2020-11-15 15:48:40.802903\n",
      "2020-11-15 15:48:40.803047\n"
     ]
    },
    {
     "data": {
      "application/vnd.jupyter.widget-view+json": {
       "model_id": "6fae2a71d4b34def9e1f58a9c9303067",
       "version_major": 2,
       "version_minor": 0
      },
      "text/plain": [
       "HBox(children=(HTML(value=''), FloatProgress(value=0.0, max=50.0), HTML(value='')))"
      ]
     },
     "metadata": {},
     "output_type": "display_data"
    },
    {
     "name": "stdout",
     "output_type": "stream",
     "text": [
      "\n"
     ]
    },
    {
     "name": "stderr",
     "output_type": "stream",
     "text": [
      "WARNING:implicit:This method is deprecated. Please use the AlternatingLeastSquares class instead\n"
     ]
    },
    {
     "name": "stdout",
     "output_type": "stream",
     "text": [
      "Factor=20 - Alfa= 30 - Regularizacion=0.025 - iteracion = 10 - Evaluacion = (0.87, 0.814)\n",
      "2020-11-15 15:48:56.907654\n",
      "2020-11-15 15:48:56.907755\n"
     ]
    },
    {
     "data": {
      "application/vnd.jupyter.widget-view+json": {
       "model_id": "c585aa1da5ab4a3ba762786cfe06d5de",
       "version_major": 2,
       "version_minor": 0
      },
      "text/plain": [
       "HBox(children=(HTML(value=''), FloatProgress(value=0.0, max=50.0), HTML(value='')))"
      ]
     },
     "metadata": {},
     "output_type": "display_data"
    },
    {
     "name": "stdout",
     "output_type": "stream",
     "text": [
      "\n"
     ]
    },
    {
     "name": "stderr",
     "output_type": "stream",
     "text": [
      "WARNING:implicit:This method is deprecated. Please use the AlternatingLeastSquares class instead\n"
     ]
    },
    {
     "name": "stdout",
     "output_type": "stream",
     "text": [
      "Factor=20 - Alfa= 30 - Regularizacion=0.025 - iteracion = 25 - Evaluacion = (0.869, 0.814)\n",
      "2020-11-15 15:49:13.481114\n",
      "2020-11-15 15:49:13.481222\n"
     ]
    },
    {
     "data": {
      "application/vnd.jupyter.widget-view+json": {
       "model_id": "8410d2c4102d4d6882658b10217e58c6",
       "version_major": 2,
       "version_minor": 0
      },
      "text/plain": [
       "HBox(children=(HTML(value=''), FloatProgress(value=0.0, max=50.0), HTML(value='')))"
      ]
     },
     "metadata": {},
     "output_type": "display_data"
    },
    {
     "name": "stdout",
     "output_type": "stream",
     "text": [
      "\n"
     ]
    },
    {
     "name": "stderr",
     "output_type": "stream",
     "text": [
      "WARNING:implicit:This method is deprecated. Please use the AlternatingLeastSquares class instead\n"
     ]
    },
    {
     "name": "stdout",
     "output_type": "stream",
     "text": [
      "Factor=20 - Alfa= 30 - Regularizacion=0.025 - iteracion = 50 - Evaluacion = (0.871, 0.814)\n",
      "2020-11-15 15:49:30.503208\n",
      "2020-11-15 15:49:30.503403\n"
     ]
    },
    {
     "data": {
      "application/vnd.jupyter.widget-view+json": {
       "model_id": "8cb6e895afdf4dfa9bf73c9b496a43ea",
       "version_major": 2,
       "version_minor": 0
      },
      "text/plain": [
       "HBox(children=(HTML(value=''), FloatProgress(value=0.0, max=50.0), HTML(value='')))"
      ]
     },
     "metadata": {},
     "output_type": "display_data"
    },
    {
     "name": "stdout",
     "output_type": "stream",
     "text": [
      "\n"
     ]
    },
    {
     "name": "stderr",
     "output_type": "stream",
     "text": [
      "WARNING:implicit:This method is deprecated. Please use the AlternatingLeastSquares class instead\n"
     ]
    },
    {
     "name": "stdout",
     "output_type": "stream",
     "text": [
      "Factor=20 - Alfa= 30 - Regularizacion=0.025 - iteracion = 100 - Evaluacion = (0.87, 0.814)\n",
      "2020-11-15 15:49:47.927045\n",
      "2020-11-15 15:49:47.927140\n"
     ]
    },
    {
     "data": {
      "application/vnd.jupyter.widget-view+json": {
       "model_id": "88f3c37dd6f04242b07b1ac0b9ee41fc",
       "version_major": 2,
       "version_minor": 0
      },
      "text/plain": [
       "HBox(children=(HTML(value=''), FloatProgress(value=0.0, max=50.0), HTML(value='')))"
      ]
     },
     "metadata": {},
     "output_type": "display_data"
    },
    {
     "name": "stdout",
     "output_type": "stream",
     "text": [
      "\n"
     ]
    },
    {
     "name": "stderr",
     "output_type": "stream",
     "text": [
      "WARNING:implicit:This method is deprecated. Please use the AlternatingLeastSquares class instead\n"
     ]
    },
    {
     "name": "stdout",
     "output_type": "stream",
     "text": [
      "Factor=20 - Alfa= 30 - Regularizacion=0.025 - iteracion = 200 - Evaluacion = (0.87, 0.814)\n",
      "2020-11-15 15:50:05.305760\n",
      "2020-11-15 15:50:05.305855\n"
     ]
    },
    {
     "data": {
      "application/vnd.jupyter.widget-view+json": {
       "model_id": "d18adaf414f54663b9e5bc929976ce49",
       "version_major": 2,
       "version_minor": 0
      },
      "text/plain": [
       "HBox(children=(HTML(value=''), FloatProgress(value=0.0, max=50.0), HTML(value='')))"
      ]
     },
     "metadata": {},
     "output_type": "display_data"
    },
    {
     "name": "stdout",
     "output_type": "stream",
     "text": [
      "\n"
     ]
    },
    {
     "name": "stderr",
     "output_type": "stream",
     "text": [
      "WARNING:implicit:This method is deprecated. Please use the AlternatingLeastSquares class instead\n"
     ]
    },
    {
     "name": "stdout",
     "output_type": "stream",
     "text": [
      "Factor=20 - Alfa= 30 - Regularizacion=0.05 - iteracion = 10 - Evaluacion = (0.871, 0.814)\n",
      "2020-11-15 15:50:23.052045\n",
      "2020-11-15 15:50:23.052144\n"
     ]
    },
    {
     "data": {
      "application/vnd.jupyter.widget-view+json": {
       "model_id": "4d3c81a8934b46838c960e634e3e249d",
       "version_major": 2,
       "version_minor": 0
      },
      "text/plain": [
       "HBox(children=(HTML(value=''), FloatProgress(value=0.0, max=50.0), HTML(value='')))"
      ]
     },
     "metadata": {},
     "output_type": "display_data"
    },
    {
     "name": "stdout",
     "output_type": "stream",
     "text": [
      "\n"
     ]
    },
    {
     "name": "stderr",
     "output_type": "stream",
     "text": [
      "WARNING:implicit:This method is deprecated. Please use the AlternatingLeastSquares class instead\n"
     ]
    },
    {
     "name": "stdout",
     "output_type": "stream",
     "text": [
      "Factor=20 - Alfa= 30 - Regularizacion=0.05 - iteracion = 25 - Evaluacion = (0.87, 0.814)\n",
      "2020-11-15 15:50:40.545981\n",
      "2020-11-15 15:50:40.546084\n"
     ]
    },
    {
     "data": {
      "application/vnd.jupyter.widget-view+json": {
       "model_id": "0615415a2ade44e782554163d1961b90",
       "version_major": 2,
       "version_minor": 0
      },
      "text/plain": [
       "HBox(children=(HTML(value=''), FloatProgress(value=0.0, max=50.0), HTML(value='')))"
      ]
     },
     "metadata": {},
     "output_type": "display_data"
    },
    {
     "name": "stdout",
     "output_type": "stream",
     "text": [
      "\n"
     ]
    },
    {
     "name": "stderr",
     "output_type": "stream",
     "text": [
      "WARNING:implicit:This method is deprecated. Please use the AlternatingLeastSquares class instead\n"
     ]
    },
    {
     "name": "stdout",
     "output_type": "stream",
     "text": [
      "Factor=20 - Alfa= 30 - Regularizacion=0.05 - iteracion = 50 - Evaluacion = (0.871, 0.814)\n",
      "2020-11-15 15:50:58.443599\n",
      "2020-11-15 15:50:58.443708\n"
     ]
    },
    {
     "data": {
      "application/vnd.jupyter.widget-view+json": {
       "model_id": "260ba82c2840442cb3b2a1bb1026f7cb",
       "version_major": 2,
       "version_minor": 0
      },
      "text/plain": [
       "HBox(children=(HTML(value=''), FloatProgress(value=0.0, max=50.0), HTML(value='')))"
      ]
     },
     "metadata": {},
     "output_type": "display_data"
    },
    {
     "name": "stdout",
     "output_type": "stream",
     "text": [
      "\n"
     ]
    },
    {
     "name": "stderr",
     "output_type": "stream",
     "text": [
      "WARNING:implicit:This method is deprecated. Please use the AlternatingLeastSquares class instead\n"
     ]
    },
    {
     "name": "stdout",
     "output_type": "stream",
     "text": [
      "Factor=20 - Alfa= 30 - Regularizacion=0.05 - iteracion = 100 - Evaluacion = (0.871, 0.814)\n",
      "2020-11-15 15:51:16.651173\n",
      "2020-11-15 15:51:16.651394\n"
     ]
    },
    {
     "data": {
      "application/vnd.jupyter.widget-view+json": {
       "model_id": "bca03e7a5a7e46ea98f55cad4d4af43d",
       "version_major": 2,
       "version_minor": 0
      },
      "text/plain": [
       "HBox(children=(HTML(value=''), FloatProgress(value=0.0, max=50.0), HTML(value='')))"
      ]
     },
     "metadata": {},
     "output_type": "display_data"
    },
    {
     "name": "stdout",
     "output_type": "stream",
     "text": [
      "\n"
     ]
    },
    {
     "name": "stderr",
     "output_type": "stream",
     "text": [
      "WARNING:implicit:This method is deprecated. Please use the AlternatingLeastSquares class instead\n"
     ]
    },
    {
     "name": "stdout",
     "output_type": "stream",
     "text": [
      "Factor=20 - Alfa= 30 - Regularizacion=0.05 - iteracion = 200 - Evaluacion = (0.87, 0.814)\n",
      "2020-11-15 15:51:37.682419\n",
      "2020-11-15 15:51:37.682528\n"
     ]
    },
    {
     "data": {
      "application/vnd.jupyter.widget-view+json": {
       "model_id": "9d79a748b7f147e6935e3bbd5e1575bd",
       "version_major": 2,
       "version_minor": 0
      },
      "text/plain": [
       "HBox(children=(HTML(value=''), FloatProgress(value=0.0, max=50.0), HTML(value='')))"
      ]
     },
     "metadata": {},
     "output_type": "display_data"
    },
    {
     "name": "stdout",
     "output_type": "stream",
     "text": [
      "\n"
     ]
    },
    {
     "name": "stderr",
     "output_type": "stream",
     "text": [
      "WARNING:implicit:This method is deprecated. Please use the AlternatingLeastSquares class instead\n"
     ]
    },
    {
     "name": "stdout",
     "output_type": "stream",
     "text": [
      "Factor=20 - Alfa= 30 - Regularizacion=0.1 - iteracion = 10 - Evaluacion = (0.871, 0.814)\n",
      "2020-11-15 15:51:54.072589\n",
      "2020-11-15 15:51:54.072793\n"
     ]
    },
    {
     "data": {
      "application/vnd.jupyter.widget-view+json": {
       "model_id": "47bd8c5c7df0470ba626ffbf10887d40",
       "version_major": 2,
       "version_minor": 0
      },
      "text/plain": [
       "HBox(children=(HTML(value=''), FloatProgress(value=0.0, max=50.0), HTML(value='')))"
      ]
     },
     "metadata": {},
     "output_type": "display_data"
    },
    {
     "name": "stdout",
     "output_type": "stream",
     "text": [
      "\n"
     ]
    },
    {
     "name": "stderr",
     "output_type": "stream",
     "text": [
      "WARNING:implicit:This method is deprecated. Please use the AlternatingLeastSquares class instead\n"
     ]
    },
    {
     "name": "stdout",
     "output_type": "stream",
     "text": [
      "Factor=20 - Alfa= 30 - Regularizacion=0.1 - iteracion = 25 - Evaluacion = (0.87, 0.814)\n",
      "2020-11-15 15:52:10.203555\n",
      "2020-11-15 15:52:10.203662\n"
     ]
    },
    {
     "data": {
      "application/vnd.jupyter.widget-view+json": {
       "model_id": "7d86f733624f4169aee47bf7fd7f5790",
       "version_major": 2,
       "version_minor": 0
      },
      "text/plain": [
       "HBox(children=(HTML(value=''), FloatProgress(value=0.0, max=50.0), HTML(value='')))"
      ]
     },
     "metadata": {},
     "output_type": "display_data"
    },
    {
     "name": "stdout",
     "output_type": "stream",
     "text": [
      "\n"
     ]
    },
    {
     "name": "stderr",
     "output_type": "stream",
     "text": [
      "WARNING:implicit:This method is deprecated. Please use the AlternatingLeastSquares class instead\n"
     ]
    },
    {
     "name": "stdout",
     "output_type": "stream",
     "text": [
      "Factor=20 - Alfa= 30 - Regularizacion=0.1 - iteracion = 50 - Evaluacion = (0.871, 0.814)\n",
      "2020-11-15 15:52:26.549352\n",
      "2020-11-15 15:52:26.549459\n"
     ]
    },
    {
     "data": {
      "application/vnd.jupyter.widget-view+json": {
       "model_id": "ec908b28843342ac8f249fe9476a177d",
       "version_major": 2,
       "version_minor": 0
      },
      "text/plain": [
       "HBox(children=(HTML(value=''), FloatProgress(value=0.0, max=50.0), HTML(value='')))"
      ]
     },
     "metadata": {},
     "output_type": "display_data"
    },
    {
     "name": "stdout",
     "output_type": "stream",
     "text": [
      "\n"
     ]
    },
    {
     "name": "stderr",
     "output_type": "stream",
     "text": [
      "WARNING:implicit:This method is deprecated. Please use the AlternatingLeastSquares class instead\n"
     ]
    },
    {
     "name": "stdout",
     "output_type": "stream",
     "text": [
      "Factor=20 - Alfa= 30 - Regularizacion=0.1 - iteracion = 100 - Evaluacion = (0.87, 0.814)\n",
      "2020-11-15 15:52:42.739399\n",
      "2020-11-15 15:52:42.739505\n"
     ]
    },
    {
     "data": {
      "application/vnd.jupyter.widget-view+json": {
       "model_id": "6b4a7a592eff40fd8c50e209b5088a09",
       "version_major": 2,
       "version_minor": 0
      },
      "text/plain": [
       "HBox(children=(HTML(value=''), FloatProgress(value=0.0, max=50.0), HTML(value='')))"
      ]
     },
     "metadata": {},
     "output_type": "display_data"
    },
    {
     "name": "stdout",
     "output_type": "stream",
     "text": [
      "\n"
     ]
    },
    {
     "name": "stderr",
     "output_type": "stream",
     "text": [
      "WARNING:implicit:This method is deprecated. Please use the AlternatingLeastSquares class instead\n"
     ]
    },
    {
     "name": "stdout",
     "output_type": "stream",
     "text": [
      "Factor=20 - Alfa= 30 - Regularizacion=0.1 - iteracion = 200 - Evaluacion = (0.871, 0.814)\n",
      "2020-11-15 15:52:58.290804\n",
      "2020-11-15 15:52:58.290911\n"
     ]
    },
    {
     "data": {
      "application/vnd.jupyter.widget-view+json": {
       "model_id": "df4e42713ddc4f21aa708a014cbcf927",
       "version_major": 2,
       "version_minor": 0
      },
      "text/plain": [
       "HBox(children=(HTML(value=''), FloatProgress(value=0.0, max=50.0), HTML(value='')))"
      ]
     },
     "metadata": {},
     "output_type": "display_data"
    },
    {
     "name": "stdout",
     "output_type": "stream",
     "text": [
      "\n"
     ]
    },
    {
     "name": "stderr",
     "output_type": "stream",
     "text": [
      "WARNING:implicit:This method is deprecated. Please use the AlternatingLeastSquares class instead\n"
     ]
    },
    {
     "name": "stdout",
     "output_type": "stream",
     "text": [
      "Factor=20 - Alfa= 30 - Regularizacion=0.2 - iteracion = 10 - Evaluacion = (0.869, 0.814)\n",
      "2020-11-15 15:53:14.329836\n",
      "2020-11-15 15:53:14.329940\n"
     ]
    },
    {
     "data": {
      "application/vnd.jupyter.widget-view+json": {
       "model_id": "bb8eb0996fe34c4fb9c45112e5686e0d",
       "version_major": 2,
       "version_minor": 0
      },
      "text/plain": [
       "HBox(children=(HTML(value=''), FloatProgress(value=0.0, max=50.0), HTML(value='')))"
      ]
     },
     "metadata": {},
     "output_type": "display_data"
    },
    {
     "name": "stdout",
     "output_type": "stream",
     "text": [
      "\n"
     ]
    },
    {
     "name": "stderr",
     "output_type": "stream",
     "text": [
      "WARNING:implicit:This method is deprecated. Please use the AlternatingLeastSquares class instead\n"
     ]
    },
    {
     "name": "stdout",
     "output_type": "stream",
     "text": [
      "Factor=20 - Alfa= 30 - Regularizacion=0.2 - iteracion = 25 - Evaluacion = (0.871, 0.814)\n",
      "2020-11-15 15:53:30.071775\n",
      "2020-11-15 15:53:30.071881\n"
     ]
    },
    {
     "data": {
      "application/vnd.jupyter.widget-view+json": {
       "model_id": "f4eaddf7b13c4d2e8854872ab13e1c2d",
       "version_major": 2,
       "version_minor": 0
      },
      "text/plain": [
       "HBox(children=(HTML(value=''), FloatProgress(value=0.0, max=50.0), HTML(value='')))"
      ]
     },
     "metadata": {},
     "output_type": "display_data"
    },
    {
     "name": "stdout",
     "output_type": "stream",
     "text": [
      "\n"
     ]
    },
    {
     "name": "stderr",
     "output_type": "stream",
     "text": [
      "WARNING:implicit:This method is deprecated. Please use the AlternatingLeastSquares class instead\n"
     ]
    },
    {
     "name": "stdout",
     "output_type": "stream",
     "text": [
      "Factor=20 - Alfa= 30 - Regularizacion=0.2 - iteracion = 50 - Evaluacion = (0.869, 0.814)\n",
      "2020-11-15 15:53:46.007508\n",
      "2020-11-15 15:53:46.007611\n"
     ]
    },
    {
     "data": {
      "application/vnd.jupyter.widget-view+json": {
       "model_id": "52ce0483a5d14795963fd6be12a159e6",
       "version_major": 2,
       "version_minor": 0
      },
      "text/plain": [
       "HBox(children=(HTML(value=''), FloatProgress(value=0.0, max=50.0), HTML(value='')))"
      ]
     },
     "metadata": {},
     "output_type": "display_data"
    },
    {
     "name": "stdout",
     "output_type": "stream",
     "text": [
      "\n"
     ]
    },
    {
     "name": "stderr",
     "output_type": "stream",
     "text": [
      "WARNING:implicit:This method is deprecated. Please use the AlternatingLeastSquares class instead\n"
     ]
    },
    {
     "name": "stdout",
     "output_type": "stream",
     "text": [
      "Factor=20 - Alfa= 30 - Regularizacion=0.2 - iteracion = 100 - Evaluacion = (0.87, 0.814)\n",
      "2020-11-15 15:54:02.284301\n",
      "2020-11-15 15:54:02.284397\n"
     ]
    },
    {
     "data": {
      "application/vnd.jupyter.widget-view+json": {
       "model_id": "f0c7cc24a7c6476fa8b822ae4da0d296",
       "version_major": 2,
       "version_minor": 0
      },
      "text/plain": [
       "HBox(children=(HTML(value=''), FloatProgress(value=0.0, max=50.0), HTML(value='')))"
      ]
     },
     "metadata": {},
     "output_type": "display_data"
    },
    {
     "name": "stdout",
     "output_type": "stream",
     "text": [
      "\n"
     ]
    },
    {
     "name": "stderr",
     "output_type": "stream",
     "text": [
      "WARNING:implicit:This method is deprecated. Please use the AlternatingLeastSquares class instead\n"
     ]
    },
    {
     "name": "stdout",
     "output_type": "stream",
     "text": [
      "Factor=20 - Alfa= 30 - Regularizacion=0.2 - iteracion = 200 - Evaluacion = (0.871, 0.814)\n",
      "2020-11-15 15:54:19.203315\n",
      "2020-11-15 15:54:19.203423\n"
     ]
    },
    {
     "data": {
      "application/vnd.jupyter.widget-view+json": {
       "model_id": "f852cddbf0fb414f88023fc73035113a",
       "version_major": 2,
       "version_minor": 0
      },
      "text/plain": [
       "HBox(children=(HTML(value=''), FloatProgress(value=0.0, max=50.0), HTML(value='')))"
      ]
     },
     "metadata": {},
     "output_type": "display_data"
    },
    {
     "name": "stdout",
     "output_type": "stream",
     "text": [
      "\n"
     ]
    },
    {
     "name": "stderr",
     "output_type": "stream",
     "text": [
      "WARNING:implicit:This method is deprecated. Please use the AlternatingLeastSquares class instead\n"
     ]
    },
    {
     "name": "stdout",
     "output_type": "stream",
     "text": [
      "Factor=20 - Alfa= 30 - Regularizacion=0.4 - iteracion = 10 - Evaluacion = (0.871, 0.814)\n",
      "2020-11-15 15:54:36.343968\n",
      "2020-11-15 15:54:36.344064\n"
     ]
    },
    {
     "data": {
      "application/vnd.jupyter.widget-view+json": {
       "model_id": "92a832bb528d45e1a074650f07fddb4a",
       "version_major": 2,
       "version_minor": 0
      },
      "text/plain": [
       "HBox(children=(HTML(value=''), FloatProgress(value=0.0, max=50.0), HTML(value='')))"
      ]
     },
     "metadata": {},
     "output_type": "display_data"
    },
    {
     "name": "stdout",
     "output_type": "stream",
     "text": [
      "\n"
     ]
    },
    {
     "name": "stderr",
     "output_type": "stream",
     "text": [
      "WARNING:implicit:This method is deprecated. Please use the AlternatingLeastSquares class instead\n"
     ]
    },
    {
     "name": "stdout",
     "output_type": "stream",
     "text": [
      "Factor=20 - Alfa= 30 - Regularizacion=0.4 - iteracion = 25 - Evaluacion = (0.87, 0.814)\n",
      "2020-11-15 15:54:53.264003\n",
      "2020-11-15 15:54:53.264215\n"
     ]
    },
    {
     "data": {
      "application/vnd.jupyter.widget-view+json": {
       "model_id": "f0a2f7622f9146e39a69c9fd9d7c3e88",
       "version_major": 2,
       "version_minor": 0
      },
      "text/plain": [
       "HBox(children=(HTML(value=''), FloatProgress(value=0.0, max=50.0), HTML(value='')))"
      ]
     },
     "metadata": {},
     "output_type": "display_data"
    },
    {
     "name": "stdout",
     "output_type": "stream",
     "text": [
      "\n"
     ]
    },
    {
     "name": "stderr",
     "output_type": "stream",
     "text": [
      "WARNING:implicit:This method is deprecated. Please use the AlternatingLeastSquares class instead\n"
     ]
    },
    {
     "name": "stdout",
     "output_type": "stream",
     "text": [
      "Factor=20 - Alfa= 30 - Regularizacion=0.4 - iteracion = 50 - Evaluacion = (0.87, 0.814)\n",
      "2020-11-15 15:55:10.498551\n",
      "2020-11-15 15:55:10.498647\n"
     ]
    },
    {
     "data": {
      "application/vnd.jupyter.widget-view+json": {
       "model_id": "e016a44c6f8747ecb044b885d94653de",
       "version_major": 2,
       "version_minor": 0
      },
      "text/plain": [
       "HBox(children=(HTML(value=''), FloatProgress(value=0.0, max=50.0), HTML(value='')))"
      ]
     },
     "metadata": {},
     "output_type": "display_data"
    },
    {
     "name": "stdout",
     "output_type": "stream",
     "text": [
      "\n"
     ]
    },
    {
     "name": "stderr",
     "output_type": "stream",
     "text": [
      "WARNING:implicit:This method is deprecated. Please use the AlternatingLeastSquares class instead\n"
     ]
    },
    {
     "name": "stdout",
     "output_type": "stream",
     "text": [
      "Factor=20 - Alfa= 30 - Regularizacion=0.4 - iteracion = 100 - Evaluacion = (0.871, 0.814)\n",
      "2020-11-15 15:55:27.266358\n",
      "2020-11-15 15:55:27.266470\n"
     ]
    },
    {
     "data": {
      "application/vnd.jupyter.widget-view+json": {
       "model_id": "550a95faba184434bf725b38250bc3e8",
       "version_major": 2,
       "version_minor": 0
      },
      "text/plain": [
       "HBox(children=(HTML(value=''), FloatProgress(value=0.0, max=50.0), HTML(value='')))"
      ]
     },
     "metadata": {},
     "output_type": "display_data"
    },
    {
     "name": "stdout",
     "output_type": "stream",
     "text": [
      "\n"
     ]
    },
    {
     "name": "stderr",
     "output_type": "stream",
     "text": [
      "WARNING:implicit:This method is deprecated. Please use the AlternatingLeastSquares class instead\n"
     ]
    },
    {
     "name": "stdout",
     "output_type": "stream",
     "text": [
      "Factor=20 - Alfa= 30 - Regularizacion=0.4 - iteracion = 200 - Evaluacion = (0.871, 0.814)\n",
      "2020-11-15 15:55:43.989733\n",
      "2020-11-15 15:55:43.989827\n"
     ]
    },
    {
     "data": {
      "application/vnd.jupyter.widget-view+json": {
       "model_id": "553714715b5341beb2f4b9f282b36ea3",
       "version_major": 2,
       "version_minor": 0
      },
      "text/plain": [
       "HBox(children=(HTML(value=''), FloatProgress(value=0.0, max=50.0), HTML(value='')))"
      ]
     },
     "metadata": {},
     "output_type": "display_data"
    },
    {
     "name": "stdout",
     "output_type": "stream",
     "text": [
      "\n"
     ]
    },
    {
     "name": "stderr",
     "output_type": "stream",
     "text": [
      "WARNING:implicit:This method is deprecated. Please use the AlternatingLeastSquares class instead\n"
     ]
    },
    {
     "name": "stdout",
     "output_type": "stream",
     "text": [
      "Factor=20 - Alfa= 35 - Regularizacion=0.025 - iteracion = 10 - Evaluacion = (0.871, 0.814)\n",
      "2020-11-15 15:56:01.740113\n",
      "2020-11-15 15:56:01.740209\n"
     ]
    },
    {
     "data": {
      "application/vnd.jupyter.widget-view+json": {
       "model_id": "baba4851049748c2999598bcb519bb90",
       "version_major": 2,
       "version_minor": 0
      },
      "text/plain": [
       "HBox(children=(HTML(value=''), FloatProgress(value=0.0, max=50.0), HTML(value='')))"
      ]
     },
     "metadata": {},
     "output_type": "display_data"
    },
    {
     "name": "stdout",
     "output_type": "stream",
     "text": [
      "\n"
     ]
    },
    {
     "name": "stderr",
     "output_type": "stream",
     "text": [
      "WARNING:implicit:This method is deprecated. Please use the AlternatingLeastSquares class instead\n"
     ]
    },
    {
     "name": "stdout",
     "output_type": "stream",
     "text": [
      "Factor=20 - Alfa= 35 - Regularizacion=0.025 - iteracion = 25 - Evaluacion = (0.872, 0.814)\n",
      "2020-11-15 15:56:18.266715\n",
      "2020-11-15 15:56:18.266833\n"
     ]
    },
    {
     "data": {
      "application/vnd.jupyter.widget-view+json": {
       "model_id": "ee33797e80b24b3a844d68eb6dfbc58c",
       "version_major": 2,
       "version_minor": 0
      },
      "text/plain": [
       "HBox(children=(HTML(value=''), FloatProgress(value=0.0, max=50.0), HTML(value='')))"
      ]
     },
     "metadata": {},
     "output_type": "display_data"
    },
    {
     "name": "stdout",
     "output_type": "stream",
     "text": [
      "\n"
     ]
    },
    {
     "name": "stderr",
     "output_type": "stream",
     "text": [
      "WARNING:implicit:This method is deprecated. Please use the AlternatingLeastSquares class instead\n"
     ]
    },
    {
     "name": "stdout",
     "output_type": "stream",
     "text": [
      "Factor=20 - Alfa= 35 - Regularizacion=0.025 - iteracion = 50 - Evaluacion = (0.872, 0.814)\n",
      "2020-11-15 15:56:35.161691\n",
      "2020-11-15 15:56:35.161784\n"
     ]
    },
    {
     "data": {
      "application/vnd.jupyter.widget-view+json": {
       "model_id": "b4da4892c2f14a49bc6d5b88a8cb6330",
       "version_major": 2,
       "version_minor": 0
      },
      "text/plain": [
       "HBox(children=(HTML(value=''), FloatProgress(value=0.0, max=50.0), HTML(value='')))"
      ]
     },
     "metadata": {},
     "output_type": "display_data"
    },
    {
     "name": "stdout",
     "output_type": "stream",
     "text": [
      "\n"
     ]
    },
    {
     "name": "stderr",
     "output_type": "stream",
     "text": [
      "WARNING:implicit:This method is deprecated. Please use the AlternatingLeastSquares class instead\n"
     ]
    },
    {
     "name": "stdout",
     "output_type": "stream",
     "text": [
      "Factor=20 - Alfa= 35 - Regularizacion=0.025 - iteracion = 100 - Evaluacion = (0.87, 0.814)\n",
      "2020-11-15 15:56:52.146861\n",
      "2020-11-15 15:56:52.146977\n"
     ]
    },
    {
     "data": {
      "application/vnd.jupyter.widget-view+json": {
       "model_id": "cf97e5862fbd40559ebefd39719af0d8",
       "version_major": 2,
       "version_minor": 0
      },
      "text/plain": [
       "HBox(children=(HTML(value=''), FloatProgress(value=0.0, max=50.0), HTML(value='')))"
      ]
     },
     "metadata": {},
     "output_type": "display_data"
    },
    {
     "name": "stdout",
     "output_type": "stream",
     "text": [
      "\n"
     ]
    },
    {
     "name": "stderr",
     "output_type": "stream",
     "text": [
      "WARNING:implicit:This method is deprecated. Please use the AlternatingLeastSquares class instead\n"
     ]
    },
    {
     "name": "stdout",
     "output_type": "stream",
     "text": [
      "Factor=20 - Alfa= 35 - Regularizacion=0.025 - iteracion = 200 - Evaluacion = (0.871, 0.814)\n",
      "2020-11-15 15:57:09.247553\n",
      "2020-11-15 15:57:09.247712\n"
     ]
    },
    {
     "data": {
      "application/vnd.jupyter.widget-view+json": {
       "model_id": "a736ed3de4514672a3fe2f444a9d7501",
       "version_major": 2,
       "version_minor": 0
      },
      "text/plain": [
       "HBox(children=(HTML(value=''), FloatProgress(value=0.0, max=50.0), HTML(value='')))"
      ]
     },
     "metadata": {},
     "output_type": "display_data"
    },
    {
     "name": "stdout",
     "output_type": "stream",
     "text": [
      "\n"
     ]
    },
    {
     "name": "stderr",
     "output_type": "stream",
     "text": [
      "WARNING:implicit:This method is deprecated. Please use the AlternatingLeastSquares class instead\n"
     ]
    },
    {
     "name": "stdout",
     "output_type": "stream",
     "text": [
      "Factor=20 - Alfa= 35 - Regularizacion=0.05 - iteracion = 10 - Evaluacion = (0.87, 0.814)\n",
      "2020-11-15 15:57:26.967090\n",
      "2020-11-15 15:57:26.967216\n"
     ]
    },
    {
     "data": {
      "application/vnd.jupyter.widget-view+json": {
       "model_id": "2dc0f3ce37a0415790239782a0607729",
       "version_major": 2,
       "version_minor": 0
      },
      "text/plain": [
       "HBox(children=(HTML(value=''), FloatProgress(value=0.0, max=50.0), HTML(value='')))"
      ]
     },
     "metadata": {},
     "output_type": "display_data"
    },
    {
     "name": "stdout",
     "output_type": "stream",
     "text": [
      "\n"
     ]
    },
    {
     "name": "stderr",
     "output_type": "stream",
     "text": [
      "WARNING:implicit:This method is deprecated. Please use the AlternatingLeastSquares class instead\n"
     ]
    },
    {
     "name": "stdout",
     "output_type": "stream",
     "text": [
      "Factor=20 - Alfa= 35 - Regularizacion=0.05 - iteracion = 25 - Evaluacion = (0.87, 0.814)\n",
      "2020-11-15 15:57:44.285133\n",
      "2020-11-15 15:57:44.285229\n"
     ]
    },
    {
     "data": {
      "application/vnd.jupyter.widget-view+json": {
       "model_id": "303136e0aeb54e93a520009a7c17dc25",
       "version_major": 2,
       "version_minor": 0
      },
      "text/plain": [
       "HBox(children=(HTML(value=''), FloatProgress(value=0.0, max=50.0), HTML(value='')))"
      ]
     },
     "metadata": {},
     "output_type": "display_data"
    },
    {
     "name": "stdout",
     "output_type": "stream",
     "text": [
      "\n"
     ]
    },
    {
     "name": "stderr",
     "output_type": "stream",
     "text": [
      "WARNING:implicit:This method is deprecated. Please use the AlternatingLeastSquares class instead\n"
     ]
    },
    {
     "name": "stdout",
     "output_type": "stream",
     "text": [
      "Factor=20 - Alfa= 35 - Regularizacion=0.05 - iteracion = 50 - Evaluacion = (0.871, 0.814)\n",
      "2020-11-15 15:58:00.835177\n",
      "2020-11-15 15:58:00.835282\n"
     ]
    },
    {
     "data": {
      "application/vnd.jupyter.widget-view+json": {
       "model_id": "7cdb90bc956f431f9209cbdd3931dbb8",
       "version_major": 2,
       "version_minor": 0
      },
      "text/plain": [
       "HBox(children=(HTML(value=''), FloatProgress(value=0.0, max=50.0), HTML(value='')))"
      ]
     },
     "metadata": {},
     "output_type": "display_data"
    },
    {
     "name": "stdout",
     "output_type": "stream",
     "text": [
      "\n"
     ]
    },
    {
     "name": "stderr",
     "output_type": "stream",
     "text": [
      "WARNING:implicit:This method is deprecated. Please use the AlternatingLeastSquares class instead\n"
     ]
    },
    {
     "name": "stdout",
     "output_type": "stream",
     "text": [
      "Factor=20 - Alfa= 35 - Regularizacion=0.05 - iteracion = 100 - Evaluacion = (0.871, 0.814)\n",
      "2020-11-15 15:58:17.409637\n",
      "2020-11-15 15:58:17.409749\n"
     ]
    },
    {
     "data": {
      "application/vnd.jupyter.widget-view+json": {
       "model_id": "786274c4f32b4d58b3ca46bb60524fb1",
       "version_major": 2,
       "version_minor": 0
      },
      "text/plain": [
       "HBox(children=(HTML(value=''), FloatProgress(value=0.0, max=50.0), HTML(value='')))"
      ]
     },
     "metadata": {},
     "output_type": "display_data"
    },
    {
     "name": "stdout",
     "output_type": "stream",
     "text": [
      "\n"
     ]
    },
    {
     "name": "stderr",
     "output_type": "stream",
     "text": [
      "WARNING:implicit:This method is deprecated. Please use the AlternatingLeastSquares class instead\n"
     ]
    },
    {
     "name": "stdout",
     "output_type": "stream",
     "text": [
      "Factor=20 - Alfa= 35 - Regularizacion=0.05 - iteracion = 200 - Evaluacion = (0.871, 0.814)\n",
      "2020-11-15 15:58:34.021267\n",
      "2020-11-15 15:58:34.021399\n"
     ]
    },
    {
     "data": {
      "application/vnd.jupyter.widget-view+json": {
       "model_id": "8db636b1ce734ed8955282aba80d1b9f",
       "version_major": 2,
       "version_minor": 0
      },
      "text/plain": [
       "HBox(children=(HTML(value=''), FloatProgress(value=0.0, max=50.0), HTML(value='')))"
      ]
     },
     "metadata": {},
     "output_type": "display_data"
    },
    {
     "name": "stdout",
     "output_type": "stream",
     "text": [
      "\n"
     ]
    },
    {
     "name": "stderr",
     "output_type": "stream",
     "text": [
      "WARNING:implicit:This method is deprecated. Please use the AlternatingLeastSquares class instead\n"
     ]
    },
    {
     "name": "stdout",
     "output_type": "stream",
     "text": [
      "Factor=20 - Alfa= 35 - Regularizacion=0.1 - iteracion = 10 - Evaluacion = (0.87, 0.814)\n",
      "2020-11-15 15:58:51.750664\n",
      "2020-11-15 15:58:51.750805\n"
     ]
    },
    {
     "data": {
      "application/vnd.jupyter.widget-view+json": {
       "model_id": "722576b9d2574d5da63b04b1c6d26830",
       "version_major": 2,
       "version_minor": 0
      },
      "text/plain": [
       "HBox(children=(HTML(value=''), FloatProgress(value=0.0, max=50.0), HTML(value='')))"
      ]
     },
     "metadata": {},
     "output_type": "display_data"
    },
    {
     "name": "stdout",
     "output_type": "stream",
     "text": [
      "\n"
     ]
    },
    {
     "name": "stderr",
     "output_type": "stream",
     "text": [
      "WARNING:implicit:This method is deprecated. Please use the AlternatingLeastSquares class instead\n"
     ]
    },
    {
     "name": "stdout",
     "output_type": "stream",
     "text": [
      "Factor=20 - Alfa= 35 - Regularizacion=0.1 - iteracion = 25 - Evaluacion = (0.871, 0.814)\n",
      "2020-11-15 15:59:09.533789\n",
      "2020-11-15 15:59:09.533884\n"
     ]
    },
    {
     "data": {
      "application/vnd.jupyter.widget-view+json": {
       "model_id": "80f3a2bff0ae4c50b1530bfc95bafcd7",
       "version_major": 2,
       "version_minor": 0
      },
      "text/plain": [
       "HBox(children=(HTML(value=''), FloatProgress(value=0.0, max=50.0), HTML(value='')))"
      ]
     },
     "metadata": {},
     "output_type": "display_data"
    },
    {
     "name": "stdout",
     "output_type": "stream",
     "text": [
      "\n"
     ]
    },
    {
     "name": "stderr",
     "output_type": "stream",
     "text": [
      "WARNING:implicit:This method is deprecated. Please use the AlternatingLeastSquares class instead\n"
     ]
    },
    {
     "name": "stdout",
     "output_type": "stream",
     "text": [
      "Factor=20 - Alfa= 35 - Regularizacion=0.1 - iteracion = 50 - Evaluacion = (0.87, 0.814)\n",
      "2020-11-15 15:59:26.359511\n",
      "2020-11-15 15:59:26.359603\n"
     ]
    },
    {
     "data": {
      "application/vnd.jupyter.widget-view+json": {
       "model_id": "749bdd9c7e674b1184f783abbc3babd2",
       "version_major": 2,
       "version_minor": 0
      },
      "text/plain": [
       "HBox(children=(HTML(value=''), FloatProgress(value=0.0, max=50.0), HTML(value='')))"
      ]
     },
     "metadata": {},
     "output_type": "display_data"
    },
    {
     "name": "stdout",
     "output_type": "stream",
     "text": [
      "\n"
     ]
    },
    {
     "name": "stderr",
     "output_type": "stream",
     "text": [
      "WARNING:implicit:This method is deprecated. Please use the AlternatingLeastSquares class instead\n"
     ]
    },
    {
     "name": "stdout",
     "output_type": "stream",
     "text": [
      "Factor=20 - Alfa= 35 - Regularizacion=0.1 - iteracion = 100 - Evaluacion = (0.871, 0.814)\n",
      "2020-11-15 15:59:43.263872\n",
      "2020-11-15 15:59:43.263977\n"
     ]
    },
    {
     "data": {
      "application/vnd.jupyter.widget-view+json": {
       "model_id": "dec95549a886489e88ff7cf8f6977384",
       "version_major": 2,
       "version_minor": 0
      },
      "text/plain": [
       "HBox(children=(HTML(value=''), FloatProgress(value=0.0, max=50.0), HTML(value='')))"
      ]
     },
     "metadata": {},
     "output_type": "display_data"
    },
    {
     "name": "stdout",
     "output_type": "stream",
     "text": [
      "\n"
     ]
    },
    {
     "name": "stderr",
     "output_type": "stream",
     "text": [
      "WARNING:implicit:This method is deprecated. Please use the AlternatingLeastSquares class instead\n"
     ]
    },
    {
     "name": "stdout",
     "output_type": "stream",
     "text": [
      "Factor=20 - Alfa= 35 - Regularizacion=0.1 - iteracion = 200 - Evaluacion = (0.87, 0.814)\n",
      "2020-11-15 16:00:00.153648\n",
      "2020-11-15 16:00:00.153737\n"
     ]
    },
    {
     "data": {
      "application/vnd.jupyter.widget-view+json": {
       "model_id": "83c0e6fb345f4267becd100f721846a5",
       "version_major": 2,
       "version_minor": 0
      },
      "text/plain": [
       "HBox(children=(HTML(value=''), FloatProgress(value=0.0, max=50.0), HTML(value='')))"
      ]
     },
     "metadata": {},
     "output_type": "display_data"
    },
    {
     "name": "stdout",
     "output_type": "stream",
     "text": [
      "\n"
     ]
    },
    {
     "name": "stderr",
     "output_type": "stream",
     "text": [
      "WARNING:implicit:This method is deprecated. Please use the AlternatingLeastSquares class instead\n"
     ]
    },
    {
     "name": "stdout",
     "output_type": "stream",
     "text": [
      "Factor=20 - Alfa= 35 - Regularizacion=0.2 - iteracion = 10 - Evaluacion = (0.87, 0.814)\n",
      "2020-11-15 16:00:16.851936\n",
      "2020-11-15 16:00:16.852047\n"
     ]
    },
    {
     "data": {
      "application/vnd.jupyter.widget-view+json": {
       "model_id": "d09f1f172330456aab3c6d9be29c9b3e",
       "version_major": 2,
       "version_minor": 0
      },
      "text/plain": [
       "HBox(children=(HTML(value=''), FloatProgress(value=0.0, max=50.0), HTML(value='')))"
      ]
     },
     "metadata": {},
     "output_type": "display_data"
    },
    {
     "name": "stdout",
     "output_type": "stream",
     "text": [
      "\n"
     ]
    },
    {
     "name": "stderr",
     "output_type": "stream",
     "text": [
      "WARNING:implicit:This method is deprecated. Please use the AlternatingLeastSquares class instead\n"
     ]
    },
    {
     "name": "stdout",
     "output_type": "stream",
     "text": [
      "Factor=20 - Alfa= 35 - Regularizacion=0.2 - iteracion = 25 - Evaluacion = (0.87, 0.814)\n",
      "2020-11-15 16:00:33.565665\n",
      "2020-11-15 16:00:33.565781\n"
     ]
    },
    {
     "data": {
      "application/vnd.jupyter.widget-view+json": {
       "model_id": "7e0e4bb8ca19493a9e02386359056a84",
       "version_major": 2,
       "version_minor": 0
      },
      "text/plain": [
       "HBox(children=(HTML(value=''), FloatProgress(value=0.0, max=50.0), HTML(value='')))"
      ]
     },
     "metadata": {},
     "output_type": "display_data"
    },
    {
     "name": "stdout",
     "output_type": "stream",
     "text": [
      "\n"
     ]
    },
    {
     "name": "stderr",
     "output_type": "stream",
     "text": [
      "WARNING:implicit:This method is deprecated. Please use the AlternatingLeastSquares class instead\n"
     ]
    },
    {
     "name": "stdout",
     "output_type": "stream",
     "text": [
      "Factor=20 - Alfa= 35 - Regularizacion=0.2 - iteracion = 50 - Evaluacion = (0.871, 0.814)\n",
      "2020-11-15 16:00:50.175113\n",
      "2020-11-15 16:00:50.175307\n"
     ]
    },
    {
     "data": {
      "application/vnd.jupyter.widget-view+json": {
       "model_id": "4d5d02faf3b84259bb0b9a90b00e5282",
       "version_major": 2,
       "version_minor": 0
      },
      "text/plain": [
       "HBox(children=(HTML(value=''), FloatProgress(value=0.0, max=50.0), HTML(value='')))"
      ]
     },
     "metadata": {},
     "output_type": "display_data"
    },
    {
     "name": "stdout",
     "output_type": "stream",
     "text": [
      "\n"
     ]
    },
    {
     "name": "stderr",
     "output_type": "stream",
     "text": [
      "WARNING:implicit:This method is deprecated. Please use the AlternatingLeastSquares class instead\n"
     ]
    },
    {
     "name": "stdout",
     "output_type": "stream",
     "text": [
      "Factor=20 - Alfa= 35 - Regularizacion=0.2 - iteracion = 100 - Evaluacion = (0.871, 0.814)\n",
      "2020-11-15 16:01:07.507935\n",
      "2020-11-15 16:01:07.508167\n"
     ]
    },
    {
     "data": {
      "application/vnd.jupyter.widget-view+json": {
       "model_id": "9f744ede33e34c80813f88bac60e7778",
       "version_major": 2,
       "version_minor": 0
      },
      "text/plain": [
       "HBox(children=(HTML(value=''), FloatProgress(value=0.0, max=50.0), HTML(value='')))"
      ]
     },
     "metadata": {},
     "output_type": "display_data"
    },
    {
     "name": "stdout",
     "output_type": "stream",
     "text": [
      "\n"
     ]
    },
    {
     "name": "stderr",
     "output_type": "stream",
     "text": [
      "WARNING:implicit:This method is deprecated. Please use the AlternatingLeastSquares class instead\n"
     ]
    },
    {
     "name": "stdout",
     "output_type": "stream",
     "text": [
      "Factor=20 - Alfa= 35 - Regularizacion=0.2 - iteracion = 200 - Evaluacion = (0.87, 0.814)\n",
      "2020-11-15 16:01:24.533468\n",
      "2020-11-15 16:01:24.533572\n"
     ]
    },
    {
     "data": {
      "application/vnd.jupyter.widget-view+json": {
       "model_id": "d638d179f3c54946ae40a26a052447c6",
       "version_major": 2,
       "version_minor": 0
      },
      "text/plain": [
       "HBox(children=(HTML(value=''), FloatProgress(value=0.0, max=50.0), HTML(value='')))"
      ]
     },
     "metadata": {},
     "output_type": "display_data"
    },
    {
     "name": "stdout",
     "output_type": "stream",
     "text": [
      "\n"
     ]
    },
    {
     "name": "stderr",
     "output_type": "stream",
     "text": [
      "WARNING:implicit:This method is deprecated. Please use the AlternatingLeastSquares class instead\n"
     ]
    },
    {
     "name": "stdout",
     "output_type": "stream",
     "text": [
      "Factor=20 - Alfa= 35 - Regularizacion=0.4 - iteracion = 10 - Evaluacion = (0.871, 0.814)\n",
      "2020-11-15 16:01:41.116973\n",
      "2020-11-15 16:01:41.117075\n"
     ]
    },
    {
     "data": {
      "application/vnd.jupyter.widget-view+json": {
       "model_id": "51b161834b694100ad4bfb31f5b24c33",
       "version_major": 2,
       "version_minor": 0
      },
      "text/plain": [
       "HBox(children=(HTML(value=''), FloatProgress(value=0.0, max=50.0), HTML(value='')))"
      ]
     },
     "metadata": {},
     "output_type": "display_data"
    },
    {
     "name": "stdout",
     "output_type": "stream",
     "text": [
      "\n"
     ]
    },
    {
     "name": "stderr",
     "output_type": "stream",
     "text": [
      "WARNING:implicit:This method is deprecated. Please use the AlternatingLeastSquares class instead\n"
     ]
    },
    {
     "name": "stdout",
     "output_type": "stream",
     "text": [
      "Factor=20 - Alfa= 35 - Regularizacion=0.4 - iteracion = 25 - Evaluacion = (0.871, 0.814)\n",
      "2020-11-15 16:01:58.242515\n",
      "2020-11-15 16:01:58.242619\n"
     ]
    },
    {
     "data": {
      "application/vnd.jupyter.widget-view+json": {
       "model_id": "4e687975b9d041a3b84152e47d664383",
       "version_major": 2,
       "version_minor": 0
      },
      "text/plain": [
       "HBox(children=(HTML(value=''), FloatProgress(value=0.0, max=50.0), HTML(value='')))"
      ]
     },
     "metadata": {},
     "output_type": "display_data"
    },
    {
     "name": "stdout",
     "output_type": "stream",
     "text": [
      "\n"
     ]
    },
    {
     "name": "stderr",
     "output_type": "stream",
     "text": [
      "WARNING:implicit:This method is deprecated. Please use the AlternatingLeastSquares class instead\n"
     ]
    },
    {
     "name": "stdout",
     "output_type": "stream",
     "text": [
      "Factor=20 - Alfa= 35 - Regularizacion=0.4 - iteracion = 50 - Evaluacion = (0.871, 0.814)\n",
      "2020-11-15 16:02:14.981652\n",
      "2020-11-15 16:02:14.981755\n"
     ]
    },
    {
     "data": {
      "application/vnd.jupyter.widget-view+json": {
       "model_id": "fcea1fd99ce74d51bc4d795030c9ff28",
       "version_major": 2,
       "version_minor": 0
      },
      "text/plain": [
       "HBox(children=(HTML(value=''), FloatProgress(value=0.0, max=50.0), HTML(value='')))"
      ]
     },
     "metadata": {},
     "output_type": "display_data"
    },
    {
     "name": "stdout",
     "output_type": "stream",
     "text": [
      "\n"
     ]
    },
    {
     "name": "stderr",
     "output_type": "stream",
     "text": [
      "WARNING:implicit:This method is deprecated. Please use the AlternatingLeastSquares class instead\n"
     ]
    },
    {
     "name": "stdout",
     "output_type": "stream",
     "text": [
      "Factor=20 - Alfa= 35 - Regularizacion=0.4 - iteracion = 100 - Evaluacion = (0.87, 0.814)\n",
      "2020-11-15 16:02:31.899197\n",
      "2020-11-15 16:02:31.899297\n"
     ]
    },
    {
     "data": {
      "application/vnd.jupyter.widget-view+json": {
       "model_id": "c308985fde194a25af4b25af180a2e30",
       "version_major": 2,
       "version_minor": 0
      },
      "text/plain": [
       "HBox(children=(HTML(value=''), FloatProgress(value=0.0, max=50.0), HTML(value='')))"
      ]
     },
     "metadata": {},
     "output_type": "display_data"
    },
    {
     "name": "stdout",
     "output_type": "stream",
     "text": [
      "\n"
     ]
    },
    {
     "name": "stderr",
     "output_type": "stream",
     "text": [
      "WARNING:implicit:This method is deprecated. Please use the AlternatingLeastSquares class instead\n"
     ]
    },
    {
     "name": "stdout",
     "output_type": "stream",
     "text": [
      "Factor=20 - Alfa= 35 - Regularizacion=0.4 - iteracion = 200 - Evaluacion = (0.87, 0.814)\n",
      "2020-11-15 16:02:48.899584\n",
      "2020-11-15 16:02:48.899790\n"
     ]
    },
    {
     "data": {
      "application/vnd.jupyter.widget-view+json": {
       "model_id": "cc588c21839244318d8c2798df625a80",
       "version_major": 2,
       "version_minor": 0
      },
      "text/plain": [
       "HBox(children=(HTML(value=''), FloatProgress(value=0.0, max=50.0), HTML(value='')))"
      ]
     },
     "metadata": {},
     "output_type": "display_data"
    },
    {
     "name": "stdout",
     "output_type": "stream",
     "text": [
      "\n"
     ]
    },
    {
     "name": "stderr",
     "output_type": "stream",
     "text": [
      "WARNING:implicit:This method is deprecated. Please use the AlternatingLeastSquares class instead\n"
     ]
    },
    {
     "name": "stdout",
     "output_type": "stream",
     "text": [
      "Factor=30 - Alfa= 5 - Regularizacion=0.025 - iteracion = 10 - Evaluacion = (0.871, 0.814)\n",
      "2020-11-15 16:03:05.959419\n",
      "2020-11-15 16:03:05.959547\n"
     ]
    },
    {
     "data": {
      "application/vnd.jupyter.widget-view+json": {
       "model_id": "fd7cfda49eee44dc919abed3c88b503e",
       "version_major": 2,
       "version_minor": 0
      },
      "text/plain": [
       "HBox(children=(HTML(value=''), FloatProgress(value=0.0, max=50.0), HTML(value='')))"
      ]
     },
     "metadata": {},
     "output_type": "display_data"
    },
    {
     "name": "stdout",
     "output_type": "stream",
     "text": [
      "\n"
     ]
    },
    {
     "name": "stderr",
     "output_type": "stream",
     "text": [
      "WARNING:implicit:This method is deprecated. Please use the AlternatingLeastSquares class instead\n"
     ]
    },
    {
     "name": "stdout",
     "output_type": "stream",
     "text": [
      "Factor=30 - Alfa= 5 - Regularizacion=0.025 - iteracion = 25 - Evaluacion = (0.872, 0.814)\n",
      "2020-11-15 16:03:22.764288\n",
      "2020-11-15 16:03:22.764390\n"
     ]
    },
    {
     "data": {
      "application/vnd.jupyter.widget-view+json": {
       "model_id": "e8c9c876c3c94d95a978c01bb974021a",
       "version_major": 2,
       "version_minor": 0
      },
      "text/plain": [
       "HBox(children=(HTML(value=''), FloatProgress(value=0.0, max=50.0), HTML(value='')))"
      ]
     },
     "metadata": {},
     "output_type": "display_data"
    },
    {
     "name": "stdout",
     "output_type": "stream",
     "text": [
      "\n"
     ]
    },
    {
     "name": "stderr",
     "output_type": "stream",
     "text": [
      "WARNING:implicit:This method is deprecated. Please use the AlternatingLeastSquares class instead\n"
     ]
    },
    {
     "name": "stdout",
     "output_type": "stream",
     "text": [
      "Factor=30 - Alfa= 5 - Regularizacion=0.025 - iteracion = 50 - Evaluacion = (0.87, 0.814)\n",
      "2020-11-15 16:03:39.473173\n",
      "2020-11-15 16:03:39.473280\n"
     ]
    },
    {
     "data": {
      "application/vnd.jupyter.widget-view+json": {
       "model_id": "b39c01b3b8c44f8282e6984247fb1043",
       "version_major": 2,
       "version_minor": 0
      },
      "text/plain": [
       "HBox(children=(HTML(value=''), FloatProgress(value=0.0, max=50.0), HTML(value='')))"
      ]
     },
     "metadata": {},
     "output_type": "display_data"
    },
    {
     "name": "stdout",
     "output_type": "stream",
     "text": [
      "\n"
     ]
    },
    {
     "name": "stderr",
     "output_type": "stream",
     "text": [
      "WARNING:implicit:This method is deprecated. Please use the AlternatingLeastSquares class instead\n"
     ]
    },
    {
     "name": "stdout",
     "output_type": "stream",
     "text": [
      "Factor=30 - Alfa= 5 - Regularizacion=0.025 - iteracion = 100 - Evaluacion = (0.87, 0.814)\n",
      "2020-11-15 16:03:56.016176\n",
      "2020-11-15 16:03:56.016281\n"
     ]
    },
    {
     "data": {
      "application/vnd.jupyter.widget-view+json": {
       "model_id": "75343e677a9e40539fa561b705e28f77",
       "version_major": 2,
       "version_minor": 0
      },
      "text/plain": [
       "HBox(children=(HTML(value=''), FloatProgress(value=0.0, max=50.0), HTML(value='')))"
      ]
     },
     "metadata": {},
     "output_type": "display_data"
    },
    {
     "name": "stdout",
     "output_type": "stream",
     "text": [
      "\n"
     ]
    },
    {
     "name": "stderr",
     "output_type": "stream",
     "text": [
      "WARNING:implicit:This method is deprecated. Please use the AlternatingLeastSquares class instead\n"
     ]
    },
    {
     "name": "stdout",
     "output_type": "stream",
     "text": [
      "Factor=30 - Alfa= 5 - Regularizacion=0.025 - iteracion = 200 - Evaluacion = (0.87, 0.814)\n",
      "2020-11-15 16:04:12.691417\n",
      "2020-11-15 16:04:12.691523\n"
     ]
    },
    {
     "data": {
      "application/vnd.jupyter.widget-view+json": {
       "model_id": "7af4b7c794934ef1a7b4f72d954b1516",
       "version_major": 2,
       "version_minor": 0
      },
      "text/plain": [
       "HBox(children=(HTML(value=''), FloatProgress(value=0.0, max=50.0), HTML(value='')))"
      ]
     },
     "metadata": {},
     "output_type": "display_data"
    },
    {
     "name": "stdout",
     "output_type": "stream",
     "text": [
      "\n"
     ]
    },
    {
     "name": "stderr",
     "output_type": "stream",
     "text": [
      "WARNING:implicit:This method is deprecated. Please use the AlternatingLeastSquares class instead\n"
     ]
    },
    {
     "name": "stdout",
     "output_type": "stream",
     "text": [
      "Factor=30 - Alfa= 5 - Regularizacion=0.05 - iteracion = 10 - Evaluacion = (0.871, 0.814)\n",
      "2020-11-15 16:04:29.453809\n",
      "2020-11-15 16:04:29.453914\n"
     ]
    },
    {
     "data": {
      "application/vnd.jupyter.widget-view+json": {
       "model_id": "e83b8c9f244f40fba37997ff36922570",
       "version_major": 2,
       "version_minor": 0
      },
      "text/plain": [
       "HBox(children=(HTML(value=''), FloatProgress(value=0.0, max=50.0), HTML(value='')))"
      ]
     },
     "metadata": {},
     "output_type": "display_data"
    },
    {
     "name": "stdout",
     "output_type": "stream",
     "text": [
      "\n"
     ]
    },
    {
     "name": "stderr",
     "output_type": "stream",
     "text": [
      "WARNING:implicit:This method is deprecated. Please use the AlternatingLeastSquares class instead\n"
     ]
    },
    {
     "name": "stdout",
     "output_type": "stream",
     "text": [
      "Factor=30 - Alfa= 5 - Regularizacion=0.05 - iteracion = 25 - Evaluacion = (0.871, 0.814)\n",
      "2020-11-15 16:04:46.217855\n",
      "2020-11-15 16:04:46.217967\n"
     ]
    },
    {
     "data": {
      "application/vnd.jupyter.widget-view+json": {
       "model_id": "175fbea7bfc34d3e8ffc5ae0cf57166d",
       "version_major": 2,
       "version_minor": 0
      },
      "text/plain": [
       "HBox(children=(HTML(value=''), FloatProgress(value=0.0, max=50.0), HTML(value='')))"
      ]
     },
     "metadata": {},
     "output_type": "display_data"
    },
    {
     "name": "stdout",
     "output_type": "stream",
     "text": [
      "\n"
     ]
    },
    {
     "name": "stderr",
     "output_type": "stream",
     "text": [
      "WARNING:implicit:This method is deprecated. Please use the AlternatingLeastSquares class instead\n"
     ]
    },
    {
     "name": "stdout",
     "output_type": "stream",
     "text": [
      "Factor=30 - Alfa= 5 - Regularizacion=0.05 - iteracion = 50 - Evaluacion = (0.871, 0.814)\n",
      "2020-11-15 16:05:02.873391\n",
      "2020-11-15 16:05:02.873534\n"
     ]
    },
    {
     "data": {
      "application/vnd.jupyter.widget-view+json": {
       "model_id": "3891311c9acd463d84d8608e73e770bf",
       "version_major": 2,
       "version_minor": 0
      },
      "text/plain": [
       "HBox(children=(HTML(value=''), FloatProgress(value=0.0, max=50.0), HTML(value='')))"
      ]
     },
     "metadata": {},
     "output_type": "display_data"
    },
    {
     "name": "stdout",
     "output_type": "stream",
     "text": [
      "\n"
     ]
    },
    {
     "name": "stderr",
     "output_type": "stream",
     "text": [
      "WARNING:implicit:This method is deprecated. Please use the AlternatingLeastSquares class instead\n"
     ]
    },
    {
     "name": "stdout",
     "output_type": "stream",
     "text": [
      "Factor=30 - Alfa= 5 - Regularizacion=0.05 - iteracion = 100 - Evaluacion = (0.87, 0.814)\n",
      "2020-11-15 16:05:19.636597\n",
      "2020-11-15 16:05:19.636743\n"
     ]
    },
    {
     "data": {
      "application/vnd.jupyter.widget-view+json": {
       "model_id": "1a970443816f4ccc9a1828f9c5d198c1",
       "version_major": 2,
       "version_minor": 0
      },
      "text/plain": [
       "HBox(children=(HTML(value=''), FloatProgress(value=0.0, max=50.0), HTML(value='')))"
      ]
     },
     "metadata": {},
     "output_type": "display_data"
    },
    {
     "name": "stdout",
     "output_type": "stream",
     "text": [
      "\n"
     ]
    },
    {
     "name": "stderr",
     "output_type": "stream",
     "text": [
      "WARNING:implicit:This method is deprecated. Please use the AlternatingLeastSquares class instead\n"
     ]
    },
    {
     "name": "stdout",
     "output_type": "stream",
     "text": [
      "Factor=30 - Alfa= 5 - Regularizacion=0.05 - iteracion = 200 - Evaluacion = (0.871, 0.814)\n",
      "2020-11-15 16:05:36.159137\n",
      "2020-11-15 16:05:36.159240\n"
     ]
    },
    {
     "data": {
      "application/vnd.jupyter.widget-view+json": {
       "model_id": "4304827184c44fec9560fe563cc7eb2b",
       "version_major": 2,
       "version_minor": 0
      },
      "text/plain": [
       "HBox(children=(HTML(value=''), FloatProgress(value=0.0, max=50.0), HTML(value='')))"
      ]
     },
     "metadata": {},
     "output_type": "display_data"
    },
    {
     "name": "stdout",
     "output_type": "stream",
     "text": [
      "\n"
     ]
    },
    {
     "name": "stderr",
     "output_type": "stream",
     "text": [
      "WARNING:implicit:This method is deprecated. Please use the AlternatingLeastSquares class instead\n"
     ]
    },
    {
     "name": "stdout",
     "output_type": "stream",
     "text": [
      "Factor=30 - Alfa= 5 - Regularizacion=0.1 - iteracion = 10 - Evaluacion = (0.872, 0.814)\n",
      "2020-11-15 16:05:53.071702\n",
      "2020-11-15 16:05:53.071805\n"
     ]
    },
    {
     "data": {
      "application/vnd.jupyter.widget-view+json": {
       "model_id": "a29e29477341481eb51ab7529a86766a",
       "version_major": 2,
       "version_minor": 0
      },
      "text/plain": [
       "HBox(children=(HTML(value=''), FloatProgress(value=0.0, max=50.0), HTML(value='')))"
      ]
     },
     "metadata": {},
     "output_type": "display_data"
    },
    {
     "name": "stdout",
     "output_type": "stream",
     "text": [
      "\n"
     ]
    },
    {
     "name": "stderr",
     "output_type": "stream",
     "text": [
      "WARNING:implicit:This method is deprecated. Please use the AlternatingLeastSquares class instead\n"
     ]
    },
    {
     "name": "stdout",
     "output_type": "stream",
     "text": [
      "Factor=30 - Alfa= 5 - Regularizacion=0.1 - iteracion = 25 - Evaluacion = (0.87, 0.814)\n",
      "2020-11-15 16:06:10.015069\n",
      "2020-11-15 16:06:10.015172\n"
     ]
    },
    {
     "data": {
      "application/vnd.jupyter.widget-view+json": {
       "model_id": "0a4597552bce485f88137ac3606f4403",
       "version_major": 2,
       "version_minor": 0
      },
      "text/plain": [
       "HBox(children=(HTML(value=''), FloatProgress(value=0.0, max=50.0), HTML(value='')))"
      ]
     },
     "metadata": {},
     "output_type": "display_data"
    },
    {
     "name": "stdout",
     "output_type": "stream",
     "text": [
      "\n"
     ]
    },
    {
     "name": "stderr",
     "output_type": "stream",
     "text": [
      "WARNING:implicit:This method is deprecated. Please use the AlternatingLeastSquares class instead\n"
     ]
    },
    {
     "name": "stdout",
     "output_type": "stream",
     "text": [
      "Factor=30 - Alfa= 5 - Regularizacion=0.1 - iteracion = 50 - Evaluacion = (0.872, 0.814)\n",
      "2020-11-15 16:06:26.673924\n",
      "2020-11-15 16:06:26.674025\n"
     ]
    },
    {
     "data": {
      "application/vnd.jupyter.widget-view+json": {
       "model_id": "fa82d2ee1e00412aa039440054d9729d",
       "version_major": 2,
       "version_minor": 0
      },
      "text/plain": [
       "HBox(children=(HTML(value=''), FloatProgress(value=0.0, max=50.0), HTML(value='')))"
      ]
     },
     "metadata": {},
     "output_type": "display_data"
    },
    {
     "name": "stdout",
     "output_type": "stream",
     "text": [
      "\n"
     ]
    },
    {
     "name": "stderr",
     "output_type": "stream",
     "text": [
      "WARNING:implicit:This method is deprecated. Please use the AlternatingLeastSquares class instead\n"
     ]
    },
    {
     "name": "stdout",
     "output_type": "stream",
     "text": [
      "Factor=30 - Alfa= 5 - Regularizacion=0.1 - iteracion = 100 - Evaluacion = (0.871, 0.814)\n",
      "2020-11-15 16:06:43.290380\n",
      "2020-11-15 16:06:43.290535\n"
     ]
    },
    {
     "data": {
      "application/vnd.jupyter.widget-view+json": {
       "model_id": "d5111c28f3444f7aacf321eb861e4ced",
       "version_major": 2,
       "version_minor": 0
      },
      "text/plain": [
       "HBox(children=(HTML(value=''), FloatProgress(value=0.0, max=50.0), HTML(value='')))"
      ]
     },
     "metadata": {},
     "output_type": "display_data"
    },
    {
     "name": "stdout",
     "output_type": "stream",
     "text": [
      "\n"
     ]
    },
    {
     "name": "stderr",
     "output_type": "stream",
     "text": [
      "WARNING:implicit:This method is deprecated. Please use the AlternatingLeastSquares class instead\n"
     ]
    },
    {
     "name": "stdout",
     "output_type": "stream",
     "text": [
      "Factor=30 - Alfa= 5 - Regularizacion=0.1 - iteracion = 200 - Evaluacion = (0.87, 0.814)\n",
      "2020-11-15 16:06:59.845187\n",
      "2020-11-15 16:06:59.845296\n"
     ]
    },
    {
     "data": {
      "application/vnd.jupyter.widget-view+json": {
       "model_id": "19de39165c5244c8b830903702d4f341",
       "version_major": 2,
       "version_minor": 0
      },
      "text/plain": [
       "HBox(children=(HTML(value=''), FloatProgress(value=0.0, max=50.0), HTML(value='')))"
      ]
     },
     "metadata": {},
     "output_type": "display_data"
    },
    {
     "name": "stdout",
     "output_type": "stream",
     "text": [
      "\n"
     ]
    },
    {
     "name": "stderr",
     "output_type": "stream",
     "text": [
      "WARNING:implicit:This method is deprecated. Please use the AlternatingLeastSquares class instead\n"
     ]
    },
    {
     "name": "stdout",
     "output_type": "stream",
     "text": [
      "Factor=30 - Alfa= 5 - Regularizacion=0.2 - iteracion = 10 - Evaluacion = (0.871, 0.814)\n",
      "2020-11-15 16:07:16.897704\n",
      "2020-11-15 16:07:16.897807\n"
     ]
    },
    {
     "data": {
      "application/vnd.jupyter.widget-view+json": {
       "model_id": "9bf1ed21dbd24d17b8a798ee731ca871",
       "version_major": 2,
       "version_minor": 0
      },
      "text/plain": [
       "HBox(children=(HTML(value=''), FloatProgress(value=0.0, max=50.0), HTML(value='')))"
      ]
     },
     "metadata": {},
     "output_type": "display_data"
    },
    {
     "name": "stdout",
     "output_type": "stream",
     "text": [
      "\n"
     ]
    },
    {
     "name": "stderr",
     "output_type": "stream",
     "text": [
      "WARNING:implicit:This method is deprecated. Please use the AlternatingLeastSquares class instead\n"
     ]
    },
    {
     "name": "stdout",
     "output_type": "stream",
     "text": [
      "Factor=30 - Alfa= 5 - Regularizacion=0.2 - iteracion = 25 - Evaluacion = (0.871, 0.814)\n",
      "2020-11-15 16:07:33.605696\n",
      "2020-11-15 16:07:33.605789\n"
     ]
    },
    {
     "data": {
      "application/vnd.jupyter.widget-view+json": {
       "model_id": "e9d966dd77dc49f4adcafd0efc59abb5",
       "version_major": 2,
       "version_minor": 0
      },
      "text/plain": [
       "HBox(children=(HTML(value=''), FloatProgress(value=0.0, max=50.0), HTML(value='')))"
      ]
     },
     "metadata": {},
     "output_type": "display_data"
    },
    {
     "name": "stdout",
     "output_type": "stream",
     "text": [
      "\n"
     ]
    },
    {
     "name": "stderr",
     "output_type": "stream",
     "text": [
      "WARNING:implicit:This method is deprecated. Please use the AlternatingLeastSquares class instead\n"
     ]
    },
    {
     "name": "stdout",
     "output_type": "stream",
     "text": [
      "Factor=30 - Alfa= 5 - Regularizacion=0.2 - iteracion = 50 - Evaluacion = (0.871, 0.814)\n",
      "2020-11-15 16:07:50.108655\n",
      "2020-11-15 16:07:50.108758\n"
     ]
    },
    {
     "data": {
      "application/vnd.jupyter.widget-view+json": {
       "model_id": "2810abe632d44cb691bb31f0c879544d",
       "version_major": 2,
       "version_minor": 0
      },
      "text/plain": [
       "HBox(children=(HTML(value=''), FloatProgress(value=0.0, max=50.0), HTML(value='')))"
      ]
     },
     "metadata": {},
     "output_type": "display_data"
    },
    {
     "name": "stdout",
     "output_type": "stream",
     "text": [
      "\n"
     ]
    },
    {
     "name": "stderr",
     "output_type": "stream",
     "text": [
      "WARNING:implicit:This method is deprecated. Please use the AlternatingLeastSquares class instead\n"
     ]
    },
    {
     "name": "stdout",
     "output_type": "stream",
     "text": [
      "Factor=30 - Alfa= 5 - Regularizacion=0.2 - iteracion = 100 - Evaluacion = (0.871, 0.814)\n",
      "2020-11-15 16:08:06.899693\n",
      "2020-11-15 16:08:06.899782\n"
     ]
    },
    {
     "data": {
      "application/vnd.jupyter.widget-view+json": {
       "model_id": "dadaa617e09d4ae898eca15794d0c1c8",
       "version_major": 2,
       "version_minor": 0
      },
      "text/plain": [
       "HBox(children=(HTML(value=''), FloatProgress(value=0.0, max=50.0), HTML(value='')))"
      ]
     },
     "metadata": {},
     "output_type": "display_data"
    },
    {
     "name": "stdout",
     "output_type": "stream",
     "text": [
      "\n"
     ]
    },
    {
     "name": "stderr",
     "output_type": "stream",
     "text": [
      "WARNING:implicit:This method is deprecated. Please use the AlternatingLeastSquares class instead\n"
     ]
    },
    {
     "name": "stdout",
     "output_type": "stream",
     "text": [
      "Factor=30 - Alfa= 5 - Regularizacion=0.2 - iteracion = 200 - Evaluacion = (0.872, 0.814)\n",
      "2020-11-15 16:08:23.459060\n",
      "2020-11-15 16:08:23.459164\n"
     ]
    },
    {
     "data": {
      "application/vnd.jupyter.widget-view+json": {
       "model_id": "11d557f1026242e390d082999d80472e",
       "version_major": 2,
       "version_minor": 0
      },
      "text/plain": [
       "HBox(children=(HTML(value=''), FloatProgress(value=0.0, max=50.0), HTML(value='')))"
      ]
     },
     "metadata": {},
     "output_type": "display_data"
    },
    {
     "name": "stdout",
     "output_type": "stream",
     "text": [
      "\n"
     ]
    },
    {
     "name": "stderr",
     "output_type": "stream",
     "text": [
      "WARNING:implicit:This method is deprecated. Please use the AlternatingLeastSquares class instead\n"
     ]
    },
    {
     "name": "stdout",
     "output_type": "stream",
     "text": [
      "Factor=30 - Alfa= 5 - Regularizacion=0.4 - iteracion = 10 - Evaluacion = (0.87, 0.814)\n",
      "2020-11-15 16:08:40.188143\n",
      "2020-11-15 16:08:40.188243\n"
     ]
    },
    {
     "data": {
      "application/vnd.jupyter.widget-view+json": {
       "model_id": "fcdcfcf5f94d47b3bcc0b8af600701fc",
       "version_major": 2,
       "version_minor": 0
      },
      "text/plain": [
       "HBox(children=(HTML(value=''), FloatProgress(value=0.0, max=50.0), HTML(value='')))"
      ]
     },
     "metadata": {},
     "output_type": "display_data"
    },
    {
     "name": "stdout",
     "output_type": "stream",
     "text": [
      "\n"
     ]
    },
    {
     "name": "stderr",
     "output_type": "stream",
     "text": [
      "WARNING:implicit:This method is deprecated. Please use the AlternatingLeastSquares class instead\n"
     ]
    },
    {
     "name": "stdout",
     "output_type": "stream",
     "text": [
      "Factor=30 - Alfa= 5 - Regularizacion=0.4 - iteracion = 25 - Evaluacion = (0.87, 0.814)\n",
      "2020-11-15 16:08:57.285881\n",
      "2020-11-15 16:08:57.285986\n"
     ]
    },
    {
     "data": {
      "application/vnd.jupyter.widget-view+json": {
       "model_id": "32c481c07e07415f8228649ad1f3dc5a",
       "version_major": 2,
       "version_minor": 0
      },
      "text/plain": [
       "HBox(children=(HTML(value=''), FloatProgress(value=0.0, max=50.0), HTML(value='')))"
      ]
     },
     "metadata": {},
     "output_type": "display_data"
    },
    {
     "name": "stdout",
     "output_type": "stream",
     "text": [
      "\n"
     ]
    },
    {
     "name": "stderr",
     "output_type": "stream",
     "text": [
      "WARNING:implicit:This method is deprecated. Please use the AlternatingLeastSquares class instead\n"
     ]
    },
    {
     "name": "stdout",
     "output_type": "stream",
     "text": [
      "Factor=30 - Alfa= 5 - Regularizacion=0.4 - iteracion = 50 - Evaluacion = (0.87, 0.814)\n",
      "2020-11-15 16:09:13.834765\n",
      "2020-11-15 16:09:13.834870\n"
     ]
    },
    {
     "data": {
      "application/vnd.jupyter.widget-view+json": {
       "model_id": "1db0deb492b8419a917fc0118b16792c",
       "version_major": 2,
       "version_minor": 0
      },
      "text/plain": [
       "HBox(children=(HTML(value=''), FloatProgress(value=0.0, max=50.0), HTML(value='')))"
      ]
     },
     "metadata": {},
     "output_type": "display_data"
    },
    {
     "name": "stdout",
     "output_type": "stream",
     "text": [
      "\n"
     ]
    },
    {
     "name": "stderr",
     "output_type": "stream",
     "text": [
      "WARNING:implicit:This method is deprecated. Please use the AlternatingLeastSquares class instead\n"
     ]
    },
    {
     "name": "stdout",
     "output_type": "stream",
     "text": [
      "Factor=30 - Alfa= 5 - Regularizacion=0.4 - iteracion = 100 - Evaluacion = (0.869, 0.814)\n",
      "2020-11-15 16:09:30.324285\n",
      "2020-11-15 16:09:30.324389\n"
     ]
    },
    {
     "data": {
      "application/vnd.jupyter.widget-view+json": {
       "model_id": "2e6eea979ad9401dbef27ab52e8a24c8",
       "version_major": 2,
       "version_minor": 0
      },
      "text/plain": [
       "HBox(children=(HTML(value=''), FloatProgress(value=0.0, max=50.0), HTML(value='')))"
      ]
     },
     "metadata": {},
     "output_type": "display_data"
    },
    {
     "name": "stdout",
     "output_type": "stream",
     "text": [
      "\n"
     ]
    },
    {
     "name": "stderr",
     "output_type": "stream",
     "text": [
      "WARNING:implicit:This method is deprecated. Please use the AlternatingLeastSquares class instead\n"
     ]
    },
    {
     "name": "stdout",
     "output_type": "stream",
     "text": [
      "Factor=30 - Alfa= 5 - Regularizacion=0.4 - iteracion = 200 - Evaluacion = (0.871, 0.814)\n",
      "2020-11-15 16:09:47.070456\n",
      "2020-11-15 16:09:47.070556\n"
     ]
    },
    {
     "data": {
      "application/vnd.jupyter.widget-view+json": {
       "model_id": "1d2e3c3c04434879af2e64b908fbbb74",
       "version_major": 2,
       "version_minor": 0
      },
      "text/plain": [
       "HBox(children=(HTML(value=''), FloatProgress(value=0.0, max=50.0), HTML(value='')))"
      ]
     },
     "metadata": {},
     "output_type": "display_data"
    },
    {
     "name": "stdout",
     "output_type": "stream",
     "text": [
      "\n"
     ]
    },
    {
     "name": "stderr",
     "output_type": "stream",
     "text": [
      "WARNING:implicit:This method is deprecated. Please use the AlternatingLeastSquares class instead\n"
     ]
    },
    {
     "name": "stdout",
     "output_type": "stream",
     "text": [
      "Factor=30 - Alfa= 10 - Regularizacion=0.025 - iteracion = 10 - Evaluacion = (0.87, 0.814)\n",
      "2020-11-15 16:10:03.836118\n",
      "2020-11-15 16:10:03.836221\n"
     ]
    },
    {
     "data": {
      "application/vnd.jupyter.widget-view+json": {
       "model_id": "208c4d7cec644811804c80185e779628",
       "version_major": 2,
       "version_minor": 0
      },
      "text/plain": [
       "HBox(children=(HTML(value=''), FloatProgress(value=0.0, max=50.0), HTML(value='')))"
      ]
     },
     "metadata": {},
     "output_type": "display_data"
    },
    {
     "name": "stdout",
     "output_type": "stream",
     "text": [
      "\n"
     ]
    },
    {
     "name": "stderr",
     "output_type": "stream",
     "text": [
      "WARNING:implicit:This method is deprecated. Please use the AlternatingLeastSquares class instead\n"
     ]
    },
    {
     "name": "stdout",
     "output_type": "stream",
     "text": [
      "Factor=30 - Alfa= 10 - Regularizacion=0.025 - iteracion = 25 - Evaluacion = (0.87, 0.814)\n",
      "2020-11-15 16:10:20.507012\n",
      "2020-11-15 16:10:20.507116\n"
     ]
    },
    {
     "data": {
      "application/vnd.jupyter.widget-view+json": {
       "model_id": "0e44f4cf4c8b42f0b69d9b8e0c1e1229",
       "version_major": 2,
       "version_minor": 0
      },
      "text/plain": [
       "HBox(children=(HTML(value=''), FloatProgress(value=0.0, max=50.0), HTML(value='')))"
      ]
     },
     "metadata": {},
     "output_type": "display_data"
    },
    {
     "name": "stdout",
     "output_type": "stream",
     "text": [
      "\n"
     ]
    },
    {
     "name": "stderr",
     "output_type": "stream",
     "text": [
      "WARNING:implicit:This method is deprecated. Please use the AlternatingLeastSquares class instead\n"
     ]
    },
    {
     "name": "stdout",
     "output_type": "stream",
     "text": [
      "Factor=30 - Alfa= 10 - Regularizacion=0.025 - iteracion = 50 - Evaluacion = (0.87, 0.814)\n",
      "2020-11-15 16:10:36.977206\n",
      "2020-11-15 16:10:36.977313\n"
     ]
    },
    {
     "data": {
      "application/vnd.jupyter.widget-view+json": {
       "model_id": "c2fe48647a274af386b07ac363ab903d",
       "version_major": 2,
       "version_minor": 0
      },
      "text/plain": [
       "HBox(children=(HTML(value=''), FloatProgress(value=0.0, max=50.0), HTML(value='')))"
      ]
     },
     "metadata": {},
     "output_type": "display_data"
    },
    {
     "name": "stdout",
     "output_type": "stream",
     "text": [
      "\n"
     ]
    },
    {
     "name": "stderr",
     "output_type": "stream",
     "text": [
      "WARNING:implicit:This method is deprecated. Please use the AlternatingLeastSquares class instead\n"
     ]
    },
    {
     "name": "stdout",
     "output_type": "stream",
     "text": [
      "Factor=30 - Alfa= 10 - Regularizacion=0.025 - iteracion = 100 - Evaluacion = (0.871, 0.814)\n",
      "2020-11-15 16:10:53.467672\n",
      "2020-11-15 16:10:53.467775\n"
     ]
    },
    {
     "data": {
      "application/vnd.jupyter.widget-view+json": {
       "model_id": "6ed5eeef88314b6eb2ee357324d48800",
       "version_major": 2,
       "version_minor": 0
      },
      "text/plain": [
       "HBox(children=(HTML(value=''), FloatProgress(value=0.0, max=50.0), HTML(value='')))"
      ]
     },
     "metadata": {},
     "output_type": "display_data"
    },
    {
     "name": "stdout",
     "output_type": "stream",
     "text": [
      "\n"
     ]
    },
    {
     "name": "stderr",
     "output_type": "stream",
     "text": [
      "WARNING:implicit:This method is deprecated. Please use the AlternatingLeastSquares class instead\n"
     ]
    },
    {
     "name": "stdout",
     "output_type": "stream",
     "text": [
      "Factor=30 - Alfa= 10 - Regularizacion=0.025 - iteracion = 200 - Evaluacion = (0.87, 0.814)\n",
      "2020-11-15 16:11:10.157892\n",
      "2020-11-15 16:11:10.157996\n"
     ]
    },
    {
     "data": {
      "application/vnd.jupyter.widget-view+json": {
       "model_id": "58e567b810824f9385615a90d572b19f",
       "version_major": 2,
       "version_minor": 0
      },
      "text/plain": [
       "HBox(children=(HTML(value=''), FloatProgress(value=0.0, max=50.0), HTML(value='')))"
      ]
     },
     "metadata": {},
     "output_type": "display_data"
    },
    {
     "name": "stdout",
     "output_type": "stream",
     "text": [
      "\n"
     ]
    },
    {
     "name": "stderr",
     "output_type": "stream",
     "text": [
      "WARNING:implicit:This method is deprecated. Please use the AlternatingLeastSquares class instead\n"
     ]
    },
    {
     "name": "stdout",
     "output_type": "stream",
     "text": [
      "Factor=30 - Alfa= 10 - Regularizacion=0.05 - iteracion = 10 - Evaluacion = (0.872, 0.814)\n",
      "2020-11-15 16:11:26.846443\n",
      "2020-11-15 16:11:26.846548\n"
     ]
    },
    {
     "data": {
      "application/vnd.jupyter.widget-view+json": {
       "model_id": "7c3526c5d75b40718e6a454be98ee42c",
       "version_major": 2,
       "version_minor": 0
      },
      "text/plain": [
       "HBox(children=(HTML(value=''), FloatProgress(value=0.0, max=50.0), HTML(value='')))"
      ]
     },
     "metadata": {},
     "output_type": "display_data"
    },
    {
     "name": "stdout",
     "output_type": "stream",
     "text": [
      "\n"
     ]
    },
    {
     "name": "stderr",
     "output_type": "stream",
     "text": [
      "WARNING:implicit:This method is deprecated. Please use the AlternatingLeastSquares class instead\n"
     ]
    },
    {
     "name": "stdout",
     "output_type": "stream",
     "text": [
      "Factor=30 - Alfa= 10 - Regularizacion=0.05 - iteracion = 25 - Evaluacion = (0.869, 0.814)\n",
      "2020-11-15 16:11:43.400035\n",
      "2020-11-15 16:11:43.400138\n"
     ]
    },
    {
     "data": {
      "application/vnd.jupyter.widget-view+json": {
       "model_id": "dba133d896bd487a960fd6ff848ac103",
       "version_major": 2,
       "version_minor": 0
      },
      "text/plain": [
       "HBox(children=(HTML(value=''), FloatProgress(value=0.0, max=50.0), HTML(value='')))"
      ]
     },
     "metadata": {},
     "output_type": "display_data"
    },
    {
     "name": "stdout",
     "output_type": "stream",
     "text": [
      "\n"
     ]
    },
    {
     "name": "stderr",
     "output_type": "stream",
     "text": [
      "WARNING:implicit:This method is deprecated. Please use the AlternatingLeastSquares class instead\n"
     ]
    },
    {
     "name": "stdout",
     "output_type": "stream",
     "text": [
      "Factor=30 - Alfa= 10 - Regularizacion=0.05 - iteracion = 50 - Evaluacion = (0.871, 0.814)\n",
      "2020-11-15 16:11:59.938696\n",
      "2020-11-15 16:11:59.938801\n"
     ]
    },
    {
     "data": {
      "application/vnd.jupyter.widget-view+json": {
       "model_id": "ba4b19bd9d584416a4f75dd9a8b5df9c",
       "version_major": 2,
       "version_minor": 0
      },
      "text/plain": [
       "HBox(children=(HTML(value=''), FloatProgress(value=0.0, max=50.0), HTML(value='')))"
      ]
     },
     "metadata": {},
     "output_type": "display_data"
    },
    {
     "name": "stdout",
     "output_type": "stream",
     "text": [
      "\n"
     ]
    },
    {
     "name": "stderr",
     "output_type": "stream",
     "text": [
      "WARNING:implicit:This method is deprecated. Please use the AlternatingLeastSquares class instead\n"
     ]
    },
    {
     "name": "stdout",
     "output_type": "stream",
     "text": [
      "Factor=30 - Alfa= 10 - Regularizacion=0.05 - iteracion = 100 - Evaluacion = (0.87, 0.814)\n",
      "2020-11-15 16:12:16.630067\n",
      "2020-11-15 16:12:16.630172\n"
     ]
    },
    {
     "data": {
      "application/vnd.jupyter.widget-view+json": {
       "model_id": "0a6d5b8d46674c2c9b468c728adf9839",
       "version_major": 2,
       "version_minor": 0
      },
      "text/plain": [
       "HBox(children=(HTML(value=''), FloatProgress(value=0.0, max=50.0), HTML(value='')))"
      ]
     },
     "metadata": {},
     "output_type": "display_data"
    },
    {
     "name": "stdout",
     "output_type": "stream",
     "text": [
      "\n"
     ]
    },
    {
     "name": "stderr",
     "output_type": "stream",
     "text": [
      "WARNING:implicit:This method is deprecated. Please use the AlternatingLeastSquares class instead\n"
     ]
    },
    {
     "name": "stdout",
     "output_type": "stream",
     "text": [
      "Factor=30 - Alfa= 10 - Regularizacion=0.05 - iteracion = 200 - Evaluacion = (0.871, 0.814)\n",
      "2020-11-15 16:12:33.284503\n",
      "2020-11-15 16:12:33.284613\n"
     ]
    },
    {
     "data": {
      "application/vnd.jupyter.widget-view+json": {
       "model_id": "7ed74f49997649b384eb2b2130bfacb2",
       "version_major": 2,
       "version_minor": 0
      },
      "text/plain": [
       "HBox(children=(HTML(value=''), FloatProgress(value=0.0, max=50.0), HTML(value='')))"
      ]
     },
     "metadata": {},
     "output_type": "display_data"
    },
    {
     "name": "stdout",
     "output_type": "stream",
     "text": [
      "\n"
     ]
    },
    {
     "name": "stderr",
     "output_type": "stream",
     "text": [
      "WARNING:implicit:This method is deprecated. Please use the AlternatingLeastSquares class instead\n"
     ]
    },
    {
     "name": "stdout",
     "output_type": "stream",
     "text": [
      "Factor=30 - Alfa= 10 - Regularizacion=0.1 - iteracion = 10 - Evaluacion = (0.869, 0.814)\n",
      "2020-11-15 16:12:49.976997\n",
      "2020-11-15 16:12:49.977101\n"
     ]
    },
    {
     "data": {
      "application/vnd.jupyter.widget-view+json": {
       "model_id": "fc8e2c7c61d84b18849608fb529c9e3e",
       "version_major": 2,
       "version_minor": 0
      },
      "text/plain": [
       "HBox(children=(HTML(value=''), FloatProgress(value=0.0, max=50.0), HTML(value='')))"
      ]
     },
     "metadata": {},
     "output_type": "display_data"
    },
    {
     "name": "stdout",
     "output_type": "stream",
     "text": [
      "\n"
     ]
    },
    {
     "name": "stderr",
     "output_type": "stream",
     "text": [
      "WARNING:implicit:This method is deprecated. Please use the AlternatingLeastSquares class instead\n"
     ]
    },
    {
     "name": "stdout",
     "output_type": "stream",
     "text": [
      "Factor=30 - Alfa= 10 - Regularizacion=0.1 - iteracion = 25 - Evaluacion = (0.87, 0.814)\n",
      "2020-11-15 16:13:07.001647\n",
      "2020-11-15 16:13:07.001787\n"
     ]
    },
    {
     "data": {
      "application/vnd.jupyter.widget-view+json": {
       "model_id": "8ff7dfc85d8047f2b2f72e56ba11b05c",
       "version_major": 2,
       "version_minor": 0
      },
      "text/plain": [
       "HBox(children=(HTML(value=''), FloatProgress(value=0.0, max=50.0), HTML(value='')))"
      ]
     },
     "metadata": {},
     "output_type": "display_data"
    },
    {
     "name": "stdout",
     "output_type": "stream",
     "text": [
      "\n"
     ]
    },
    {
     "name": "stderr",
     "output_type": "stream",
     "text": [
      "WARNING:implicit:This method is deprecated. Please use the AlternatingLeastSquares class instead\n"
     ]
    },
    {
     "name": "stdout",
     "output_type": "stream",
     "text": [
      "Factor=30 - Alfa= 10 - Regularizacion=0.1 - iteracion = 50 - Evaluacion = (0.869, 0.814)\n",
      "2020-11-15 16:13:23.874684\n",
      "2020-11-15 16:13:23.875028\n"
     ]
    },
    {
     "data": {
      "application/vnd.jupyter.widget-view+json": {
       "model_id": "683b8f50f0124e128af00316e9717b34",
       "version_major": 2,
       "version_minor": 0
      },
      "text/plain": [
       "HBox(children=(HTML(value=''), FloatProgress(value=0.0, max=50.0), HTML(value='')))"
      ]
     },
     "metadata": {},
     "output_type": "display_data"
    },
    {
     "name": "stdout",
     "output_type": "stream",
     "text": [
      "\n"
     ]
    },
    {
     "name": "stderr",
     "output_type": "stream",
     "text": [
      "WARNING:implicit:This method is deprecated. Please use the AlternatingLeastSquares class instead\n"
     ]
    },
    {
     "name": "stdout",
     "output_type": "stream",
     "text": [
      "Factor=30 - Alfa= 10 - Regularizacion=0.1 - iteracion = 100 - Evaluacion = (0.871, 0.814)\n",
      "2020-11-15 16:13:40.403405\n",
      "2020-11-15 16:13:40.403508\n"
     ]
    },
    {
     "data": {
      "application/vnd.jupyter.widget-view+json": {
       "model_id": "5b715500370544c8a29c325af4c3fd7a",
       "version_major": 2,
       "version_minor": 0
      },
      "text/plain": [
       "HBox(children=(HTML(value=''), FloatProgress(value=0.0, max=50.0), HTML(value='')))"
      ]
     },
     "metadata": {},
     "output_type": "display_data"
    },
    {
     "name": "stdout",
     "output_type": "stream",
     "text": [
      "\n"
     ]
    },
    {
     "name": "stderr",
     "output_type": "stream",
     "text": [
      "WARNING:implicit:This method is deprecated. Please use the AlternatingLeastSquares class instead\n"
     ]
    },
    {
     "name": "stdout",
     "output_type": "stream",
     "text": [
      "Factor=30 - Alfa= 10 - Regularizacion=0.1 - iteracion = 200 - Evaluacion = (0.871, 0.814)\n",
      "2020-11-15 16:13:57.243544\n",
      "2020-11-15 16:13:57.243650\n"
     ]
    },
    {
     "data": {
      "application/vnd.jupyter.widget-view+json": {
       "model_id": "55e6a10bce3542958eb3036ed459c861",
       "version_major": 2,
       "version_minor": 0
      },
      "text/plain": [
       "HBox(children=(HTML(value=''), FloatProgress(value=0.0, max=50.0), HTML(value='')))"
      ]
     },
     "metadata": {},
     "output_type": "display_data"
    },
    {
     "name": "stdout",
     "output_type": "stream",
     "text": [
      "\n"
     ]
    },
    {
     "name": "stderr",
     "output_type": "stream",
     "text": [
      "WARNING:implicit:This method is deprecated. Please use the AlternatingLeastSquares class instead\n"
     ]
    },
    {
     "name": "stdout",
     "output_type": "stream",
     "text": [
      "Factor=30 - Alfa= 10 - Regularizacion=0.2 - iteracion = 10 - Evaluacion = (0.871, 0.814)\n",
      "2020-11-15 16:14:13.951573\n",
      "2020-11-15 16:14:13.951678\n"
     ]
    },
    {
     "data": {
      "application/vnd.jupyter.widget-view+json": {
       "model_id": "c6024f8238194308afd90e5fdedb0ae5",
       "version_major": 2,
       "version_minor": 0
      },
      "text/plain": [
       "HBox(children=(HTML(value=''), FloatProgress(value=0.0, max=50.0), HTML(value='')))"
      ]
     },
     "metadata": {},
     "output_type": "display_data"
    },
    {
     "name": "stdout",
     "output_type": "stream",
     "text": [
      "\n"
     ]
    },
    {
     "name": "stderr",
     "output_type": "stream",
     "text": [
      "WARNING:implicit:This method is deprecated. Please use the AlternatingLeastSquares class instead\n"
     ]
    },
    {
     "name": "stdout",
     "output_type": "stream",
     "text": [
      "Factor=30 - Alfa= 10 - Regularizacion=0.2 - iteracion = 25 - Evaluacion = (0.869, 0.814)\n",
      "2020-11-15 16:14:30.664479\n",
      "2020-11-15 16:14:30.664677\n"
     ]
    },
    {
     "data": {
      "application/vnd.jupyter.widget-view+json": {
       "model_id": "4fa80153b6234f879b7b27adeabbbf18",
       "version_major": 2,
       "version_minor": 0
      },
      "text/plain": [
       "HBox(children=(HTML(value=''), FloatProgress(value=0.0, max=50.0), HTML(value='')))"
      ]
     },
     "metadata": {},
     "output_type": "display_data"
    },
    {
     "name": "stdout",
     "output_type": "stream",
     "text": [
      "\n"
     ]
    },
    {
     "name": "stderr",
     "output_type": "stream",
     "text": [
      "WARNING:implicit:This method is deprecated. Please use the AlternatingLeastSquares class instead\n"
     ]
    },
    {
     "name": "stdout",
     "output_type": "stream",
     "text": [
      "Factor=30 - Alfa= 10 - Regularizacion=0.2 - iteracion = 50 - Evaluacion = (0.87, 0.814)\n",
      "2020-11-15 16:14:47.242943\n",
      "2020-11-15 16:14:47.243047\n"
     ]
    },
    {
     "data": {
      "application/vnd.jupyter.widget-view+json": {
       "model_id": "4529e96305e24c3bb8349afe1321a9ad",
       "version_major": 2,
       "version_minor": 0
      },
      "text/plain": [
       "HBox(children=(HTML(value=''), FloatProgress(value=0.0, max=50.0), HTML(value='')))"
      ]
     },
     "metadata": {},
     "output_type": "display_data"
    },
    {
     "name": "stdout",
     "output_type": "stream",
     "text": [
      "\n"
     ]
    },
    {
     "name": "stderr",
     "output_type": "stream",
     "text": [
      "WARNING:implicit:This method is deprecated. Please use the AlternatingLeastSquares class instead\n"
     ]
    },
    {
     "name": "stdout",
     "output_type": "stream",
     "text": [
      "Factor=30 - Alfa= 10 - Regularizacion=0.2 - iteracion = 100 - Evaluacion = (0.87, 0.814)\n",
      "2020-11-15 16:15:03.876633\n",
      "2020-11-15 16:15:03.876963\n"
     ]
    },
    {
     "data": {
      "application/vnd.jupyter.widget-view+json": {
       "model_id": "6396a27b473e4a43a3969ba46a7ec663",
       "version_major": 2,
       "version_minor": 0
      },
      "text/plain": [
       "HBox(children=(HTML(value=''), FloatProgress(value=0.0, max=50.0), HTML(value='')))"
      ]
     },
     "metadata": {},
     "output_type": "display_data"
    },
    {
     "name": "stdout",
     "output_type": "stream",
     "text": [
      "\n"
     ]
    },
    {
     "name": "stderr",
     "output_type": "stream",
     "text": [
      "WARNING:implicit:This method is deprecated. Please use the AlternatingLeastSquares class instead\n"
     ]
    },
    {
     "name": "stdout",
     "output_type": "stream",
     "text": [
      "Factor=30 - Alfa= 10 - Regularizacion=0.2 - iteracion = 200 - Evaluacion = (0.871, 0.814)\n",
      "2020-11-15 16:15:20.445851\n",
      "2020-11-15 16:15:20.445956\n"
     ]
    },
    {
     "data": {
      "application/vnd.jupyter.widget-view+json": {
       "model_id": "666f1ba9ddde4c55b5ad365664d610e9",
       "version_major": 2,
       "version_minor": 0
      },
      "text/plain": [
       "HBox(children=(HTML(value=''), FloatProgress(value=0.0, max=50.0), HTML(value='')))"
      ]
     },
     "metadata": {},
     "output_type": "display_data"
    },
    {
     "name": "stdout",
     "output_type": "stream",
     "text": [
      "\n"
     ]
    },
    {
     "name": "stderr",
     "output_type": "stream",
     "text": [
      "WARNING:implicit:This method is deprecated. Please use the AlternatingLeastSquares class instead\n"
     ]
    },
    {
     "name": "stdout",
     "output_type": "stream",
     "text": [
      "Factor=30 - Alfa= 10 - Regularizacion=0.4 - iteracion = 10 - Evaluacion = (0.87, 0.814)\n",
      "2020-11-15 16:15:37.270827\n",
      "2020-11-15 16:15:37.270929\n"
     ]
    },
    {
     "data": {
      "application/vnd.jupyter.widget-view+json": {
       "model_id": "5e3fd62750ce465ca0568603757b58d3",
       "version_major": 2,
       "version_minor": 0
      },
      "text/plain": [
       "HBox(children=(HTML(value=''), FloatProgress(value=0.0, max=50.0), HTML(value='')))"
      ]
     },
     "metadata": {},
     "output_type": "display_data"
    },
    {
     "name": "stdout",
     "output_type": "stream",
     "text": [
      "\n"
     ]
    },
    {
     "name": "stderr",
     "output_type": "stream",
     "text": [
      "WARNING:implicit:This method is deprecated. Please use the AlternatingLeastSquares class instead\n"
     ]
    },
    {
     "name": "stdout",
     "output_type": "stream",
     "text": [
      "Factor=30 - Alfa= 10 - Regularizacion=0.4 - iteracion = 25 - Evaluacion = (0.87, 0.814)\n",
      "2020-11-15 16:15:53.829669\n",
      "2020-11-15 16:15:53.829775\n"
     ]
    },
    {
     "data": {
      "application/vnd.jupyter.widget-view+json": {
       "model_id": "77b12b11b1c444629b41c5085b06136a",
       "version_major": 2,
       "version_minor": 0
      },
      "text/plain": [
       "HBox(children=(HTML(value=''), FloatProgress(value=0.0, max=50.0), HTML(value='')))"
      ]
     },
     "metadata": {},
     "output_type": "display_data"
    },
    {
     "name": "stdout",
     "output_type": "stream",
     "text": [
      "\n"
     ]
    },
    {
     "name": "stderr",
     "output_type": "stream",
     "text": [
      "WARNING:implicit:This method is deprecated. Please use the AlternatingLeastSquares class instead\n"
     ]
    },
    {
     "name": "stdout",
     "output_type": "stream",
     "text": [
      "Factor=30 - Alfa= 10 - Regularizacion=0.4 - iteracion = 50 - Evaluacion = (0.871, 0.814)\n",
      "2020-11-15 16:16:10.431165\n",
      "2020-11-15 16:16:10.431267\n"
     ]
    },
    {
     "data": {
      "application/vnd.jupyter.widget-view+json": {
       "model_id": "ceba5e1c67284471955038ce60f9b946",
       "version_major": 2,
       "version_minor": 0
      },
      "text/plain": [
       "HBox(children=(HTML(value=''), FloatProgress(value=0.0, max=50.0), HTML(value='')))"
      ]
     },
     "metadata": {},
     "output_type": "display_data"
    },
    {
     "name": "stdout",
     "output_type": "stream",
     "text": [
      "\n"
     ]
    },
    {
     "name": "stderr",
     "output_type": "stream",
     "text": [
      "WARNING:implicit:This method is deprecated. Please use the AlternatingLeastSquares class instead\n"
     ]
    },
    {
     "name": "stdout",
     "output_type": "stream",
     "text": [
      "Factor=30 - Alfa= 10 - Regularizacion=0.4 - iteracion = 100 - Evaluacion = (0.87, 0.814)\n",
      "2020-11-15 16:16:27.283341\n",
      "2020-11-15 16:16:27.283443\n"
     ]
    },
    {
     "data": {
      "application/vnd.jupyter.widget-view+json": {
       "model_id": "017c57f35e98487aad5b5cf31acf9bfd",
       "version_major": 2,
       "version_minor": 0
      },
      "text/plain": [
       "HBox(children=(HTML(value=''), FloatProgress(value=0.0, max=50.0), HTML(value='')))"
      ]
     },
     "metadata": {},
     "output_type": "display_data"
    },
    {
     "name": "stdout",
     "output_type": "stream",
     "text": [
      "\n"
     ]
    },
    {
     "name": "stderr",
     "output_type": "stream",
     "text": [
      "WARNING:implicit:This method is deprecated. Please use the AlternatingLeastSquares class instead\n"
     ]
    },
    {
     "name": "stdout",
     "output_type": "stream",
     "text": [
      "Factor=30 - Alfa= 10 - Regularizacion=0.4 - iteracion = 200 - Evaluacion = (0.871, 0.814)\n",
      "2020-11-15 16:16:43.819403\n",
      "2020-11-15 16:16:43.819507\n"
     ]
    },
    {
     "data": {
      "application/vnd.jupyter.widget-view+json": {
       "model_id": "0b9e3455fcc04486b8879384474d74dd",
       "version_major": 2,
       "version_minor": 0
      },
      "text/plain": [
       "HBox(children=(HTML(value=''), FloatProgress(value=0.0, max=50.0), HTML(value='')))"
      ]
     },
     "metadata": {},
     "output_type": "display_data"
    },
    {
     "name": "stdout",
     "output_type": "stream",
     "text": [
      "\n"
     ]
    },
    {
     "name": "stderr",
     "output_type": "stream",
     "text": [
      "WARNING:implicit:This method is deprecated. Please use the AlternatingLeastSquares class instead\n"
     ]
    },
    {
     "name": "stdout",
     "output_type": "stream",
     "text": [
      "Factor=30 - Alfa= 15 - Regularizacion=0.025 - iteracion = 10 - Evaluacion = (0.87, 0.814)\n",
      "2020-11-15 16:17:00.343206\n",
      "2020-11-15 16:17:00.343311\n"
     ]
    },
    {
     "data": {
      "application/vnd.jupyter.widget-view+json": {
       "model_id": "654f428c7c084374812b8c8f2e30fe7c",
       "version_major": 2,
       "version_minor": 0
      },
      "text/plain": [
       "HBox(children=(HTML(value=''), FloatProgress(value=0.0, max=50.0), HTML(value='')))"
      ]
     },
     "metadata": {},
     "output_type": "display_data"
    },
    {
     "name": "stdout",
     "output_type": "stream",
     "text": [
      "\n"
     ]
    },
    {
     "name": "stderr",
     "output_type": "stream",
     "text": [
      "WARNING:implicit:This method is deprecated. Please use the AlternatingLeastSquares class instead\n"
     ]
    },
    {
     "name": "stdout",
     "output_type": "stream",
     "text": [
      "Factor=30 - Alfa= 15 - Regularizacion=0.025 - iteracion = 25 - Evaluacion = (0.87, 0.814)\n",
      "2020-11-15 16:17:16.881275\n",
      "2020-11-15 16:17:16.881379\n"
     ]
    },
    {
     "data": {
      "application/vnd.jupyter.widget-view+json": {
       "model_id": "f987386790c64c90a8b1f4543babbfd9",
       "version_major": 2,
       "version_minor": 0
      },
      "text/plain": [
       "HBox(children=(HTML(value=''), FloatProgress(value=0.0, max=50.0), HTML(value='')))"
      ]
     },
     "metadata": {},
     "output_type": "display_data"
    },
    {
     "name": "stdout",
     "output_type": "stream",
     "text": [
      "\n"
     ]
    },
    {
     "name": "stderr",
     "output_type": "stream",
     "text": [
      "WARNING:implicit:This method is deprecated. Please use the AlternatingLeastSquares class instead\n"
     ]
    },
    {
     "name": "stdout",
     "output_type": "stream",
     "text": [
      "Factor=30 - Alfa= 15 - Regularizacion=0.025 - iteracion = 50 - Evaluacion = (0.871, 0.814)\n",
      "2020-11-15 16:17:33.389907\n",
      "2020-11-15 16:17:33.390013\n"
     ]
    },
    {
     "data": {
      "application/vnd.jupyter.widget-view+json": {
       "model_id": "270af0b976844b4bad65b62ea18b7a0c",
       "version_major": 2,
       "version_minor": 0
      },
      "text/plain": [
       "HBox(children=(HTML(value=''), FloatProgress(value=0.0, max=50.0), HTML(value='')))"
      ]
     },
     "metadata": {},
     "output_type": "display_data"
    },
    {
     "name": "stdout",
     "output_type": "stream",
     "text": [
      "\n"
     ]
    },
    {
     "name": "stderr",
     "output_type": "stream",
     "text": [
      "WARNING:implicit:This method is deprecated. Please use the AlternatingLeastSquares class instead\n"
     ]
    },
    {
     "name": "stdout",
     "output_type": "stream",
     "text": [
      "Factor=30 - Alfa= 15 - Regularizacion=0.025 - iteracion = 100 - Evaluacion = (0.871, 0.814)\n",
      "2020-11-15 16:17:50.241742\n",
      "2020-11-15 16:17:50.241837\n"
     ]
    },
    {
     "data": {
      "application/vnd.jupyter.widget-view+json": {
       "model_id": "de3cc049d26a4cd79bb0792363bd5eb4",
       "version_major": 2,
       "version_minor": 0
      },
      "text/plain": [
       "HBox(children=(HTML(value=''), FloatProgress(value=0.0, max=50.0), HTML(value='')))"
      ]
     },
     "metadata": {},
     "output_type": "display_data"
    },
    {
     "name": "stdout",
     "output_type": "stream",
     "text": [
      "\n"
     ]
    },
    {
     "name": "stderr",
     "output_type": "stream",
     "text": [
      "WARNING:implicit:This method is deprecated. Please use the AlternatingLeastSquares class instead\n"
     ]
    },
    {
     "name": "stdout",
     "output_type": "stream",
     "text": [
      "Factor=30 - Alfa= 15 - Regularizacion=0.025 - iteracion = 200 - Evaluacion = (0.871, 0.814)\n",
      "2020-11-15 16:18:06.804250\n",
      "2020-11-15 16:18:06.804353\n"
     ]
    },
    {
     "data": {
      "application/vnd.jupyter.widget-view+json": {
       "model_id": "125d829a8df04636a4c1846aff4b880b",
       "version_major": 2,
       "version_minor": 0
      },
      "text/plain": [
       "HBox(children=(HTML(value=''), FloatProgress(value=0.0, max=50.0), HTML(value='')))"
      ]
     },
     "metadata": {},
     "output_type": "display_data"
    },
    {
     "name": "stdout",
     "output_type": "stream",
     "text": [
      "\n"
     ]
    },
    {
     "name": "stderr",
     "output_type": "stream",
     "text": [
      "WARNING:implicit:This method is deprecated. Please use the AlternatingLeastSquares class instead\n"
     ]
    },
    {
     "name": "stdout",
     "output_type": "stream",
     "text": [
      "Factor=30 - Alfa= 15 - Regularizacion=0.05 - iteracion = 10 - Evaluacion = (0.871, 0.814)\n",
      "2020-11-15 16:18:23.380950\n",
      "2020-11-15 16:18:23.381060\n"
     ]
    },
    {
     "data": {
      "application/vnd.jupyter.widget-view+json": {
       "model_id": "2d14a65ea487484cb35d1f51200e037e",
       "version_major": 2,
       "version_minor": 0
      },
      "text/plain": [
       "HBox(children=(HTML(value=''), FloatProgress(value=0.0, max=50.0), HTML(value='')))"
      ]
     },
     "metadata": {},
     "output_type": "display_data"
    },
    {
     "name": "stdout",
     "output_type": "stream",
     "text": [
      "\n"
     ]
    },
    {
     "name": "stderr",
     "output_type": "stream",
     "text": [
      "WARNING:implicit:This method is deprecated. Please use the AlternatingLeastSquares class instead\n"
     ]
    },
    {
     "name": "stdout",
     "output_type": "stream",
     "text": [
      "Factor=30 - Alfa= 15 - Regularizacion=0.05 - iteracion = 25 - Evaluacion = (0.87, 0.814)\n",
      "2020-11-15 16:18:39.927836\n",
      "2020-11-15 16:18:39.927941\n"
     ]
    },
    {
     "data": {
      "application/vnd.jupyter.widget-view+json": {
       "model_id": "72daa82b6c2e460598ef5f7a69f4dae9",
       "version_major": 2,
       "version_minor": 0
      },
      "text/plain": [
       "HBox(children=(HTML(value=''), FloatProgress(value=0.0, max=50.0), HTML(value='')))"
      ]
     },
     "metadata": {},
     "output_type": "display_data"
    },
    {
     "name": "stdout",
     "output_type": "stream",
     "text": [
      "\n"
     ]
    },
    {
     "name": "stderr",
     "output_type": "stream",
     "text": [
      "WARNING:implicit:This method is deprecated. Please use the AlternatingLeastSquares class instead\n"
     ]
    },
    {
     "name": "stdout",
     "output_type": "stream",
     "text": [
      "Factor=30 - Alfa= 15 - Regularizacion=0.05 - iteracion = 50 - Evaluacion = (0.871, 0.814)\n",
      "2020-11-15 16:18:56.523271\n",
      "2020-11-15 16:18:56.523374\n"
     ]
    },
    {
     "data": {
      "application/vnd.jupyter.widget-view+json": {
       "model_id": "d24575af1c164210aea33b04dfba9c43",
       "version_major": 2,
       "version_minor": 0
      },
      "text/plain": [
       "HBox(children=(HTML(value=''), FloatProgress(value=0.0, max=50.0), HTML(value='')))"
      ]
     },
     "metadata": {},
     "output_type": "display_data"
    },
    {
     "name": "stdout",
     "output_type": "stream",
     "text": [
      "\n"
     ]
    },
    {
     "name": "stderr",
     "output_type": "stream",
     "text": [
      "WARNING:implicit:This method is deprecated. Please use the AlternatingLeastSquares class instead\n"
     ]
    },
    {
     "name": "stdout",
     "output_type": "stream",
     "text": [
      "Factor=30 - Alfa= 15 - Regularizacion=0.05 - iteracion = 100 - Evaluacion = (0.87, 0.814)\n",
      "2020-11-15 16:19:13.246108\n",
      "2020-11-15 16:19:13.246218\n"
     ]
    },
    {
     "data": {
      "application/vnd.jupyter.widget-view+json": {
       "model_id": "9e6bcff93d7e415fad5f6b21b52838a6",
       "version_major": 2,
       "version_minor": 0
      },
      "text/plain": [
       "HBox(children=(HTML(value=''), FloatProgress(value=0.0, max=50.0), HTML(value='')))"
      ]
     },
     "metadata": {},
     "output_type": "display_data"
    },
    {
     "name": "stdout",
     "output_type": "stream",
     "text": [
      "\n"
     ]
    },
    {
     "name": "stderr",
     "output_type": "stream",
     "text": [
      "WARNING:implicit:This method is deprecated. Please use the AlternatingLeastSquares class instead\n"
     ]
    },
    {
     "name": "stdout",
     "output_type": "stream",
     "text": [
      "Factor=30 - Alfa= 15 - Regularizacion=0.05 - iteracion = 200 - Evaluacion = (0.871, 0.814)\n",
      "2020-11-15 16:19:30.246237\n",
      "2020-11-15 16:19:30.246326\n"
     ]
    },
    {
     "data": {
      "application/vnd.jupyter.widget-view+json": {
       "model_id": "f2eaf2cbda264ed2936eae6c1c681164",
       "version_major": 2,
       "version_minor": 0
      },
      "text/plain": [
       "HBox(children=(HTML(value=''), FloatProgress(value=0.0, max=50.0), HTML(value='')))"
      ]
     },
     "metadata": {},
     "output_type": "display_data"
    },
    {
     "name": "stdout",
     "output_type": "stream",
     "text": [
      "\n"
     ]
    },
    {
     "name": "stderr",
     "output_type": "stream",
     "text": [
      "WARNING:implicit:This method is deprecated. Please use the AlternatingLeastSquares class instead\n"
     ]
    },
    {
     "name": "stdout",
     "output_type": "stream",
     "text": [
      "Factor=30 - Alfa= 15 - Regularizacion=0.1 - iteracion = 10 - Evaluacion = (0.87, 0.814)\n",
      "2020-11-15 16:19:46.764424\n",
      "2020-11-15 16:19:46.764528\n"
     ]
    },
    {
     "data": {
      "application/vnd.jupyter.widget-view+json": {
       "model_id": "e4c66d9560fc40dfa924c4379f6a7981",
       "version_major": 2,
       "version_minor": 0
      },
      "text/plain": [
       "HBox(children=(HTML(value=''), FloatProgress(value=0.0, max=50.0), HTML(value='')))"
      ]
     },
     "metadata": {},
     "output_type": "display_data"
    },
    {
     "name": "stdout",
     "output_type": "stream",
     "text": [
      "\n"
     ]
    },
    {
     "name": "stderr",
     "output_type": "stream",
     "text": [
      "WARNING:implicit:This method is deprecated. Please use the AlternatingLeastSquares class instead\n"
     ]
    },
    {
     "name": "stdout",
     "output_type": "stream",
     "text": [
      "Factor=30 - Alfa= 15 - Regularizacion=0.1 - iteracion = 25 - Evaluacion = (0.869, 0.814)\n",
      "2020-11-15 16:20:03.324259\n",
      "2020-11-15 16:20:03.324480\n"
     ]
    },
    {
     "data": {
      "application/vnd.jupyter.widget-view+json": {
       "model_id": "5081f6b50fb649439dab934121013260",
       "version_major": 2,
       "version_minor": 0
      },
      "text/plain": [
       "HBox(children=(HTML(value=''), FloatProgress(value=0.0, max=50.0), HTML(value='')))"
      ]
     },
     "metadata": {},
     "output_type": "display_data"
    },
    {
     "name": "stdout",
     "output_type": "stream",
     "text": [
      "\n"
     ]
    },
    {
     "name": "stderr",
     "output_type": "stream",
     "text": [
      "WARNING:implicit:This method is deprecated. Please use the AlternatingLeastSquares class instead\n"
     ]
    },
    {
     "name": "stdout",
     "output_type": "stream",
     "text": [
      "Factor=30 - Alfa= 15 - Regularizacion=0.1 - iteracion = 50 - Evaluacion = (0.87, 0.814)\n",
      "2020-11-15 16:20:20.083683\n",
      "2020-11-15 16:20:20.083788\n"
     ]
    },
    {
     "data": {
      "application/vnd.jupyter.widget-view+json": {
       "model_id": "e98af73bed254d70b2b8959033b241e8",
       "version_major": 2,
       "version_minor": 0
      },
      "text/plain": [
       "HBox(children=(HTML(value=''), FloatProgress(value=0.0, max=50.0), HTML(value='')))"
      ]
     },
     "metadata": {},
     "output_type": "display_data"
    },
    {
     "name": "stdout",
     "output_type": "stream",
     "text": [
      "\n"
     ]
    },
    {
     "name": "stderr",
     "output_type": "stream",
     "text": [
      "WARNING:implicit:This method is deprecated. Please use the AlternatingLeastSquares class instead\n"
     ]
    },
    {
     "name": "stdout",
     "output_type": "stream",
     "text": [
      "Factor=30 - Alfa= 15 - Regularizacion=0.1 - iteracion = 100 - Evaluacion = (0.87, 0.814)\n",
      "2020-11-15 16:20:36.644452\n",
      "2020-11-15 16:20:36.644557\n"
     ]
    },
    {
     "data": {
      "application/vnd.jupyter.widget-view+json": {
       "model_id": "6be501b92e6149ca83d92de66f703582",
       "version_major": 2,
       "version_minor": 0
      },
      "text/plain": [
       "HBox(children=(HTML(value=''), FloatProgress(value=0.0, max=50.0), HTML(value='')))"
      ]
     },
     "metadata": {},
     "output_type": "display_data"
    },
    {
     "name": "stdout",
     "output_type": "stream",
     "text": [
      "\n"
     ]
    },
    {
     "name": "stderr",
     "output_type": "stream",
     "text": [
      "WARNING:implicit:This method is deprecated. Please use the AlternatingLeastSquares class instead\n"
     ]
    },
    {
     "name": "stdout",
     "output_type": "stream",
     "text": [
      "Factor=30 - Alfa= 15 - Regularizacion=0.1 - iteracion = 200 - Evaluacion = (0.87, 0.814)\n",
      "2020-11-15 16:20:53.180426\n",
      "2020-11-15 16:20:53.180540\n"
     ]
    },
    {
     "data": {
      "application/vnd.jupyter.widget-view+json": {
       "model_id": "73b7e327fe924324a6ae1ddfb884dc0d",
       "version_major": 2,
       "version_minor": 0
      },
      "text/plain": [
       "HBox(children=(HTML(value=''), FloatProgress(value=0.0, max=50.0), HTML(value='')))"
      ]
     },
     "metadata": {},
     "output_type": "display_data"
    },
    {
     "name": "stdout",
     "output_type": "stream",
     "text": [
      "\n"
     ]
    },
    {
     "name": "stderr",
     "output_type": "stream",
     "text": [
      "WARNING:implicit:This method is deprecated. Please use the AlternatingLeastSquares class instead\n"
     ]
    },
    {
     "name": "stdout",
     "output_type": "stream",
     "text": [
      "Factor=30 - Alfa= 15 - Regularizacion=0.2 - iteracion = 10 - Evaluacion = (0.87, 0.814)\n",
      "2020-11-15 16:21:09.723074\n",
      "2020-11-15 16:21:09.723217\n"
     ]
    },
    {
     "data": {
      "application/vnd.jupyter.widget-view+json": {
       "model_id": "6b769f7e93644522884a46072c1db20e",
       "version_major": 2,
       "version_minor": 0
      },
      "text/plain": [
       "HBox(children=(HTML(value=''), FloatProgress(value=0.0, max=50.0), HTML(value='')))"
      ]
     },
     "metadata": {},
     "output_type": "display_data"
    },
    {
     "name": "stdout",
     "output_type": "stream",
     "text": [
      "\n"
     ]
    },
    {
     "name": "stderr",
     "output_type": "stream",
     "text": [
      "WARNING:implicit:This method is deprecated. Please use the AlternatingLeastSquares class instead\n"
     ]
    },
    {
     "name": "stdout",
     "output_type": "stream",
     "text": [
      "Factor=30 - Alfa= 15 - Regularizacion=0.2 - iteracion = 25 - Evaluacion = (0.871, 0.814)\n",
      "2020-11-15 16:21:26.452972\n",
      "2020-11-15 16:21:26.453076\n"
     ]
    },
    {
     "data": {
      "application/vnd.jupyter.widget-view+json": {
       "model_id": "1464ab5e311d492b8814e3e4e6d38b11",
       "version_major": 2,
       "version_minor": 0
      },
      "text/plain": [
       "HBox(children=(HTML(value=''), FloatProgress(value=0.0, max=50.0), HTML(value='')))"
      ]
     },
     "metadata": {},
     "output_type": "display_data"
    },
    {
     "name": "stdout",
     "output_type": "stream",
     "text": [
      "\n"
     ]
    },
    {
     "name": "stderr",
     "output_type": "stream",
     "text": [
      "WARNING:implicit:This method is deprecated. Please use the AlternatingLeastSquares class instead\n"
     ]
    },
    {
     "name": "stdout",
     "output_type": "stream",
     "text": [
      "Factor=30 - Alfa= 15 - Regularizacion=0.2 - iteracion = 50 - Evaluacion = (0.871, 0.814)\n",
      "2020-11-15 16:21:43.262001\n",
      "2020-11-15 16:21:43.262108\n"
     ]
    },
    {
     "data": {
      "application/vnd.jupyter.widget-view+json": {
       "model_id": "cb4e9a5c480744539b007ca3d83ac1d9",
       "version_major": 2,
       "version_minor": 0
      },
      "text/plain": [
       "HBox(children=(HTML(value=''), FloatProgress(value=0.0, max=50.0), HTML(value='')))"
      ]
     },
     "metadata": {},
     "output_type": "display_data"
    },
    {
     "name": "stdout",
     "output_type": "stream",
     "text": [
      "\n"
     ]
    },
    {
     "name": "stderr",
     "output_type": "stream",
     "text": [
      "WARNING:implicit:This method is deprecated. Please use the AlternatingLeastSquares class instead\n"
     ]
    },
    {
     "name": "stdout",
     "output_type": "stream",
     "text": [
      "Factor=30 - Alfa= 15 - Regularizacion=0.2 - iteracion = 100 - Evaluacion = (0.87, 0.814)\n",
      "2020-11-15 16:21:59.945735\n",
      "2020-11-15 16:21:59.945840\n"
     ]
    },
    {
     "data": {
      "application/vnd.jupyter.widget-view+json": {
       "model_id": "ede2dd26cb3c4205856085e2a7ee5ee8",
       "version_major": 2,
       "version_minor": 0
      },
      "text/plain": [
       "HBox(children=(HTML(value=''), FloatProgress(value=0.0, max=50.0), HTML(value='')))"
      ]
     },
     "metadata": {},
     "output_type": "display_data"
    },
    {
     "name": "stdout",
     "output_type": "stream",
     "text": [
      "\n"
     ]
    },
    {
     "name": "stderr",
     "output_type": "stream",
     "text": [
      "WARNING:implicit:This method is deprecated. Please use the AlternatingLeastSquares class instead\n"
     ]
    },
    {
     "name": "stdout",
     "output_type": "stream",
     "text": [
      "Factor=30 - Alfa= 15 - Regularizacion=0.2 - iteracion = 200 - Evaluacion = (0.871, 0.814)\n",
      "2020-11-15 16:22:16.519487\n",
      "2020-11-15 16:22:16.519594\n"
     ]
    },
    {
     "data": {
      "application/vnd.jupyter.widget-view+json": {
       "model_id": "9d2bb8a052d546bdbdb8cf31c67bfcdd",
       "version_major": 2,
       "version_minor": 0
      },
      "text/plain": [
       "HBox(children=(HTML(value=''), FloatProgress(value=0.0, max=50.0), HTML(value='')))"
      ]
     },
     "metadata": {},
     "output_type": "display_data"
    },
    {
     "name": "stdout",
     "output_type": "stream",
     "text": [
      "\n"
     ]
    },
    {
     "name": "stderr",
     "output_type": "stream",
     "text": [
      "WARNING:implicit:This method is deprecated. Please use the AlternatingLeastSquares class instead\n"
     ]
    },
    {
     "name": "stdout",
     "output_type": "stream",
     "text": [
      "Factor=30 - Alfa= 15 - Regularizacion=0.4 - iteracion = 10 - Evaluacion = (0.871, 0.814)\n",
      "2020-11-15 16:22:33.073349\n",
      "2020-11-15 16:22:33.073453\n"
     ]
    },
    {
     "data": {
      "application/vnd.jupyter.widget-view+json": {
       "model_id": "f6302acf48ad48de92f3ebf48ca652e3",
       "version_major": 2,
       "version_minor": 0
      },
      "text/plain": [
       "HBox(children=(HTML(value=''), FloatProgress(value=0.0, max=50.0), HTML(value='')))"
      ]
     },
     "metadata": {},
     "output_type": "display_data"
    },
    {
     "name": "stdout",
     "output_type": "stream",
     "text": [
      "\n"
     ]
    },
    {
     "name": "stderr",
     "output_type": "stream",
     "text": [
      "WARNING:implicit:This method is deprecated. Please use the AlternatingLeastSquares class instead\n"
     ]
    },
    {
     "name": "stdout",
     "output_type": "stream",
     "text": [
      "Factor=30 - Alfa= 15 - Regularizacion=0.4 - iteracion = 25 - Evaluacion = (0.872, 0.814)\n",
      "2020-11-15 16:22:49.696796\n",
      "2020-11-15 16:22:49.697174\n"
     ]
    },
    {
     "data": {
      "application/vnd.jupyter.widget-view+json": {
       "model_id": "1404354e26a843708b306517c0ab2eff",
       "version_major": 2,
       "version_minor": 0
      },
      "text/plain": [
       "HBox(children=(HTML(value=''), FloatProgress(value=0.0, max=50.0), HTML(value='')))"
      ]
     },
     "metadata": {},
     "output_type": "display_data"
    },
    {
     "name": "stdout",
     "output_type": "stream",
     "text": [
      "\n"
     ]
    },
    {
     "name": "stderr",
     "output_type": "stream",
     "text": [
      "WARNING:implicit:This method is deprecated. Please use the AlternatingLeastSquares class instead\n"
     ]
    },
    {
     "name": "stdout",
     "output_type": "stream",
     "text": [
      "Factor=30 - Alfa= 15 - Regularizacion=0.4 - iteracion = 50 - Evaluacion = (0.87, 0.814)\n",
      "2020-11-15 16:23:06.428139\n",
      "2020-11-15 16:23:06.428245\n"
     ]
    },
    {
     "data": {
      "application/vnd.jupyter.widget-view+json": {
       "model_id": "f0ab204c92084e3daa550d926fb54284",
       "version_major": 2,
       "version_minor": 0
      },
      "text/plain": [
       "HBox(children=(HTML(value=''), FloatProgress(value=0.0, max=50.0), HTML(value='')))"
      ]
     },
     "metadata": {},
     "output_type": "display_data"
    },
    {
     "name": "stdout",
     "output_type": "stream",
     "text": [
      "\n"
     ]
    },
    {
     "name": "stderr",
     "output_type": "stream",
     "text": [
      "WARNING:implicit:This method is deprecated. Please use the AlternatingLeastSquares class instead\n"
     ]
    },
    {
     "name": "stdout",
     "output_type": "stream",
     "text": [
      "Factor=30 - Alfa= 15 - Regularizacion=0.4 - iteracion = 100 - Evaluacion = (0.87, 0.814)\n",
      "2020-11-15 16:23:23.156620\n",
      "2020-11-15 16:23:23.156730\n"
     ]
    },
    {
     "data": {
      "application/vnd.jupyter.widget-view+json": {
       "model_id": "015faeabaab247ad9c00fef527d035d3",
       "version_major": 2,
       "version_minor": 0
      },
      "text/plain": [
       "HBox(children=(HTML(value=''), FloatProgress(value=0.0, max=50.0), HTML(value='')))"
      ]
     },
     "metadata": {},
     "output_type": "display_data"
    },
    {
     "name": "stdout",
     "output_type": "stream",
     "text": [
      "\n"
     ]
    },
    {
     "name": "stderr",
     "output_type": "stream",
     "text": [
      "WARNING:implicit:This method is deprecated. Please use the AlternatingLeastSquares class instead\n"
     ]
    },
    {
     "name": "stdout",
     "output_type": "stream",
     "text": [
      "Factor=30 - Alfa= 15 - Regularizacion=0.4 - iteracion = 200 - Evaluacion = (0.872, 0.814)\n",
      "2020-11-15 16:23:39.848547\n",
      "2020-11-15 16:23:39.848651\n"
     ]
    },
    {
     "data": {
      "application/vnd.jupyter.widget-view+json": {
       "model_id": "78da0f56a6fc4a65b2797372713fa5eb",
       "version_major": 2,
       "version_minor": 0
      },
      "text/plain": [
       "HBox(children=(HTML(value=''), FloatProgress(value=0.0, max=50.0), HTML(value='')))"
      ]
     },
     "metadata": {},
     "output_type": "display_data"
    },
    {
     "name": "stdout",
     "output_type": "stream",
     "text": [
      "\n"
     ]
    },
    {
     "name": "stderr",
     "output_type": "stream",
     "text": [
      "WARNING:implicit:This method is deprecated. Please use the AlternatingLeastSquares class instead\n"
     ]
    },
    {
     "name": "stdout",
     "output_type": "stream",
     "text": [
      "Factor=30 - Alfa= 30 - Regularizacion=0.025 - iteracion = 10 - Evaluacion = (0.871, 0.814)\n",
      "2020-11-15 16:23:56.354493\n",
      "2020-11-15 16:23:56.354599\n"
     ]
    },
    {
     "data": {
      "application/vnd.jupyter.widget-view+json": {
       "model_id": "621cbf7c1e6d498dbde3cfaf71651ae1",
       "version_major": 2,
       "version_minor": 0
      },
      "text/plain": [
       "HBox(children=(HTML(value=''), FloatProgress(value=0.0, max=50.0), HTML(value='')))"
      ]
     },
     "metadata": {},
     "output_type": "display_data"
    },
    {
     "name": "stdout",
     "output_type": "stream",
     "text": [
      "\n"
     ]
    },
    {
     "name": "stderr",
     "output_type": "stream",
     "text": [
      "WARNING:implicit:This method is deprecated. Please use the AlternatingLeastSquares class instead\n"
     ]
    },
    {
     "name": "stdout",
     "output_type": "stream",
     "text": [
      "Factor=30 - Alfa= 30 - Regularizacion=0.025 - iteracion = 25 - Evaluacion = (0.871, 0.814)\n",
      "2020-11-15 16:24:13.206724\n",
      "2020-11-15 16:24:13.206828\n"
     ]
    },
    {
     "data": {
      "application/vnd.jupyter.widget-view+json": {
       "model_id": "2bc6b68141e948228f10a885e9a3b8eb",
       "version_major": 2,
       "version_minor": 0
      },
      "text/plain": [
       "HBox(children=(HTML(value=''), FloatProgress(value=0.0, max=50.0), HTML(value='')))"
      ]
     },
     "metadata": {},
     "output_type": "display_data"
    },
    {
     "name": "stdout",
     "output_type": "stream",
     "text": [
      "\n"
     ]
    },
    {
     "name": "stderr",
     "output_type": "stream",
     "text": [
      "WARNING:implicit:This method is deprecated. Please use the AlternatingLeastSquares class instead\n"
     ]
    },
    {
     "name": "stdout",
     "output_type": "stream",
     "text": [
      "Factor=30 - Alfa= 30 - Regularizacion=0.025 - iteracion = 50 - Evaluacion = (0.871, 0.814)\n",
      "2020-11-15 16:24:30.080471\n",
      "2020-11-15 16:24:30.080619\n"
     ]
    },
    {
     "data": {
      "application/vnd.jupyter.widget-view+json": {
       "model_id": "e4dc80becc8f44f6b7679169cf994884",
       "version_major": 2,
       "version_minor": 0
      },
      "text/plain": [
       "HBox(children=(HTML(value=''), FloatProgress(value=0.0, max=50.0), HTML(value='')))"
      ]
     },
     "metadata": {},
     "output_type": "display_data"
    },
    {
     "name": "stdout",
     "output_type": "stream",
     "text": [
      "\n"
     ]
    },
    {
     "name": "stderr",
     "output_type": "stream",
     "text": [
      "WARNING:implicit:This method is deprecated. Please use the AlternatingLeastSquares class instead\n"
     ]
    },
    {
     "name": "stdout",
     "output_type": "stream",
     "text": [
      "Factor=30 - Alfa= 30 - Regularizacion=0.025 - iteracion = 100 - Evaluacion = (0.869, 0.814)\n",
      "2020-11-15 16:24:47.274526\n",
      "2020-11-15 16:24:47.274627\n"
     ]
    },
    {
     "data": {
      "application/vnd.jupyter.widget-view+json": {
       "model_id": "87512a2644ad412d904dc02e1e410945",
       "version_major": 2,
       "version_minor": 0
      },
      "text/plain": [
       "HBox(children=(HTML(value=''), FloatProgress(value=0.0, max=50.0), HTML(value='')))"
      ]
     },
     "metadata": {},
     "output_type": "display_data"
    },
    {
     "name": "stdout",
     "output_type": "stream",
     "text": [
      "\n"
     ]
    },
    {
     "name": "stderr",
     "output_type": "stream",
     "text": [
      "WARNING:implicit:This method is deprecated. Please use the AlternatingLeastSquares class instead\n"
     ]
    },
    {
     "name": "stdout",
     "output_type": "stream",
     "text": [
      "Factor=30 - Alfa= 30 - Regularizacion=0.025 - iteracion = 200 - Evaluacion = (0.869, 0.814)\n",
      "2020-11-15 16:25:04.036161\n",
      "2020-11-15 16:25:04.036288\n"
     ]
    },
    {
     "data": {
      "application/vnd.jupyter.widget-view+json": {
       "model_id": "2735558f08564385a368381b449eda68",
       "version_major": 2,
       "version_minor": 0
      },
      "text/plain": [
       "HBox(children=(HTML(value=''), FloatProgress(value=0.0, max=50.0), HTML(value='')))"
      ]
     },
     "metadata": {},
     "output_type": "display_data"
    },
    {
     "name": "stdout",
     "output_type": "stream",
     "text": [
      "\n"
     ]
    },
    {
     "name": "stderr",
     "output_type": "stream",
     "text": [
      "WARNING:implicit:This method is deprecated. Please use the AlternatingLeastSquares class instead\n"
     ]
    },
    {
     "name": "stdout",
     "output_type": "stream",
     "text": [
      "Factor=30 - Alfa= 30 - Regularizacion=0.05 - iteracion = 10 - Evaluacion = (0.87, 0.814)\n",
      "2020-11-15 16:25:20.666001\n",
      "2020-11-15 16:25:20.666218\n"
     ]
    },
    {
     "data": {
      "application/vnd.jupyter.widget-view+json": {
       "model_id": "3c5ac12305c94002906213bec628e9a0",
       "version_major": 2,
       "version_minor": 0
      },
      "text/plain": [
       "HBox(children=(HTML(value=''), FloatProgress(value=0.0, max=50.0), HTML(value='')))"
      ]
     },
     "metadata": {},
     "output_type": "display_data"
    },
    {
     "name": "stdout",
     "output_type": "stream",
     "text": [
      "\n"
     ]
    },
    {
     "name": "stderr",
     "output_type": "stream",
     "text": [
      "WARNING:implicit:This method is deprecated. Please use the AlternatingLeastSquares class instead\n"
     ]
    },
    {
     "name": "stdout",
     "output_type": "stream",
     "text": [
      "Factor=30 - Alfa= 30 - Regularizacion=0.05 - iteracion = 25 - Evaluacion = (0.872, 0.814)\n",
      "2020-11-15 16:25:37.503340\n",
      "2020-11-15 16:25:37.503430\n"
     ]
    },
    {
     "data": {
      "application/vnd.jupyter.widget-view+json": {
       "model_id": "123124e6483e440c92cd18b65385ecf0",
       "version_major": 2,
       "version_minor": 0
      },
      "text/plain": [
       "HBox(children=(HTML(value=''), FloatProgress(value=0.0, max=50.0), HTML(value='')))"
      ]
     },
     "metadata": {},
     "output_type": "display_data"
    },
    {
     "name": "stdout",
     "output_type": "stream",
     "text": [
      "\n"
     ]
    },
    {
     "name": "stderr",
     "output_type": "stream",
     "text": [
      "WARNING:implicit:This method is deprecated. Please use the AlternatingLeastSquares class instead\n"
     ]
    },
    {
     "name": "stdout",
     "output_type": "stream",
     "text": [
      "Factor=30 - Alfa= 30 - Regularizacion=0.05 - iteracion = 50 - Evaluacion = (0.871, 0.814)\n",
      "2020-11-15 16:25:54.186423\n",
      "2020-11-15 16:25:54.186536\n"
     ]
    },
    {
     "data": {
      "application/vnd.jupyter.widget-view+json": {
       "model_id": "6156c6dae49d47c3a0bbe05f9ad365c0",
       "version_major": 2,
       "version_minor": 0
      },
      "text/plain": [
       "HBox(children=(HTML(value=''), FloatProgress(value=0.0, max=50.0), HTML(value='')))"
      ]
     },
     "metadata": {},
     "output_type": "display_data"
    },
    {
     "name": "stdout",
     "output_type": "stream",
     "text": [
      "\n"
     ]
    },
    {
     "name": "stderr",
     "output_type": "stream",
     "text": [
      "WARNING:implicit:This method is deprecated. Please use the AlternatingLeastSquares class instead\n"
     ]
    },
    {
     "name": "stdout",
     "output_type": "stream",
     "text": [
      "Factor=30 - Alfa= 30 - Regularizacion=0.05 - iteracion = 100 - Evaluacion = (0.871, 0.814)\n",
      "2020-11-15 16:26:11.269207\n",
      "2020-11-15 16:26:11.269308\n"
     ]
    },
    {
     "data": {
      "application/vnd.jupyter.widget-view+json": {
       "model_id": "252e7b4a84464febb272f1cea04dd62e",
       "version_major": 2,
       "version_minor": 0
      },
      "text/plain": [
       "HBox(children=(HTML(value=''), FloatProgress(value=0.0, max=50.0), HTML(value='')))"
      ]
     },
     "metadata": {},
     "output_type": "display_data"
    },
    {
     "name": "stdout",
     "output_type": "stream",
     "text": [
      "\n"
     ]
    },
    {
     "name": "stderr",
     "output_type": "stream",
     "text": [
      "WARNING:implicit:This method is deprecated. Please use the AlternatingLeastSquares class instead\n"
     ]
    },
    {
     "name": "stdout",
     "output_type": "stream",
     "text": [
      "Factor=30 - Alfa= 30 - Regularizacion=0.05 - iteracion = 200 - Evaluacion = (0.871, 0.814)\n",
      "2020-11-15 16:26:27.822420\n",
      "2020-11-15 16:26:27.822525\n"
     ]
    },
    {
     "data": {
      "application/vnd.jupyter.widget-view+json": {
       "model_id": "8da54fe4f0f34f589795283121032439",
       "version_major": 2,
       "version_minor": 0
      },
      "text/plain": [
       "HBox(children=(HTML(value=''), FloatProgress(value=0.0, max=50.0), HTML(value='')))"
      ]
     },
     "metadata": {},
     "output_type": "display_data"
    },
    {
     "name": "stdout",
     "output_type": "stream",
     "text": [
      "\n"
     ]
    },
    {
     "name": "stderr",
     "output_type": "stream",
     "text": [
      "WARNING:implicit:This method is deprecated. Please use the AlternatingLeastSquares class instead\n"
     ]
    },
    {
     "name": "stdout",
     "output_type": "stream",
     "text": [
      "Factor=30 - Alfa= 30 - Regularizacion=0.1 - iteracion = 10 - Evaluacion = (0.869, 0.814)\n",
      "2020-11-15 16:26:44.308146\n",
      "2020-11-15 16:26:44.308253\n"
     ]
    },
    {
     "data": {
      "application/vnd.jupyter.widget-view+json": {
       "model_id": "1282226966304d238018d18106d00c19",
       "version_major": 2,
       "version_minor": 0
      },
      "text/plain": [
       "HBox(children=(HTML(value=''), FloatProgress(value=0.0, max=50.0), HTML(value='')))"
      ]
     },
     "metadata": {},
     "output_type": "display_data"
    },
    {
     "name": "stdout",
     "output_type": "stream",
     "text": [
      "\n"
     ]
    },
    {
     "name": "stderr",
     "output_type": "stream",
     "text": [
      "WARNING:implicit:This method is deprecated. Please use the AlternatingLeastSquares class instead\n"
     ]
    },
    {
     "name": "stdout",
     "output_type": "stream",
     "text": [
      "Factor=30 - Alfa= 30 - Regularizacion=0.1 - iteracion = 25 - Evaluacion = (0.869, 0.814)\n",
      "2020-11-15 16:27:01.014759\n",
      "2020-11-15 16:27:01.014860\n"
     ]
    },
    {
     "data": {
      "application/vnd.jupyter.widget-view+json": {
       "model_id": "1c09f2af941042a0933afe5055560250",
       "version_major": 2,
       "version_minor": 0
      },
      "text/plain": [
       "HBox(children=(HTML(value=''), FloatProgress(value=0.0, max=50.0), HTML(value='')))"
      ]
     },
     "metadata": {},
     "output_type": "display_data"
    },
    {
     "name": "stdout",
     "output_type": "stream",
     "text": [
      "\n"
     ]
    },
    {
     "name": "stderr",
     "output_type": "stream",
     "text": [
      "WARNING:implicit:This method is deprecated. Please use the AlternatingLeastSquares class instead\n"
     ]
    },
    {
     "name": "stdout",
     "output_type": "stream",
     "text": [
      "Factor=30 - Alfa= 30 - Regularizacion=0.1 - iteracion = 50 - Evaluacion = (0.87, 0.814)\n",
      "2020-11-15 16:27:17.647468\n",
      "2020-11-15 16:27:17.647645\n"
     ]
    },
    {
     "data": {
      "application/vnd.jupyter.widget-view+json": {
       "model_id": "d78e4f225abf4da5ad77c5c0807d536d",
       "version_major": 2,
       "version_minor": 0
      },
      "text/plain": [
       "HBox(children=(HTML(value=''), FloatProgress(value=0.0, max=50.0), HTML(value='')))"
      ]
     },
     "metadata": {},
     "output_type": "display_data"
    },
    {
     "name": "stdout",
     "output_type": "stream",
     "text": [
      "\n"
     ]
    },
    {
     "name": "stderr",
     "output_type": "stream",
     "text": [
      "WARNING:implicit:This method is deprecated. Please use the AlternatingLeastSquares class instead\n"
     ]
    },
    {
     "name": "stdout",
     "output_type": "stream",
     "text": [
      "Factor=30 - Alfa= 30 - Regularizacion=0.1 - iteracion = 100 - Evaluacion = (0.87, 0.814)\n",
      "2020-11-15 16:27:34.138202\n",
      "2020-11-15 16:27:34.138312\n"
     ]
    },
    {
     "data": {
      "application/vnd.jupyter.widget-view+json": {
       "model_id": "a869bf229c29498eabcec09c6b99b77b",
       "version_major": 2,
       "version_minor": 0
      },
      "text/plain": [
       "HBox(children=(HTML(value=''), FloatProgress(value=0.0, max=50.0), HTML(value='')))"
      ]
     },
     "metadata": {},
     "output_type": "display_data"
    },
    {
     "name": "stdout",
     "output_type": "stream",
     "text": [
      "\n"
     ]
    },
    {
     "name": "stderr",
     "output_type": "stream",
     "text": [
      "WARNING:implicit:This method is deprecated. Please use the AlternatingLeastSquares class instead\n"
     ]
    },
    {
     "name": "stdout",
     "output_type": "stream",
     "text": [
      "Factor=30 - Alfa= 30 - Regularizacion=0.1 - iteracion = 200 - Evaluacion = (0.871, 0.814)\n",
      "2020-11-15 16:27:50.649779\n",
      "2020-11-15 16:27:50.649886\n"
     ]
    },
    {
     "data": {
      "application/vnd.jupyter.widget-view+json": {
       "model_id": "9c03df0a8b1242799d5da8fbf69700b1",
       "version_major": 2,
       "version_minor": 0
      },
      "text/plain": [
       "HBox(children=(HTML(value=''), FloatProgress(value=0.0, max=50.0), HTML(value='')))"
      ]
     },
     "metadata": {},
     "output_type": "display_data"
    },
    {
     "name": "stdout",
     "output_type": "stream",
     "text": [
      "\n"
     ]
    },
    {
     "name": "stderr",
     "output_type": "stream",
     "text": [
      "WARNING:implicit:This method is deprecated. Please use the AlternatingLeastSquares class instead\n"
     ]
    },
    {
     "name": "stdout",
     "output_type": "stream",
     "text": [
      "Factor=30 - Alfa= 30 - Regularizacion=0.2 - iteracion = 10 - Evaluacion = (0.87, 0.814)\n",
      "2020-11-15 16:28:07.298715\n",
      "2020-11-15 16:28:07.298825\n"
     ]
    },
    {
     "data": {
      "application/vnd.jupyter.widget-view+json": {
       "model_id": "24a9cdc02589447893f8371d52003969",
       "version_major": 2,
       "version_minor": 0
      },
      "text/plain": [
       "HBox(children=(HTML(value=''), FloatProgress(value=0.0, max=50.0), HTML(value='')))"
      ]
     },
     "metadata": {},
     "output_type": "display_data"
    },
    {
     "name": "stdout",
     "output_type": "stream",
     "text": [
      "\n"
     ]
    },
    {
     "name": "stderr",
     "output_type": "stream",
     "text": [
      "WARNING:implicit:This method is deprecated. Please use the AlternatingLeastSquares class instead\n"
     ]
    },
    {
     "name": "stdout",
     "output_type": "stream",
     "text": [
      "Factor=30 - Alfa= 30 - Regularizacion=0.2 - iteracion = 25 - Evaluacion = (0.87, 0.814)\n",
      "2020-11-15 16:28:23.852681\n",
      "2020-11-15 16:28:23.852784\n"
     ]
    },
    {
     "data": {
      "application/vnd.jupyter.widget-view+json": {
       "model_id": "55f7f195e7c645e2ba3b80cf94831547",
       "version_major": 2,
       "version_minor": 0
      },
      "text/plain": [
       "HBox(children=(HTML(value=''), FloatProgress(value=0.0, max=50.0), HTML(value='')))"
      ]
     },
     "metadata": {},
     "output_type": "display_data"
    },
    {
     "name": "stdout",
     "output_type": "stream",
     "text": [
      "\n"
     ]
    },
    {
     "name": "stderr",
     "output_type": "stream",
     "text": [
      "WARNING:implicit:This method is deprecated. Please use the AlternatingLeastSquares class instead\n"
     ]
    },
    {
     "name": "stdout",
     "output_type": "stream",
     "text": [
      "Factor=30 - Alfa= 30 - Regularizacion=0.2 - iteracion = 50 - Evaluacion = (0.871, 0.814)\n",
      "2020-11-15 16:28:40.405790\n",
      "2020-11-15 16:28:40.406093\n"
     ]
    },
    {
     "data": {
      "application/vnd.jupyter.widget-view+json": {
       "model_id": "6cd4d1b5963842d591dc202fa33ba0fe",
       "version_major": 2,
       "version_minor": 0
      },
      "text/plain": [
       "HBox(children=(HTML(value=''), FloatProgress(value=0.0, max=50.0), HTML(value='')))"
      ]
     },
     "metadata": {},
     "output_type": "display_data"
    },
    {
     "name": "stdout",
     "output_type": "stream",
     "text": [
      "\n"
     ]
    },
    {
     "name": "stderr",
     "output_type": "stream",
     "text": [
      "WARNING:implicit:This method is deprecated. Please use the AlternatingLeastSquares class instead\n"
     ]
    },
    {
     "name": "stdout",
     "output_type": "stream",
     "text": [
      "Factor=30 - Alfa= 30 - Regularizacion=0.2 - iteracion = 100 - Evaluacion = (0.871, 0.814)\n",
      "2020-11-15 16:28:57.107712\n",
      "2020-11-15 16:28:57.107815\n"
     ]
    },
    {
     "data": {
      "application/vnd.jupyter.widget-view+json": {
       "model_id": "059e7cd6700b400eb58635a5bd175f45",
       "version_major": 2,
       "version_minor": 0
      },
      "text/plain": [
       "HBox(children=(HTML(value=''), FloatProgress(value=0.0, max=50.0), HTML(value='')))"
      ]
     },
     "metadata": {},
     "output_type": "display_data"
    },
    {
     "name": "stdout",
     "output_type": "stream",
     "text": [
      "\n"
     ]
    },
    {
     "name": "stderr",
     "output_type": "stream",
     "text": [
      "WARNING:implicit:This method is deprecated. Please use the AlternatingLeastSquares class instead\n"
     ]
    },
    {
     "name": "stdout",
     "output_type": "stream",
     "text": [
      "Factor=30 - Alfa= 30 - Regularizacion=0.2 - iteracion = 200 - Evaluacion = (0.871, 0.814)\n",
      "2020-11-15 16:29:13.638850\n",
      "2020-11-15 16:29:13.638960\n"
     ]
    },
    {
     "data": {
      "application/vnd.jupyter.widget-view+json": {
       "model_id": "c896af8043614e879f84258ee700d65f",
       "version_major": 2,
       "version_minor": 0
      },
      "text/plain": [
       "HBox(children=(HTML(value=''), FloatProgress(value=0.0, max=50.0), HTML(value='')))"
      ]
     },
     "metadata": {},
     "output_type": "display_data"
    },
    {
     "name": "stdout",
     "output_type": "stream",
     "text": [
      "\n"
     ]
    },
    {
     "name": "stderr",
     "output_type": "stream",
     "text": [
      "WARNING:implicit:This method is deprecated. Please use the AlternatingLeastSquares class instead\n"
     ]
    },
    {
     "name": "stdout",
     "output_type": "stream",
     "text": [
      "Factor=30 - Alfa= 30 - Regularizacion=0.4 - iteracion = 10 - Evaluacion = (0.869, 0.814)\n",
      "2020-11-15 16:29:30.297112\n",
      "2020-11-15 16:29:30.297208\n"
     ]
    },
    {
     "data": {
      "application/vnd.jupyter.widget-view+json": {
       "model_id": "c5e4c6e2143144c7afd75467fe43b825",
       "version_major": 2,
       "version_minor": 0
      },
      "text/plain": [
       "HBox(children=(HTML(value=''), FloatProgress(value=0.0, max=50.0), HTML(value='')))"
      ]
     },
     "metadata": {},
     "output_type": "display_data"
    },
    {
     "name": "stdout",
     "output_type": "stream",
     "text": [
      "\n"
     ]
    },
    {
     "name": "stderr",
     "output_type": "stream",
     "text": [
      "WARNING:implicit:This method is deprecated. Please use the AlternatingLeastSquares class instead\n"
     ]
    },
    {
     "name": "stdout",
     "output_type": "stream",
     "text": [
      "Factor=30 - Alfa= 30 - Regularizacion=0.4 - iteracion = 25 - Evaluacion = (0.87, 0.814)\n",
      "2020-11-15 16:29:47.220274\n",
      "2020-11-15 16:29:47.220412\n"
     ]
    },
    {
     "data": {
      "application/vnd.jupyter.widget-view+json": {
       "model_id": "ff4e4d2b708c4455a09d6a9352b72882",
       "version_major": 2,
       "version_minor": 0
      },
      "text/plain": [
       "HBox(children=(HTML(value=''), FloatProgress(value=0.0, max=50.0), HTML(value='')))"
      ]
     },
     "metadata": {},
     "output_type": "display_data"
    },
    {
     "name": "stdout",
     "output_type": "stream",
     "text": [
      "\n"
     ]
    },
    {
     "name": "stderr",
     "output_type": "stream",
     "text": [
      "WARNING:implicit:This method is deprecated. Please use the AlternatingLeastSquares class instead\n"
     ]
    },
    {
     "name": "stdout",
     "output_type": "stream",
     "text": [
      "Factor=30 - Alfa= 30 - Regularizacion=0.4 - iteracion = 50 - Evaluacion = (0.871, 0.814)\n",
      "2020-11-15 16:30:03.943567\n",
      "2020-11-15 16:30:03.943673\n"
     ]
    },
    {
     "data": {
      "application/vnd.jupyter.widget-view+json": {
       "model_id": "99d5aaf0744043bf8fc2c592f2b430f7",
       "version_major": 2,
       "version_minor": 0
      },
      "text/plain": [
       "HBox(children=(HTML(value=''), FloatProgress(value=0.0, max=50.0), HTML(value='')))"
      ]
     },
     "metadata": {},
     "output_type": "display_data"
    },
    {
     "name": "stdout",
     "output_type": "stream",
     "text": [
      "\n"
     ]
    },
    {
     "name": "stderr",
     "output_type": "stream",
     "text": [
      "WARNING:implicit:This method is deprecated. Please use the AlternatingLeastSquares class instead\n"
     ]
    },
    {
     "name": "stdout",
     "output_type": "stream",
     "text": [
      "Factor=30 - Alfa= 30 - Regularizacion=0.4 - iteracion = 100 - Evaluacion = (0.869, 0.814)\n",
      "2020-11-15 16:30:20.425085\n",
      "2020-11-15 16:30:20.425191\n"
     ]
    },
    {
     "data": {
      "application/vnd.jupyter.widget-view+json": {
       "model_id": "a500b6f1f3a942f888ce4199ca3cf611",
       "version_major": 2,
       "version_minor": 0
      },
      "text/plain": [
       "HBox(children=(HTML(value=''), FloatProgress(value=0.0, max=50.0), HTML(value='')))"
      ]
     },
     "metadata": {},
     "output_type": "display_data"
    },
    {
     "name": "stdout",
     "output_type": "stream",
     "text": [
      "\n"
     ]
    },
    {
     "name": "stderr",
     "output_type": "stream",
     "text": [
      "WARNING:implicit:This method is deprecated. Please use the AlternatingLeastSquares class instead\n"
     ]
    },
    {
     "name": "stdout",
     "output_type": "stream",
     "text": [
      "Factor=30 - Alfa= 30 - Regularizacion=0.4 - iteracion = 200 - Evaluacion = (0.869, 0.814)\n",
      "2020-11-15 16:30:36.925680\n",
      "2020-11-15 16:30:36.925788\n"
     ]
    },
    {
     "data": {
      "application/vnd.jupyter.widget-view+json": {
       "model_id": "8917056b51bd4b6c9579578d508a5cb2",
       "version_major": 2,
       "version_minor": 0
      },
      "text/plain": [
       "HBox(children=(HTML(value=''), FloatProgress(value=0.0, max=50.0), HTML(value='')))"
      ]
     },
     "metadata": {},
     "output_type": "display_data"
    },
    {
     "name": "stdout",
     "output_type": "stream",
     "text": [
      "\n"
     ]
    },
    {
     "name": "stderr",
     "output_type": "stream",
     "text": [
      "WARNING:implicit:This method is deprecated. Please use the AlternatingLeastSquares class instead\n"
     ]
    },
    {
     "name": "stdout",
     "output_type": "stream",
     "text": [
      "Factor=30 - Alfa= 35 - Regularizacion=0.025 - iteracion = 10 - Evaluacion = (0.869, 0.814)\n",
      "2020-11-15 16:30:53.592967\n",
      "2020-11-15 16:30:53.593074\n"
     ]
    },
    {
     "data": {
      "application/vnd.jupyter.widget-view+json": {
       "model_id": "3e45b53f07e94085a13cee579e4c0b71",
       "version_major": 2,
       "version_minor": 0
      },
      "text/plain": [
       "HBox(children=(HTML(value=''), FloatProgress(value=0.0, max=50.0), HTML(value='')))"
      ]
     },
     "metadata": {},
     "output_type": "display_data"
    },
    {
     "name": "stdout",
     "output_type": "stream",
     "text": [
      "\n"
     ]
    },
    {
     "name": "stderr",
     "output_type": "stream",
     "text": [
      "WARNING:implicit:This method is deprecated. Please use the AlternatingLeastSquares class instead\n"
     ]
    },
    {
     "name": "stdout",
     "output_type": "stream",
     "text": [
      "Factor=30 - Alfa= 35 - Regularizacion=0.025 - iteracion = 25 - Evaluacion = (0.871, 0.814)\n",
      "2020-11-15 16:31:10.367794\n",
      "2020-11-15 16:31:10.367898\n"
     ]
    },
    {
     "data": {
      "application/vnd.jupyter.widget-view+json": {
       "model_id": "4ce2a44278694770bfe3f0b2a049594b",
       "version_major": 2,
       "version_minor": 0
      },
      "text/plain": [
       "HBox(children=(HTML(value=''), FloatProgress(value=0.0, max=50.0), HTML(value='')))"
      ]
     },
     "metadata": {},
     "output_type": "display_data"
    },
    {
     "name": "stdout",
     "output_type": "stream",
     "text": [
      "\n"
     ]
    },
    {
     "name": "stderr",
     "output_type": "stream",
     "text": [
      "WARNING:implicit:This method is deprecated. Please use the AlternatingLeastSquares class instead\n"
     ]
    },
    {
     "name": "stdout",
     "output_type": "stream",
     "text": [
      "Factor=30 - Alfa= 35 - Regularizacion=0.025 - iteracion = 50 - Evaluacion = (0.871, 0.814)\n",
      "2020-11-15 16:31:26.925545\n",
      "2020-11-15 16:31:26.925653\n"
     ]
    },
    {
     "data": {
      "application/vnd.jupyter.widget-view+json": {
       "model_id": "8b95183e15224851b81aef25c0a15c54",
       "version_major": 2,
       "version_minor": 0
      },
      "text/plain": [
       "HBox(children=(HTML(value=''), FloatProgress(value=0.0, max=50.0), HTML(value='')))"
      ]
     },
     "metadata": {},
     "output_type": "display_data"
    },
    {
     "name": "stdout",
     "output_type": "stream",
     "text": [
      "\n"
     ]
    },
    {
     "name": "stderr",
     "output_type": "stream",
     "text": [
      "WARNING:implicit:This method is deprecated. Please use the AlternatingLeastSquares class instead\n"
     ]
    },
    {
     "name": "stdout",
     "output_type": "stream",
     "text": [
      "Factor=30 - Alfa= 35 - Regularizacion=0.025 - iteracion = 100 - Evaluacion = (0.87, 0.814)\n",
      "2020-11-15 16:31:43.433271\n",
      "2020-11-15 16:31:43.433373\n"
     ]
    },
    {
     "data": {
      "application/vnd.jupyter.widget-view+json": {
       "model_id": "0d5a4c88a9924be1870fbe0ddbedc6dc",
       "version_major": 2,
       "version_minor": 0
      },
      "text/plain": [
       "HBox(children=(HTML(value=''), FloatProgress(value=0.0, max=50.0), HTML(value='')))"
      ]
     },
     "metadata": {},
     "output_type": "display_data"
    },
    {
     "name": "stdout",
     "output_type": "stream",
     "text": [
      "\n"
     ]
    },
    {
     "name": "stderr",
     "output_type": "stream",
     "text": [
      "WARNING:implicit:This method is deprecated. Please use the AlternatingLeastSquares class instead\n"
     ]
    },
    {
     "name": "stdout",
     "output_type": "stream",
     "text": [
      "Factor=30 - Alfa= 35 - Regularizacion=0.025 - iteracion = 200 - Evaluacion = (0.872, 0.814)\n",
      "2020-11-15 16:32:00.033605\n",
      "2020-11-15 16:32:00.033780\n"
     ]
    },
    {
     "data": {
      "application/vnd.jupyter.widget-view+json": {
       "model_id": "f3a2dc1667874358af240fa9f98e73e5",
       "version_major": 2,
       "version_minor": 0
      },
      "text/plain": [
       "HBox(children=(HTML(value=''), FloatProgress(value=0.0, max=50.0), HTML(value='')))"
      ]
     },
     "metadata": {},
     "output_type": "display_data"
    },
    {
     "name": "stdout",
     "output_type": "stream",
     "text": [
      "\n"
     ]
    },
    {
     "name": "stderr",
     "output_type": "stream",
     "text": [
      "WARNING:implicit:This method is deprecated. Please use the AlternatingLeastSquares class instead\n"
     ]
    },
    {
     "name": "stdout",
     "output_type": "stream",
     "text": [
      "Factor=30 - Alfa= 35 - Regularizacion=0.05 - iteracion = 10 - Evaluacion = (0.871, 0.814)\n",
      "2020-11-15 16:32:16.667581\n",
      "2020-11-15 16:32:16.667674\n"
     ]
    },
    {
     "data": {
      "application/vnd.jupyter.widget-view+json": {
       "model_id": "ca33a68dfba94151b30187920e8c8f0c",
       "version_major": 2,
       "version_minor": 0
      },
      "text/plain": [
       "HBox(children=(HTML(value=''), FloatProgress(value=0.0, max=50.0), HTML(value='')))"
      ]
     },
     "metadata": {},
     "output_type": "display_data"
    },
    {
     "name": "stdout",
     "output_type": "stream",
     "text": [
      "\n"
     ]
    },
    {
     "name": "stderr",
     "output_type": "stream",
     "text": [
      "WARNING:implicit:This method is deprecated. Please use the AlternatingLeastSquares class instead\n"
     ]
    },
    {
     "name": "stdout",
     "output_type": "stream",
     "text": [
      "Factor=30 - Alfa= 35 - Regularizacion=0.05 - iteracion = 25 - Evaluacion = (0.869, 0.814)\n",
      "2020-11-15 16:32:33.357616\n",
      "2020-11-15 16:32:33.357718\n"
     ]
    },
    {
     "data": {
      "application/vnd.jupyter.widget-view+json": {
       "model_id": "beddc78e71704f7fa557d113735bb004",
       "version_major": 2,
       "version_minor": 0
      },
      "text/plain": [
       "HBox(children=(HTML(value=''), FloatProgress(value=0.0, max=50.0), HTML(value='')))"
      ]
     },
     "metadata": {},
     "output_type": "display_data"
    },
    {
     "name": "stdout",
     "output_type": "stream",
     "text": [
      "\n"
     ]
    },
    {
     "name": "stderr",
     "output_type": "stream",
     "text": [
      "WARNING:implicit:This method is deprecated. Please use the AlternatingLeastSquares class instead\n"
     ]
    },
    {
     "name": "stdout",
     "output_type": "stream",
     "text": [
      "Factor=30 - Alfa= 35 - Regularizacion=0.05 - iteracion = 50 - Evaluacion = (0.87, 0.814)\n",
      "2020-11-15 16:32:50.119300\n",
      "2020-11-15 16:32:50.119405\n"
     ]
    },
    {
     "data": {
      "application/vnd.jupyter.widget-view+json": {
       "model_id": "6d72032b5f94433f90b85e8e6ea2f5df",
       "version_major": 2,
       "version_minor": 0
      },
      "text/plain": [
       "HBox(children=(HTML(value=''), FloatProgress(value=0.0, max=50.0), HTML(value='')))"
      ]
     },
     "metadata": {},
     "output_type": "display_data"
    },
    {
     "name": "stdout",
     "output_type": "stream",
     "text": [
      "\n"
     ]
    },
    {
     "name": "stderr",
     "output_type": "stream",
     "text": [
      "WARNING:implicit:This method is deprecated. Please use the AlternatingLeastSquares class instead\n"
     ]
    },
    {
     "name": "stdout",
     "output_type": "stream",
     "text": [
      "Factor=30 - Alfa= 35 - Regularizacion=0.05 - iteracion = 100 - Evaluacion = (0.87, 0.814)\n",
      "2020-11-15 16:33:07.031241\n",
      "2020-11-15 16:33:07.031334\n"
     ]
    },
    {
     "data": {
      "application/vnd.jupyter.widget-view+json": {
       "model_id": "4dd878eea11a4a1ab83dbac8a81396ff",
       "version_major": 2,
       "version_minor": 0
      },
      "text/plain": [
       "HBox(children=(HTML(value=''), FloatProgress(value=0.0, max=50.0), HTML(value='')))"
      ]
     },
     "metadata": {},
     "output_type": "display_data"
    },
    {
     "name": "stdout",
     "output_type": "stream",
     "text": [
      "\n"
     ]
    },
    {
     "name": "stderr",
     "output_type": "stream",
     "text": [
      "WARNING:implicit:This method is deprecated. Please use the AlternatingLeastSquares class instead\n"
     ]
    },
    {
     "name": "stdout",
     "output_type": "stream",
     "text": [
      "Factor=30 - Alfa= 35 - Regularizacion=0.05 - iteracion = 200 - Evaluacion = (0.871, 0.814)\n",
      "2020-11-15 16:33:24.768113\n",
      "2020-11-15 16:33:24.768213\n"
     ]
    },
    {
     "data": {
      "application/vnd.jupyter.widget-view+json": {
       "model_id": "65af074a242a4ca9a9dfca80c08f3f3c",
       "version_major": 2,
       "version_minor": 0
      },
      "text/plain": [
       "HBox(children=(HTML(value=''), FloatProgress(value=0.0, max=50.0), HTML(value='')))"
      ]
     },
     "metadata": {},
     "output_type": "display_data"
    },
    {
     "name": "stdout",
     "output_type": "stream",
     "text": [
      "\n"
     ]
    },
    {
     "name": "stderr",
     "output_type": "stream",
     "text": [
      "WARNING:implicit:This method is deprecated. Please use the AlternatingLeastSquares class instead\n"
     ]
    },
    {
     "name": "stdout",
     "output_type": "stream",
     "text": [
      "Factor=30 - Alfa= 35 - Regularizacion=0.1 - iteracion = 10 - Evaluacion = (0.871, 0.814)\n",
      "2020-11-15 16:33:43.269057\n",
      "2020-11-15 16:33:43.269169\n"
     ]
    },
    {
     "data": {
      "application/vnd.jupyter.widget-view+json": {
       "model_id": "a8dcd1a89fb643bd826f1d53fce8f158",
       "version_major": 2,
       "version_minor": 0
      },
      "text/plain": [
       "HBox(children=(HTML(value=''), FloatProgress(value=0.0, max=50.0), HTML(value='')))"
      ]
     },
     "metadata": {},
     "output_type": "display_data"
    },
    {
     "name": "stdout",
     "output_type": "stream",
     "text": [
      "\n"
     ]
    },
    {
     "name": "stderr",
     "output_type": "stream",
     "text": [
      "WARNING:implicit:This method is deprecated. Please use the AlternatingLeastSquares class instead\n"
     ]
    },
    {
     "name": "stdout",
     "output_type": "stream",
     "text": [
      "Factor=30 - Alfa= 35 - Regularizacion=0.1 - iteracion = 25 - Evaluacion = (0.87, 0.814)\n",
      "2020-11-15 16:34:04.268036\n",
      "2020-11-15 16:34:04.268146\n"
     ]
    },
    {
     "data": {
      "application/vnd.jupyter.widget-view+json": {
       "model_id": "8d9fd9017637463ab9d1b6b9975f6164",
       "version_major": 2,
       "version_minor": 0
      },
      "text/plain": [
       "HBox(children=(HTML(value=''), FloatProgress(value=0.0, max=50.0), HTML(value='')))"
      ]
     },
     "metadata": {},
     "output_type": "display_data"
    },
    {
     "name": "stdout",
     "output_type": "stream",
     "text": [
      "\n"
     ]
    },
    {
     "name": "stderr",
     "output_type": "stream",
     "text": [
      "WARNING:implicit:This method is deprecated. Please use the AlternatingLeastSquares class instead\n"
     ]
    },
    {
     "name": "stdout",
     "output_type": "stream",
     "text": [
      "Factor=30 - Alfa= 35 - Regularizacion=0.1 - iteracion = 50 - Evaluacion = (0.871, 0.814)\n",
      "2020-11-15 16:34:22.007183\n",
      "2020-11-15 16:34:22.007290\n"
     ]
    },
    {
     "data": {
      "application/vnd.jupyter.widget-view+json": {
       "model_id": "165f5a0d7cd448f199e7e4eafc7365fe",
       "version_major": 2,
       "version_minor": 0
      },
      "text/plain": [
       "HBox(children=(HTML(value=''), FloatProgress(value=0.0, max=50.0), HTML(value='')))"
      ]
     },
     "metadata": {},
     "output_type": "display_data"
    },
    {
     "name": "stdout",
     "output_type": "stream",
     "text": [
      "\n"
     ]
    },
    {
     "name": "stderr",
     "output_type": "stream",
     "text": [
      "WARNING:implicit:This method is deprecated. Please use the AlternatingLeastSquares class instead\n"
     ]
    },
    {
     "name": "stdout",
     "output_type": "stream",
     "text": [
      "Factor=30 - Alfa= 35 - Regularizacion=0.1 - iteracion = 100 - Evaluacion = (0.87, 0.814)\n",
      "2020-11-15 16:34:39.776894\n",
      "2020-11-15 16:34:39.777000\n"
     ]
    },
    {
     "data": {
      "application/vnd.jupyter.widget-view+json": {
       "model_id": "d995f951056c4a748c9578504f5c52a2",
       "version_major": 2,
       "version_minor": 0
      },
      "text/plain": [
       "HBox(children=(HTML(value=''), FloatProgress(value=0.0, max=50.0), HTML(value='')))"
      ]
     },
     "metadata": {},
     "output_type": "display_data"
    },
    {
     "name": "stdout",
     "output_type": "stream",
     "text": [
      "\n"
     ]
    },
    {
     "name": "stderr",
     "output_type": "stream",
     "text": [
      "WARNING:implicit:This method is deprecated. Please use the AlternatingLeastSquares class instead\n"
     ]
    },
    {
     "name": "stdout",
     "output_type": "stream",
     "text": [
      "Factor=30 - Alfa= 35 - Regularizacion=0.1 - iteracion = 200 - Evaluacion = (0.87, 0.814)\n",
      "2020-11-15 16:34:55.679438\n",
      "2020-11-15 16:34:55.679539\n"
     ]
    },
    {
     "data": {
      "application/vnd.jupyter.widget-view+json": {
       "model_id": "f8b082bae9ac4c89b99f79e5097aba75",
       "version_major": 2,
       "version_minor": 0
      },
      "text/plain": [
       "HBox(children=(HTML(value=''), FloatProgress(value=0.0, max=50.0), HTML(value='')))"
      ]
     },
     "metadata": {},
     "output_type": "display_data"
    },
    {
     "name": "stdout",
     "output_type": "stream",
     "text": [
      "\n"
     ]
    },
    {
     "name": "stderr",
     "output_type": "stream",
     "text": [
      "WARNING:implicit:This method is deprecated. Please use the AlternatingLeastSquares class instead\n"
     ]
    },
    {
     "name": "stdout",
     "output_type": "stream",
     "text": [
      "Factor=30 - Alfa= 35 - Regularizacion=0.2 - iteracion = 10 - Evaluacion = (0.87, 0.814)\n",
      "2020-11-15 16:35:11.131222\n",
      "2020-11-15 16:35:11.131326\n"
     ]
    },
    {
     "data": {
      "application/vnd.jupyter.widget-view+json": {
       "model_id": "d82c75ddb4da462f9469ea4f3cb47f47",
       "version_major": 2,
       "version_minor": 0
      },
      "text/plain": [
       "HBox(children=(HTML(value=''), FloatProgress(value=0.0, max=50.0), HTML(value='')))"
      ]
     },
     "metadata": {},
     "output_type": "display_data"
    },
    {
     "name": "stdout",
     "output_type": "stream",
     "text": [
      "\n"
     ]
    },
    {
     "name": "stderr",
     "output_type": "stream",
     "text": [
      "WARNING:implicit:This method is deprecated. Please use the AlternatingLeastSquares class instead\n"
     ]
    },
    {
     "name": "stdout",
     "output_type": "stream",
     "text": [
      "Factor=30 - Alfa= 35 - Regularizacion=0.2 - iteracion = 25 - Evaluacion = (0.871, 0.814)\n",
      "2020-11-15 16:35:26.537574\n",
      "2020-11-15 16:35:26.537676\n"
     ]
    },
    {
     "data": {
      "application/vnd.jupyter.widget-view+json": {
       "model_id": "ac16043839fd48f094f989a01e5dad80",
       "version_major": 2,
       "version_minor": 0
      },
      "text/plain": [
       "HBox(children=(HTML(value=''), FloatProgress(value=0.0, max=50.0), HTML(value='')))"
      ]
     },
     "metadata": {},
     "output_type": "display_data"
    },
    {
     "name": "stdout",
     "output_type": "stream",
     "text": [
      "\n"
     ]
    },
    {
     "name": "stderr",
     "output_type": "stream",
     "text": [
      "WARNING:implicit:This method is deprecated. Please use the AlternatingLeastSquares class instead\n"
     ]
    },
    {
     "name": "stdout",
     "output_type": "stream",
     "text": [
      "Factor=30 - Alfa= 35 - Regularizacion=0.2 - iteracion = 50 - Evaluacion = (0.87, 0.814)\n",
      "2020-11-15 16:35:41.931851\n",
      "2020-11-15 16:35:41.931955\n"
     ]
    },
    {
     "data": {
      "application/vnd.jupyter.widget-view+json": {
       "model_id": "5d14edee2b1c4250b1e69b57ff51b9a7",
       "version_major": 2,
       "version_minor": 0
      },
      "text/plain": [
       "HBox(children=(HTML(value=''), FloatProgress(value=0.0, max=50.0), HTML(value='')))"
      ]
     },
     "metadata": {},
     "output_type": "display_data"
    },
    {
     "name": "stdout",
     "output_type": "stream",
     "text": [
      "\n"
     ]
    },
    {
     "name": "stderr",
     "output_type": "stream",
     "text": [
      "WARNING:implicit:This method is deprecated. Please use the AlternatingLeastSquares class instead\n"
     ]
    },
    {
     "name": "stdout",
     "output_type": "stream",
     "text": [
      "Factor=30 - Alfa= 35 - Regularizacion=0.2 - iteracion = 100 - Evaluacion = (0.87, 0.814)\n",
      "2020-11-15 16:35:57.674327\n",
      "2020-11-15 16:35:57.674427\n"
     ]
    },
    {
     "data": {
      "application/vnd.jupyter.widget-view+json": {
       "model_id": "4645ddb7b6e74263ace62bdb54f1e5c5",
       "version_major": 2,
       "version_minor": 0
      },
      "text/plain": [
       "HBox(children=(HTML(value=''), FloatProgress(value=0.0, max=50.0), HTML(value='')))"
      ]
     },
     "metadata": {},
     "output_type": "display_data"
    },
    {
     "name": "stdout",
     "output_type": "stream",
     "text": [
      "\n"
     ]
    },
    {
     "name": "stderr",
     "output_type": "stream",
     "text": [
      "WARNING:implicit:This method is deprecated. Please use the AlternatingLeastSquares class instead\n"
     ]
    },
    {
     "name": "stdout",
     "output_type": "stream",
     "text": [
      "Factor=30 - Alfa= 35 - Regularizacion=0.2 - iteracion = 200 - Evaluacion = (0.871, 0.814)\n",
      "2020-11-15 16:36:13.064235\n",
      "2020-11-15 16:36:13.064340\n"
     ]
    },
    {
     "data": {
      "application/vnd.jupyter.widget-view+json": {
       "model_id": "c1d67736fc374931ae2c59fee6bf39cc",
       "version_major": 2,
       "version_minor": 0
      },
      "text/plain": [
       "HBox(children=(HTML(value=''), FloatProgress(value=0.0, max=50.0), HTML(value='')))"
      ]
     },
     "metadata": {},
     "output_type": "display_data"
    },
    {
     "name": "stdout",
     "output_type": "stream",
     "text": [
      "\n"
     ]
    },
    {
     "name": "stderr",
     "output_type": "stream",
     "text": [
      "WARNING:implicit:This method is deprecated. Please use the AlternatingLeastSquares class instead\n"
     ]
    },
    {
     "name": "stdout",
     "output_type": "stream",
     "text": [
      "Factor=30 - Alfa= 35 - Regularizacion=0.4 - iteracion = 10 - Evaluacion = (0.871, 0.814)\n",
      "2020-11-15 16:36:28.559351\n",
      "2020-11-15 16:36:28.559454\n"
     ]
    },
    {
     "data": {
      "application/vnd.jupyter.widget-view+json": {
       "model_id": "e0bc010bcc044e2f99a32de08979bbdc",
       "version_major": 2,
       "version_minor": 0
      },
      "text/plain": [
       "HBox(children=(HTML(value=''), FloatProgress(value=0.0, max=50.0), HTML(value='')))"
      ]
     },
     "metadata": {},
     "output_type": "display_data"
    },
    {
     "name": "stdout",
     "output_type": "stream",
     "text": [
      "\n"
     ]
    },
    {
     "name": "stderr",
     "output_type": "stream",
     "text": [
      "WARNING:implicit:This method is deprecated. Please use the AlternatingLeastSquares class instead\n"
     ]
    },
    {
     "name": "stdout",
     "output_type": "stream",
     "text": [
      "Factor=30 - Alfa= 35 - Regularizacion=0.4 - iteracion = 25 - Evaluacion = (0.871, 0.814)\n",
      "2020-11-15 16:36:44.060772\n",
      "2020-11-15 16:36:44.060877\n"
     ]
    },
    {
     "data": {
      "application/vnd.jupyter.widget-view+json": {
       "model_id": "61a9756b65cc4fa19b94d1a0f302b21b",
       "version_major": 2,
       "version_minor": 0
      },
      "text/plain": [
       "HBox(children=(HTML(value=''), FloatProgress(value=0.0, max=50.0), HTML(value='')))"
      ]
     },
     "metadata": {},
     "output_type": "display_data"
    },
    {
     "name": "stdout",
     "output_type": "stream",
     "text": [
      "\n"
     ]
    },
    {
     "name": "stderr",
     "output_type": "stream",
     "text": [
      "WARNING:implicit:This method is deprecated. Please use the AlternatingLeastSquares class instead\n"
     ]
    },
    {
     "name": "stdout",
     "output_type": "stream",
     "text": [
      "Factor=30 - Alfa= 35 - Regularizacion=0.4 - iteracion = 50 - Evaluacion = (0.872, 0.814)\n",
      "2020-11-15 16:36:59.454463\n",
      "2020-11-15 16:36:59.454564\n"
     ]
    },
    {
     "data": {
      "application/vnd.jupyter.widget-view+json": {
       "model_id": "9df1f93209344f888cff7063a0ed8ba9",
       "version_major": 2,
       "version_minor": 0
      },
      "text/plain": [
       "HBox(children=(HTML(value=''), FloatProgress(value=0.0, max=50.0), HTML(value='')))"
      ]
     },
     "metadata": {},
     "output_type": "display_data"
    },
    {
     "name": "stdout",
     "output_type": "stream",
     "text": [
      "\n"
     ]
    },
    {
     "name": "stderr",
     "output_type": "stream",
     "text": [
      "WARNING:implicit:This method is deprecated. Please use the AlternatingLeastSquares class instead\n"
     ]
    },
    {
     "name": "stdout",
     "output_type": "stream",
     "text": [
      "Factor=30 - Alfa= 35 - Regularizacion=0.4 - iteracion = 100 - Evaluacion = (0.87, 0.814)\n",
      "2020-11-15 16:37:14.846695\n",
      "2020-11-15 16:37:14.846796\n"
     ]
    },
    {
     "data": {
      "application/vnd.jupyter.widget-view+json": {
       "model_id": "a25531c2ff574662b19b5618b5464497",
       "version_major": 2,
       "version_minor": 0
      },
      "text/plain": [
       "HBox(children=(HTML(value=''), FloatProgress(value=0.0, max=50.0), HTML(value='')))"
      ]
     },
     "metadata": {},
     "output_type": "display_data"
    },
    {
     "name": "stdout",
     "output_type": "stream",
     "text": [
      "\n",
      "Factor=30 - Alfa= 35 - Regularizacion=0.4 - iteracion = 200 - Evaluacion = (0.871, 0.814)\n",
      "2020-11-15 16:37:30.262759\n"
     ]
    }
   ],
   "source": [
    "from prettytable import PrettyTable\n",
    "# Inicializamos la tabla donde guardamos los resultados\n",
    "x = PrettyTable([\"Inicio\",\"Fin\",\"Factores\",\"Alpha\",\"Regularizacion\",\"Iteraciones\",\"Evaluacion\"])\n",
    "\n",
    "# factor\n",
    "# alfa\n",
    "# regularizacion\n",
    "# iteraciones\n",
    "\n",
    "for factor in [10,20,30]:\n",
    "    \n",
    "    for alfa in [5,10,15,30,35]:\n",
    "        \n",
    "        for regularizacion in [0.025,0.05,0.1,0.2,0.4]:\n",
    "            \n",
    "            for iteracion in [10,25,50,100,200]:\n",
    "                \n",
    "                hora_inicio = datetime.datetime.now()\n",
    "                \n",
    "                print(hora_inicio)\n",
    "\n",
    "                user_vecs, item_vecs = implicit.alternating_least_squares((CE*alpha).astype('double'), \n",
    "                                                                          factors=20, \n",
    "                                                                          regularization = 0.1, \n",
    "                                                                          iterations = 50)\n",
    "                desempenio = AUC_val(CE, users_V, [sparse.csr_matrix(user_vecs), sparse.csr_matrix(item_vecs.T)], CV)\n",
    "  \n",
    "                hora_fin = datetime.datetime.now()\n",
    "    \n",
    "                # Imprimimos el desempeño para cada repetición\n",
    "                print('Factor='+ str(factor) + ' - Alfa= ' + str(alfa) + ' - Regularizacion=' + str(regularizacion) + ' - iteracion = ' + str(iteracion) + ' - Evaluacion = ' + str(desempenio))\n",
    "\n",
    "                print(hora_fin)\n",
    "\n",
    "                x.add_row([hora_inicio, hora_fin, factor, alfa, regularizacion, iteracion, desempenio])\n"
   ]
  },
  {
   "cell_type": "code",
   "execution_count": 68,
   "metadata": {
    "scrolled": true
   },
   "outputs": [
    {
     "name": "stdout",
     "output_type": "stream",
     "text": [
      "+----------------------------+----------------------------+----------+-------+----------------+-------------+----------------+\n",
      "|           Inicio           |            Fin             | Factores | Alpha | Regularizacion | Iteraciones |   Evaluacion   |\n",
      "+----------------------------+----------------------------+----------+-------+----------------+-------------+----------------+\n",
      "| 2020-11-15 14:50:07.576023 | 2020-11-15 14:50:24.715615 |    10    |   5   |     0.025      |      10     | (0.872, 0.814) |\n",
      "| 2020-11-15 14:50:24.715720 | 2020-11-15 14:50:42.091137 |    10    |   5   |     0.025      |      25     | (0.872, 0.814) |\n",
      "| 2020-11-15 14:50:42.091243 | 2020-11-15 14:50:59.117397 |    10    |   5   |     0.025      |      50     | (0.871, 0.814) |\n",
      "| 2020-11-15 14:50:59.117503 | 2020-11-15 14:51:16.066141 |    10    |   5   |     0.025      |     100     | (0.871, 0.814) |\n",
      "| 2020-11-15 14:51:16.066248 | 2020-11-15 14:51:34.532649 |    10    |   5   |     0.025      |     200     | (0.871, 0.814) |\n",
      "| 2020-11-15 14:51:34.532753 | 2020-11-15 14:51:52.154195 |    10    |   5   |      0.05      |      10     | (0.871, 0.814) |\n",
      "| 2020-11-15 14:51:52.154325 | 2020-11-15 14:52:09.863152 |    10    |   5   |      0.05      |      25     | (0.87, 0.814)  |\n",
      "| 2020-11-15 14:52:09.863252 | 2020-11-15 14:52:27.588594 |    10    |   5   |      0.05      |      50     | (0.87, 0.814)  |\n",
      "| 2020-11-15 14:52:27.588695 | 2020-11-15 14:52:45.257192 |    10    |   5   |      0.05      |     100     | (0.87, 0.814)  |\n",
      "| 2020-11-15 14:52:45.258448 | 2020-11-15 14:53:03.317319 |    10    |   5   |      0.05      |     200     | (0.87, 0.814)  |\n",
      "| 2020-11-15 14:53:03.317483 | 2020-11-15 14:53:21.361006 |    10    |   5   |      0.1       |      10     | (0.871, 0.814) |\n",
      "| 2020-11-15 14:53:21.361128 | 2020-11-15 14:53:39.099407 |    10    |   5   |      0.1       |      25     | (0.871, 0.814) |\n",
      "| 2020-11-15 14:53:39.099581 | 2020-11-15 14:53:55.799914 |    10    |   5   |      0.1       |      50     | (0.871, 0.814) |\n",
      "| 2020-11-15 14:53:55.800020 | 2020-11-15 14:54:12.300456 |    10    |   5   |      0.1       |     100     | (0.871, 0.814) |\n",
      "| 2020-11-15 14:54:12.300564 | 2020-11-15 14:54:29.351803 |    10    |   5   |      0.1       |     200     | (0.87, 0.814)  |\n",
      "| 2020-11-15 14:54:29.351906 | 2020-11-15 14:54:46.778327 |    10    |   5   |      0.2       |      10     | (0.871, 0.814) |\n",
      "| 2020-11-15 14:54:46.778427 | 2020-11-15 14:55:04.020917 |    10    |   5   |      0.2       |      25     | (0.87, 0.814)  |\n",
      "| 2020-11-15 14:55:04.021021 | 2020-11-15 14:55:22.363370 |    10    |   5   |      0.2       |      50     | (0.87, 0.814)  |\n",
      "| 2020-11-15 14:55:22.363474 | 2020-11-15 14:55:40.971165 |    10    |   5   |      0.2       |     100     | (0.869, 0.814) |\n",
      "| 2020-11-15 14:55:40.971263 | 2020-11-15 14:55:58.365262 |    10    |   5   |      0.2       |     200     | (0.87, 0.814)  |\n",
      "| 2020-11-15 14:55:58.365357 | 2020-11-15 14:56:15.211771 |    10    |   5   |      0.4       |      10     | (0.871, 0.814) |\n",
      "| 2020-11-15 14:56:15.211865 | 2020-11-15 14:56:32.202565 |    10    |   5   |      0.4       |      25     | (0.87, 0.814)  |\n",
      "| 2020-11-15 14:56:32.202686 | 2020-11-15 14:56:49.240360 |    10    |   5   |      0.4       |      50     | (0.87, 0.814)  |\n",
      "| 2020-11-15 14:56:49.240461 | 2020-11-15 14:57:06.224855 |    10    |   5   |      0.4       |     100     | (0.872, 0.814) |\n",
      "| 2020-11-15 14:57:06.224953 | 2020-11-15 14:57:23.159882 |    10    |   5   |      0.4       |     200     | (0.869, 0.814) |\n",
      "| 2020-11-15 14:57:23.159986 | 2020-11-15 14:57:40.062976 |    10    |   10  |     0.025      |      10     | (0.87, 0.814)  |\n",
      "| 2020-11-15 14:57:40.063082 | 2020-11-15 14:57:57.341358 |    10    |   10  |     0.025      |      25     | (0.871, 0.814) |\n",
      "| 2020-11-15 14:57:57.341489 | 2020-11-15 14:58:15.620221 |    10    |   10  |     0.025      |      50     | (0.872, 0.814) |\n",
      "| 2020-11-15 14:58:15.620317 | 2020-11-15 14:58:32.968307 |    10    |   10  |     0.025      |     100     | (0.872, 0.814) |\n",
      "| 2020-11-15 14:58:32.968457 | 2020-11-15 14:58:50.486197 |    10    |   10  |     0.025      |     200     | (0.871, 0.814) |\n",
      "| 2020-11-15 14:58:50.486336 | 2020-11-15 14:59:07.925127 |    10    |   10  |      0.05      |      10     | (0.87, 0.814)  |\n",
      "| 2020-11-15 14:59:07.925217 | 2020-11-15 14:59:25.008193 |    10    |   10  |      0.05      |      25     | (0.87, 0.814)  |\n",
      "| 2020-11-15 14:59:25.008420 | 2020-11-15 14:59:42.297740 |    10    |   10  |      0.05      |      50     | (0.87, 0.814)  |\n",
      "| 2020-11-15 14:59:42.297864 | 2020-11-15 14:59:59.466015 |    10    |   10  |      0.05      |     100     | (0.87, 0.814)  |\n",
      "| 2020-11-15 14:59:59.466112 | 2020-11-15 15:00:16.907640 |    10    |   10  |      0.05      |     200     | (0.87, 0.814)  |\n",
      "| 2020-11-15 15:00:16.907855 | 2020-11-15 15:00:33.930678 |    10    |   10  |      0.1       |      10     | (0.87, 0.814)  |\n",
      "| 2020-11-15 15:00:33.930780 | 2020-11-15 15:00:51.021045 |    10    |   10  |      0.1       |      25     | (0.871, 0.814) |\n",
      "| 2020-11-15 15:00:51.021136 | 2020-11-15 15:01:07.937847 |    10    |   10  |      0.1       |      50     | (0.871, 0.814) |\n",
      "| 2020-11-15 15:01:07.937950 | 2020-11-15 15:01:24.931713 |    10    |   10  |      0.1       |     100     | (0.87, 0.814)  |\n",
      "| 2020-11-15 15:01:24.931818 | 2020-11-15 15:01:42.249295 |    10    |   10  |      0.1       |     200     | (0.87, 0.814)  |\n",
      "| 2020-11-15 15:01:42.249391 | 2020-11-15 15:01:59.564100 |    10    |   10  |      0.2       |      10     | (0.87, 0.814)  |\n",
      "| 2020-11-15 15:01:59.564209 | 2020-11-15 15:02:16.298473 |    10    |   10  |      0.2       |      25     | (0.87, 0.814)  |\n",
      "| 2020-11-15 15:02:16.298580 | 2020-11-15 15:02:33.636072 |    10    |   10  |      0.2       |      50     | (0.871, 0.814) |\n",
      "| 2020-11-15 15:02:33.636185 | 2020-11-15 15:02:51.222269 |    10    |   10  |      0.2       |     100     | (0.87, 0.814)  |\n",
      "| 2020-11-15 15:02:51.222365 | 2020-11-15 15:03:08.698096 |    10    |   10  |      0.2       |     200     | (0.871, 0.814) |\n",
      "| 2020-11-15 15:03:08.698190 | 2020-11-15 15:03:25.989031 |    10    |   10  |      0.4       |      10     | (0.871, 0.814) |\n",
      "| 2020-11-15 15:03:25.989129 | 2020-11-15 15:03:45.449068 |    10    |   10  |      0.4       |      25     | (0.871, 0.814) |\n",
      "| 2020-11-15 15:03:45.449207 | 2020-11-15 15:04:03.953881 |    10    |   10  |      0.4       |      50     | (0.871, 0.814) |\n",
      "| 2020-11-15 15:04:03.953988 | 2020-11-15 15:04:21.879286 |    10    |   10  |      0.4       |     100     | (0.87, 0.814)  |\n",
      "| 2020-11-15 15:04:21.879391 | 2020-11-15 15:04:39.199608 |    10    |   10  |      0.4       |     200     | (0.87, 0.814)  |\n",
      "| 2020-11-15 15:04:39.199714 | 2020-11-15 15:04:58.141120 |    10    |   15  |     0.025      |      10     | (0.872, 0.814) |\n",
      "| 2020-11-15 15:04:58.141216 | 2020-11-15 15:05:16.411764 |    10    |   15  |     0.025      |      25     | (0.869, 0.814) |\n",
      "| 2020-11-15 15:05:16.411957 | 2020-11-15 15:05:34.803565 |    10    |   15  |     0.025      |      50     | (0.87, 0.814)  |\n",
      "| 2020-11-15 15:05:34.803671 | 2020-11-15 15:05:52.963262 |    10    |   15  |     0.025      |     100     | (0.87, 0.814)  |\n",
      "| 2020-11-15 15:05:52.963364 | 2020-11-15 15:06:09.787056 |    10    |   15  |     0.025      |     200     | (0.871, 0.814) |\n",
      "| 2020-11-15 15:06:09.787177 | 2020-11-15 15:06:26.570031 |    10    |   15  |      0.05      |      10     | (0.87, 0.814)  |\n",
      "| 2020-11-15 15:06:26.570139 | 2020-11-15 15:06:43.320509 |    10    |   15  |      0.05      |      25     | (0.871, 0.814) |\n",
      "| 2020-11-15 15:06:43.320604 | 2020-11-15 15:07:00.908930 |    10    |   15  |      0.05      |      50     | (0.871, 0.814) |\n",
      "| 2020-11-15 15:07:00.909413 | 2020-11-15 15:07:19.868652 |    10    |   15  |      0.05      |     100     | (0.871, 0.814) |\n",
      "| 2020-11-15 15:07:19.868803 | 2020-11-15 15:07:36.602936 |    10    |   15  |      0.05      |     200     | (0.872, 0.814) |\n",
      "| 2020-11-15 15:07:36.603086 | 2020-11-15 15:07:53.743764 |    10    |   15  |      0.1       |      10     | (0.87, 0.814)  |\n",
      "| 2020-11-15 15:07:53.743868 | 2020-11-15 15:08:10.939626 |    10    |   15  |      0.1       |      25     | (0.871, 0.814) |\n",
      "| 2020-11-15 15:08:10.939732 | 2020-11-15 15:08:28.097152 |    10    |   15  |      0.1       |      50     | (0.871, 0.814) |\n",
      "| 2020-11-15 15:08:28.097257 | 2020-11-15 15:08:44.787133 |    10    |   15  |      0.1       |     100     | (0.871, 0.814) |\n",
      "| 2020-11-15 15:08:44.787245 | 2020-11-15 15:09:01.261159 |    10    |   15  |      0.1       |     200     | (0.87, 0.814)  |\n",
      "| 2020-11-15 15:09:01.261264 | 2020-11-15 15:09:17.769190 |    10    |   15  |      0.2       |      10     | (0.87, 0.814)  |\n",
      "| 2020-11-15 15:09:17.769572 | 2020-11-15 15:09:34.408439 |    10    |   15  |      0.2       |      25     | (0.87, 0.814)  |\n",
      "| 2020-11-15 15:09:34.408555 | 2020-11-15 15:09:50.914877 |    10    |   15  |      0.2       |      50     | (0.87, 0.814)  |\n",
      "| 2020-11-15 15:09:50.914983 | 2020-11-15 15:10:07.428295 |    10    |   15  |      0.2       |     100     | (0.871, 0.814) |\n",
      "| 2020-11-15 15:10:07.428405 | 2020-11-15 15:10:23.988518 |    10    |   15  |      0.2       |     200     | (0.871, 0.814) |\n",
      "| 2020-11-15 15:10:23.988696 | 2020-11-15 15:10:41.348908 |    10    |   15  |      0.4       |      10     | (0.871, 0.814) |\n",
      "| 2020-11-15 15:10:41.349014 | 2020-11-15 15:10:58.804227 |    10    |   15  |      0.4       |      25     | (0.871, 0.814) |\n",
      "| 2020-11-15 15:10:58.804381 | 2020-11-15 15:11:15.487677 |    10    |   15  |      0.4       |      50     | (0.871, 0.814) |\n",
      "| 2020-11-15 15:11:15.487781 | 2020-11-15 15:11:34.238760 |    10    |   15  |      0.4       |     100     | (0.871, 0.814) |\n",
      "| 2020-11-15 15:11:34.238864 | 2020-11-15 15:11:54.004085 |    10    |   15  |      0.4       |     200     | (0.869, 0.814) |\n",
      "| 2020-11-15 15:11:54.004242 | 2020-11-15 15:12:11.548493 |    10    |   30  |     0.025      |      10     | (0.871, 0.814) |\n",
      "| 2020-11-15 15:12:11.548587 | 2020-11-15 15:12:29.154533 |    10    |   30  |     0.025      |      25     | (0.87, 0.814)  |\n",
      "| 2020-11-15 15:12:29.154658 | 2020-11-15 15:12:47.268649 |    10    |   30  |     0.025      |      50     | (0.871, 0.814) |\n",
      "| 2020-11-15 15:12:47.268749 | 2020-11-15 15:13:06.136393 |    10    |   30  |     0.025      |     100     | (0.87, 0.814)  |\n",
      "| 2020-11-15 15:13:06.136862 | 2020-11-15 15:13:25.116177 |    10    |   30  |     0.025      |     200     | (0.87, 0.814)  |\n",
      "| 2020-11-15 15:13:25.116415 | 2020-11-15 15:13:43.465335 |    10    |   30  |      0.05      |      10     | (0.871, 0.814) |\n",
      "| 2020-11-15 15:13:43.465437 | 2020-11-15 15:14:00.973166 |    10    |   30  |      0.05      |      25     | (0.871, 0.814) |\n",
      "| 2020-11-15 15:14:00.973265 | 2020-11-15 15:14:18.562028 |    10    |   30  |      0.05      |      50     | (0.871, 0.814) |\n",
      "| 2020-11-15 15:14:18.562133 | 2020-11-15 15:14:38.079274 |    10    |   30  |      0.05      |     100     | (0.87, 0.814)  |\n",
      "| 2020-11-15 15:14:38.079444 | 2020-11-15 15:14:58.783274 |    10    |   30  |      0.05      |     200     | (0.87, 0.814)  |\n",
      "| 2020-11-15 15:14:58.783377 | 2020-11-15 15:15:16.085747 |    10    |   30  |      0.1       |      10     | (0.87, 0.814)  |\n",
      "| 2020-11-15 15:15:16.085853 | 2020-11-15 15:15:33.605144 |    10    |   30  |      0.1       |      25     | (0.872, 0.814) |\n",
      "| 2020-11-15 15:15:33.605354 | 2020-11-15 15:15:51.048574 |    10    |   30  |      0.1       |      50     | (0.87, 0.814)  |\n",
      "| 2020-11-15 15:15:51.048730 | 2020-11-15 15:16:07.620860 |    10    |   30  |      0.1       |     100     | (0.871, 0.814) |\n",
      "| 2020-11-15 15:16:07.621027 | 2020-11-15 15:16:24.164745 |    10    |   30  |      0.1       |     200     | (0.871, 0.814) |\n",
      "| 2020-11-15 15:16:24.164853 | 2020-11-15 15:16:40.799426 |    10    |   30  |      0.2       |      10     | (0.87, 0.814)  |\n",
      "| 2020-11-15 15:16:40.799635 | 2020-11-15 15:16:57.689956 |    10    |   30  |      0.2       |      25     | (0.871, 0.814) |\n",
      "| 2020-11-15 15:16:57.690061 | 2020-11-15 15:17:14.253564 |    10    |   30  |      0.2       |      50     | (0.871, 0.814) |\n",
      "| 2020-11-15 15:17:14.253672 | 2020-11-15 15:17:30.903163 |    10    |   30  |      0.2       |     100     | (0.87, 0.814)  |\n",
      "| 2020-11-15 15:17:30.903265 | 2020-11-15 15:17:48.289136 |    10    |   30  |      0.2       |     200     | (0.87, 0.814)  |\n",
      "| 2020-11-15 15:17:48.289372 | 2020-11-15 15:18:05.944989 |    10    |   30  |      0.4       |      10     | (0.871, 0.814) |\n",
      "| 2020-11-15 15:18:05.945093 | 2020-11-15 15:18:23.859844 |    10    |   30  |      0.4       |      25     | (0.871, 0.814) |\n",
      "| 2020-11-15 15:18:23.859986 | 2020-11-15 15:18:40.668319 |    10    |   30  |      0.4       |      50     | (0.871, 0.814) |\n",
      "| 2020-11-15 15:18:40.668421 | 2020-11-15 15:18:57.726315 |    10    |   30  |      0.4       |     100     | (0.871, 0.814) |\n",
      "| 2020-11-15 15:18:57.726451 | 2020-11-15 15:19:14.543060 |    10    |   30  |      0.4       |     200     | (0.872, 0.814) |\n",
      "| 2020-11-15 15:19:14.543167 | 2020-11-15 15:19:32.117894 |    10    |   35  |     0.025      |      10     | (0.871, 0.814) |\n",
      "| 2020-11-15 15:19:32.118068 | 2020-11-15 15:19:50.408272 |    10    |   35  |     0.025      |      25     | (0.872, 0.814) |\n",
      "| 2020-11-15 15:19:50.408365 | 2020-11-15 15:20:08.840382 |    10    |   35  |     0.025      |      50     | (0.87, 0.814)  |\n",
      "| 2020-11-15 15:20:08.840645 | 2020-11-15 15:20:25.769168 |    10    |   35  |     0.025      |     100     | (0.87, 0.814)  |\n",
      "| 2020-11-15 15:20:25.769274 | 2020-11-15 15:20:45.629600 |    10    |   35  |     0.025      |     200     | (0.871, 0.814) |\n",
      "| 2020-11-15 15:20:45.629720 | 2020-11-15 15:21:03.036909 |    10    |   35  |      0.05      |      10     | (0.871, 0.814) |\n",
      "| 2020-11-15 15:21:03.037017 | 2020-11-15 15:21:19.732319 |    10    |   35  |      0.05      |      25     | (0.87, 0.814)  |\n",
      "| 2020-11-15 15:21:19.732427 | 2020-11-15 15:21:36.495923 |    10    |   35  |      0.05      |      50     | (0.869, 0.814) |\n",
      "| 2020-11-15 15:21:36.496036 | 2020-11-15 15:21:54.447500 |    10    |   35  |      0.05      |     100     | (0.87, 0.814)  |\n",
      "| 2020-11-15 15:21:54.447720 | 2020-11-15 15:22:12.619300 |    10    |   35  |      0.05      |     200     | (0.87, 0.814)  |\n",
      "| 2020-11-15 15:22:12.619433 | 2020-11-15 15:22:29.114048 |    10    |   35  |      0.1       |      10     | (0.87, 0.814)  |\n",
      "| 2020-11-15 15:22:29.114150 | 2020-11-15 15:22:46.089076 |    10    |   35  |      0.1       |      25     | (0.871, 0.814) |\n",
      "| 2020-11-15 15:22:46.089179 | 2020-11-15 15:23:03.735488 |    10    |   35  |      0.1       |      50     | (0.87, 0.814)  |\n",
      "| 2020-11-15 15:23:03.735600 | 2020-11-15 15:23:21.347425 |    10    |   35  |      0.1       |     100     | (0.871, 0.814) |\n",
      "| 2020-11-15 15:23:21.347528 | 2020-11-15 15:23:38.304634 |    10    |   35  |      0.1       |     200     | (0.87, 0.814)  |\n",
      "| 2020-11-15 15:23:38.304739 | 2020-11-15 15:23:56.003593 |    10    |   35  |      0.2       |      10     | (0.869, 0.814) |\n",
      "| 2020-11-15 15:23:56.003715 | 2020-11-15 15:24:15.317163 |    10    |   35  |      0.2       |      25     | (0.87, 0.814)  |\n",
      "| 2020-11-15 15:24:15.317271 | 2020-11-15 15:24:34.061992 |    10    |   35  |      0.2       |      50     | (0.87, 0.814)  |\n",
      "| 2020-11-15 15:24:34.062109 | 2020-11-15 15:24:51.545341 |    10    |   35  |      0.2       |     100     | (0.871, 0.814) |\n",
      "| 2020-11-15 15:24:51.545545 | 2020-11-15 15:25:09.472098 |    10    |   35  |      0.2       |     200     | (0.87, 0.814)  |\n",
      "| 2020-11-15 15:25:09.472204 | 2020-11-15 15:25:28.298363 |    10    |   35  |      0.4       |      10     | (0.87, 0.814)  |\n",
      "| 2020-11-15 15:25:28.298475 | 2020-11-15 15:25:46.394020 |    10    |   35  |      0.4       |      25     | (0.871, 0.814) |\n",
      "| 2020-11-15 15:25:46.394170 | 2020-11-15 15:26:04.160607 |    10    |   35  |      0.4       |      50     | (0.87, 0.814)  |\n",
      "| 2020-11-15 15:26:04.160752 | 2020-11-15 15:26:21.430154 |    10    |   35  |      0.4       |     100     | (0.87, 0.814)  |\n",
      "| 2020-11-15 15:26:21.430354 | 2020-11-15 15:26:38.760565 |    10    |   35  |      0.4       |     200     | (0.871, 0.814) |\n",
      "| 2020-11-15 15:26:38.760730 | 2020-11-15 15:26:56.128113 |    20    |   5   |     0.025      |      10     | (0.871, 0.814) |\n",
      "| 2020-11-15 15:26:56.128211 | 2020-11-15 15:27:17.457775 |    20    |   5   |     0.025      |      25     | (0.871, 0.814) |\n",
      "| 2020-11-15 15:27:17.457916 | 2020-11-15 15:27:36.768988 |    20    |   5   |     0.025      |      50     | (0.87, 0.814)  |\n",
      "| 2020-11-15 15:27:36.769089 | 2020-11-15 15:27:55.314710 |    20    |   5   |     0.025      |     100     | (0.871, 0.814) |\n",
      "| 2020-11-15 15:27:55.314807 | 2020-11-15 15:28:14.470415 |    20    |   5   |     0.025      |     200     | (0.87, 0.814)  |\n",
      "| 2020-11-15 15:28:14.471118 | 2020-11-15 15:28:32.073737 |    20    |   5   |      0.05      |      10     | (0.871, 0.814) |\n",
      "| 2020-11-15 15:28:32.073841 | 2020-11-15 15:28:50.423452 |    20    |   5   |      0.05      |      25     | (0.871, 0.814) |\n",
      "| 2020-11-15 15:28:50.423576 | 2020-11-15 15:29:10.174518 |    20    |   5   |      0.05      |      50     | (0.87, 0.814)  |\n",
      "| 2020-11-15 15:29:10.174630 | 2020-11-15 15:29:29.111867 |    20    |   5   |      0.05      |     100     | (0.872, 0.814) |\n",
      "| 2020-11-15 15:29:29.112003 | 2020-11-15 15:29:48.247098 |    20    |   5   |      0.05      |     200     | (0.871, 0.814) |\n",
      "| 2020-11-15 15:29:48.247199 | 2020-11-15 15:30:06.182593 |    20    |   5   |      0.1       |      10     | (0.87, 0.814)  |\n",
      "| 2020-11-15 15:30:06.182711 | 2020-11-15 15:30:23.715802 |    20    |   5   |      0.1       |      25     | (0.871, 0.814) |\n",
      "| 2020-11-15 15:30:23.715913 | 2020-11-15 15:30:40.933030 |    20    |   5   |      0.1       |      50     | (0.87, 0.814)  |\n",
      "| 2020-11-15 15:30:40.933143 | 2020-11-15 15:30:58.815287 |    20    |   5   |      0.1       |     100     | (0.871, 0.814) |\n",
      "| 2020-11-15 15:30:58.815387 | 2020-11-15 15:31:17.552501 |    20    |   5   |      0.1       |     200     | (0.871, 0.814) |\n",
      "| 2020-11-15 15:31:17.552622 | 2020-11-15 15:31:36.265096 |    20    |   5   |      0.2       |      10     | (0.871, 0.814) |\n",
      "| 2020-11-15 15:31:36.265207 | 2020-11-15 15:31:56.765053 |    20    |   5   |      0.2       |      25     | (0.871, 0.814) |\n",
      "| 2020-11-15 15:31:56.765147 | 2020-11-15 15:32:15.231274 |    20    |   5   |      0.2       |      50     | (0.871, 0.814) |\n",
      "| 2020-11-15 15:32:15.231378 | 2020-11-15 15:32:34.781224 |    20    |   5   |      0.2       |     100     | (0.871, 0.814) |\n",
      "| 2020-11-15 15:32:34.781447 | 2020-11-15 15:32:53.895528 |    20    |   5   |      0.2       |     200     | (0.871, 0.814) |\n",
      "| 2020-11-15 15:32:53.895793 | 2020-11-15 15:33:13.026376 |    20    |   5   |      0.4       |      10     | (0.871, 0.814) |\n",
      "| 2020-11-15 15:33:13.026504 | 2020-11-15 15:33:30.373059 |    20    |   5   |      0.4       |      25     | (0.871, 0.814) |\n",
      "| 2020-11-15 15:33:30.373166 | 2020-11-15 15:33:47.886052 |    20    |   5   |      0.4       |      50     | (0.869, 0.814) |\n",
      "| 2020-11-15 15:33:47.886158 | 2020-11-15 15:34:05.206196 |    20    |   5   |      0.4       |     100     | (0.869, 0.814) |\n",
      "| 2020-11-15 15:34:05.206307 | 2020-11-15 15:34:23.387035 |    20    |   5   |      0.4       |     200     | (0.871, 0.814) |\n",
      "| 2020-11-15 15:34:23.387201 | 2020-11-15 15:34:41.115121 |    20    |   10  |     0.025      |      10     | (0.871, 0.814) |\n",
      "| 2020-11-15 15:34:41.115261 | 2020-11-15 15:34:58.630588 |    20    |   10  |     0.025      |      25     | (0.872, 0.814) |\n",
      "| 2020-11-15 15:34:58.630736 | 2020-11-15 15:35:16.177524 |    20    |   10  |     0.025      |      50     | (0.871, 0.814) |\n",
      "| 2020-11-15 15:35:16.177632 | 2020-11-15 15:35:32.758393 |    20    |   10  |     0.025      |     100     | (0.872, 0.814) |\n",
      "| 2020-11-15 15:35:32.758500 | 2020-11-15 15:35:49.266718 |    20    |   10  |     0.025      |     200     | (0.871, 0.814) |\n",
      "| 2020-11-15 15:35:49.266827 | 2020-11-15 15:36:05.932444 |    20    |   10  |      0.05      |      10     | (0.871, 0.814) |\n",
      "| 2020-11-15 15:36:05.932548 | 2020-11-15 15:36:22.468883 |    20    |   10  |      0.05      |      25     | (0.87, 0.814)  |\n",
      "| 2020-11-15 15:36:22.468986 | 2020-11-15 15:36:39.050835 |    20    |   10  |      0.05      |      50     | (0.87, 0.814)  |\n",
      "| 2020-11-15 15:36:39.050938 | 2020-11-15 15:36:55.777101 |    20    |   10  |      0.05      |     100     | (0.871, 0.814) |\n",
      "| 2020-11-15 15:36:55.777199 | 2020-11-15 15:37:13.022816 |    20    |   10  |      0.05      |     200     | (0.871, 0.814) |\n",
      "| 2020-11-15 15:37:13.022941 | 2020-11-15 15:37:30.384497 |    20    |   10  |      0.1       |      10     | (0.87, 0.814)  |\n",
      "| 2020-11-15 15:37:30.384588 | 2020-11-15 15:37:47.599100 |    20    |   10  |      0.1       |      25     | (0.871, 0.814) |\n",
      "| 2020-11-15 15:37:47.599194 | 2020-11-15 15:38:04.987065 |    20    |   10  |      0.1       |      50     | (0.87, 0.814)  |\n",
      "| 2020-11-15 15:38:04.987159 | 2020-11-15 15:38:22.801165 |    20    |   10  |      0.1       |     100     | (0.869, 0.814) |\n",
      "| 2020-11-15 15:38:22.801332 | 2020-11-15 15:38:39.918120 |    20    |   10  |      0.1       |     200     | (0.871, 0.814) |\n",
      "| 2020-11-15 15:38:39.918237 | 2020-11-15 15:38:56.933265 |    20    |   10  |      0.2       |      10     | (0.87, 0.814)  |\n",
      "| 2020-11-15 15:38:56.933364 | 2020-11-15 15:39:14.867037 |    20    |   10  |      0.2       |      25     | (0.871, 0.814) |\n",
      "| 2020-11-15 15:39:14.867131 | 2020-11-15 15:39:32.858872 |    20    |   10  |      0.2       |      50     | (0.87, 0.814)  |\n",
      "| 2020-11-15 15:39:32.859030 | 2020-11-15 15:39:50.664227 |    20    |   10  |      0.2       |     100     | (0.871, 0.814) |\n",
      "| 2020-11-15 15:39:50.664319 | 2020-11-15 15:40:07.818701 |    20    |   10  |      0.2       |     200     | (0.87, 0.814)  |\n",
      "| 2020-11-15 15:40:07.818809 | 2020-11-15 15:40:25.816342 |    20    |   10  |      0.4       |      10     | (0.87, 0.814)  |\n",
      "| 2020-11-15 15:40:25.816514 | 2020-11-15 15:40:43.657444 |    20    |   10  |      0.4       |      25     | (0.87, 0.814)  |\n",
      "| 2020-11-15 15:40:43.657554 | 2020-11-15 15:41:01.066479 |    20    |   10  |      0.4       |      50     | (0.871, 0.814) |\n",
      "| 2020-11-15 15:41:01.066592 | 2020-11-15 15:41:18.316445 |    20    |   10  |      0.4       |     100     | (0.869, 0.814) |\n",
      "| 2020-11-15 15:41:18.316561 | 2020-11-15 15:41:35.558548 |    20    |   10  |      0.4       |     200     | (0.871, 0.814) |\n",
      "| 2020-11-15 15:41:35.558651 | 2020-11-15 15:41:54.218140 |    20    |   15  |     0.025      |      10     | (0.871, 0.814) |\n",
      "| 2020-11-15 15:41:54.218255 | 2020-11-15 15:42:10.772776 |    20    |   15  |     0.025      |      25     | (0.871, 0.814) |\n",
      "| 2020-11-15 15:42:10.772879 | 2020-11-15 15:42:27.166745 |    20    |   15  |     0.025      |      50     | (0.87, 0.814)  |\n",
      "| 2020-11-15 15:42:27.166854 | 2020-11-15 15:42:43.659419 |    20    |   15  |     0.025      |     100     | (0.871, 0.814) |\n",
      "| 2020-11-15 15:42:43.659528 | 2020-11-15 15:43:00.830224 |    20    |   15  |     0.025      |     200     | (0.871, 0.814) |\n",
      "| 2020-11-15 15:43:00.830358 | 2020-11-15 15:43:18.667973 |    20    |   15  |      0.05      |      10     | (0.87, 0.814)  |\n",
      "| 2020-11-15 15:43:18.668100 | 2020-11-15 15:43:35.885131 |    20    |   15  |      0.05      |      25     | (0.872, 0.814) |\n",
      "| 2020-11-15 15:43:35.885235 | 2020-11-15 15:43:52.413374 |    20    |   15  |      0.05      |      50     | (0.871, 0.814) |\n",
      "| 2020-11-15 15:43:52.413480 | 2020-11-15 15:44:09.371043 |    20    |   15  |      0.05      |     100     | (0.871, 0.814) |\n",
      "| 2020-11-15 15:44:09.371146 | 2020-11-15 15:44:26.302076 |    20    |   15  |      0.05      |     200     | (0.87, 0.814)  |\n",
      "| 2020-11-15 15:44:26.302230 | 2020-11-15 15:44:44.084116 |    20    |   15  |      0.1       |      10     | (0.87, 0.814)  |\n",
      "| 2020-11-15 15:44:44.084205 | 2020-11-15 15:45:01.239640 |    20    |   15  |      0.1       |      25     | (0.871, 0.814) |\n",
      "| 2020-11-15 15:45:01.239854 | 2020-11-15 15:45:18.879138 |    20    |   15  |      0.1       |      50     | (0.87, 0.814)  |\n",
      "| 2020-11-15 15:45:18.879264 | 2020-11-15 15:45:37.121393 |    20    |   15  |      0.1       |     100     | (0.871, 0.814) |\n",
      "| 2020-11-15 15:45:37.121493 | 2020-11-15 15:45:54.946084 |    20    |   15  |      0.1       |     200     | (0.871, 0.814) |\n",
      "| 2020-11-15 15:45:54.946200 | 2020-11-15 15:46:12.507573 |    20    |   15  |      0.2       |      10     | (0.87, 0.814)  |\n",
      "| 2020-11-15 15:46:12.507726 | 2020-11-15 15:46:29.699451 |    20    |   15  |      0.2       |      25     | (0.871, 0.814) |\n",
      "| 2020-11-15 15:46:29.699552 | 2020-11-15 15:46:46.245493 |    20    |   15  |      0.2       |      50     | (0.871, 0.814) |\n",
      "| 2020-11-15 15:46:46.245609 | 2020-11-15 15:47:02.729555 |    20    |   15  |      0.2       |     100     | (0.87, 0.814)  |\n",
      "| 2020-11-15 15:47:02.729659 | 2020-11-15 15:47:19.305676 |    20    |   15  |      0.2       |     200     | (0.871, 0.814) |\n",
      "| 2020-11-15 15:47:19.305783 | 2020-11-15 15:47:35.726434 |    20    |   15  |      0.4       |      10     | (0.871, 0.814) |\n",
      "| 2020-11-15 15:47:35.726540 | 2020-11-15 15:47:52.343293 |    20    |   15  |      0.4       |      25     | (0.87, 0.814)  |\n",
      "| 2020-11-15 15:47:52.343472 | 2020-11-15 15:48:08.546819 |    20    |   15  |      0.4       |      50     | (0.871, 0.814) |\n",
      "| 2020-11-15 15:48:08.546923 | 2020-11-15 15:48:24.790612 |    20    |   15  |      0.4       |     100     | (0.871, 0.814) |\n",
      "| 2020-11-15 15:48:24.790717 | 2020-11-15 15:48:40.802903 |    20    |   15  |      0.4       |     200     | (0.87, 0.814)  |\n",
      "| 2020-11-15 15:48:40.803047 | 2020-11-15 15:48:56.907654 |    20    |   30  |     0.025      |      10     | (0.87, 0.814)  |\n",
      "| 2020-11-15 15:48:56.907755 | 2020-11-15 15:49:13.481114 |    20    |   30  |     0.025      |      25     | (0.869, 0.814) |\n",
      "| 2020-11-15 15:49:13.481222 | 2020-11-15 15:49:30.503208 |    20    |   30  |     0.025      |      50     | (0.871, 0.814) |\n",
      "| 2020-11-15 15:49:30.503403 | 2020-11-15 15:49:47.927045 |    20    |   30  |     0.025      |     100     | (0.87, 0.814)  |\n",
      "| 2020-11-15 15:49:47.927140 | 2020-11-15 15:50:05.305760 |    20    |   30  |     0.025      |     200     | (0.87, 0.814)  |\n",
      "| 2020-11-15 15:50:05.305855 | 2020-11-15 15:50:23.052045 |    20    |   30  |      0.05      |      10     | (0.871, 0.814) |\n",
      "| 2020-11-15 15:50:23.052144 | 2020-11-15 15:50:40.545981 |    20    |   30  |      0.05      |      25     | (0.87, 0.814)  |\n",
      "| 2020-11-15 15:50:40.546084 | 2020-11-15 15:50:58.443599 |    20    |   30  |      0.05      |      50     | (0.871, 0.814) |\n",
      "| 2020-11-15 15:50:58.443708 | 2020-11-15 15:51:16.651173 |    20    |   30  |      0.05      |     100     | (0.871, 0.814) |\n",
      "| 2020-11-15 15:51:16.651394 | 2020-11-15 15:51:37.682419 |    20    |   30  |      0.05      |     200     | (0.87, 0.814)  |\n",
      "| 2020-11-15 15:51:37.682528 | 2020-11-15 15:51:54.072589 |    20    |   30  |      0.1       |      10     | (0.871, 0.814) |\n",
      "| 2020-11-15 15:51:54.072793 | 2020-11-15 15:52:10.203555 |    20    |   30  |      0.1       |      25     | (0.87, 0.814)  |\n",
      "| 2020-11-15 15:52:10.203662 | 2020-11-15 15:52:26.549352 |    20    |   30  |      0.1       |      50     | (0.871, 0.814) |\n",
      "| 2020-11-15 15:52:26.549459 | 2020-11-15 15:52:42.739399 |    20    |   30  |      0.1       |     100     | (0.87, 0.814)  |\n",
      "| 2020-11-15 15:52:42.739505 | 2020-11-15 15:52:58.290804 |    20    |   30  |      0.1       |     200     | (0.871, 0.814) |\n",
      "| 2020-11-15 15:52:58.290911 | 2020-11-15 15:53:14.329836 |    20    |   30  |      0.2       |      10     | (0.869, 0.814) |\n",
      "| 2020-11-15 15:53:14.329940 | 2020-11-15 15:53:30.071775 |    20    |   30  |      0.2       |      25     | (0.871, 0.814) |\n",
      "| 2020-11-15 15:53:30.071881 | 2020-11-15 15:53:46.007508 |    20    |   30  |      0.2       |      50     | (0.869, 0.814) |\n",
      "| 2020-11-15 15:53:46.007611 | 2020-11-15 15:54:02.284301 |    20    |   30  |      0.2       |     100     | (0.87, 0.814)  |\n",
      "| 2020-11-15 15:54:02.284397 | 2020-11-15 15:54:19.203315 |    20    |   30  |      0.2       |     200     | (0.871, 0.814) |\n",
      "| 2020-11-15 15:54:19.203423 | 2020-11-15 15:54:36.343968 |    20    |   30  |      0.4       |      10     | (0.871, 0.814) |\n",
      "| 2020-11-15 15:54:36.344064 | 2020-11-15 15:54:53.264003 |    20    |   30  |      0.4       |      25     | (0.87, 0.814)  |\n",
      "| 2020-11-15 15:54:53.264215 | 2020-11-15 15:55:10.498551 |    20    |   30  |      0.4       |      50     | (0.87, 0.814)  |\n",
      "| 2020-11-15 15:55:10.498647 | 2020-11-15 15:55:27.266358 |    20    |   30  |      0.4       |     100     | (0.871, 0.814) |\n",
      "| 2020-11-15 15:55:27.266470 | 2020-11-15 15:55:43.989733 |    20    |   30  |      0.4       |     200     | (0.871, 0.814) |\n",
      "| 2020-11-15 15:55:43.989827 | 2020-11-15 15:56:01.740113 |    20    |   35  |     0.025      |      10     | (0.871, 0.814) |\n",
      "| 2020-11-15 15:56:01.740209 | 2020-11-15 15:56:18.266715 |    20    |   35  |     0.025      |      25     | (0.872, 0.814) |\n",
      "| 2020-11-15 15:56:18.266833 | 2020-11-15 15:56:35.161691 |    20    |   35  |     0.025      |      50     | (0.872, 0.814) |\n",
      "| 2020-11-15 15:56:35.161784 | 2020-11-15 15:56:52.146861 |    20    |   35  |     0.025      |     100     | (0.87, 0.814)  |\n",
      "| 2020-11-15 15:56:52.146977 | 2020-11-15 15:57:09.247553 |    20    |   35  |     0.025      |     200     | (0.871, 0.814) |\n",
      "| 2020-11-15 15:57:09.247712 | 2020-11-15 15:57:26.967090 |    20    |   35  |      0.05      |      10     | (0.87, 0.814)  |\n",
      "| 2020-11-15 15:57:26.967216 | 2020-11-15 15:57:44.285133 |    20    |   35  |      0.05      |      25     | (0.87, 0.814)  |\n",
      "| 2020-11-15 15:57:44.285229 | 2020-11-15 15:58:00.835177 |    20    |   35  |      0.05      |      50     | (0.871, 0.814) |\n",
      "| 2020-11-15 15:58:00.835282 | 2020-11-15 15:58:17.409637 |    20    |   35  |      0.05      |     100     | (0.871, 0.814) |\n",
      "| 2020-11-15 15:58:17.409749 | 2020-11-15 15:58:34.021267 |    20    |   35  |      0.05      |     200     | (0.871, 0.814) |\n",
      "| 2020-11-15 15:58:34.021399 | 2020-11-15 15:58:51.750664 |    20    |   35  |      0.1       |      10     | (0.87, 0.814)  |\n",
      "| 2020-11-15 15:58:51.750805 | 2020-11-15 15:59:09.533789 |    20    |   35  |      0.1       |      25     | (0.871, 0.814) |\n",
      "| 2020-11-15 15:59:09.533884 | 2020-11-15 15:59:26.359511 |    20    |   35  |      0.1       |      50     | (0.87, 0.814)  |\n",
      "| 2020-11-15 15:59:26.359603 | 2020-11-15 15:59:43.263872 |    20    |   35  |      0.1       |     100     | (0.871, 0.814) |\n",
      "| 2020-11-15 15:59:43.263977 | 2020-11-15 16:00:00.153648 |    20    |   35  |      0.1       |     200     | (0.87, 0.814)  |\n",
      "| 2020-11-15 16:00:00.153737 | 2020-11-15 16:00:16.851936 |    20    |   35  |      0.2       |      10     | (0.87, 0.814)  |\n",
      "| 2020-11-15 16:00:16.852047 | 2020-11-15 16:00:33.565665 |    20    |   35  |      0.2       |      25     | (0.87, 0.814)  |\n",
      "| 2020-11-15 16:00:33.565781 | 2020-11-15 16:00:50.175113 |    20    |   35  |      0.2       |      50     | (0.871, 0.814) |\n",
      "| 2020-11-15 16:00:50.175307 | 2020-11-15 16:01:07.507935 |    20    |   35  |      0.2       |     100     | (0.871, 0.814) |\n",
      "| 2020-11-15 16:01:07.508167 | 2020-11-15 16:01:24.533468 |    20    |   35  |      0.2       |     200     | (0.87, 0.814)  |\n",
      "| 2020-11-15 16:01:24.533572 | 2020-11-15 16:01:41.116973 |    20    |   35  |      0.4       |      10     | (0.871, 0.814) |\n",
      "| 2020-11-15 16:01:41.117075 | 2020-11-15 16:01:58.242515 |    20    |   35  |      0.4       |      25     | (0.871, 0.814) |\n",
      "| 2020-11-15 16:01:58.242619 | 2020-11-15 16:02:14.981652 |    20    |   35  |      0.4       |      50     | (0.871, 0.814) |\n",
      "| 2020-11-15 16:02:14.981755 | 2020-11-15 16:02:31.899197 |    20    |   35  |      0.4       |     100     | (0.87, 0.814)  |\n",
      "| 2020-11-15 16:02:31.899297 | 2020-11-15 16:02:48.899584 |    20    |   35  |      0.4       |     200     | (0.87, 0.814)  |\n",
      "| 2020-11-15 16:02:48.899790 | 2020-11-15 16:03:05.959419 |    30    |   5   |     0.025      |      10     | (0.871, 0.814) |\n",
      "| 2020-11-15 16:03:05.959547 | 2020-11-15 16:03:22.764288 |    30    |   5   |     0.025      |      25     | (0.872, 0.814) |\n",
      "| 2020-11-15 16:03:22.764390 | 2020-11-15 16:03:39.473173 |    30    |   5   |     0.025      |      50     | (0.87, 0.814)  |\n",
      "| 2020-11-15 16:03:39.473280 | 2020-11-15 16:03:56.016176 |    30    |   5   |     0.025      |     100     | (0.87, 0.814)  |\n",
      "| 2020-11-15 16:03:56.016281 | 2020-11-15 16:04:12.691417 |    30    |   5   |     0.025      |     200     | (0.87, 0.814)  |\n",
      "| 2020-11-15 16:04:12.691523 | 2020-11-15 16:04:29.453809 |    30    |   5   |      0.05      |      10     | (0.871, 0.814) |\n",
      "| 2020-11-15 16:04:29.453914 | 2020-11-15 16:04:46.217855 |    30    |   5   |      0.05      |      25     | (0.871, 0.814) |\n",
      "| 2020-11-15 16:04:46.217967 | 2020-11-15 16:05:02.873391 |    30    |   5   |      0.05      |      50     | (0.871, 0.814) |\n",
      "| 2020-11-15 16:05:02.873534 | 2020-11-15 16:05:19.636597 |    30    |   5   |      0.05      |     100     | (0.87, 0.814)  |\n",
      "| 2020-11-15 16:05:19.636743 | 2020-11-15 16:05:36.159137 |    30    |   5   |      0.05      |     200     | (0.871, 0.814) |\n",
      "| 2020-11-15 16:05:36.159240 | 2020-11-15 16:05:53.071702 |    30    |   5   |      0.1       |      10     | (0.872, 0.814) |\n",
      "| 2020-11-15 16:05:53.071805 | 2020-11-15 16:06:10.015069 |    30    |   5   |      0.1       |      25     | (0.87, 0.814)  |\n",
      "| 2020-11-15 16:06:10.015172 | 2020-11-15 16:06:26.673924 |    30    |   5   |      0.1       |      50     | (0.872, 0.814) |\n",
      "| 2020-11-15 16:06:26.674025 | 2020-11-15 16:06:43.290380 |    30    |   5   |      0.1       |     100     | (0.871, 0.814) |\n",
      "| 2020-11-15 16:06:43.290535 | 2020-11-15 16:06:59.845187 |    30    |   5   |      0.1       |     200     | (0.87, 0.814)  |\n",
      "| 2020-11-15 16:06:59.845296 | 2020-11-15 16:07:16.897704 |    30    |   5   |      0.2       |      10     | (0.871, 0.814) |\n",
      "| 2020-11-15 16:07:16.897807 | 2020-11-15 16:07:33.605696 |    30    |   5   |      0.2       |      25     | (0.871, 0.814) |\n",
      "| 2020-11-15 16:07:33.605789 | 2020-11-15 16:07:50.108655 |    30    |   5   |      0.2       |      50     | (0.871, 0.814) |\n",
      "| 2020-11-15 16:07:50.108758 | 2020-11-15 16:08:06.899693 |    30    |   5   |      0.2       |     100     | (0.871, 0.814) |\n",
      "| 2020-11-15 16:08:06.899782 | 2020-11-15 16:08:23.459060 |    30    |   5   |      0.2       |     200     | (0.872, 0.814) |\n",
      "| 2020-11-15 16:08:23.459164 | 2020-11-15 16:08:40.188143 |    30    |   5   |      0.4       |      10     | (0.87, 0.814)  |\n",
      "| 2020-11-15 16:08:40.188243 | 2020-11-15 16:08:57.285881 |    30    |   5   |      0.4       |      25     | (0.87, 0.814)  |\n",
      "| 2020-11-15 16:08:57.285986 | 2020-11-15 16:09:13.834765 |    30    |   5   |      0.4       |      50     | (0.87, 0.814)  |\n",
      "| 2020-11-15 16:09:13.834870 | 2020-11-15 16:09:30.324285 |    30    |   5   |      0.4       |     100     | (0.869, 0.814) |\n",
      "| 2020-11-15 16:09:30.324389 | 2020-11-15 16:09:47.070456 |    30    |   5   |      0.4       |     200     | (0.871, 0.814) |\n",
      "| 2020-11-15 16:09:47.070556 | 2020-11-15 16:10:03.836118 |    30    |   10  |     0.025      |      10     | (0.87, 0.814)  |\n",
      "| 2020-11-15 16:10:03.836221 | 2020-11-15 16:10:20.507012 |    30    |   10  |     0.025      |      25     | (0.87, 0.814)  |\n",
      "| 2020-11-15 16:10:20.507116 | 2020-11-15 16:10:36.977206 |    30    |   10  |     0.025      |      50     | (0.87, 0.814)  |\n",
      "| 2020-11-15 16:10:36.977313 | 2020-11-15 16:10:53.467672 |    30    |   10  |     0.025      |     100     | (0.871, 0.814) |\n",
      "| 2020-11-15 16:10:53.467775 | 2020-11-15 16:11:10.157892 |    30    |   10  |     0.025      |     200     | (0.87, 0.814)  |\n",
      "| 2020-11-15 16:11:10.157996 | 2020-11-15 16:11:26.846443 |    30    |   10  |      0.05      |      10     | (0.872, 0.814) |\n",
      "| 2020-11-15 16:11:26.846548 | 2020-11-15 16:11:43.400035 |    30    |   10  |      0.05      |      25     | (0.869, 0.814) |\n",
      "| 2020-11-15 16:11:43.400138 | 2020-11-15 16:11:59.938696 |    30    |   10  |      0.05      |      50     | (0.871, 0.814) |\n",
      "| 2020-11-15 16:11:59.938801 | 2020-11-15 16:12:16.630067 |    30    |   10  |      0.05      |     100     | (0.87, 0.814)  |\n",
      "| 2020-11-15 16:12:16.630172 | 2020-11-15 16:12:33.284503 |    30    |   10  |      0.05      |     200     | (0.871, 0.814) |\n",
      "| 2020-11-15 16:12:33.284613 | 2020-11-15 16:12:49.976997 |    30    |   10  |      0.1       |      10     | (0.869, 0.814) |\n",
      "| 2020-11-15 16:12:49.977101 | 2020-11-15 16:13:07.001647 |    30    |   10  |      0.1       |      25     | (0.87, 0.814)  |\n",
      "| 2020-11-15 16:13:07.001787 | 2020-11-15 16:13:23.874684 |    30    |   10  |      0.1       |      50     | (0.869, 0.814) |\n",
      "| 2020-11-15 16:13:23.875028 | 2020-11-15 16:13:40.403405 |    30    |   10  |      0.1       |     100     | (0.871, 0.814) |\n",
      "| 2020-11-15 16:13:40.403508 | 2020-11-15 16:13:57.243544 |    30    |   10  |      0.1       |     200     | (0.871, 0.814) |\n",
      "| 2020-11-15 16:13:57.243650 | 2020-11-15 16:14:13.951573 |    30    |   10  |      0.2       |      10     | (0.871, 0.814) |\n",
      "| 2020-11-15 16:14:13.951678 | 2020-11-15 16:14:30.664479 |    30    |   10  |      0.2       |      25     | (0.869, 0.814) |\n",
      "| 2020-11-15 16:14:30.664677 | 2020-11-15 16:14:47.242943 |    30    |   10  |      0.2       |      50     | (0.87, 0.814)  |\n",
      "| 2020-11-15 16:14:47.243047 | 2020-11-15 16:15:03.876633 |    30    |   10  |      0.2       |     100     | (0.87, 0.814)  |\n",
      "| 2020-11-15 16:15:03.876963 | 2020-11-15 16:15:20.445851 |    30    |   10  |      0.2       |     200     | (0.871, 0.814) |\n",
      "| 2020-11-15 16:15:20.445956 | 2020-11-15 16:15:37.270827 |    30    |   10  |      0.4       |      10     | (0.87, 0.814)  |\n",
      "| 2020-11-15 16:15:37.270929 | 2020-11-15 16:15:53.829669 |    30    |   10  |      0.4       |      25     | (0.87, 0.814)  |\n",
      "| 2020-11-15 16:15:53.829775 | 2020-11-15 16:16:10.431165 |    30    |   10  |      0.4       |      50     | (0.871, 0.814) |\n",
      "| 2020-11-15 16:16:10.431267 | 2020-11-15 16:16:27.283341 |    30    |   10  |      0.4       |     100     | (0.87, 0.814)  |\n",
      "| 2020-11-15 16:16:27.283443 | 2020-11-15 16:16:43.819403 |    30    |   10  |      0.4       |     200     | (0.871, 0.814) |\n",
      "| 2020-11-15 16:16:43.819507 | 2020-11-15 16:17:00.343206 |    30    |   15  |     0.025      |      10     | (0.87, 0.814)  |\n",
      "| 2020-11-15 16:17:00.343311 | 2020-11-15 16:17:16.881275 |    30    |   15  |     0.025      |      25     | (0.87, 0.814)  |\n",
      "| 2020-11-15 16:17:16.881379 | 2020-11-15 16:17:33.389907 |    30    |   15  |     0.025      |      50     | (0.871, 0.814) |\n",
      "| 2020-11-15 16:17:33.390013 | 2020-11-15 16:17:50.241742 |    30    |   15  |     0.025      |     100     | (0.871, 0.814) |\n",
      "| 2020-11-15 16:17:50.241837 | 2020-11-15 16:18:06.804250 |    30    |   15  |     0.025      |     200     | (0.871, 0.814) |\n",
      "| 2020-11-15 16:18:06.804353 | 2020-11-15 16:18:23.380950 |    30    |   15  |      0.05      |      10     | (0.871, 0.814) |\n",
      "| 2020-11-15 16:18:23.381060 | 2020-11-15 16:18:39.927836 |    30    |   15  |      0.05      |      25     | (0.87, 0.814)  |\n",
      "| 2020-11-15 16:18:39.927941 | 2020-11-15 16:18:56.523271 |    30    |   15  |      0.05      |      50     | (0.871, 0.814) |\n",
      "| 2020-11-15 16:18:56.523374 | 2020-11-15 16:19:13.246108 |    30    |   15  |      0.05      |     100     | (0.87, 0.814)  |\n",
      "| 2020-11-15 16:19:13.246218 | 2020-11-15 16:19:30.246237 |    30    |   15  |      0.05      |     200     | (0.871, 0.814) |\n",
      "| 2020-11-15 16:19:30.246326 | 2020-11-15 16:19:46.764424 |    30    |   15  |      0.1       |      10     | (0.87, 0.814)  |\n",
      "| 2020-11-15 16:19:46.764528 | 2020-11-15 16:20:03.324259 |    30    |   15  |      0.1       |      25     | (0.869, 0.814) |\n",
      "| 2020-11-15 16:20:03.324480 | 2020-11-15 16:20:20.083683 |    30    |   15  |      0.1       |      50     | (0.87, 0.814)  |\n",
      "| 2020-11-15 16:20:20.083788 | 2020-11-15 16:20:36.644452 |    30    |   15  |      0.1       |     100     | (0.87, 0.814)  |\n",
      "| 2020-11-15 16:20:36.644557 | 2020-11-15 16:20:53.180426 |    30    |   15  |      0.1       |     200     | (0.87, 0.814)  |\n",
      "| 2020-11-15 16:20:53.180540 | 2020-11-15 16:21:09.723074 |    30    |   15  |      0.2       |      10     | (0.87, 0.814)  |\n",
      "| 2020-11-15 16:21:09.723217 | 2020-11-15 16:21:26.452972 |    30    |   15  |      0.2       |      25     | (0.871, 0.814) |\n",
      "| 2020-11-15 16:21:26.453076 | 2020-11-15 16:21:43.262001 |    30    |   15  |      0.2       |      50     | (0.871, 0.814) |\n",
      "| 2020-11-15 16:21:43.262108 | 2020-11-15 16:21:59.945735 |    30    |   15  |      0.2       |     100     | (0.87, 0.814)  |\n",
      "| 2020-11-15 16:21:59.945840 | 2020-11-15 16:22:16.519487 |    30    |   15  |      0.2       |     200     | (0.871, 0.814) |\n",
      "| 2020-11-15 16:22:16.519594 | 2020-11-15 16:22:33.073349 |    30    |   15  |      0.4       |      10     | (0.871, 0.814) |\n",
      "| 2020-11-15 16:22:33.073453 | 2020-11-15 16:22:49.696796 |    30    |   15  |      0.4       |      25     | (0.872, 0.814) |\n",
      "| 2020-11-15 16:22:49.697174 | 2020-11-15 16:23:06.428139 |    30    |   15  |      0.4       |      50     | (0.87, 0.814)  |\n",
      "| 2020-11-15 16:23:06.428245 | 2020-11-15 16:23:23.156620 |    30    |   15  |      0.4       |     100     | (0.87, 0.814)  |\n",
      "| 2020-11-15 16:23:23.156730 | 2020-11-15 16:23:39.848547 |    30    |   15  |      0.4       |     200     | (0.872, 0.814) |\n",
      "| 2020-11-15 16:23:39.848651 | 2020-11-15 16:23:56.354493 |    30    |   30  |     0.025      |      10     | (0.871, 0.814) |\n",
      "| 2020-11-15 16:23:56.354599 | 2020-11-15 16:24:13.206724 |    30    |   30  |     0.025      |      25     | (0.871, 0.814) |\n",
      "| 2020-11-15 16:24:13.206828 | 2020-11-15 16:24:30.080471 |    30    |   30  |     0.025      |      50     | (0.871, 0.814) |\n",
      "| 2020-11-15 16:24:30.080619 | 2020-11-15 16:24:47.274526 |    30    |   30  |     0.025      |     100     | (0.869, 0.814) |\n",
      "| 2020-11-15 16:24:47.274627 | 2020-11-15 16:25:04.036161 |    30    |   30  |     0.025      |     200     | (0.869, 0.814) |\n",
      "| 2020-11-15 16:25:04.036288 | 2020-11-15 16:25:20.666001 |    30    |   30  |      0.05      |      10     | (0.87, 0.814)  |\n",
      "| 2020-11-15 16:25:20.666218 | 2020-11-15 16:25:37.503340 |    30    |   30  |      0.05      |      25     | (0.872, 0.814) |\n",
      "| 2020-11-15 16:25:37.503430 | 2020-11-15 16:25:54.186423 |    30    |   30  |      0.05      |      50     | (0.871, 0.814) |\n",
      "| 2020-11-15 16:25:54.186536 | 2020-11-15 16:26:11.269207 |    30    |   30  |      0.05      |     100     | (0.871, 0.814) |\n",
      "| 2020-11-15 16:26:11.269308 | 2020-11-15 16:26:27.822420 |    30    |   30  |      0.05      |     200     | (0.871, 0.814) |\n",
      "| 2020-11-15 16:26:27.822525 | 2020-11-15 16:26:44.308146 |    30    |   30  |      0.1       |      10     | (0.869, 0.814) |\n",
      "| 2020-11-15 16:26:44.308253 | 2020-11-15 16:27:01.014759 |    30    |   30  |      0.1       |      25     | (0.869, 0.814) |\n",
      "| 2020-11-15 16:27:01.014860 | 2020-11-15 16:27:17.647468 |    30    |   30  |      0.1       |      50     | (0.87, 0.814)  |\n",
      "| 2020-11-15 16:27:17.647645 | 2020-11-15 16:27:34.138202 |    30    |   30  |      0.1       |     100     | (0.87, 0.814)  |\n",
      "| 2020-11-15 16:27:34.138312 | 2020-11-15 16:27:50.649779 |    30    |   30  |      0.1       |     200     | (0.871, 0.814) |\n",
      "| 2020-11-15 16:27:50.649886 | 2020-11-15 16:28:07.298715 |    30    |   30  |      0.2       |      10     | (0.87, 0.814)  |\n",
      "| 2020-11-15 16:28:07.298825 | 2020-11-15 16:28:23.852681 |    30    |   30  |      0.2       |      25     | (0.87, 0.814)  |\n",
      "| 2020-11-15 16:28:23.852784 | 2020-11-15 16:28:40.405790 |    30    |   30  |      0.2       |      50     | (0.871, 0.814) |\n",
      "| 2020-11-15 16:28:40.406093 | 2020-11-15 16:28:57.107712 |    30    |   30  |      0.2       |     100     | (0.871, 0.814) |\n",
      "| 2020-11-15 16:28:57.107815 | 2020-11-15 16:29:13.638850 |    30    |   30  |      0.2       |     200     | (0.871, 0.814) |\n",
      "| 2020-11-15 16:29:13.638960 | 2020-11-15 16:29:30.297112 |    30    |   30  |      0.4       |      10     | (0.869, 0.814) |\n",
      "| 2020-11-15 16:29:30.297208 | 2020-11-15 16:29:47.220274 |    30    |   30  |      0.4       |      25     | (0.87, 0.814)  |\n",
      "| 2020-11-15 16:29:47.220412 | 2020-11-15 16:30:03.943567 |    30    |   30  |      0.4       |      50     | (0.871, 0.814) |\n",
      "| 2020-11-15 16:30:03.943673 | 2020-11-15 16:30:20.425085 |    30    |   30  |      0.4       |     100     | (0.869, 0.814) |\n",
      "| 2020-11-15 16:30:20.425191 | 2020-11-15 16:30:36.925680 |    30    |   30  |      0.4       |     200     | (0.869, 0.814) |\n",
      "| 2020-11-15 16:30:36.925788 | 2020-11-15 16:30:53.592967 |    30    |   35  |     0.025      |      10     | (0.869, 0.814) |\n",
      "| 2020-11-15 16:30:53.593074 | 2020-11-15 16:31:10.367794 |    30    |   35  |     0.025      |      25     | (0.871, 0.814) |\n",
      "| 2020-11-15 16:31:10.367898 | 2020-11-15 16:31:26.925545 |    30    |   35  |     0.025      |      50     | (0.871, 0.814) |\n",
      "| 2020-11-15 16:31:26.925653 | 2020-11-15 16:31:43.433271 |    30    |   35  |     0.025      |     100     | (0.87, 0.814)  |\n",
      "| 2020-11-15 16:31:43.433373 | 2020-11-15 16:32:00.033605 |    30    |   35  |     0.025      |     200     | (0.872, 0.814) |\n",
      "| 2020-11-15 16:32:00.033780 | 2020-11-15 16:32:16.667581 |    30    |   35  |      0.05      |      10     | (0.871, 0.814) |\n",
      "| 2020-11-15 16:32:16.667674 | 2020-11-15 16:32:33.357616 |    30    |   35  |      0.05      |      25     | (0.869, 0.814) |\n",
      "| 2020-11-15 16:32:33.357718 | 2020-11-15 16:32:50.119300 |    30    |   35  |      0.05      |      50     | (0.87, 0.814)  |\n",
      "| 2020-11-15 16:32:50.119405 | 2020-11-15 16:33:07.031241 |    30    |   35  |      0.05      |     100     | (0.87, 0.814)  |\n",
      "| 2020-11-15 16:33:07.031334 | 2020-11-15 16:33:24.768113 |    30    |   35  |      0.05      |     200     | (0.871, 0.814) |\n",
      "| 2020-11-15 16:33:24.768213 | 2020-11-15 16:33:43.269057 |    30    |   35  |      0.1       |      10     | (0.871, 0.814) |\n",
      "| 2020-11-15 16:33:43.269169 | 2020-11-15 16:34:04.268036 |    30    |   35  |      0.1       |      25     | (0.87, 0.814)  |\n",
      "| 2020-11-15 16:34:04.268146 | 2020-11-15 16:34:22.007183 |    30    |   35  |      0.1       |      50     | (0.871, 0.814) |\n",
      "| 2020-11-15 16:34:22.007290 | 2020-11-15 16:34:39.776894 |    30    |   35  |      0.1       |     100     | (0.87, 0.814)  |\n",
      "| 2020-11-15 16:34:39.777000 | 2020-11-15 16:34:55.679438 |    30    |   35  |      0.1       |     200     | (0.87, 0.814)  |\n",
      "| 2020-11-15 16:34:55.679539 | 2020-11-15 16:35:11.131222 |    30    |   35  |      0.2       |      10     | (0.87, 0.814)  |\n",
      "| 2020-11-15 16:35:11.131326 | 2020-11-15 16:35:26.537574 |    30    |   35  |      0.2       |      25     | (0.871, 0.814) |\n",
      "| 2020-11-15 16:35:26.537676 | 2020-11-15 16:35:41.931851 |    30    |   35  |      0.2       |      50     | (0.87, 0.814)  |\n",
      "| 2020-11-15 16:35:41.931955 | 2020-11-15 16:35:57.674327 |    30    |   35  |      0.2       |     100     | (0.87, 0.814)  |\n",
      "| 2020-11-15 16:35:57.674427 | 2020-11-15 16:36:13.064235 |    30    |   35  |      0.2       |     200     | (0.871, 0.814) |\n",
      "| 2020-11-15 16:36:13.064340 | 2020-11-15 16:36:28.559351 |    30    |   35  |      0.4       |      10     | (0.871, 0.814) |\n",
      "| 2020-11-15 16:36:28.559454 | 2020-11-15 16:36:44.060772 |    30    |   35  |      0.4       |      25     | (0.871, 0.814) |\n",
      "| 2020-11-15 16:36:44.060877 | 2020-11-15 16:36:59.454463 |    30    |   35  |      0.4       |      50     | (0.872, 0.814) |\n",
      "| 2020-11-15 16:36:59.454564 | 2020-11-15 16:37:14.846695 |    30    |   35  |      0.4       |     100     | (0.87, 0.814)  |\n",
      "| 2020-11-15 16:37:14.846796 | 2020-11-15 16:37:30.262759 |    30    |   35  |      0.4       |     200     | (0.871, 0.814) |\n",
      "+----------------------------+----------------------------+----------+-------+----------------+-------------+----------------+\n"
     ]
    }
   ],
   "source": [
    "print(x)"
   ]
  },
  {
   "attachments": {},
   "cell_type": "markdown",
   "metadata": {},
   "source": [
    "Para llevar a cabo el proceso de optimización, se decidió probar los siguientes parámetros: factor [10,20,30], alfa [5,10,15,30,35], regularizacion [0.025,0.05,0.1,0.2,0.4] e iteracion [10,25,50,100,200], obteniendo el mejor modelo con los siguientes parámetros:\n",
    "\n",
    "<style>\n",
    "table {\n",
    "  font-family: arial, sans-serif;\n",
    "  border-collapse: collapse;\n",
    "  width: 100%;\n",
    "}\n",
    "\n",
    "td, th {\n",
    "  border: 1px solid #dddddd;\n",
    "  text-align: left;\n",
    "  padding: 8px;\n",
    "}\n",
    "\n",
    "tr:nth-child(even) {\n",
    "  background-color: #dddddd;\n",
    "}\n",
    "</style>\n",
    "</head>\n",
    "<body>\n",
    "<table>\n",
    "  <tr>\n",
    "    <th>Factores</th>\n",
    "    <th>Alpha</th>\n",
    "    <th>Regularizacion</th>\n",
    "    <th>Iteraciones</th>\n",
    "    <th>Evaluacion</th>\n",
    "  </tr>\n",
    "  <tr>\n",
    "    <td>10</td>\n",
    "    <td>5</td>\n",
    "    <td>0,025</td>\n",
    "    <td>10</td>\n",
    "    <td>0,872</td>\n",
    "  </tr>\n",
    "</table>\n",
    "    \n",
    "Pese a los resultados obtenidos, no se percibe una mejoría representativa entre el modelo con menor desempeño y el de mayor desempeño, máxime si se considera el esfuerzo computacional requerido de alrededor de 2 horas."
   ]
  },
  {
   "cell_type": "markdown",
   "metadata": {},
   "source": [
    "## Comentarios finales\n",
    "\n",
    "Hemos visto cómo diseñar y evaluar un sistema de recomendación con ratings implícitos. En implementaciones de la vida real, si el tamaño de la matriz de ratings es muy grande, puede ser más práctica su implementación en Spark:\n",
    "https://spark.apache.org/docs/latest/mllib-collaborative-filtering.html\n",
    "\n",
    "También se pueden seguir explorando los sistemas de recomendación híbridos, incorporando información propia de los usuarios e items además de su comportamiento de compras. La librería de Python `LightFM` de Maciej Kula permite implementar distintos algoritmos con preferencias implícitas y explícitas:\n",
    "https://making.lyst.com/lightfm/docs/home.html\n",
    "\n",
    "\n",
    "\n",
    "Para los sistemas de recomendación con ratings explícitos podemos usar `SurPRISE`, que estudiaremos las próximas sesiones, o también pueden explorar este blog:\n",
    "\n",
    "*Explicit Matrix Factorization: ALS, SGD, and All That Jazz*, por Ethan Rosenthal\n",
    "    https://www.ethanrosenthal.com/2016/01/09/explicit-matrix-factorization-sgd-als/\n",
    "\n",
    "\n",
    "Finalmente, si buscan datos para la implementación de sistemas de recomendación, pueden explorar el siguiente link: https://gist.github.com/entaroadun/1653794\n",
    "\n",
    "\n",
    "### Reflexion final\n",
    "\n",
    "Pensemos que si bien el sistema no recomienda items que ya han sido comprados, sí puede estar recomendando otra vez el mismo tipo de productos. Por ejemplo, si un usuario compra una lavadora, ¿tiene sentido recomendarle otra lavadora?\n",
    "\n",
    "Hay ciertos productos que se compran solo una vez, y requieren más bien de otros productos complementarios que combinen bien con su uso.\n",
    "\n",
    "Piense en una estrategia para desarrollar un sistema de recomendación que no recomiende siempre productos sustitutos o muy similares entre sí, es decir, productos que cumplan exactamente las mismas funciones que lo que ya han sido adquiridos.\n",
    "\n"
   ]
  },
  {
   "cell_type": "markdown",
   "metadata": {},
   "source": [
    "<strong>R/</strong> Una vez que se implementa el sistema de recomendación, se podría realizar un análisis de filtrado usando variables complementarias tales como la Tipología y vida útil de cada producto. Por ejemplo, si un producto (crema dental, por ejemplo) pertenece a la categoría de artículos de aseo y su vida útil es de 1 mes, se podría nuevamente recomendar un mes después de la última compra.  Por otro lado, para un producto que pertenece a la categoría electrodoméstico y de vida útil 3 años (Televisor, por ejemplo), se podría recomendar pasados tres años de la última compra. La Categoría, adicionalmente podría ser útil para recomendar productos complementarios; así si un cliente compró un Televisor Inteligente, se le podría recomendar una barra de sonido, una suscripción a contenido digital, etc."
   ]
  }
 ],
 "metadata": {
  "kernelspec": {
   "display_name": "Python 3",
   "language": "python",
   "name": "python3"
  },
  "language_info": {
   "codemirror_mode": {
    "name": "ipython",
    "version": 3
   },
   "file_extension": ".py",
   "mimetype": "text/x-python",
   "name": "python",
   "nbconvert_exporter": "python",
   "pygments_lexer": "ipython3",
   "version": "3.8.2"
  }
 },
 "nbformat": 4,
 "nbformat_minor": 4
}
